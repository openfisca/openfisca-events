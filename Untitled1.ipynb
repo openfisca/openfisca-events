{
 "cells": [
  {
   "cell_type": "code",
   "execution_count": 2,
   "metadata": {
    "collapsed": false
   },
   "outputs": [
    {
     "ename": "NameError",
     "evalue": "name 'irpp' is not defined",
     "output_type": "error",
     "traceback": [
      "\u001b[0;31m\u001b[0m",
      "\u001b[0;31mNameError\u001b[0mTraceback (most recent call last)",
      "\u001b[0;32m<ipython-input-2-77a0ed483625>\u001b[0m in \u001b[0;36m<module>\u001b[0;34m()\u001b[0m\n\u001b[1;32m      3\u001b[0m \u001b[0mtax_benefit_system\u001b[0m \u001b[0;34m=\u001b[0m \u001b[0mFranceTaxBenefitSystem\u001b[0m\u001b[0;34m(\u001b[0m\u001b[0;34m)\u001b[0m\u001b[0;34m\u001b[0m\u001b[0m\n\u001b[1;32m      4\u001b[0m \u001b[0;34m\u001b[0m\u001b[0m\n\u001b[0;32m----> 5\u001b[0;31m \u001b[0;32mprint\u001b[0m\u001b[0;34m(\u001b[0m\u001b[0mirpp\u001b[0m\u001b[0;34m(\u001b[0m\u001b[0;36m2015\u001b[0m\u001b[0;34m)\u001b[0m\u001b[0;34m)\u001b[0m\u001b[0;34m;\u001b[0m\u001b[0;34m\u001b[0m\u001b[0m\n\u001b[0m\u001b[1;32m      6\u001b[0m \u001b[0;34m\u001b[0m\u001b[0m\n\u001b[1;32m      7\u001b[0m \u001b[0;34m\u001b[0m\u001b[0m\n",
      "\u001b[0;31mNameError\u001b[0m: name 'irpp' is not defined"
     ]
    }
   ],
   "source": [
    "from openfisca_france import FranceTaxBenefitSystem\n",
    "\n",
    "tax_benefit_system = FranceTaxBenefitSystem()\n",
    "\n",
    "print(irpp(2015));\n",
    "\n",
    "\n",
    "\n"
   ]
  },
  {
   "cell_type": "code",
   "execution_count": 10,
   "metadata": {
    "collapsed": false
   },
   "outputs": [
    {
     "name": "stdout",
     "output_type": "stream",
     "text": [
      "[ 129.99000549]\n"
     ]
    }
   ],
   "source": [
    "import openfisca_france\n",
    "\n",
    "tax_benefit_system = openfisca_france.FranceTaxBenefitSystem()\n",
    "\n",
    "scenario = tax_benefit_system.new_scenario()\n",
    "scenario.init_single_entity(\n",
    "    period = 2015,\n",
    "    parent1 = dict(\n",
    "        age = 25,\n",
    "        salaire_de_base = 1500,\n",
    "        ),\n",
    "    enfants = [\n",
    "        dict(age = 12),\n",
    "        dict(age = 18),\n",
    "        ],\n",
    "    )\n",
    "\n",
    "simulation = scenario.new_simulation()\n",
    "af = simulation.calculate('af', '2015-01')\n",
    "print af\n",
    "\n",
    "\n"
   ]
  },
  {
   "cell_type": "code",
   "execution_count": 5,
   "metadata": {
    "collapsed": false
   },
   "outputs": [
    {
     "name": "stdout",
     "output_type": "stream",
     "text": [
      "irpp@foyers_fiscaux<2014>[0.0]\n",
      "|---> iai@foyers_fiscaux<2014>[0.0]\n",
      "|     |---> iaidrdi@foyers_fiscaux<2014>[0.0]\n",
      "|     |     |---> ip_net@foyers_fiscaux<2014>[0.0]\n",
      "|     |     |---> reductions@foyers_fiscaux<2014>[0.0]\n",
      "|     |---> plus_values@foyers_fiscaux<2014>[0.0]\n",
      "|     |     |---> f3vg@foyers_fiscaux<2014>[0]\n",
      "|     |     |---> f3vh@foyers_fiscaux<2014>[0]\n",
      "|     |     |---> f3vl@foyers_fiscaux<2014>[0]\n",
      "|     |     |---> f3vm@foyers_fiscaux<2014>[0]\n",
      "|     |     |---> f3vi@individus<2014>[0, 0, 0, 0]\n",
      "|     |     |---> f3vf@individus<2014>[0, 0, 0, 0]\n",
      "|     |     |---> f3vd@individus<2014>[0, 0, 0, 0]\n",
      "|     |     |---> f3sa@foyers_fiscaux<2014>[0]\n",
      "|     |     |---> rpns_pvce@individus<2014>[0.0, 0.0, 0.0, 0.0]\n",
      "|     |---> cont_rev_loc@foyers_fiscaux<2014>[0.0]\n",
      "|     |     |---> f4bl@foyers_fiscaux<2014>[0]\n",
      "|     |---> teicaa@foyers_fiscaux<2014>[0.0]\n",
      "|     |     |---> f5qm@individus<2014>[0, 0, 0, 0]\n",
      "|---> credits_impot@foyers_fiscaux<2014>[0.0]\n",
      "|     |---> accult@foyers_fiscaux<2014>[0.0]\n",
      "|     |     |---> f7uo@foyers_fiscaux<2014>[0]\n",
      "|     |---> aidper@foyers_fiscaux<2014>[0.0]\n",
      "|     |     |---> maries_ou_pacses@foyers_fiscaux<2014>[False]\n",
      "|     |     |---> nb_pac2@foyers_fiscaux<2014>[3.0]\n",
      "|     |     |---> f7wj@foyers_fiscaux<2014>[0]\n",
      "|     |     |---> f7wl@foyers_fiscaux<2014>[0]\n",
      "|     |     |---> f7wr@foyers_fiscaux<2014>[0]\n",
      "|     |---> assloy@foyers_fiscaux<2014>[0.0]\n",
      "|     |     |---> f4bf@foyers_fiscaux<2014>[0]\n",
      "|     |---> autent@foyers_fiscaux<2014>[0.0]\n",
      "|     |     |---> f8uy@foyers_fiscaux<2014>[0]\n",
      "|     |---> ci_garext@foyers_fiscaux<2014>[0.0]\n",
      "|     |     |---> f7ga@foyers_fiscaux<2014>[0]\n",
      "|     |     |---> f7gb@foyers_fiscaux<2014>[0]\n",
      "|     |     |---> f7gc@foyers_fiscaux<2014>[0]\n",
      "|     |     |---> f7ge@foyers_fiscaux<2014>[0]\n",
      "|     |     |---> f7gf@foyers_fiscaux<2014>[0]\n",
      "|     |     |---> f7gg@foyers_fiscaux<2014>[0]\n",
      "|     |---> cotsyn@foyers_fiscaux<2014>[0.0]\n",
      "|     |     |---> f7ac@individus<2014>[0, 0, 0, 0]\n",
      "|     |     |---> salaire_imposable@individus<2014>[0.0, 0.0, 0.0, 0.0]\n",
      "|     |     |---> chomage_imposable@individus<2014>[0.0, 0.0, 0.0, 0.0]\n",
      "|     |     |---> retraite_imposable@individus<2014>[0.0, 0.0, 0.0, 0.0]\n",
      "|     |---> creimp@foyers_fiscaux<2014>[0.0]\n",
      "|     |---> direpa@foyers_fiscaux<2014>[0.0]\n",
      "|     |     |---> f2bg@foyers_fiscaux<2014>[0]\n",
      "|     |---> drbail@foyers_fiscaux<2014>[0.0]\n",
      "|     |     |---> f4tq@foyers_fiscaux<2014>[0]\n",
      "|     |---> inthab@foyers_fiscaux<2014>[0.0]\n",
      "|     |---> mecena@foyers_fiscaux<2014>[0.0]\n",
      "|     |     |---> f7us@foyers_fiscaux<2014>[0]\n",
      "|     |---> preetu@foyers_fiscaux<2014>[0.0]\n",
      "|     |     |---> f7uk@foyers_fiscaux<2014>[0]\n",
      "|     |     |---> f7vo@foyers_fiscaux<2014>[0]\n",
      "|     |     |---> f7td@foyers_fiscaux<2014>[0]\n",
      "|     |---> prlire@foyers_fiscaux<2014>[0.0]\n",
      "|     |---> quaenv@foyers_fiscaux<2014>[0.0]\n",
      "|     |---> saldom2@foyers_fiscaux<2014>[0.0]\n",
      "|---> cehr@foyers_fiscaux<2014>[0.0]\n",
      "|     |---> rfr@foyers_fiscaux<2014>[0.0]\n",
      "|     |     |---> rni@foyers_fiscaux<2014>[0.0]\n",
      "|     |     |---> f3va@individus<2014>[0, 0, 0, 0]\n",
      "|     |     |---> f3vi@individus<2014>[0, 0, 0, 0]\n",
      "|     |     |---> rfr_cd@foyers_fiscaux<2014>[0.0]\n",
      "|     |     |---> rfr_rvcm@foyers_fiscaux<2014>[0.0]\n",
      "|     |     |---> rpns_exon@individus<2014>[0.0, 0.0, 0.0, 0.0]\n",
      "|     |     |---> rpns_pvce@individus<2014>[0.0, 0.0, 0.0, 0.0]\n",
      "|     |     |---> rev_cap_lib@foyers_fiscaux<2014>[0.0]\n",
      "|     |     |---> f3vz@foyers_fiscaux<2014>[0]\n",
      "|     |     |---> microentreprise@foyers_fiscaux<2014>[0.0]\n",
      "|     |---> nb_adult@foyers_fiscaux<2014>[1.0]\n",
      "|     |     |---> maries_ou_pacses@foyers_fiscaux<2014>[False]\n",
      "|     |     |---> celibataire_ou_divorce@foyers_fiscaux<2014>[True]\n",
      "|     |     |---> veuf@foyers_fiscaux<2014>[False]\n"
     ]
    },
    {
     "data": {
      "text/plain": [
       "array([ 0.], dtype=float32)"
      ]
     },
     "execution_count": 5,
     "metadata": {},
     "output_type": "execute_result"
    }
   ],
   "source": [
    "\n"
   ]
  },
  {
   "cell_type": "code",
   "execution_count": null,
   "metadata": {
    "collapsed": true
   },
   "outputs": [],
   "source": []
  }
 ],
 "metadata": {
  "kernelspec": {
   "display_name": "Python 2",
   "language": "python",
   "name": "python2"
  },
  "language_info": {
   "codemirror_mode": {
    "name": "ipython",
    "version": 2
   },
   "file_extension": ".py",
   "mimetype": "text/x-python",
   "name": "python",
   "nbconvert_exporter": "python",
   "pygments_lexer": "ipython2",
   "version": "2.7.9"
  }
 },
 "nbformat": 4,
 "nbformat_minor": 1
}
