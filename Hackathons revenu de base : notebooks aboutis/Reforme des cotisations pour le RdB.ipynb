{
 "cells": [
  {
   "cell_type": "markdown",
   "metadata": {},
   "source": [
    "# Plafonnement de l'avantage du quotient conjugal dans le calcul de l'IRPP"
   ]
  },
  {
   "cell_type": "code",
   "execution_count": 51,
   "metadata": {
    "collapsed": false
   },
   "outputs": [],
   "source": [
    "from datetime import date\n",
    "\n",
    "from openfisca_france import init_country\n",
    "from openfisca_france.model.base import *"
   ]
  },
  {
   "cell_type": "markdown",
   "metadata": {},
   "source": [
    "## Adaptation pour faciliter l'usage de ce notebook"
   ]
  },
  {
   "cell_type": "markdown",
   "metadata": {},
   "source": [
    "_Ce correctif permet de redéfinir plusieurs fois la même variable sans provoquer d'erreur._"
   ]
  },
  {
   "cell_type": "markdown",
   "metadata": {},
   "source": [
    "# Variable avec formule"
   ]
  },
  {
   "cell_type": "markdown",
   "metadata": {},
   "source": [
    "# Variable avec différentes formules en fonction de la date"
   ]
  },
  {
   "cell_type": "markdown",
   "metadata": {},
   "source": [
    "# Système socio-fiscal"
   ]
  },
  {
   "cell_type": "code",
   "execution_count": 52,
   "metadata": {
    "collapsed": false
   },
   "outputs": [],
   "source": [
    "TaxBenefitSystem = init_country()\n",
    "tax_benefit_system = TaxBenefitSystem()"
   ]
  },
  {
   "cell_type": "markdown",
   "metadata": {},
   "source": [
    "# Simulation"
   ]
  },
  {
   "cell_type": "code",
   "execution_count": 53,
   "metadata": {
    "collapsed": false
   },
   "outputs": [],
   "source": [
    "# age = 60\n",
    "# ages = [12, 37, 28]\n",
    "\n",
    "# jean_eric = {\n",
    "#     'name': u'Jean-Éric',\n",
    "#     'age': 33,\n",
    "# }\n",
    "# aurelie = dict(\n",
    "#     name = u'Aurélie',\n",
    "#     age = 33,\n",
    "# )\n",
    "\n",
    "# personnes = [aurelie, jean_eric]"
   ]
  },
  {
   "cell_type": "code",
   "execution_count": 54,
   "metadata": {
    "collapsed": false
   },
   "outputs": [],
   "source": [
    "scenario = tax_benefit_system.new_scenario().init_single_entity(\n",
    "    period = 2014,\n",
    "    parent1 = dict(\n",
    "        birth = date(1980, 1, 1),\n",
    "        salaire_de_base = 400000,\n",
    "        statmarit = 5,\n",
    "        ),\n",
    "    parent2 = dict(\n",
    "        birth = date(1980, 1, 1),\n",
    "        salaire_imposable = 0,\n",
    "        ),\n",
    "    enfants = [\n",
    "        ],\n",
    "    )\n",
    "\n",
    "simulation_exemple = scenario.new_simulation(debug = True)"
   ]
  },
  {
   "cell_type": "code",
   "execution_count": 55,
   "metadata": {
    "collapsed": false
   },
   "outputs": [],
   "source": [
    "simulation_exemple2 = tax_benefit_system.new_scenario().init_single_entity(\n",
    "    period = 2014,\n",
    "    parent1 = dict(\n",
    "        birth = date(1980, 1, 1),\n",
    "        salaire_de_base = 400000,\n",
    "        ),\n",
    "    enfants = [\n",
    "        ],\n",
    "    ).new_simulation(debug = True)"
   ]
  },
  {
   "cell_type": "code",
   "execution_count": 56,
   "metadata": {
    "collapsed": false,
    "scrolled": true
   },
   "outputs": [
    {
     "name": "stdout",
     "output_type": "stream",
     "text": [
      "exemple 1 [ 0.] , exemple 2 [-140569.]\n"
     ]
    }
   ],
   "source": [
    "print \"exemple 1\",simulation_exemple.calculate(\"impo\"), \\\n",
    "       \", exemple 2\", simulation_exemple2.calculate(\"impo\")"
   ]
  },
  {
   "cell_type": "code",
   "execution_count": 57,
   "metadata": {
    "collapsed": false
   },
   "outputs": [],
   "source": [
    "scenario = tax_benefit_system.new_scenario().init_single_entity(\n",
    "    period = 2014,\n",
    "    parent1 = dict(\n",
    "        birth = date(1980, 1, 1),\n",
    "        salaire_imposable = 400000,\n",
    "        statmarit = 5,\n",
    "        ),\n",
    "    )\n",
    "\n",
    "simulation_exemple = scenario.new_simulation(debug = True)"
   ]
  },
  {
   "cell_type": "code",
   "execution_count": 58,
   "metadata": {
    "collapsed": true
   },
   "outputs": [],
   "source": [
    "import json\n",
    "import urllib\n",
    "import webbrowser\n",
    "def get_trace_tool_link(scenario, variables, api_url = u'http://api-test.openfisca.fr',\n",
    "        trace_tool_url = u'http://www.openfisca.fr/outils/trace'):\n",
    "    scenario_json = scenario.to_json()\n",
    "    simulation_json = {\n",
    "        'scenarios': [scenario_json],\n",
    "        'variables': variables,\n",
    "        }\n",
    "    url = trace_tool_url + '?' + urllib.urlencode({\n",
    "        'simulation': json.dumps(simulation_json),\n",
    "        'api_url': api_url,\n",
    "        })\n",
    "    return url"
   ]
  },
  {
   "cell_type": "code",
   "execution_count": 59,
   "metadata": {
    "collapsed": false
   },
   "outputs": [
    {
     "name": "stdout",
     "output_type": "stream",
     "text": [
      "http://www.openfisca.fr/outils/trace?api_url=http%3A%2F%2Fapi-test.openfisca.fr&simulation=%7B%22scenarios%22%3A+%5B%7B%22period%22%3A+%222014%22%2C+%22test_case%22%3A+%7B%22familles%22%3A+%5B%7B%22id%22%3A+0%2C+%22parents%22%3A+%5B%22ind0%22%5D%7D%5D%2C+%22foyers_fiscaux%22%3A+%5B%7B%22id%22%3A+0%2C+%22declarants%22%3A+%5B%22ind0%22%5D%7D%5D%2C+%22individus%22%3A+%5B%7B%22id%22%3A+%22ind0%22%2C+%22salaire_imposable%22%3A+400000.0%2C+%22statmarit%22%3A+5%2C+%22birth%22%3A+%221980-01-01%22%7D%5D%2C+%22menages%22%3A+%5B%7B%22id%22%3A+0%2C+%22personne_de_reference%22%3A+%22ind0%22%7D%5D%7D%7D%5D%2C+%22variables%22%3A+%5B%22impo%22%5D%7D\n"
     ]
    }
   ],
   "source": [
    "print get_trace_tool_link(scenario, [\"impo\"])"
   ]
  },
  {
   "cell_type": "markdown",
   "metadata": {},
   "source": [
    "# Réforme"
   ]
  },
  {
   "cell_type": "code",
   "execution_count": 60,
   "metadata": {
    "collapsed": false
   },
   "outputs": [],
   "source": [
    "from openfisca_core import reforms\n",
    "\n",
    "from numpy import (datetime64, logical_and as and_, logical_not as not_, logical_or as or_, logical_xor as xor_,\n",
    "    maximum as max_, minimum as min_, round)"
   ]
  },
  {
   "cell_type": "code",
   "execution_count": 61,
   "metadata": {
    "collapsed": false
   },
   "outputs": [],
   "source": [
    "Reform = reforms.make_reform(\n",
    "    key = 'plafonnement_gain_quotient_conjugal',\n",
    "    name = u\"Réforme des cotisations pour un Revenu de base\",\n",
    "    reference = tax_benefit_system,\n",
    "    )"
   ]
  },
  {
   "cell_type": "code",
   "execution_count": 62,
   "metadata": {
    "collapsed": false
   },
   "outputs": [],
   "source": [
    "class rev_cat_tspr_individuel(Reform.Variable):\n",
    "    column = FloatCol\n",
    "    entity_class = Individus\n",
    "    label = u\"Nouvelles cotisations contributives\"\n",
    "\n",
    "    def function(self, simulation, period):\n",
    "        period = period.start.offset('first-of', 'year').period('year')\n",
    "        tspr = simulation.calculate('tspr', period)\n",
    "        indu_plaf_abat_pen = simulation.calculate('indu_plaf_abat_pen_individuel', period)\n",
    "        return period, tspr + indu_plaf_abat_pen\n",
    "    \n",
    "class indu_plaf_abat_pen_individuel(Reform.Variable):\n",
    "    column = FloatCol(default = 0)\n",
    "    entity_class = Individus\n",
    "    label = u\"indu_plaf_abat_pen\"\n",
    "\n",
    "    def function(self, simulation, period):\n",
    "        \"\"\"\n",
    "        Plafonnement de l'abattement de 10% sur les pensions du foyer\n",
    "        'foy'\n",
    "        \"\"\"\n",
    "        period = period.start.offset('first-of', 'year').period('year')\n",
    "        abatpen = simulation.legislation_at(period.start).ir.tspr.abatpen\n",
    "\n",
    "        pen_net = simulation.calculate('pen_net', period)\n",
    "        rev_pen = simulation.calculate('rev_pen', period)\n",
    "        print type(pen_net)\n",
    "\n",
    "        abat = rev_pen - pen_net\n",
    "        return period, abat - min_(abat, abatpen.max)\n"
   ]
  },
  {
   "cell_type": "code",
   "execution_count": 63,
   "metadata": {
    "collapsed": false
   },
   "outputs": [],
   "source": [
    "class rev_cat_individuel(Reform.Variable):\n",
    "    column = FloatCol(default = 0)\n",
    "    entity_class = Individus\n",
    "    label = u\"Revenus catégoriels\"\n",
    "    url = \"http://www.insee.fr/fr/methodes/default.asp?page=definitions/revenus-categoriesl.htm\"\n",
    "\n",
    "    def function(self, simulation, period):\n",
    "        '''\n",
    "        Revenus Categoriels\n",
    "        '''\n",
    "        period = period.start.offset('first-of', 'year').period('year')\n",
    "        rev_cat_tspr_individuel = simulation.calculate('rev_cat_tspr_individuel', period)\n",
    "       # rev_cat_rvcm = simulation.calculate('rev_cat_rvcm', period)\n",
    "       # rev_cat_rfon = simulation.calculate('rev_cat_rfon', period)\n",
    "       # rev_cat_rpns = simulation.calculate('rev_cat_rpns', period)\n",
    "       # rev_cat_pv = simulation.calculate('rev_cat_pv', period)\n",
    "\n",
    "        return period, rev_cat_tspr_individuel # + rev_cat_rvcm + rev_cat_rfon + rev_cat_rpns + rev_cat_pv TODO :Add everything\n"
   ]
  },
  {
   "cell_type": "code",
   "execution_count": 64,
   "metadata": {
    "collapsed": false
   },
   "outputs": [],
   "source": [
    "class rbg_individuel(Reform.Variable):\n",
    "    column = FloatCol(default = 0)\n",
    "    entity_class = Individus\n",
    "    label = u\"Revenu brut global\"\n",
    "    url = \"http://www.documentissime.fr/dossiers-droit-pratique/dossier-19-l-impot-sur-le-revenu-les-modalites-generales-d-imposition/la-determination-du-revenu-imposable/le-revenu-brut-global.html\"\n",
    "\n",
    "    def function(self, simulation, period):\n",
    "        '''Revenu brut global\n",
    "        '''\n",
    "        period = period.start.offset('first-of', 'year').period('year')\n",
    "        rev_cat_individuel = simulation.calculate('rev_cat_individuel', period)\n",
    "       # deficit_ante = simulation.calculate('deficit_ante', period)\n",
    "      #  f6gh = simulation.calculate('f6gh', period)\n",
    "        #nbic_impm_individuel = simulation.calculate('nbic_impm', period)\n",
    "        #nacc_pvce_individuel = simulation.calculate('nacc_pvce', period)\n",
    "        cga = simulation.legislation_at(period.start).ir.rpns.cga_taux2\n",
    "\n",
    "        # (Total 17)\n",
    "        # sans les revenus au quotient\n",
    "        #nacc_pvce = self.sum_by_entity(nacc_pvce_holder)\n",
    "        return period, max_(0, rev_cat_individuel) # + f6gh + nbic_impm_individuel + nacc_pvce) * (1 + cga) - deficit_ante\n"
   ]
  },
  {
   "cell_type": "code",
   "execution_count": 65,
   "metadata": {
    "collapsed": false
   },
   "outputs": [],
   "source": [
    "class rng_individuel(Reform.Variable):\n",
    "    column = FloatCol(default = 0)\n",
    "    entity_class = Individus\n",
    "    label = u\"Revenu net global\"\n",
    "    url = \"http://impotsurlerevenu.org/definitions/114-revenu-net-global.php\"\n",
    "\n",
    "    def function(self, simulation, period):\n",
    "        ''' Revenu net global (total 20) '''\n",
    "        period = period.start.offset('first-of', 'year').period('year')\n",
    "        rbg_individuel = simulation.calculate('rbg_individuel', period)\n",
    "        csg_deduc = simulation.calculate('csg_deduc', period)\n",
    "        #print csg_deduc  #TODO : CHeck that, why is it a Foyer size ?\n",
    "        charges_deduc = simulation.calculate('charges_deduc', period)\n",
    "\n",
    "        return period, max_(0, rbg_individuel - csg_deduc - charges_deduc)\n"
   ]
  },
  {
   "cell_type": "code",
   "execution_count": 66,
   "metadata": {
    "collapsed": false
   },
   "outputs": [],
   "source": [
    "class rni_individuel(Reform.Variable):\n",
    "    column = FloatCol(default = 0)\n",
    "    entity_class = Individus\n",
    "    label = u\"Revenu net imposable\"\n",
    "    url = \"http://impotsurlerevenu.org/definitions/115-revenu-net-imposable.php\"\n",
    "\n",
    "    def function(self, simulation, period):\n",
    "        ''' Revenu net imposable ou déficit à reporter'''\n",
    "        period = period.start.offset('first-of', 'year').period('year')\n",
    "        rng_individuel = simulation.calculate('rng_individuel', period)\n",
    "        #abat_spe = simulation.calculate('abat_spe', period)\n",
    "\n",
    "        return period, rng_individuel #- abat_spe"
   ]
  },
  {
   "cell_type": "code",
   "execution_count": 67,
   "metadata": {
    "collapsed": false
   },
   "outputs": [],
   "source": [
    "class ir_brut_individuel(Reform.Variable):\n",
    "    column = FloatCol(default = 0)\n",
    "    entity_class = Individus\n",
    "    label = u\"Impot sur le revenu brut avant non imposabilité et plafonnement du quotient\"\n",
    "\n",
    "    def function(self, simulation, period):\n",
    "        period = period.start.offset('first-of', 'month').period('year')\n",
    "        nbptr_holder = simulation.compute('nbptr', period)\n",
    "        nbptr_individualise = self.cast_from_entity_to_roles(nbptr_holder)\n",
    "        nb_adult = simulation.calculate('nb_adult', period)\n",
    "        nbptr_individuel = nbptr_individualise * (nb_adult == 1) + (nbptr_individualise/2) * (nb_adult == 2)    \n",
    "        taux_effectif = simulation.calculate('taux_effectif', period)\n",
    "        rni_individuel = simulation.calculate('rni_individuel', period)\n",
    "        bareme = simulation.legislation_at(period.start).ir.bareme\n",
    "\n",
    "        return period, (taux_effectif == 0) * nbptr_individuel * bareme.calc(rni_individuel / nbptr_individualise) + \\\n",
    "                        taux_effectif * rni_individuel"
   ]
  },
  {
   "cell_type": "code",
   "execution_count": 68,
   "metadata": {
    "collapsed": false
   },
   "outputs": [],
   "source": [
    "class ir_qf_conjugual_plafonne_revenu_de_base(Reform.Variable):\n",
    "    column = FloatCol(default = 0)\n",
    "    entity_class = FoyersFiscaux\n",
    "    label = u\"\"\n",
    "\n",
    "    def function(self, simulation, period):\n",
    "        period = period.start.offset('first-of', 'month').period('year')\n",
    "        seuil = 6032\n",
    "        ir_brut = simulation.calculate('ir_brut', period)\n",
    "        ir_brut_individuel_holder = simulation.compute('ir_brut_individuel', period)\n",
    "        ir_indivudel_somme = self.sum_by_entity(ir_brut_individuel_holder)\n",
    "        ir_qf_conj_plaf = max_(ir_indivudel_somme- seuil, ir_brut )\n",
    "        return period, ir_qf_conj_plaf\n",
    "        "
   ]
  },
  {
   "cell_type": "code",
   "execution_count": 69,
   "metadata": {
    "collapsed": true
   },
   "outputs": [],
   "source": [
    "reform = Reform()"
   ]
  },
  {
   "cell_type": "code",
   "execution_count": 70,
   "metadata": {
    "collapsed": false
   },
   "outputs": [],
   "source": [
    "reform_simulation =  reform.new_scenario().init_single_entity(\n",
    "                                                                period = 2014,\n",
    "                                                                parent1 = dict(\n",
    "                                                                    birth = date(1980, 1, 1),\n",
    "                                                                    salaire_imposable = 400000,\n",
    "                                                                    ),\n",
    "                                                                parent2 = dict(\n",
    "                                                                    birth = date(1980, 1, 1),\n",
    "                                                                    salaire_imposable = 100000,\n",
    "                                                                    ),\n",
    "                                                                enfants = [\n",
    "                                                                    ],\n",
    "                                                                ).new_simulation(debug = True)"
   ]
  },
  {
   "cell_type": "code",
   "execution_count": 71,
   "metadata": {
    "collapsed": false
   },
   "outputs": [
    {
     "name": "stdout",
     "output_type": "stream",
     "text": [
      "<type 'numpy.ndarray'>\n",
      "[ 195419.328125]\n"
     ]
    }
   ],
   "source": [
    "print reform_simulation.calculate('ir_qf_conjugual_plafonne_revenu_de_base')\n"
   ]
  },
  {
   "cell_type": "code",
   "execution_count": 72,
   "metadata": {
    "collapsed": false
   },
   "outputs": [
    {
     "data": {
      "text/plain": [
       "array([-397673.9375], dtype=float32)"
      ]
     },
     "execution_count": 72,
     "metadata": {},
     "output_type": "execute_result"
    }
   ],
   "source": [
    "reform_simulation.calculate('irpp') - reform_simulation.calculate('ir_qf_conjugual_plafonne_revenu_de_base')"
   ]
  },
  {
   "cell_type": "code",
   "execution_count": 73,
   "metadata": {
    "collapsed": false
   },
   "outputs": [
    {
     "data": {
      "text/plain": [
       "array([ 387843.,   90000.], dtype=float32)"
      ]
     },
     "execution_count": 73,
     "metadata": {},
     "output_type": "execute_result"
    }
   ],
   "source": [
    "reform_simulation.calculate('rev_cat_individuel')"
   ]
  },
  {
   "cell_type": "code",
   "execution_count": 74,
   "metadata": {
    "collapsed": false
   },
   "outputs": [
    {
     "ename": "KeyError",
     "evalue": "'cotisations_contributives'",
     "output_type": "error",
     "traceback": [
      "\u001b[1;31m---------------------------------------------------------------------------\u001b[0m",
      "\u001b[1;31mKeyError\u001b[0m                                  Traceback (most recent call last)",
      "\u001b[1;32m<ipython-input-74-c56b25471fe0>\u001b[0m in \u001b[0;36m<module>\u001b[1;34m()\u001b[0m\n\u001b[1;32m----> 1\u001b[1;33m \u001b[0mreform_simulation\u001b[0m\u001b[1;33m.\u001b[0m\u001b[0mcalculate\u001b[0m\u001b[1;33m(\u001b[0m\u001b[1;34m'cotisations_contributives'\u001b[0m\u001b[1;33m)\u001b[0m\u001b[1;33m\u001b[0m\u001b[0m\n\u001b[0m",
      "\u001b[1;32m/home/openfisca/openfisca-core/openfisca_core/simulations.pyc\u001b[0m in \u001b[0;36mcalculate\u001b[1;34m(self, column_name, period, **parameters)\u001b[0m\n\u001b[0;32m     74\u001b[0m         \u001b[1;32mif\u001b[0m \u001b[0mperiod\u001b[0m \u001b[1;32mis\u001b[0m \u001b[0mNone\u001b[0m\u001b[1;33m:\u001b[0m\u001b[1;33m\u001b[0m\u001b[0m\n\u001b[0;32m     75\u001b[0m             \u001b[0mperiod\u001b[0m \u001b[1;33m=\u001b[0m \u001b[0mself\u001b[0m\u001b[1;33m.\u001b[0m\u001b[0mperiod\u001b[0m\u001b[1;33m\u001b[0m\u001b[0m\n\u001b[1;32m---> 76\u001b[1;33m         \u001b[1;32mreturn\u001b[0m \u001b[0mself\u001b[0m\u001b[1;33m.\u001b[0m\u001b[0mcompute\u001b[0m\u001b[1;33m(\u001b[0m\u001b[0mcolumn_name\u001b[0m\u001b[1;33m,\u001b[0m \u001b[0mperiod\u001b[0m \u001b[1;33m=\u001b[0m \u001b[0mperiod\u001b[0m\u001b[1;33m,\u001b[0m \u001b[1;33m**\u001b[0m\u001b[0mparameters\u001b[0m\u001b[1;33m)\u001b[0m\u001b[1;33m.\u001b[0m\u001b[0marray\u001b[0m\u001b[1;33m\u001b[0m\u001b[0m\n\u001b[0m\u001b[0;32m     77\u001b[0m \u001b[1;33m\u001b[0m\u001b[0m\n\u001b[0;32m     78\u001b[0m     \u001b[1;32mdef\u001b[0m \u001b[0mcalculate_add\u001b[0m\u001b[1;33m(\u001b[0m\u001b[0mself\u001b[0m\u001b[1;33m,\u001b[0m \u001b[0mcolumn_name\u001b[0m\u001b[1;33m,\u001b[0m \u001b[0mperiod\u001b[0m \u001b[1;33m=\u001b[0m \u001b[0mNone\u001b[0m\u001b[1;33m,\u001b[0m \u001b[1;33m**\u001b[0m\u001b[0mparameters\u001b[0m\u001b[1;33m)\u001b[0m\u001b[1;33m:\u001b[0m\u001b[1;33m\u001b[0m\u001b[0m\n",
      "\u001b[1;32m/home/openfisca/openfisca-core/openfisca_core/simulations.pyc\u001b[0m in \u001b[0;36mcompute\u001b[1;34m(self, column_name, period, **parameters)\u001b[0m\n\u001b[0;32m    154\u001b[0m             \u001b[1;32mif\u001b[0m \u001b[0mvariable_infos\u001b[0m \u001b[1;32mnot\u001b[0m \u001b[1;32min\u001b[0m \u001b[0mcaller_input_variables_infos\u001b[0m\u001b[1;33m:\u001b[0m\u001b[1;33m\u001b[0m\u001b[0m\n\u001b[0;32m    155\u001b[0m                 \u001b[0mcaller_input_variables_infos\u001b[0m\u001b[1;33m.\u001b[0m\u001b[0mappend\u001b[0m\u001b[1;33m(\u001b[0m\u001b[0mvariable_infos\u001b[0m\u001b[1;33m)\u001b[0m\u001b[1;33m\u001b[0m\u001b[0m\n\u001b[1;32m--> 156\u001b[1;33m         \u001b[0mholder\u001b[0m \u001b[1;33m=\u001b[0m \u001b[0mself\u001b[0m\u001b[1;33m.\u001b[0m\u001b[0mget_or_new_holder\u001b[0m\u001b[1;33m(\u001b[0m\u001b[0mcolumn_name\u001b[0m\u001b[1;33m)\u001b[0m\u001b[1;33m\u001b[0m\u001b[0m\n\u001b[0m\u001b[0;32m    157\u001b[0m         \u001b[1;32mreturn\u001b[0m \u001b[0mholder\u001b[0m\u001b[1;33m.\u001b[0m\u001b[0mcompute\u001b[0m\u001b[1;33m(\u001b[0m\u001b[0mperiod\u001b[0m \u001b[1;33m=\u001b[0m \u001b[0mperiod\u001b[0m\u001b[1;33m,\u001b[0m \u001b[1;33m**\u001b[0m\u001b[0mparameters\u001b[0m\u001b[1;33m)\u001b[0m\u001b[1;33m\u001b[0m\u001b[0m\n\u001b[0;32m    158\u001b[0m \u001b[1;33m\u001b[0m\u001b[0m\n",
      "\u001b[1;32m/home/openfisca/openfisca-core/openfisca_core/simulations.pyc\u001b[0m in \u001b[0;36mget_or_new_holder\u001b[1;34m(self, column_name)\u001b[0m\n\u001b[0;32m    229\u001b[0m     \u001b[1;32mdef\u001b[0m \u001b[0mget_or_new_holder\u001b[0m\u001b[1;33m(\u001b[0m\u001b[0mself\u001b[0m\u001b[1;33m,\u001b[0m \u001b[0mcolumn_name\u001b[0m\u001b[1;33m)\u001b[0m\u001b[1;33m:\u001b[0m\u001b[1;33m\u001b[0m\u001b[0m\n\u001b[0;32m    230\u001b[0m         \u001b[0mholder\u001b[0m \u001b[1;33m=\u001b[0m \u001b[0mself\u001b[0m\u001b[1;33m.\u001b[0m\u001b[0mholder_by_name\u001b[0m\u001b[1;33m.\u001b[0m\u001b[0mget\u001b[0m\u001b[1;33m(\u001b[0m\u001b[0mcolumn_name\u001b[0m\u001b[1;33m)\u001b[0m\u001b[1;33m\u001b[0m\u001b[0m\n\u001b[1;32m--> 231\u001b[1;33m         \u001b[0mentity\u001b[0m \u001b[1;33m=\u001b[0m \u001b[0mself\u001b[0m\u001b[1;33m.\u001b[0m\u001b[0mentity_by_column_name\u001b[0m\u001b[1;33m[\u001b[0m\u001b[0mcolumn_name\u001b[0m\u001b[1;33m]\u001b[0m\u001b[1;33m\u001b[0m\u001b[0m\n\u001b[0m\u001b[0;32m    232\u001b[0m         \u001b[1;32mif\u001b[0m \u001b[0mholder\u001b[0m \u001b[1;32mis\u001b[0m \u001b[0mNone\u001b[0m\u001b[1;33m:\u001b[0m\u001b[1;33m\u001b[0m\u001b[0m\n\u001b[0;32m    233\u001b[0m             \u001b[0mcolumn\u001b[0m \u001b[1;33m=\u001b[0m \u001b[0mentity\u001b[0m\u001b[1;33m.\u001b[0m\u001b[0mcolumn_by_name\u001b[0m\u001b[1;33m[\u001b[0m\u001b[0mcolumn_name\u001b[0m\u001b[1;33m]\u001b[0m\u001b[1;33m\u001b[0m\u001b[0m\n",
      "\u001b[1;31mKeyError\u001b[0m: 'cotisations_contributives'"
     ]
    }
   ],
   "source": [
    "reform_simulation.calculate('cotisations_contributives')"
   ]
  },
  {
   "cell_type": "code",
   "execution_count": 75,
   "metadata": {
    "collapsed": false
   },
   "outputs": [
    {
     "ename": "KeyError",
     "evalue": "'nouv_salbrut'",
     "output_type": "error",
     "traceback": [
      "\u001b[1;31m---------------------------------------------------------------------------\u001b[0m",
      "\u001b[1;31mKeyError\u001b[0m                                  Traceback (most recent call last)",
      "\u001b[1;32m<ipython-input-75-8adbc8cbb2fd>\u001b[0m in \u001b[0;36m<module>\u001b[1;34m()\u001b[0m\n\u001b[1;32m----> 1\u001b[1;33m \u001b[0mreform_simulation\u001b[0m\u001b[1;33m.\u001b[0m\u001b[0mcalculate_add\u001b[0m\u001b[1;33m(\u001b[0m\u001b[1;34m'nouv_salbrut'\u001b[0m\u001b[1;33m)\u001b[0m\u001b[1;33m\u001b[0m\u001b[0m\n\u001b[0m",
      "\u001b[1;32m/home/openfisca/openfisca-core/openfisca_core/simulations.pyc\u001b[0m in \u001b[0;36mcalculate_add\u001b[1;34m(self, column_name, period, **parameters)\u001b[0m\n\u001b[0;32m     79\u001b[0m         \u001b[1;32mif\u001b[0m \u001b[0mperiod\u001b[0m \u001b[1;32mis\u001b[0m \u001b[0mNone\u001b[0m\u001b[1;33m:\u001b[0m\u001b[1;33m\u001b[0m\u001b[0m\n\u001b[0;32m     80\u001b[0m             \u001b[0mperiod\u001b[0m \u001b[1;33m=\u001b[0m \u001b[0mself\u001b[0m\u001b[1;33m.\u001b[0m\u001b[0mperiod\u001b[0m\u001b[1;33m\u001b[0m\u001b[0m\n\u001b[1;32m---> 81\u001b[1;33m         \u001b[1;32mreturn\u001b[0m \u001b[0mself\u001b[0m\u001b[1;33m.\u001b[0m\u001b[0mcompute_add\u001b[0m\u001b[1;33m(\u001b[0m\u001b[0mcolumn_name\u001b[0m\u001b[1;33m,\u001b[0m \u001b[0mperiod\u001b[0m \u001b[1;33m=\u001b[0m \u001b[0mperiod\u001b[0m\u001b[1;33m,\u001b[0m \u001b[1;33m**\u001b[0m\u001b[0mparameters\u001b[0m\u001b[1;33m)\u001b[0m\u001b[1;33m.\u001b[0m\u001b[0marray\u001b[0m\u001b[1;33m\u001b[0m\u001b[0m\n\u001b[0m\u001b[0;32m     82\u001b[0m \u001b[1;33m\u001b[0m\u001b[0m\n\u001b[0;32m     83\u001b[0m     \u001b[1;32mdef\u001b[0m \u001b[0mcalculate_add_divide\u001b[0m\u001b[1;33m(\u001b[0m\u001b[0mself\u001b[0m\u001b[1;33m,\u001b[0m \u001b[0mcolumn_name\u001b[0m\u001b[1;33m,\u001b[0m \u001b[0mperiod\u001b[0m \u001b[1;33m=\u001b[0m \u001b[0mNone\u001b[0m\u001b[1;33m,\u001b[0m \u001b[1;33m**\u001b[0m\u001b[0mparameters\u001b[0m\u001b[1;33m)\u001b[0m\u001b[1;33m:\u001b[0m\u001b[1;33m\u001b[0m\u001b[0m\n",
      "\u001b[1;32m/home/openfisca/openfisca-core/openfisca_core/simulations.pyc\u001b[0m in \u001b[0;36mcompute_add\u001b[1;34m(self, column_name, period, **parameters)\u001b[0m\n\u001b[0;32m    168\u001b[0m             \u001b[1;32mif\u001b[0m \u001b[0mvariable_infos\u001b[0m \u001b[1;32mnot\u001b[0m \u001b[1;32min\u001b[0m \u001b[0mcaller_input_variables_infos\u001b[0m\u001b[1;33m:\u001b[0m\u001b[1;33m\u001b[0m\u001b[0m\n\u001b[0;32m    169\u001b[0m                 \u001b[0mcaller_input_variables_infos\u001b[0m\u001b[1;33m.\u001b[0m\u001b[0mappend\u001b[0m\u001b[1;33m(\u001b[0m\u001b[0mvariable_infos\u001b[0m\u001b[1;33m)\u001b[0m\u001b[1;33m\u001b[0m\u001b[0m\n\u001b[1;32m--> 170\u001b[1;33m         \u001b[0mholder\u001b[0m \u001b[1;33m=\u001b[0m \u001b[0mself\u001b[0m\u001b[1;33m.\u001b[0m\u001b[0mget_or_new_holder\u001b[0m\u001b[1;33m(\u001b[0m\u001b[0mcolumn_name\u001b[0m\u001b[1;33m)\u001b[0m\u001b[1;33m\u001b[0m\u001b[0m\n\u001b[0m\u001b[0;32m    171\u001b[0m         \u001b[1;32mreturn\u001b[0m \u001b[0mholder\u001b[0m\u001b[1;33m.\u001b[0m\u001b[0mcompute_add\u001b[0m\u001b[1;33m(\u001b[0m\u001b[0mperiod\u001b[0m \u001b[1;33m=\u001b[0m \u001b[0mperiod\u001b[0m\u001b[1;33m,\u001b[0m \u001b[1;33m**\u001b[0m\u001b[0mparameters\u001b[0m\u001b[1;33m)\u001b[0m\u001b[1;33m\u001b[0m\u001b[0m\n\u001b[0;32m    172\u001b[0m \u001b[1;33m\u001b[0m\u001b[0m\n",
      "\u001b[1;32m/home/openfisca/openfisca-core/openfisca_core/simulations.pyc\u001b[0m in \u001b[0;36mget_or_new_holder\u001b[1;34m(self, column_name)\u001b[0m\n\u001b[0;32m    229\u001b[0m     \u001b[1;32mdef\u001b[0m \u001b[0mget_or_new_holder\u001b[0m\u001b[1;33m(\u001b[0m\u001b[0mself\u001b[0m\u001b[1;33m,\u001b[0m \u001b[0mcolumn_name\u001b[0m\u001b[1;33m)\u001b[0m\u001b[1;33m:\u001b[0m\u001b[1;33m\u001b[0m\u001b[0m\n\u001b[0;32m    230\u001b[0m         \u001b[0mholder\u001b[0m \u001b[1;33m=\u001b[0m \u001b[0mself\u001b[0m\u001b[1;33m.\u001b[0m\u001b[0mholder_by_name\u001b[0m\u001b[1;33m.\u001b[0m\u001b[0mget\u001b[0m\u001b[1;33m(\u001b[0m\u001b[0mcolumn_name\u001b[0m\u001b[1;33m)\u001b[0m\u001b[1;33m\u001b[0m\u001b[0m\n\u001b[1;32m--> 231\u001b[1;33m         \u001b[0mentity\u001b[0m \u001b[1;33m=\u001b[0m \u001b[0mself\u001b[0m\u001b[1;33m.\u001b[0m\u001b[0mentity_by_column_name\u001b[0m\u001b[1;33m[\u001b[0m\u001b[0mcolumn_name\u001b[0m\u001b[1;33m]\u001b[0m\u001b[1;33m\u001b[0m\u001b[0m\n\u001b[0m\u001b[0;32m    232\u001b[0m         \u001b[1;32mif\u001b[0m \u001b[0mholder\u001b[0m \u001b[1;32mis\u001b[0m \u001b[0mNone\u001b[0m\u001b[1;33m:\u001b[0m\u001b[1;33m\u001b[0m\u001b[0m\n\u001b[0;32m    233\u001b[0m             \u001b[0mcolumn\u001b[0m \u001b[1;33m=\u001b[0m \u001b[0mentity\u001b[0m\u001b[1;33m.\u001b[0m\u001b[0mcolumn_by_name\u001b[0m\u001b[1;33m[\u001b[0m\u001b[0mcolumn_name\u001b[0m\u001b[1;33m]\u001b[0m\u001b[1;33m\u001b[0m\u001b[0m\n",
      "\u001b[1;31mKeyError\u001b[0m: 'nouv_salbrut'"
     ]
    }
   ],
   "source": [
    "reform_simulation.calculate_add('nouv_salbrut')"
   ]
  },
  {
   "cell_type": "code",
   "execution_count": 76,
   "metadata": {
    "collapsed": false
   },
   "outputs": [
    {
     "ename": "KeyError",
     "evalue": "'salbrut'",
     "output_type": "error",
     "traceback": [
      "\u001b[1;31m---------------------------------------------------------------------------\u001b[0m",
      "\u001b[1;31mKeyError\u001b[0m                                  Traceback (most recent call last)",
      "\u001b[1;32m<ipython-input-76-f415b040beea>\u001b[0m in \u001b[0;36m<module>\u001b[1;34m()\u001b[0m\n\u001b[1;32m----> 1\u001b[1;33m \u001b[0mreform_simulation\u001b[0m\u001b[1;33m.\u001b[0m\u001b[0mcalculate\u001b[0m\u001b[1;33m(\u001b[0m\u001b[1;34m'salbrut'\u001b[0m\u001b[1;33m)\u001b[0m\u001b[1;33m\u001b[0m\u001b[0m\n\u001b[0m",
      "\u001b[1;32m/home/openfisca/openfisca-core/openfisca_core/simulations.pyc\u001b[0m in \u001b[0;36mcalculate\u001b[1;34m(self, column_name, period, **parameters)\u001b[0m\n\u001b[0;32m     74\u001b[0m         \u001b[1;32mif\u001b[0m \u001b[0mperiod\u001b[0m \u001b[1;32mis\u001b[0m \u001b[0mNone\u001b[0m\u001b[1;33m:\u001b[0m\u001b[1;33m\u001b[0m\u001b[0m\n\u001b[0;32m     75\u001b[0m             \u001b[0mperiod\u001b[0m \u001b[1;33m=\u001b[0m \u001b[0mself\u001b[0m\u001b[1;33m.\u001b[0m\u001b[0mperiod\u001b[0m\u001b[1;33m\u001b[0m\u001b[0m\n\u001b[1;32m---> 76\u001b[1;33m         \u001b[1;32mreturn\u001b[0m \u001b[0mself\u001b[0m\u001b[1;33m.\u001b[0m\u001b[0mcompute\u001b[0m\u001b[1;33m(\u001b[0m\u001b[0mcolumn_name\u001b[0m\u001b[1;33m,\u001b[0m \u001b[0mperiod\u001b[0m \u001b[1;33m=\u001b[0m \u001b[0mperiod\u001b[0m\u001b[1;33m,\u001b[0m \u001b[1;33m**\u001b[0m\u001b[0mparameters\u001b[0m\u001b[1;33m)\u001b[0m\u001b[1;33m.\u001b[0m\u001b[0marray\u001b[0m\u001b[1;33m\u001b[0m\u001b[0m\n\u001b[0m\u001b[0;32m     77\u001b[0m \u001b[1;33m\u001b[0m\u001b[0m\n\u001b[0;32m     78\u001b[0m     \u001b[1;32mdef\u001b[0m \u001b[0mcalculate_add\u001b[0m\u001b[1;33m(\u001b[0m\u001b[0mself\u001b[0m\u001b[1;33m,\u001b[0m \u001b[0mcolumn_name\u001b[0m\u001b[1;33m,\u001b[0m \u001b[0mperiod\u001b[0m \u001b[1;33m=\u001b[0m \u001b[0mNone\u001b[0m\u001b[1;33m,\u001b[0m \u001b[1;33m**\u001b[0m\u001b[0mparameters\u001b[0m\u001b[1;33m)\u001b[0m\u001b[1;33m:\u001b[0m\u001b[1;33m\u001b[0m\u001b[0m\n",
      "\u001b[1;32m/home/openfisca/openfisca-core/openfisca_core/simulations.pyc\u001b[0m in \u001b[0;36mcompute\u001b[1;34m(self, column_name, period, **parameters)\u001b[0m\n\u001b[0;32m    154\u001b[0m             \u001b[1;32mif\u001b[0m \u001b[0mvariable_infos\u001b[0m \u001b[1;32mnot\u001b[0m \u001b[1;32min\u001b[0m \u001b[0mcaller_input_variables_infos\u001b[0m\u001b[1;33m:\u001b[0m\u001b[1;33m\u001b[0m\u001b[0m\n\u001b[0;32m    155\u001b[0m                 \u001b[0mcaller_input_variables_infos\u001b[0m\u001b[1;33m.\u001b[0m\u001b[0mappend\u001b[0m\u001b[1;33m(\u001b[0m\u001b[0mvariable_infos\u001b[0m\u001b[1;33m)\u001b[0m\u001b[1;33m\u001b[0m\u001b[0m\n\u001b[1;32m--> 156\u001b[1;33m         \u001b[0mholder\u001b[0m \u001b[1;33m=\u001b[0m \u001b[0mself\u001b[0m\u001b[1;33m.\u001b[0m\u001b[0mget_or_new_holder\u001b[0m\u001b[1;33m(\u001b[0m\u001b[0mcolumn_name\u001b[0m\u001b[1;33m)\u001b[0m\u001b[1;33m\u001b[0m\u001b[0m\n\u001b[0m\u001b[0;32m    157\u001b[0m         \u001b[1;32mreturn\u001b[0m \u001b[0mholder\u001b[0m\u001b[1;33m.\u001b[0m\u001b[0mcompute\u001b[0m\u001b[1;33m(\u001b[0m\u001b[0mperiod\u001b[0m \u001b[1;33m=\u001b[0m \u001b[0mperiod\u001b[0m\u001b[1;33m,\u001b[0m \u001b[1;33m**\u001b[0m\u001b[0mparameters\u001b[0m\u001b[1;33m)\u001b[0m\u001b[1;33m\u001b[0m\u001b[0m\n\u001b[0;32m    158\u001b[0m \u001b[1;33m\u001b[0m\u001b[0m\n",
      "\u001b[1;32m/home/openfisca/openfisca-core/openfisca_core/simulations.pyc\u001b[0m in \u001b[0;36mget_or_new_holder\u001b[1;34m(self, column_name)\u001b[0m\n\u001b[0;32m    229\u001b[0m     \u001b[1;32mdef\u001b[0m \u001b[0mget_or_new_holder\u001b[0m\u001b[1;33m(\u001b[0m\u001b[0mself\u001b[0m\u001b[1;33m,\u001b[0m \u001b[0mcolumn_name\u001b[0m\u001b[1;33m)\u001b[0m\u001b[1;33m:\u001b[0m\u001b[1;33m\u001b[0m\u001b[0m\n\u001b[0;32m    230\u001b[0m         \u001b[0mholder\u001b[0m \u001b[1;33m=\u001b[0m \u001b[0mself\u001b[0m\u001b[1;33m.\u001b[0m\u001b[0mholder_by_name\u001b[0m\u001b[1;33m.\u001b[0m\u001b[0mget\u001b[0m\u001b[1;33m(\u001b[0m\u001b[0mcolumn_name\u001b[0m\u001b[1;33m)\u001b[0m\u001b[1;33m\u001b[0m\u001b[0m\n\u001b[1;32m--> 231\u001b[1;33m         \u001b[0mentity\u001b[0m \u001b[1;33m=\u001b[0m \u001b[0mself\u001b[0m\u001b[1;33m.\u001b[0m\u001b[0mentity_by_column_name\u001b[0m\u001b[1;33m[\u001b[0m\u001b[0mcolumn_name\u001b[0m\u001b[1;33m]\u001b[0m\u001b[1;33m\u001b[0m\u001b[0m\n\u001b[0m\u001b[0;32m    232\u001b[0m         \u001b[1;32mif\u001b[0m \u001b[0mholder\u001b[0m \u001b[1;32mis\u001b[0m \u001b[0mNone\u001b[0m\u001b[1;33m:\u001b[0m\u001b[1;33m\u001b[0m\u001b[0m\n\u001b[0;32m    233\u001b[0m             \u001b[0mcolumn\u001b[0m \u001b[1;33m=\u001b[0m \u001b[0mentity\u001b[0m\u001b[1;33m.\u001b[0m\u001b[0mcolumn_by_name\u001b[0m\u001b[1;33m[\u001b[0m\u001b[0mcolumn_name\u001b[0m\u001b[1;33m]\u001b[0m\u001b[1;33m\u001b[0m\u001b[0m\n",
      "\u001b[1;31mKeyError\u001b[0m: 'salbrut'"
     ]
    }
   ],
   "source": [
    "reform_simulation.calculate('salbrut')"
   ]
  },
  {
   "cell_type": "code",
   "execution_count": 77,
   "metadata": {
    "collapsed": false
   },
   "outputs": [
    {
     "ename": "KeyError",
     "evalue": "'salnet'",
     "output_type": "error",
     "traceback": [
      "\u001b[1;31m---------------------------------------------------------------------------\u001b[0m",
      "\u001b[1;31mKeyError\u001b[0m                                  Traceback (most recent call last)",
      "\u001b[1;32m<ipython-input-77-d22f98d7cee6>\u001b[0m in \u001b[0;36m<module>\u001b[1;34m()\u001b[0m\n\u001b[1;32m----> 1\u001b[1;33m \u001b[0mreform_simulation\u001b[0m\u001b[1;33m.\u001b[0m\u001b[0mcalculate\u001b[0m\u001b[1;33m(\u001b[0m\u001b[1;34m'salnet'\u001b[0m\u001b[1;33m)\u001b[0m\u001b[1;33m\u001b[0m\u001b[0m\n\u001b[0m",
      "\u001b[1;32m/home/openfisca/openfisca-core/openfisca_core/simulations.pyc\u001b[0m in \u001b[0;36mcalculate\u001b[1;34m(self, column_name, period, **parameters)\u001b[0m\n\u001b[0;32m     74\u001b[0m         \u001b[1;32mif\u001b[0m \u001b[0mperiod\u001b[0m \u001b[1;32mis\u001b[0m \u001b[0mNone\u001b[0m\u001b[1;33m:\u001b[0m\u001b[1;33m\u001b[0m\u001b[0m\n\u001b[0;32m     75\u001b[0m             \u001b[0mperiod\u001b[0m \u001b[1;33m=\u001b[0m \u001b[0mself\u001b[0m\u001b[1;33m.\u001b[0m\u001b[0mperiod\u001b[0m\u001b[1;33m\u001b[0m\u001b[0m\n\u001b[1;32m---> 76\u001b[1;33m         \u001b[1;32mreturn\u001b[0m \u001b[0mself\u001b[0m\u001b[1;33m.\u001b[0m\u001b[0mcompute\u001b[0m\u001b[1;33m(\u001b[0m\u001b[0mcolumn_name\u001b[0m\u001b[1;33m,\u001b[0m \u001b[0mperiod\u001b[0m \u001b[1;33m=\u001b[0m \u001b[0mperiod\u001b[0m\u001b[1;33m,\u001b[0m \u001b[1;33m**\u001b[0m\u001b[0mparameters\u001b[0m\u001b[1;33m)\u001b[0m\u001b[1;33m.\u001b[0m\u001b[0marray\u001b[0m\u001b[1;33m\u001b[0m\u001b[0m\n\u001b[0m\u001b[0;32m     77\u001b[0m \u001b[1;33m\u001b[0m\u001b[0m\n\u001b[0;32m     78\u001b[0m     \u001b[1;32mdef\u001b[0m \u001b[0mcalculate_add\u001b[0m\u001b[1;33m(\u001b[0m\u001b[0mself\u001b[0m\u001b[1;33m,\u001b[0m \u001b[0mcolumn_name\u001b[0m\u001b[1;33m,\u001b[0m \u001b[0mperiod\u001b[0m \u001b[1;33m=\u001b[0m \u001b[0mNone\u001b[0m\u001b[1;33m,\u001b[0m \u001b[1;33m**\u001b[0m\u001b[0mparameters\u001b[0m\u001b[1;33m)\u001b[0m\u001b[1;33m:\u001b[0m\u001b[1;33m\u001b[0m\u001b[0m\n",
      "\u001b[1;32m/home/openfisca/openfisca-core/openfisca_core/simulations.pyc\u001b[0m in \u001b[0;36mcompute\u001b[1;34m(self, column_name, period, **parameters)\u001b[0m\n\u001b[0;32m    154\u001b[0m             \u001b[1;32mif\u001b[0m \u001b[0mvariable_infos\u001b[0m \u001b[1;32mnot\u001b[0m \u001b[1;32min\u001b[0m \u001b[0mcaller_input_variables_infos\u001b[0m\u001b[1;33m:\u001b[0m\u001b[1;33m\u001b[0m\u001b[0m\n\u001b[0;32m    155\u001b[0m                 \u001b[0mcaller_input_variables_infos\u001b[0m\u001b[1;33m.\u001b[0m\u001b[0mappend\u001b[0m\u001b[1;33m(\u001b[0m\u001b[0mvariable_infos\u001b[0m\u001b[1;33m)\u001b[0m\u001b[1;33m\u001b[0m\u001b[0m\n\u001b[1;32m--> 156\u001b[1;33m         \u001b[0mholder\u001b[0m \u001b[1;33m=\u001b[0m \u001b[0mself\u001b[0m\u001b[1;33m.\u001b[0m\u001b[0mget_or_new_holder\u001b[0m\u001b[1;33m(\u001b[0m\u001b[0mcolumn_name\u001b[0m\u001b[1;33m)\u001b[0m\u001b[1;33m\u001b[0m\u001b[0m\n\u001b[0m\u001b[0;32m    157\u001b[0m         \u001b[1;32mreturn\u001b[0m \u001b[0mholder\u001b[0m\u001b[1;33m.\u001b[0m\u001b[0mcompute\u001b[0m\u001b[1;33m(\u001b[0m\u001b[0mperiod\u001b[0m \u001b[1;33m=\u001b[0m \u001b[0mperiod\u001b[0m\u001b[1;33m,\u001b[0m \u001b[1;33m**\u001b[0m\u001b[0mparameters\u001b[0m\u001b[1;33m)\u001b[0m\u001b[1;33m\u001b[0m\u001b[0m\n\u001b[0;32m    158\u001b[0m \u001b[1;33m\u001b[0m\u001b[0m\n",
      "\u001b[1;32m/home/openfisca/openfisca-core/openfisca_core/simulations.pyc\u001b[0m in \u001b[0;36mget_or_new_holder\u001b[1;34m(self, column_name)\u001b[0m\n\u001b[0;32m    229\u001b[0m     \u001b[1;32mdef\u001b[0m \u001b[0mget_or_new_holder\u001b[0m\u001b[1;33m(\u001b[0m\u001b[0mself\u001b[0m\u001b[1;33m,\u001b[0m \u001b[0mcolumn_name\u001b[0m\u001b[1;33m)\u001b[0m\u001b[1;33m:\u001b[0m\u001b[1;33m\u001b[0m\u001b[0m\n\u001b[0;32m    230\u001b[0m         \u001b[0mholder\u001b[0m \u001b[1;33m=\u001b[0m \u001b[0mself\u001b[0m\u001b[1;33m.\u001b[0m\u001b[0mholder_by_name\u001b[0m\u001b[1;33m.\u001b[0m\u001b[0mget\u001b[0m\u001b[1;33m(\u001b[0m\u001b[0mcolumn_name\u001b[0m\u001b[1;33m)\u001b[0m\u001b[1;33m\u001b[0m\u001b[0m\n\u001b[1;32m--> 231\u001b[1;33m         \u001b[0mentity\u001b[0m \u001b[1;33m=\u001b[0m \u001b[0mself\u001b[0m\u001b[1;33m.\u001b[0m\u001b[0mentity_by_column_name\u001b[0m\u001b[1;33m[\u001b[0m\u001b[0mcolumn_name\u001b[0m\u001b[1;33m]\u001b[0m\u001b[1;33m\u001b[0m\u001b[0m\n\u001b[0m\u001b[0;32m    232\u001b[0m         \u001b[1;32mif\u001b[0m \u001b[0mholder\u001b[0m \u001b[1;32mis\u001b[0m \u001b[0mNone\u001b[0m\u001b[1;33m:\u001b[0m\u001b[1;33m\u001b[0m\u001b[0m\n\u001b[0;32m    233\u001b[0m             \u001b[0mcolumn\u001b[0m \u001b[1;33m=\u001b[0m \u001b[0mentity\u001b[0m\u001b[1;33m.\u001b[0m\u001b[0mcolumn_by_name\u001b[0m\u001b[1;33m[\u001b[0m\u001b[0mcolumn_name\u001b[0m\u001b[1;33m]\u001b[0m\u001b[1;33m\u001b[0m\u001b[0m\n",
      "\u001b[1;31mKeyError\u001b[0m: 'salnet'"
     ]
    }
   ],
   "source": [
    "reform_simulation.calculate('salnet')"
   ]
  },
  {
   "cell_type": "code",
   "execution_count": null,
   "metadata": {
    "collapsed": true
   },
   "outputs": [],
   "source": [
    "# "
   ]
  }
 ],
 "metadata": {
  "kernelspec": {
   "display_name": "Python 2",
   "language": "python",
   "name": "python2"
  },
  "language_info": {
   "codemirror_mode": {
    "name": "ipython",
    "version": 2
   },
   "file_extension": ".py",
   "mimetype": "text/x-python",
   "name": "python",
   "nbconvert_exporter": "python",
   "pygments_lexer": "ipython2",
   "version": "2.7.12"
  }
 },
 "nbformat": 4,
 "nbformat_minor": 0
}
