{
 "cells": [
  {
   "cell_type": "markdown",
   "metadata": {},
   "source": [
    "# Variation du salaire de base"
   ]
  },
  {
   "cell_type": "markdown",
   "metadata": {},
   "source": [
    "Initialisations Python"
   ]
  },
  {
   "cell_type": "code",
   "execution_count": 23,
   "metadata": {
    "collapsed": false
   },
   "outputs": [],
   "source": [
    "from datetime import date\n",
    "import matplotlib.pyplot as plt\n",
    "#importer numpy permet de coler deux sections de courbes (nécessaire quand on fait varier le salaire de base en-dessous du SMIC mensuel)\n",
    "import numpy as np\n",
    "import openfisca_france\n",
    "from openfisca_core import tools\n",
    "%matplotlib inline"
   ]
  },
  {
   "cell_type": "markdown",
   "metadata": {},
   "source": [
    "Initialisations OpenFisca"
   ]
  },
  {
   "cell_type": "code",
   "execution_count": 24,
   "metadata": {
    "collapsed": false
   },
   "outputs": [],
   "source": [
    "tax_benefit_system = openfisca_france.FranceTaxBenefitSystem()"
   ]
  },
  {
   "cell_type": "code",
   "execution_count": 25,
   "metadata": {
    "collapsed": true
   },
   "outputs": [],
   "source": [
    "date_naissance_parent1 = date(1980, 1, 1)"
   ]
  },
  {
   "cell_type": "code",
   "execution_count": 26,
   "metadata": {
    "collapsed": false
   },
   "outputs": [],
   "source": [
    "nb_heures_par_mois_temps_plein = 35 * 52 / 12.0\n",
    "smic_horaire = 9.670"
   ]
  },
  {
   "cell_type": "code",
   "execution_count": 27,
   "metadata": {
    "collapsed": false
   },
   "outputs": [],
   "source": [
    "# On commence par simuler la variation de salaire entre 0 € et le SMIC mensuel\n",
    "# Entre 0 € et le SMIC mensuel, quand le salaire de base augmente, c'est le volume horaire qui augmente (de 0 à 35 heures hendomadaires)\n",
    "# Le salaire horaire quant à lui reste fixé au SMIC horaire\n",
    "\n",
    "scenario_under_smic = tax_benefit_system.new_scenario().init_single_entity(\n",
    "    axes = [\n",
    "        [\n",
    "            dict(\n",
    "                count = 10,\n",
    "                min = 0,\n",
    "                max = nb_heures_par_mois_temps_plein,\n",
    "                name = 'heures_remunerees_volume',\n",
    "                ),\n",
    "            dict(\n",
    "                count = 10,\n",
    "                min = 0,\n",
    "                max = nb_heures_par_mois_temps_plein * smic_horaire,\n",
    "                name = 'salaire_de_base',\n",
    "                ),\n",
    "            ],\n",
    "        ],\n",
    "    period = '2016-01',\n",
    "    parent1 = dict(\n",
    "        date_naissance = date_naissance_parent1,\n",
    "        contrat_de_travail = 1, # temps partiel\n",
    "        allegement_fillon_mode_recouvrement = 1, # anticipe_regularisation_fin_de_periode\n",
    "        ),\n",
    "    )"
   ]
  },
  {
   "cell_type": "code",
   "execution_count": 28,
   "metadata": {
    "collapsed": true
   },
   "outputs": [],
   "source": [
    "simulation_under_smic = scenario_under_smic.new_simulation()"
   ]
  },
  {
   "cell_type": "code",
   "execution_count": 29,
   "metadata": {
    "collapsed": false
   },
   "outputs": [
    {
     "data": {
      "text/plain": [
       "array([    0.        ,   162.95741272,   325.91482544,   488.8722229 ,\n",
       "         651.82965088,   814.78704834,   977.7444458 ,  1140.7019043 ,\n",
       "        1303.65930176,  1466.61669922], dtype=float32)"
      ]
     },
     "execution_count": 29,
     "metadata": {},
     "output_type": "execute_result"
    }
   ],
   "source": [
    "salaire_de_base_under_smic = simulation_under_smic.calculate('salaire_de_base', '2016-01')\n",
    "salaire_de_base_under_smic"
   ]
  },
  {
   "cell_type": "code",
   "execution_count": 30,
   "metadata": {
    "collapsed": false,
    "scrolled": true
   },
   "outputs": [
    {
     "data": {
      "text/plain": [
       "array([   0.        ,   45.66066742,   91.32133484,  136.98199463,\n",
       "        182.64266968,  228.30332947,  273.96398926,  319.62466431,\n",
       "        365.28533936,  410.94598389], dtype=float32)"
      ]
     },
     "execution_count": 30,
     "metadata": {},
     "output_type": "execute_result"
    }
   ],
   "source": [
    "allegement_fillon_under_smic = simulation_under_smic.calculate('allegement_fillon', '2016-01')\n",
    "allegement_fillon_under_smic"
   ]
  },
  {
   "cell_type": "code",
   "execution_count": 31,
   "metadata": {
    "collapsed": false
   },
   "outputs": [
    {
     "data": {
      "image/png": "[encoded data removed]",
      "text/plain": [
       "<matplotlib.figure.Figure at 0x7f9691784310>"
      ]
     },
     "metadata": {},
     "output_type": "display_data"
    }
   ],
   "source": [
    "plt.plot(salaire_de_base_under_smic, allegement_fillon_under_smic)\n",
    "plt.xlabel(u'Salaire de base (€/mois)')\n",
    "plt.ylabel(u'Allègement Fillon (€/mois)')\n",
    "plt.title(u'Au-dessous du SMIC')\n",
    "plt.grid(True)\n",
    "plt.show()"
   ]
  },
  {
   "cell_type": "code",
   "execution_count": 32,
   "metadata": {
    "collapsed": false
   },
   "outputs": [
    {
     "data": {
      "text/plain": [
       "1466.6166666666666"
      ]
     },
     "execution_count": 32,
     "metadata": {},
     "output_type": "execute_result"
    }
   ],
   "source": [
    "smic_mensuel = nb_heures_par_mois_temps_plein * smic_horaire\n",
    "smic_mensuel"
   ]
  },
  {
   "cell_type": "code",
   "execution_count": 33,
   "metadata": {
    "collapsed": true
   },
   "outputs": [],
   "source": [
    "# Au-delà du SMIC mensuel, on suppose que le volume horaire reste fixé à 35 heures,\n",
    "# et que c'est le salaire horaire qui augmente\n",
    "\n",
    "scenario_over_smic = tax_benefit_system.new_scenario().init_single_entity(\n",
    "    axes = [\n",
    "        dict(\n",
    "            count = 50,\n",
    "            min = smic_mensuel,\n",
    "            max = 5000,\n",
    "            name = 'salaire_de_base',\n",
    "            ),\n",
    "        ],\n",
    "    period = '2016-01',\n",
    "    parent1 = dict(\n",
    "        date_naissance = date_naissance_parent1,\n",
    "        contrat_de_travail = 0, # temps plein\n",
    "        allegement_fillon_mode_recouvrement = 1, # anticipe_regularisation_fin_de_periode\n",
    "        ),\n",
    "    )"
   ]
  },
  {
   "cell_type": "code",
   "execution_count": 34,
   "metadata": {
    "collapsed": true
   },
   "outputs": [],
   "source": [
    "simulation_over_smic = scenario_over_smic.new_simulation()"
   ]
  },
  {
   "cell_type": "code",
   "execution_count": 35,
   "metadata": {
    "collapsed": false
   },
   "outputs": [
    {
     "data": {
      "text/plain": [
       "array([ 1466.61669922,  1538.7265625 ,  1610.83642578,  1682.94628906,\n",
       "        1755.05615234,  1827.16601562,  1899.27587891,  1971.38574219,\n",
       "        2043.49560547,  2115.60546875,  2187.71533203,  2259.82519531,\n",
       "        2331.93505859,  2404.04492188,  2476.15478516,  2548.26464844,\n",
       "        2620.37451172,  2692.484375  ,  2764.59423828,  2836.70410156,\n",
       "        2908.81396484,  2980.92382812,  3053.03369141,  3125.14355469,\n",
       "        3197.25341797,  3269.36328125,  3341.47314453,  3413.58300781,\n",
       "        3485.69287109,  3557.80273438,  3629.91259766,  3702.02246094,\n",
       "        3774.13232422,  3846.2421875 ,  3918.35205078,  3990.46191406,\n",
       "        4062.57177734,  4134.68164062,  4206.79150391,  4278.90136719,\n",
       "        4351.01123047,  4423.12109375,  4495.23095703,  4567.34082031,\n",
       "        4639.45068359,  4711.56054688,  4783.67041016,  4855.78027344,\n",
       "        4927.89013672,  5000.        ], dtype=float32)"
      ]
     },
     "execution_count": 35,
     "metadata": {},
     "output_type": "execute_result"
    }
   ],
   "source": [
    "salaire_de_base_over_smic = simulation_over_smic.calculate('salaire_de_base', '2016-01')\n",
    "salaire_de_base_over_smic"
   ]
  },
  {
   "cell_type": "code",
   "execution_count": 36,
   "metadata": {
    "collapsed": false
   },
   "outputs": [
    {
     "data": {
      "text/plain": [
       "array([ 410.94598389,  377.29574585,  343.59140015,  309.99871826,\n",
       "        276.24584961,  242.64764404,  208.92034912,  175.25619507,\n",
       "        141.61424255,  107.89588165,   74.16355133,   40.45087051,\n",
       "          6.76261187,    0.        ,    0.        ,    0.        ,\n",
       "          0.        ,    0.        ,    0.        ,    0.        ,\n",
       "          0.        ,    0.        ,    0.        ,    0.        ,\n",
       "          0.        ,    0.        ,    0.        ,    0.        ,\n",
       "          0.        ,    0.        ,    0.        ,    0.        ,\n",
       "          0.        ,    0.        ,    0.        ,    0.        ,\n",
       "          0.        ,    0.        ,    0.        ,    0.        ,\n",
       "          0.        ,    0.        ,    0.        ,    0.        ,\n",
       "          0.        ,    0.        ,    0.        ,    0.        ,\n",
       "          0.        ,    0.        ], dtype=float32)"
      ]
     },
     "execution_count": 36,
     "metadata": {},
     "output_type": "execute_result"
    }
   ],
   "source": [
    "allegement_fillon_over_smic = simulation_over_smic.calculate('allegement_fillon', '2016-01')\n",
    "allegement_fillon_over_smic"
   ]
  },
  {
   "cell_type": "code",
   "execution_count": 37,
   "metadata": {
    "collapsed": false
   },
   "outputs": [
    {
     "data": {
      "image/png": "[encoded data removed]",
      "text/plain": [
       "<matplotlib.figure.Figure at 0x7f969136c890>"
      ]
     },
     "metadata": {},
     "output_type": "display_data"
    }
   ],
   "source": [
    "plt.plot(salaire_de_base_over_smic, allegement_fillon_over_smic)\n",
    "plt.xlabel(u'Salaire de base (€/mois)')\n",
    "plt.ylabel(u'Allègement Fillon (€/mois)')\n",
    "plt.title(u'Au-dessus du SMIC')\n",
    "plt.grid(True)\n",
    "plt.show()"
   ]
  },
  {
   "cell_type": "code",
   "execution_count": 24,
   "metadata": {
    "collapsed": false
   },
   "outputs": [],
   "source": [
    "# On crée ici la variable \"salaire_de_base\" qui est l'enchainement du segment : 0 €- SMIC mensuel et du segment SMIC mensuel - au-delà\n",
    "# le crochet [:-1] permet d'éviter que l'on ait l'observation \"SMIC mensuel\" en doublon\n",
    "\n",
    "salaire_de_base = np.concatenate([salaire_de_base_under_smic[:-1], salaire_de_base_over_smic])"
   ]
  },
  {
   "cell_type": "code",
   "execution_count": 30,
   "metadata": {
    "collapsed": false
   },
   "outputs": [],
   "source": [
    "allegement_fillon = np.concatenate([allegement_fillon_under_smic[:-1], allegement_fillon_over_smic])"
   ]
  },
  {
   "cell_type": "code",
   "execution_count": 54,
   "metadata": {
    "collapsed": false
   },
   "outputs": [
    {
     "data": {
      "image/png": "[encoded data removed]",
      "text/plain": [
       "<matplotlib.figure.Figure at 0x7fd48ecde2d0>"
      ]
     },
     "metadata": {},
     "output_type": "display_data"
    }
   ],
   "source": [
    "plt.plot(salaire_de_base, allegement_fillon)\n",
    "# plt.plot(salaire_de_base_under_smic, allegement_fillon_under_smic, label=u'Temps partiel de 0 à 35h/mois')\n",
    "# plt.plot(salaire_de_base_over_smic, allegement_fillon_over_smic, label=u'Temps plein')\n",
    "plt.xlabel(u'Salaire de base (€/mois)')\n",
    "plt.ylabel(u'Allègement Fillon (€/mois)')\n",
    "plt.title(u'Variation du salaire de base mensuel avec réduction du volume horaire au-dessous du SMIC')\n",
    "plt.grid(True)\n",
    "plt.axvline(x=smic_mensuel, color='r', label='SMIC')\n",
    "plt.legend()\n",
    "plt.show()"
   ]
  },
  {
   "cell_type": "code",
   "execution_count": null,
   "metadata": {
    "collapsed": true
   },
   "outputs": [],
   "source": []
  }
 ],
 "metadata": {
  "kernelspec": {
   "display_name": "Python 2",
   "language": "python",
   "name": "python2"
  },
  "language_info": {
   "codemirror_mode": {
    "name": "ipython",
    "version": 2
   },
   "file_extension": ".py",
   "mimetype": "text/x-python",
   "name": "python",
   "nbconvert_exporter": "python",
   "pygments_lexer": "ipython2",
   "version": "2.7.12"
  }
 },
 "nbformat": 4,
 "nbformat_minor": 0
}
