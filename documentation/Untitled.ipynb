{
 "cells": [
  {
   "cell_type": "code",
   "execution_count": 1,
   "metadata": {
    "collapsed": false
   },
   "outputs": [
    {
     "name": "stdout",
     "output_type": "stream",
     "text": [
      "[ 0.]\n",
      "[ 0.]\n"
     ]
    }
   ],
   "source": [
    "import openfisca_france\n",
    "from openfisca_france.reforms import plfr2014\n",
    "\n",
    "\n",
    "\n",
    "tax_benefit_system = openfisca_france.init_tax_benefit_system()\n",
    "reformed_tax_benefit_system = plfr2014.build_reform(tax_benefit_system)\n",
    "\n",
    "scenario = reformed_tax_benefit_system.new_scenario()\n",
    "scenario.init_single_entity(\n",
    "    period = 2013,\n",
    "    parent1 = dict(\n",
    "        age = 40,\n",
    "        salaire_imposable = 13795,\n",
    "        ),\n",
    "    )\n",
    "\n",
    "simulation = scenario.new_simulation(reference = True)\n",
    "impo = simulation.calculate('impo', '2013')\n",
    "print impo\n",
    "\n",
    "reform_simulation = scenario.new_simulation()\n",
    "reform_impo = reform_simulation.calculate('impo', '2013')\n",
    "print reform_impo"
   ]
  },
  {
   "cell_type": "code",
   "execution_count": 4,
   "metadata": {
    "collapsed": false
   },
   "outputs": [
    {
     "name": "stdout",
     "output_type": "stream",
     "text": [
      "[ 361.52359009]\n"
     ]
    }
   ],
   "source": [
    "import openfisca_france\n",
    "tax_benefit_system = openfisca_france.init_tax_benefit_system()\n",
    "\n",
    "scenario = tax_benefit_system.new_scenario()\n",
    "\n",
    "from openfisca_core import web_tools\n",
    "web_tools.open_trace_tool(scenario, variables = ['af'], api_url = 'http://api-test.openfisca.fr')\n",
    "\n",
    "scenario.init_single_entity(\n",
    "    \n",
    "    period = 2015,\n",
    "    parent1 = dict(\n",
    "        age = 30,\n",
    "        salaire_de_base = 15000,\n",
    "        ),\n",
    "    enfants = [\n",
    "        dict(age = 10),\n",
    "        dict(age = 12),\n",
    "        dict(age = 18),\n",
    "        ],\n",
    "        \n",
    "    )\n",
    "\n",
    "simulation = scenario.new_simulation()\n",
    "af = simulation.calculate('af', '2015-01')\n",
    "\n",
    "print af\n"
   ]
  },
  {
   "cell_type": "code",
   "execution_count": null,
   "metadata": {
    "collapsed": true
   },
   "outputs": [],
   "source": []
  }
 ],
 "metadata": {
  "kernelspec": {
   "display_name": "Python 2",
   "language": "python",
   "name": "python2"
  },
  "language_info": {
   "codemirror_mode": {
    "name": "ipython",
    "version": 2
   },
   "file_extension": ".py",
   "mimetype": "text/x-python",
   "name": "python",
   "nbconvert_exporter": "python",
   "pygments_lexer": "ipython2",
   "version": "2.7.12"
  }
 },
 "nbformat": 4,
 "nbformat_minor": 0
}
