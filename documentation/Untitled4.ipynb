{
 "cells": [
  {
   "cell_type": "code",
   "execution_count": 3,
   "metadata": {
    "collapsed": false
   },
   "outputs": [
    {
     "name": "stdout",
     "output_type": "stream",
     "text": [
      "[ 361.52359009]\n"
     ]
    }
   ],
   "source": [
    "# -*- coding: utf-8 -*-\n",
    "\n",
    "import openfisca_france\n",
    "from openfisca_core import web_tools\n",
    "\n",
    "#tax_benefit_system = openfisca_france.FranceTaxBenefitSystem()\n",
    "tax_benefit_system = openfisca_france.init_tax_benefit_system()\n",
    "\n",
    "scenario = tax_benefit_system.new_scenario()\n",
    "scenario.init_single_entity(\n",
    "    period = 2015,\n",
    "    parent1 = dict(\n",
    "        age = 30,\n",
    "        salaire_de_base = 15000,\n",
    "        ),\n",
    "    enfants = [\n",
    "        dict(age = 10),\n",
    "        dict(age = 12),\n",
    "        dict(age = 18),\n",
    "        ],\n",
    "    )\n",
    "\n",
    "simulation = scenario.new_simulation()\n",
    "af = simulation.calculate('af', '2015-01')\n",
    "print af"
   ]
  },
  {
   "cell_type": "code",
   "execution_count": null,
   "metadata": {
    "collapsed": true
   },
   "outputs": [],
   "source": []
  }
 ],
 "metadata": {
  "kernelspec": {
   "display_name": "Python 2",
   "language": "python",
   "name": "python2"
  },
  "language_info": {
   "codemirror_mode": {
    "name": "ipython",
    "version": 2
   },
   "file_extension": ".py",
   "mimetype": "text/x-python",
   "name": "python",
   "nbconvert_exporter": "python",
   "pygments_lexer": "ipython2",
   "version": "2.7.12"
  }
 },
 "nbformat": 4,
 "nbformat_minor": 0
}
