{
 "cells": [
  {
   "cell_type": "markdown",
   "metadata": {},
   "source": [
    "This notebook demonstrates how to implement a reform in OpenFisca.\n",
    "The reform is dummy and has no other purpose than to be a tutorial."
   ]
  },
  {
   "cell_type": "markdown",
   "metadata": {},
   "source": [
    "# The big picture"
   ]
  },
  {
   "cell_type": "markdown",
   "metadata": {},
   "source": [
    "Creating a reform in OpenFisca is pretty simple: we just need to write a function named `build_reform` which receives the tax_benefit_system parameter and returns a `Reform` object. We can work in this IPython Notebook, there is no need for the moment to install OpenFisca.\n",
    "\n",
    "The `tax_benefit_system` parameter is an instance of a `TaxBenefitSystem` object which holds the legislation and the entities of the country. The legislation is a JSON data structure containing the parameters of the law, like thresholds, tax scales, etc. The entities are objects pointing to formulas.\n",
    "\n",
    "The inner contents of the `build_reform` function is the code of the reform. In general it does two things: change the legislation and/or change formulas (via the entities). By change we mean add, delete or replace.\n",
    "\n",
    "Here is an empty skeleton example:\n",
    "\n",
    "    def build_reform(tax_benefit_system):\n",
    "\n",
    "        # Update legislation (skipped...)\n",
    "\n",
    "        # Update formulas (skipped...)\n",
    "\n",
    "        return reforms.Reform(\n",
    "            name=u'Dummy reform',\n",
    "            reference=tax_benefit_system,\n",
    "            # Here we'll fill other attributes later\n",
    "            )\n",
    "\n",
    "The actual contents of the `build_reform` function will be explained below. Let's just finish with the big picture.\n",
    "\n",
    "This `build_reform` function can be called from the outside like this (this is what we'll do after having finished writing it):\n",
    "\n",
    "    dummy_reform = build_reform(tax_benefit_system)  # tax_benefit_system was initialized above.\n",
    "    scenario = dummy_reform.new_scenario()  # Declare a scenario (scenario contents skipped...)\n",
    "    reference_simulation = scenario.new_simulation(reference=True)\n",
    "    reform_simulation = scenario.new_simulation(debug=True)\n",
    "\n",
    "We just declared a reference and a reform simulation object. Now we can calculate the same formula (for example \"revdisp\") with and without the reform:\n",
    "\n",
    "    reference_revdisp = reference_simulation.calculate('revdisp')\n",
    "    reform_revdisp = reform_simulation.calculate('revdisp')\n",
    "    print(reference_revdisp, reform_revdisp)\n",
    "\n",
    "More interesting: we can plug our reform on the OpenFisca API and watch the results interactively in the OpenFisca \"demonstrator\" (http://ui.openfisca.fr/). The reform can be added to the reforms list on the OpenFisca website too (http://www.openfisca.fr/reformes).\n",
    "\n",
    "_This should be the first goal of a good reform author :-)_\n",
    "\n",
    "Now let's dive deeper into the techniques of writing reforms."
   ]
  },
  {
   "cell_type": "code",
   "execution_count": 1,
   "metadata": {
    "collapsed": false
   },
   "outputs": [],
   "source": [
    "# First, import required and useful Python modules.\n",
    "# You can ignore this cell.\n",
    "\n",
    "import copy\n",
    "import datetime\n",
    "import json\n",
    "\n",
    "from IPython.display import display\n",
    "from IPython.html import widgets\n",
    "from IPython.lib.pretty import pprint\n",
    "from IPython.utils.traitlets import Unicode\n",
    "from openfisca_core import columns, conv, formulas, legislationsxml, reforms\n",
    "import openfisca_france\n",
    "from openfisca_france import entities, model"
   ]
  },
  {
   "cell_type": "markdown",
   "metadata": {},
   "source": [
    "Now let's create the french tax-benefit system."
   ]
  },
  {
   "cell_type": "code",
   "execution_count": 2,
   "metadata": {
    "collapsed": false
   },
   "outputs": [],
   "source": [
    "TaxBenefitSystem = openfisca_france.init_country()\n",
    "tax_benefit_system = TaxBenefitSystem()"
   ]
  },
  {
   "cell_type": "markdown",
   "metadata": {},
   "source": [
    "# Change the legislation"
   ]
  },
  {
   "cell_type": "markdown",
   "metadata": {},
   "source": [
    "In OpenFisca the legislation is organized as a tree and is stored in a XML file.\n",
    "\n",
    "To change the legislation, we can either change one or many existing nodes, add new nodes or delete existing nodes.\n",
    "\n",
    "The idea is to duplicate the reference legislation (the existing one) with `copy.deepcopy` Python function, then applying our changes. Reminder: the reference legislation is accessible as an attribute of the `tax_benefit_system` object.\n",
    "\n",
    "For the purpose of this dummy reform, we are going to change the first slice of the \"IRPP\".\n",
    "\n",
    "First, download the reference legislation XML file from the OpenFisca-France source code (save it in a file on your computer): https://raw.githubusercontent.com/openfisca/openfisca-france/master/openfisca_france/param/param.xml\n",
    "\n",
    "Name it like `param-<reform_name>.xml`.\n",
    "\n",
    "Then modify the XML file with your preferred tool (Notepad++ with JSTool or xmlcopyeditor for example).\n",
    "\n",
    "Once finished, please run the cells below to add the file upload utility to this notebook, then upload your new XML file."
   ]
  },
  {
   "cell_type": "code",
   "execution_count": 3,
   "metadata": {
    "collapsed": false
   },
   "outputs": [],
   "source": [
    "# Just run this cell with Ctrl-Enter\n",
    "\n",
    "class FileWidget(widgets.DOMWidget):\n",
    "    _view_name = Unicode('FilePickerView', sync=True)\n",
    "    value = Unicode(sync=True)\n",
    "    filename = Unicode(sync=True)\n",
    "    \n",
    "    def __init__(self, **kwargs):\n",
    "        widgets.DOMWidget.__init__(self, **kwargs) # Call the base.\n",
    "        self.errors = widgets.CallbackDispatcher(accepted_nargs=[0, 1])\n",
    "        self.on_msg(self._handle_custom_msg)\n",
    "\n",
    "    def _handle_custom_msg(self, content):\n",
    "        if 'event' in content and content['event'] == 'error':\n",
    "            self.errors()\n",
    "            self.errors(self)\n"
   ]
  },
  {
   "cell_type": "code",
   "execution_count": 4,
   "metadata": {
    "collapsed": false
   },
   "outputs": [
    {
     "data": {
      "application/javascript": [
       "\n",
       "// Just run this cell with Ctrl-Enter\n",
       "\n",
       "require([\"widgets/js/widget\"], function(WidgetManager){\n",
       "    var FilePickerView = IPython.WidgetView.extend({\n",
       "        render: function() {\n",
       "            this.setElement($('<input />').attr('type', 'file'));\n",
       "        },\n",
       "        events: {'change': 'handle_file_change'},\n",
       "        handle_file_change: function(evt) { \n",
       "            var file = evt.target.files[0];\n",
       "            if (file) {\n",
       "                var that = this;\n",
       "                var file_reader = new FileReader();\n",
       "                file_reader.onload = function(e) {\n",
       "                    that.model.set('value', e.target.result);\n",
       "                    that.touch();\n",
       "                }\n",
       "                file_reader.readAsText(file);\n",
       "            } else {\n",
       "                this.send({ 'event': 'error' });\n",
       "            }\n",
       "            this.model.set('filename', file.name);\n",
       "            this.touch();\n",
       "        },\n",
       "    });\n",
       "    WidgetManager.register_widget_view('FilePickerView', FilePickerView);\n",
       "});"
      ],
      "text/plain": [
       "<IPython.core.display.Javascript at 0x7fd201e54950>"
      ]
     },
     "metadata": {},
     "output_type": "display_data"
    }
   ],
   "source": [
    "%%javascript\n",
    "\n",
    "// Just run this cell with Ctrl-Enter\n",
    "\n",
    "require([\"widgets/js/widget\"], function(WidgetManager){\n",
    "    var FilePickerView = IPython.WidgetView.extend({\n",
    "        render: function() {\n",
    "            this.setElement($('<input />').attr('type', 'file'));\n",
    "        },\n",
    "        events: {'change': 'handle_file_change'},\n",
    "        handle_file_change: function(evt) { \n",
    "            var file = evt.target.files[0];\n",
    "            if (file) {\n",
    "                var that = this;\n",
    "                var file_reader = new FileReader();\n",
    "                file_reader.onload = function(e) {\n",
    "                    that.model.set('value', e.target.result);\n",
    "                    that.touch();\n",
    "                }\n",
    "                file_reader.readAsText(file);\n",
    "            } else {\n",
    "                this.send({ 'event': 'error' });\n",
    "            }\n",
    "            this.model.set('filename', file.name);\n",
    "            this.touch();\n",
    "        },\n",
    "    });\n",
    "    WidgetManager.register_widget_view('FilePickerView', FilePickerView);\n",
    "});"
   ]
  },
  {
   "cell_type": "code",
   "execution_count": 5,
   "metadata": {
    "collapsed": false
   },
   "outputs": [
    {
     "name": "stdout",
     "output_type": "stream",
     "text": [
      "Loading param-cbenz.xml\n",
      "XML file loaded successfully\n"
     ]
    }
   ],
   "source": [
    "# Just run this cell with Ctrl-Enter\n",
    "\n",
    "reform_legislation_json = None\n",
    "file_widget = FileWidget()\n",
    "def file_loading():\n",
    "    print(\"Loading %s\" % file_widget.filename)\n",
    "file_widget.on_trait_change(file_loading, 'filename')\n",
    "def file_loaded():\n",
    "    global reform_legislation_json\n",
    "    reform_legislation_xml = file_widget.value\n",
    "    reform_legislation_json, error = legislationsxml.xml_legislation_str_to_json(reform_legislation_xml)\n",
    "    print(\n",
    "        u'XML file loaded successfully' if error is None else u'XML file loading has failed: {}'.format(error)\n",
    "        )\n",
    "file_widget.on_trait_change(file_loaded, 'value')\n",
    "def file_failed(*args):\n",
    "    print(\"Could not load file contents of %s\" % file_widget.filename)\n",
    "file_widget.errors.register_callback(file_failed)\n",
    "file_widget"
   ]
  },
  {
   "cell_type": "markdown",
   "metadata": {},
   "source": [
    "Now click on the \"Choose File\" button just above and upload your XML file.\n",
    "\n",
    "The variable `reform_legislation_json` should contain your modified legislation if the file was loaded successfully.\n",
    "\n",
    "_Explanation: it is called \"json\" because OpenFisca internals store the legislation in JSON, not XML. The conversion was done automatically._\n",
    "\n",
    "You can repeat the upload step if you change the XML file on your computer. In this case, execute again the cells following the file upload to update the variables.\n",
    "\n",
    "Let's declare a concrete `build_reform_1` function using the `reform_legislation_json` variable we just created."
   ]
  },
  {
   "cell_type": "code",
   "execution_count": 15,
   "metadata": {
    "collapsed": false
   },
   "outputs": [],
   "source": [
    "def build_reform_1(tax_benefit_system):\n",
    "    return reforms.Reform(\n",
    "        entity_class_by_key_plural = entities.entity_class_by_key_plural,  # Keep the reference entities.\n",
    "        legislation_json = reform_legislation_json,  # Was generated from the XML file you uploaded.\n",
    "        name = u'Dummy reform 1 (legislation only)',\n",
    "        reference = tax_benefit_system,\n",
    "        )"
   ]
  },
  {
   "cell_type": "markdown",
   "metadata": {},
   "source": [
    "We can try this reform on a scenario with a 40 years old person earning 5000€ a year:"
   ]
  },
  {
   "cell_type": "code",
   "execution_count": 7,
   "metadata": {
    "collapsed": false
   },
   "outputs": [
    {
     "data": {
      "text/plain": [
       "'reference value'"
      ]
     },
     "metadata": {},
     "output_type": "display_data"
    },
    {
     "data": {
      "text/plain": [
       "array([ 8932.73144531], dtype=float32)"
      ]
     },
     "metadata": {},
     "output_type": "display_data"
    },
    {
     "data": {
      "text/plain": [
       "'reform value'"
      ]
     },
     "metadata": {},
     "output_type": "display_data"
    },
    {
     "data": {
      "text/plain": [
       "array([-3491067.75], dtype=float32)"
      ]
     },
     "metadata": {},
     "output_type": "display_data"
    }
   ],
   "source": [
    "dummy_reform_1 = build_reform_1(tax_benefit_system)  # tax_benefit_system was initialized above.\n",
    "\n",
    "scenario_1 = dummy_reform_1.new_scenario().init_single_entity(\n",
    "    period = 2014,\n",
    "    parent1 = dict(\n",
    "        birth = datetime.date(1974, 1, 1),\n",
    "        sali = 5000,\n",
    "        ),\n",
    "    )\n",
    "\n",
    "reference_simulation_1 = scenario_1.new_simulation(reference=True)\n",
    "reform_simulation_1 = scenario_1.new_simulation()\n",
    "\n",
    "# Calculate the \"Revenu disponible\" for both reference and reform simulations.\n",
    "reference_revdisp_1 = reference_simulation_1.calculate('revdisp')\n",
    "reform_revdisp_1 = reform_simulation_1.calculate('revdisp')\n",
    "\n",
    "display('reference value', reference_revdisp_1, 'reform value', reform_revdisp_1)\n"
   ]
  },
  {
   "cell_type": "markdown",
   "metadata": {},
   "source": [
    "You may notice a difference if the scenario matches a part of the legislation params you changed."
   ]
  },
  {
   "cell_type": "markdown",
   "metadata": {},
   "source": [
    "# Change a formula"
   ]
  },
  {
   "cell_type": "markdown",
   "metadata": {},
   "source": [
    "In OpenFisca a formula is a Python class with these attributes and methods:\n",
    "\n",
    "* `column`: type of the computed value(s)\n",
    "* `entity_class`: class of the entity on which the computation is defined\n",
    "* `label`: string describing the formula (optional, but recommended).\n",
    "* `url`: external web page describing the formula (optional, but recommended).\n",
    "* `function()`: the actual code of the computation. The parameters are provided automatically by the core engine:\n",
    "    * `simulation` is the `Simulation` object instance allowing to compute dependent variables\n",
    "    * `period` is the period asked by the caller\n",
    "    * The function returns a tuple with 2 values: the output period and the result.\n",
    "\n",
    "_You may ask a developer for further information about the periods system._\n",
    "\n",
    "The formula is defined as vectorial computations (using Python NumPy). Each variable is an `Array` object and might contain more than a single value. Specifically the `Array` will contain as much values as the number of persons in the entity.\n",
    "\n",
    "Existing variable for \"Revenu net de l'individu\" example:\n",
    "\n",
    "    class revenu_net_individu(formulas.SimpleFormulaColumn):\n",
    "        column = columns.FloatCol\n",
    "        entity_class = entities.Individus\n",
    "        label = u\"Revenu net de l'individu\"\n",
    "\n",
    "        def function(self, simulation, period):\n",
    "            period = period.start.offset('first-of', 'year').period('year')\n",
    "            pen = simulation.calculate('pen', period)\n",
    "            rev_cap = simulation.calculate('rev_cap', period)\n",
    "            rev_trav = simulation.calculate('rev_trav', period)\n",
    "\n",
    "            return period, pen + rev_cap + rev_trav"
   ]
  },
  {
   "cell_type": "markdown",
   "metadata": {},
   "source": [
    "In order to change a variable, copy its class and change what you want.\n",
    "\n",
    "_Very-technical note: forget about inheriting classes in this case, since \"metaclasses\" are used._\n",
    "\n",
    "Here we'll just change the `function` function, returning only the content of `rev_trav`."
   ]
  },
  {
   "cell_type": "code",
   "execution_count": 8,
   "metadata": {
    "collapsed": false
   },
   "outputs": [],
   "source": [
    "from openfisca_france.model.common import revenu_net_individu\n",
    "\n",
    "class revenu_net_individu_2(formulas.SimpleFormulaColumn):\n",
    "    column = columns.FloatCol\n",
    "    entity_class = entities.Individus\n",
    "    label = u\"Revenu net de l'individu\"\n",
    "\n",
    "    def function(self, simulation, period):\n",
    "        period = period.start.offset('first-of', 'year').period('year')\n",
    "        rev_trav = simulation.calculate('rev_trav', period)\n",
    "        return period, rev_trav"
   ]
  },
  {
   "cell_type": "markdown",
   "metadata": {},
   "source": [
    "This time let's declare a new `build_reform_2` which doesn't change the legislation but changes the `revenu_net_individu`.\n",
    "\n",
    "In order to change a variable formula we need to change the entity related to the variable.\n",
    "There is a helper to clone entities: the `reforms.clone_entity_classes` function.\n",
    "\n",
    "We have to replace the variable in an attribute of the entity called `column_by_name`.\n",
    "\n",
    "Here it is:"
   ]
  },
  {
   "cell_type": "code",
   "execution_count": 9,
   "metadata": {
    "collapsed": false
   },
   "outputs": [],
   "source": [
    "def build_reform_2(tax_benefit_system):\n",
    "    reform_entity_class_by_key_plural = reforms.clone_entity_classes(entities.entity_class_by_key_plural)\n",
    "\n",
    "    # Change the ReformIndividus entity \"revenu_net_individu\" variable.\n",
    "    ReformIndividus = reform_entity_class_by_key_plural['individus']\n",
    "    ReformIndividus.column_by_name['revenu_net_individu'] = revenu_net_individu_2\n",
    "\n",
    "    return reforms.Reform(\n",
    "        entity_class_by_key_plural = reform_entity_class_by_key_plural,\n",
    "        legislation_json = tax_benefit_system.legislation_json,  # Keep the reference legislation.\n",
    "        name = u'Dummy reform 2 (formula only)',\n",
    "        reference = tax_benefit_system,\n",
    "        )"
   ]
  },
  {
   "cell_type": "markdown",
   "metadata": {},
   "source": [
    "Again, the test:"
   ]
  },
  {
   "cell_type": "code",
   "execution_count": 10,
   "metadata": {
    "collapsed": false
   },
   "outputs": [
    {
     "data": {
      "text/plain": [
       "'reference value'"
      ]
     },
     "metadata": {},
     "output_type": "display_data"
    },
    {
     "data": {
      "text/plain": [
       "array([ 8932.73144531], dtype=float32)"
      ]
     },
     "metadata": {},
     "output_type": "display_data"
    },
    {
     "data": {
      "text/plain": [
       "'reform value'"
      ]
     },
     "metadata": {},
     "output_type": "display_data"
    },
    {
     "data": {
      "text/plain": [
       "array([ 8932.73144531], dtype=float32)"
      ]
     },
     "metadata": {},
     "output_type": "display_data"
    }
   ],
   "source": [
    "dummy_reform_2 = build_reform_2(tax_benefit_system)  # tax_benefit_system was initialized above.\n",
    "\n",
    "scenario_2 = dummy_reform_2.new_scenario().init_single_entity(\n",
    "    period = 2014,\n",
    "    parent1 = dict(\n",
    "        birth = datetime.date(1974, 1, 1),\n",
    "        sali = 5000,\n",
    "        ),\n",
    "    )\n",
    "\n",
    "reference_simulation_2 = scenario_2.new_simulation(reference=True)\n",
    "reform_simulation_2 = scenario_2.new_simulation()\n",
    "\n",
    "# Calculate the \"Revenu disponible\" for both reference and reform simulations.\n",
    "reference_revdisp_2 = reference_simulation_2.calculate('revdisp')\n",
    "reform_revdisp_2 = reform_simulation_2.calculate('revdisp')\n",
    "\n",
    "display('reference value', reference_revdisp_2, 'reform value', reform_revdisp_2)\n"
   ]
  },
  {
   "cell_type": "markdown",
   "metadata": {},
   "source": [
    "# Change legislation and formulas"
   ]
  },
  {
   "cell_type": "markdown",
   "metadata": {},
   "source": [
    "We can combine the 2 versions (`build_reform_1` and `build_reform_2`) in a single `build_reform` function which modifies both the legislation params and variable formula(s)."
   ]
  },
  {
   "cell_type": "code",
   "execution_count": 12,
   "metadata": {
    "collapsed": false
   },
   "outputs": [],
   "source": [
    "def build_reform(tax_benefit_system):\n",
    "    reform_entity_class_by_key_plural = reforms.clone_entity_classes(entities.entity_class_by_key_plural)\n",
    "\n",
    "    # Change the ReformIndividus entity \"revenu_net_individu\" variable.\n",
    "    ReformIndividus = reform_entity_class_by_key_plural['individus']\n",
    "    ReformIndividus.column_by_name['revenu_net_individu'] = revenu_net_individu_2\n",
    "\n",
    "    return reforms.Reform(\n",
    "        entity_class_by_key_plural = reform_entity_class_by_key_plural,\n",
    "        legislation_json = reform_legislation_json,  # Was built from the XML file you uploaded.\n",
    "        name = u'Dummy reform',\n",
    "        reference = tax_benefit_system,\n",
    "        )"
   ]
  },
  {
   "cell_type": "markdown",
   "metadata": {},
   "source": [
    "Again, the test:"
   ]
  },
  {
   "cell_type": "code",
   "execution_count": 13,
   "metadata": {
    "collapsed": false
   },
   "outputs": [
    {
     "data": {
      "text/plain": [
       "'reference value'"
      ]
     },
     "metadata": {},
     "output_type": "display_data"
    },
    {
     "data": {
      "text/plain": [
       "array([ 8932.73144531], dtype=float32)"
      ]
     },
     "metadata": {},
     "output_type": "display_data"
    },
    {
     "data": {
      "text/plain": [
       "'reform value'"
      ]
     },
     "metadata": {},
     "output_type": "display_data"
    },
    {
     "data": {
      "text/plain": [
       "array([-3491067.75], dtype=float32)"
      ]
     },
     "metadata": {},
     "output_type": "display_data"
    }
   ],
   "source": [
    "dummy_reform = build_reform(tax_benefit_system)  # tax_benefit_system was initialized above.\n",
    "\n",
    "scenario = dummy_reform.new_scenario().init_single_entity(\n",
    "    period = 2014,\n",
    "    parent1 = dict(\n",
    "        birth = datetime.date(1974, 1, 1),\n",
    "        sali = 5000,\n",
    "        ),\n",
    "    )\n",
    "\n",
    "reference_simulation = scenario.new_simulation(reference=True)\n",
    "reform_simulation = scenario.new_simulation()\n",
    "\n",
    "# Calculate the \"Revenu disponible\" for both reference and reform simulations.\n",
    "reference_revdisp = reference_simulation.calculate('revdisp')\n",
    "reform_revdisp = reform_simulation.calculate('revdisp')\n",
    "\n",
    "display('reference value', reference_revdisp, 'reform value', reform_revdisp)\n"
   ]
  },
  {
   "cell_type": "markdown",
   "metadata": {},
   "source": [
    "# Publish your reform"
   ]
  },
  {
   "cell_type": "markdown",
   "metadata": {},
   "source": [
    "In order to make your work accessible to the others like the \"OpenFisca demonstrator\" (http://ui.openfisca.fr/) you might store it into a Git repository hosted for example on GitHub.\n",
    "\n",
    "We won't explain how to do this here so please call a developer if needed.\n",
    "\n",
    "Once your repository exists on GitHub, a developer will plug it to the OpenFisca API making it accessible to the demonstrator. Your reform will be added to the reforms list on the OpenFisca website (http://www.openfisca.fr/reformes)."
   ]
  },
  {
   "cell_type": "code",
   "execution_count": null,
   "metadata": {
    "collapsed": true
   },
   "outputs": [],
   "source": []
  }
 ],
 "metadata": {
  "kernelspec": {
   "display_name": "Python 2",
   "language": "python",
   "name": "python2"
  },
  "language_info": {
   "codemirror_mode": {
    "name": "ipython",
    "version": 2
   },
   "file_extension": ".py",
   "mimetype": "text/x-python",
   "name": "python",
   "nbconvert_exporter": "python",
   "pygments_lexer": "ipython2",
   "version": "2.7.9"
  }
 },
 "nbformat": 4,
 "nbformat_minor": 0
}
