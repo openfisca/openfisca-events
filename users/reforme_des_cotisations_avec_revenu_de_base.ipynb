{
 "cells": [
  {
   "cell_type": "markdown",
   "metadata": {},
   "source": [
    "##### L'objectif est de calculer des taux "
   ]
  },
  {
   "cell_type": "code",
   "execution_count": 1,
   "metadata": {
    "collapsed": false
   },
   "outputs": [],
   "source": [
    "from datetime import date\n",
    "\n",
    "from openfisca_france import init_country\n",
    "from openfisca_france.model.base import *"
   ]
  },
  {
   "cell_type": "markdown",
   "metadata": {},
   "source": [
    "## Adaptation pour faciliter l'usage de ce notebook"
   ]
  },
  {
   "cell_type": "markdown",
   "metadata": {},
   "source": [
    "_Ce correctif permet de redéfinir plusieurs fois la même variable sans provoquer d'erreur._"
   ]
  },
  {
   "cell_type": "code",
   "execution_count": 2,
   "metadata": {
    "collapsed": false
   },
   "outputs": [],
   "source": [
    "import functools\n",
    "\n",
    "from openfisca_core.formulas import make_reference_formula_decorator\n",
    "from openfisca_france.entities import entity_class_by_symbol\n",
    "\n",
    "reference_formula = make_reference_formula_decorator(entity_class_by_symbol = entity_class_by_symbol, update = True)\n",
    "reference_input_variable = functools.partial(reference_input_variable, update = True)"
   ]
  },
  {
   "cell_type": "markdown",
   "metadata": {},
   "source": [
    "# Variable avec formule"
   ]
  },
  {
   "cell_type": "markdown",
   "metadata": {},
   "source": [
    "# Variable avec différentes formules en fonction de la date"
   ]
  },
  {
   "cell_type": "markdown",
   "metadata": {},
   "source": [
    "# Système socio-fiscal"
   ]
  },
  {
   "cell_type": "code",
   "execution_count": 3,
   "metadata": {
    "collapsed": false
   },
   "outputs": [],
   "source": [
    "TaxBenefitSystem = init_country()\n",
    "tax_benefit_system = TaxBenefitSystem()"
   ]
  },
  {
   "cell_type": "markdown",
   "metadata": {},
   "source": [
    "# Simulation"
   ]
  },
  {
   "cell_type": "code",
   "execution_count": 4,
   "metadata": {
    "collapsed": false
   },
   "outputs": [],
   "source": [
    "simulation = tax_benefit_system.new_scenario().init_single_entity(\n",
    "    period = 2014,\n",
    "    parent1 = dict(\n",
    "        birth = date(1980, 1, 1),\n",
    "        sali = 12000,\n",
    "        ),\n",
    "    parent2 = dict(\n",
    "        birth = date(1980, 1, 1),\n",
    "        sali = 6000,\n",
    "        ),\n",
    "    enfants = [\n",
    "        dict(\n",
    "            birth = date(2014, 1, 1),\n",
    "            ),\n",
    "        ],\n",
    "    ).new_simulation(debug = True)"
   ]
  },
  {
   "cell_type": "code",
   "execution_count": 5,
   "metadata": {
    "collapsed": false
   },
   "outputs": [
    {
     "data": {
      "text/plain": [
       "array([ 17051.3046875 ,   8525.65234375,      0.        ], dtype=float32)"
      ]
     },
     "execution_count": 5,
     "metadata": {},
     "output_type": "execute_result"
    }
   ],
   "source": [
    "simulation.calculate('salsuperbrut')"
   ]
  },
  {
   "cell_type": "markdown",
   "metadata": {},
   "source": [
    "# Réforme"
   ]
  },
  {
   "cell_type": "code",
   "execution_count": 1,
   "metadata": {
    "collapsed": false
   },
   "outputs": [],
   "source": [
    "from openfisca_core import reforms"
   ]
  },
  {
   "cell_type": "code",
   "execution_count": 2,
   "metadata": {
    "collapsed": false
   },
   "outputs": [
    {
     "ename": "AttributeError",
     "evalue": "'module' object has no attribute 'new_simple_reform_class'",
     "output_type": "error",
     "traceback": [
      "\u001b[0;31m\u001b[0m",
      "\u001b[0;31mAttributeError\u001b[0mTraceback (most recent call last)",
      "\u001b[0;32m<ipython-input-2-482e30479021>\u001b[0m in \u001b[0;36m<module>\u001b[0;34m()\u001b[0m\n\u001b[0;32m----> 1\u001b[0;31m ReformeCotisationsRDB = reforms.new_simple_reform_class(\n\u001b[0m\u001b[1;32m      2\u001b[0m     \u001b[0mname\u001b[0m \u001b[0;34m=\u001b[0m \u001b[0;34mu\"Réforme des cotisations pour un Revenu de base\"\u001b[0m\u001b[0;34m,\u001b[0m\u001b[0;34m\u001b[0m\u001b[0m\n\u001b[1;32m      3\u001b[0m     \u001b[0mreference\u001b[0m \u001b[0;34m=\u001b[0m \u001b[0mtax_benefit_system\u001b[0m\u001b[0;34m,\u001b[0m\u001b[0;34m\u001b[0m\u001b[0m\n\u001b[1;32m      4\u001b[0m     )\n",
      "\u001b[0;31mAttributeError\u001b[0m: 'module' object has no attribute 'new_simple_reform_class'"
     ]
    }
   ],
   "source": [
    "ReformeCotisationsRDB = reforms.new_simple_reform_class(\n",
    "    name = u\"Réforme des cotisations pour un Revenu de base\",\n",
    "    reference = tax_benefit_system,\n",
    "    )"
   ]
  },
  {
   "cell_type": "code",
   "execution_count": 32,
   "metadata": {
    "collapsed": false
   },
   "outputs": [],
   "source": [
    "@ReformeCotisationsRDB.formula\n",
    "class cotisations_contributives(SimpleFormulaColumn):\n",
    "    column = FloatCol\n",
    "    entity_class = Individus\n",
    "    label = u\"Nouvelles cotisations contributives\"\n",
    "\n",
    "\n",
    "    def function(self, simulation, period):\n",
    "        ags = simulation.calculate('ags', period)\n",
    "        agff_tranche_a_employeur = simulation.calculate('agff_tranche_a_employeur', period)\n",
    "        apec_employeur = simulation.calculate('apec_employeur', period)\n",
    "        arrco_tranche_a_employeur = simulation.calculate('arrco_tranche_a_employeur', period)\n",
    "        assedic_employeur = simulation.calculate('assedic_employeur', period)\n",
    "        cotisation_exceptionnelle_temporaire_employeur = simulation.calculate('cotisation_exceptionnelle_temporaire_employeur', period)\n",
    "        fonds_emploi_hospitalier = simulation.calculate('fonds_emploi_hospitalier', period)\n",
    "        ircantec_employeur = simulation.calculate('ircantec_employeur', period)\n",
    "        pension_civile_employeur = simulation.calculate('pension_civile_employeur', period)\n",
    "        prevoyance_obligatoire_cadre = simulation.calculate('prevoyance_obligatoire_cadre', period)\n",
    "        rafp_employeur = simulation.calculate('rafp_employeur', period)\n",
    "        vieillesse_deplafonnee_employeur = simulation.calculate('vieillesse_deplafonnee_employeur', period)\n",
    "        vieillesse_plafonnee_employeur = simulation.calculate('vieillesse_plafonnee_employeur', period)\n",
    "        allocations_temporaires_invalidite = simulation.calculate('allocations_temporaires_invalidite', period)\n",
    "        accident_du_travail = simulation.calculate('accident_du_travail', period)\n",
    "        agff_tranche_a_employe = simulation.calculate('agff_tranche_a_employe', period)\n",
    "        agirc_tranche_b_employe = simulation.calculate('agirc_tranche_b_employe', period)\n",
    "        apec_employe = simulation.calculate('apec_employe', period)\n",
    "        arrco_tranche_a_employe = simulation.calculate('arrco_tranche_a_employe', period)\n",
    "        assedic_employe = simulation.calculate('assedic_employe', period)\n",
    "        cotisation_exceptionnelle_temporaire_employe = simulation.calculate('cotisation_exceptionnelle_temporaire_employe', period)\n",
    "        ircantec_employe = simulation.calculate('ircantec_employe', period)\n",
    "        pension_civile_employe = simulation.calculate('pension_civile_employe', period)\n",
    "        rafp_employe = simulation.calculate('rafp_employe', period)\n",
    "        vieillesse_deplafonnee_employe = simulation.calculate('vieillesse_deplafonnee_employe', period)\n",
    "        vieillesse_plafonnee_employe = simulation.calculate('vieillesse_plafonnee_employe', period)\n",
    "\n",
    "        cotisations_contributives = (\n",
    "            # cotisations patronales contributives dans le prive\n",
    "            ags +\n",
    "            agff_tranche_a_employeur +\n",
    "            apec_employeur +\n",
    "            arrco_tranche_a_employeur +\n",
    "            assedic_employeur +\n",
    "            cotisation_exceptionnelle_temporaire_employeur +\n",
    "            prevoyance_obligatoire_cadre +  # TODO contributive ou pas\n",
    "            vieillesse_deplafonnee_employeur +\n",
    "            vieillesse_plafonnee_employeur +\n",
    "            # cotisations patronales contributives dans le public\n",
    "            fonds_emploi_hospitalier +\n",
    "            ircantec_employeur +\n",
    "            pension_civile_employeur +\n",
    "            rafp_employeur +\n",
    "            # anciennes cot patronales non-contributives classées ici comme contributives\n",
    "            allocations_temporaires_invalidite +\n",
    "            accident_du_travail +\n",
    "            # anciennes cotisations salariales contributives dans le prive\n",
    "            agff_tranche_a_employe +\n",
    "            agirc_tranche_b_employe +\n",
    "            apec_employe +\n",
    "            arrco_tranche_a_employe +\n",
    "            assedic_employe +\n",
    "            cotisation_exceptionnelle_temporaire_employe +\n",
    "            vieillesse_deplafonnee_employe +\n",
    "            vieillesse_plafonnee_employe +\n",
    "            # anciennes cotisations salariales contributives dans le public\n",
    "            ircantec_employe +\n",
    "            pension_civile_employe +\n",
    "            rafp_employe\n",
    "            )\n",
    "        return period, cotisations_contributives\n",
    "        "
   ]
  },
  {
   "cell_type": "code",
   "execution_count": 33,
   "metadata": {
    "collapsed": false
   },
   "outputs": [],
   "source": [
    "@ReformeCotisationsRDB.formula\n",
    "class nouv_salbrut(SimpleFormulaColumn):\n",
    "    reference = tax_benefit_system.column_by_name['salbrut']\n",
    "\n",
    "# Le salaire brut se définit dans la réforme comme le salaire super-brut auquel\n",
    "# on retranche les cotisations contributives \n",
    "    \n",
    "    def function(self, simulation, period):\n",
    "        period = period.start.period('month').offset('first-of')\n",
    "        salsuperbrut = simulation.calculate('salsuperbrut', period)\n",
    "        cotisations_contributives = simulation.calculate('cotisations_contributives', period)\n",
    "        \n",
    "        nouv_salbrut = (\n",
    "            salsuperbrut -\n",
    "            cotisations_contributives\n",
    "            )\n",
    "        return period, nouv_salbrut"
   ]
  },
  {
   "cell_type": "code",
   "execution_count": 44,
   "metadata": {
    "collapsed": false
   },
   "outputs": [],
   "source": [
    "@ReformeCotisationsRDB.formula\n",
    "class nouv_csg(SimpleFormulaColumn):\n",
    "    reference = tax_benefit_system.column_by_name['csgsali']\n",
    "\n",
    "# On applique une CSG unique à 22,5% qui finance toutes les prestations non-contributives \n",
    "    \n",
    "    def function(self, simulation, period):\n",
    "        period = period.start.period('month').offset('first-of')\n",
    "        nouv_salbrut = simulation.calculate('nouv_salbrut', period)\n",
    "        \n",
    "        nouv_csg = (\n",
    "            -0.225 * nouv_salbrut\n",
    "            )\n",
    "        return period, nouv_csg"
   ]
  },
  {
   "cell_type": "code",
   "execution_count": 45,
   "metadata": {
    "collapsed": false
   },
   "outputs": [],
   "source": [
    "@ReformeCotisationsRDB.formula\n",
    "class salnet(SimpleFormulaColumn):\n",
    "    reference = tax_benefit_system.column_by_name['salnet']\n",
    "\n",
    "# On retire la nouvelle CSG (pas celle qui finance le RDB) pour trouver le nouveau salaire net\n",
    "    \n",
    "    def function(self, simulation, period):\n",
    "        period = period.start.period('month').offset('first-of')\n",
    "        nouv_salbrut = simulation.calculate('nouv_salbrut', period)\n",
    "        nouv_csg = simulation.calculate('nouv_csg', period)\n",
    "        \n",
    "        salnet = (\n",
    "            nouv_salbrut +\n",
    "            nouv_csg\n",
    "            )\n",
    "        return period, salnet"
   ]
  },
  {
   "cell_type": "code",
   "execution_count": 47,
   "metadata": {
    "collapsed": false
   },
   "outputs": [],
   "source": [
    "@ReformeCotisationsRDB.formula\n",
    "class sal(SimpleFormulaColumn):\n",
    "    reference = tax_benefit_system.column_by_name['sal']\n",
    "\n",
    "# Nous sommes partis du nouveau salaire net et par rapport au salaire imposable actuel,\n",
    "# nous avons supprimé : les heures sup, la déductibilité de CSG\n",
    "    \n",
    "    \n",
    "    def function(self, simulation, period):\n",
    "        period = period\n",
    "        salnet = simulation.calculate('salnet', period)\n",
    "        primes_fonction_publique = simulation.calculate('primes_fonction_publique', period)\n",
    "        indemnite_residence = simulation.calculate('indemnite_residence', period)\n",
    "        supp_familial_traitement = simulation.calculate('supp_familial_traitement', period)\n",
    "        rev_microsocial_declarant1 = simulation.calculate('rev_microsocial_declarant1', period)\n",
    "\n",
    "        return period, (\n",
    "            salnet +\n",
    "            primes_fonction_publique +\n",
    "            indemnite_residence +\n",
    "            supp_familial_traitement +\n",
    "            hsup +\n",
    "            rev_microsocial_declarant1\n",
    "            )"
   ]
  },
  {
   "cell_type": "code",
   "execution_count": 34,
   "metadata": {
    "collapsed": false
   },
   "outputs": [],
   "source": [
    "reform = ReformeCotisationsRDB()"
   ]
  },
  {
   "cell_type": "code",
   "execution_count": 50,
   "metadata": {
    "collapsed": false
   },
   "outputs": [],
   "source": [
    "reform_simulation = reform.new_scenario().init_single_entity(\n",
    "    period = 2014,\n",
    "    parent1 = dict(\n",
    "        birth = date(1980, 1, 1),\n",
    "        sali = 12000,\n",
    "        ),\n",
    "    parent2 = dict(\n",
    "        birth = date(1980, 1, 1),\n",
    "        sali = 6000,\n",
    "        ),\n",
    "    enfants = [\n",
    "        dict(\n",
    "            birth = date(2014, 1, 1),\n",
    "            ),\n",
    "        ],\n",
    "    ).new_simulation(debug = True)"
   ]
  },
  {
   "cell_type": "code",
   "execution_count": 36,
   "metadata": {
    "collapsed": false
   },
   "outputs": [
    {
     "data": {
      "text/plain": [
       "array([ 17051.3046875 ,   8525.65234375,      0.        ], dtype=float32)"
      ]
     },
     "execution_count": 36,
     "metadata": {},
     "output_type": "execute_result"
    }
   ],
   "source": [
    "reform_simulation.calculate('salsuperbrut')"
   ]
  },
  {
   "cell_type": "code",
   "execution_count": 37,
   "metadata": {
    "collapsed": false
   },
   "outputs": [
    {
     "data": {
      "text/plain": [
       "array([-5141.63378906, -2570.81689453,    -0.        ], dtype=float32)"
      ]
     },
     "execution_count": 37,
     "metadata": {},
     "output_type": "execute_result"
    }
   ],
   "source": [
    "reform_simulation.calculate('cotisations_contributives')"
   ]
  },
  {
   "cell_type": "code",
   "execution_count": 39,
   "metadata": {
    "collapsed": false
   },
   "outputs": [
    {
     "data": {
      "text/plain": [
       "array([ 22192.93945312,  11096.46972656,      0.        ], dtype=float32)"
      ]
     },
     "execution_count": 39,
     "metadata": {},
     "output_type": "execute_result"
    }
   ],
   "source": [
    "reform_simulation.calculate('nouv_salbrut')"
   ]
  },
  {
   "cell_type": "code",
   "execution_count": 40,
   "metadata": {
    "collapsed": false
   },
   "outputs": [
    {
     "data": {
      "text/plain": [
       "array([ 14825.93261719,   7412.96630859,      0.        ], dtype=float32)"
      ]
     },
     "execution_count": 40,
     "metadata": {},
     "output_type": "execute_result"
    }
   ],
   "source": [
    "reform_simulation.calculate('salbrut')"
   ]
  },
  {
   "cell_type": "code",
   "execution_count": 51,
   "metadata": {
    "collapsed": false
   },
   "outputs": [
    {
     "data": {
      "text/plain": [
       "array([ 17199.52734375,   8599.76367188,      0.        ], dtype=float32)"
      ]
     },
     "execution_count": 51,
     "metadata": {},
     "output_type": "execute_result"
    }
   ],
   "source": [
    "reform_simulation.calculate('salnet')"
   ]
  },
  {
   "cell_type": "code",
   "execution_count": null,
   "metadata": {
    "collapsed": false
   },
   "outputs": [],
   "source": []
  }
 ],
 "metadata": {
  "kernelspec": {
   "display_name": "Python 2",
   "language": "python",
   "name": "python2"
  },
  "language_info": {
   "codemirror_mode": {
    "name": "ipython",
    "version": 2
   },
   "file_extension": ".py",
   "mimetype": "text/x-python",
   "name": "python",
   "nbconvert_exporter": "python",
   "pygments_lexer": "ipython2",
   "version": "2.7.9"
  }
 },
 "nbformat": 4,
 "nbformat_minor": 0
}
