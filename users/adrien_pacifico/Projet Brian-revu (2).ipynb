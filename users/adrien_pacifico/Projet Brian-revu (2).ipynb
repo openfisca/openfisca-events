{
 "cells": [
  {
   "cell_type": "markdown",
   "metadata": {},
   "source": [
    "# Quand y a t-il des gains ou pertes fiscaux lorsque l'enfant se détache du foyer fiscal et quitte le ménage familial ?"
   ]
  },
  {
   "cell_type": "code",
   "execution_count": 67,
   "metadata": {
    "collapsed": false
   },
   "outputs": [],
   "source": [
    "%matplotlib inline \n",
    "import matplotlib.pyplot as plt\n",
    "import numpy as np\n",
    "\n",
    "import datetime\n",
    "import openfisca_france \n",
    "from openfisca_matplotlib import graphs\n",
    "from openfisca_core import periods\n",
    "\n",
    "TaxBenefitSystem = openfisca_france.init_country()  \n",
    "tax_benefit_system = TaxBenefitSystem() \n",
    "Period = periods.Period\n",
    "Instant = periods.Instant"
   ]
  },
  {
   "cell_type": "code",
   "execution_count": 68,
   "metadata": {
    "collapsed": false
   },
   "outputs": [],
   "source": [
    "# Je definis ci-dessous les variables \"individus\" et \"familles\" et la liste \"variables\" avant les quatre scenarios"
   ]
  },
  {
   "cell_type": "code",
   "execution_count": 69,
   "metadata": {
    "collapsed": false
   },
   "outputs": [],
   "source": [
    "individus = [ \n",
    "\n",
    "    {'id': 'ind0', u'salaire_de_base':{\n",
    "        Period((u'year', Instant((2013, 1, 1)), 1)): 15000.0,\n",
    "        Period((u'year', Instant((2014, 1, 1)), 1)): 15000.0,\n",
    "        }, \n",
    "        'birth': datetime.date(1960, 1, 1)\n",
    "    },\n",
    "\n",
    "    {'id': 'ind1', u'salaire_de_base': {\n",
    "        Period((u'year', Instant((2013, 1, 1)), 1)): 15000.0,\n",
    "        Period((u'year', Instant((2014, 1, 1)), 1)): 15000.0,\n",
    "         },\n",
    "        'birth': datetime.date(1961, 12, 1)\n",
    "    },\n",
    "\n",
    "    {'id' :'ind2',  'birth': datetime.date(2014-22, 1, 1)}\n",
    "\n",
    "    ]"
   ]
  },
  {
   "cell_type": "code",
   "execution_count": 70,
   "metadata": {
    "collapsed": false
   },
   "outputs": [],
   "source": [
    "familles = [\n",
    "    {'id': 0, 'enfants': ['ind2'], 'parents': ['ind0', 'ind1']}\n",
    "    ] "
   ]
  },
  {
   "cell_type": "code",
   "execution_count": 71,
   "metadata": {
    "collapsed": false
   },
   "outputs": [],
   "source": [
    "variables = [\n",
    "'sal', \n",
    "'revdisp', \n",
    "'impo', \n",
    "'tax_hab', \n",
    "'irpp', \n",
    "'iai', \n",
    "'credits_impot', \n",
    "'cehr', \n",
    "'apl', \n",
    "'als', \n",
    "'alv', \n",
    "'alf', \n",
    "'mini', \n",
    "'aspa', \n",
    "'aah', \n",
    "'caah', \n",
    "'asi', \n",
    "'aefa', \n",
    "'api', \n",
    "'ass', \n",
    "'psa', \n",
    "'rsa', \n",
    "'ars', \n",
    "'teicaa', \n",
    "'af', \n",
    "'pfam', \n",
    "'rng', \n",
    "'asf', \n",
    "'nbptr',\n",
    "] "
   ]
  },
  {
   "cell_type": "markdown",
   "metadata": {},
   "source": [
    "## 1/ Les quatre scénarios"
   ]
  },
  {
   "cell_type": "markdown",
   "metadata": {},
   "source": [
    "### a) Scenario_m_ff "
   ]
  },
  {
   "cell_type": "code",
   "execution_count": 30,
   "metadata": {
    "collapsed": false
   },
   "outputs": [],
   "source": [
    "menages = [\n",
    "    {'id': 0, 'conjoint': 'ind1', 'autres': [], 'enfants': ['ind2'], 'personne_de_reference': 'ind0'}\n",
    "    ]"
   ]
  },
  {
   "cell_type": "code",
   "execution_count": 31,
   "metadata": {
    "collapsed": false
   },
   "outputs": [],
   "source": [
    "foyers_fiscaux = [\n",
    "    {'id': 0, 'personnes_a_charge': ['ind2'], 'declarants': ['ind0', 'ind1']}\n",
    "    ] "
   ]
  },
  {
   "cell_type": "code",
   "execution_count": 32,
   "metadata": {
    "collapsed": false
   },
   "outputs": [],
   "source": [
    "test_case_m_ff = {'individus' : individus, 'menages' : menages,'familles' : familles, 'foyers_fiscaux' : foyers_fiscaux}"
   ]
  },
  {
   "cell_type": "code",
   "execution_count": 33,
   "metadata": {
    "collapsed": false
   },
   "outputs": [
    {
     "data": {
      "text/plain": [
       "openfisca_france.scenarios.Scenario"
      ]
     },
     "execution_count": 33,
     "metadata": {},
     "output_type": "execute_result"
    }
   ],
   "source": [
    "scenario_m_ff = tax_benefit_system.new_scenario()\n",
    "type(scenario_m_ff)"
   ]
  },
  {
   "cell_type": "code",
   "execution_count": 34,
   "metadata": {
    "collapsed": false
   },
   "outputs": [],
   "source": [
    "scenario_m_ff.test_case = test_case_m_ff"
   ]
  },
  {
   "cell_type": "code",
   "execution_count": 35,
   "metadata": {
    "collapsed": false
   },
   "outputs": [],
   "source": [
    "scenario_m_ff.period = periods.period(\"2014\")  "
   ]
  },
  {
   "cell_type": "code",
   "execution_count": 36,
   "metadata": {
    "collapsed": false
   },
   "outputs": [],
   "source": [
    "simulation_m_ff = scenario_m_ff.new_simulation(debug = True , trace = True)"
   ]
  },
  {
   "cell_type": "code",
   "execution_count": 37,
   "metadata": {
    "collapsed": false
   },
   "outputs": [],
   "source": [
    "menages = [\n",
    "    {'id': 0, 'conjoint': 'ind1', 'autres': [], 'enfants': ['ind2'], 'personne_de_reference': 'ind0'}\n",
    "    ]\n",
    "foyers_fiscaux = [\n",
    "    {'id': 0, 'personnes_a_charge': ['ind2'], 'declarants': ['ind0', 'ind1']}\n",
    "    ] \n",
    "familles = [\n",
    "    {'id': 0, 'enfants': ['ind2'], 'parents': ['ind0', 'ind1']}\n",
    "    ] \n",
    "\n",
    "individus = [ \n",
    "    {'id': 'ind0', u'salaire_de_base':{\n",
    "        Period((u'year', Instant((2013, 1, 1)), 1)): 15000.0,\n",
    "        Period((u'year', Instant((2014, 1, 1)), 1)): 15000.0,\n",
    "        }, \n",
    "        'birth': datetime.date(1960, 1, 1)},\n",
    "\n",
    "    {'id': 'ind1', u'salaire_de_base': {\n",
    "        Period((u'year', Instant((2013, 1, 1)), 1)): 15000.0,\n",
    "        Period((u'year', Instant((2014, 1, 1)), 1)): 15000.0,\n",
    "         },\n",
    "        'birth': datetime.date(1961, 12, 1)},\n",
    "\n",
    "    {'id' :'ind2',  'birth': datetime.date(2014-22, 1, 1)}\n",
    "    ]\n",
    "\n",
    "menages2 = [\n",
    "    {'id': 0, 'conjoint': 'ind1', 'autres': [], 'enfants': ['ind2'], 'personne_de_reference': 'ind0'}, \\\n",
    "    {'id': 0, 'conjoint': 'ind1', 'autres': [], 'enfants': ['ind2'], 'personne_de_reference': 'ind0'}\n",
    "    ]\n",
    "foyers_fiscaux2 = [\n",
    "    {'id': 0, 'personnes_a_charge': ['ind2'], 'declarants': ['ind0', 'ind1']},\n",
    "    {'id': 0, 'personnes_a_charge': ['ind2'], 'declarants': ['ind0', 'ind1']}\n",
    "    ] \n",
    "familles2 = [\n",
    "    {'id': 0, 'enfants': ['ind2'], 'parents': ['ind0', 'ind1']},\n",
    "    {'id': 0, 'enfants': ['ind2'], 'parents': ['ind0', 'ind1']}\n",
    "    ] \n",
    "test_case_m_ff_2 = {'individus' : individus, 'menages' : menages2,'familles' : familles2, 'foyers_fiscaux' : foyers_fiscaux2}"
   ]
  },
  {
   "cell_type": "code",
   "execution_count": 38,
   "metadata": {
    "collapsed": false
   },
   "outputs": [
    {
     "name": "stdout",
     "output_type": "stream",
     "text": [
      "{'foyers_fiscaux': [{'personnes_a_charge': ['ind2'], 'declarants': ['ind0', 'ind1'], 'id': 0}, {'personnes_a_charge': ['ind2'], 'declarants': ['ind0', 'ind1'], 'id': 0}], 'individus': [{u'salaire_de_base': {Period((u'year', Instant((2014, 1, 1)), 1)): 15000.0, Period((u'year', Instant((2013, 1, 1)), 1)): 15000.0}, 'id': 'ind0', 'birth': datetime.date(1960, 1, 1)}, {u'salaire_de_base': {Period((u'year', Instant((2014, 1, 1)), 1)): 15000.0, Period((u'year', Instant((2013, 1, 1)), 1)): 15000.0}, 'id': 'ind1', 'birth': datetime.date(1961, 12, 1)}, {'id': 'ind2', 'birth': datetime.date(1992, 1, 1)}], 'familles': [{'parents': ['ind0', 'ind1'], 'enfants': ['ind2'], 'id': 0}, {'parents': ['ind0', 'ind1'], 'enfants': ['ind2'], 'id': 0}], 'menages': [{'conjoint': 'ind1', 'autres': [], 'enfants': ['ind2'], 'id': 0, 'personne_de_reference': 'ind0'}, {'conjoint': 'ind1', 'autres': [], 'enfants': ['ind2'], 'id': 0, 'personne_de_reference': 'ind0'}]}\n"
     ]
    }
   ],
   "source": [
    "print test_case_m_ff_2"
   ]
  },
  {
   "cell_type": "code",
   "execution_count": 39,
   "metadata": {
    "collapsed": false
   },
   "outputs": [],
   "source": [
    "foyers_fiscaux = []\n",
    "menages = []\n",
    "familles = []\n",
    "\n",
    "#scenarion_multiple\n",
    "for id in range(0, 3) :\n",
    "    foyers_fiscaux = foyers_fiscaux + [{'id': id, 'personnes_a_charge': ['ind2'], 'declarants': ['ind0', 'ind1']}]\n",
    "    menages = menages + [{'id': id, 'conjoint': 'ind1', 'autres': [], 'enfants': ['ind2'], 'personne_de_reference': 'ind0'}]\n",
    "    familles = familles + [{'id': id, 'enfants': ['ind2'], 'parents': ['ind0', 'ind1']}]\n",
    "\n",
    "test_case_multiple = {'individus' : individus, 'menages' : menages,'familles' : familles, 'foyers_fiscaux' : foyers_fiscaux} "
   ]
  },
  {
   "cell_type": "code",
   "execution_count": 40,
   "metadata": {
    "collapsed": false
   },
   "outputs": [
    {
     "name": "stdout",
     "output_type": "stream",
     "text": [
      "{'a': 3, 'c': 5, 'b': 4}\n"
     ]
    },
    {
     "data": {
      "text/plain": [
       "{2: 4, 4: 16, 6: 36}"
      ]
     },
     "execution_count": 40,
     "metadata": {},
     "output_type": "execute_result"
    }
   ],
   "source": [
    "a = {'a' : 3, 'b': 4} \n",
    "a['c'] = 5\n",
    "print a\n",
    "a['c']\n",
    "{x: x**2 for x in (2, 4, 6)}"
   ]
  },
  {
   "cell_type": "code",
   "execution_count": 41,
   "metadata": {
    "collapsed": false
   },
   "outputs": [
    {
     "data": {
      "text/plain": [
       "array([     0.        ,      0.        ,  39340.59765625], dtype=float32)"
      ]
     },
     "execution_count": 41,
     "metadata": {},
     "output_type": "execute_result"
    }
   ],
   "source": [
    "scenario_m_ff.test_case = test_case_multiple\n",
    "simulation_m_ff = scenario_m_ff.new_simulation(debug = True , trace = True)\n",
    "simulation_m_ff.calculate('revdisp', '2014')"
   ]
  },
  {
   "cell_type": "code",
   "execution_count": 42,
   "metadata": {
    "collapsed": false
   },
   "outputs": [
    {
     "name": "stdout",
     "output_type": "stream",
     "text": [
      "{'foyers_fiscaux': [{'personnes_a_charge': ['ind2'], 'declarants': ['ind0', 'ind1'], 'id': 0}, {'personnes_a_charge': ['ind2'], 'declarants': ['ind0', 'ind1'], 'id': 1}, {'personnes_a_charge': ['ind2'], 'declarants': ['ind0', 'ind1'], 'id': 2}], 'individus': [{u'salaire_de_base': {Period((u'year', Instant((2014, 1, 1)), 1)): 15000.0, Period((u'year', Instant((2013, 1, 1)), 1)): 15000.0}, 'id': 'ind0', 'birth': datetime.date(1960, 1, 1)}, {u'salaire_de_base': {Period((u'year', Instant((2014, 1, 1)), 1)): 15000.0, Period((u'year', Instant((2013, 1, 1)), 1)): 15000.0}, 'id': 'ind1', 'birth': datetime.date(1961, 12, 1)}, {'id': 'ind2', 'birth': datetime.date(1992, 1, 1)}], 'familles': [{'parents': ['ind0', 'ind1'], 'enfants': ['ind2'], 'id': 0}, {'parents': ['ind0', 'ind1'], 'enfants': ['ind2'], 'id': 1}, {'parents': ['ind0', 'ind1'], 'enfants': ['ind2'], 'id': 2}], 'menages': [{'conjoint': 'ind1', 'autres': [], 'enfants': ['ind2'], 'id': 0, 'personne_de_reference': 'ind0'}, {'conjoint': 'ind1', 'autres': [], 'enfants': ['ind2'], 'id': 1, 'personne_de_reference': 'ind0'}, {'conjoint': 'ind1', 'autres': [], 'enfants': ['ind2'], 'id': 2, 'personne_de_reference': 'ind0'}]}\n"
     ]
    }
   ],
   "source": [
    "print test_case_multiple"
   ]
  },
  {
   "cell_type": "code",
   "execution_count": 43,
   "metadata": {
    "collapsed": false
   },
   "outputs": [
    {
     "name": "stdout",
     "output_type": "stream",
     "text": [
      "{u'salaire_de_base': {Period((u'year', Instant((2014, 1, 1)), 1)): 15000.0, Period((u'year', Instant((2013, 1, 1)), 1)): 15000.0}, 'id': 'ind1', 'birth': datetime.date(1961, 12, 1)}\n"
     ]
    }
   ],
   "source": [
    "a =[2,3,4]\n",
    "a + [5,6,7]\n",
    "print individus[1]"
   ]
  },
  {
   "cell_type": "code",
   "execution_count": 44,
   "metadata": {
    "collapsed": false
   },
   "outputs": [],
   "source": [
    "individus = [ \n",
    "    {'id': 'ind0', u'salaire_de_base':{\n",
    "        Period((u'year', Instant((2013, 1, 1)), 1)): 15000.0,\n",
    "        Period((u'year', Instant((2014, 1, 1)), 1)): 15000.0,\n",
    "        }, \n",
    "        'birth': datetime.date(1960, 1, 1)},\n",
    "\n",
    "    {'id': 'ind1', u'salaire_de_base': {\n",
    "        Period((u'year', Instant((2013, 1, 1)), 1)): 15000.0,\n",
    "        Period((u'year', Instant((2014, 1, 1)), 1)): 15000.0,\n",
    "         },\n",
    "        'birth': datetime.date(1961, 12, 1)},\n",
    "\n",
    "    {'id' :'ind2',  'birth': datetime.date(2014-22, 1, 1)}\n",
    "    ]"
   ]
  },
  {
   "cell_type": "code",
   "execution_count": 21,
   "metadata": {
    "collapsed": false
   },
   "outputs": [
    {
     "name": "stdout",
     "output_type": "stream",
     "text": [
      "15000.0\n"
     ]
    }
   ],
   "source": [
    "individus[1]['salaire_de_base'] = { Period((u'year', Instant((2013, 1, 1)), 1)): 15000.0,\n",
    "                                    Period((u'year', Instant((2014, 1, 1)), 1)): 15000.0}\n",
    "print individus[1]['salaire_de_base'][Period((u'year', Instant((2013, 1, 1)), 1))]"
   ]
  },
  {
   "cell_type": "code",
   "execution_count": 24,
   "metadata": {
    "collapsed": false
   },
   "outputs": [
    {
     "name": "stdout",
     "output_type": "stream",
     "text": [
      "{'foyers_fiscaux': [{'personnes_a_charge': ['ind2'], 'declarants': ['ind0', 'ind1'], 'id': 0}, {'personnes_a_charge': ['ind5'], 'declarants': ['ind3', 'ind4'], 'id': 1}], 'individus': [{u'salaire_de_base': {Period((u'year', Instant((2014, 1, 1)), 1)): 0, Period((u'year', Instant((2013, 1, 1)), 1)): 0}, 'id': 'ind0', 'birth': datetime.date(1960, 1, 1)}, {'id': 'ind1', 'birth': datetime.date(1961, 12, 1)}, {'id': 'ind2', 'birth': datetime.date(1992, 1, 1)}, {u'salaire_de_base': {Period((u'year', Instant((2014, 1, 1)), 1)): 0, Period((u'year', Instant((2013, 1, 1)), 1)): 0}, 'id': 'ind3', 'birth': datetime.date(1960, 1, 1)}, {'id': 'ind4', 'birth': datetime.date(1961, 12, 1)}, {'id': 'ind5', 'birth': datetime.date(1992, 1, 1)}], 'familles': [{'parents': ['ind0', 'ind1'], 'enfants': ['ind2'], 'id': 0}, {'parents': ['ind3', 'ind4'], 'enfants': ['ind5'], 'id': 1}], 'menages': [{'conjoint': 'ind11', 'autres': [], 'enfants': ['ind22'], 'id': 0, 'personne_de_reference': 'ind0'}, {'conjoint': 'ind14', 'autres': [], 'enfants': ['ind25'], 'id': 1, 'personne_de_reference': 'ind3'}]}\n",
      "============================\n",
      "{'foyers_fiscaux': [{'personnes_a_charge': ['ind2'], 'declarants': ['ind0', 'ind1'], 'id': 0}, {'personnes_a_charge': ['ind2'], 'declarants': ['ind0', 'ind1'], 'id': 1}, {'personnes_a_charge': ['ind2'], 'declarants': ['ind0', 'ind1'], 'id': 2}], 'individus': [{u'salaire_de_base': {Period((u'year', Instant((2014, 1, 1)), 1)): 15000.0, Period((u'year', Instant((2013, 1, 1)), 1)): 15000.0}, 'id': 'ind0', 'birth': datetime.date(1960, 1, 1)}, {u'salaire_de_base': {Period((u'year', Instant((2014, 1, 1)), 1)): 15000.0, Period((u'year', Instant((2013, 1, 1)), 1)): 15000.0}, 'id': 'ind1', 'birth': datetime.date(1961, 12, 1)}, {'id': 'ind2', 'birth': datetime.date(1992, 1, 1)}], 'familles': [{'parents': ['ind0', 'ind1'], 'enfants': ['ind2'], 'id': 0}, {'parents': ['ind0', 'ind1'], 'enfants': ['ind2'], 'id': 1}, {'parents': ['ind0', 'ind1'], 'enfants': ['ind2'], 'id': 2}], 'menages': [{'conjoint': 'ind1', 'autres': [], 'enfants': ['ind2'], 'id': 0, 'personne_de_reference': 'ind0'}, {'conjoint': 'ind1', 'autres': [], 'enfants': ['ind2'], 'id': 1, 'personne_de_reference': 'ind0'}, {'conjoint': 'ind1', 'autres': [], 'enfants': ['ind2'], 'id': 2, 'personne_de_reference': 'ind0'}]}\n"
     ]
    }
   ],
   "source": [
    "foyers_fiscaux = []\n",
    "menages = []\n",
    "familles = []\n",
    "individus = []\n",
    "\n",
    "salaire_max = 200000\n",
    "salaire_min = 0\n",
    "\n",
    "\n",
    "#scenarion_multiple\n",
    "for id in range(0, 2) :\n",
    "    foyers_fiscaux = foyers_fiscaux + [{'id': id, 'personnes_a_charge': ['ind{}'.format((id*3)+2)], \n",
    "                                        'declarants': ['ind{}'.format(id*3), 'ind{}'.format((id*3)+1) ]}]\n",
    "    menages = menages + [{'id': id, 'conjoint': 'ind1{}'.format((id*3) + 1), 'autres': [], \n",
    "                          'enfants': ['ind2{}'.format((id*3) + 2)],\n",
    "                          'personne_de_reference': 'ind{}'.format(id*3)}]\n",
    "    familles = familles + [{'id': id, 'enfants': ['ind{}'.format(id*3 + 2)], 'parents': ['ind{}'.format(id*3), 'ind{}'.format(id*3 +1)]}]\n",
    "    individus += [ {'id': 'ind{}'.format(id*3), \n",
    "                   u'salaire_de_base':{Period((u'year', Instant((2013, 1, 1)), 1)): salaire_max * (id/10),\n",
    "                                       Period((u'year', Instant((2014, 1, 1)), 1)): salaire_max * (id/10),\n",
    "                                    }, \n",
    "                'birth': datetime.date(1960, 1, 1)},\n",
    "                {'id': 'ind{}'.format(id*3+1),'birth': datetime.date(1961, 12, 1)},\n",
    "                {'id' :'ind{}'.format(id*3+2),  'birth': datetime.date(2014-22, 1, 1)}\n",
    "                ]\n",
    "    \n",
    "    \n",
    "test_case_multiple2 = {'individus' : individus, 'menages' : menages,'familles' : familles, 'foyers_fiscaux' : foyers_fiscaux} \n",
    "print test_case_multiple2\n",
    "print '============================'\n",
    "print test_case_multiple"
   ]
  },
  {
   "cell_type": "code",
   "execution_count": 25,
   "metadata": {
    "collapsed": false
   },
   "outputs": [
    {
     "data": {
      "text/plain": [
       "array([     0.        ,      0.        ,  39340.59765625], dtype=float32)"
      ]
     },
     "execution_count": 25,
     "metadata": {},
     "output_type": "execute_result"
    }
   ],
   "source": [
    "scenario_m_ff.test_case = test_case_multiple\n",
    "simulation_m_ff = scenario_m_ff.new_simulation(debug = True , trace = True)\n",
    "simulation_m_ff.calculate('revdisp', '2014')"
   ]
  },
  {
   "cell_type": "code",
   "execution_count": 26,
   "metadata": {
    "collapsed": false
   },
   "outputs": [
    {
     "ename": "KeyError",
     "evalue": "'ind11'",
     "output_type": "error",
     "traceback": [
      "\u001b[0;31m---------------------------------------------------------------------------\u001b[0m\n\u001b[0;31mKeyError\u001b[0m                                  Traceback (most recent call last)",
      "\u001b[0;32m<ipython-input-26-11ae94ba5617>\u001b[0m in \u001b[0;36m<module>\u001b[0;34m()\u001b[0m\n\u001b[1;32m      1\u001b[0m \u001b[0mscenario_m_ff\u001b[0m\u001b[0;34m.\u001b[0m\u001b[0mtest_case\u001b[0m \u001b[0;34m=\u001b[0m \u001b[0mtest_case_multiple2\u001b[0m\u001b[0;34m\u001b[0m\u001b[0m\n\u001b[0;32m----> 2\u001b[0;31m \u001b[0msimulation_m_ff\u001b[0m \u001b[0;34m=\u001b[0m \u001b[0mscenario_m_ff\u001b[0m\u001b[0;34m.\u001b[0m\u001b[0mnew_simulation\u001b[0m\u001b[0;34m(\u001b[0m\u001b[0mdebug\u001b[0m \u001b[0;34m=\u001b[0m \u001b[0mTrue\u001b[0m \u001b[0;34m,\u001b[0m \u001b[0mtrace\u001b[0m \u001b[0;34m=\u001b[0m \u001b[0mTrue\u001b[0m\u001b[0;34m)\u001b[0m\u001b[0;34m\u001b[0m\u001b[0m\n\u001b[0m\u001b[1;32m      3\u001b[0m \u001b[0msimulation_m_ff\u001b[0m\u001b[0;34m.\u001b[0m\u001b[0mcalculate\u001b[0m\u001b[0;34m(\u001b[0m\u001b[0;34m'revdisp'\u001b[0m\u001b[0;34m,\u001b[0m \u001b[0;34m'2014'\u001b[0m\u001b[0;34m)\u001b[0m\u001b[0;34m\u001b[0m\u001b[0m\n",
      "\u001b[0;32m/home/openfisca/openfisca-core/openfisca_core/scenarios.pyc\u001b[0m in \u001b[0;36mnew_simulation\u001b[0;34m(self, debug, debug_all, reference, trace)\u001b[0m\n\u001b[1;32m    309\u001b[0m             \u001b[0mtrace\u001b[0m \u001b[0;34m=\u001b[0m \u001b[0mtrace\u001b[0m\u001b[0;34m,\u001b[0m\u001b[0;34m\u001b[0m\u001b[0m\n\u001b[1;32m    310\u001b[0m             )\n\u001b[0;32m--> 311\u001b[0;31m         \u001b[0mself\u001b[0m\u001b[0;34m.\u001b[0m\u001b[0mfill_simulation\u001b[0m\u001b[0;34m(\u001b[0m\u001b[0msimulation\u001b[0m\u001b[0;34m)\u001b[0m\u001b[0;34m\u001b[0m\u001b[0m\n\u001b[0m\u001b[1;32m    312\u001b[0m         \u001b[0;32mreturn\u001b[0m \u001b[0msimulation\u001b[0m\u001b[0;34m\u001b[0m\u001b[0m\n\u001b[1;32m    313\u001b[0m \u001b[0;34m\u001b[0m\u001b[0m\n",
      "\u001b[0;32m/home/openfisca/openfisca-core/openfisca_core/scenarios.pyc\u001b[0m in \u001b[0;36mfill_simulation\u001b[0;34m(self, simulation, variables_name_to_skip)\u001b[0m\n\u001b[1;32m    102\u001b[0m             \u001b[0;32mfor\u001b[0m \u001b[0mmember_index\u001b[0m\u001b[0;34m,\u001b[0m \u001b[0mmember\u001b[0m \u001b[0;32min\u001b[0m \u001b[0menumerate\u001b[0m\u001b[0;34m(\u001b[0m\u001b[0mtest_case\u001b[0m\u001b[0;34m[\u001b[0m\u001b[0mentity_key_plural\u001b[0m\u001b[0;34m]\u001b[0m\u001b[0;34m)\u001b[0m\u001b[0;34m:\u001b[0m\u001b[0;34m\u001b[0m\u001b[0m\n\u001b[1;32m    103\u001b[0m                 \u001b[0;32mfor\u001b[0m \u001b[0mperson_role\u001b[0m\u001b[0;34m,\u001b[0m \u001b[0mperson_id\u001b[0m \u001b[0;32min\u001b[0m \u001b[0mentity\u001b[0m\u001b[0;34m.\u001b[0m\u001b[0miter_member_persons_role_and_id\u001b[0m\u001b[0;34m(\u001b[0m\u001b[0mmember\u001b[0m\u001b[0;34m)\u001b[0m\u001b[0;34m:\u001b[0m\u001b[0;34m\u001b[0m\u001b[0m\n\u001b[0;32m--> 104\u001b[0;31m                     \u001b[0mperson_index\u001b[0m \u001b[0;34m=\u001b[0m \u001b[0mperson_index_by_id\u001b[0m\u001b[0;34m[\u001b[0m\u001b[0mperson_id\u001b[0m\u001b[0;34m]\u001b[0m\u001b[0;34m\u001b[0m\u001b[0m\n\u001b[0m\u001b[1;32m    105\u001b[0m                     \u001b[0;32mfor\u001b[0m \u001b[0mstep_index\u001b[0m \u001b[0;32min\u001b[0m \u001b[0mrange\u001b[0m\u001b[0;34m(\u001b[0m\u001b[0msteps_count\u001b[0m\u001b[0;34m)\u001b[0m\u001b[0;34m:\u001b[0m\u001b[0;34m\u001b[0m\u001b[0m\n\u001b[1;32m    106\u001b[0m                         \u001b[0mperson_entity_id_array\u001b[0m\u001b[0;34m[\u001b[0m\u001b[0mstep_index\u001b[0m \u001b[0;34m*\u001b[0m \u001b[0mpersons_step_size\u001b[0m \u001b[0;34m+\u001b[0m \u001b[0mperson_index\u001b[0m\u001b[0;34m]\u001b[0m\u001b[0;31m \u001b[0m\u001b[0;31m\\\u001b[0m\u001b[0;34m\u001b[0m\u001b[0m\n",
      "\u001b[0;31mKeyError\u001b[0m: 'ind11'"
     ]
    }
   ],
   "source": [
    "scenario_m_ff.test_case = test_case_multiple2\n",
    "simulation_m_ff = scenario_m_ff.new_simulation(debug = True , trace = True)\n",
    "simulation_m_ff.calculate('revdisp', '2014')"
   ]
  },
  {
   "cell_type": "markdown",
   "metadata": {},
   "source": [
    "### b) Scenario_m_2ff"
   ]
  },
  {
   "cell_type": "code",
   "execution_count": 45,
   "metadata": {
    "collapsed": false
   },
   "outputs": [],
   "source": [
    "foyers_fiscaux_par = [\n",
    "    {'id': 0, 'personnes_a_charge': [], 'declarants': ['ind0', 'ind1']}\n",
    "    ]\n",
    "# Ici, je crée le foyer fiscal des parents (déclaration commune des parents)"
   ]
  },
  {
   "cell_type": "code",
   "execution_count": 46,
   "metadata": {
    "collapsed": false
   },
   "outputs": [],
   "source": [
    "foyers_fiscaux_enf = [\n",
    "    {'id': 1, 'personnes_a_charge': [], 'declarants': ['ind2']}\n",
    "    ]\n",
    "# Ici, je crée le foyer fiscal du jeune garçon qui veut devenir indépendant"
   ]
  },
  {
   "cell_type": "code",
   "execution_count": 47,
   "metadata": {
    "collapsed": false
   },
   "outputs": [],
   "source": [
    "foyers_fiscaux_div = foyers_fiscaux_par + foyers_fiscaux_enf #fusion des deux nouveaux foyers pour économie dans le test_case\n",
    "# \"div\" pour \"divisé\""
   ]
  },
  {
   "cell_type": "code",
   "execution_count": 48,
   "metadata": {
    "collapsed": false
   },
   "outputs": [],
   "source": [
    "test_case_m_2ff = {\n",
    "'individus' : individus, \n",
    "'menages' : menages, \n",
    "'familles' : familles, \n",
    "'foyers_fiscaux' : foyers_fiscaux_div,\n",
    "} "
   ]
  },
  {
   "cell_type": "code",
   "execution_count": 49,
   "metadata": {
    "collapsed": false
   },
   "outputs": [
    {
     "data": {
      "text/plain": [
       "openfisca_france.scenarios.Scenario"
      ]
     },
     "execution_count": 49,
     "metadata": {},
     "output_type": "execute_result"
    }
   ],
   "source": [
    "scenario_m_2ff = tax_benefit_system.new_scenario()\n",
    "type(scenario_m_2ff)"
   ]
  },
  {
   "cell_type": "code",
   "execution_count": 50,
   "metadata": {
    "collapsed": false
   },
   "outputs": [],
   "source": [
    "scenario_m_2ff.test_case = test_case_m_2ff "
   ]
  },
  {
   "cell_type": "code",
   "execution_count": 51,
   "metadata": {
    "collapsed": false
   },
   "outputs": [],
   "source": [
    "scenario_m_2ff.period = periods.period(\"2014\")"
   ]
  },
  {
   "cell_type": "code",
   "execution_count": 52,
   "metadata": {
    "collapsed": false
   },
   "outputs": [],
   "source": [
    "simulation_m_2ff = scenario_m_2ff.new_simulation(debug = True , trace = True) "
   ]
  },
  {
   "cell_type": "markdown",
   "metadata": {},
   "source": [
    "### c) Scenario_2m_ff "
   ]
  },
  {
   "cell_type": "code",
   "execution_count": 53,
   "metadata": {
    "collapsed": false
   },
   "outputs": [],
   "source": [
    "menages_par = [\n",
    "    {'id': 0, 'conjoint': 'ind1', 'autres': [], 'enfants': [], 'personne_de_reference': 'ind0'}\n",
    "    ]\n",
    "# puisque l'enfant quitte la maison familiale pour aller étudier, il quitte le ménage"
   ]
  },
  {
   "cell_type": "code",
   "execution_count": 54,
   "metadata": {
    "collapsed": false
   },
   "outputs": [],
   "source": [
    "menages_enf = [\n",
    "    {'id': 1, 'autres': [], 'enfants': [], 'personne_de_reference': 'ind2'}\n",
    "    ]\n",
    "# et donc il forme un nouveau ménage"
   ]
  },
  {
   "cell_type": "code",
   "execution_count": 55,
   "metadata": {
    "collapsed": false
   },
   "outputs": [],
   "source": [
    "menages_div = menages_par + menages_enf # fusion des deux ménages pour économie dans le test_case"
   ]
  },
  {
   "cell_type": "code",
   "execution_count": 56,
   "metadata": {
    "collapsed": false
   },
   "outputs": [],
   "source": [
    "test_case_2m_ff = {\n",
    "'individus' : individus, \n",
    "'foyers_fiscaux' : foyers_fiscaux,\n",
    "'familles' : familles, \n",
    "'menages' : menages_div,\n",
    "}  "
   ]
  },
  {
   "cell_type": "code",
   "execution_count": 57,
   "metadata": {
    "collapsed": false
   },
   "outputs": [
    {
     "data": {
      "text/plain": [
       "openfisca_france.scenarios.Scenario"
      ]
     },
     "execution_count": 57,
     "metadata": {},
     "output_type": "execute_result"
    }
   ],
   "source": [
    "scenario_2m_ff = tax_benefit_system.new_scenario()\n",
    "type(scenario_2m_ff)"
   ]
  },
  {
   "cell_type": "code",
   "execution_count": 58,
   "metadata": {
    "collapsed": false
   },
   "outputs": [],
   "source": [
    "scenario_2m_ff.test_case = test_case_2m_ff"
   ]
  },
  {
   "cell_type": "code",
   "execution_count": 59,
   "metadata": {
    "collapsed": false
   },
   "outputs": [],
   "source": [
    "scenario_2m_ff.period = periods.period(\"2014\")"
   ]
  },
  {
   "cell_type": "code",
   "execution_count": 60,
   "metadata": {
    "collapsed": false
   },
   "outputs": [],
   "source": [
    "simulation_2m_ff = scenario_2m_ff.new_simulation(debug = True , trace = True)"
   ]
  },
  {
   "cell_type": "markdown",
   "metadata": {},
   "source": [
    "### d) Scenario_2m_2ff"
   ]
  },
  {
   "cell_type": "code",
   "execution_count": 61,
   "metadata": {
    "collapsed": false
   },
   "outputs": [],
   "source": [
    "test_case_2m_2ff = {\n",
    "'individus' : individus, \n",
    "'menages' : menages_div,\n",
    "'familles' : familles, \n",
    "'foyers_fiscaux' : foyers_fiscaux_div,\n",
    "}  "
   ]
  },
  {
   "cell_type": "code",
   "execution_count": 62,
   "metadata": {
    "collapsed": false
   },
   "outputs": [
    {
     "data": {
      "text/plain": [
       "openfisca_france.scenarios.Scenario"
      ]
     },
     "execution_count": 62,
     "metadata": {},
     "output_type": "execute_result"
    }
   ],
   "source": [
    "scenario_2m_2ff = tax_benefit_system.new_scenario()\n",
    "type(scenario_2m_2ff)"
   ]
  },
  {
   "cell_type": "code",
   "execution_count": 63,
   "metadata": {
    "collapsed": false
   },
   "outputs": [],
   "source": [
    "scenario_2m_2ff.test_case = test_case_2m_2ff"
   ]
  },
  {
   "cell_type": "code",
   "execution_count": 64,
   "metadata": {
    "collapsed": false
   },
   "outputs": [],
   "source": [
    "scenario_2m_2ff.period = periods.period(\"2014\")"
   ]
  },
  {
   "cell_type": "code",
   "execution_count": 65,
   "metadata": {
    "collapsed": false
   },
   "outputs": [],
   "source": [
    "simulation_2m_2ff = scenario_2m_2ff.new_simulation(debug = True , trace = True) "
   ]
  },
  {
   "cell_type": "markdown",
   "metadata": {},
   "source": [
    "## 2/ Synthèse des résultats"
   ]
  },
  {
   "cell_type": "code",
   "execution_count": 66,
   "metadata": {
    "collapsed": false
   },
   "outputs": [
    {
     "name": "stdout",
     "output_type": "stream",
     "text": [
      "sal [ 15000.  15000.      0.] [ 15000.  15000.      0.] [ 15000.  15000.      0.] [ 15000.  15000.      0.]\n",
      "revdisp [     0.              0.          39340.59765625] [     0.             0.         38624.5390625] [ 39340.59765625      0.        ] [ 38624.5390625      0.       ]\n",
      "impo [    0.             0.         -1745.09997559] [    0.             0.         -2461.15991211] [-1745.09997559     0.        ] [-2461.15991211     0.        ]\n",
      "tax_hab [ 0.  0.  0.] [ 0.  0.  0.] [ 0.  0.] [ 0.  0.]\n",
      "irpp [    0.             0.         -1745.09997559] [-2461.15991211     0.        ] [    0.             0.         -1745.09997559] [-2461.15991211     0.        ]\n",
      "iai [    0.             0.          1745.09997559] [ 2461.15991211     0.        ] [    0.             0.          1745.09997559] [ 2461.15991211     0.        ]\n",
      "credits_impot [ 0.  0.  0.] [ 0.  0.] [ 0.  0.  0.] [ 0.  0.]\n",
      "cehr [ 0.  0.  0.] [ 0.  0.] [ 0.  0.  0.] [ 0.  0.]\n",
      "apl [ 0.  0.  0.] [ 0.  0.  0.] [ 0.  0.  0.] [ 0.  0.  0.]\n",
      "als [ 0.  0.  0.] [ 0.  0.  0.] [ 0.  0.  0.] [ 0.  0.  0.]\n",
      "alv [ 0.  0.  0.] [ 0.  0.] [ 0.  0.  0.] [ 0.  0.]\n",
      "alf [ 0.  0.  0.] [ 0.  0.  0.] [ 0.  0.  0.] [ 0.  0.  0.]\n",
      "mini [     0.              0.          11085.69921875] [     0.              0.          11085.69921875] [     0.              0.          11085.69921875] [     0.              0.          11085.69921875]\n",
      "aspa [ 0.  0.  0.] [ 0.  0.  0.] [ 0.  0.  0.] [ 0.  0.  0.]\n",
      "aah [ 0.  0.  0.] [ 0.  0.  0.] [ 0.  0.  0.] [ 0.  0.  0.]\n",
      "caah [ 0.  0.  0.] [ 0.  0.  0.] [ 0.  0.  0.] [ 0.  0.  0.]\n",
      "asi [ 0.  0.  0.] [ 0.  0.  0.] [ 0.  0.  0.] [ 0.  0.  0.]\n",
      "aefa [   0.            0.          228.67500305] [   0.            0.          228.67500305] [   0.            0.          228.67500305] [   0.            0.          228.67500305]\n",
      "api [ 0.  0.  0.] [ 0.  0.  0.] [ 0.  0.  0.] [ 0.  0.  0.]\n",
      "ass [ 0.  0.  0.] [ 0.  0.  0.] [ 0.  0.  0.] [ 0.  0.  0.]\n",
      "psa [ 0.  0.  0.] [ 0.  0.  0.] [ 0.  0.  0.] [ 0.  0.  0.]\n",
      "rsa [     0.              0.          10857.02441406] [     0.              0.          10857.02441406] [     0.              0.          10857.02441406] [     0.              0.          10857.02441406]\n",
      "ars [ 0.  0.  0.] [ 0.  0.  0.] [ 0.  0.  0.] [ 0.  0.  0.]\n",
      "teicaa [ 0.  0.  0.] [ 0.  0.] [ 0.  0.  0.] [ 0.  0.]\n",
      "af [ 0.  0.  0.] [ 0.  0.  0.] [ 0.  0.  0.] [ 0.  0.  0.]\n",
      "pfam [ 0.  0.  0.] [ 0.  0.  0.] [ 0.  0.  0.] [ 0.  0.  0.]\n",
      "rng [     0.      0.  27000.] [ 27000.      0.] [     0.      0.  27000.] [ 27000.      0.]\n",
      "asf [ 0.  0.  0.] [ 0.  0.  0.] [ 0.  0.  0.] [ 0.  0.  0.]\n",
      "nbptr [ 1.   1.   1.5] [ 1.  1.] [ 1.   1.   1.5] [ 1.  1.]\n"
     ]
    }
   ],
   "source": [
    "for variable in variables: \n",
    "    print variable, simulation_m_ff.calculate(variable), simulation_m_2ff.calculate(variable), simulation_2m_ff.calculate(variable), simulation_2m_2ff.calculate(variable)"
   ]
  },
  {
   "cell_type": "code",
   "execution_count": 79,
   "metadata": {
    "collapsed": false
   },
   "outputs": [
    {
     "name": "stdout",
     "output_type": "stream",
     "text": [
      "15000.0; 15000.0; 0.0; \n"
     ]
    }
   ],
   "source": [
    "str(36)\n",
    "string = ''\n",
    "for number in simulation_m_ff.calculate('sal'):\n",
    "    string += str(number) + \"; \"\n",
    "print string\n",
    "    "
   ]
  },
  {
   "cell_type": "code",
   "execution_count": 3,
   "metadata": {
    "collapsed": false
   },
   "outputs": [
    {
     "data": {
      "text/html": [
       "<div style=\"max-height:1000px;max-width:1500px;overflow:auto;\">\n",
       "<table border=\"1\" class=\"dataframe\">\n",
       "  <thead>\n",
       "    <tr style=\"text-align: right;\">\n",
       "      <th></th>\n",
       "      <th>essai</th>\n",
       "      <th>erreur</th>\n",
       "    </tr>\n",
       "  </thead>\n",
       "  <tbody>\n",
       "    <tr>\n",
       "      <th>2</th>\n",
       "      <td>         2</td>\n",
       "      <td>        3</td>\n",
       "    </tr>\n",
       "    <tr>\n",
       "      <th>3</th>\n",
       "      <td>         4</td>\n",
       "      <td>        5</td>\n",
       "    </tr>\n",
       "    <tr>\n",
       "      <th>jambon</th>\n",
       "      <td> pascaline</td>\n",
       "      <td> huguette</td>\n",
       "    </tr>\n",
       "  </tbody>\n",
       "</table>\n",
       "</div>"
      ],
      "text/plain": [
       "            essai    erreur\n",
       "2               2         3\n",
       "3               4         5\n",
       "jambon  pascaline  huguette"
      ]
     },
     "execution_count": 3,
     "metadata": {},
     "output_type": "execute_result"
    }
   ],
   "source": [
    "import numpy as np\n",
    "import pandas as pd\n",
    "pd.DataFrame(np.array([[2,3],[4,5],['pascaline', 'huguette']]), columns = ['essai','erreur'], index = [2,3, 'jambon'])"
   ]
  },
  {
   "cell_type": "code",
   "execution_count": null,
   "metadata": {
    "collapsed": false
   },
   "outputs": [],
   "source": [
    "import pandas as pd\n",
    "tableau = pd.DataFrame(benchmark1.calculate(var, period = annee), columns = [var])"
   ]
  },
  {
   "cell_type": "code",
   "execution_count": 93,
   "metadata": {
    "collapsed": false
   },
   "outputs": [],
   "source": [
    "simulations = [simulation_m_ff, \n",
    "               simulation_m_2ff, \n",
    "               simulation_2m_ff,\n",
    "               simulation_2m_2ff]\n",
    "simulations_names = ['simulation_m_ff', \n",
    "                   'simulation_m_2ff', \n",
    "                   'simulation_2m_ff',\n",
    "                   'simulation_2m_2ff']\n",
    "tupple = (simulations , simulations_names)"
   ]
  },
  {
   "cell_type": "code",
   "execution_count": 99,
   "metadata": {
    "collapsed": false
   },
   "outputs": [
    {
     "name": "stdout",
     "output_type": "stream",
     "text": [
      "                                                               nbptr\n",
      "simulations_names  15000.0; 15000.0; 0.0; 15000.0; 15000.0; 0.0; ...\n"
     ]
    }
   ],
   "source": [
    "import pandas as pd\n",
    "\n",
    "string = ''\n",
    "for variable in variables: \n",
    "    for simulation in simulations :\n",
    "        for number in simulation.calculate(variable):\n",
    "            string += str(number) + \"; \"\n",
    "        a = pd.DataFrame(string, columns = [variable], index = ['simulations_names'])\n",
    "print a"
   ]
  },
  {
   "cell_type": "code",
   "execution_count": 35,
   "metadata": {
    "collapsed": false
   },
   "outputs": [
    {
     "ename": "NameError",
     "evalue": "name 'simulation_m_ff' is not defined",
     "output_type": "error",
     "traceback": [
      "\u001b[0;31m---------------------------------------------------------------------------\u001b[0m\n\u001b[0;31mNameError\u001b[0m                                 Traceback (most recent call last)",
      "\u001b[0;32m<ipython-input-35-c12d93e97c3c>\u001b[0m in \u001b[0;36m<module>\u001b[0;34m()\u001b[0m\n\u001b[1;32m      1\u001b[0m \u001b[0;32mimport\u001b[0m \u001b[0mpandas\u001b[0m \u001b[0;32mas\u001b[0m \u001b[0mpd\u001b[0m\u001b[0;34m\u001b[0m\u001b[0m\n\u001b[1;32m      2\u001b[0m \u001b[0;31m#df1 = pd.DataFrame(benchmark1.calculate(var, period = annee), columns = [var])\u001b[0m\u001b[0;34m\u001b[0m\u001b[0;34m\u001b[0m\u001b[0m\n\u001b[0;32m----> 3\u001b[0;31m \u001b[0;32mfor\u001b[0m \u001b[0msimulation\u001b[0m \u001b[0;32min\u001b[0m \u001b[0;34m[\u001b[0m\u001b[0msimulation_m_ff\u001b[0m\u001b[0;34m,\u001b[0m \u001b[0msimulation_m_2ff\u001b[0m\u001b[0;34m,\u001b[0m \u001b[0msimulation_2m_ff\u001b[0m\u001b[0;34m,\u001b[0m \u001b[0msimulation_2m_2ff\u001b[0m\u001b[0;34m]\u001b[0m\u001b[0;34m:\u001b[0m\u001b[0;34m\u001b[0m\u001b[0m\n\u001b[0m\u001b[1;32m      4\u001b[0m     \u001b[0;32mfor\u001b[0m \u001b[0mvariable\u001b[0m \u001b[0;32min\u001b[0m \u001b[0mvariables\u001b[0m\u001b[0;34m:\u001b[0m\u001b[0;34m\u001b[0m\u001b[0m\n\u001b[1;32m      5\u001b[0m         \u001b[0;32mprint\u001b[0m \u001b[0mvariable\u001b[0m\u001b[0;34m,\u001b[0m \u001b[0msimulation_m_ff\u001b[0m\u001b[0;34m.\u001b[0m\u001b[0mcalculate\u001b[0m\u001b[0;34m(\u001b[0m\u001b[0mvariable\u001b[0m\u001b[0;34m)\u001b[0m\u001b[0;34m\u001b[0m\u001b[0m\n",
      "\u001b[0;31mNameError\u001b[0m: name 'simulation_m_ff' is not defined"
     ]
    }
   ],
   "source": [
    "import pandas as pd\n",
    "#df1 = pd.DataFrame(benchmark1.calculate(var, period = annee), columns = [var])\n",
    "for simulation in [simulation_m_ff, simulation_m_2ff, simulation_2m_ff, simulation_2m_2ff]:\n",
    "    for variable in variables:     \n",
    "        print variable, simulation_m_ff.calculate(variable)\n",
    "#         = pd.DataFrame(benchmark1.calculate(variable, period = annee), columns = [variable])"
   ]
  },
  {
   "cell_type": "code",
   "execution_count": null,
   "metadata": {
    "collapsed": false
   },
   "outputs": [],
   "source": [
    "for variable in variables: \n",
    "    print variable, simulation_m_ff.calculate(variable), simulation_m_2ff.calculate(variable), \\\n",
    "    simulation_2m_ff.calculate(variable), simulation_2m_2ff.calculate(variable)"
   ]
  },
  {
   "cell_type": "markdown",
   "metadata": {},
   "source": [
    "## 3/ Représentations graphiques"
   ]
  },
  {
   "cell_type": "code",
   "execution_count": 35,
   "metadata": {
    "collapsed": false
   },
   "outputs": [],
   "source": [
    "year = 2014"
   ]
  },
  {
   "cell_type": "code",
   "execution_count": 36,
   "metadata": {
    "collapsed": false
   },
   "outputs": [
    {
     "name": "stdout",
     "output_type": "stream",
     "text": [
      "[ 15000.      0.]\n"
     ]
    }
   ],
   "source": [
    "salaire_imposable = simulation_m_ff.calculate('sal', period = year)[:200:2] \n",
    "salaire_imposable.shape\n",
    "print salaire_imposable\n",
    "# dans tous les scénarios, le salaire_imposable reste le même."
   ]
  },
  {
   "cell_type": "markdown",
   "metadata": {},
   "source": [
    "### a) Gain en IRPP lié au détachement fiscal"
   ]
  },
  {
   "cell_type": "code",
   "execution_count": 37,
   "metadata": {
    "collapsed": false
   },
   "outputs": [
    {
     "data": {
      "text/plain": [
       "openfisca_core.simulations.Simulation"
      ]
     },
     "execution_count": 37,
     "metadata": {},
     "output_type": "execute_result"
    }
   ],
   "source": [
    "iai_m_ff = simulation_m_ff.calculate(\"iai\", period = year)\n",
    "iai_2m_2ff = simulation_2m_2ff.calculate(\"iai\", period = year)\n",
    "type (simulation_m_ff) \n",
    "# on pourrait aussi calculer et représenter \"irpp\" \n",
    "# mais comme l'évolution de \"impo\" et \"irpp\" sont identiques, j'ai choisi de n'en représenter qu'une."
   ]
  },
  {
   "cell_type": "code",
   "execution_count": 38,
   "metadata": {
    "collapsed": false
   },
   "outputs": [
    {
     "data": {
      "text/plain": [
       "<matplotlib.legend.Legend at 0x7f8ca2618dd0>"
      ]
     },
     "execution_count": 38,
     "metadata": {},
     "output_type": "execute_result"
    },
    {
     "data": {
      "image/png": "[encoded data removed]",
      "text/plain": [
       "<matplotlib.figure.Figure at 0x7f8ca2618850>"
      ]
     },
     "metadata": {},
     "output_type": "display_data"
    }
   ],
   "source": [
    "fig = plt.figure() \n",
    "plt.plot(salaire_imposable, iai_2m_2ff, label = u\"iai avec détachement fiscal\")\n",
    "plt.ylabel(u\"Montant iai\", fontsize=12)\n",
    "plt.xlabel(u\"salaire imposable\", fontsize=12)\n",
    "plt.legend(loc = 4, shadow=True, fancybox=True)"
   ]
  },
  {
   "cell_type": "code",
   "execution_count": 39,
   "metadata": {
    "collapsed": false
   },
   "outputs": [
    {
     "data": {
      "text/plain": [
       "<matplotlib.legend.Legend at 0x7f8ca25e79d0>"
      ]
     },
     "execution_count": 39,
     "metadata": {},
     "output_type": "execute_result"
    },
    {
     "data": {
      "image/png": "[encoded data removed]",
      "text/plain": [
       "<matplotlib.figure.Figure at 0x7f8ca2562890>"
      ]
     },
     "metadata": {},
     "output_type": "display_data"
    }
   ],
   "source": [
    "fig = plt.figure()\n",
    "plt.plot(salaire_imposable, iai_2m_2ff - iai_m_ff, label = u\"gain en iai lié au dét fiscal\")\n",
    "plt.ylabel(u\"Différence en iai\", fontsize=12)\n",
    "plt.xlabel(u\"salaire imposable\", fontsize=12)\n",
    "plt.legend(loc = 4, shadow=True, fancybox=True)"
   ]
  },
  {
   "cell_type": "code",
   "execution_count": 40,
   "metadata": {
    "collapsed": false
   },
   "outputs": [],
   "source": [
    "# note : pour un salaire_imposable de 14000 euros, \n",
    "# détacher son enfant du foyer fiscal rapporte environ 500 euros en impôts avant imputation\n",
    "# ce qui explique exactement le gain en Impôt sur le revenu des personnes physique (irpp)\n",
    "# la variation est identique entre iai et irpp\n",
    "# j'ai pris iai car variable positive."
   ]
  },
  {
   "cell_type": "markdown",
   "metadata": {},
   "source": [
    "### b) Gain en revenu disponible lié au détachement fiscal"
   ]
  },
  {
   "cell_type": "code",
   "execution_count": 41,
   "metadata": {
    "collapsed": false
   },
   "outputs": [
    {
     "data": {
      "text/plain": [
       "openfisca_core.simulations.Simulation"
      ]
     },
     "execution_count": 41,
     "metadata": {},
     "output_type": "execute_result"
    }
   ],
   "source": [
    "revdisp_m_ff = simulation_m_ff.calculate(\"revdisp\", period = year)\n",
    "revdisp_2m_2ff = simulation_2m_2ff.calculate(\"revdisp\", period = year)\n",
    "type (simulation_m_ff) "
   ]
  },
  {
   "cell_type": "code",
   "execution_count": 42,
   "metadata": {
    "collapsed": false
   },
   "outputs": [
    {
     "data": {
      "text/plain": [
       "<matplotlib.legend.Legend at 0x7f8ca239e890>"
      ]
     },
     "execution_count": 42,
     "metadata": {},
     "output_type": "execute_result"
    },
    {
     "data": {
      "image/png": "[encoded data removed]",
      "text/plain": [
       "<matplotlib.figure.Figure at 0x7f8ca2677510>"
      ]
     },
     "metadata": {},
     "output_type": "display_data"
    }
   ],
   "source": [
    "fig = plt.figure()\n",
    "plt.plot(salaire_imposable, revdisp_2m_2ff, label = u\"revdisp avec dét fiscal\")\n",
    "plt.legend(loc = 4, shadow=True, fancybox=True)"
   ]
  },
  {
   "cell_type": "code",
   "execution_count": 43,
   "metadata": {
    "collapsed": false
   },
   "outputs": [
    {
     "data": {
      "text/plain": [
       "<matplotlib.legend.Legend at 0x7f8ca2304dd0>"
      ]
     },
     "execution_count": 43,
     "metadata": {},
     "output_type": "execute_result"
    },
    {
     "data": {
      "image/png": "[encoded data removed]",
      "text/plain": [
       "<matplotlib.figure.Figure at 0x7f8ca228ddd0>"
      ]
     },
     "metadata": {},
     "output_type": "display_data"
    }
   ],
   "source": [
    "fig = plt.figure()\n",
    "plt.plot(salaire_imposable, revdisp_2m_2ff - revdisp_m_ff, label = u\"gain en revdisp lié au dét fiscal\")\n",
    "plt.ylabel(u\"Diff en revenus dispo\", fontsize=12)\n",
    "plt.xlabel(u\"salaire imposable\", fontsize=12)\n",
    "plt.legend(loc = 4, shadow=True, fancybox=True)"
   ]
  },
  {
   "cell_type": "code",
   "execution_count": 44,
   "metadata": {
    "collapsed": false
   },
   "outputs": [],
   "source": [
    "# note graphique : pour un salaire imposable de 15000€, \n",
    "# le revenu disponible des parents  est plus élevé sans détachement fiscal de leur enfant"
   ]
  },
  {
   "cell_type": "code",
   "execution_count": null,
   "metadata": {
    "collapsed": false
   },
   "outputs": [],
   "source": []
  }
 ],
 "metadata": {
  "kernelspec": {
   "display_name": "Python 2",
   "language": "python",
   "name": "python2"
  },
  "language_info": {
   "codemirror_mode": {
    "name": "ipython",
    "version": 2
   },
   "file_extension": ".py",
   "mimetype": "text/x-python",
   "name": "python",
   "nbconvert_exporter": "python",
   "pygments_lexer": "ipython2",
   "version": "2.7.12"
  }
 },
 "nbformat": 4,
 "nbformat_minor": 0
}
