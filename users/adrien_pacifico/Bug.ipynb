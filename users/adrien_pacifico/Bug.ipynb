{
 "cells": [
  {
   "cell_type": "markdown",
   "metadata": {},
   "source": [
    "## Créer mes 4 cas types"
   ]
  },
  {
   "cell_type": "markdown",
   "metadata": {},
   "source": [
    "1- 4 individus avec niveaux de revenus du travail différents : Individu 1 : 100 000€ Individu 2 : 80 000€ Individu 3 : 20 000€ Individu 4 : 0€ $ \\rightarrow $ Calcul de leur revenu dispo individuel"
   ]
  },
  {
   "cell_type": "code",
   "execution_count": 12,
   "metadata": {
    "collapsed": false
   },
   "outputs": [],
   "source": [
    "%matplotlib inline\n",
    "import matplotlib.pyplot as plt\n",
    "from openfisca_matplotlib import graphs\n",
    "from openfisca_core import periods"
   ]
  },
  {
   "cell_type": "code",
   "execution_count": 13,
   "metadata": {
    "collapsed": false
   },
   "outputs": [],
   "source": [
    "from datetime import date  \n",
    "import openfisca_france   \n",
    "\n",
    "TaxBenefitSystem = openfisca_france.init_country()  \n",
    "tax_benefit_system = TaxBenefitSystem()  "
   ]
  },
  {
   "cell_type": "markdown",
   "metadata": {},
   "source": [
    "Simulation pour l'individu 1 : celui avec le plus haut revenu du travail"
   ]
  },
  {
   "cell_type": "code",
   "execution_count": 14,
   "metadata": {
    "collapsed": false
   },
   "outputs": [],
   "source": [
    "period = periods.period(\"year\", \"2014\")\n",
    "\n",
    "simulation_individu1 = tax_benefit_system.new_scenario().init_single_entity(\n",
    "    period = \"2012:3\", #modif on dit que l'on fait la simulation a partir de 2012 pour 3 ans\n",
    "    parent1 = dict(\n",
    "        birth = date(1980, 1, 1),\n",
    "        sal = 100000 * 3, #modif\n",
    "    )\n",
    "    ).new_simulation(debug = True)\n",
    "\n",
    "simulation_individu2 = tax_benefit_system.new_scenario().init_single_entity(\n",
    "    period = \"2012:3\", #modif\n",
    "    parent1 = dict(\n",
    "        birth = date(1980, 1, 1),\n",
    "        sal = 80000 * 3, #modif\n",
    "    )\n",
    "    ).new_simulation(debug = True)"
   ]
  },
  {
   "cell_type": "code",
   "execution_count": 14,
   "metadata": {
    "collapsed": false
   },
   "outputs": [],
   "source": []
  },
  {
   "cell_type": "markdown",
   "metadata": {},
   "source": [
    "## 1-Issue : Possibilité d'avoir un couple marié avec parent1 marié et l'autre pacsé (ou n'importe quel autre statut)"
   ]
  },
  {
   "cell_type": "code",
   "execution_count": 15,
   "metadata": {
    "collapsed": false
   },
   "outputs": [],
   "source": [
    "simulation_menage_1et2 = tax_benefit_system.new_scenario().init_single_entity(\n",
    "    period = \"2012:3\",\n",
    "    parent1 = dict(\n",
    "        birth = date(1980, 1, 1),\n",
    "        sal = 100000 * 3,\n",
    "        statmarit = 1, #elle est marié\n",
    "        ),\n",
    "    parent2 = dict(\n",
    "        birth = date(1980, 1, 1),\n",
    "        sal = 80000 * 3,\n",
    "        statmarit = 2, #il est pacsé\n",
    "    )\n",
    "    \n",
    "    ).new_simulation(debug = True)\n"
   ]
  },
  {
   "cell_type": "code",
   "execution_count": 16,
   "metadata": {
    "collapsed": false
   },
   "outputs": [
    {
     "name": "stdout",
     "output_type": "stream",
     "text": [
      "[ True]\n"
     ]
    }
   ],
   "source": [
    "print simulation_menage_1et2.calculate('maries', period)"
   ]
  },
  {
   "cell_type": "markdown",
   "metadata": {},
   "source": [
    "Le couple parent1 parent2 est marié quelque soit le statut du parent 2. Besoin d'un assert ou d'un warning quand les varaibles statmarit sont différentes pour parent1 et parent2."
   ]
  },
  {
   "cell_type": "markdown",
   "metadata": {},
   "source": [
    "## 1.2-Bug : Couple sans statut marital renseigné payent plus d'impôt que deux célibataires ?"
   ]
  },
  {
   "cell_type": "code",
   "execution_count": 17,
   "metadata": {
    "collapsed": false
   },
   "outputs": [],
   "source": [
    "simulation_menage_1et2 = tax_benefit_system.new_scenario().init_single_entity(\n",
    "    period = \"2012:3\",\n",
    "    parent1 = dict(\n",
    "        birth = date(1980, 1, 1),\n",
    "        sal = 100000 * 3,\n",
    "        ),\n",
    "    parent2 = dict(\n",
    "        birth = date(1980, 1, 1),\n",
    "        sal = 80000 * 3,\n",
    "#        statmarit = 2, #il est pacsé\n",
    "    )\n",
    "    \n",
    "    ).new_simulation(debug = True)"
   ]
  },
  {
   "cell_type": "code",
   "execution_count": 18,
   "metadata": {
    "collapsed": false
   },
   "outputs": [
    {
     "name": "stdout",
     "output_type": "stream",
     "text": [
      "[-53320.21875]\n",
      "[-39356.44140625]\n",
      "[-53320.21875]\n",
      "[-53320.21875]\n"
     ]
    }
   ],
   "source": [
    "print simulation_menage_1et2.calculate('impo', period)\n",
    "print simulation_individu1.calculate('impo', period) + simulation_individu2.calculate('impo', period)\n",
    "print simulation_menage_1et2.calculate('irpp', period)\n",
    "print simulation_menage_1et2.compute('irpp', period).array"
   ]
  },
  {
   "cell_type": "code",
   "execution_count": 19,
   "metadata": {
    "collapsed": false
   },
   "outputs": [],
   "source": [
    "simulation_menage_1et2 = tax_benefit_system.new_scenario().init_single_entity(\n",
    "    period = \"2012:3\",\n",
    "    parent1 = dict(\n",
    "        birth = date(1980, 1, 1),\n",
    "        sal = 100000 * 3,\n",
    "        statmarit = 1, #elle est marié\n",
    "        ),\n",
    "    parent2 = dict(\n",
    "        birth = date(1980, 1, 1),\n",
    "        sal = 20000 * 3,\n",
    "        statmarit = 1,\n",
    "    )\n",
    "    \n",
    "    ).new_simulation(debug = True)"
   ]
  },
  {
   "cell_type": "code",
   "execution_count": 20,
   "metadata": {
    "collapsed": false
   },
   "outputs": [
    {
     "name": "stdout",
     "output_type": "stream",
     "text": [
      "[-21122.3203125]\n",
      "[-39356.44140625]\n",
      "[-21122.3203125]\n",
      "[-21122.3203125]\n"
     ]
    }
   ],
   "source": [
    "print simulation_menage_1et2.calculate('impo', period)\n",
    "print simulation_individu1.calculate('impo', period) + simulation_individu2.calculate('impo', period)\n",
    "print simulation_menage_1et2.calculate('irpp', period)\n",
    "print simulation_menage_1et2.compute('irpp', period).array"
   ]
  },
  {
   "cell_type": "code",
   "execution_count": 1,
   "metadata": {
    "collapsed": false
   },
   "outputs": [
    {
     "ename": "ImportError",
     "evalue": "No module named git",
     "output_type": "error",
     "traceback": [
      "\u001b[0;31m---------------------------------------------------------------------------\u001b[0m\n\u001b[0;31mImportError\u001b[0m                               Traceback (most recent call last)",
      "\u001b[0;32m<ipython-input-1-6e2aff111637>\u001b[0m in \u001b[0;36m<module>\u001b[0;34m()\u001b[0m\n\u001b[0;32m----> 1\u001b[0;31m \u001b[0;32mimport\u001b[0m \u001b[0mgit\u001b[0m\u001b[0;34m\u001b[0m\u001b[0m\n\u001b[0m",
      "\u001b[0;31mImportError\u001b[0m: No module named git"
     ]
    }
   ],
   "source": [
    "import git"
   ]
  },
  {
   "cell_type": "code",
   "execution_count": null,
   "metadata": {
    "collapsed": false
   },
   "outputs": [],
   "source": []
  }
 ],
 "metadata": {
  "kernelspec": {
   "display_name": "Python 2",
   "language": "python",
   "name": "python2"
  },
  "language_info": {
   "codemirror_mode": {
    "name": "ipython",
    "version": 2
   },
   "file_extension": ".py",
   "mimetype": "text/x-python",
   "name": "python",
   "nbconvert_exporter": "python",
   "pygments_lexer": "ipython2",
   "version": "2.7.12"
  }
 },
 "nbformat": 4,
 "nbformat_minor": 0
}
