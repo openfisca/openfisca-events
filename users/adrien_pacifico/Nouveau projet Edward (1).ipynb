{
 "cells": [
  {
   "cell_type": "markdown",
   "metadata": {},
   "source": [
    "# Projet de taxation marginale à 75% sur les revenus > 1 Million €"
   ]
  },
  {
   "cell_type": "markdown",
   "metadata": {},
   "source": [
    "### Introduction"
   ]
  },
  {
   "cell_type": "markdown",
   "metadata": {},
   "source": [
    "Lors de la campagne présidentielle 2012 François Hollande annonça dans son programme électoral qu'il mettrait en place une taxe à 75% sur les revenus supérieurs à 1 million d'Euros. Durant cette période les partisans UMP affirmaient que ce projet de réforme ne pourrait jamais être implémenté et que ce n'était qu'un moyen pour François Hollande de gagner plus de voix aux élections. Pourtant en 2012 le gouvernement de François Hollande a proposé au conseil constitutionnel un projet de réforme de la fiscalité qui incluait une taxe marginale à hauteur de 75% pour les revenus supérieurs à 1 Millions d'Euros. Cette réforme a d'abord été invalidée par le Conseil Constitutionnel en Décembre de la même année, et elle a été refondue et revotée le 18 octobre 2013. Le 29 Décembre 2013 après avoir subit quelques rectifications, le projet de réforme fiscale est enfin validé par le Conseil Constitutionnel. Ainsi, alors que certains articles ont-été validés en l'état, d'autres on été rejetés complètement, et certains ont-été acceptés après avoir subit quelques modifications. Par exemple l'article 9 prévoyait en partie de faire passer le taux d'imposition sur les bons anonymes de 75,5% à 90,5%, ce qui a finalement été supprimé de la loi des finances 2013, car le Conseil Constitutionnel a jugé qu'un pareil taux représentait une charge trop importante au regard de la capacité contributive des contribuables. L'article 12, qui prévoyait d'instituer une taxe exceptionnelle de solidarité sur les revenus d'activité supérieure à 1 million d'euros, et dont le taux devait s'élever à 18%, a été supprimé. Enfin, l'article 3 qui a été validé par le Conseil Constitutionnel institue une nouvelle tranche d'imposition marginale à 45% sur les revenus supérieurs à 150.000 €. Conjugué avec d'autres articles, cette réforme fait passer la taxation marginale cumulée à plus de 75% sur les hauts revenus."
   ]
  },
  {
   "cell_type": "markdown",
   "metadata": {},
   "source": [
    "Cette réforme a beaucoup fait parler d'elle, d'abord parce qu'elle a été critiquée lors des campagnes présidentielles comme étant un simple projet démagogique, puis parce qu'une fois implémentée plusieurs personnalités françaises ont quitté le pays (Gérard Depardieux, Florent Pagny, Johnny Hallyday, Bernard Arnault...), laissant suggérer que cette réforme serait à l'origine d'un important exil fiscal. Etant donné l'importante médiatisation de cette réforme, et sachant qu'elle pourrait modifier le comportement des plus riches contribuables français, il semble intéressant d'étudier l'impacte de cette réforme sur la charge fiscale totale que doivent supporter les français."
   ]
  },
  {
   "cell_type": "markdown",
   "metadata": {},
   "source": [
    "Dans un premier temps il s'agira d'étudier la charge fiscale prévue par le projet initial en fonction du revenu imposable, et de la comparer avec la charge fiscale du projet modifié par le conseil constitutionnel. Sachant les avantages associés au quotient familiale ont-été modifié par la réforme, il s'agira dans un second temps de mesurer l'effet d'incitation au mariage de personnes avec des revenus disparates qui résulte du projet validé de réforme, et de le comparer avec le même effet d'incitation résultat du projet initial de réforme."
   ]
  },
  {
   "cell_type": "markdown",
   "metadata": {},
   "source": [
    "### Initialisation"
   ]
  },
  {
   "cell_type": "code",
   "execution_count": 1,
   "metadata": {
    "collapsed": false
   },
   "outputs": [],
   "source": [
    "from openfisca_france.tests import base"
   ]
  },
  {
   "cell_type": "code",
   "execution_count": 2,
   "metadata": {
    "collapsed": false
   },
   "outputs": [],
   "source": [
    "%matplotlib inline\n",
    "import matplotlib.pyplot as plt\n",
    "import numpy as np\n",
    "np.set_printoptions(suppress=True, precision=2) #permet d'imprimer les array avec juste 2 chiffres et sans notation scientifique.\n",
    "from openfisca_matplotlib import graphs"
   ]
  },
  {
   "cell_type": "code",
   "execution_count": 3,
   "metadata": {
    "collapsed": false
   },
   "outputs": [],
   "source": [
    "from datetime import date  # module nécessaire pour la définition des dates, dont notamment les dates de naissances\n",
    "\n",
    "from openfisca_core import periods\n",
    "import openfisca_france    # module décrivant le système socio-fiscal français\n",
    "\n",
    "TaxBenefitSystem = openfisca_france.init_country()  # Initialisation de la classe décrivant le système socio-fiscal français\n",
    "tax_benefit_system = TaxBenefitSystem()  # Création d'une instance du système socio-fiscal français \n",
    "#tax_benefit_cesthra = Reform"
   ]
  },
  {
   "cell_type": "markdown",
   "metadata": {},
   "source": [
    "### Reforme"
   ]
  },
  {
   "cell_type": "markdown",
   "metadata": {},
   "source": [
    "En Septembre 2012, le projet de loi des finances 2013 fut présenté devant l'assemblée nationnale. L'article 8 de cette proposition prévoyait l'implémentation d'une \"Contribution Exceptionnelle de Solidarité sur les très Hauts Revenus d'Activité\" (CESRA), qui devait taxer à 18% la part des revenus professionnels excédant 1 million d'Euros. "
   ]
  },
  {
   "cell_type": "markdown",
   "metadata": {},
   "source": [
    "Ajouté au taux marginal d’impôt sur le revenu (IR) prévu dans le présent projet de loi de finances (45 %), à la\n",
    "contribution exceptionnelle sur les hauts revenus (4 %) et aux prélèvements sociaux (8 % sur les revenus\n",
    "d’activité), le taux marginal de taxation globale devait atteindre 75% de la part des revenus supérieurs à 1 millions d'euros."
   ]
  },
  {
   "cell_type": "markdown",
   "metadata": {},
   "source": [
    "J'ai remarqué en important la réforme que le taux marginal fixé pour la CESTRA était de 75%. Par conséquent j'obtenais des taux marginaux de taxation globale supérieurs à 100% (car sur les revenus supérieurs à 1 million d'euros les individus étaient taxé à 4% + 8% + 45% + 75% = 132%). Afin que la réforme importée correspondent précisément au projet de loi des finances 2013, j'ai remplacé le taux marginal de la CESTRA par 18% (on obtiens donc un taux marginal de 4% + 8% + 45% + 18% = 75% sur les revenus supérieurs à 1 million d'Euros)"
   ]
  },
  {
   "cell_type": "markdown",
   "metadata": {},
   "source": [
    "### codage reforme :"
   ]
  },
  {
   "cell_type": "code",
   "execution_count": 6,
   "metadata": {
    "collapsed": false
   },
   "outputs": [],
   "source": [
    "from __future__ import division\n",
    "\n",
    "import copy\n",
    "\n",
    "import logging\n",
    "\n",
    "from numpy import maximum as max_\n",
    "\n",
    "from openfisca_core import columns, formulas, reforms\n",
    "from openfisca_france import entities\n",
    "from openfisca_france.model.impot_revenu import ir\n",
    "\n",
    "\n",
    "log = logging.getLogger(__name__)\n",
    "\n",
    "from openfisca_france.model.base import QUIFOY\n",
    "VOUS = QUIFOY['vous']\n",
    "\n",
    "\n",
    "class cesthra(formulas.SimpleFormulaColumn):\n",
    "    column = columns.FloatCol\n",
    "    entity_class = entities.FoyersFiscaux\n",
    "    label = u\"Contribution exceptionnelle de solidarité sur les très hauts revenus d'activité\"\n",
    "    # PLF 2013 (rejeté) : 'taxe à 75%'\n",
    "\n",
    "    def function(self, simulation, period):\n",
    "        period = period.start.offset('first-of', 'year').period('year')\n",
    "        sal_holder = simulation.calculate(\"sal\", period)\n",
    "        law_cesthra = simulation.legislation_at(period.start).cesthra\n",
    "        sal = self.split_by_roles(sal_holder)\n",
    "\n",
    "        cesthra = 0\n",
    "        for rev in sal.itervalues():\n",
    "            cesthra += max_(rev - law_cesthra.seuil, 0) * law_cesthra.taux\n",
    "        return period, cesthra\n",
    "\n",
    "\n",
    "class irpp(formulas.SimpleFormulaColumn):\n",
    "    label = u\"Impôt sur le revenu des personnes physiques (réformée pour intégrer la cesthra)\"\n",
    "    reference = ir.irpp\n",
    "\n",
    "    def function(self, simulation, period):\n",
    "        '''\n",
    "        Montant après seuil de recouvrement (hors ppe)\n",
    "        '''\n",
    "        period = period.start.offset('first-of', 'month').period('year')\n",
    "        iai = simulation.calculate('iai', period)\n",
    "        credits_impot = simulation.calculate('credits_impot', period)\n",
    "        cehr = simulation.calculate('cehr', period)\n",
    "        cesthra = simulation.calculate('cesthra', period = period)\n",
    "        P = simulation.legislation_at(period.start).ir.recouvrement\n",
    "\n",
    "        pre_result = iai - credits_impot + cehr + cesthra\n",
    "        return period, ((iai > P.seuil) *\n",
    "            ((pre_result < P.min) * (pre_result > 0) * iai * 0 +\n",
    "            ((pre_result <= 0) + (pre_result >= P.min)) * (- pre_result)) +\n",
    "            (iai <= P.seuil) * ((pre_result < 0) * (-pre_result) +\n",
    "            (pre_result >= 0) * 0 * iai))\n",
    "\n",
    "\n",
    "# Reform legislation\n",
    "\n",
    "reform_legislation_subtree = {\n",
    "    \"cesthra\": {\n",
    "        \"@type\": \"Node\",\n",
    "        \"description\": \"Contribution execptionnelle sur les très hauts revenus d'activité\",\n",
    "        \"children\": {\n",
    "            \"seuil\": {\n",
    "                \"@type\": \"Parameter\",\n",
    "                \"description\": \"Seuil\",\n",
    "                \"format\": \"integer\",\n",
    "                \"unit\": \"currency\",\n",
    "                \"values\": [{'start': u'2012-01-01', 'stop': u'2013-12-31', 'value': 1000000}],\n",
    "                },\n",
    "            \"taux\": {\n",
    "                \"@type\": \"Parameter\",\n",
    "                \"description\": \"Taux\",\n",
    "                \"format\": \"rate\",\n",
    "                \"unit\": \"currency\",\n",
    "                \"values\": [{'start': u'2012-01-01', 'stop': u'2013-12-31', 'value': .75}],\n",
    "                },\n",
    "            },\n",
    "        },\n",
    "    }\n",
    "\n",
    "\n"
   ]
  },
  {
   "cell_type": "code",
   "execution_count": 7,
   "metadata": {
    "collapsed": false
   },
   "outputs": [],
   "source": [
    "reference_legislation_json = tax_benefit_system.legislation_json\n",
    "reform_legislation_json = copy.deepcopy(reference_legislation_json)\n",
    "reform_legislation_json['children'].update(reform_legislation_subtree)\n",
    "Reform = reforms.make_reform(\n",
    "        legislation_json = reform_legislation_json,\n",
    "        name = u\"Contribution execptionnelle sur les très hauts revenus d'activité (invalidée par le CC)\",\n",
    "        new_formulas = (cesthra, irpp),\n",
    "        reference = tax_benefit_system,\n",
    "        )"
   ]
  },
  {
   "cell_type": "markdown",
   "metadata": {},
   "source": [
    "### Taux marginaux:"
   ]
  },
  {
   "cell_type": "markdown",
   "metadata": {},
   "source": [
    "Cotisations sociales"
   ]
  },
  {
   "cell_type": "code",
   "execution_count": 8,
   "metadata": {
    "collapsed": false
   },
   "outputs": [
    {
     "data": {
      "text/plain": [
       "type"
      ]
     },
     "execution_count": 8,
     "metadata": {},
     "output_type": "execute_result"
    }
   ],
   "source": [
    "type(Reform)"
   ]
  },
  {
   "cell_type": "markdown",
   "metadata": {},
   "source": [
    "## I. Différence de Taux Marginal entre les deux projets"
   ]
  },
  {
   "cell_type": "markdown",
   "metadata": {},
   "source": [
    "Dans un premier temps nous allons confirmer que les taux marginaux de la CEHR (4% sur la part du revenu fiscal supérieur à 1.000.000 €), des prélèvement sociaux (8% sur les revenus d'activité) et de l'impot sur le revenu (45% sur la part des revenus supérieurs à 150.000 €) correspondent aux taux marginaux annoncé dans la loi des finances."
   ]
  },
  {
   "cell_type": "markdown",
   "metadata": {},
   "source": [
    "Ensuite nous ferons de même pour la CESRA et la TEHR."
   ]
  },
  {
   "cell_type": "markdown",
   "metadata": {},
   "source": [
    "### I.1. Projet initial: Contribution Exceptionnelle de Solidarité sur les trés Hauts Revenus d'Activité (CESRA)"
   ]
  },
  {
   "cell_type": "code",
   "execution_count": 11,
   "metadata": {
    "collapsed": false
   },
   "outputs": [],
   "source": [
    "tax_benefit_cesthra = Reform"
   ]
  },
  {
   "cell_type": "code",
   "execution_count": 12,
   "metadata": {
    "collapsed": false
   },
   "outputs": [],
   "source": [
    "def homme_celibataire_cesthra(salaire_minimal = 0, nombre_enfants = 0, number_of_year = 4 , salaire_maximal = 5000000):\n",
    "    simulation = tax_benefit_cesthra.new_scenario().init_single_entity(\n",
    "        axes = [\n",
    "            dict(\n",
    "                count = 100,\n",
    "                min = salaire_minimal * number_of_year,\n",
    "                max = salaire_maximal * number_of_year,\n",
    "                name = 'salaire_de_base',\n",
    "                ),\n",
    "            ],\n",
    "        period = '2010:{}'.format(number_of_year),\n",
    "        parent1 = dict(\n",
    "            birth = date(1980, 1, 1),\n",
    "#            salaire_de_base = {\"2013\": salaire_maximal, \"2014\": salaire_maximal}\n",
    "            ),\n",
    "        menage = dict(\n",
    "            loyer = 1000 * 3,\n",
    "            so = 4,\n",
    "            ),\n",
    "        ).new_simulation(debug = True)\n",
    "    return simulation"
   ]
  },
  {
   "cell_type": "markdown",
   "metadata": {},
   "source": [
    "### Test de la simulation:"
   ]
  },
  {
   "cell_type": "code",
   "execution_count": 13,
   "metadata": {
    "collapsed": false
   },
   "outputs": [
    {
     "ename": "TypeError",
     "evalue": "unbound method new_scenario() must be called with Reform instance as first argument (got nothing instead)",
     "output_type": "error",
     "traceback": [
      "\u001b[0;31m---------------------------------------------------------------------------\u001b[0m\n\u001b[0;31mTypeError\u001b[0m                                 Traceback (most recent call last)",
      "\u001b[0;32m<ipython-input-13-3ce6f75738a4>\u001b[0m in \u001b[0;36m<module>\u001b[0;34m()\u001b[0m\n\u001b[0;32m----> 1\u001b[0;31m \u001b[0;32mprint\u001b[0m \u001b[0mhomme_celibataire_cesthra\u001b[0m\u001b[0;34m(\u001b[0m\u001b[0;36m10\u001b[0m\u001b[0;34m**\u001b[0m\u001b[0;36m6\u001b[0m\u001b[0;34m)\u001b[0m\u001b[0;34m.\u001b[0m\u001b[0mcalculate\u001b[0m\u001b[0;34m(\u001b[0m\u001b[0;34m'salaire_de_base'\u001b[0m\u001b[0;34m,\u001b[0m \u001b[0;34m'2010'\u001b[0m\u001b[0;34m)\u001b[0m\u001b[0;34m[\u001b[0m\u001b[0;34m-\u001b[0m\u001b[0;36m10\u001b[0m\u001b[0;34m:\u001b[0m\u001b[0;34m]\u001b[0m\u001b[0;34m\u001b[0m\u001b[0m\n\u001b[0m\u001b[1;32m      2\u001b[0m \u001b[0;32mprint\u001b[0m \u001b[0mhomme_celibataire_cesthra\u001b[0m\u001b[0;34m(\u001b[0m\u001b[0;34m)\u001b[0m\u001b[0;34m.\u001b[0m\u001b[0mcalculate\u001b[0m\u001b[0;34m(\u001b[0m\u001b[0;34m'salaire_de_base'\u001b[0m\u001b[0;34m,\u001b[0m \u001b[0;34m'2011'\u001b[0m\u001b[0;34m)\u001b[0m\u001b[0;34m[\u001b[0m\u001b[0;34m-\u001b[0m\u001b[0;36m10\u001b[0m\u001b[0;34m:\u001b[0m\u001b[0;34m]\u001b[0m\u001b[0;34m\u001b[0m\u001b[0m\n\u001b[1;32m      3\u001b[0m \u001b[0;32mprint\u001b[0m \u001b[0mhomme_celibataire_cesthra\u001b[0m\u001b[0;34m(\u001b[0m\u001b[0;34m)\u001b[0m\u001b[0;34m.\u001b[0m\u001b[0mcalculate\u001b[0m\u001b[0;34m(\u001b[0m\u001b[0;34m'salaire_de_base'\u001b[0m\u001b[0;34m,\u001b[0m \u001b[0;34m'2012'\u001b[0m\u001b[0;34m)\u001b[0m\u001b[0;34m[\u001b[0m\u001b[0;34m-\u001b[0m\u001b[0;36m10\u001b[0m\u001b[0;34m:\u001b[0m\u001b[0;34m]\u001b[0m\u001b[0;34m\u001b[0m\u001b[0m\n\u001b[1;32m      4\u001b[0m \u001b[0;32mprint\u001b[0m \u001b[0mhomme_celibataire_cesthra\u001b[0m\u001b[0;34m(\u001b[0m\u001b[0;34m)\u001b[0m\u001b[0;34m.\u001b[0m\u001b[0mcalculate\u001b[0m\u001b[0;34m(\u001b[0m\u001b[0;34m'salaire_de_base'\u001b[0m\u001b[0;34m,\u001b[0m \u001b[0;34m'2013'\u001b[0m\u001b[0;34m)\u001b[0m\u001b[0;34m[\u001b[0m\u001b[0;34m-\u001b[0m\u001b[0;36m10\u001b[0m\u001b[0;34m:\u001b[0m\u001b[0;34m]\u001b[0m\u001b[0;34m\u001b[0m\u001b[0m\n\u001b[1;32m      5\u001b[0m \u001b[0;32mprint\u001b[0m \u001b[0mhomme_celibataire_cesthra\u001b[0m\u001b[0;34m(\u001b[0m\u001b[0;34m)\u001b[0m\u001b[0;34m.\u001b[0m\u001b[0mcalculate\u001b[0m\u001b[0;34m(\u001b[0m\u001b[0;34m'salaire_de_base'\u001b[0m\u001b[0;34m,\u001b[0m \u001b[0;34m'2014'\u001b[0m\u001b[0;34m)\u001b[0m\u001b[0;34m[\u001b[0m\u001b[0;34m-\u001b[0m\u001b[0;36m10\u001b[0m\u001b[0;34m:\u001b[0m\u001b[0;34m]\u001b[0m\u001b[0;34m\u001b[0m\u001b[0m\n",
      "\u001b[0;32m<ipython-input-12-56610d266b57>\u001b[0m in \u001b[0;36mhomme_celibataire_cesthra\u001b[0;34m(salaire_minimal, nombre_enfants, number_of_year, salaire_maximal)\u001b[0m\n\u001b[1;32m      1\u001b[0m \u001b[0;32mdef\u001b[0m \u001b[0mhomme_celibataire_cesthra\u001b[0m\u001b[0;34m(\u001b[0m\u001b[0msalaire_minimal\u001b[0m \u001b[0;34m=\u001b[0m \u001b[0;36m0\u001b[0m\u001b[0;34m,\u001b[0m \u001b[0mnombre_enfants\u001b[0m \u001b[0;34m=\u001b[0m \u001b[0;36m0\u001b[0m\u001b[0;34m,\u001b[0m \u001b[0mnumber_of_year\u001b[0m \u001b[0;34m=\u001b[0m \u001b[0;36m4\u001b[0m \u001b[0;34m,\u001b[0m \u001b[0msalaire_maximal\u001b[0m \u001b[0;34m=\u001b[0m \u001b[0;36m5000000\u001b[0m\u001b[0;34m)\u001b[0m\u001b[0;34m:\u001b[0m\u001b[0;34m\u001b[0m\u001b[0m\n\u001b[0;32m----> 2\u001b[0;31m     simulation = tax_benefit_cesthra.new_scenario().init_single_entity(\n\u001b[0m\u001b[1;32m      3\u001b[0m         axes = [\n\u001b[1;32m      4\u001b[0m             dict(\n\u001b[1;32m      5\u001b[0m                 \u001b[0mcount\u001b[0m \u001b[0;34m=\u001b[0m \u001b[0;36m100\u001b[0m\u001b[0;34m,\u001b[0m\u001b[0;34m\u001b[0m\u001b[0m\n",
      "\u001b[0;31mTypeError\u001b[0m: unbound method new_scenario() must be called with Reform instance as first argument (got nothing instead)"
     ]
    }
   ],
   "source": [
    "print homme_celibataire_cesthra(10**6).calculate('salaire_de_base', '2010')[-10:]\n",
    "print homme_celibataire_cesthra().calculate('salaire_de_base', '2011')[-10:]\n",
    "print homme_celibataire_cesthra().calculate('salaire_de_base', '2012')[-10:]\n",
    "print homme_celibataire_cesthra().calculate('salaire_de_base', '2013')[-10:]\n",
    "print homme_celibataire_cesthra().calculate('salaire_de_base', '2014')[-10:]\n",
    "\n"
   ]
  },
  {
   "cell_type": "code",
   "execution_count": 450,
   "metadata": {
    "collapsed": false
   },
   "outputs": [
    {
     "data": {
      "text/plain": [
       "array([       0.  ,    50505.05,   101010.1 ,   151515.17,   202020.2 ,\n",
       "         252525.23,   303030.34,   353535.34,   404040.41,   454545.41,\n",
       "         505050.47,   555555.62,   606060.69,   656565.69,   707070.69,\n",
       "         757575.75,   808080.81,   858585.81,   909090.81,   959595.81,\n",
       "        1010100.94,  1060605.88,  1111111.25,  1161616.25,  1212121.38,\n",
       "        1262626.38,  1313131.38,  1363636.38,  1414141.38,  1464646.5 ,\n",
       "        1515151.5 ,  1565656.62,  1616161.62,  1666666.62,  1717171.62,\n",
       "        1767676.62,  1818181.62,  1868686.62,  1919191.62,  1969696.88,\n",
       "        2020201.88,  2070706.88,  2121211.75,  2171717.5 ,  2222222.5 ,\n",
       "        2272727.5 ,  2323232.5 ,  2373737.5 ,  2424242.75,  2474747.75,\n",
       "        2525252.75,  2575757.75,  2626262.75,  2676767.75,  2727272.75,\n",
       "        2777777.75,  2828282.75,  2878788.  ,  2929293.  ,  2979798.  ,\n",
       "        3030303.  ,  3080808.  ,  3131313.25,  3181818.25,  3232323.25,\n",
       "        3282828.25,  3333333.25,  3383838.25,  3434343.25,  3484848.25,\n",
       "        3535353.25,  3585858.25,  3636363.25,  3686868.25,  3737373.25,\n",
       "        3787878.25,  3838383.25,  3888888.75,  3939393.75,  3989898.75,\n",
       "        4040403.75,  4090908.75,  4141413.75,  4191918.75,  4242423.5 ,\n",
       "        4292929.  ,  4343435.  ,  4393939.  ,  4444445.  ,  4494949.  ,\n",
       "        4545455.  ,  4595959.  ,  4646465.  ,  4696969.  ,  4747475.  ,\n",
       "        4797980.  ,  4848485.5 ,  4898990.  ,  4949495.5 ,  5000000.  ], dtype=float32)"
      ]
     },
     "execution_count": 450,
     "metadata": {},
     "output_type": "execute_result"
    }
   ],
   "source": [
    "salbrut_2013 =  homme_celibataire_cesthra().calculate('salbrut', '2013')\n",
    "salbrut_2013"
   ]
  },
  {
   "cell_type": "code",
   "execution_count": 451,
   "metadata": {
    "collapsed": false
   },
   "outputs": [
    {
     "data": {
      "text/plain": [
       "array([    6250.64,    36507.68,    69120.52,    97807.57,   125082.55,\n",
       "         151207.56,   176884.09,   201584.03,   226283.98,   250984.  ,\n",
       "         275683.97,   300359.56,   324584.5 ,   348809.56,   373034.53,\n",
       "         397259.56,   421484.53,   445709.47,   469934.47,   494159.38,\n",
       "         518384.5 ,   542609.5 ,   560165.88,   575840.88,   591515.88,\n",
       "         607190.88,   622865.81,   638540.81,   654215.81,   669890.94,\n",
       "         685565.81,   701240.81,   716915.81,   732590.81,   748265.81,\n",
       "         763940.75,   779615.75,   795290.75,   810965.75,   826640.81,\n",
       "         842315.75,   857990.75,   873665.75,   889341.  ,   905015.88,\n",
       "         920691.  ,   936366.  ,   952040.88,   967716.  ,   983391.  ,\n",
       "         999066.  ,  1014740.88,  1030415.88,  1046090.88,  1061765.88,\n",
       "        1077440.88,  1093115.88,  1108791.  ,  1124465.88,  1140140.88,\n",
       "        1155815.88,  1171490.88,  1187166.  ,  1202840.88,  1218516.  ,\n",
       "        1234190.88,  1249865.88,  1265540.88,  1281215.88,  1296890.88,\n",
       "        1312565.75,  1328240.75,  1343915.75,  1359590.75,  1375265.75,\n",
       "        1390940.75,  1406615.75,  1422290.75,  1437965.75,  1453640.75,\n",
       "        1469315.75,  1484990.75,  1500665.75,  1516340.75,  1532015.75,\n",
       "        1547690.75,  1563366.  ,  1579040.75,  1594716.  ,  1610390.75,\n",
       "        1626066.  ,  1641740.75,  1657416.  ,  1673090.75,  1688766.  ,\n",
       "        1704441.  ,  1720116.  ,  1735791.  ,  1751466.  ,  1767141.  ], dtype=float32)"
      ]
     },
     "execution_count": 451,
     "metadata": {},
     "output_type": "execute_result"
    }
   ],
   "source": [
    "revdisp_2013_cesthra = homme_celibataire_cesthra().calculate('revdisp', '2013')\n",
    "revdisp_2013_cesthra"
   ]
  },
  {
   "cell_type": "markdown",
   "metadata": {},
   "source": [
    "#### Taux moyen de cotisation de salbrut au revenu disponible :"
   ]
  },
  {
   "cell_type": "code",
   "execution_count": 452,
   "metadata": {
    "collapsed": false
   },
   "outputs": [
    {
     "data": {
      "text/plain": [
       "array([ -inf,  0.28,  0.32,  0.35,  0.38,  0.4 ,  0.42,  0.43,  0.44,\n",
       "        0.45,  0.45,  0.46,  0.46,  0.47,  0.47,  0.48,  0.48,  0.48,\n",
       "        0.48,  0.49,  0.49,  0.49,  0.5 ,  0.5 ,  0.51,  0.52,  0.53,\n",
       "        0.53,  0.54,  0.54,  0.55,  0.55,  0.56,  0.56,  0.56,  0.57,\n",
       "        0.57,  0.57,  0.58,  0.58,  0.58,  0.59,  0.59,  0.59,  0.59,\n",
       "        0.59,  0.6 ,  0.6 ,  0.6 ,  0.6 ,  0.6 ,  0.61,  0.61,  0.61,\n",
       "        0.61,  0.61,  0.61,  0.61,  0.62,  0.62,  0.62,  0.62,  0.62,\n",
       "        0.62,  0.62,  0.62,  0.63,  0.63,  0.63,  0.63,  0.63,  0.63,\n",
       "        0.63,  0.63,  0.63,  0.63,  0.63,  0.63,  0.63,  0.64,  0.64,\n",
       "        0.64,  0.64,  0.64,  0.64,  0.64,  0.64,  0.64,  0.64,  0.64,\n",
       "        0.64,  0.64,  0.64,  0.64,  0.64,  0.64,  0.65,  0.65,  0.65,  0.65], dtype=float32)"
      ]
     },
     "execution_count": 452,
     "metadata": {},
     "output_type": "execute_result"
    }
   ],
   "source": [
    "taux_cot_moy = (salbrut_2013 - revdisp_2013_cesthra)/salbrut_2013\n",
    "taux_cot_moy"
   ]
  },
  {
   "cell_type": "markdown",
   "metadata": {},
   "source": [
    "### Taux moyen de cotisations salariales :"
   ]
  },
  {
   "cell_type": "code",
   "execution_count": 453,
   "metadata": {
    "collapsed": false
   },
   "outputs": [
    {
     "data": {
      "text/plain": [
       "array([      nan,  0.190464,  0.155281,  0.14049 ,  0.127492,  0.119694,\n",
       "        0.114494,  0.110781,  0.107996,  0.10583 ,  0.104097,  0.102679,\n",
       "        0.101497,  0.100497,  0.099641,  0.098898,  0.098248,  0.097675,\n",
       "        0.097165,  0.096709,  0.096298,  0.095927,  0.095589,  0.095281,\n",
       "        0.094999,  0.094739,  0.094499,  0.094277,  0.09407 ,  0.093878,\n",
       "        0.093699,  0.093531,  0.093374,  0.093226,  0.093087,  0.092956,\n",
       "        0.092832,  0.092715,  0.092604,  0.092499,  0.092399,  0.092304,\n",
       "        0.092214,  0.092127,  0.092045,  0.091966,  0.091891,  0.091818,\n",
       "        0.091749,  0.091683,  0.091619,  0.091558,  0.091499,  0.091443,\n",
       "        0.091388,  0.091336,  0.091285,  0.091236,  0.091189,  0.091144,\n",
       "        0.091099,  0.091057,  0.091016,  0.090976,  0.090937,  0.0909  ,\n",
       "        0.090863,  0.090828,  0.090794,  0.09076 ,  0.090728,  0.090697,\n",
       "        0.090666,  0.090637,  0.090608,  0.09058 ,  0.090552,  0.090526,\n",
       "        0.0905  ,  0.090474,  0.09045 ,  0.090426,  0.090402,  0.090379,\n",
       "        0.090357,  0.090335,  0.090314,  0.090293,  0.090272,  0.090252,\n",
       "        0.090233,  0.090214,  0.090195,  0.090177,  0.090159,  0.090142,\n",
       "        0.090125,  0.090108,  0.090091,  0.090075], dtype=float32)"
      ]
     },
     "execution_count": 453,
     "metadata": {},
     "output_type": "execute_result"
    }
   ],
   "source": [
    "np.set_printoptions(suppress=True, precision=6)\n",
    "abs(\n",
    "    homme_celibataire_cesthra().calculate('cotisations_salariales','2013') \n",
    "    + homme_celibataire_cesthra().calculate('csgsald','2013') \n",
    "    + homme_celibataire_cesthra().calculate('csgsali','2013')\n",
    "    + homme_celibataire_cesthra().calculate('crdssal','2013')\n",
    "    )/salbrut_2013"
   ]
  },
  {
   "cell_type": "code",
   "execution_count": 454,
   "metadata": {
    "collapsed": false
   },
   "outputs": [
    {
     "name": "stdout",
     "output_type": "stream",
     "text": [
      "[      nan -0.111864 -0.076681 -0.061851 -0.048513 -0.04051  -0.035175\n",
      " -0.031364 -0.028507 -0.026283 -0.024505 -0.02305  -0.021838 -0.020812\n",
      " -0.019932 -0.01917  -0.018503 -0.017915 -0.017392 -0.016924 -0.016503\n",
      " -0.016121 -0.015775 -0.015459 -0.015169 -0.014902 -0.014656 -0.014428\n",
      " -0.014216 -0.014019 -0.013835 -0.013663 -0.013502 -0.01335  -0.013207\n",
      " -0.013073 -0.012946 -0.012826 -0.012712 -0.012604 -0.012501 -0.012404\n",
      " -0.012311 -0.012222 -0.012138 -0.012057 -0.011979 -0.011905 -0.011834\n",
      " -0.011766 -0.011701 -0.011638 -0.011578 -0.01152  -0.011464 -0.01141\n",
      " -0.011358 -0.011308 -0.01126  -0.011213 -0.011168 -0.011124 -0.011081\n",
      " -0.011041 -0.011001 -0.010962 -0.010925 -0.010889 -0.010854 -0.01082\n",
      " -0.010786 -0.010754 -0.010723 -0.010692 -0.010663 -0.010634 -0.010606\n",
      " -0.010579 -0.010552 -0.010526 -0.010501 -0.010476 -0.010452 -0.010428\n",
      " -0.010405 -0.010383 -0.010361 -0.01034  -0.010319 -0.010298 -0.010278\n",
      " -0.010259 -0.01024  -0.010221 -0.010203 -0.010185 -0.010167 -0.01015\n",
      " -0.010133 -0.010117]\n",
      "[      nan -0.050108 -0.050107 -0.050132 -0.050349 -0.050479 -0.050566\n",
      " -0.050628 -0.050675 -0.050711 -0.05074  -0.050763 -0.050783 -0.0508\n",
      " -0.050814 -0.050826 -0.050837 -0.050847 -0.050855 -0.050863 -0.05087\n",
      " -0.050876 -0.050882 -0.050887 -0.050892 -0.050896 -0.0509   -0.050904\n",
      " -0.050907 -0.05091  -0.050913 -0.050916 -0.050919 -0.050921 -0.050923\n",
      " -0.050926 -0.050928 -0.05093  -0.050931 -0.050933 -0.050935 -0.050937\n",
      " -0.050938 -0.050939 -0.050941 -0.050942 -0.050943 -0.050945 -0.050946\n",
      " -0.050947 -0.050948 -0.050949 -0.05095  -0.050951 -0.050952 -0.050953\n",
      " -0.050954 -0.050954 -0.050955 -0.050956 -0.050957 -0.050957 -0.050958\n",
      " -0.050959 -0.050959 -0.05096  -0.050961 -0.050961 -0.050962 -0.050962\n",
      " -0.050963 -0.050963 -0.050964 -0.050964 -0.050965 -0.050965 -0.050966\n",
      " -0.050966 -0.050967 -0.050967 -0.050967 -0.050968 -0.050968 -0.050969\n",
      " -0.050969 -0.050969 -0.05097  -0.05097  -0.05097  -0.050971 -0.050971\n",
      " -0.050971 -0.050972 -0.050972 -0.050972 -0.050973 -0.050973 -0.050973\n",
      " -0.050973 -0.050974]\n",
      "[      nan -0.02358  -0.02358  -0.023592 -0.023694 -0.023755 -0.023796\n",
      " -0.023825 -0.023847 -0.023864 -0.023878 -0.023889 -0.023898 -0.023906\n",
      " -0.023913 -0.023918 -0.023923 -0.023928 -0.023932 -0.023936 -0.023939\n",
      " -0.023942 -0.023944 -0.023947 -0.023949 -0.023951 -0.023953 -0.023955\n",
      " -0.023956 -0.023958 -0.023959 -0.02396  -0.023962 -0.023963 -0.023964\n",
      " -0.023965 -0.023966 -0.023967 -0.023968 -0.023969 -0.023969 -0.02397\n",
      " -0.023971 -0.023972 -0.023972 -0.023973 -0.023973 -0.023974 -0.023974\n",
      " -0.023975 -0.023975 -0.023976 -0.023976 -0.023977 -0.023977 -0.023978\n",
      " -0.023978 -0.023979 -0.023979 -0.023979 -0.02398  -0.02398  -0.02398\n",
      " -0.023981 -0.023981 -0.023981 -0.023981 -0.023982 -0.023982 -0.023982\n",
      " -0.023983 -0.023983 -0.023983 -0.023983 -0.023983 -0.023984 -0.023984\n",
      " -0.023984 -0.023984 -0.023984 -0.023985 -0.023985 -0.023985 -0.023985\n",
      " -0.023985 -0.023986 -0.023986 -0.023986 -0.023986 -0.023986 -0.023986\n",
      " -0.023987 -0.023987 -0.023987 -0.023987 -0.023987 -0.023987 -0.023987\n",
      " -0.023987 -0.023988]\n",
      "[      nan -0.004913 -0.004912 -0.004915 -0.004936 -0.004949 -0.004957\n",
      " -0.004964 -0.004968 -0.004972 -0.004974 -0.004977 -0.004979 -0.00498\n",
      " -0.004982 -0.004983 -0.004984 -0.004985 -0.004986 -0.004987 -0.004987\n",
      " -0.004988 -0.004988 -0.004989 -0.004989 -0.00499  -0.00499  -0.004991\n",
      " -0.004991 -0.004991 -0.004991 -0.004992 -0.004992 -0.004992 -0.004992\n",
      " -0.004993 -0.004993 -0.004993 -0.004993 -0.004993 -0.004994 -0.004994\n",
      " -0.004994 -0.004994 -0.004994 -0.004994 -0.004994 -0.004995 -0.004995\n",
      " -0.004995 -0.004995 -0.004995 -0.004995 -0.004995 -0.004995 -0.004995\n",
      " -0.004995 -0.004996 -0.004996 -0.004996 -0.004996 -0.004996 -0.004996\n",
      " -0.004996 -0.004996 -0.004996 -0.004996 -0.004996 -0.004996 -0.004996\n",
      " -0.004996 -0.004996 -0.004996 -0.004997 -0.004997 -0.004997 -0.004997\n",
      " -0.004997 -0.004997 -0.004997 -0.004997 -0.004997 -0.004997 -0.004997\n",
      " -0.004997 -0.004997 -0.004997 -0.004997 -0.004997 -0.004997 -0.004997\n",
      " -0.004997 -0.004997 -0.004997 -0.004997 -0.004997 -0.004997 -0.004997\n",
      " -0.004997 -0.004997]\n"
     ]
    }
   ],
   "source": [
    "print homme_celibataire_cesthra().calculate('cotisations_salariales','2013')/ salbrut_2012\n",
    "print homme_celibataire_cesthra().calculate('csgsald','2013') / salbrut_2012\n",
    "print homme_celibataire_cesthra().calculate('csgsali','2013')/ salbrut_2012\n",
    "print homme_celibataire_cesthra().calculate('crdssal','2013')/ salbrut_2012\n"
   ]
  },
  {
   "cell_type": "code",
   "execution_count": 23,
   "metadata": {
    "collapsed": false
   },
   "outputs": [],
   "source": [
    "np.set_printoptions(suppress=True, precision=4)"
   ]
  },
  {
   "cell_type": "code",
   "execution_count": 24,
   "metadata": {
    "collapsed": false
   },
   "outputs": [
    {
     "ename": "SyntaxError",
     "evalue": "invalid syntax (<ipython-input-24-3466f920cddc>, line 1)",
     "output_type": "error",
     "traceback": [
      "\u001b[0;36m  File \u001b[0;32m\"<ipython-input-24-3466f920cddc>\"\u001b[0;36m, line \u001b[0;32m1\u001b[0m\n\u001b[0;31m    Taux marginal de cotisation sociale :\u001b[0m\n\u001b[0m                ^\u001b[0m\n\u001b[0;31mSyntaxError\u001b[0m\u001b[0;31m:\u001b[0m invalid syntax\n"
     ]
    }
   ],
   "source": [
    "Taux marginal de cotisation sociale :"
   ]
  },
  {
   "cell_type": "code",
   "execution_count": 455,
   "metadata": {
    "collapsed": false
   },
   "outputs": [],
   "source": [
    "cotsoc= abs(\n",
    "        homme_celibataire_cesthra().calculate('cotisations_salariales','2013') \n",
    "        + homme_celibataire_cesthra().calculate('csgsald','2013') \n",
    "        + homme_celibataire_cesthra().calculate('csgsali','2013')\n",
    "        + homme_celibataire_cesthra().calculate('crdssal','2013'))"
   ]
  },
  {
   "cell_type": "code",
   "execution_count": 456,
   "metadata": {
    "collapsed": false
   },
   "outputs": [],
   "source": [
    "taux_marginal_cotsoc = (cotsoc[1:]- cotsoc[:-1]) / ( salbrut_2013[1:] - salbrut_2013[:-1])"
   ]
  },
  {
   "cell_type": "code",
   "execution_count": 457,
   "metadata": {
    "collapsed": false
   },
   "outputs": [
    {
     "name": "stdout",
     "output_type": "stream",
     "text": [
      "[ 0.190464  0.120099  0.110907  0.088499  0.088499  0.088499  0.088501\n",
      "  0.088501  0.088499  0.088501  0.088499  0.088501  0.088497  0.088501\n",
      "  0.088499  0.088501  0.088501  0.088499  0.088501  0.088499  0.088499\n",
      "  0.088498  0.088501  0.088502  0.088499  0.088502  0.088499  0.088502\n",
      "  0.088497  0.088501  0.088501  0.0885    0.088501  0.088499  0.088501\n",
      "  0.0885    0.088499  0.088498  0.088502  0.088502  0.088498  0.088502\n",
      "  0.088498  0.088501  0.088497  0.088501  0.088501  0.088499  0.088501\n",
      "  0.088499  0.088502  0.088499  0.0885    0.088501  0.088499  0.088502\n",
      "  0.088498  0.088502  0.088499  0.088501  0.088497  0.088502  0.088502\n",
      "  0.088499  0.0885    0.088501  0.088501  0.088499  0.088499  0.088501\n",
      "  0.088499  0.088503  0.088498  0.088501  0.088499  0.088501  0.0885\n",
      "  0.088498  0.088502  0.088498  0.088501  0.0885    0.088501  0.088502\n",
      "  0.088497  0.088499  0.088501  0.088499  0.088501  0.088498  0.088502\n",
      "  0.088499  0.088502  0.088498  0.0885    0.088499  0.088503  0.088498\n",
      "  0.088502]\n"
     ]
    }
   ],
   "source": [
    "print taux_marginal_cotsoc"
   ]
  },
  {
   "cell_type": "code",
   "execution_count": 99,
   "metadata": {
    "collapsed": false
   },
   "outputs": [
    {
     "name": "stdout",
     "output_type": "stream",
     "text": [
      "[      0.             0.             0.             0.             0.\n",
      "       0.           448.535614    1873.53186     3298.530029    4723.530762\n",
      "    6148.529297    7598.044922    9498.042969   11398.047852   13298.042969\n",
      "   15198.044922   17098.042969   18998.037109   20898.037109   22798.033203\n",
      "   24698.039062   26598.037109   28498.050781   30398.044922   32298.044922\n",
      "   34198.046875   36098.039062   37998.039062   39898.039062   41798.050781\n",
      "   43698.046875   45598.046875   47498.046875   49398.039062   51298.039062\n",
      "   53198.035156   55098.03125    56998.03125    58898.035156   60798.039062\n",
      "   62698.035156   64598.035156   66498.023438   68398.054688   70298.046875\n",
      "   72198.046875   74098.0625     75998.039062   77898.046875   79798.046875\n",
      "   81698.046875   83598.039062   85498.039062   87398.039062   89298.039062\n",
      "   91198.039062   93098.039062   94998.046875   96898.039062   98798.039062\n",
      "  100698.039062  102598.039062  104498.046875  106398.039062  108298.046875\n",
      "  110198.039062  112098.039062  113998.039062  115898.039062  117798.039062\n",
      "  119698.03125   121598.03125   123498.03125   125398.03125   127298.03125\n",
      "  129198.03125   131098.015625  132998.03125   134898.03125   136798.03125\n",
      "  138698.03125   140598.03125   142498.015625  144398.015625  146298.015625\n",
      "  148198.03125   150098.0625    151998.03125   153898.0625    155798.015625\n",
      "  157698.0625    159598.015625  161498.0625    163398.015625  165298.0625\n",
      "  167198.0625    169098.0625    170998.046875  172898.0625    174798.046875]\n"
     ]
    }
   ],
   "source": [
    "cehr_h_celibataire = homme_celibataire_cesthra().calculate('cehr','2013') \n",
    "print cehr_h_celibataire"
   ]
  },
  {
   "cell_type": "code",
   "execution_count": 100,
   "metadata": {
    "collapsed": false
   },
   "outputs": [
    {
     "name": "stdout",
     "output_type": "stream",
     "text": [
      "[ 0.        0.        0.        0.        0.        0.008881  0.028215\n",
      "  0.028215  0.028215  0.028215  0.0287    0.03762   0.03762   0.03762\n",
      "  0.03762   0.03762   0.03762   0.03762   0.03762   0.03762   0.03762\n",
      "  0.03762   0.03762   0.03762   0.03762   0.03762   0.03762   0.03762\n",
      "  0.03762   0.03762   0.03762   0.03762   0.03762   0.03762   0.03762\n",
      "  0.03762   0.03762   0.03762   0.03762   0.03762   0.03762   0.03762\n",
      "  0.03762   0.03762   0.03762   0.03762   0.03762   0.03762   0.03762\n",
      "  0.03762   0.03762   0.03762   0.03762   0.03762   0.03762   0.03762\n",
      "  0.03762   0.03762   0.03762   0.03762   0.03762   0.03762   0.03762\n",
      "  0.03762   0.03762   0.03762   0.03762   0.03762   0.03762   0.03762\n",
      "  0.03762   0.03762   0.03762   0.03762   0.03762   0.03762   0.03762\n",
      "  0.03762   0.03762   0.03762   0.03762   0.03762   0.03762   0.03762\n",
      "  0.03762   0.03762   0.03762   0.03762   0.03762   0.03762   0.03762\n",
      "  0.03762   0.03762   0.03762   0.03762   0.03762   0.03762   0.03762\n",
      "  0.03762 ]\n"
     ]
    }
   ],
   "source": [
    "taux_marginal_cehr_h_celibataire = (cehr_h_celibataire[1:]- cehr_h_celibataire[:-1]) / ( salbrut_2013[1:] - salbrut_2013[:-1])\n",
    "print taux_marginal_cehr_h_celibataire"
   ]
  },
  {
   "cell_type": "code",
   "execution_count": 101,
   "metadata": {
    "collapsed": false
   },
   "outputs": [
    {
     "name": "stdout",
     "output_type": "stream",
     "text": [
      "[       0.          -5817.006348   -19082.617188   -36740.445312   -56965.5\n",
      "   -78340.515625  -100164.101562  -122964.039062  -145764.015625\n",
      "  -168564.03125   -191364.        -214188.578125  -237463.5625\n",
      "  -260738.609375  -284013.53125   -307288.5625    -330563.53125\n",
      "  -353838.46875   -377113.46875   -400388.4375    -423663.5       -446938.46875\n",
      "  -476882.34375   -508707.21875   -540532.25      -572357.25      -604182.1875\n",
      "  -636007.1875    -667832.1875    -699657.3125    -731482.3125\n",
      "  -763307.3125    -795132.3125    -826957.1875    -858782.1875    -890607.125\n",
      "  -922432.        -954257.        -986082.125    -1017907.1875   -1049732.125\n",
      " -1081557.125    -1113381.875    -1145207.375    -1177032.25     -1208857.25\n",
      " -1240682.5      -1272507.125    -1304332.25     -1336157.25     -1367982.25\n",
      " -1399807.125    -1431632.125    -1463457.125    -1495282.125    -1527107.125\n",
      " -1558932.125    -1590757.25     -1622582.125    -1654407.125    -1686232.125\n",
      " -1718057.125    -1749882.25     -1781707.125    -1813532.25     -1845357.125\n",
      " -1877182.125    -1909007.125    -1940832.125    -1972657.125    -2004482.\n",
      " -2036307.       -2068132.       -2099957.       -2131782.       -2163607.\n",
      " -2195431.75     -2227257.       -2259082.       -2290907.       -2322732.\n",
      " -2354557.       -2386381.75     -2418206.75     -2450031.75     -2481857.\n",
      " -2513682.75     -2545507.       -2577332.75     -2609156.75     -2640982.5\n",
      " -2672806.75     -2704632.5      -2736456.75     -2768282.5      -2800107.5\n",
      " -2831932.5      -2863757.       -2895582.5      -2927407.      ]\n"
     ]
    }
   ],
   "source": [
    "irpp_h_celibataire = homme_celibataire_cesthra().calculate('irpp','2013') \n",
    "print irpp_h_celibataire"
   ]
  },
  {
   "cell_type": "code",
   "execution_count": 102,
   "metadata": {
    "collapsed": false
   },
   "outputs": [
    {
     "name": "stdout",
     "output_type": "stream",
     "text": [
      "[-0.115177 -0.262659 -0.349625 -0.400456 -0.423225 -0.432106 -0.451439\n",
      " -0.451439 -0.451441 -0.451439 -0.451926 -0.460845 -0.460846 -0.460844\n",
      " -0.460846 -0.460844 -0.460844 -0.460845 -0.460845 -0.460846 -0.460845\n",
      " -0.592885 -0.630133 -0.630135 -0.630136 -0.630134 -0.630136 -0.630136\n",
      " -0.630137 -0.630136 -0.630134 -0.630136 -0.630133 -0.630136 -0.630134\n",
      " -0.630133 -0.630136 -0.630138 -0.630134 -0.630134 -0.630136 -0.630132\n",
      " -0.630136 -0.630133 -0.630136 -0.630141 -0.630128 -0.630135 -0.630136\n",
      " -0.630136 -0.630133 -0.630136 -0.630136 -0.630136 -0.630136 -0.630136\n",
      " -0.630135 -0.630133 -0.630136 -0.630136 -0.630136 -0.630135 -0.630133\n",
      " -0.630138 -0.630133 -0.630136 -0.630136 -0.630136 -0.630136 -0.630133\n",
      " -0.630136 -0.630136 -0.630136 -0.630136 -0.630136 -0.630131 -0.630134\n",
      " -0.630136 -0.630136 -0.630136 -0.630136 -0.630131 -0.630136 -0.630139\n",
      " -0.630134 -0.630138 -0.630133 -0.630138 -0.630128 -0.630138 -0.630133\n",
      " -0.630138 -0.630133 -0.630138 -0.630136 -0.630129 -0.630132 -0.630139\n",
      " -0.630132]\n"
     ]
    }
   ],
   "source": [
    "taux_marginal_irpp_h_celibataire = (irpp_h_celibataire[1:]- irpp_h_celibataire[:-1]) / ( salbrut_2013[1:] - salbrut_2013[:-1])\n",
    "print taux_marginal_irpp_h_celibataire"
   ]
  },
  {
   "cell_type": "code",
   "execution_count": 103,
   "metadata": {
    "collapsed": false
   },
   "outputs": [
    {
     "name": "stdout",
     "output_type": "stream",
     "text": [
      "[       0.          -5817.006348   -19082.617188   -36740.445312   -56965.5\n",
      "   -78340.515625  -100164.101562  -122964.039062  -145764.015625\n",
      "  -168564.03125   -191364.        -214188.578125  -237463.5625\n",
      "  -260738.609375  -284013.53125   -307288.5625    -330563.53125\n",
      "  -353838.46875   -377113.46875   -400388.4375    -423663.5       -446938.46875\n",
      "  -476882.34375   -508707.21875   -540532.25      -572357.25      -604182.1875\n",
      "  -636007.1875    -667832.1875    -699657.3125    -731482.3125\n",
      "  -763307.3125    -795132.3125    -826957.1875    -858782.1875    -890607.125\n",
      "  -922432.        -954257.        -986082.125    -1017907.1875   -1049732.125\n",
      " -1081557.125    -1113381.875    -1145207.375    -1177032.25     -1208857.25\n",
      " -1240682.5      -1272507.125    -1304332.25     -1336157.25     -1367982.25\n",
      " -1399807.125    -1431632.125    -1463457.125    -1495282.125    -1527107.125\n",
      " -1558932.125    -1590757.25     -1622582.125    -1654407.125    -1686232.125\n",
      " -1718057.125    -1749882.25     -1781707.125    -1813532.25     -1845357.125\n",
      " -1877182.125    -1909007.125    -1940832.125    -1972657.125    -2004482.\n",
      " -2036307.       -2068132.       -2099957.       -2131782.       -2163607.\n",
      " -2195431.75     -2227257.       -2259082.       -2290907.       -2322732.\n",
      " -2354557.       -2386381.75     -2418206.75     -2450031.75     -2481857.\n",
      " -2513682.75     -2545507.       -2577332.75     -2609156.75     -2640982.5\n",
      " -2672806.75     -2704632.5      -2736456.75     -2768282.5      -2800107.5\n",
      " -2831932.5      -2863757.       -2895582.5      -2927407.      ]\n"
     ]
    }
   ],
   "source": [
    "cesthra_h_celibataire = homme_celibataire_cesthra().calculate('irpp','2013') \n",
    "print cesthra_h_celibataire"
   ]
  },
  {
   "cell_type": "code",
   "execution_count": 104,
   "metadata": {
    "collapsed": false
   },
   "outputs": [
    {
     "name": "stdout",
     "output_type": "stream",
     "text": [
      "[-0.115177 -0.262659 -0.349625 -0.400456 -0.423225 -0.432106 -0.451439\n",
      " -0.451439 -0.451441 -0.451439 -0.451926 -0.460845 -0.460846 -0.460844\n",
      " -0.460846 -0.460844 -0.460844 -0.460845 -0.460845 -0.460846 -0.460845\n",
      " -0.592885 -0.630133 -0.630135 -0.630136 -0.630134 -0.630136 -0.630136\n",
      " -0.630137 -0.630136 -0.630134 -0.630136 -0.630133 -0.630136 -0.630134\n",
      " -0.630133 -0.630136 -0.630138 -0.630134 -0.630134 -0.630136 -0.630132\n",
      " -0.630136 -0.630133 -0.630136 -0.630141 -0.630128 -0.630135 -0.630136\n",
      " -0.630136 -0.630133 -0.630136 -0.630136 -0.630136 -0.630136 -0.630136\n",
      " -0.630135 -0.630133 -0.630136 -0.630136 -0.630136 -0.630135 -0.630133\n",
      " -0.630138 -0.630133 -0.630136 -0.630136 -0.630136 -0.630136 -0.630133\n",
      " -0.630136 -0.630136 -0.630136 -0.630136 -0.630136 -0.630131 -0.630134\n",
      " -0.630136 -0.630136 -0.630136 -0.630136 -0.630131 -0.630136 -0.630139\n",
      " -0.630134 -0.630138 -0.630133 -0.630138 -0.630128 -0.630138 -0.630133\n",
      " -0.630138 -0.630133 -0.630138 -0.630136 -0.630129 -0.630132 -0.630139\n",
      " -0.630132]\n"
     ]
    }
   ],
   "source": [
    "taux_marginal_cesthra_h_celibataire = (cesthra_h_celibataire[1:]- cesthra_h_celibataire[:-1]) / ( salbrut_2013[1:] - salbrut_2013[:-1])\n",
    "print taux_marginal_cesthra_h_celibataire"
   ]
  },
  {
   "cell_type": "markdown",
   "metadata": {},
   "source": [
    "Pourquoi trouve-t-on 46%, alors que l'on devrait trouver 18%?"
   ]
  },
  {
   "cell_type": "code",
   "execution_count": 105,
   "metadata": {
    "collapsed": false
   },
   "outputs": [
    {
     "data": {
      "text/plain": [
       "array([    6250.637695,    36507.679688,    69120.523438,    97807.570312,\n",
       "         125082.546875,   151207.5625  ,   176884.09375 ,   201584.03125 ,\n",
       "         226283.984375,   250984.      ,   275683.96875 ,   300359.5625  ,\n",
       "         324584.5     ,   348809.5625  ,   373034.53125 ,   397259.5625  ,\n",
       "         421484.53125 ,   445709.46875 ,   469934.46875 ,   494159.375   ,\n",
       "         518384.5     ,   542609.5     ,   560165.875   ,   575840.875   ,\n",
       "         591515.875   ,   607190.875   ,   622865.8125  ,   638540.8125  ,\n",
       "         654215.8125  ,   669890.9375  ,   685565.8125  ,   701240.8125  ,\n",
       "         716915.8125  ,   732590.8125  ,   748265.8125  ,   763940.75    ,\n",
       "         779615.75    ,   795290.75    ,   810965.75    ,   826640.8125  ,\n",
       "         842315.75    ,   857990.75    ,   873665.75    ,   889341.      ,\n",
       "         905015.875   ,   920691.      ,   936366.      ,   952040.875   ,\n",
       "         967716.      ,   983391.      ,   999066.      ,  1014740.875   ,\n",
       "        1030415.875   ,  1046090.875   ,  1061765.875   ,  1077440.875   ,\n",
       "        1093115.875   ,  1108791.      ,  1124465.875   ,  1140140.875   ,\n",
       "        1155815.875   ,  1171490.875   ,  1187166.      ,  1202840.875   ,\n",
       "        1218516.      ,  1234190.875   ,  1249865.875   ,  1265540.875   ,\n",
       "        1281215.875   ,  1296890.875   ,  1312565.75    ,  1328240.75    ,\n",
       "        1343915.75    ,  1359590.75    ,  1375265.75    ,  1390940.75    ,\n",
       "        1406615.75    ,  1422290.75    ,  1437965.75    ,  1453640.75    ,\n",
       "        1469315.75    ,  1484990.75    ,  1500665.75    ,  1516340.75    ,\n",
       "        1532015.75    ,  1547690.75    ,  1563366.      ,  1579040.75    ,\n",
       "        1594716.      ,  1610390.75    ,  1626066.      ,  1641740.75    ,\n",
       "        1657416.      ,  1673090.75    ,  1688766.      ,  1704441.      ,\n",
       "        1720116.      ,  1735791.      ,  1751466.      ,  1767141.      ], dtype=float32)"
      ]
     },
     "execution_count": 105,
     "metadata": {},
     "output_type": "execute_result"
    }
   ],
   "source": [
    "revdisp_h_celibataire = homme_celibataire_cesthra().calculate('revdisp','2013') \n",
    "revdisp_h_celibataire"
   ]
  },
  {
   "cell_type": "code",
   "execution_count": 106,
   "metadata": {
    "collapsed": false
   },
   "outputs": [
    {
     "name": "stdout",
     "output_type": "stream",
     "text": [
      "[       0.          50505.050781   101010.101562   151515.171875\n",
      "   202020.203125   252525.234375   303030.34375    353535.34375\n",
      "   404040.40625    454545.40625    505050.46875    555555.625      606060.6875\n",
      "   656565.6875     707070.6875     757575.75       808080.8125\n",
      "   858585.8125     909090.8125     959595.8125    1010100.9375    1060605.875\n",
      "  1111111.25      1161616.25      1212121.375     1262626.375     1313131.375\n",
      "  1363636.375     1414141.375     1464646.5       1515151.5       1565656.625\n",
      "  1616161.625     1666666.625     1717171.625     1767676.625     1818181.625\n",
      "  1868686.625     1919191.625     1969696.875     2020201.875     2070706.875\n",
      "  2121211.75      2171717.5       2222222.5       2272727.5       2323232.5\n",
      "  2373737.5       2424242.75      2474747.75      2525252.75      2575757.75\n",
      "  2626262.75      2676767.75      2727272.75      2777777.75      2828282.75\n",
      "  2878788.        2929293.        2979798.        3030303.        3080808.\n",
      "  3131313.25      3181818.25      3232323.25      3282828.25      3333333.25\n",
      "  3383838.25      3434343.25      3484848.25      3535353.25      3585858.25\n",
      "  3636363.25      3686868.25      3737373.25      3787878.25      3838383.25\n",
      "  3888888.75      3939393.75      3989898.75      4040403.75      4090908.75\n",
      "  4141413.75      4191918.75      4242423.5       4292929.        4343435.\n",
      "  4393939.        4444445.        4494949.        4545455.        4595959.\n",
      "  4646465.        4696969.        4747475.        4797980.        4848485.5\n",
      "  4898990.        4949495.5       5000000.      ]\n"
     ]
    }
   ],
   "source": [
    "salbrut_h_celibataire = homme_celibataire_cesthra().calculate('salbrut','2013') \n",
    "print salbrut_h_celibataire"
   ]
  },
  {
   "cell_type": "code",
   "execution_count": 368,
   "metadata": {
    "collapsed": false
   },
   "outputs": [
    {
     "name": "stdout",
     "output_type": "stream",
     "text": [
      "[   -6250.64    13997.37    31889.58    53707.6     76937.66   101317.67\n",
      "   126146.25   151951.31   177756.42   203561.41   229366.5    255196.06\n",
      "   281476.19   307756.12   334036.16   360316.19   386596.28   412876.34\n",
      "   439156.34   465436.44   491716.44   517996.38   550945.38   585775.38\n",
      "   620605.5    655435.5    690265.56   725095.56   759925.56   794755.56\n",
      "   829585.69   864415.81   899245.81   934075.81   968905.81  1003735.88\n",
      "  1038565.88  1073395.88  1108225.88  1143056.    1177886.12  1212716.12\n",
      "  1247546.    1282376.5   1317206.62  1352036.5   1386866.5   1421696.62\n",
      "  1456526.75  1491356.75  1526186.75  1561016.88  1595846.88  1630676.88\n",
      "  1665506.88  1700336.88  1735166.88  1769997.    1804827.12  1839657.12\n",
      "  1874487.12  1909317.12  1944147.25  1978977.38  2013807.25  2048637.38\n",
      "  2083467.38  2118297.5   2153127.5   2187957.5   2222787.5   2257617.5\n",
      "  2292447.5   2327277.5   2362107.5   2396937.5   2431767.5   2466598.\n",
      "  2501428.    2536258.    2571088.    2605918.    2640748.    2675578.\n",
      "  2710407.75  2745238.25  2780069.    2814898.25  2849729.    2884558.25\n",
      "  2919389.    2954218.25  2989049.    3023878.25  3058709.    3093539.\n",
      "  3128369.5   3163199.    3198029.5   3232859.  ]\n"
     ]
    }
   ],
   "source": [
    "taxation_totale_h_celibataire_cesthra = salbrut_h_celibataire - revdisp_h_celibataire\n",
    "print taxation_totale_h_celibataire_cesthra"
   ]
  },
  {
   "cell_type": "code",
   "execution_count": 369,
   "metadata": {
    "collapsed": false
   },
   "outputs": [
    {
     "name": "stdout",
     "output_type": "stream",
     "text": [
      "[ 0.4   0.35  0.43  0.46  0.48  0.49  0.51  0.51  0.51  0.51  0.51  0.52\n",
      "  0.52  0.52  0.52  0.52  0.52  0.52  0.52  0.52  0.52  0.65  0.69  0.69\n",
      "  0.69  0.69  0.69  0.69  0.69  0.69  0.69  0.69  0.69  0.69  0.69  0.69\n",
      "  0.69  0.69  0.69  0.69  0.69  0.69  0.69  0.69  0.69  0.69  0.69  0.69\n",
      "  0.69  0.69  0.69  0.69  0.69  0.69  0.69  0.69  0.69  0.69  0.69  0.69\n",
      "  0.69  0.69  0.69  0.69  0.69  0.69  0.69  0.69  0.69  0.69  0.69  0.69\n",
      "  0.69  0.69  0.69  0.69  0.69  0.69  0.69  0.69  0.69  0.69  0.69  0.69\n",
      "  0.69  0.69  0.69  0.69  0.69  0.69  0.69  0.69  0.69  0.69  0.69  0.69\n",
      "  0.69  0.69  0.69]\n",
      "99\n"
     ]
    }
   ],
   "source": [
    "taux_marginal_taxation_totale_h_celibataire = (taxation_totale_h_celibataire_cesthra[1:]- taxation_totale_h_celibataire_cesthra[:-1]) / ( salbrut_2013[1:] - salbrut_2013[:-1])\n",
    "print taux_marginal_taxation_totale_h_celibataire\n",
    "print len(taux_marginal_taxation_totale_h_celibataire)"
   ]
  },
  {
   "cell_type": "code",
   "execution_count": 370,
   "metadata": {
    "collapsed": false
   },
   "outputs": [
    {
     "name": "stdout",
     "output_type": "stream",
     "text": [
      "[   50505.05   101010.1    151515.16   202020.2    252525.25   303030.31\n",
      "   353535.34   404040.41   454545.47   505050.5    555555.56   606060.62\n",
      "   656565.69   707070.69   757575.75   808080.81   858585.88   909090.94\n",
      "   959595.94  1010101.    1060606.    1111111.12  1161616.12  1212121.25\n",
      "  1262626.25  1313131.38  1363636.38  1414141.38  1464646.5   1515151.5\n",
      "  1565656.62  1616161.62  1666666.62  1717171.75  1767676.75  1818181.88\n",
      "  1868686.88  1919191.88  1969697.    2020202.    2070707.12  2121212.\n",
      "  2171717.25  2222222.25  2272727.25  2323232.25  2373737.25  2424242.5\n",
      "  2474747.5   2525252.5   2575757.5   2626262.75  2676767.75  2727272.75\n",
      "  2777777.75  2828282.75  2878788.    2929293.    2979798.    3030303.\n",
      "  3080808.    3131313.25  3181818.25  3232323.25  3282828.25  3333333.25\n",
      "  3383838.5   3434343.5   3484848.5   3535353.5   3585858.5   3636363.75\n",
      "  3686868.75  3737373.75  3787878.75  3838383.75  3888889.    3939394.\n",
      "  3989899.    4040404.    4090909.    4141414.25  4191919.25  4242424.\n",
      "  4292929.5   4343434.5   4393939.5   4444444.5   4494949.5   4545454.5\n",
      "  4595959.5   4646464.5   4696969.5   4747474.5   4797980.    4848485.\n",
      "  4898990.    4949495.    5000000.  ]\n",
      "99\n"
     ]
    }
   ],
   "source": [
    "salaire_de_base_2013 = homme_celibataire_cesthra().calculate('salaire_de_base', '2013')\n",
    "salaire_de_base_2013 = salaire_de_base_2013[1:]\n",
    "print salaire_de_base_2013\n",
    "print len(salaire_de_base_2013)"
   ]
  },
  {
   "cell_type": "code",
   "execution_count": 371,
   "metadata": {
    "collapsed": false
   },
   "outputs": [
    {
     "data": {
      "text/plain": [
       "(0, 5000000)"
      ]
     },
     "execution_count": 371,
     "metadata": {},
     "output_type": "execute_result"
    },
    {
     "data": {
      "image/png": "[encoded data removed]",
      "text/plain": [
       "<matplotlib.figure.Figure at 0x7fdf80dbbe50>"
      ]
     },
     "metadata": {},
     "output_type": "display_data"
    }
   ],
   "source": [
    "fig = plt.figure()\n",
    "plt.plot(salaire_de_base_2013, taux_marginal_taxation_totale_h_celibataire, label = \"macourbe\")\n",
    "plt.legend(loc = 4, shadow=True, fancybox=True)\n",
    "plt.xlim([0,salaire_maximal])"
   ]
  },
  {
   "cell_type": "markdown",
   "metadata": {},
   "source": [
    "### I.2. Nouveau projet: Taxe Exceptionelle de Solidarité sur les Hautes Rémunérations (TEHR)"
   ]
  },
  {
   "cell_type": "markdown",
   "metadata": {},
   "source": [
    "Le 29 décembre 2013, la loi des finances 2014 est votée par le conseil constitutionnel. Suite à l'implémentation de cette loi, l'article 15 instaure une \"Taxe Exeptionnelle de Solidarité sur les Hautes Rémunérations (TEHR)\", qui prévoit de taxer à 50% la part des rémunérations supérieure à 1 Million €. Dès lors, les entreprises rémunérant certains employés au delà de 1 million d'euros doivent s'acquitter l'année suivante d'une taxe à 50% sur la part des rémunérations supérieures à 1 million d'euros."
   ]
  },
  {
   "cell_type": "markdown",
   "metadata": {},
   "source": [
    "Si le taux marginal de cette taxe n'est pas directement égale à 75% sur les rémunérations supérieurs à 1 millions d'Euros, cummulée avec l'ensemble du système fiscal déjà en place, la TEHR élève effectivement le taux marginal sur les rémunérations supérieurs à 1 millions d'euros à 75%."
   ]
  },
  {
   "cell_type": "markdown",
   "metadata": {},
   "source": [
    "D'abord nous allons calculer le taux marginal de l'imposition totale sur le revenu, en prenant soin d'inclure dans l'imposition totale la Taxe Exceptionelle de Solidarité sur les Hautes Rémunérations (TEHR). Ainsi nous pourrons vérifier si le taux marginale de l'imposition totale pour les revenus supérieurs à 1 Million d'Euros correspond à 75%."
   ]
  },
  {
   "cell_type": "code",
   "execution_count": 372,
   "metadata": {
    "collapsed": false
   },
   "outputs": [],
   "source": [
    "def homme_celibataire_tehr(salaire_minimal = 0, nombre_enfants = 0, number_of_year = 4 , salaire_maximal = 5000000):\n",
    "    simulation = tax_benefit_system.new_scenario().init_single_entity(\n",
    "        axes = [\n",
    "            dict(\n",
    "                count = 100,\n",
    "                min = salaire_minimal * number_of_year,\n",
    "                max = salaire_maximal * number_of_year,\n",
    "                name = 'salaire_de_base',\n",
    "                ),\n",
    "            ],\n",
    "        period = '2010:{}'.format(number_of_year),\n",
    "        parent1 = dict(\n",
    "            birth = date(1980, 1, 1),\n",
    "#            salaire_de_base = {\"2013\": salaire_maximal, \"2014\": salaire_maximal}\n",
    "            ),\n",
    "        menage = dict(\n",
    "            loyer = 1000 * 3,\n",
    "            so = 4,\n",
    "            ),\n",
    "        ).new_simulation(debug = True)\n",
    "    return simulation"
   ]
  },
  {
   "cell_type": "code",
   "execution_count": 373,
   "metadata": {
    "collapsed": false
   },
   "outputs": [
    {
     "name": "stdout",
     "output_type": "stream",
     "text": [
      "[      -0.         -0.         -0.         -0.         -0.         -0.\n",
      "       -0.         -0.         -0.         -0.         -0.         -0.\n",
      "       -0.         -0.         -0.         -0.         -0.         -0.\n",
      "       -0.         -0.      -5050.47   -30302.94   -55555.62   -80808.12\n",
      "  -106060.69  -131313.19  -156565.69  -181818.19  -207070.69  -232323.25\n",
      "  -257575.75  -282828.31  -308080.81  -333333.31  -358585.81  -383838.31\n",
      "  -409090.81  -434343.31  -459595.81  -484848.44  -510100.94  -535353.44\n",
      "  -560605.88  -585858.75  -611111.25  -636363.75  -661616.25  -686868.75\n",
      "  -712121.38  -737373.88  -762626.38  -787878.88  -813131.38  -838383.88\n",
      "  -863636.38  -888888.88  -914141.38  -939394.    -964646.5   -989899.\n",
      " -1015151.5  -1040404.   -1065656.62 -1090909.12 -1116161.62 -1141414.12\n",
      " -1166666.62 -1191919.12 -1217171.62 -1242424.12 -1267676.62 -1292929.12\n",
      " -1318181.62 -1343434.12 -1368686.62 -1393939.12 -1419191.62 -1444444.38\n",
      " -1469696.88 -1494949.38 -1520201.88 -1545454.38 -1570706.88 -1595959.38\n",
      " -1621211.75 -1646464.5  -1671717.5  -1696969.5  -1722222.5  -1747474.5\n",
      " -1772727.5  -1797979.5  -1823232.5  -1848484.5  -1873737.5  -1898990.\n",
      " -1924242.75 -1949495.   -1974747.75 -2000000.  ]\n"
     ]
    }
   ],
   "source": [
    "tehr_h_celibataire = homme_celibataire_tehr().calculate('tehr', '2013')\n",
    "print tehr_h_celibataire"
   ]
  },
  {
   "cell_type": "code",
   "execution_count": 374,
   "metadata": {
    "collapsed": false
   },
   "outputs": [
    {
     "name": "stdout",
     "output_type": "stream",
     "text": [
      "[ 0.   0.   0.   0.   0.   0.   0.   0.   0.   0.   0.   0.   0.   0.   0.\n",
      "  0.   0.   0.   0.  -0.1 -0.5 -0.5 -0.5 -0.5 -0.5 -0.5 -0.5 -0.5 -0.5 -0.5\n",
      " -0.5 -0.5 -0.5 -0.5 -0.5 -0.5 -0.5 -0.5 -0.5 -0.5 -0.5 -0.5 -0.5 -0.5 -0.5\n",
      " -0.5 -0.5 -0.5 -0.5 -0.5 -0.5 -0.5 -0.5 -0.5 -0.5 -0.5 -0.5 -0.5 -0.5 -0.5\n",
      " -0.5 -0.5 -0.5 -0.5 -0.5 -0.5 -0.5 -0.5 -0.5 -0.5 -0.5 -0.5 -0.5 -0.5 -0.5\n",
      " -0.5 -0.5 -0.5 -0.5 -0.5 -0.5 -0.5 -0.5 -0.5 -0.5 -0.5 -0.5 -0.5 -0.5 -0.5\n",
      " -0.5 -0.5 -0.5 -0.5 -0.5 -0.5 -0.5 -0.5 -0.5]\n"
     ]
    }
   ],
   "source": [
    "taux_marginal_tehr_h_celibataire = (tehr_h_celibataire[1:]- tehr_h_celibataire[:-1]) / (salbrut_2012[1:] - salbrut_2012[:-1])\n",
    "print taux_marginal_tehr_h_celibataire"
   ]
  },
  {
   "cell_type": "markdown",
   "metadata": {},
   "source": [
    "Taux marginal conforme à nos attentes"
   ]
  },
  {
   "cell_type": "code",
   "execution_count": 375,
   "metadata": {
    "collapsed": false
   },
   "outputs": [
    {
     "name": "stdout",
     "output_type": "stream",
     "text": [
      "[    6250.64    36507.68    69120.52    97807.57   125082.55   151207.56\n",
      "   176884.09   201584.03   226283.98   250984.     275683.97   300359.56\n",
      "   324584.5    348809.56   373034.53   397259.56   421484.53   445709.47\n",
      "   469934.47   494159.38   518384.5    542609.5    566834.62   591059.56\n",
      "   615284.56   639509.56   663734.44   687959.44   712184.44   736409.62\n",
      "   760634.5    784859.5    809084.5    833309.44   857534.44   881759.38\n",
      "   905984.38   930209.38   954434.38   978659.44  1002884.38  1027109.38\n",
      "  1051334.25  1075559.75  1099784.5   1124009.62  1148234.75  1172459.5\n",
      "  1196684.62  1220909.62  1245134.62  1269359.5   1293584.5   1317809.5\n",
      "  1342034.5   1366259.5   1390484.5   1414709.62  1438934.5   1463159.5\n",
      "  1487384.5   1511609.5   1535834.62  1560059.5   1584284.62  1608509.5\n",
      "  1632734.5   1656959.5   1681184.5   1705409.5   1729634.38  1753859.38\n",
      "  1778084.38  1802309.38  1826534.38  1850759.38  1874984.25  1899209.38\n",
      "  1923434.38  1947659.38  1971884.38  1996109.38  2020334.25  2044559.25\n",
      "  2068784.25  2093009.38  2117234.75  2141459.5   2165684.75  2189909.25\n",
      "  2214134.75  2238359.25  2262584.75  2286809.25  2311034.75  2335259.75\n",
      "  2359484.75  2383709.5   2407934.75  2432159.5 ]\n"
     ]
    }
   ],
   "source": [
    "revdisp_h_celibataire_tehr = homme_celibataire_tehr().calculate('revdisp','2013') \n",
    "print revdisp_h_celibataire_tehr"
   ]
  },
  {
   "cell_type": "code",
   "execution_count": 376,
   "metadata": {
    "collapsed": false
   },
   "outputs": [
    {
     "name": "stdout",
     "output_type": "stream",
     "text": [
      "[       0.      50505.05   101010.1    151515.17   202020.2    252525.23\n",
      "   303030.34   353535.34   404040.41   454545.41   505050.47   555555.62\n",
      "   606060.69   656565.69   707070.69   757575.75   808080.81   858585.81\n",
      "   909090.81   959595.81  1010100.94  1060605.88  1111111.25  1161616.25\n",
      "  1212121.38  1262626.38  1313131.38  1363636.38  1414141.38  1464646.5\n",
      "  1515151.5   1565656.62  1616161.62  1666666.62  1717171.62  1767676.62\n",
      "  1818181.62  1868686.62  1919191.62  1969696.88  2020201.88  2070706.88\n",
      "  2121211.75  2171717.5   2222222.5   2272727.5   2323232.5   2373737.5\n",
      "  2424242.75  2474747.75  2525252.75  2575757.75  2626262.75  2676767.75\n",
      "  2727272.75  2777777.75  2828282.75  2878788.    2929293.    2979798.\n",
      "  3030303.    3080808.    3131313.25  3181818.25  3232323.25  3282828.25\n",
      "  3333333.25  3383838.25  3434343.25  3484848.25  3535353.25  3585858.25\n",
      "  3636363.25  3686868.25  3737373.25  3787878.25  3838383.25  3888888.75\n",
      "  3939393.75  3989898.75  4040403.75  4090908.75  4141413.75  4191918.75\n",
      "  4242423.5   4292929.    4343435.    4393939.    4444445.    4494949.\n",
      "  4545455.    4595959.    4646465.    4696969.    4747475.    4797980.\n",
      "  4848485.5   4898990.    4949495.5   5000000.  ]\n"
     ]
    }
   ],
   "source": [
    "salbrut_h_celibataire_tehr = homme_celibataire_tehr().calculate('salbrut','2013') \n",
    "print salbrut_h_celibataire_tehr"
   ]
  },
  {
   "cell_type": "code",
   "execution_count": 377,
   "metadata": {
    "collapsed": false
   },
   "outputs": [
    {
     "name": "stdout",
     "output_type": "stream",
     "text": [
      "[   -6250.64    13997.37    31889.58    53707.6     76937.66   101317.67\n",
      "   126146.25   151951.31   177756.42   203561.41   229366.5    255196.06\n",
      "   281476.19   307756.12   334036.16   360316.19   386596.28   412876.34\n",
      "   439156.34   465436.44   491716.44   517996.38   544276.62   570556.69\n",
      "   596836.81   623116.81   649396.94   675676.94   701956.94   728236.88\n",
      "   754517.     780797.12   807077.12   833357.19   859637.19   885917.25\n",
      "   912197.25   938477.25   964757.25   991037.44  1017317.5   1043597.5\n",
      "  1069877.5   1096157.75  1122438.    1148717.88  1174997.75  1201278.\n",
      "  1227558.12  1253838.12  1280118.12  1306398.25  1332678.25  1358958.25\n",
      "  1385238.25  1411518.25  1437798.25  1464078.38  1490358.5   1516638.5\n",
      "  1542918.5   1569198.5   1595478.62  1621758.75  1648038.62  1674318.75\n",
      "  1700598.75  1726878.75  1753158.75  1779438.75  1805718.88  1831998.88\n",
      "  1858278.88  1884558.88  1910838.88  1937118.88  1963399.    1989679.38\n",
      "  2015959.38  2042239.38  2068519.38  2094799.38  2121079.5   2147359.5\n",
      "  2173639.25  2199919.5   2226200.25  2252479.5   2278760.25  2305039.75\n",
      "  2331320.25  2357599.75  2383880.25  2410159.75  2436440.25  2462720.25\n",
      "  2489000.75  2515280.5   2541560.75  2567840.5 ]\n"
     ]
    }
   ],
   "source": [
    "taxation_totale_h_celibataire_tehr = salbrut_h_celibataire_tehr - revdisp_h_celibataire_tehr\n",
    "print taxation_totale_h_celibataire_tehr"
   ]
  },
  {
   "cell_type": "code",
   "execution_count": 378,
   "metadata": {
    "collapsed": false
   },
   "outputs": [
    {
     "name": "stdout",
     "output_type": "stream",
     "text": [
      "[ 0.4   0.35  0.43  0.46  0.48  0.49  0.51  0.51  0.51  0.51  0.51  0.52\n",
      "  0.52  0.52  0.52  0.52  0.52  0.52  0.52  0.52  0.52  0.52  0.52  0.52\n",
      "  0.52  0.52  0.52  0.52  0.52  0.52  0.52  0.52  0.52  0.52  0.52  0.52\n",
      "  0.52  0.52  0.52  0.52  0.52  0.52  0.52  0.52  0.52  0.52  0.52  0.52\n",
      "  0.52  0.52  0.52  0.52  0.52  0.52  0.52  0.52  0.52  0.52  0.52  0.52\n",
      "  0.52  0.52  0.52  0.52  0.52  0.52  0.52  0.52  0.52  0.52  0.52  0.52\n",
      "  0.52  0.52  0.52  0.52  0.52  0.52  0.52  0.52  0.52  0.52  0.52  0.52\n",
      "  0.52  0.52  0.52  0.52  0.52  0.52  0.52  0.52  0.52  0.52  0.52  0.52\n",
      "  0.52  0.52  0.52]\n"
     ]
    }
   ],
   "source": [
    "taux_marginal_taxation_totale_h_celibataire_tehr = (taxation_totale_h_celibataire_tehr[1:]- taxation_totale_h_celibataire_tehr[:-1]) / (salbrut_2012[1:] - salbrut_2012[:-1])\n",
    "print taux_marginal_taxation_totale_h_celibataire_tehr"
   ]
  },
  {
   "cell_type": "markdown",
   "metadata": {},
   "source": [
    "On remarque ici que le taux marginal de la taxation totale, sans ajouter la TEHR (qui est prise en charge par l'entreprise), est déjà de 52% pour les revenus supérieurs à 2,5 millions d'euros."
   ]
  },
  {
   "cell_type": "markdown",
   "metadata": {},
   "source": [
    "A présent, si l'on suppose que l'élasticité du travail par rapport à la taxation est plus grande pour les entreprises que pour les employés, alors on peut supposer que les entreprises répercuteraient le coût de la TEHR sur le salaire des individus. En effet, si les entreprises sont très élastiques (donc très sensibles au changement de taxation), et si les individus ne sont pas du tout élastiques (donc pas du tout sensibles au changement de taxation), alors les entreprises auront tout intérêt à répercuter le coût de la TEHR sur le salaire de leurs employés. "
   ]
  },
  {
   "cell_type": "markdown",
   "metadata": {},
   "source": [
    "Supposons que ce soit le cas, et que les entreprises répercutent le coût de la TEHR sur leurs employés:"
   ]
  },
  {
   "cell_type": "code",
   "execution_count": 438,
   "metadata": {
    "collapsed": false
   },
   "outputs": [
    {
     "name": "stdout",
     "output_type": "stream",
     "text": [
      "[ 0.4   0.35  0.43  0.46  0.48  0.49  0.51  0.51  0.51  0.51  0.51  0.52\n",
      "  0.52  0.52  0.52  0.52  0.52  0.52  0.52  0.62  1.02  1.02  1.02  1.02\n",
      "  1.02  1.02  1.02  1.02  1.02  1.02  1.02  1.02  1.02  1.02  1.02  1.02\n",
      "  1.02  1.02  1.02  1.02  1.02  1.02  1.02  1.02  1.02  1.02  1.02  1.02\n",
      "  1.02  1.02  1.02  1.02  1.02  1.02  1.02  1.02  1.02  1.02  1.02  1.02\n",
      "  1.02  1.02  1.02  1.02  1.02  1.02  1.02  1.02  1.02  1.02  1.02  1.02\n",
      "  1.02  1.02  1.02  1.02  1.02  1.02  1.02  1.02  1.02  1.02  1.02  1.02\n",
      "  1.02  1.02  1.02  1.02  1.02  1.02  1.02  1.02  1.02  1.02  1.02  1.02\n",
      "  1.02  1.02  1.02]\n"
     ]
    }
   ],
   "source": [
    "taux_marginal_taxation_totale_h_celibataire_tehr = ((taxation_totale_h_celibataire_tehr[1:] - tehr_h_celibataire[1:]) - (taxation_totale_h_celibataire_tehr[:-1] - tehr_h_celibataire[:-1])) / (salbrut_2012[1:] - salbrut_2012[:-1])\n",
    "print taux_marginal_taxation_totale_h_celibataire_tehr"
   ]
  },
  {
   "cell_type": "markdown",
   "metadata": {},
   "source": [
    "En ajoutant la TEHR à la taxation totale des individus, on constate que le taux marginal reste inchangé pour tous les rémunérations inférieures à 1 millions d'euros. En revanche au-delà d'un million d'Euros le taux marginal atteint subitement 102% de leur rémunération."
   ]
  },
  {
   "cell_type": "markdown",
   "metadata": {},
   "source": [
    "Un tel niveau de taxation peut paraître allarmant, puisque cela signifierait que la TEHR serait une taxe confiscatoire."
   ]
  },
  {
   "cell_type": "markdown",
   "metadata": {},
   "source": [
    "Néanmoins, le fait de simplement ajouter la TEHR à l'imposition générale ne nous donne pas une idée réelle de la réaction des entreprises face à l'implémentation de la TEHR. En effet, si les entreprises choisissaient de répercuter le coût de la TEHR sur ses employés, alors elles le feraient de sorte à maintenir un coût du travail constant."
   ]
  },
  {
   "cell_type": "markdown",
   "metadata": {},
   "source": [
    "Faisons abstraction des cotisations patronales, et supposons que le coût du travail corresponde au salaire brut des employés auquel on ajoute la TEHR. Dans ce cas là, le coût du travail correspond à 150% du salaire brut des employés. Si - comme nous l'avons supposé plus haut - les entreprises répercutent le coût de la TEHR sur le salaire brut des employés en abaissant leur salaire brut de 50%, alors ces entreprises font erreur. Par exemple pour un employé gagnant 5.000.000 € brut par an, le coût du travail représente 7.500.000 € avec la TEHR. Si l'entreprise cherchant à répercuter le coût de la TEHR sur son employé, baisse son salaire de 2.500.000 € (donc 50% de son salaire), alors le salaire brut de l'employé devient 2.500.000 €. Ainsi la TEHR correspondrait à présent à 50% x 2.500.000 € = 1.250.000 €, et donc le coût du travail de cet employé pour l'entreprise serait maintenant de 1.250.000 € + 2.500.000 € = 3.750.000 €."
   ]
  },
  {
   "cell_type": "markdown",
   "metadata": {},
   "source": [
    "Si l'on suppose que les entreprises cherchent à maintenir constants leurs coût du travail après l'implémentation de la TEHR, alors elles doivent en réalité baisser le salaire des individus non pas de 50%, mais de 33,33%."
   ]
  },
  {
   "cell_type": "markdown",
   "metadata": {},
   "source": [
    "En effet, supposons à nouveau un individu dont le salaire brut est de 5.000.000 € avant l'implémentation de la TEHR, et donc que le coût du travail (sans charges patronales) de cet individu corresponde à 5.000.000 €. Une fois que la TEHR entre en vigueur, si l'entreprise baisse le salaire de cet individu de 33,33%, son nouveau salaire brut devient 3.333.333,33 €. Sachant que l'entreprise va devoir payer 50% de TEHR sur ce salaire brut, le coût de travail de cette entreprise correspond désormais à 3.333.333,33 € + 50% x 3.333.333,33 € = 3.333.333,33 € + 1.666.666,67 € = 5.000.000 €.\n",
    "\n",
    "Cet exemple montre bien que si l'entreprise choisi de répercuter le coût de la TEHR sur les salariés, en cherchant à maintenir constant son coût du travail, elle baisserait les salaires supérieurs à 1 millions d'euros de 33,33%, et non pas de 50%."
   ]
  },
  {
   "cell_type": "markdown",
   "metadata": {},
   "source": [
    "Ainsi, puique le taux marginal de la taxation totale sans TEHR représente 52%, si les entreprises choisissaient de répercuter la TEHR sur leurs salariés, alors le taux marginal de la taxation totale sur les salaires supérieurs à 1.000.000 € deviendrait 52% + 33,33% = 85,33%."
   ]
  },
  {
   "cell_type": "markdown",
   "metadata": {},
   "source": [
    " "
   ]
  },
  {
   "cell_type": "markdown",
   "metadata": {},
   "source": [
    " "
   ]
  },
  {
   "cell_type": "markdown",
   "metadata": {},
   "source": [
    "Pour avoir une meilleure vue d'ensemble du taux marginal de la taxation totale sans TEHR, traçons un graphe indiquant le taux marginal de taxation totale en fonction du salaire de base."
   ]
  },
  {
   "cell_type": "code",
   "execution_count": 379,
   "metadata": {
    "collapsed": false
   },
   "outputs": [
    {
     "name": "stdout",
     "output_type": "stream",
     "text": [
      "[   50505.05   101010.1    151515.16   202020.2    252525.25   303030.31\n",
      "   353535.34   404040.41   454545.47   505050.5    555555.56   606060.62\n",
      "   656565.69   707070.69   757575.75   808080.81   858585.88   909090.94\n",
      "   959595.94  1010101.    1060606.    1111111.12  1161616.12  1212121.25\n",
      "  1262626.25  1313131.38  1363636.38  1414141.38  1464646.5   1515151.5\n",
      "  1565656.62  1616161.62  1666666.62  1717171.75  1767676.75  1818181.88\n",
      "  1868686.88  1919191.88  1969697.    2020202.    2070707.12  2121212.\n",
      "  2171717.25  2222222.25  2272727.25  2323232.25  2373737.25  2424242.5\n",
      "  2474747.5   2525252.5   2575757.5   2626262.75  2676767.75  2727272.75\n",
      "  2777777.75  2828282.75  2878788.    2929293.    2979798.    3030303.\n",
      "  3080808.    3131313.25  3181818.25  3232323.25  3282828.25  3333333.25\n",
      "  3383838.5   3434343.5   3484848.5   3535353.5   3585858.5   3636363.75\n",
      "  3686868.75  3737373.75  3787878.75  3838383.75  3888889.    3939394.\n",
      "  3989899.    4040404.    4090909.    4141414.25  4191919.25  4242424.\n",
      "  4292929.5   4343434.5   4393939.5   4444444.5   4494949.5   4545454.5\n",
      "  4595959.5   4646464.5   4696969.5   4747474.5   4797980.    4848485.\n",
      "  4898990.    4949495.    5000000.  ]\n",
      "99\n"
     ]
    }
   ],
   "source": [
    "salaire_de_base_2013 = homme_celibataire_cesthra().calculate('salaire_de_base', '2013')\n",
    "salaire_de_base_2013 = salaire_de_base_2013[1:]\n",
    "print salaire_de_base_2013\n",
    "print len(salaire_de_base_2013)"
   ]
  },
  {
   "cell_type": "code",
   "execution_count": 380,
   "metadata": {
    "collapsed": false
   },
   "outputs": [
    {
     "data": {
      "text/plain": [
       "(0, 5000000)"
      ]
     },
     "execution_count": 380,
     "metadata": {},
     "output_type": "execute_result"
    },
    {
     "data": {
      "image/png": "[encoded data removed]",
      "text/plain": [
       "<matplotlib.figure.Figure at 0x7fdf80196210>"
      ]
     },
     "metadata": {},
     "output_type": "display_data"
    }
   ],
   "source": [
    "fig = plt.figure()\n",
    "plt.plot(salaire_de_base_2013, taux_marginal_taxation_totale_h_celibataire_tehr, label = \"macourbe\")\n",
    "plt.legend(loc = 4, shadow=True, fancybox=True)\n",
    "plt.xlim([0,salaire_maximal])"
   ]
  },
  {
   "cell_type": "markdown",
   "metadata": {},
   "source": [
    "Comme on peut le voir ici, le taux marginal de taxation est croissant jusqu'à 1 million d'euros environ. Si l'on rajoutait la TEHR, prise en charge par l'entrprise, au taux marginal de taxation on obtiendrais un taux marginal de taxation total s'élevant à 102% des salaires imposables supérieurs à 1.000.000 €.\n",
    "Si en revanche on supposait que les entreprises choisissaient de répercuter le coût de la TEHR sur les employés, alors le taux marginal de taxation sur les rémunérations supérieurs atteindrait 85,33%."
   ]
  },
  {
   "cell_type": "markdown",
   "metadata": {},
   "source": [
    "C'est donc un taux qui est nettement supérieur au projet de réforme initial (avec CESRA), qui prévoyait de taxer à 75% les revenus supérieurs à 1.000.000 €. Ainsi, nous pourrions souligner le comportement contradictoire du conseil constitutionnel, qui choisi de rejeter la réforme initiale sous prétexte qu'elle ne tenait pas compte des capacités contributives des ménages, et qui instaure une taxe encore plus forte dans le projet corrigé."
   ]
  },
  {
   "cell_type": "markdown",
   "metadata": {},
   "source": [
    "Cependant, il faut tout de même préciser qu'avec le bouclier fiscal modifié par le gouvernement Hollande, la pression fiscale totale sur les contribuables ne peut excéder 75% de leurs revenus. Et par conséquent, avec le bouclier fiscal actuel, il est en réalité plus difficile de déterminer quel projet de réforme est avantageux pour quels ménages. "
   ]
  },
  {
   "cell_type": "markdown",
   "metadata": {},
   "source": [
    "Pour y voir plus clair, nous allons à présent déterminer la différence de revenu disponible en fonction des deux réformes, selon le salaire de base des individus."
   ]
  },
  {
   "cell_type": "markdown",
   "metadata": {},
   "source": [
    "### I.3. Graphique Différence revenu disponible (entre CESRA/TEHR) / revenu imposable"
   ]
  },
  {
   "cell_type": "code",
   "execution_count": 439,
   "metadata": {
    "collapsed": false
   },
   "outputs": [
    {
     "name": "stdout",
     "output_type": "stream",
     "text": [
      "[      0.         0.         0.         0.         0.         0.         0.\n",
      "       0.         0.         0.         0.         0.         0.         0.\n",
      "       0.         0.         0.         0.         0.         0.         0.\n",
      "       0.      6668.75   15218.69   23768.69   32318.69   40868.62\n",
      "   49418.62   57968.62   66518.69   75068.69   83618.69   92168.69\n",
      "  100718.62  109268.62  117818.62  126368.62  134918.62  143468.62\n",
      "  152018.62  160568.62  169118.62  177668.5   186218.75  194768.62\n",
      "  203318.62  211868.75  220418.62  228968.62  237518.62  246068.62\n",
      "  254618.62  263168.62  271718.62  280268.62  288818.62  297368.62\n",
      "  305918.62  314468.62  323018.62  331568.62  340118.62  348668.62\n",
      "  357218.62  365768.62  374318.62  382868.62  391418.62  399968.62\n",
      "  408518.62  417068.62  425618.62  434168.62  442718.62  451268.62\n",
      "  459818.62  468368.5   476918.62  485468.62  494018.62  502568.62\n",
      "  511118.62  519668.5   528218.5   536768.5   545318.62  553868.75\n",
      "  562418.75  570968.75  579518.5   588068.75  596618.5   605168.75\n",
      "  613718.5   622268.75  630818.75  639368.75  647918.5   656468.75]\n",
      "99\n"
     ]
    }
   ],
   "source": [
    "difference_revenue_disponible_2reformes = revdisp_h_celibataire_tehr - revdisp_2013_cesthra\n",
    "difference_revenue_disponible_2reformes = difference_revenue_disponible_2reformes[:-1]\n",
    "print difference_revenue_disponible_2reformes\n",
    "print len(difference_revenue_disponible_2reformes)"
   ]
  },
  {
   "cell_type": "code",
   "execution_count": 440,
   "metadata": {
    "collapsed": false
   },
   "outputs": [
    {
     "data": {
      "text/plain": [
       "(0, 5000000)"
      ]
     },
     "execution_count": 440,
     "metadata": {},
     "output_type": "execute_result"
    },
    {
     "data": {
      "image/png": "[encoded data removed]",
      "text/plain": [
       "<matplotlib.figure.Figure at 0x7fdf8018b3d0>"
      ]
     },
     "metadata": {},
     "output_type": "display_data"
    }
   ],
   "source": [
    "fig = plt.figure()\n",
    "plt.plot(salaire_de_base_2013, difference_revenue_disponible_2reformes, label = \"macourbe\")\n",
    "plt.legend(loc = 4, shadow=True, fancybox=True)\n",
    "plt.xlim([0,salaire_maximal])"
   ]
  },
  {
   "cell_type": "markdown",
   "metadata": {},
   "source": [
    "Sans surprise nous constatons que la réforme finale est plus avantageuse pour les revenus excédant le million d'Euros. Mais ce résultat s'explique en grande partie par le fait que nous n'avons pas ajouté la Taxe Exceptionelle de Solidarité sur les Très Hautes Rémunérations (TEHR).\n",
    "\n",
    "Nous allons à présent supposer que les entreprises impacteraient le coût de la TEHR sur les individus, et nous allons donc ajouter 33,33% au taux marginal de taxation pour le projet retenu par le conseil constitutionnel."
   ]
  },
  {
   "cell_type": "code",
   "execution_count": 462,
   "metadata": {
    "collapsed": false
   },
   "outputs": [
    {
     "name": "stdout",
     "output_type": "stream",
     "text": [
      "[   7409.09082    14818.181641   22227.273438   29636.363281   37045.453125\n",
      "   44454.546875   51863.632812   59272.726562   66681.820312   74090.90625\n",
      "   81500.         88909.09375    96318.179688  103727.265625  111136.359375\n",
      "  118545.453125  125954.546875  133363.640625  140772.71875   148181.8125\n",
      "  155590.890625  163000.        170409.078125  177818.1875    185227.265625\n",
      "  192636.359375  200045.453125  207454.53125   214863.640625  222272.71875\n",
      "  229681.8125    237090.90625   244499.984375  251909.09375   259318.171875\n",
      "  266727.28125   274136.34375   281545.4375    288954.53125   296363.625\n",
      "  303772.71875   311181.78125   318590.90625   326000.        333409.0625\n",
      "  340818.15625   348227.25      355636.375     363045.4375    370454.53125\n",
      "  377863.625     385272.71875   392681.8125    400090.90625   407499.96875\n",
      "  414909.0625    422318.1875    429727.28125   437136.34375   444545.4375\n",
      "  451954.53125   459363.625     466772.71875   474181.8125    481590.875\n",
      "  488999.96875   496409.09375   503818.1875    511227.25      518636.34375\n",
      "  526045.4375    533454.5625    540863.625     548272.6875    555681.8125\n",
      "  563090.875     570500.        577909.0625    585318.1875    592727.25\n",
      "  600136.3125    607545.4375    614954.5625    622363.5625    629772.75\n",
      "  637181.8125    644590.875     652000.        659409.0625    666818.125\n",
      "  674227.25      681636.3125    689045.375     696454.5       703863.625\n",
      "  711272.75      718681.8125    726090.875     733500.      ]\n",
      "99\n"
     ]
    }
   ],
   "source": [
    "revdisp_2013_tehr_repercute = (1-0.8533)*salaire_de_base_2013\n",
    "print revdisp_2013_tehr_repercute\n",
    "print len(revdisp_2013_tehr_repercute)"
   ]
  },
  {
   "cell_type": "code",
   "execution_count": 465,
   "metadata": {
    "collapsed": false
   },
   "outputs": [
    {
     "name": "stdout",
     "output_type": "stream",
     "text": [
      "[  -29098.589844   -54302.34375    -75580.296875   -95446.1875\n",
      "  -114162.109375  -132429.546875  -149720.40625   -167011.25      -184302.1875\n",
      "  -201593.0625    -218859.5625    -235675.40625   -252491.375     -269307.25\n",
      "  -286123.1875    -302939.0625    -319754.9375    -336570.8125\n",
      "  -353386.65625   -370202.6875    -387018.625     -397165.875     -405431.8125\n",
      "  -413697.6875    -421963.625     -430229.4375    -438495.375\n",
      "  -446761.28125   -455027.3125    -463293.09375   -471559.        -479824.90625\n",
      "  -488090.8125    -496356.71875   -504622.5625    -512888.46875\n",
      "  -521154.40625   -529420.3125    -537686.25      -545952.125     -554218.\n",
      "  -562484.        -570750.125     -579015.875     -587281.9375    -595547.875\n",
      "  -603813.625     -612079.625     -620345.5625    -628611.5       -636877.25\n",
      "  -645143.125     -653409.0625    -661675.        -669940.875     -678206.8125\n",
      "  -686472.8125    -694738.625     -703004.5       -711270.4375    -719536.375\n",
      "  -727802.375     -736068.125     -744334.1875    -752600.        -760865.875\n",
      "  -769131.75      -777397.6875    -785663.625     -793929.375     -802195.3125\n",
      "  -810461.1875    -818727.125     -826993.0625    -835258.9375    -843524.875\n",
      "  -851790.75      -860056.6875    -868322.5625    -876588.5       -884854.4375\n",
      "  -893120.3125    -901386.1875    -909652.1875    -917918.        -926184.1875\n",
      "  -934449.875     -942716.        -950981.6875    -959247.875     -967513.5\n",
      "  -975779.6875    -984045.375     -992311.5      -1000577.375    -1008843.25\n",
      " -1017109.1875   -1025375.125    -1033641.      ]\n",
      "99\n"
     ]
    }
   ],
   "source": [
    "difference_revenue_disponible_2reformes_tehr_repercute = revdisp_2013_tehr_repercute - revdisp_2013_cesthra[1:]\n",
    "print difference_revenue_disponible_2reformes_tehr_repercute\n",
    "print len(difference_revenue_disponible_2reformes_tehr_repercute)"
   ]
  },
  {
   "cell_type": "code",
   "execution_count": 466,
   "metadata": {
    "collapsed": false
   },
   "outputs": [
    {
     "data": {
      "text/plain": [
       "(0, 5000000)"
      ]
     },
     "execution_count": 466,
     "metadata": {},
     "output_type": "execute_result"
    },
    {
     "data": {
      "image/png": "[encoded data removed]",
      "text/plain": [
       "<matplotlib.figure.Figure at 0x7fdf80ee44d0>"
      ]
     },
     "metadata": {},
     "output_type": "display_data"
    }
   ],
   "source": [
    "fig = plt.figure()\n",
    "plt.plot(salaire_de_base_2013, difference_revenue_disponible_2reformes_tehr_repercute, label = \"macourbe\")\n",
    "plt.legend(loc = 4, shadow=True, fancybox=True)\n",
    "plt.xlim([0,salaire_maximal])"
   ]
  },
  {
   "cell_type": "markdown",
   "metadata": {},
   "source": [
    "Sur ce graphique les salaires inférieurs à 1.000.000 € ne sont pas à prendre en compte parce qu'ils soumis à TEHR de 33%, alors qu'en réalité ils ne le seraient pas. Mais comme nous l'avons vu sur le graphe précédent il n'y a pas de réél changement entre les deux réformes pour les salaires inférieurs à 1.000.000 €."
   ]
  },
  {
   "cell_type": "markdown",
   "metadata": {},
   "source": [
    "Pour les salaires supérieurs à 1.000.000 €, on constate que la réforme initiale (CESRA) était plus avantageuse pour les hautes rémunérations que la nouvelle réforme (TEHR)."
   ]
  },
  {
   "cell_type": "markdown",
   "metadata": {},
   "source": [
    "Ainsi pour conclure cette partie, nous pouvons dire que selon comment les entreprises décident de réagir à la TEHR, la première ou la seconde réforme peuvent-être avantageuses pour les employés."
   ]
  },
  {
   "cell_type": "markdown",
   "metadata": {},
   "source": [
    "En effet, si l'on suppose que les entreprises répercuterons l'intégralité des coûts de la TEHR sur leurs employés, alors la première réforme aurait été plus avantageuse pour eux. Si en revanche les entreprises acceptent de payer l'intégralité de la TEHR, alors l'ancienne réforme aurait été plus avantageuse pour les employés."
   ]
  },
  {
   "cell_type": "markdown",
   "metadata": {},
   "source": [
    "Dans les faits, il est très probable que les coûts de la TEHR soient partagés par l'entreprise et les employés rémunérés à plus de 1.000.000 €. Mais pour savoir plus précisemment comment ces coûts seraient partagés il faudrait connaître l'élasticité des entreprises et de leurs employés."
   ]
  },
  {
   "cell_type": "markdown",
   "metadata": {},
   "source": [
    "## II. Différence d'imposition entre les deux réformes dans le cadre du quotient famillial, pour un couple marié avec des revenus disparates"
   ]
  },
  {
   "cell_type": "markdown",
   "metadata": {},
   "source": [
    "Quelle réforme avantage le plus les couples mariés?"
   ]
  },
  {
   "cell_type": "markdown",
   "metadata": {},
   "source": [
    "### II.1. Nouveau projet: Taxe Exceptionelle de Solidarité sur les Hautes Rémunérations (TEHR)"
   ]
  },
  {
   "cell_type": "code",
   "execution_count": 15,
   "metadata": {
    "collapsed": false
   },
   "outputs": [],
   "source": [
    "salaire_maximal = 5000000"
   ]
  },
  {
   "cell_type": "code",
   "execution_count": 16,
   "metadata": {
    "collapsed": false
   },
   "outputs": [],
   "source": [
    "def couple_sans_enfant_tehr(nombre_enfants = 0, year = 2015):\n",
    "    enfant = [dict(\n",
    "        birth = date(2005, 1, 1),\n",
    "        )]\n",
    "    enfants = enfant * nombre_enfants\n",
    "    simulation = tax_benefit_system.new_scenario().init_single_entity(\n",
    "        axes = [\n",
    "            dict(\n",
    "                count = 100,\n",
    "                min = 0,\n",
    "                max = salaire_maximal * 3,\n",
    "                name = 'sal',\n",
    "                ),\n",
    "            ],\n",
    "        period = \"{}:3\".format(year-2),\n",
    "        parent1 = dict(\n",
    "            birth = date(1980, 1, 1),\n",
    "            statmarit = 1\n",
    "            ),\n",
    "        parent2 = dict(\n",
    "            birth = date(1980, 1, 1),\n",
    "            sal = 0,\n",
    "            statmarit = 1\n",
    "            ),\n",
    "        menage = dict(\n",
    "            loyer = 1000 * 3,\n",
    "            so = 4,\n",
    "            ),\n",
    "        ).new_simulation(debug = True)\n",
    "    return simulation"
   ]
  },
  {
   "cell_type": "code",
   "execution_count": 18,
   "metadata": {
    "collapsed": false
   },
   "outputs": [
    {
     "name": "stdout",
     "output_type": "stream",
     "text": [
      "100\n"
     ]
    }
   ],
   "source": [
    "revdisp_couple_tehr = couple_sans_enfant_tehr().calculate('revdisp', '2014')\n",
    "print len(revdisp_couple_tehr)"
   ]
  },
  {
   "cell_type": "code",
   "execution_count": 20,
   "metadata": {
    "collapsed": false
   },
   "outputs": [
    {
     "name": "stdout",
     "output_type": "stream",
     "text": [
      "[       0.      50505.05   101010.1    151515.16   202020.2    252525.25\n",
      "   303030.31   353535.34   404040.41   454545.47   505050.5    555555.56\n",
      "   606060.62   656565.69   707070.69   757575.75   808080.81   858585.81\n",
      "   909090.94   959596.    1010101.    1060606.12  1111111.12  1161616.12\n",
      "  1212121.25  1262626.25  1313131.38  1363636.38  1414141.38  1464646.5\n",
      "  1515151.5   1565656.5   1616161.62  1666666.62  1717171.62  1767676.88\n",
      "  1818181.88  1868686.88  1919192.    1969697.    2020202.    2070707.\n",
      "  2121212.25  2171717.25  2222222.25  2272727.25  2323232.25  2373737.25\n",
      "  2424242.5   2474747.5   2525252.5   2575757.5   2626262.75  2676767.75\n",
      "  2727272.75  2777777.75  2828282.75  2878788.    2929293.    2979798.\n",
      "  3030303.    3080808.    3131313.    3181818.25  3232323.25  3282828.25\n",
      "  3333333.25  3383838.25  3434343.25  3484848.25  3535353.75  3585858.75\n",
      "  3636363.75  3686868.75  3737373.75  3787878.75  3838384.    3888889.\n",
      "  3939394.    3989899.    4040404.    4090909.    4141414.    4191919.25\n",
      "  4242424.5   4292929.5   4343434.5   4393939.5   4444444.5   4494949.5\n",
      "  4545454.5   4595959.5   4646464.5   4696969.5   4747474.5   4797979.5\n",
      "  4848485.    4898990.    4949495.    5000000.  ]\n",
      "100\n"
     ]
    }
   ],
   "source": [
    "salaire_imposable_couple_2014 = couple_sans_enfant_tehr().calculate('sal', '2014')[::2]\n",
    "print salaire_imposable_couple_2014\n",
    "print len(salaire_imposable_couple_2014)"
   ]
  },
  {
   "cell_type": "code",
   "execution_count": 21,
   "metadata": {
    "collapsed": false
   },
   "outputs": [
    {
     "name": "stdout",
     "output_type": "stream",
     "text": [
      "[   -9037.46     3650.37    15995.05    30547.77    50804.95    71512.03\n",
      "    92219.09   114487.69   137214.97   159942.25   182669.5    206700.56\n",
      "   230943.     255185.41   279427.81   303670.25   327912.66   352155.06\n",
      "   376397.56   400640.     424882.38   449609.88   474357.38   499104.81\n",
      "   523852.31   548599.75   573347.31   598094.75   622842.19   647589.69\n",
      "   672337.12   697084.56   721832.06   746579.56   771327.     796074.56\n",
      "   820822.     845569.5    870317.     895064.5    919811.88   944559.25\n",
      "   969307.     994054.38  1018801.75  1043549.25  1068296.75  1093044.12\n",
      "  1117791.75  1142539.12  1167286.62  1192034.    1216781.62  1241529.12\n",
      "  1266276.5   1291024.    1315771.38  1340519.    1365266.5   1390013.88\n",
      "  1414761.38  1439508.75  1464256.25  1489003.88  1513751.25  1538498.75\n",
      "  1563246.25  1587993.62  1612741.12  1637488.5   1662236.25  1686983.75\n",
      "  1711731.12  1736478.62  1761226.12  1785973.5   1810721.12  1835468.5\n",
      "  1860216.    1884963.5   1909711.    1934458.5   1959205.75  1983953.25\n",
      "  2008701.    2033448.5   2058196.    2082943.5   2107690.75  2132438.25\n",
      "  2157185.75  2181933.    2206680.5   2231428.    2256175.5   2280922.75\n",
      "  2305670.5   2330418.    2355165.5   2379913.  ]\n",
      "100\n"
     ]
    }
   ],
   "source": [
    "taxation_totale_couple_tehr = salaire_imposable_couple_2014 - revdisp_couple_tehr\n",
    "print taxation_totale_couple_tehr\n",
    "print len(taxation_totale_couple_tehr)"
   ]
  },
  {
   "cell_type": "code",
   "execution_count": 22,
   "metadata": {
    "collapsed": false
   },
   "outputs": [
    {
     "name": "stdout",
     "output_type": "stream",
     "text": [
      "[-0. -0. -0. -0. -0. -0. -0. -0. -0. -0. -0. -0. -0. -0. -0. -0. -0. -0.\n",
      " -0. -0. -0. -0. -0. -0. -0. -0. -0. -0. -0. -0. -0. -0. -0. -0. -0. -0.\n",
      " -0. -0. -0. -0. -0. -0. -0. -0. -0. -0. -0. -0. -0. -0. -0. -0. -0. -0.\n",
      " -0. -0. -0. -0. -0. -0. -0. -0. -0. -0. -0. -0. -0. -0. -0. -0. -0. -0.\n",
      " -0. -0. -0. -0. -0. -0. -0. -0. -0. -0. -0. -0. -0. -0. -0. -0. -0. -0.\n",
      " -0. -0. -0. -0. -0. -0. -0. -0. -0. -0.]\n",
      "100\n"
     ]
    }
   ],
   "source": [
    "tehr_couple = couple_sans_enfant_tehr().calculate('tehr', '2013')[::2]\n",
    "print tehr_couple\n",
    "print len(tehr_couple)"
   ]
  },
  {
   "cell_type": "code",
   "execution_count": null,
   "metadata": {
    "collapsed": false
   },
   "outputs": [],
   "source": []
  },
  {
   "cell_type": "code",
   "execution_count": 24,
   "metadata": {
    "collapsed": false
   },
   "outputs": [
    {
     "data": {
      "text/plain": [
       "array([ 0.25,  0.24,  0.29,  0.4 ,  0.41,  0.41,  0.44,  0.45,  0.45,\n",
       "        0.45,  0.48,  0.48,  0.48,  0.48,  0.48,  0.48,  0.48,  0.48,\n",
       "        0.48,  0.48,  0.49,  0.49,  0.49,  0.49,  0.49,  0.49,  0.49,\n",
       "        0.49,  0.49,  0.49,  0.49,  0.49,  0.49,  0.49,  0.49,  0.49,\n",
       "        0.49,  0.49,  0.49,  0.49,  0.49,  0.49,  0.49,  0.49,  0.49,\n",
       "        0.49,  0.49,  0.49,  0.49,  0.49,  0.49,  0.49,  0.49,  0.49,\n",
       "        0.49,  0.49,  0.49,  0.49,  0.49,  0.49,  0.49,  0.49,  0.49,\n",
       "        0.49,  0.49,  0.49,  0.49,  0.49,  0.49,  0.49,  0.49,  0.49,\n",
       "        0.49,  0.49,  0.49,  0.49,  0.49,  0.49,  0.49,  0.49,  0.49,\n",
       "        0.49,  0.49,  0.49,  0.49,  0.49,  0.49,  0.49,  0.49,  0.49,\n",
       "        0.49,  0.49,  0.49,  0.49,  0.49,  0.49,  0.49,  0.49,  0.49], dtype=float32)"
      ]
     },
     "execution_count": 24,
     "metadata": {},
     "output_type": "execute_result"
    }
   ],
   "source": [
    "taux_marginal_taxation_totale_couple_bla =  ((taxation_totale_couple_tehr[1:] - tehr_couple[1:]) - (taxation_totale_couple_tehr[:-1] - tehr_couple[:-1])) / (salaire_imposable_couple_2014[1:] - salaire_imposable_couple_2014[:-1] ) \n",
    "taux_marginal_taxation_totale_couple_bla"
   ]
  },
  {
   "cell_type": "code",
   "execution_count": 26,
   "metadata": {
    "collapsed": false
   },
   "outputs": [
    {
     "name": "stdout",
     "output_type": "stream",
     "text": [
      "[ 0.25  0.24  0.29  0.4   0.41  0.41  0.44  0.45  0.45  0.45  0.48  0.48\n",
      "  0.48  0.48  0.48  0.48  0.48  0.48  0.48  0.48  0.49  0.49  0.49  0.49\n",
      "  0.49  0.49  0.49  0.49  0.49  0.49  0.49  0.49  0.49  0.49  0.49  0.49\n",
      "  0.49  0.49  0.49  0.49  0.49  0.49  0.49  0.49  0.49  0.49  0.49  0.49\n",
      "  0.49  0.49  0.49  0.49  0.49  0.49  0.49  0.49  0.49  0.49  0.49  0.49\n",
      "  0.49  0.49  0.49  0.49  0.49  0.49  0.49  0.49  0.49  0.49  0.49  0.49\n",
      "  0.49  0.49  0.49  0.49  0.49  0.49  0.49  0.49  0.49  0.49  0.49  0.49\n",
      "  0.49  0.49  0.49  0.49  0.49  0.49  0.49  0.49  0.49  0.49  0.49  0.49\n",
      "  0.49  0.49  0.49]\n",
      "99\n"
     ]
    }
   ],
   "source": [
    "taux_marginal_taxation_totale_couple =  (taxation_totale_couple_tehr[1:] - taxation_totale_couple_tehr[:-1]) / (salaire_imposable_couple_2014[1:] - salaire_imposable_couple_2014[:-1] ) \n",
    "print taux_marginal_taxation_totale_couple\n",
    "print len(taux_marginal_taxation_totale_couple)"
   ]
  },
  {
   "cell_type": "code",
   "execution_count": null,
   "metadata": {
    "collapsed": false
   },
   "outputs": [],
   "source": [
    "salaire_imposable_2014 = salaire_imposable_2014[1:]\n",
    "print salaire_imposable_2014\n",
    "print len(salaire_imposable_2014)"
   ]
  },
  {
   "cell_type": "code",
   "execution_count": null,
   "metadata": {
    "collapsed": false
   },
   "outputs": [],
   "source": [
    "fig = plt.figure()\n",
    "plt.plot(salaire_imposable_2014, taux_marginal_taxation_totale_couple, label = \"macourbe\")\n",
    "plt.legend(loc = 4, shadow=True, fancybox=True)\n",
    "plt.xlim([0,salaire_maximal])"
   ]
  },
  {
   "cell_type": "markdown",
   "metadata": {},
   "source": [
    "### II.2. Projet initial: Contribution Exceptionnelle de Solidarité sur les trés Hauts Revenus d'Activité (CESRA)"
   ]
  },
  {
   "cell_type": "code",
   "execution_count": 342,
   "metadata": {
    "collapsed": false
   },
   "outputs": [],
   "source": [
    "def couple_sans_enfant_cesthra(nombre_enfants = 0, year = 2015):\n",
    "    enfant = [dict(\n",
    "        birth = date(2005, 1, 1),\n",
    "        )]\n",
    "    enfants = enfant * nombre_enfants\n",
    "    simulation = tax_benefit_cesthra.new_scenario().init_single_entity(\n",
    "        axes = [\n",
    "            dict(\n",
    "                count = 100,\n",
    "                min = 0,\n",
    "                max = salaire_maximal * 3,\n",
    "                name = 'sal',\n",
    "                ),\n",
    "            ],\n",
    "        period = \"{}:3\".format(year-2),\n",
    "        parent1 = dict(\n",
    "            birth = date(1980, 1, 1),\n",
    "            statmarit = 1\n",
    "            ),\n",
    "        parent2 = dict(\n",
    "            birth = date(1980, 1, 1),\n",
    "            sal = 0,\n",
    "            statmarit = 1\n",
    "            ),\n",
    "        menage = dict(\n",
    "            loyer = 1000 * 3,\n",
    "            so = 4,\n",
    "            ),\n",
    "        ).new_simulation(debug = True)\n",
    "    return simulation"
   ]
  },
  {
   "cell_type": "code",
   "execution_count": 343,
   "metadata": {
    "collapsed": false
   },
   "outputs": [
    {
     "data": {
      "text/plain": [
       "array([      0.  ,       0.  ,       0.  ,       0.  ,       0.  ,\n",
       "             0.  ,       0.  ,       0.  ,       0.  ,       0.  ,\n",
       "             0.  ,       0.  ,       0.  ,       0.  ,       0.  ,\n",
       "             0.  ,       0.  ,       0.  ,       0.  ,       0.  ,\n",
       "          1818.18,   10909.1 ,   20000.  ,   29090.9 ,   38181.82,\n",
       "         47272.73,   56363.65,   65454.55,   74545.45,   83636.37,\n",
       "         92727.27,  101818.17,  110909.09,  119999.99,  129090.89,\n",
       "        138181.84,  147272.73,  156363.64,  165454.56,  174545.45,\n",
       "        183636.36,  192727.27,  201818.2 ,  210909.11,  220000.  ,\n",
       "        229090.91,  238181.81,  247272.7 ,  256363.66,  265454.56,\n",
       "        274545.44,  283636.34,  292727.28,  301818.19,  310909.09,\n",
       "        320000.  ,  329090.91,  338181.84,  347272.75,  356363.62,\n",
       "        365454.53,  374545.44,  383636.34,  392727.28,  401818.19,\n",
       "        410909.09,  420000.  ,  429090.88,  438181.78,  447272.69,\n",
       "        456363.69,  465454.56,  474545.47,  483636.38,  492727.28,\n",
       "        501818.19,  510909.12,  520000.03,  529090.94,  538181.81,\n",
       "        547272.75,  556363.62,  565454.5 ,  574545.44,  583636.44,\n",
       "        592727.31,  601818.19,  610909.12,  620000.  ,  629090.94,\n",
       "        638181.81,  647272.69,  656363.62,  665454.5 ,  674545.44,\n",
       "        683636.31,  692727.31,  701818.19,  710909.12,  720000.  ], dtype=float32)"
      ]
     },
     "execution_count": 343,
     "metadata": {},
     "output_type": "execute_result"
    }
   ],
   "source": [
    "cesthra = couple_sans_enfant_cesthra().calculate('cesthra', '2014')\n",
    "cesthra"
   ]
  },
  {
   "cell_type": "code",
   "execution_count": 344,
   "metadata": {
    "collapsed": false
   },
   "outputs": [
    {
     "name": "stdout",
     "output_type": "stream",
     "text": [
      "100\n"
     ]
    }
   ],
   "source": [
    "revdisp_couple = couple_sans_enfant_cesthra().calculate('revdisp', '2014')\n",
    "print len(revdisp_h_couple)"
   ]
  },
  {
   "cell_type": "code",
   "execution_count": 301,
   "metadata": {
    "collapsed": false
   },
   "outputs": [
    {
     "name": "stdout",
     "output_type": "stream",
     "text": [
      "[       0.      50505.05   101010.1    151515.16   202020.2    252525.25\n",
      "   303030.31   353535.34   404040.41   454545.47   505050.5    555555.56\n",
      "   606060.62   656565.69   707070.69   757575.75   808080.81   858585.81\n",
      "   909090.94   959596.    1010101.    1060606.12  1111111.12  1161616.12\n",
      "  1212121.25  1262626.25  1313131.38  1363636.38  1414141.38  1464646.5\n",
      "  1515151.5   1565656.5   1616161.62  1666666.62  1717171.62  1767676.88\n",
      "  1818181.88  1868686.88  1919192.    1969697.    2020202.    2070707.\n",
      "  2121212.25  2171717.25  2222222.25  2272727.25  2323232.25  2373737.25\n",
      "  2424242.5   2474747.5   2525252.5   2575757.5   2626262.75  2676767.75\n",
      "  2727272.75  2777777.75  2828282.75  2878788.    2929293.    2979798.\n",
      "  3030303.    3080808.    3131313.    3181818.25  3232323.25  3282828.25\n",
      "  3333333.25  3383838.25  3434343.25  3484848.25  3535353.75  3585858.75\n",
      "  3636363.75  3686868.75  3737373.75  3787878.75  3838384.    3888889.\n",
      "  3939394.    3989899.    4040404.    4090909.    4141414.    4191919.25\n",
      "  4242424.5   4292929.5   4343434.5   4393939.5   4444444.5   4494949.5\n",
      "  4545454.5   4595959.5   4646464.5   4696969.5   4747474.5   4797979.5\n",
      "  4848485.    4898990.    4949495.    5000000.  ]\n",
      "100\n"
     ]
    }
   ],
   "source": [
    "salaire_imposable_2014 = couple_sans_enfant_cesthra().calculate('sal', '2014')[::2]\n",
    "print salaire_imposable_2014\n",
    "print len(salaire_imposable_2014)"
   ]
  },
  {
   "cell_type": "code",
   "execution_count": 333,
   "metadata": {
    "collapsed": false
   },
   "outputs": [
    {
     "name": "stdout",
     "output_type": "stream",
     "text": [
      "[   -9037.46   -46854.68   -85015.05  -120967.39  -151215.25  -181013.22\n",
      "  -210811.22  -239047.66  -266825.44  -294603.22  -322381.    -348855.\n",
      "  -375117.62  -401380.28  -427642.88  -453905.5   -480168.16  -506430.75\n",
      "  -532693.38  -558956.    -583400.44  -600087.12  -616753.75  -633420.44\n",
      "  -650087.12  -666753.75  -683420.44  -700087.06  -716753.75  -733420.44\n",
      "  -750087.12  -766753.75  -783420.5   -800087.06  -816753.75  -833420.5\n",
      "  -850087.12  -866753.75  -883420.44  -900087.12  -916753.75  -933420.38\n",
      "  -950087.12  -966753.75  -983420.5  -1000087.12 -1016753.75 -1033420.38\n",
      " -1050087.12 -1066753.75 -1083420.5  -1100087.12 -1116753.88 -1133420.5\n",
      " -1150087.12 -1166753.75 -1183420.5  -1200087.12 -1216753.75 -1233420.5\n",
      " -1250087.12 -1266753.75 -1283420.38 -1300087.12 -1316753.75 -1333420.38\n",
      " -1350087.   -1366753.75 -1383420.38 -1400087.   -1416753.75 -1433420.5\n",
      " -1450087.25 -1466753.75 -1483420.25 -1500087.   -1516753.75 -1533420.5\n",
      " -1550087.   -1566753.75 -1583420.5  -1600087.   -1616753.75 -1633420.5\n",
      " -1650087.   -1666753.75 -1683420.5  -1700087.   -1716753.75 -1733420.25\n",
      " -1750087.   -1766753.75 -1783420.5  -1800087.   -1816753.5  -1833420.5\n",
      " -1850087.25 -1866753.75 -1883420.5  -1900087.  ]\n",
      "100\n"
     ]
    }
   ],
   "source": [
    "taxation_totale_couple_cesthra = salbrut_h_couple - revdisp_couple\n",
    "print taxation_totale_couple_cesthra\n",
    "print len(taxation_totale_couple_cesthra)"
   ]
  },
  {
   "cell_type": "code",
   "execution_count": 325,
   "metadata": {
    "collapsed": false
   },
   "outputs": [
    {
     "name": "stdout",
     "output_type": "stream",
     "text": [
      "[       0.      50505.05   101010.1    151515.16   202020.2    252525.25\n",
      "   303030.31   353535.34   404040.41   454545.47   505050.5    555555.56\n",
      "   606060.62   656565.69   707070.69   757575.75   808080.81   858585.81\n",
      "   909090.94   959596.    1010101.    1060606.12  1111111.12  1161616.12\n",
      "  1212121.25  1262626.25  1313131.38  1363636.38  1414141.38  1464646.5\n",
      "  1515151.5   1565656.5   1616161.62  1666666.62  1717171.62  1767676.88\n",
      "  1818181.88  1868686.88  1919192.    1969697.    2020202.    2070707.\n",
      "  2121212.25  2171717.25  2222222.25  2272727.25  2323232.25  2373737.25\n",
      "  2424242.5   2474747.5   2525252.5   2575757.5   2626262.75  2676767.75\n",
      "  2727272.75  2777777.75  2828282.75  2878788.    2929293.    2979798.\n",
      "  3030303.    3080808.    3131313.    3181818.25  3232323.25  3282828.25\n",
      "  3333333.25  3383838.25  3434343.25  3484848.25  3535353.75  3585858.75\n",
      "  3636363.75  3686868.75  3737373.75  3787878.75  3838384.    3888889.\n",
      "  3939394.    3989899.    4040404.    4090909.    4141414.    4191919.25\n",
      "  4242424.5   4292929.5   4343434.5   4393939.5   4444444.5   4494949.5\n",
      "  4545454.5   4595959.5   4646464.5   4696969.5   4747474.5   4797979.5\n",
      "  4848485.    4898990.    4949495.    5000000.  ]\n",
      "100\n"
     ]
    }
   ],
   "source": [
    "salaire_imposable_couple_2014 = couple_sans_enfant_tehr().calculate('sal', '2014')[::2]\n",
    "print salaire_imposable_couple_2014\n",
    "print len(salaire_imposable_couple_2014)"
   ]
  },
  {
   "cell_type": "code",
   "execution_count": 345,
   "metadata": {
    "collapsed": false
   },
   "outputs": [
    {
     "name": "stdout",
     "output_type": "stream",
     "text": [
      "[-0.75 -0.76 -0.71 -0.6  -0.59 -0.59 -0.56 -0.55 -0.55 -0.55 -0.52 -0.52\n",
      " -0.52 -0.52 -0.52 -0.52 -0.52 -0.52 -0.52 -0.52 -0.51 -0.51 -0.51 -0.51\n",
      " -0.51 -0.51 -0.51 -0.51 -0.51 -0.51 -0.51 -0.51 -0.51 -0.51 -0.51 -0.51\n",
      " -0.51 -0.51 -0.51 -0.51 -0.51 -0.51 -0.51 -0.51 -0.51 -0.51 -0.51 -0.51\n",
      " -0.51 -0.51 -0.51 -0.51 -0.51 -0.51 -0.51 -0.51 -0.51 -0.51 -0.51 -0.51\n",
      " -0.51 -0.51 -0.51 -0.51 -0.51 -0.51 -0.51 -0.51 -0.51 -0.51 -0.51 -0.51\n",
      " -0.51 -0.51 -0.51 -0.51 -0.51 -0.51 -0.51 -0.51 -0.51 -0.51 -0.51 -0.51\n",
      " -0.51 -0.51 -0.51 -0.51 -0.51 -0.51 -0.51 -0.51 -0.51 -0.51 -0.51 -0.51\n",
      " -0.51 -0.51 -0.51]\n",
      "99\n"
     ]
    }
   ],
   "source": [
    "taux_marginal_taxation_totale_couple_cesthra =  ((taxation_totale_couple_cesthra[1:] - cesthra[1:]) - (taxation_totale_couple_cesthra[:-1] - cesthra[:-1])) / (salaire_imposable_couple_2014[1:] - salaire_imposable_couple_2014[:-1] ) \n",
    "print taux_marginal_taxation_totale_couple_cesthra\n",
    "print len(taux_marginal_taxation_totale_couple_cesthra)"
   ]
  },
  {
   "cell_type": "code",
   "execution_count": 346,
   "metadata": {
    "collapsed": false
   },
   "outputs": [
    {
     "data": {
      "text/plain": [
       "array([-0.75, -0.76, -0.71, -0.6 , -0.59, -0.59, -0.56, -0.55, -0.55,\n",
       "       -0.55, -0.52, -0.52, -0.52, -0.52, -0.52, -0.52, -0.52, -0.52,\n",
       "       -0.52, -0.48, -0.33, -0.33, -0.33, -0.33, -0.33, -0.33, -0.33,\n",
       "       -0.33, -0.33, -0.33, -0.33, -0.33, -0.33, -0.33, -0.33, -0.33,\n",
       "       -0.33, -0.33, -0.33, -0.33, -0.33, -0.33, -0.33, -0.33, -0.33,\n",
       "       -0.33, -0.33, -0.33, -0.33, -0.33, -0.33, -0.33, -0.33, -0.33,\n",
       "       -0.33, -0.33, -0.33, -0.33, -0.33, -0.33, -0.33, -0.33, -0.33,\n",
       "       -0.33, -0.33, -0.33, -0.33, -0.33, -0.33, -0.33, -0.33, -0.33,\n",
       "       -0.33, -0.33, -0.33, -0.33, -0.33, -0.33, -0.33, -0.33, -0.33,\n",
       "       -0.33, -0.33, -0.33, -0.33, -0.33, -0.33, -0.33, -0.33, -0.33,\n",
       "       -0.33, -0.33, -0.33, -0.33, -0.33, -0.33, -0.33, -0.33, -0.33], dtype=float32)"
      ]
     },
     "execution_count": 346,
     "metadata": {},
     "output_type": "execute_result"
    }
   ],
   "source": [
    "taux_marginal_taxation_totale_couple_cesthra_bla =  (taxation_totale_couple_cesthra[1:] - taxation_totale_couple_cesthra[:-1]) / (salaire_imposable_couple_2014[1:] - salaire_imposable_couple_2014[:-1] ) \n",
    "taux_marginal_taxation_totale_couple_cesthra_bla\n"
   ]
  },
  {
   "cell_type": "code",
   "execution_count": 331,
   "metadata": {
    "collapsed": false
   },
   "outputs": [
    {
     "name": "stdout",
     "output_type": "stream",
     "text": [
      "[   50505.05   101010.1    151515.16   202020.2    252525.25   303030.31\n",
      "   353535.34   404040.41   454545.47   505050.5    555555.56   606060.62\n",
      "   656565.69   707070.69   757575.75   808080.81   858585.81   909090.94\n",
      "   959596.    1010101.    1060606.12  1111111.12  1161616.12  1212121.25\n",
      "  1262626.25  1313131.38  1363636.38  1414141.38  1464646.5   1515151.5\n",
      "  1565656.5   1616161.62  1666666.62  1717171.62  1767676.88  1818181.88\n",
      "  1868686.88  1919192.    1969697.    2020202.    2070707.    2121212.25\n",
      "  2171717.25  2222222.25  2272727.25  2323232.25  2373737.25  2424242.5\n",
      "  2474747.5   2525252.5   2575757.5   2626262.75  2676767.75  2727272.75\n",
      "  2777777.75  2828282.75  2878788.    2929293.    2979798.    3030303.\n",
      "  3080808.    3131313.    3181818.25  3232323.25  3282828.25  3333333.25\n",
      "  3383838.25  3434343.25  3484848.25  3535353.75  3585858.75  3636363.75\n",
      "  3686868.75  3737373.75  3787878.75  3838384.    3888889.    3939394.\n",
      "  3989899.    4040404.    4090909.    4141414.    4191919.25  4242424.5\n",
      "  4292929.5   4343434.5   4393939.5   4444444.5   4494949.5   4545454.5\n",
      "  4595959.5   4646464.5   4696969.5   4747474.5   4797979.5   4848485.\n",
      "  4898990.    4949495.    5000000.  ]\n",
      "99\n"
     ]
    }
   ],
   "source": [
    "salaire_imposable_couple_2014 = couple_sans_enfant_tehr().calculate('sal', '2014')[::2]\n",
    "salaire_imposable_couple_2014 = salaire_imposable_couple_2014[1:]\n",
    "print salaire_imposable_couple_2014\n",
    "print len(salaire_imposable_couple_2014)"
   ]
  },
  {
   "cell_type": "code",
   "execution_count": 332,
   "metadata": {
    "collapsed": false
   },
   "outputs": [
    {
     "data": {
      "text/plain": [
       "(0, 5000000)"
      ]
     },
     "execution_count": 332,
     "metadata": {},
     "output_type": "execute_result"
    },
    {
     "data": {
      "image/png": "[encoded data removed]",
      "text/plain": [
       "<matplotlib.figure.Figure at 0x7fdf811fb050>"
      ]
     },
     "metadata": {},
     "output_type": "display_data"
    }
   ],
   "source": [
    "fig = plt.figure()\n",
    "plt.plot(salaire_imposable_couple_2014, taux_marginal_taxation_totale_couple_cesthra, label = \"macourbe\")\n",
    "plt.legend(loc = 4, shadow=True, fancybox=True)\n",
    "plt.xlim([0,salaire_maximal])"
   ]
  },
  {
   "cell_type": "markdown",
   "metadata": {},
   "source": [
    "### II.3. Différence d'imposition entre pour un couple entre CESRA et TEHR"
   ]
  },
  {
   "cell_type": "code",
   "execution_count": 365,
   "metadata": {
    "collapsed": false
   },
   "outputs": [
    {
     "name": "stdout",
     "output_type": "stream",
     "text": [
      "[   -9037.46   -46854.68   -85015.05  -120967.39  -151215.25  -181013.22\n",
      "  -210811.22  -239047.66  -266825.44  -294603.22  -322381.    -348855.\n",
      "  -375117.62  -401380.28  -427642.88  -453905.5   -480168.16  -506430.75\n",
      "  -532693.38  -558956.    -583400.44  -600087.12  -616753.75  -633420.44\n",
      "  -650087.12  -666753.75  -683420.44  -700087.06  -716753.75  -733420.44\n",
      "  -750087.12  -766753.75  -783420.5   -800087.06  -816753.75  -833420.5\n",
      "  -850087.12  -866753.75  -883420.44  -900087.12  -916753.75  -933420.38\n",
      "  -950087.12  -966753.75  -983420.5  -1000087.12 -1016753.75 -1033420.38\n",
      " -1050087.12 -1066753.75 -1083420.5  -1100087.12 -1116753.88 -1133420.5\n",
      " -1150087.12 -1166753.75 -1183420.5  -1200087.12 -1216753.75 -1233420.5\n",
      " -1250087.12 -1266753.75 -1283420.38 -1300087.12 -1316753.75 -1333420.38\n",
      " -1350087.   -1366753.75 -1383420.38 -1400087.   -1416753.75 -1433420.5\n",
      " -1450087.25 -1466753.75 -1483420.25 -1500087.   -1516753.75 -1533420.5\n",
      " -1550087.   -1566753.75 -1583420.5  -1600087.   -1616753.75 -1633420.5\n",
      " -1650087.   -1666753.75 -1683420.5  -1700087.   -1716753.75 -1733420.25\n",
      " -1750087.   -1766753.75 -1783420.5  -1800087.   -1816753.5  -1833420.5\n",
      " -1850087.25 -1866753.75 -1883420.5  -1900087.  ]\n",
      "100\n"
     ]
    }
   ],
   "source": [
    "taxation_totale_couple_cesthra\n",
    "print taxation_totale_couple_cesthra\n",
    "print len(taxation_totale_couple_cesthra)"
   ]
  },
  {
   "cell_type": "code",
   "execution_count": 366,
   "metadata": {
    "collapsed": false
   },
   "outputs": [
    {
     "name": "stdout",
     "output_type": "stream",
     "text": [
      "[   -9037.46     3650.37    15995.05    30547.77    50804.95    71512.03\n",
      "    92219.09   114487.69   137214.97   159942.25   182669.5    206700.56\n",
      "   230943.     255185.41   279427.81   303670.25   327912.66   352155.06\n",
      "   376397.56   400640.     424882.38   449609.88   474357.38   499104.81\n",
      "   523852.31   548599.75   573347.31   598094.75   622842.19   647589.69\n",
      "   672337.12   697084.56   721832.06   746579.56   771327.     796074.56\n",
      "   820822.     845569.5    870317.     895064.5    919811.88   944559.25\n",
      "   969307.     994054.38  1018801.75  1043549.25  1068296.75  1093044.12\n",
      "  1117791.75  1142539.12  1167286.62  1192034.    1216781.62  1241529.12\n",
      "  1266276.5   1291024.    1315771.38  1340519.    1365266.5   1390013.88\n",
      "  1414761.38  1439508.75  1464256.25  1489003.88  1513751.25  1538498.75\n",
      "  1563246.25  1587993.62  1612741.12  1637488.5   1662236.25  1686983.75\n",
      "  1711731.12  1736478.62  1761226.12  1785973.5   1810721.12  1835468.5\n",
      "  1860216.    1884963.5   1909711.    1934458.5   1959205.75  1983953.25\n",
      "  2008701.    2033448.5   2058196.    2082943.5   2107690.75  2132438.25\n",
      "  2157185.75  2181933.    2206680.5   2231428.    2256175.5   2280922.75\n",
      "  2305670.5   2330418.    2355165.5   2379913.  ]\n",
      "100\n"
     ]
    }
   ],
   "source": [
    "taxation_totale_couple_tehr\n",
    "print taxation_totale_couple_tehr\n",
    "print len(taxation_totale_couple_tehr)"
   ]
  },
  {
   "cell_type": "code",
   "execution_count": 389,
   "metadata": {
    "collapsed": false
   },
   "outputs": [
    {
     "data": {
      "text/plain": [
       "array([ -18074.91,  -43204.32,  -69019.99,  -90419.62, -100410.3 ,\n",
       "       -109501.19, -118592.12, -124559.97, -129610.47, -134660.97,\n",
       "       -139711.5 , -142154.44, -144174.62, -146194.88, -148215.06,\n",
       "       -150235.25, -152255.5 , -154275.69, -156295.81, -158316.  ,\n",
       "       -158518.06, -150477.25, -142396.38, -134315.62, -126234.81,\n",
       "       -118154.  , -110073.12, -101992.31,  -93911.56,  -85830.75,\n",
       "        -77750.  ,  -69669.19,  -61588.44,  -53507.5 ,  -45426.75,\n",
       "        -37345.94,  -29265.12,  -21184.25,  -13103.44,   -5022.62,\n",
       "          3058.12,   11138.88,   19219.88,   27300.62,   35381.25,\n",
       "         43462.12,   51543.  ,   59623.75,   67704.62,   75785.38,\n",
       "         83866.12,   91946.88,  100027.75,  108108.62,  116189.38,\n",
       "        124270.25,  132350.88,  140431.88,  148512.75,  156593.38,\n",
       "        164674.25,  172755.  ,  180835.88,  188916.75,  196997.5 ,\n",
       "        205078.38,  213159.25,  221239.88,  229320.75,  237401.5 ,\n",
       "        245482.5 ,  253563.25,  261643.88,  269724.88,  277805.88,\n",
       "        285886.5 ,  293967.38,  302048.  ,  310129.  ,  318209.75,\n",
       "        326290.5 ,  334371.5 ,  342452.  ,  350532.75,  358614.  ,\n",
       "        366694.75,  374775.5 ,  382856.5 ,  390937.  ,  399018.  ,\n",
       "        407098.75,  415179.25,  423260.  ,  431341.  ,  439422.  ,\n",
       "        447502.25,  455583.25,  463664.25,  471745.  ,  479826.  ], dtype=float32)"
      ]
     },
     "execution_count": 389,
     "metadata": {},
     "output_type": "execute_result"
    }
   ],
   "source": [
    "Difference_taxation_totale_couple = taxation_totale_couple_cesthra + taxation_totale_couple_tehr\n",
    "Difference_taxation_totale_couple"
   ]
  },
  {
   "cell_type": "code",
   "execution_count": 390,
   "metadata": {
    "collapsed": false
   },
   "outputs": [
    {
     "name": "stdout",
     "output_type": "stream",
     "text": [
      "[-0.5  -0.51 -0.42 -0.2  -0.18 -0.18 -0.12 -0.1  -0.1  -0.1  -0.05 -0.04\n",
      " -0.04 -0.04 -0.04 -0.04 -0.04 -0.04 -0.04 -0.    0.16  0.16  0.16  0.16\n",
      "  0.16  0.16  0.16  0.16  0.16  0.16  0.16  0.16  0.16  0.16  0.16  0.16\n",
      "  0.16  0.16  0.16  0.16  0.16  0.16  0.16  0.16  0.16  0.16  0.16  0.16\n",
      "  0.16  0.16  0.16  0.16  0.16  0.16  0.16  0.16  0.16  0.16  0.16  0.16\n",
      "  0.16  0.16  0.16  0.16  0.16  0.16  0.16  0.16  0.16  0.16  0.16  0.16\n",
      "  0.16  0.16  0.16  0.16  0.16  0.16  0.16  0.16  0.16  0.16  0.16  0.16\n",
      "  0.16  0.16  0.16  0.16  0.16  0.16  0.16  0.16  0.16  0.16  0.16  0.16\n",
      "  0.16  0.16  0.16]\n",
      "99\n"
     ]
    }
   ],
   "source": [
    "Difference_taux_marginal_couple_2_reformes =  (Difference_taxation_totale_couple[1:] - Difference_taxation_totale_couple[:-1]) / (salaire_imposable_couple_2014[1:] - salaire_imposable_couple_2014[:-1] ) \n",
    "print Difference_taux_marginal_couple_2_reformes\n",
    "print len(Difference_taux_marginal_couple_2_reformes)"
   ]
  },
  {
   "cell_type": "code",
   "execution_count": 392,
   "metadata": {
    "collapsed": false
   },
   "outputs": [
    {
     "name": "stdout",
     "output_type": "stream",
     "text": [
      "[   50505.05   101010.1    151515.16   202020.2    252525.25   303030.31\n",
      "   353535.34   404040.41   454545.47   505050.5    555555.56   606060.62\n",
      "   656565.69   707070.69   757575.75   808080.81   858585.81   909090.94\n",
      "   959596.    1010101.    1060606.12  1111111.12  1161616.12  1212121.25\n",
      "  1262626.25  1313131.38  1363636.38  1414141.38  1464646.5   1515151.5\n",
      "  1565656.5   1616161.62  1666666.62  1717171.62  1767676.88  1818181.88\n",
      "  1868686.88  1919192.    1969697.    2020202.    2070707.    2121212.25\n",
      "  2171717.25  2222222.25  2272727.25  2323232.25  2373737.25  2424242.5\n",
      "  2474747.5   2525252.5   2575757.5   2626262.75  2676767.75  2727272.75\n",
      "  2777777.75  2828282.75  2878788.    2929293.    2979798.    3030303.\n",
      "  3080808.    3131313.    3181818.25  3232323.25  3282828.25  3333333.25\n",
      "  3383838.25  3434343.25  3484848.25  3535353.75  3585858.75  3636363.75\n",
      "  3686868.75  3737373.75  3787878.75  3838384.    3888889.    3939394.\n",
      "  3989899.    4040404.    4090909.    4141414.    4191919.25  4242424.5\n",
      "  4292929.5   4343434.5   4393939.5   4444444.5   4494949.5   4545454.5\n",
      "  4595959.5   4646464.5   4696969.5   4747474.5   4797979.5   4848485.\n",
      "  4898990.    4949495.    5000000.  ]\n",
      "99\n"
     ]
    }
   ],
   "source": [
    "salaire_imposable_couple_2014 = couple_sans_enfant_tehr().calculate('sal', '2014')[::2]\n",
    "salaire_imposable_couple_2014 = salaire_imposable_couple_2014[1:]\n",
    "print salaire_imposable_2014\n",
    "print len(salaire_imposable_2014)"
   ]
  },
  {
   "cell_type": "code",
   "execution_count": 393,
   "metadata": {
    "collapsed": false
   },
   "outputs": [
    {
     "data": {
      "text/plain": [
       "(0, 5000000)"
      ]
     },
     "execution_count": 393,
     "metadata": {},
     "output_type": "execute_result"
    },
    {
     "data": {
      "image/png": "[encoded data removed]",
      "text/plain": [
       "<matplotlib.figure.Figure at 0x7fdf829ff710>"
      ]
     },
     "metadata": {},
     "output_type": "display_data"
    }
   ],
   "source": [
    "fig = plt.figure()\n",
    "plt.plot(salaire_imposable_couple_2014, Difference_taux_marginal_couple_2_reformes, label = \"macourbe\")\n",
    "plt.legend(loc = 4, shadow=True, fancybox=True)\n",
    "plt.xlim([0,salaire_maximal])"
   ]
  },
  {
   "cell_type": "markdown",
   "metadata": {},
   "source": [
    "## III. Incitation à se marrier sous chacune des deux réformes"
   ]
  },
  {
   "cell_type": "markdown",
   "metadata": {},
   "source": [
    "On a vu qu'il y a une incitation à se marrier si l'on compare les résultats en I et II"
   ]
  },
  {
   "cell_type": "markdown",
   "metadata": {},
   "source": [
    "### III.1. Projet initial: Contribution Exceptionnelle de Solidarité sur les trés Hauts Revenus d'Activité (CESRA)"
   ]
  },
  {
   "cell_type": "markdown",
   "metadata": {},
   "source": [
    "Définir Couple non-marié"
   ]
  },
  {
   "cell_type": "code",
   "execution_count": 396,
   "metadata": {
    "collapsed": false
   },
   "outputs": [],
   "source": [
    "def couple_celibataire_cesthra(nombre_enfants = 0, year = 2015):\n",
    "    enfant = [dict(\n",
    "        birth = date(2005, 1, 1),\n",
    "        )]\n",
    "    enfants = enfant * nombre_enfants\n",
    "    simulation = tax_benefit_cesthra.new_scenario().init_single_entity(\n",
    "        axes = [\n",
    "            dict(\n",
    "                count = 100,\n",
    "                min = 0,\n",
    "                max = salaire_maximal * 3,\n",
    "                name = 'sal',\n",
    "                ),\n",
    "            ],\n",
    "        period = \"{}:3\".format(year-2),\n",
    "        parent1 = dict(\n",
    "            birth = date(1980, 1, 1),\n",
    "            statmarit = 2\n",
    "            ),\n",
    "        parent2 = dict(\n",
    "            birth = date(1980, 1, 1),\n",
    "            sal = 0,\n",
    "            statmarit = 2\n",
    "            ),\n",
    "        menage = dict(\n",
    "            loyer = 1000 * 3,\n",
    "            so = 4,\n",
    "            ),\n",
    "        ).new_simulation(debug = True)\n",
    "    return simulation"
   ]
  },
  {
   "cell_type": "markdown",
   "metadata": {},
   "source": [
    "Déterminer revenu disponible"
   ]
  },
  {
   "cell_type": "code",
   "execution_count": 414,
   "metadata": {
    "collapsed": false
   },
   "outputs": [
    {
     "name": "stdout",
     "output_type": "stream",
     "text": [
      "[    9037.46    42507.68    77269.15   107885.49   136134.53   163912.31\n",
      "   190462.09   216724.72   242987.36   269250.     295512.59   321340.62\n",
      "   347098.25   372855.81   398613.38   424370.94   450128.53   475886.06\n",
      "   501643.69   527401.25   551340.62   568007.38   584674.     601340.69\n",
      "   618007.31   634673.94   651340.69   668007.31   684674.     701340.62\n",
      "   718007.31   734673.94   751340.62   768007.25   784673.94   801340.62\n",
      "   818007.31   834674.     851340.62   868007.25   884674.     901340.62\n",
      "   918007.38   934674.     951340.62   968007.38   984674.    1001340.62\n",
      "  1018007.25  1034674.    1051340.5   1068007.25  1084674.12  1101340.75\n",
      "  1118007.38  1134674.    1151340.75  1168007.38  1184674.    1201340.75\n",
      "  1218007.38  1234674.    1251340.62  1268007.38  1284674.    1301340.62\n",
      "  1318007.25  1334674.    1351340.62  1368007.25  1384674.    1401340.75\n",
      "  1418007.5   1434674.    1451340.75  1468007.25  1484674.    1501340.75\n",
      "  1518007.25  1534674.    1551340.5   1568007.25  1584674.    1601340.75\n",
      "  1618007.25  1634674.    1651340.75  1668007.5   1684674.    1701340.5\n",
      "  1718007.25  1734673.75  1751340.5   1768007.25  1784674.    1801340.75\n",
      "  1818007.5   1834674.    1851340.5   1868007.5 ]\n",
      "100\n"
     ]
    }
   ],
   "source": [
    "revdisp_celibataires_cesthra = couple_celibataire_cesthra().calculate('revdisp','2014')\n",
    "print revdisp_celibataires_cesthra\n",
    "print len(revdisp_celibataires_cesthra)"
   ]
  },
  {
   "cell_type": "code",
   "execution_count": 407,
   "metadata": {
    "collapsed": false
   },
   "outputs": [
    {
     "name": "stdout",
     "output_type": "stream",
     "text": [
      "[       0.      50505.05   101010.1    151515.16   202020.2    252525.25\n",
      "   303030.31   353535.34   404040.41   454545.47   505050.5    555555.56\n",
      "   606060.62   656565.69   707070.69   757575.75   808080.81   858585.81\n",
      "   909090.94   959596.    1010101.    1060606.12  1111111.12  1161616.12\n",
      "  1212121.25  1262626.25  1313131.38  1363636.38  1414141.38  1464646.5\n",
      "  1515151.5   1565656.5   1616161.62  1666666.62  1717171.62  1767676.88\n",
      "  1818181.88  1868686.88  1919192.    1969697.    2020202.    2070707.\n",
      "  2121212.25  2171717.25  2222222.25  2272727.25  2323232.25  2373737.25\n",
      "  2424242.5   2474747.5   2525252.5   2575757.5   2626262.75  2676767.75\n",
      "  2727272.75  2777777.75  2828282.75  2878788.    2929293.    2979798.\n",
      "  3030303.    3080808.    3131313.    3181818.25  3232323.25  3282828.25\n",
      "  3333333.25  3383838.25  3434343.25  3484848.25  3535353.75  3585858.75\n",
      "  3636363.75  3686868.75  3737373.75  3787878.75  3838384.    3888889.\n",
      "  3939394.    3989899.    4040404.    4090909.    4141414.    4191919.25\n",
      "  4242424.5   4292929.5   4343434.5   4393939.5   4444444.5   4494949.5\n",
      "  4545454.5   4595959.5   4646464.5   4696969.5   4747474.5   4797979.5\n",
      "  4848485.    4898990.    4949495.    5000000.  ]\n",
      "100\n"
     ]
    }
   ],
   "source": [
    "salaire_imposable_couple_2014 = couple_celibataire_cesthra().calculate('sal','2014')\n",
    "salaire_imposable_couple_2014 = salaire_imposable_couple_2014[::2]\n",
    "print salaire_imposable_couple_2014\n",
    "print len(salaire_imposable_couple_2014)"
   ]
  },
  {
   "cell_type": "code",
   "execution_count": 412,
   "metadata": {
    "collapsed": false
   },
   "outputs": [
    {
     "data": {
      "text/plain": [
       "(0, 5000000)"
      ]
     },
     "execution_count": 412,
     "metadata": {},
     "output_type": "execute_result"
    },
    {
     "data": {
      "image/png": "[encoded data removed]",
      "text/plain": [
       "<matplotlib.figure.Figure at 0x7fdf83221bd0>"
      ]
     },
     "metadata": {},
     "output_type": "display_data"
    }
   ],
   "source": [
    "fig = plt.figure()\n",
    "plt.plot(salaire_imposable_couple_2014, revdisp_celibataires_cesthra, label = \"macourbe\")\n",
    "plt.legend(loc = 4, shadow=True, fancybox=True)\n",
    "plt.xlim([0,salaire_maximal])"
   ]
  },
  {
   "cell_type": "markdown",
   "metadata": {},
   "source": [
    "Définir Couple marié"
   ]
  },
  {
   "cell_type": "code",
   "execution_count": 413,
   "metadata": {
    "collapsed": false
   },
   "outputs": [],
   "source": [
    "def couple_marie_cesthra(nombre_enfants = 0, year = 2015):\n",
    "    enfant = [dict(\n",
    "        birth = date(2005, 1, 1),\n",
    "        )]\n",
    "    enfants = enfant * nombre_enfants\n",
    "    simulation = tax_benefit_cesthra.new_scenario().init_single_entity(\n",
    "        axes = [\n",
    "            dict(\n",
    "                count = 100,\n",
    "                min = 0,\n",
    "                max = salaire_maximal * 3,\n",
    "                name = 'sal',\n",
    "                ),\n",
    "            ],\n",
    "        period = \"{}:3\".format(year-2),\n",
    "        parent1 = dict(\n",
    "            birth = date(1980, 1, 1),\n",
    "            statmarit = 1\n",
    "            ),\n",
    "        parent2 = dict(\n",
    "            birth = date(1980, 1, 1),\n",
    "            sal = 0,\n",
    "            statmarit = 1\n",
    "            ),\n",
    "        menage = dict(\n",
    "            loyer = 1000 * 3,\n",
    "            so = 4,\n",
    "            ),\n",
    "        ).new_simulation(debug = True)\n",
    "    return simulation"
   ]
  },
  {
   "cell_type": "markdown",
   "metadata": {},
   "source": [
    "Déterminer revenu disponible"
   ]
  },
  {
   "cell_type": "code",
   "execution_count": 415,
   "metadata": {
    "collapsed": false
   },
   "outputs": [
    {
     "name": "stdout",
     "output_type": "stream",
     "text": [
      "[    9037.46    46854.68    85015.05   120967.39   151215.25   181013.22\n",
      "   210811.22   239047.66   266825.44   294603.22   322381.     348855.\n",
      "   375117.62   401380.28   427642.88   453905.5    480168.16   506430.75\n",
      "   532693.38   558956.     583400.44   600087.12   616753.75   633420.44\n",
      "   650087.12   666753.75   683420.44   700087.06   716753.75   733420.44\n",
      "   750087.12   766753.75   783420.5    800087.06   816753.75   833420.5\n",
      "   850087.12   866753.75   883420.44   900087.12   916753.75   933420.38\n",
      "   950087.12   966753.75   983420.5   1000087.12  1016753.75  1033420.38\n",
      "  1050087.12  1066753.75  1083420.5   1100087.12  1116753.88  1133420.5\n",
      "  1150087.12  1166753.75  1183420.5   1200087.12  1216753.75  1233420.5\n",
      "  1250087.12  1266753.75  1283420.38  1300087.12  1316753.75  1333420.38\n",
      "  1350087.    1366753.75  1383420.38  1400087.    1416753.75  1433420.5\n",
      "  1450087.25  1466753.75  1483420.25  1500087.    1516753.75  1533420.5\n",
      "  1550087.    1566753.75  1583420.5   1600087.    1616753.75  1633420.5\n",
      "  1650087.    1666753.75  1683420.5   1700087.    1716753.75  1733420.25\n",
      "  1750087.    1766753.75  1783420.5   1800087.    1816753.5   1833420.5\n",
      "  1850087.25  1866753.75  1883420.5   1900087.  ]\n",
      "100\n"
     ]
    }
   ],
   "source": [
    "revdisp_maries_cesthra = couple_marie_cesthra().calculate('revdisp','2014')\n",
    "print revdisp_maries_cesthra\n",
    "print len(cesthra_celibataires)"
   ]
  },
  {
   "cell_type": "code",
   "execution_count": 416,
   "metadata": {
    "collapsed": false
   },
   "outputs": [
    {
     "name": "stdout",
     "output_type": "stream",
     "text": [
      "[       0.      50505.05   101010.1    151515.16   202020.2    252525.25\n",
      "   303030.31   353535.34   404040.41   454545.47   505050.5    555555.56\n",
      "   606060.62   656565.69   707070.69   757575.75   808080.81   858585.81\n",
      "   909090.94   959596.    1010101.    1060606.12  1111111.12  1161616.12\n",
      "  1212121.25  1262626.25  1313131.38  1363636.38  1414141.38  1464646.5\n",
      "  1515151.5   1565656.5   1616161.62  1666666.62  1717171.62  1767676.88\n",
      "  1818181.88  1868686.88  1919192.    1969697.    2020202.    2070707.\n",
      "  2121212.25  2171717.25  2222222.25  2272727.25  2323232.25  2373737.25\n",
      "  2424242.5   2474747.5   2525252.5   2575757.5   2626262.75  2676767.75\n",
      "  2727272.75  2777777.75  2828282.75  2878788.    2929293.    2979798.\n",
      "  3030303.    3080808.    3131313.    3181818.25  3232323.25  3282828.25\n",
      "  3333333.25  3383838.25  3434343.25  3484848.25  3535353.75  3585858.75\n",
      "  3636363.75  3686868.75  3737373.75  3787878.75  3838384.    3888889.\n",
      "  3939394.    3989899.    4040404.    4090909.    4141414.    4191919.25\n",
      "  4242424.5   4292929.5   4343434.5   4393939.5   4444444.5   4494949.5\n",
      "  4545454.5   4595959.5   4646464.5   4696969.5   4747474.5   4797979.5\n",
      "  4848485.    4898990.    4949495.    5000000.  ]\n",
      "100\n"
     ]
    }
   ],
   "source": [
    "salaire_imposable_couple_2014 = couple_celibataire_cesthra().calculate('sal','2014')\n",
    "salaire_imposable_couple_2014 = salaire_imposable_couple_2014[::2]\n",
    "print salaire_imposable_couple_2014\n",
    "print len(salaire_imposable_couple_2014)"
   ]
  },
  {
   "cell_type": "code",
   "execution_count": 417,
   "metadata": {
    "collapsed": false
   },
   "outputs": [
    {
     "data": {
      "text/plain": [
       "(0, 5000000)"
      ]
     },
     "execution_count": 417,
     "metadata": {},
     "output_type": "execute_result"
    },
    {
     "data": {
      "image/png": "[encoded data removed]",
      "text/plain": [
       "<matplotlib.figure.Figure at 0x7fdf8017ee10>"
      ]
     },
     "metadata": {},
     "output_type": "display_data"
    }
   ],
   "source": [
    "fig = plt.figure()\n",
    "plt.plot(salaire_imposable_couple_2014, revdisp_maries_cesthra, label = \"macourbe\")\n",
    "plt.legend(loc = 4, shadow=True, fancybox=True)\n",
    "plt.xlim([0,salaire_maximal])"
   ]
  },
  {
   "cell_type": "markdown",
   "metadata": {},
   "source": [
    "###### Graphique différence entre le revenu disponible du couple non-marié et celui du couple marié / revenu imposable"
   ]
  },
  {
   "cell_type": "code",
   "execution_count": 421,
   "metadata": {
    "collapsed": false
   },
   "outputs": [
    {
     "data": {
      "text/plain": [
       "array([     0.  ,   4347.01,   7745.9 ,  13081.9 ,  15080.72,  17100.91,\n",
       "        20349.12,  22322.94,  23838.08,  25353.22,  26868.41,  27514.38,\n",
       "        28019.38,  28524.47,  29029.5 ,  29534.56,  30039.62,  30544.69,\n",
       "        31049.69,  31554.75,  32059.81,  32079.75,  32079.75,  32079.75,\n",
       "        32079.81,  32079.81,  32079.75,  32079.75,  32079.75,  32079.81,\n",
       "        32079.81,  32079.81,  32079.88,  32079.81,  32079.81,  32079.88,\n",
       "        32079.81,  32079.75,  32079.81,  32079.88,  32079.75,  32079.75,\n",
       "        32079.75,  32079.75,  32079.88,  32079.75,  32079.75,  32079.75,\n",
       "        32079.88,  32079.75,  32080.  ,  32079.88,  32079.75,  32079.75,\n",
       "        32079.75,  32079.75,  32079.75,  32079.75,  32079.75,  32079.75,\n",
       "        32079.75,  32079.75,  32079.75,  32079.75,  32079.75,  32079.75,\n",
       "        32079.75,  32079.75,  32079.75,  32079.75,  32079.75,  32079.75,\n",
       "        32079.75,  32079.75,  32079.5 ,  32079.75,  32079.75,  32079.75,\n",
       "        32079.75,  32079.75,  32080.  ,  32079.75,  32079.75,  32079.75,\n",
       "        32079.75,  32079.75,  32079.75,  32079.5 ,  32079.75,  32079.75,\n",
       "        32079.75,  32080.  ,  32080.  ,  32079.75,  32079.5 ,  32079.75,\n",
       "        32079.75,  32079.75,  32080.  ,  32079.5 ], dtype=float32)"
      ]
     },
     "execution_count": 421,
     "metadata": {},
     "output_type": "execute_result"
    }
   ],
   "source": [
    "incitation_marriage_cesthra = revdisp_maries_cesthra - revdisp_celibataires_cesthra\n",
    "incitation_marriage_cesthra"
   ]
  },
  {
   "cell_type": "code",
   "execution_count": 422,
   "metadata": {
    "collapsed": false
   },
   "outputs": [
    {
     "data": {
      "text/plain": [
       "(0, 5000000)"
      ]
     },
     "execution_count": 422,
     "metadata": {},
     "output_type": "execute_result"
    },
    {
     "data": {
      "image/png": "[encoded data removed]",
      "text/plain": [
       "<matplotlib.figure.Figure at 0x7fdf81712390>"
      ]
     },
     "metadata": {},
     "output_type": "display_data"
    }
   ],
   "source": [
    "fig = plt.figure()\n",
    "plt.plot(salaire_imposable_couple_2014, incitation_marriage_cesthra, label = \"macourbe\")\n",
    "plt.legend(loc = 4, shadow=True, fancybox=True)\n",
    "plt.xlim([0,salaire_maximal])"
   ]
  },
  {
   "cell_type": "markdown",
   "metadata": {},
   "source": [
    "### III.2. Nouveau projet: Taxe Exceptionelle de Solidarité sur les Hautes Rémunérations (TEHR)"
   ]
  },
  {
   "cell_type": "markdown",
   "metadata": {},
   "source": [
    "Définir Couple non-marié"
   ]
  },
  {
   "cell_type": "code",
   "execution_count": 423,
   "metadata": {
    "collapsed": false
   },
   "outputs": [],
   "source": [
    "def couple_celibataire_tehr(nombre_enfants = 0, year = 2015):\n",
    "    enfant = [dict(\n",
    "        birth = date(2005, 1, 1),\n",
    "        )]\n",
    "    enfants = enfant * nombre_enfants\n",
    "    simulation = tax_benefit_system.new_scenario().init_single_entity(\n",
    "        axes = [\n",
    "            dict(\n",
    "                count = 100,\n",
    "                min = 0,\n",
    "                max = salaire_maximal * 3,\n",
    "                name = 'sal',\n",
    "                ),\n",
    "            ],\n",
    "        period = \"{}:3\".format(year-2),\n",
    "        parent1 = dict(\n",
    "            birth = date(1980, 1, 1),\n",
    "            statmarit = 2\n",
    "            ),\n",
    "        parent2 = dict(\n",
    "            birth = date(1980, 1, 1),\n",
    "            sal = 0,\n",
    "            statmarit = 2\n",
    "            ),\n",
    "        menage = dict(\n",
    "            loyer = 1000 * 3,\n",
    "            so = 4,\n",
    "            ),\n",
    "        ).new_simulation(debug = True)\n",
    "    return simulation"
   ]
  },
  {
   "cell_type": "code",
   "execution_count": 424,
   "metadata": {
    "collapsed": false
   },
   "outputs": [
    {
     "name": "stdout",
     "output_type": "stream",
     "text": [
      "[    9037.46    42507.68    77269.15   107885.49   136134.53   163912.31\n",
      "   190462.09   216724.72   242987.36   269250.     295512.59   321340.62\n",
      "   347098.25   372855.81   398613.38   424370.94   450128.53   475886.06\n",
      "   501643.69   527401.25   553158.81   578916.44   604674.     630431.56\n",
      "   656189.12   681946.69   707704.31   733461.88   759219.44   784977.\n",
      "   810734.56   836492.12   862249.75   888007.25   913764.81   939522.5\n",
      "   965280.06   991037.62  1016795.19  1042552.75  1068310.25  1094067.88\n",
      "  1119825.5   1145583.12  1171340.62  1197098.25  1222855.75  1248613.38\n",
      "  1274370.88  1300128.5   1325886.    1351643.62  1377401.38  1403158.88\n",
      "  1428916.5   1454674.    1480431.62  1506189.25  1531946.75  1557704.38\n",
      "  1583461.88  1609219.5   1634977.    1660734.62  1686492.25  1712249.75\n",
      "  1738007.25  1763764.88  1789522.38  1815280.    1841037.75  1866795.25\n",
      "  1892552.88  1918310.38  1944068.    1969825.5   1995583.12  2021340.75\n",
      "  2047098.25  2072855.75  2098613.5   2124371.    2150128.5   2175886.\n",
      "  2201643.75  2227401.5   2253159.    2278916.5   2304674.    2330431.5\n",
      "  2356189.    2381946.5   2407704.25  2433461.75  2459219.5   2484977.\n",
      "  2510734.75  2536492.25  2562249.75  2588007.5 ]\n",
      "100\n"
     ]
    }
   ],
   "source": [
    "revdisp_celibataires_tehr = couple_celibataire_tehr().calculate('revdisp','2014')\n",
    "print revdisp_celibataires_tehr\n",
    "print len(revdisp_celibataires_tehr)"
   ]
  },
  {
   "cell_type": "code",
   "execution_count": 426,
   "metadata": {
    "collapsed": false
   },
   "outputs": [
    {
     "name": "stdout",
     "output_type": "stream",
     "text": [
      "[       0.      50505.05   101010.1    151515.16   202020.2    252525.25\n",
      "   303030.31   353535.34   404040.41   454545.47   505050.5    555555.56\n",
      "   606060.62   656565.69   707070.69   757575.75   808080.81   858585.81\n",
      "   909090.94   959596.    1010101.    1060606.12  1111111.12  1161616.12\n",
      "  1212121.25  1262626.25  1313131.38  1363636.38  1414141.38  1464646.5\n",
      "  1515151.5   1565656.5   1616161.62  1666666.62  1717171.62  1767676.88\n",
      "  1818181.88  1868686.88  1919192.    1969697.    2020202.    2070707.\n",
      "  2121212.25  2171717.25  2222222.25  2272727.25  2323232.25  2373737.25\n",
      "  2424242.5   2474747.5   2525252.5   2575757.5   2626262.75  2676767.75\n",
      "  2727272.75  2777777.75  2828282.75  2878788.    2929293.    2979798.\n",
      "  3030303.    3080808.    3131313.    3181818.25  3232323.25  3282828.25\n",
      "  3333333.25  3383838.25  3434343.25  3484848.25  3535353.75  3585858.75\n",
      "  3636363.75  3686868.75  3737373.75  3787878.75  3838384.    3888889.\n",
      "  3939394.    3989899.    4040404.    4090909.    4141414.    4191919.25\n",
      "  4242424.5   4292929.5   4343434.5   4393939.5   4444444.5   4494949.5\n",
      "  4545454.5   4595959.5   4646464.5   4696969.5   4747474.5   4797979.5\n",
      "  4848485.    4898990.    4949495.    5000000.  ]\n",
      "100\n"
     ]
    }
   ],
   "source": [
    "salaire_imposable_couple_2014 = couple_celibataire_tehr().calculate('sal','2014')\n",
    "salaire_imposable_couple_2014 = salaire_imposable_couple_2014[::2]\n",
    "print salaire_imposable_couple_2014\n",
    "print len(salaire_imposable_couple_2014)"
   ]
  },
  {
   "cell_type": "markdown",
   "metadata": {},
   "source": [
    "Graphique Revenu disponible / revenu imposable"
   ]
  },
  {
   "cell_type": "code",
   "execution_count": 427,
   "metadata": {
    "collapsed": false
   },
   "outputs": [
    {
     "data": {
      "text/plain": [
       "(0, 5000000)"
      ]
     },
     "execution_count": 427,
     "metadata": {},
     "output_type": "execute_result"
    },
    {
     "data": {
      "image/png": "[encoded data removed]",
      "text/plain": [
       "<matplotlib.figure.Figure at 0x7fdf83191150>"
      ]
     },
     "metadata": {},
     "output_type": "display_data"
    }
   ],
   "source": [
    "fig = plt.figure()\n",
    "plt.plot(salaire_imposable_couple_2014, revdisp_celibataires_tehr, label = \"macourbe\")\n",
    "plt.legend(loc = 4, shadow=True, fancybox=True)\n",
    "plt.xlim([0,salaire_maximal])"
   ]
  },
  {
   "cell_type": "markdown",
   "metadata": {},
   "source": [
    "Définir Couple marié"
   ]
  },
  {
   "cell_type": "code",
   "execution_count": 428,
   "metadata": {
    "collapsed": false
   },
   "outputs": [],
   "source": [
    "def couple_marie_tehr(nombre_enfants = 0, year = 2015):\n",
    "    enfant = [dict(\n",
    "        birth = date(2005, 1, 1),\n",
    "        )]\n",
    "    enfants = enfant * nombre_enfants\n",
    "    simulation = tax_benefit_system.new_scenario().init_single_entity(\n",
    "        axes = [\n",
    "            dict(\n",
    "                count = 100,\n",
    "                min = 0,\n",
    "                max = salaire_maximal * 3,\n",
    "                name = 'sal',\n",
    "                ),\n",
    "            ],\n",
    "        period = \"{}:3\".format(year-2),\n",
    "        parent1 = dict(\n",
    "            birth = date(1980, 1, 1),\n",
    "            statmarit = 1\n",
    "            ),\n",
    "        parent2 = dict(\n",
    "            birth = date(1980, 1, 1),\n",
    "            sal = 0,\n",
    "            statmarit = 1\n",
    "            ),\n",
    "        menage = dict(\n",
    "            loyer = 1000 * 3,\n",
    "            so = 4,\n",
    "            ),\n",
    "        ).new_simulation(debug = True)\n",
    "    return simulation"
   ]
  },
  {
   "cell_type": "code",
   "execution_count": 429,
   "metadata": {
    "collapsed": false
   },
   "outputs": [
    {
     "name": "stdout",
     "output_type": "stream",
     "text": [
      "[    9037.46    46854.68    85015.05   120967.39   151215.25   181013.22\n",
      "   210811.22   239047.66   266825.44   294603.22   322381.     348855.\n",
      "   375117.62   401380.28   427642.88   453905.5    480168.16   506430.75\n",
      "   532693.38   558956.     585218.62   610996.25   636753.75   662511.31\n",
      "   688268.94   714026.5    739784.06   765541.62   791299.19   817056.81\n",
      "   842814.38   868571.94   894329.56   920087.06   945844.62   971602.31\n",
      "   997359.88  1023117.38  1048875.    1074632.5   1100390.12  1126147.75\n",
      "  1151905.25  1177662.88  1203420.5   1229178.    1254935.5   1280693.12\n",
      "  1306450.75  1332208.38  1357965.88  1383723.5   1409481.12  1435238.62\n",
      "  1460996.25  1486753.75  1512511.38  1538269.    1564026.5   1589784.12\n",
      "  1615541.62  1641299.25  1667056.75  1692814.38  1718572.    1744329.5\n",
      "  1770087.    1795844.62  1821602.12  1847359.75  1873117.5   1898875.\n",
      "  1924632.62  1950390.12  1976147.62  2001905.25  2027662.88  2053420.5\n",
      "  2079178.    2104935.5   2130693.    2156450.5   2182208.25  2207966.\n",
      "  2233723.5   2259481.    2285238.5   2310996.    2336753.75  2362511.25\n",
      "  2388268.75  2414026.5   2439784.    2465541.5   2491299.    2517056.75\n",
      "  2542814.5   2568572.    2594329.5   2620087.  ]\n",
      "100\n"
     ]
    }
   ],
   "source": [
    "revdisp_maries_tehr = couple_marie_tehr().calculate('revdisp','2014')\n",
    "print revdisp_maries_tehr\n",
    "print len(revdisp_maries_tehr)"
   ]
  },
  {
   "cell_type": "code",
   "execution_count": 430,
   "metadata": {
    "collapsed": false
   },
   "outputs": [
    {
     "name": "stdout",
     "output_type": "stream",
     "text": [
      "[       0.      50505.05   101010.1    151515.16   202020.2    252525.25\n",
      "   303030.31   353535.34   404040.41   454545.47   505050.5    555555.56\n",
      "   606060.62   656565.69   707070.69   757575.75   808080.81   858585.81\n",
      "   909090.94   959596.    1010101.    1060606.12  1111111.12  1161616.12\n",
      "  1212121.25  1262626.25  1313131.38  1363636.38  1414141.38  1464646.5\n",
      "  1515151.5   1565656.5   1616161.62  1666666.62  1717171.62  1767676.88\n",
      "  1818181.88  1868686.88  1919192.    1969697.    2020202.    2070707.\n",
      "  2121212.25  2171717.25  2222222.25  2272727.25  2323232.25  2373737.25\n",
      "  2424242.5   2474747.5   2525252.5   2575757.5   2626262.75  2676767.75\n",
      "  2727272.75  2777777.75  2828282.75  2878788.    2929293.    2979798.\n",
      "  3030303.    3080808.    3131313.    3181818.25  3232323.25  3282828.25\n",
      "  3333333.25  3383838.25  3434343.25  3484848.25  3535353.75  3585858.75\n",
      "  3636363.75  3686868.75  3737373.75  3787878.75  3838384.    3888889.\n",
      "  3939394.    3989899.    4040404.    4090909.    4141414.    4191919.25\n",
      "  4242424.5   4292929.5   4343434.5   4393939.5   4444444.5   4494949.5\n",
      "  4545454.5   4595959.5   4646464.5   4696969.5   4747474.5   4797979.5\n",
      "  4848485.    4898990.    4949495.    5000000.  ]\n",
      "100\n"
     ]
    }
   ],
   "source": [
    "salaire_imposable_couple_2014 = couple_marie_tehr().calculate('sal','2014')\n",
    "salaire_imposable_couple_2014 = salaire_imposable_couple_2014[::2]\n",
    "print salaire_imposable_couple_2014\n",
    "print len(salaire_imposable_couple_2014)"
   ]
  },
  {
   "cell_type": "markdown",
   "metadata": {},
   "source": [
    "Graphique Revenu disponible / revenu imposable"
   ]
  },
  {
   "cell_type": "code",
   "execution_count": 431,
   "metadata": {
    "collapsed": false
   },
   "outputs": [
    {
     "data": {
      "text/plain": [
       "(0, 5000000)"
      ]
     },
     "execution_count": 431,
     "metadata": {},
     "output_type": "execute_result"
    },
    {
     "data": {
      "image/png": "[encoded data removed]",
      "text/plain": [
       "<matplotlib.figure.Figure at 0x7fdf829f1750>"
      ]
     },
     "metadata": {},
     "output_type": "display_data"
    }
   ],
   "source": [
    "fig = plt.figure()\n",
    "plt.plot(salaire_imposable_couple_2014, revdisp_maries_tehr, label = \"macourbe\")\n",
    "plt.legend(loc = 4, shadow=True, fancybox=True)\n",
    "plt.xlim([0,salaire_maximal])"
   ]
  },
  {
   "cell_type": "markdown",
   "metadata": {},
   "source": [
    "###### Graphique différence entre le revenu disponible du couple non-marié et celui du couple marié / revenu imposable"
   ]
  },
  {
   "cell_type": "code",
   "execution_count": 432,
   "metadata": {
    "collapsed": false
   },
   "outputs": [
    {
     "data": {
      "text/plain": [
       "array([     0.  ,   4347.01,   7745.9 ,  13081.9 ,  15080.72,  17100.91,\n",
       "        20349.12,  22322.94,  23838.08,  25353.22,  26868.41,  27514.38,\n",
       "        28019.38,  28524.47,  29029.5 ,  29534.56,  30039.62,  30544.69,\n",
       "        31049.69,  31554.75,  32059.81,  32079.81,  32079.75,  32079.75,\n",
       "        32079.81,  32079.81,  32079.75,  32079.75,  32079.75,  32079.81,\n",
       "        32079.81,  32079.81,  32079.81,  32079.81,  32079.81,  32079.81,\n",
       "        32079.81,  32079.75,  32079.81,  32079.75,  32079.88,  32079.88,\n",
       "        32079.75,  32079.75,  32079.88,  32079.75,  32079.75,  32079.75,\n",
       "        32079.88,  32079.88,  32079.88,  32079.88,  32079.75,  32079.75,\n",
       "        32079.75,  32079.75,  32079.75,  32079.75,  32079.75,  32079.75,\n",
       "        32079.75,  32079.75,  32079.75,  32079.75,  32079.75,  32079.75,\n",
       "        32079.75,  32079.75,  32079.75,  32079.75,  32079.75,  32079.75,\n",
       "        32079.75,  32079.75,  32079.62,  32079.75,  32079.75,  32079.75,\n",
       "        32079.75,  32079.75,  32079.5 ,  32079.5 ,  32079.75,  32080.  ,\n",
       "        32079.75,  32079.5 ,  32079.5 ,  32079.5 ,  32079.75,  32079.75,\n",
       "        32079.75,  32080.  ,  32079.75,  32079.75,  32079.5 ,  32079.75,\n",
       "        32079.75,  32079.75,  32079.75,  32079.5 ], dtype=float32)"
      ]
     },
     "execution_count": 432,
     "metadata": {},
     "output_type": "execute_result"
    }
   ],
   "source": [
    "incitation_marriage_tehr = revdisp_maries_tehr - revdisp_celibataires_tehr\n",
    "incitation_marriage_tehr"
   ]
  },
  {
   "cell_type": "code",
   "execution_count": 433,
   "metadata": {
    "collapsed": false
   },
   "outputs": [
    {
     "data": {
      "text/plain": [
       "(0, 5000000)"
      ]
     },
     "execution_count": 433,
     "metadata": {},
     "output_type": "execute_result"
    },
    {
     "data": {
      "image/png": "[encoded data removed]",
      "text/plain": [
       "<matplotlib.figure.Figure at 0x7fdf8224e510>"
      ]
     },
     "metadata": {},
     "output_type": "display_data"
    }
   ],
   "source": [
    "fig = plt.figure()\n",
    "plt.plot(salaire_imposable_couple_2014, incitation_marriage_tehr, label = \"macourbe\")\n",
    "plt.legend(loc = 4, shadow=True, fancybox=True)\n",
    "plt.xlim([0,salaire_maximal])"
   ]
  },
  {
   "cell_type": "markdown",
   "metadata": {},
   "source": [
    "### III.3. Différence d'incitation au marriage entre les deux réformes"
   ]
  },
  {
   "cell_type": "code",
   "execution_count": 434,
   "metadata": {
    "collapsed": false
   },
   "outputs": [
    {
     "name": "stdout",
     "output_type": "stream",
     "text": [
      "[ 0.    0.    0.    0.    0.    0.    0.    0.    0.    0.    0.    0.    0.\n",
      "  0.    0.    0.    0.    0.    0.    0.    0.   -0.06  0.    0.    0.    0.\n",
      "  0.    0.    0.    0.    0.    0.    0.06  0.    0.    0.06  0.    0.    0.\n",
      "  0.12 -0.12 -0.12  0.    0.    0.    0.    0.    0.    0.   -0.12  0.12\n",
      "  0.    0.    0.    0.    0.    0.    0.    0.    0.    0.    0.    0.    0.\n",
      "  0.    0.    0.    0.    0.    0.    0.    0.    0.    0.   -0.12  0.    0.\n",
      "  0.    0.    0.    0.5   0.25  0.   -0.25  0.    0.25  0.25  0.    0.    0.\n",
      "  0.    0.    0.25  0.    0.    0.    0.    0.    0.25  0.  ]\n",
      "100\n"
     ]
    }
   ],
   "source": [
    "Difference_incitation_2_reformes = incitation_marriage_cesthra - incitation_marriage_tehr\n",
    "print Difference_incitation_2_reformes\n",
    "print len(Difference_incitation_2_reformes)"
   ]
  },
  {
   "cell_type": "code",
   "execution_count": 436,
   "metadata": {
    "collapsed": false
   },
   "outputs": [
    {
     "data": {
      "text/plain": [
       "(0, 5000000)"
      ]
     },
     "execution_count": 436,
     "metadata": {},
     "output_type": "execute_result"
    },
    {
     "data": {
      "image/png": "[encoded data removed]",
      "text/plain": [
       "<matplotlib.figure.Figure at 0x7fdf8129e710>"
      ]
     },
     "metadata": {},
     "output_type": "display_data"
    }
   ],
   "source": [
    "fig = plt.figure()\n",
    "plt.plot(salaire_imposable_couple_2014, Difference_incitation_2_reformes, label = \"macourbe\")\n",
    "plt.legend(loc = 4, shadow=True, fancybox=True)\n",
    "plt.xlim([0,salaire_maximal])"
   ]
  },
  {
   "cell_type": "markdown",
   "metadata": {},
   "source": [
    "## Conclusion"
   ]
  },
  {
   "cell_type": "code",
   "execution_count": null,
   "metadata": {
    "collapsed": false
   },
   "outputs": [],
   "source": []
  },
  {
   "cell_type": "code",
   "execution_count": null,
   "metadata": {
    "collapsed": false
   },
   "outputs": [],
   "source": []
  },
  {
   "cell_type": "code",
   "execution_count": null,
   "metadata": {
    "collapsed": false
   },
   "outputs": [],
   "source": []
  },
  {
   "cell_type": "code",
   "execution_count": null,
   "metadata": {
    "collapsed": false
   },
   "outputs": [],
   "source": []
  },
  {
   "cell_type": "code",
   "execution_count": null,
   "metadata": {
    "collapsed": false
   },
   "outputs": [],
   "source": []
  },
  {
   "cell_type": "code",
   "execution_count": null,
   "metadata": {
    "collapsed": false
   },
   "outputs": [],
   "source": []
  },
  {
   "cell_type": "code",
   "execution_count": 34,
   "metadata": {
    "collapsed": false
   },
   "outputs": [
    {
     "ename": "SyntaxError",
     "evalue": "invalid syntax (<ipython-input-34-bdcc5c7966b0>, line 1)",
     "output_type": "error",
     "traceback": [
      "\u001b[0;36m  File \u001b[0;32m\"<ipython-input-34-bdcc5c7966b0>\"\u001b[0;36m, line \u001b[0;32m1\u001b[0m\n\u001b[0;31m    Test dde la reforme codee :\u001b[0m\n\u001b[0m           ^\u001b[0m\n\u001b[0;31mSyntaxError\u001b[0m\u001b[0;31m:\u001b[0m invalid syntax\n"
     ]
    }
   ],
   "source": [
    "Test dde la reforme code :"
   ]
  },
  {
   "cell_type": "code",
   "execution_count": 35,
   "metadata": {
    "collapsed": false
   },
   "outputs": [
    {
     "name": "stdout",
     "output_type": "stream",
     "text": [
      "[-402992.6875 -462881.5938 -522770.5    -582659.375  -642548.25   -702437.125\n",
      " -762326.     -822214.875  -882103.8125 -941992.6875]\n",
      "[ -402992.6875  -466881.5938  -548770.5     -630659.375   -712548.25\n",
      "  -794437.125   -876326.      -958214.875  -1040103.8125 -1121992.75  ]\n"
     ]
    }
   ],
   "source": [
    "import datetime\n",
    "\n",
    "\n",
    "\n",
    "from openfisca_core import periods\n",
    "import openfisca_france\n",
    "from openfisca_france.reforms import plf2015\n",
    "from openfisca_france.tests import base\n",
    "\n",
    "TaxBenefitSystem = openfisca_france.init_country()\n",
    "tax_benefit_system = TaxBenefitSystem()\n",
    "\n",
    "\n",
    "def test(year = 2014):\n",
    "    max_sal = 2000000\n",
    "    count = 10\n",
    "    people = 1\n",
    "    reform = Reform\n",
    "    scenario = reform.new_scenario().init_single_entity(\n",
    "        axes = [\n",
    "            dict(\n",
    "                count = count,\n",
    "                max = max_sal,\n",
    "                min = 900000,\n",
    "                name = 'sal',\n",
    "                ),\n",
    "            ],\n",
    "        period = periods.period('year', year),\n",
    "        parent1 = dict(birth = datetime.date(year - 40, 1, 1)),\n",
    "        parent2 = dict(birth = datetime.date(year - 40, 1, 1)) if people >= 2 else None,\n",
    "        enfants = [\n",
    "            dict(birth = datetime.date(year - 9, 1, 1)) if people >= 3 else None,\n",
    "            dict(birth = datetime.date(year - 9, 1, 1)) if people >= 4 else None,\n",
    "            ] if people >= 3 else None,\n",
    "        )\n",
    "\n",
    "    reference_simulation = scenario.new_simulation(debug = True, reference = True)\n",
    "    reform_simulation = scenario.new_simulation(debug = True)\n",
    "\n",
    "    error_margin = 0.1\n",
    "    impo = reference_simulation.calculate('impo')\n",
    "    reform_impo = reform_simulation.calculate('impo')\n",
    "    print impo\n",
    "    print reform_impo\n",
    "\n",
    "\n",
    "if __name__ == '__main__':\n",
    "    import logging\n",
    "    import sys\n",
    "    logging.basicConfig(level = logging.ERROR, stream = sys.stdout)\n",
    "    test()\n"
   ]
  },
  {
   "cell_type": "code",
   "execution_count": 35,
   "metadata": {
    "collapsed": false
   },
   "outputs": [],
   "source": []
  },
  {
   "cell_type": "code",
   "execution_count": null,
   "metadata": {
    "collapsed": false
   },
   "outputs": [],
   "source": []
  }
 ],
 "metadata": {
  "kernelspec": {
   "display_name": "Python 2",
   "language": "python",
   "name": "python2"
  },
  "language_info": {
   "codemirror_mode": {
    "name": "ipython",
    "version": 2
   },
   "file_extension": ".py",
   "mimetype": "text/x-python",
   "name": "python",
   "nbconvert_exporter": "python",
   "pygments_lexer": "ipython2",
   "version": "2.7.12"
  }
 },
 "nbformat": 4,
 "nbformat_minor": 0
}
