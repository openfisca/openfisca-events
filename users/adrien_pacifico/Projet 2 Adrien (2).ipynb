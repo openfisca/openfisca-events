{
 "cells": [
  {
   "cell_type": "markdown",
   "metadata": {},
   "source": [
    "1- 4 individus avec niveaux de revenus du travail différents : Individu 1 : 100 000€ Individu 2 : 80 000€ Individu 3 : 20 000€ Individu 4 : 0€ -> Calcul de leur revenu dispo individuel"
   ]
  },
  {
   "cell_type": "markdown",
   "metadata": {},
   "source": [
    "2- Mettre ensemble les 2 avec plus hauts revenus, ensemble les 2 avec faibles revenus. -> Calculer pour chaque couple le revenu dispo, comparer avec la somme de leurs RD lorsqu'ils sont seuls"
   ]
  },
  {
   "cell_type": "markdown",
   "metadata": {},
   "source": [
    "3- Même chose avec une autre composition des couples : le plus aisé avec la personne ne travaillant pas, les 2 autres ensembles, le revenu du travail du 1er couple doit être égal à celui du 2e couple -> On compare avec les RD individuels et les couples entre eux, à revenu du ménage égal, les individus ont ils plutôt intéret à travailler tous les deux ou y a t il incitation à ne pas travailler pour l'un des membre du ménage ?"
   ]
  },
  {
   "cell_type": "markdown",
   "metadata": {},
   "source": [
    "## Créer mes 4 cas types"
   ]
  },
  {
   "cell_type": "markdown",
   "metadata": {},
   "source": [
    "1- 4 individus avec niveaux de revenus du travail différents : Individu 1 : 100 000€ Individu 2 : 80 000€ Individu 3 : 20 000€ Individu 4 : 0€ -> Calcul de leur revenu dispo individuel"
   ]
  },
  {
   "cell_type": "code",
   "execution_count": 1,
   "metadata": {
    "collapsed": false
   },
   "outputs": [],
   "source": [
    "%matplotlib inline\n",
    "import matplotlib.pyplot as plt\n",
    "from openfisca_matplotlib import graphs\n",
    "from openfisca_core import periods"
   ]
  },
  {
   "cell_type": "code",
   "execution_count": 2,
   "metadata": {
    "collapsed": false
   },
   "outputs": [],
   "source": [
    "from datetime import date  \n",
    "import openfisca_france   \n",
    "\n",
    "TaxBenefitSystem = openfisca_france.init_country()  \n",
    "tax_benefit_system = TaxBenefitSystem()  "
   ]
  },
  {
   "cell_type": "markdown",
   "metadata": {},
   "source": [
    "Simulation pour l'individu 1 : celui avec le plus haut revenu du travail"
   ]
  },
  {
   "cell_type": "code",
   "execution_count": 3,
   "metadata": {
    "collapsed": false
   },
   "outputs": [],
   "source": [
    "simulation_individu1 = tax_benefit_system.new_scenario().init_single_entity(\n",
    "    period = \"2014\", #modif on dit que l'on fait la simulation a partir de 2012 pour 3 ans\n",
    "    parent1 = dict(\n",
    "        birth = date(1980, 1, 1),\n",
    "        salaire_de_base = {'2012': 100000, '2013': 100000, '2014': 100000}, #modif\n",
    "        )\n",
    "    ).new_simulation(debug = True)"
   ]
  },
  {
   "cell_type": "markdown",
   "metadata": {},
   "source": [
    "Simulation pour l'individu 2 avec revenu = 80 000"
   ]
  },
  {
   "cell_type": "code",
   "execution_count": 4,
   "metadata": {
    "collapsed": false
   },
   "outputs": [],
   "source": [
    "simulation_individu2 = tax_benefit_system.new_scenario().init_single_entity(\n",
    "    period = \"2012:3\", #modif\n",
    "    parent1 = dict(\n",
    "        birth = date(1980, 1, 1),\n",
    "        sal = {'2012': 80000, '2013': 80000, '2014': 80000}, #modif\n",
    "    )\n",
    "    ).new_simulation(debug = True)\n"
   ]
  },
  {
   "cell_type": "markdown",
   "metadata": {},
   "source": [
    "Simulation pour l'individu 3 avec revenu = 20 000"
   ]
  },
  {
   "cell_type": "code",
   "execution_count": 5,
   "metadata": {
    "collapsed": false
   },
   "outputs": [],
   "source": [
    "simulation_individu3 = tax_benefit_system.new_scenario().init_single_entity(\n",
    "    period = \"2012:3\", #modif\n",
    "    parent1 = dict(\n",
    "        birth = date(1980, 1, 1),\n",
    "        sal = {'2012': 20000, '2013': 20000, '2014': 20000}, #modif\n",
    "    )\n",
    "    ).new_simulation(debug = True)"
   ]
  },
  {
   "cell_type": "markdown",
   "metadata": {},
   "source": [
    "Simulation pour l'individu 4 sans revenus du travail"
   ]
  },
  {
   "cell_type": "code",
   "execution_count": 6,
   "metadata": {
    "collapsed": false
   },
   "outputs": [],
   "source": [
    "simulation_individu4 = tax_benefit_system.new_scenario().init_single_entity(\n",
    "    period = \"2012:3\", #modif\n",
    "    parent1 = dict(\n",
    "        birth = date(1980, 1, 1),\n",
    "        sal = {'2012': 0, '2013': 0, '2014': 0}, #modif\n",
    "    )\n",
    "    ).new_simulation(debug = True)"
   ]
  },
  {
   "cell_type": "markdown",
   "metadata": {},
   "source": [
    "Calcul des revenus disponibles pour chaque individu séparément"
   ]
  },
  {
   "cell_type": "code",
   "execution_count": 7,
   "metadata": {
    "collapsed": false
   },
   "outputs": [],
   "source": [
    "period = periods.period(\"year\", \"2014\")"
   ]
  },
  {
   "cell_type": "code",
   "execution_count": 8,
   "metadata": {
    "collapsed": false
   },
   "outputs": [
    {
     "name": "stdout",
     "output_type": "stream",
     "text": [
      "2014\n",
      "[ 82815.9140625]\n"
     ]
    }
   ],
   "source": [
    "revenu_dispo1 = simulation_individu1.calculate('revdisp', period)\n",
    "print period\n",
    "print revenu_dispo1"
   ]
  },
  {
   "cell_type": "markdown",
   "metadata": {},
   "source": [
    "#### Essai : création d'un dico de variable pour cette configuration de ménage : 1 seul"
   ]
  },
  {
   "cell_type": "code",
   "execution_count": 11,
   "metadata": {
    "collapsed": false
   },
   "outputs": [],
   "source": [
    "liste_variables = list()"
   ]
  },
  {
   "cell_type": "code",
   "execution_count": 12,
   "metadata": {
    "collapsed": false
   },
   "outputs": [
    {
     "name": "stdout",
     "output_type": "stream",
     "text": [
      "[ 6184.12988281]\n"
     ]
    }
   ],
   "source": [
    "revenu_dispo2 = simulation_individu2.calculate('revdisp', period = periods.period(\"year\", \"2014\"))\n",
    "print revenu_dispo2"
   ]
  },
  {
   "cell_type": "code",
   "execution_count": 29,
   "metadata": {
    "collapsed": false
   },
   "outputs": [],
   "source": [
    "def calculate_variables(variables, simulation):\n",
    "    amount_by_variable = dict()\n",
    "    for variable in variables:\n",
    "        amount_by_variable[variable] = simulation.calculate(variable, '2014')\n",
    "    return amount_by_variable"
   ]
  },
  {
   "cell_type": "code",
   "execution_count": 32,
   "metadata": {
    "collapsed": false
   },
   "outputs": [
    {
     "data": {
      "text/plain": [
       "{'impo': array([-23368.22070312], dtype=float32),\n",
       " 'revdisp': array([ 82815.9140625], dtype=float32),\n",
       " 'rsa': array([ 6031.6796875], dtype=float32),\n",
       " 'sal': array([ 100000.], dtype=float32)}"
      ]
     },
     "execution_count": 32,
     "metadata": {},
     "output_type": "execute_result"
    }
   ],
   "source": [
    "calculate_variables([\"revdisp\", \"impo\", \"sal\",\"rsa\"], simulation_individu1)"
   ]
  },
  {
   "cell_type": "code",
   "execution_count": 13,
   "metadata": {
    "collapsed": false
   },
   "outputs": [
    {
     "name": "stdout",
     "output_type": "stream",
     "text": [
      "{'individu 1': {'revdisp': array([ 6184.12988281], dtype=float32), 'impo': array([ 0.], dtype=float32), 'rsa': array([ 6031.6796875], dtype=float32), 'sal': array([ 0.], dtype=float32)}, 'individu 2': {'revdisp': array([ 6184.12988281], dtype=float32), 'impo': array([ 0.], dtype=float32), 'rsa': array([ 6031.6796875], dtype=float32), 'sal': array([ 0.], dtype=float32)}, 'individu 3': {'revdisp': array([ 6184.12988281], dtype=float32), 'impo': array([ 0.], dtype=float32), 'rsa': array([ 6031.6796875], dtype=float32), 'sal': array([ 0.], dtype=float32)}, 'individu 4': {'revdisp': array([ 6184.12988281], dtype=float32), 'impo': array([ 0.], dtype=float32), 'rsa': array([ 6031.6796875], dtype=float32), 'sal': array([ 0.], dtype=float32)}}\n"
     ]
    }
   ],
   "source": [
    "#Adrien : je vérifie que rajouter les périodes m'enlève bien le rsa etc pour les ménages aisés.\n",
    "\n",
    "variables_indiv = dict()\n",
    "i = 0\n",
    "for simulation in [simulation_individu1, simulation_individu2, simulation_individu3, simulation_individu4]:\n",
    "    i = i + 1\n",
    "    variables_indiv[\"individu {}\".format(i)] = calculate_variables([\"revdisp\", \"impo\", \"sal\",\"rsa\"], simulation)\n",
    "\n",
    "print variables_indiv\n",
    "\n"
   ]
  },
  {
   "cell_type": "markdown",
   "metadata": {},
   "source": [
    "Création d'une liste des configurations possibles"
   ]
  },
  {
   "cell_type": "code",
   "execution_count": 14,
   "metadata": {
    "collapsed": false
   },
   "outputs": [],
   "source": [
    "liste_configurations = list()"
   ]
  },
  {
   "cell_type": "code",
   "execution_count": 15,
   "metadata": {
    "collapsed": false
   },
   "outputs": [
    {
     "ename": "NameError",
     "evalue": "name 'simulation_menage_1et2' is not defined",
     "output_type": "error",
     "traceback": [
      "\u001b[0;31m---------------------------------------------------------------------------\u001b[0m\n\u001b[0;31mNameError\u001b[0m                                 Traceback (most recent call last)",
      "\u001b[0;32m<ipython-input-15-43fed43f48ad>\u001b[0m in \u001b[0;36m<module>\u001b[0;34m()\u001b[0m\n\u001b[1;32m      1\u001b[0m liste_configurations = [simulation_individu1,simulation_individu2, simulation_individu3,simulation_individu4, \n\u001b[0;32m----> 2\u001b[0;31m                         simulation_menage_1et2,simulation_menage_2et3,simulation_menage_1et4,simulation_menage_2et3]\n\u001b[0m\u001b[1;32m      3\u001b[0m \u001b[0;34m\u001b[0m\u001b[0m\n\u001b[1;32m      4\u001b[0m \u001b[0;31m#Adrien : Attention ceci ne peut pas marcher si tu l'exécute dans l'ordre !\u001b[0m\u001b[0;34m\u001b[0m\u001b[0;34m\u001b[0m\u001b[0m\n",
      "\u001b[0;31mNameError\u001b[0m: name 'simulation_menage_1et2' is not defined"
     ]
    }
   ],
   "source": [
    "liste_configurations = [simulation_individu1,simulation_individu2, simulation_individu3,simulation_individu4, \n",
    "                        simulation_menage_1et2,simulation_menage_2et3,simulation_menage_1et4,simulation_menage_2et3]\n",
    "\n",
    "#Adrien : Attention ceci ne peut pas marcher si tu l'exécute dans l'ordre !"
   ]
  },
  {
   "cell_type": "code",
   "execution_count": null,
   "metadata": {
    "collapsed": false
   },
   "outputs": [],
   "source": []
  },
  {
   "cell_type": "code",
   "execution_count": null,
   "metadata": {
    "collapsed": false
   },
   "outputs": [],
   "source": [
    "revenu_dispo3 = simulation_individu3.calculate('revdisp', period)\n",
    "print revenu_dispo3"
   ]
  },
  {
   "cell_type": "code",
   "execution_count": null,
   "metadata": {
    "collapsed": false
   },
   "outputs": [],
   "source": [
    "revenu_dispo4 = simulation_individu4.calculate('revdisp', period)\n",
    "print revenu_dispo4"
   ]
  },
  {
   "cell_type": "markdown",
   "metadata": {},
   "source": [
    "## Mise en couples 1 : les plus riches entre eux, les plus pauvres entre eux"
   ]
  },
  {
   "cell_type": "markdown",
   "metadata": {},
   "source": [
    "**Mise en couple des individus 1 et 2 (les plus riches)"
   ]
  },
  {
   "cell_type": "code",
   "execution_count": null,
   "metadata": {
    "collapsed": false
   },
   "outputs": [],
   "source": [
    "simulation_menage_1et2 = tax_benefit_system.new_scenario().init_single_entity(\n",
    "    period = \"2012:3\",\n",
    "    parent1 = dict(\n",
    "        birth = date(1980, 1, 1),\n",
    "        sal = 100000 * 3,\n",
    "        statmarit = 1, #il faut que les individus soient mariés pour bénéficier du QF\n",
    "        ),\n",
    "    parent2 = dict(\n",
    "        birth = date(1980, 1, 1),\n",
    "        sal = 80000 * 3,\n",
    "        statmarit = 1, #modif\n",
    "    )\n",
    "    \n",
    "    ).new_simulation(debug = True)\n"
   ]
  },
  {
   "cell_type": "markdown",
   "metadata": {},
   "source": [
    "Calcul du RD du couple 1 et 2"
   ]
  },
  {
   "cell_type": "code",
   "execution_count": null,
   "metadata": {
    "collapsed": false
   },
   "outputs": [],
   "source": [
    "revenu_dispomenage_1et2 = simulation_menage_1et2.calculate('revdisp', period)\n",
    "print(revenu_dispomenage_1et2 , revenu_dispo1, revenu_dispo2)\n",
    "print simulation_menage_1et2.calculate('marpac', period) "
   ]
  },
  {
   "cell_type": "code",
   "execution_count": null,
   "metadata": {
    "collapsed": false
   },
   "outputs": [],
   "source": [
    "#variables_indiv = dict()\n",
    "#i = 0\n",
    "#for simulation in [simulation_menage_1et2, simulation_individu1, simulation_individu2, simulation_individu3, simulation_individu4]:\n",
    "#    i = i + 1\n",
    "#    variables_indiv[\"individu {}\".format(i)] = calculate_variables([\"revdisp\", \"impo\", \"sal\",\"rsa\"], simulation)\n",
    "\n",
    "#print variables_indiv"
   ]
  },
  {
   "cell_type": "markdown",
   "metadata": {},
   "source": [
    "Comparaison entre couple 1 et 2 et la somme de 1 et 2 séparément"
   ]
  },
  {
   "cell_type": "code",
   "execution_count": null,
   "metadata": {
    "collapsed": false
   },
   "outputs": [],
   "source": [
    "revenu_dispomenage_1et2  - revenu_dispo1 - revenu_dispo2"
   ]
  },
  {
   "cell_type": "markdown",
   "metadata": {},
   "source": [
    "** Mise en couple des individus 3 et 4"
   ]
  },
  {
   "cell_type": "code",
   "execution_count": null,
   "metadata": {
    "collapsed": false
   },
   "outputs": [],
   "source": [
    "simulation_menage_3et4 = tax_benefit_system.new_scenario().init_single_entity(\n",
    "    period = 2014,\n",
    "    parent1 = dict(\n",
    "        birth = date(1980, 1, 1),\n",
    "        sal = 20000,\n",
    "        ),\n",
    "    parent2 = dict(\n",
    "        birth = date(1980, 1, 1),\n",
    "        sal = 0,\n",
    "    )\n",
    "    ).new_simulation(debug = True)"
   ]
  },
  {
   "cell_type": "markdown",
   "metadata": {},
   "source": [
    "Revenu dispo du ménage 3 et 4"
   ]
  },
  {
   "cell_type": "code",
   "execution_count": null,
   "metadata": {
    "collapsed": false
   },
   "outputs": [],
   "source": [
    "revenu_dispomenage_3et4 = simulation_menage_3et4.calculate('revdisp', period = period)\n",
    "print revenu_dispomenage_3et4"
   ]
  },
  {
   "cell_type": "markdown",
   "metadata": {},
   "source": [
    "Différence entre RD ménage 3-4 et 3+4 individuellement"
   ]
  },
  {
   "cell_type": "code",
   "execution_count": null,
   "metadata": {
    "collapsed": false
   },
   "outputs": [],
   "source": [
    "revenu_dispomenage_3et4  - revenu_dispo3 - revenu_dispo4"
   ]
  },
  {
   "cell_type": "markdown",
   "metadata": {},
   "source": [
    "## Mise en couples 2 : le plus riche avec celui qui ne travaille pas, les deux revenus intermédiaires ensemble. Objectif : Voir si, à revenu du ménage égal, il vaut mieux que les deux travaillent ou qu'un seul ne travaille"
   ]
  },
  {
   "cell_type": "code",
   "execution_count": null,
   "metadata": {
    "collapsed": false
   },
   "outputs": [],
   "source": [
    "simulation_menage_1et4 = tax_benefit_system.new_scenario().init_single_entity(\n",
    "    period = 2014,\n",
    "    parent1 = dict(\n",
    "        birth = date(1980, 1, 1),\n",
    "        sal = 100000,\n",
    "        ),\n",
    "    parent2 = dict(\n",
    "        birth = date(1980, 1, 1),\n",
    "        sal = 0,\n",
    "    )\n",
    "    ).new_simulation(debug = True)"
   ]
  },
  {
   "cell_type": "markdown",
   "metadata": {},
   "source": [
    "Revenu dispo :"
   ]
  },
  {
   "cell_type": "code",
   "execution_count": null,
   "metadata": {
    "collapsed": false
   },
   "outputs": [],
   "source": [
    "revenu_dispomenage_1et4 = simulation_menage_1et4.calculate('revdisp', period )\n",
    "print revenu_dispomenage_1et4"
   ]
  },
  {
   "cell_type": "markdown",
   "metadata": {},
   "source": [
    "Gain à la mise en couple des individus 1 et 4"
   ]
  },
  {
   "cell_type": "code",
   "execution_count": null,
   "metadata": {
    "collapsed": false
   },
   "outputs": [],
   "source": [
    "revenu_dispomenage_1et4  - revenu_dispo1 - revenu_dispo4"
   ]
  },
  {
   "cell_type": "code",
   "execution_count": null,
   "metadata": {
    "collapsed": false
   },
   "outputs": [],
   "source": [
    "simulation_menage_2et3 = tax_benefit_system.new_scenario().init_single_entity(\n",
    "    period = 2014,\n",
    "    parent1 = dict(\n",
    "        birth = date(1980, 1, 1),\n",
    "        sal = 100000,\n",
    "        ),\n",
    "    parent2 = dict(\n",
    "        birth = date(1980, 1, 1),\n",
    "        sal = 0,\n",
    "    )\n",
    "    ).new_simulation(debug = True)"
   ]
  },
  {
   "cell_type": "code",
   "execution_count": null,
   "metadata": {
    "collapsed": false
   },
   "outputs": [],
   "source": [
    "revenu_dispomenage_1et4 = simulation_menage_1et4.calculate('revdisp', period )\n",
    "print revenu_dispomenage_1et4"
   ]
  }
 ],
 "metadata": {
  "kernelspec": {
   "display_name": "Python 2",
   "language": "python",
   "name": "python2"
  },
  "language_info": {
   "codemirror_mode": {
    "name": "ipython",
    "version": 2
   },
   "file_extension": ".py",
   "mimetype": "text/x-python",
   "name": "python",
   "nbconvert_exporter": "python",
   "pygments_lexer": "ipython2",
   "version": "2.7.12"
  }
 },
 "nbformat": 4,
 "nbformat_minor": 0
}
