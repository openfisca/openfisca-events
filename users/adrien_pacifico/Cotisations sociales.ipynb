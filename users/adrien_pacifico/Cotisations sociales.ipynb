{
 "cells": [
  {
   "cell_type": "markdown",
   "metadata": {},
   "source": [
    "# Coût du travail et revenu disponible"
   ]
  },
  {
   "cell_type": "code",
   "execution_count": 1,
   "metadata": {
    "collapsed": false
   },
   "outputs": [],
   "source": [
    "%matplotlib inline\n",
    "import matplotlib.pyplot as plt\n",
    "from openfisca_matplotlib import graphs\n",
    "from __future__ import division"
   ]
  },
  {
   "cell_type": "code",
   "execution_count": 2,
   "metadata": {
    "collapsed": false
   },
   "outputs": [],
   "source": [
    "from datetime import date  # module nécessaire pour la définition des dates, dont notamment les dates de naissances\n",
    "import openfisca_france    # module décrivant le système socio-fiscal français\n",
    "\n",
    "TaxBenefitSystem = openfisca_france.init_country()  # Initialisation de la classe décrivant le système socio-fiscal français\n",
    "tax_benefit_system = TaxBenefitSystem()  # Création d'une instance du système socio-fiscal français "
   ]
  },
  {
   "cell_type": "code",
   "execution_count": 3,
   "metadata": {
    "collapsed": false
   },
   "outputs": [],
   "source": [
    "year = 2010\n",
    "period = \"{}-01\".format(year)\n",
    "salaire_minimal = 1500\n",
    "salaire_max = 8000"
   ]
  },
  {
   "cell_type": "code",
   "execution_count": 4,
   "metadata": {
    "collapsed": false
   },
   "outputs": [],
   "source": [
    "simulation = tax_benefit_system.new_scenario().init_single_entity(\n",
    "    axes = [\n",
    "        dict(\n",
    "            count = 100,\n",
    "            min = salaire_minimal,\n",
    "            max = salaire_max,\n",
    "            name = 'salaire_de_base',\n",
    "            ),\n",
    "        ],\n",
    "    period = period,\n",
    "    parent1 = dict(\n",
    "        birth = date(1980, 1, 1),\n",
    "        type_sal = 1,\n",
    "        taille_entreprise = 2,\n",
    "        exposition_accident = 2,\n",
    "        allegement_fillon_mode_recouvrement =1,\n",
    "        ),\n",
    "    ).new_simulation(debug = True)\n"
   ]
  },
  {
   "cell_type": "markdown",
   "metadata": {},
   "source": [
    "## Salaires superbut, brut, net et revenu disponible"
   ]
  },
  {
   "cell_type": "code",
   "execution_count": 5,
   "metadata": {
    "collapsed": false
   },
   "outputs": [
    {
     "ename": "AssertionError",
     "evalue": "Requested period 2010-01 differs from 2010 returned by variable revdisp",
     "output_type": "error",
     "traceback": [
      "\u001b[0;31m---------------------------------------------------------------------------\u001b[0m\n\u001b[0;31mAssertionError\u001b[0m                            Traceback (most recent call last)",
      "\u001b[0;32m<ipython-input-5-6c08f806ca03>\u001b[0m in \u001b[0;36m<module>\u001b[0;34m()\u001b[0m\n\u001b[1;32m      3\u001b[0m \u001b[0msalaire_net\u001b[0m \u001b[0;34m=\u001b[0m \u001b[0msimulation\u001b[0m\u001b[0;34m.\u001b[0m\u001b[0mcalculate\u001b[0m\u001b[0;34m(\u001b[0m\u001b[0;34m'salnet'\u001b[0m\u001b[0;34m,\u001b[0m \u001b[0mperiod\u001b[0m \u001b[0;34m=\u001b[0m \u001b[0mperiod\u001b[0m\u001b[0;34m)\u001b[0m\u001b[0;34m\u001b[0m\u001b[0m\n\u001b[1;32m      4\u001b[0m \u001b[0msalaire_imposable\u001b[0m \u001b[0;34m=\u001b[0m \u001b[0msimulation\u001b[0m\u001b[0;34m.\u001b[0m\u001b[0mcalculate\u001b[0m\u001b[0;34m(\u001b[0m\u001b[0;34m'sal'\u001b[0m\u001b[0;34m,\u001b[0m \u001b[0mperiod\u001b[0m \u001b[0;34m=\u001b[0m \u001b[0mperiod\u001b[0m\u001b[0;34m)\u001b[0m\u001b[0;34m\u001b[0m\u001b[0m\n\u001b[0;32m----> 5\u001b[0;31m \u001b[0msalaire_disponible\u001b[0m \u001b[0;34m=\u001b[0m \u001b[0msimulation\u001b[0m\u001b[0;34m.\u001b[0m\u001b[0mcalculate\u001b[0m\u001b[0;34m(\u001b[0m\u001b[0;34m'revdisp'\u001b[0m\u001b[0;34m,\u001b[0m \u001b[0mperiod\u001b[0m \u001b[0;34m=\u001b[0m \u001b[0mperiod\u001b[0m\u001b[0;34m)\u001b[0m\u001b[0;34m\u001b[0m\u001b[0m\n\u001b[0m",
      "\u001b[0;32m/home/openfisca/openfisca-core/openfisca_core/simulations.pyc\u001b[0m in \u001b[0;36mcalculate\u001b[0;34m(self, column_name, period, accept_other_period, requested_formulas_by_period)\u001b[0m\n\u001b[1;32m     89\u001b[0m             \u001b[0mperiod\u001b[0m \u001b[0;34m=\u001b[0m \u001b[0mself\u001b[0m\u001b[0;34m.\u001b[0m\u001b[0mperiod\u001b[0m\u001b[0;34m\u001b[0m\u001b[0m\n\u001b[1;32m     90\u001b[0m         return self.compute(column_name, period = period, accept_other_period = accept_other_period,\n\u001b[0;32m---> 91\u001b[0;31m             requested_formulas_by_period = requested_formulas_by_period).array\n\u001b[0m\u001b[1;32m     92\u001b[0m \u001b[0;34m\u001b[0m\u001b[0m\n\u001b[1;32m     93\u001b[0m     \u001b[0;32mdef\u001b[0m \u001b[0mcalculate_add\u001b[0m\u001b[0;34m(\u001b[0m\u001b[0mself\u001b[0m\u001b[0;34m,\u001b[0m \u001b[0mcolumn_name\u001b[0m\u001b[0;34m,\u001b[0m \u001b[0mperiod\u001b[0m \u001b[0;34m=\u001b[0m \u001b[0mNone\u001b[0m\u001b[0;34m,\u001b[0m \u001b[0mrequested_formulas_by_period\u001b[0m \u001b[0;34m=\u001b[0m \u001b[0mNone\u001b[0m\u001b[0;34m)\u001b[0m\u001b[0;34m:\u001b[0m\u001b[0;34m\u001b[0m\u001b[0m\n",
      "\u001b[0;32m/home/openfisca/openfisca-core/openfisca_core/simulations.pyc\u001b[0m in \u001b[0;36mcompute\u001b[0;34m(self, column_name, period, accept_other_period, requested_formulas_by_period)\u001b[0m\n\u001b[1;32m    160\u001b[0m                 \u001b[0mcaller_input_variables_infos\u001b[0m\u001b[0;34m.\u001b[0m\u001b[0mappend\u001b[0m\u001b[0;34m(\u001b[0m\u001b[0mvariable_infos\u001b[0m\u001b[0;34m)\u001b[0m\u001b[0;34m\u001b[0m\u001b[0m\n\u001b[1;32m    161\u001b[0m         return self.entity_by_column_name[column_name].compute(column_name, period = period,\n\u001b[0;32m--> 162\u001b[0;31m             accept_other_period = accept_other_period, requested_formulas_by_period = requested_formulas_by_period)\n\u001b[0m\u001b[1;32m    163\u001b[0m \u001b[0;34m\u001b[0m\u001b[0m\n\u001b[1;32m    164\u001b[0m     \u001b[0;32mdef\u001b[0m \u001b[0mcompute_add\u001b[0m\u001b[0;34m(\u001b[0m\u001b[0mself\u001b[0m\u001b[0;34m,\u001b[0m \u001b[0mcolumn_name\u001b[0m\u001b[0;34m,\u001b[0m \u001b[0mperiod\u001b[0m \u001b[0;34m=\u001b[0m \u001b[0mNone\u001b[0m\u001b[0;34m,\u001b[0m \u001b[0mrequested_formulas_by_period\u001b[0m \u001b[0;34m=\u001b[0m \u001b[0mNone\u001b[0m\u001b[0;34m)\u001b[0m\u001b[0;34m:\u001b[0m\u001b[0;34m\u001b[0m\u001b[0m\n",
      "\u001b[0;32m/home/openfisca/openfisca-core/openfisca_core/entities.pyc\u001b[0m in \u001b[0;36mcompute\u001b[0;34m(self, column_name, period, accept_other_period, requested_formulas_by_period)\u001b[0m\n\u001b[1;32m     73\u001b[0m     \u001b[0;32mdef\u001b[0m \u001b[0mcompute\u001b[0m\u001b[0;34m(\u001b[0m\u001b[0mself\u001b[0m\u001b[0;34m,\u001b[0m \u001b[0mcolumn_name\u001b[0m\u001b[0;34m,\u001b[0m \u001b[0mperiod\u001b[0m \u001b[0;34m=\u001b[0m \u001b[0mNone\u001b[0m\u001b[0;34m,\u001b[0m \u001b[0maccept_other_period\u001b[0m \u001b[0;34m=\u001b[0m \u001b[0mFalse\u001b[0m\u001b[0;34m,\u001b[0m \u001b[0mrequested_formulas_by_period\u001b[0m \u001b[0;34m=\u001b[0m \u001b[0mNone\u001b[0m\u001b[0;34m)\u001b[0m\u001b[0;34m:\u001b[0m\u001b[0;34m\u001b[0m\u001b[0m\n\u001b[1;32m     74\u001b[0m         return self.get_or_new_holder(column_name).compute(period = period, accept_other_period = accept_other_period,\n\u001b[0;32m---> 75\u001b[0;31m             requested_formulas_by_period = requested_formulas_by_period)\n\u001b[0m\u001b[1;32m     76\u001b[0m \u001b[0;34m\u001b[0m\u001b[0m\n\u001b[1;32m     77\u001b[0m     \u001b[0;32mdef\u001b[0m \u001b[0mcompute_add\u001b[0m\u001b[0;34m(\u001b[0m\u001b[0mself\u001b[0m\u001b[0;34m,\u001b[0m \u001b[0mcolumn_name\u001b[0m\u001b[0;34m,\u001b[0m \u001b[0mperiod\u001b[0m \u001b[0;34m=\u001b[0m \u001b[0mNone\u001b[0m\u001b[0;34m,\u001b[0m \u001b[0mrequested_formulas_by_period\u001b[0m \u001b[0;34m=\u001b[0m \u001b[0mNone\u001b[0m\u001b[0;34m)\u001b[0m\u001b[0;34m:\u001b[0m\u001b[0;34m\u001b[0m\u001b[0m\n",
      "\u001b[0;32m/home/openfisca/openfisca-core/openfisca_core/holders.pyc\u001b[0m in \u001b[0;36mcompute\u001b[0;34m(self, period, accept_other_period, requested_formulas_by_period)\u001b[0m\n\u001b[1;32m    162\u001b[0m                 \u001b[0;32massert\u001b[0m \u001b[0maccept_other_period\u001b[0m \u001b[0;32mor\u001b[0m \u001b[0mformula_dated_holder\u001b[0m\u001b[0;34m.\u001b[0m\u001b[0mperiod\u001b[0m \u001b[0;34m==\u001b[0m \u001b[0mperiod\u001b[0m\u001b[0;34m,\u001b[0m\u001b[0;31m \u001b[0m\u001b[0;31m\\\u001b[0m\u001b[0;34m\u001b[0m\u001b[0m\n\u001b[1;32m    163\u001b[0m                     u\"Requested period {} differs from {} returned by variable {}\".format(period,\n\u001b[0;32m--> 164\u001b[0;31m                         formula_dated_holder.period, column.name)\n\u001b[0m\u001b[1;32m    165\u001b[0m             \u001b[0;32mreturn\u001b[0m \u001b[0mformula_dated_holder\u001b[0m\u001b[0;34m\u001b[0m\u001b[0m\n\u001b[1;32m    166\u001b[0m         \u001b[0marray\u001b[0m \u001b[0;34m=\u001b[0m \u001b[0mnp\u001b[0m\u001b[0;34m.\u001b[0m\u001b[0mempty\u001b[0m\u001b[0;34m(\u001b[0m\u001b[0mentity\u001b[0m\u001b[0;34m.\u001b[0m\u001b[0mcount\u001b[0m\u001b[0;34m,\u001b[0m \u001b[0mdtype\u001b[0m \u001b[0;34m=\u001b[0m \u001b[0mcolumn\u001b[0m\u001b[0;34m.\u001b[0m\u001b[0mdtype\u001b[0m\u001b[0;34m)\u001b[0m\u001b[0;34m\u001b[0m\u001b[0m\n",
      "\u001b[0;31mAssertionError\u001b[0m: Requested period 2010-01 differs from 2010 returned by variable revdisp"
     ]
    }
   ],
   "source": [
    "salaire_superbrut = simulation.calculate('salsuperbrut', period = period)\n",
    "salaire_brut = simulation.calculate('salaire_de_base', period = period)\n",
    "salaire_net = simulation.calculate('salnet', period = period)\n",
    "salaire_imposable = simulation.calculate('sal', period = period)\n",
    "salaire_disponible = simulation.calculate('revdisp', period = period)"
   ]
  },
  {
   "cell_type": "code",
   "execution_count": 192,
   "metadata": {
    "collapsed": false
   },
   "outputs": [
    {
     "data": {
      "text/plain": [
       "<matplotlib.legend.Legend at 0x7f88f2251d10>"
      ]
     },
     "execution_count": 192,
     "metadata": {},
     "output_type": "execute_result"
    },
    {
     "data": {
      "image/png": "[encoded data removed]",
      "text/plain": [
       "<matplotlib.figure.Figure at 0x7f88f3f4ccd0>"
      ]
     },
     "metadata": {},
     "output_type": "display_data"
    }
   ],
   "source": [
    "fig = plt.figure()\n",
    "plt.plot(salaire_brut, salaire_superbrut, label = \"superbrut\")\n",
    "plt.plot(salaire_brut, salaire_brut, label = \"brut\")\n",
    "plt.plot(salaire_brut, salaire_net, label = \"net\")\n",
    "plt.plot(salaire_brut, salaire_imposable, label = \"imposable\")\n",
    "plt.plot(salaire_brut, salaire_disponible, label = \"disponible\")\n",
    "plt.legend(loc = 0, shadow=True, fancybox=True)"
   ]
  },
  {
   "cell_type": "code",
   "execution_count": 193,
   "metadata": {
    "collapsed": false
   },
   "outputs": [],
   "source": [
    "taux_employe = 1 - salaire_net / salaire_brut  \n",
    "taux_employeur = salaire_superbrut / salaire_brut - 1 "
   ]
  },
  {
   "cell_type": "code",
   "execution_count": 194,
   "metadata": {
    "collapsed": false
   },
   "outputs": [
    {
     "name": "stdout",
     "output_type": "stream",
     "text": [
      "[ 0.23950005  0.26770687  0.293607    0.31749547  0.33960187]\n",
      "[ 11080.41210938  11174.02832031  11267.63378906  11361.25976562  11454.875     ]\n",
      "[ 7737.37353516  7803.03027344  7868.68701172  7934.34326172  8000.        ]\n"
     ]
    },
    {
     "data": {
      "text/plain": [
       "array([ 0.23950005,  0.26770687,  0.293607  ,  0.31749547,  0.33960187,\n",
       "        0.36009681,  0.37920249,  0.39700806,  0.41360819,  0.42929387,\n",
       "        0.44249904,  0.44249952,  0.44249988,  0.44249594,  0.44250464,\n",
       "        0.44249284,  0.44250107,  0.44250143,  0.44250178,  0.4425019 ,\n",
       "        0.44250226,  0.44250238,  0.44216251,  0.44180977,  0.44147193,\n",
       "        0.44113886,  0.44082558,  0.44052494,  0.44023311,  0.43996429,\n",
       "        0.43969393,  0.43943381,  0.4391886 ,  0.43895221,  0.4387269 ,\n",
       "        0.43850148,  0.43828619,  0.43807828,  0.43787456,  0.4376775 ,\n",
       "        0.43749869,  0.43731368,  0.437132  ,  0.43696046,  0.43679857,\n",
       "        0.43663478,  0.43648016,  0.43632567,  0.43617535,  0.43603778,\n",
       "        0.43589365,  0.43576562,  0.43562889,  0.43549788,  0.43537617,\n",
       "        0.43524969,  0.43513608,  0.4350177 ,  0.43490052,  0.43478966,\n",
       "        0.43468702,  0.43457973,  0.43447673,  0.43437433,  0.43427598,\n",
       "        0.43417978,  0.43408763,  0.43399918,  0.43390942,  0.43382001,\n",
       "        0.43373382,  0.43365288,  0.43356884,  0.43348992,  0.43340933,\n",
       "        0.43332875,  0.43325615,  0.43318176,  0.43311036,  0.43303764,\n",
       "        0.43296909,  0.43289888,  0.43283153,  0.43276823,  0.43270493,\n",
       "        0.43263698,  0.43257594,  0.43251455,  0.43245566,  0.43239915,\n",
       "        0.43234098,  0.43228126,  0.43222511,  0.43217003,  0.4321183 ,\n",
       "        0.4320637 ,  0.43201137,  0.43195856,  0.43190932,  0.43185937], dtype=float32)"
      ]
     },
     "execution_count": 194,
     "metadata": {},
     "output_type": "execute_result"
    }
   ],
   "source": [
    "print (salaire_superbrut[:5] /salaire_brut[:5]) - 1\n",
    "print salaire_superbrut[-5:]\n",
    "print salaire_brut[-5:]\n",
    "taux_employeur"
   ]
  },
  {
   "cell_type": "code",
   "execution_count": 195,
   "metadata": {
    "collapsed": false
   },
   "outputs": [
    {
     "data": {
      "text/plain": [
       "(0, 0.5)"
      ]
     },
     "execution_count": 195,
     "metadata": {},
     "output_type": "execute_result"
    },
    {
     "data": {
      "image/png": "[encoded data removed]",
      "text/plain": [
       "<matplotlib.figure.Figure at 0x7f88f05a5450>"
      ]
     },
     "metadata": {},
     "output_type": "display_data"
    }
   ],
   "source": [
    "fig = plt.figure()\n",
    "plt.plot(salaire_brut, taux_employe, label = \"taux_employe\")\n",
    "plt.plot(salaire_brut, taux_employeur, label = \"taux_employeur\")\n",
    "plt.legend(loc = 0, shadow=True, fancybox=True)\n",
    "plt.ylim([0,.5])"
   ]
  },
  {
   "cell_type": "code",
   "execution_count": 196,
   "metadata": {
    "collapsed": false
   },
   "outputs": [
    {
     "data": {
      "text/plain": [
       "array([ 0.4425    ,  0.44250688,  0.44250712,  0.44249552,  0.44250184,\n",
       "        0.44249672,  0.44250256,  0.44250801,  0.44250813,  0.44249389,\n",
       "        0.4424991 ,  0.44249955,  0.44249988,  0.44249597,  0.44250464,\n",
       "        0.44249281,  0.4425011 ,  0.44250143,  0.44250172,  0.44250193,\n",
       "        0.44250223,  0.44250244,  0.44216245,  0.44180968,  0.44147199,\n",
       "        0.44113886,  0.44082552,  0.44052491,  0.44023302,  0.43996418,\n",
       "        0.4396939 ,  0.43943375,  0.43918866,  0.43895227,  0.4387269 ,\n",
       "        0.43850148,  0.43828622,  0.43807822,  0.43787456,  0.43767747,\n",
       "        0.43749872,  0.43731365,  0.437132  ,  0.43696046,  0.43679863,\n",
       "        0.43663481,  0.43648016,  0.43632564,  0.43617541,  0.43603784,\n",
       "        0.43589371,  0.43576571,  0.43562898,  0.43549788,  0.43537611,\n",
       "        0.43524966,  0.43513608,  0.4350177 ,  0.43490043,  0.43478963,\n",
       "        0.43468708,  0.43457979,  0.43447667,  0.4343743 ,  0.43427595,\n",
       "        0.43417987,  0.43408769,  0.43399927,  0.43390942,  0.43381989,\n",
       "        0.43373385,  0.43365297,  0.43356895,  0.43348992,  0.43340927,\n",
       "        0.43332878,  0.43325612,  0.43318179,  0.43311048,  0.43303755,\n",
       "        0.432969  ,  0.43289885,  0.4328315 ,  0.43276829,  0.43270487,\n",
       "        0.43263695,  0.43257585,  0.43251452,  0.43245566,  0.43239918,\n",
       "        0.43234101,  0.4322812 ,  0.43222511,  0.43216997,  0.43211836,\n",
       "        0.43206379,  0.4320114 ,  0.43195859,  0.43190923,  0.43185934], dtype=float32)"
      ]
     },
     "execution_count": 196,
     "metadata": {},
     "output_type": "execute_result"
    }
   ],
   "source": [
    "- simulation.calculate('cotisations_patronales', period = period) / simulation.calculate('salaire_de_base', period = period)"
   ]
  },
  {
   "cell_type": "code",
   "execution_count": 199,
   "metadata": {
    "collapsed": false
   },
   "outputs": [
    {
     "data": {
      "text/plain": [
       "array([ 0.4425    ,  0.44250688,  0.44250712,  0.44249552,  0.44250184,\n",
       "        0.44249672,  0.44250256,  0.44250801,  0.44250813,  0.44249389,\n",
       "        0.4424991 ,  0.44249955,  0.44249988,  0.44249597,  0.44250464,\n",
       "        0.44249281,  0.4425011 ,  0.44250143,  0.44250172,  0.44250193,\n",
       "        0.44250223,  0.44250244,  0.44216245,  0.44180968,  0.44147199,\n",
       "        0.44113886,  0.44082552,  0.44052491,  0.44023302,  0.43996418,\n",
       "        0.4396939 ,  0.43943375,  0.43918866,  0.43895227,  0.4387269 ,\n",
       "        0.43850148,  0.43828622,  0.43807822,  0.43787456,  0.43767747,\n",
       "        0.43749872,  0.43731365,  0.437132  ,  0.43696046,  0.43679863,\n",
       "        0.43663481,  0.43648016,  0.43632564,  0.43617541,  0.43603784,\n",
       "        0.43589371,  0.43576571,  0.43562898,  0.43549788,  0.43537611,\n",
       "        0.43524966,  0.43513608,  0.4350177 ,  0.43490043,  0.43478963,\n",
       "        0.43468708,  0.43457979,  0.43447667,  0.4343743 ,  0.43427595,\n",
       "        0.43417987,  0.43408769,  0.43399927,  0.43390942,  0.43381989,\n",
       "        0.43373385,  0.43365297,  0.43356895,  0.43348992,  0.43340927,\n",
       "        0.43332878,  0.43325612,  0.43318179,  0.43311048,  0.43303755,\n",
       "        0.432969  ,  0.43289885,  0.4328315 ,  0.43276829,  0.43270487,\n",
       "        0.43263695,  0.43257585,  0.43251452,  0.43245566,  0.43239918,\n",
       "        0.43234101,  0.4322812 ,  0.43222511,  0.43216997,  0.43211836,\n",
       "        0.43206379,  0.4320114 ,  0.43195859,  0.43190923,  0.43185934], dtype=float32)"
      ]
     },
     "execution_count": 199,
     "metadata": {},
     "output_type": "execute_result"
    }
   ],
   "source": [
    "- simulation.calculate('cotisations_patronales', period = period) / simulation.calculate('salaire_de_base', period = period)"
   ]
  },
  {
   "cell_type": "code",
   "execution_count": 198,
   "metadata": {
    "collapsed": false
   },
   "outputs": [],
   "source": []
  },
  {
   "cell_type": "code",
   "execution_count": null,
   "metadata": {
    "collapsed": false
   },
   "outputs": [],
   "source": []
  }
 ],
 "metadata": {
  "kernelspec": {
   "display_name": "Python 2",
   "language": "python",
   "name": "python2"
  },
  "language_info": {
   "codemirror_mode": {
    "name": "ipython",
    "version": 2
   },
   "file_extension": ".py",
   "mimetype": "text/x-python",
   "name": "python",
   "nbconvert_exporter": "python",
   "pygments_lexer": "ipython2",
   "version": "2.7.12"
  }
 },
 "nbformat": 4,
 "nbformat_minor": 0
}
