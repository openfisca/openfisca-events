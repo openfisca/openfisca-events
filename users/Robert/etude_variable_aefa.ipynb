{
 "cells": [
  {
   "cell_type": "markdown",
   "metadata": {
    "collapsed": true
   },
   "source": [
    "# Etude de la variable aefa"
   ]
  },
  {
   "cell_type": "code",
   "execution_count": 184,
   "metadata": {
    "collapsed": true
   },
   "outputs": [],
   "source": [
    "from datetime import date\n",
    "\n",
    "import matplotlib.pyplot as plt\n",
    "%matplotlib inline\n",
    "\n",
    "import numpy as np\n",
    "from numpy import logical_not as not_, minimum as min_, maximum as max_, logical_and as and_, logical_or as or_, round as round_\n",
    "\n",
    "\n",
    "import openfisca_france\n",
    "from openfisca_france.model.base import *\n",
    "\n",
    "from openfisca_core.reforms import Reform\n",
    "\n"
   ]
  },
  {
   "cell_type": "code",
   "execution_count": 185,
   "metadata": {
    "collapsed": false
   },
   "outputs": [],
   "source": [
    "tax_benefit_system = openfisca_france.FranceTaxBenefitSystem()  "
   ]
  },
  {
   "cell_type": "markdown",
   "metadata": {},
   "source": [
    "### Le cas d'une personne seule sans enfant"
   ]
  },
  {
   "cell_type": "code",
   "execution_count": 186,
   "metadata": {
    "collapsed": false
   },
   "outputs": [],
   "source": [
    "simulation = tax_benefit_system.new_scenario().init_single_entity(\n",
    "    axes = [\n",
    "        dict(\n",
    "            count = 20,\n",
    "            min = 0,\n",
    "            max = 50000,\n",
    "            name = 'salaire_de_base',\n",
    "            ),\n",
    "        ],\n",
    "    period = 2015,\n",
    "    parent1 = dict(\n",
    "        date_naissance = date(1980, 1, 1),\n",
    "        ),\n",
    "    ).new_simulation(debug = True)\n"
   ]
  },
  {
   "cell_type": "code",
   "execution_count": 187,
   "metadata": {
    "collapsed": false
   },
   "outputs": [
    {
     "data": {
      "text/plain": [
       "array([ 12.70416641,  12.70416641,  12.70416641,  12.70416641,\n",
       "        12.70416641,  12.70416641,  12.70416641,  12.70416641,\n",
       "        12.70416641,  12.70416641,  12.70416641,  12.70416641,\n",
       "        12.70416641,  12.70416641,  12.70416641,  12.70416641,\n",
       "        12.70416641,  12.70416641,  12.70416641,  12.70416641], dtype=float32)"
      ]
     },
     "execution_count": 187,
     "metadata": {},
     "output_type": "execute_result"
    }
   ],
   "source": [
    "individu_sans_enfant_aefa = simulation.calculate_add('aefa')/12\n",
    "individu_sans_enfant_aefa"
   ]
  },
  {
   "cell_type": "code",
   "execution_count": 188,
   "metadata": {
    "collapsed": false
   },
   "outputs": [
    {
     "data": {
      "text/plain": [
       "array([    0.        ,   219.29823303,   438.59646606,   657.89471436,\n",
       "         877.19293213,  1096.49121094,  1315.78942871,  1535.08776855,\n",
       "        1754.38586426,  1973.6842041 ,  2192.98242188,  2412.28076172,\n",
       "        2631.57885742,  2850.87719727,  3070.17553711,  3289.47363281,\n",
       "        3508.77172852,  3728.0703125 ,  3947.3684082 ,  4166.66650391], dtype=float32)"
      ]
     },
     "execution_count": 188,
     "metadata": {},
     "output_type": "execute_result"
    }
   ],
   "source": [
    "individu_sans_enfant_salaire_de_base = simulation.calculate_add('salaire_de_base')/12\n",
    "individu_sans_enfant_salaire_de_base"
   ]
  },
  {
   "cell_type": "markdown",
   "metadata": {},
   "source": [
    "### Le cas d'une personne seule avec 1 enfant"
   ]
  },
  {
   "cell_type": "code",
   "execution_count": 189,
   "metadata": {
    "collapsed": false
   },
   "outputs": [],
   "source": [
    "simulation = tax_benefit_system.new_scenario().init_single_entity(\n",
    "    axes = [\n",
    "        dict(\n",
    "            count = 20,\n",
    "            min = 0,\n",
    "            max = 50000,\n",
    "            name = 'salaire_de_base',\n",
    "            ),\n",
    "        ],\n",
    "    period = 2015,\n",
    "    parent1 = dict(\n",
    "        date_naissance = date(1980, 1, 1),\n",
    "        ),\n",
    "    enfants = [\n",
    "        dict(date_naissance = date(2006, 1, 1)),\n",
    "     ],\n",
    ").new_simulation(debug = True)"
   ]
  },
  {
   "cell_type": "code",
   "execution_count": 190,
   "metadata": {
    "collapsed": false
   },
   "outputs": [
    {
     "data": {
      "text/plain": [
       "array([ 16.5154171,  16.5154171,  16.5154171,  16.5154171,  16.5154171,\n",
       "        16.5154171,  16.5154171,  16.5154171,  16.5154171,  16.5154171,\n",
       "        16.5154171,  16.5154171,  16.5154171,  16.5154171,  16.5154171,\n",
       "        16.5154171,  16.5154171,  16.5154171,  16.5154171,  16.5154171], dtype=float32)"
      ]
     },
     "execution_count": 190,
     "metadata": {},
     "output_type": "execute_result"
    }
   ],
   "source": [
    "individu_1_enfant_aefa = simulation.calculate_add('aefa')/12\n",
    "individu_1_enfant_aefa"
   ]
  },
  {
   "cell_type": "code",
   "execution_count": 191,
   "metadata": {
    "collapsed": false
   },
   "outputs": [
    {
     "data": {
      "text/plain": [
       "array([    0.        ,     0.        ,   219.29823303,     0.        ,\n",
       "         438.59646606,     0.        ,   657.89471436,     0.        ,\n",
       "         877.19293213,     0.        ,  1096.49121094,     0.        ,\n",
       "        1315.78942871,     0.        ,  1535.08776855,     0.        ,\n",
       "        1754.38586426,     0.        ,  1973.6842041 ,     0.        ,\n",
       "        2192.98242188,     0.        ,  2412.28076172,     0.        ,\n",
       "        2631.57885742,     0.        ,  2850.87719727,     0.        ,\n",
       "        3070.17553711,     0.        ,  3289.47363281,     0.        ,\n",
       "        3508.77172852,     0.        ,  3728.0703125 ,     0.        ,\n",
       "        3947.3684082 ,     0.        ,  4166.66650391,     0.        ], dtype=float32)"
      ]
     },
     "execution_count": 191,
     "metadata": {},
     "output_type": "execute_result"
    }
   ],
   "source": [
    "individu_1_enfant_salaire_de_base = simulation.calculate_add('salaire_de_base')/12\n",
    "individu_1_enfant_salaire_de_base"
   ]
  },
  {
   "cell_type": "code",
   "execution_count": 192,
   "metadata": {
    "collapsed": false
   },
   "outputs": [
    {
     "data": {
      "text/plain": [
       "[0.0,\n",
       " 219.29823,\n",
       " 438.59647,\n",
       " 657.89471,\n",
       " 877.19293,\n",
       " 1096.4912,\n",
       " 1315.7894,\n",
       " 1535.0878,\n",
       " 1754.3859,\n",
       " 1973.6842,\n",
       " 2192.9824,\n",
       " 2412.2808,\n",
       " 2631.5789,\n",
       " 2850.8772,\n",
       " 3070.1755,\n",
       " 3289.4736,\n",
       " 3508.7717,\n",
       " 3728.0703,\n",
       " 3947.3684,\n",
       " 4166.6665]"
      ]
     },
     "execution_count": 192,
     "metadata": {},
     "output_type": "execute_result"
    }
   ],
   "source": [
    "# Cette manipulation permet d'égaliser la longueur des 2 tableaux (aefa et salaire de base)\n",
    "i_1_enfant_salaire_de_base = []\n",
    "i = 0\n",
    "while (i < len(individu_1_enfant_salaire_de_base)):\n",
    "    somme = 0\n",
    "    valeur_1 = individu_1_enfant_salaire_de_base[i]\n",
    "    i = i + 1\n",
    "    valeur_2 = individu_1_enfant_salaire_de_base[i]\n",
    "    somme = valeur_1 + valeur_2\n",
    "    i_1_enfant_salaire_de_base.append(somme)\n",
    "    i = i + 1\n",
    "    \n",
    "i_1_enfant_salaire_de_base"
   ]
  },
  {
   "cell_type": "markdown",
   "metadata": {},
   "source": [
    "### Le cas d'une personne seule avec 2 enfants"
   ]
  },
  {
   "cell_type": "code",
   "execution_count": 193,
   "metadata": {
    "collapsed": true
   },
   "outputs": [],
   "source": [
    "simulation = tax_benefit_system.new_scenario().init_single_entity(\n",
    "    axes = [\n",
    "        dict(\n",
    "            count = 20,\n",
    "            min = 0,\n",
    "            max = 50000,\n",
    "            name = 'salaire_de_base',\n",
    "            ),\n",
    "        ],\n",
    "    period = 2015,\n",
    "    parent1 = dict(\n",
    "        date_naissance = date(1980, 1, 1),\n",
    "        ),\n",
    "    enfants = [\n",
    "        dict(date_naissance = date(2006, 1, 1)),\n",
    "        dict(date_naissance = date(2011, 1, 1)),\n",
    "     ],\n",
    ").new_simulation(debug = True)"
   ]
  },
  {
   "cell_type": "code",
   "execution_count": 194,
   "metadata": {
    "collapsed": false
   },
   "outputs": [
    {
     "data": {
      "text/plain": [
       "array([ 20.32666588,  20.32666588,  20.32666588,  20.32666588,\n",
       "        20.32666588,  20.32666588,  20.32666588,  20.32666588,\n",
       "        20.32666588,  20.32666588,  20.32666588,  20.32666588,\n",
       "        20.32666588,  20.32666588,  20.32666588,  20.32666588,\n",
       "        20.32666588,  20.32666588,  20.32666588,  20.32666588], dtype=float32)"
      ]
     },
     "execution_count": 194,
     "metadata": {},
     "output_type": "execute_result"
    }
   ],
   "source": [
    "individu_2_enfants_aefa = simulation.calculate_add('aefa')/12\n",
    "individu_2_enfants_aefa"
   ]
  },
  {
   "cell_type": "code",
   "execution_count": 195,
   "metadata": {
    "collapsed": false
   },
   "outputs": [
    {
     "data": {
      "text/plain": [
       "array([    0.        ,     0.        ,     0.        ,   219.29823303,\n",
       "           0.        ,     0.        ,   438.59646606,     0.        ,\n",
       "           0.        ,   657.89471436,     0.        ,     0.        ,\n",
       "         877.19293213,     0.        ,     0.        ,  1096.49121094,\n",
       "           0.        ,     0.        ,  1315.78942871,     0.        ,\n",
       "           0.        ,  1535.08776855,     0.        ,     0.        ,\n",
       "        1754.38586426,     0.        ,     0.        ,  1973.6842041 ,\n",
       "           0.        ,     0.        ,  2192.98242188,     0.        ,\n",
       "           0.        ,  2412.28076172,     0.        ,     0.        ,\n",
       "        2631.57885742,     0.        ,     0.        ,  2850.87719727,\n",
       "           0.        ,     0.        ,  3070.17553711,     0.        ,\n",
       "           0.        ,  3289.47363281,     0.        ,     0.        ,\n",
       "        3508.77172852,     0.        ,     0.        ,  3728.0703125 ,\n",
       "           0.        ,     0.        ,  3947.3684082 ,     0.        ,\n",
       "           0.        ,  4166.66650391,     0.        ,     0.        ], dtype=float32)"
      ]
     },
     "execution_count": 195,
     "metadata": {},
     "output_type": "execute_result"
    }
   ],
   "source": [
    "individu_2_enfants_salaire_de_base = simulation.calculate_add('salaire_de_base')/12\n",
    "individu_2_enfants_salaire_de_base"
   ]
  },
  {
   "cell_type": "code",
   "execution_count": 196,
   "metadata": {
    "collapsed": false
   },
   "outputs": [
    {
     "data": {
      "text/plain": [
       "[0.0,\n",
       " 219.29823,\n",
       " 438.59647,\n",
       " 657.89471,\n",
       " 877.19293,\n",
       " 1096.4912,\n",
       " 1315.7894,\n",
       " 1535.0878,\n",
       " 1754.3859,\n",
       " 1973.6842,\n",
       " 2192.9824,\n",
       " 2412.2808,\n",
       " 2631.5789,\n",
       " 2850.8772,\n",
       " 3070.1755,\n",
       " 3289.4736,\n",
       " 3508.7717,\n",
       " 3728.0703,\n",
       " 3947.3684,\n",
       " 4166.6665]"
      ]
     },
     "execution_count": 196,
     "metadata": {},
     "output_type": "execute_result"
    }
   ],
   "source": [
    "# Cette manipulation permet d'égaliser la longueur des 2 tableaux (aefa et salaire de base)\n",
    "i_2_enfants_salaire_de_base = []\n",
    "i = 0\n",
    "while (i < len(individu_2_enfants_salaire_de_base)):\n",
    "    somme = 0\n",
    "    valeur_1 = individu_2_enfants_salaire_de_base[i]\n",
    "    i = i + 1\n",
    "    valeur_2 = individu_2_enfants_salaire_de_base[i]\n",
    "    i = i + 1\n",
    "    valeur_3 = individu_2_enfants_salaire_de_base[i]   \n",
    "    somme = valeur_1 + valeur_2 + valeur_3\n",
    "    i_2_enfants_salaire_de_base.append(somme)\n",
    "    i = i + 1\n",
    "    \n",
    "i_2_enfants_salaire_de_base"
   ]
  },
  {
   "cell_type": "markdown",
   "metadata": {},
   "source": [
    "### Le cas d'une personne seule avec 3 enfants"
   ]
  },
  {
   "cell_type": "code",
   "execution_count": 197,
   "metadata": {
    "collapsed": true
   },
   "outputs": [],
   "source": [
    "simulation = tax_benefit_system.new_scenario().init_single_entity(\n",
    "    axes = [\n",
    "        dict(\n",
    "            count = 20,\n",
    "            min = 0,\n",
    "            max = 50000,\n",
    "            name = 'salaire_de_base',\n",
    "            ),\n",
    "        ],\n",
    "    period = 2015,\n",
    "    parent1 = dict(\n",
    "        date_naissance = date(1980, 1, 1),\n",
    "        ),\n",
    "    enfants = [\n",
    "        dict(date_naissance = date(2008, 1, 1)),\n",
    "        dict(date_naissance = date(2004, 1, 1)),\n",
    "        dict(date_naissance = date(2000, 1, 1)),\n",
    "     ],\n",
    ").new_simulation(debug = True)"
   ]
  },
  {
   "cell_type": "code",
   "execution_count": 198,
   "metadata": {
    "collapsed": false
   },
   "outputs": [
    {
     "data": {
      "text/plain": [
       "array([ 39.3829155,  39.3829155,  39.3829155,  39.3829155,  39.3829155,\n",
       "        39.3829155,  39.3829155,  39.3829155,  39.3829155,  39.3829155,\n",
       "        39.3829155,  39.3829155,  39.3829155,  39.3829155,  39.3829155,\n",
       "        39.3829155,  39.3829155,  39.3829155,  39.3829155,  39.3829155], dtype=float32)"
      ]
     },
     "execution_count": 198,
     "metadata": {},
     "output_type": "execute_result"
    }
   ],
   "source": [
    "individu_3_enfants_aefa = simulation.calculate_add('aefa')/12\n",
    "individu_3_enfants_aefa"
   ]
  },
  {
   "cell_type": "code",
   "execution_count": 199,
   "metadata": {
    "collapsed": false
   },
   "outputs": [
    {
     "data": {
      "text/plain": [
       "array([    0.        ,     0.        ,     0.        ,     0.        ,\n",
       "         219.29823303,     0.        ,     0.        ,     0.        ,\n",
       "         438.59646606,     0.        ,     0.        ,     0.        ,\n",
       "         657.89471436,     0.        ,     0.        ,     0.        ,\n",
       "         877.19293213,     0.        ,     0.        ,     0.        ,\n",
       "        1096.49121094,     0.        ,     0.        ,     0.        ,\n",
       "        1315.78942871,     0.        ,     0.        ,     0.        ,\n",
       "        1535.08776855,     0.        ,     0.        ,     0.        ,\n",
       "        1754.38586426,     0.        ,     0.        ,     0.        ,\n",
       "        1973.6842041 ,     0.        ,     0.        ,     0.        ,\n",
       "        2192.98242188,     0.        ,     0.        ,     0.        ,\n",
       "        2412.28076172,     0.        ,     0.        ,     0.        ,\n",
       "        2631.57885742,     0.        ,     0.        ,     0.        ,\n",
       "        2850.87719727,     0.        ,     0.        ,     0.        ,\n",
       "        3070.17553711,     0.        ,     0.        ,     0.        ,\n",
       "        3289.47363281,     0.        ,     0.        ,     0.        ,\n",
       "        3508.77172852,     0.        ,     0.        ,     0.        ,\n",
       "        3728.0703125 ,     0.        ,     0.        ,     0.        ,\n",
       "        3947.3684082 ,     0.        ,     0.        ,     0.        ,\n",
       "        4166.66650391,     0.        ,     0.        ,     0.        ], dtype=float32)"
      ]
     },
     "execution_count": 199,
     "metadata": {},
     "output_type": "execute_result"
    }
   ],
   "source": [
    "individu_3_enfants_salaire_de_base = simulation.calculate_add('salaire_de_base')/12\n",
    "individu_3_enfants_salaire_de_base"
   ]
  },
  {
   "cell_type": "code",
   "execution_count": 200,
   "metadata": {
    "collapsed": false
   },
   "outputs": [
    {
     "data": {
      "text/plain": [
       "[0.0,\n",
       " 219.29823,\n",
       " 438.59647,\n",
       " 657.89471,\n",
       " 877.19293,\n",
       " 1096.4912,\n",
       " 1315.7894,\n",
       " 1535.0878,\n",
       " 1754.3859,\n",
       " 1973.6842,\n",
       " 2192.9824,\n",
       " 2412.2808,\n",
       " 2631.5789,\n",
       " 2850.8772,\n",
       " 3070.1755,\n",
       " 3289.4736,\n",
       " 3508.7717,\n",
       " 3728.0703,\n",
       " 3947.3684,\n",
       " 4166.6665]"
      ]
     },
     "execution_count": 200,
     "metadata": {},
     "output_type": "execute_result"
    }
   ],
   "source": [
    "# Cette manipulation est nécessaire pour égaliser la longueur des 2 tableaux (aefa et salaire de base)\n",
    "i_3_enfants_salaire_de_base = []\n",
    "i = 0\n",
    "while (i < len(individu_3_enfants_salaire_de_base)):\n",
    "    somme = 0\n",
    "    valeur_1 = individu_3_enfants_salaire_de_base[i]\n",
    "    i = i + 1\n",
    "    valeur_2 = individu_3_enfants_salaire_de_base[i]\n",
    "    i = i + 1\n",
    "    valeur_3 = individu_3_enfants_salaire_de_base[i]   \n",
    "    i = i + 1\n",
    "    valeur_4 = individu_3_enfants_salaire_de_base[i] \n",
    "    somme = valeur_1 + valeur_2 + valeur_3 + valeur_4\n",
    "    i_3_enfants_salaire_de_base.append(somme)\n",
    "    i = i + 1\n",
    "    \n",
    "i_3_enfants_salaire_de_base"
   ]
  },
  {
   "cell_type": "markdown",
   "metadata": {},
   "source": [
    "### Le cas d'un couple sans enfant"
   ]
  },
  {
   "cell_type": "code",
   "execution_count": 201,
   "metadata": {
    "collapsed": false
   },
   "outputs": [],
   "source": [
    "simulation = tax_benefit_system.new_scenario().init_single_entity(\n",
    "    axes = [\n",
    "        dict(\n",
    "            count = 20,\n",
    "            min = 0,\n",
    "            max = 50000,\n",
    "            name = 'salaire_de_base',\n",
    "            ),\n",
    "        ],\n",
    "    period = 2015,\n",
    "    parent1 = dict(\n",
    "        date_naissance = date(1980, 1, 1),\n",
    "        ),\n",
    "    parent2 = dict(\n",
    "        ),    \n",
    ").new_simulation(debug = True)"
   ]
  },
  {
   "cell_type": "code",
   "execution_count": 202,
   "metadata": {
    "collapsed": false
   },
   "outputs": [
    {
     "data": {
      "text/plain": [
       "array([ 19.05624962,  19.05624962,  19.05624962,  19.05624962,\n",
       "        19.05624962,  19.05624962,  19.05624962,  19.05624962,\n",
       "        19.05624962,  19.05624962,  19.05624962,  19.05624962,\n",
       "        19.05624962,  19.05624962,  19.05624962,  19.05624962,\n",
       "        19.05624962,  19.05624962,  19.05624962,  19.05624962], dtype=float32)"
      ]
     },
     "execution_count": 202,
     "metadata": {},
     "output_type": "execute_result"
    }
   ],
   "source": [
    "couple_sans_enfant_aefa = simulation.calculate_add('aefa')/12\n",
    "couple_sans_enfant_aefa"
   ]
  },
  {
   "cell_type": "code",
   "execution_count": 203,
   "metadata": {
    "collapsed": false
   },
   "outputs": [
    {
     "data": {
      "text/plain": [
       "array([    0.        ,     0.        ,   219.29823303,     0.        ,\n",
       "         438.59646606,     0.        ,   657.89471436,     0.        ,\n",
       "         877.19293213,     0.        ,  1096.49121094,     0.        ,\n",
       "        1315.78942871,     0.        ,  1535.08776855,     0.        ,\n",
       "        1754.38586426,     0.        ,  1973.6842041 ,     0.        ,\n",
       "        2192.98242188,     0.        ,  2412.28076172,     0.        ,\n",
       "        2631.57885742,     0.        ,  2850.87719727,     0.        ,\n",
       "        3070.17553711,     0.        ,  3289.47363281,     0.        ,\n",
       "        3508.77172852,     0.        ,  3728.0703125 ,     0.        ,\n",
       "        3947.3684082 ,     0.        ,  4166.66650391,     0.        ], dtype=float32)"
      ]
     },
     "execution_count": 203,
     "metadata": {},
     "output_type": "execute_result"
    }
   ],
   "source": [
    "couple_sans_enfant_salaire_de_base = simulation.calculate_add('salaire_de_base')/12\n",
    "couple_sans_enfant_salaire_de_base"
   ]
  },
  {
   "cell_type": "code",
   "execution_count": 204,
   "metadata": {
    "collapsed": false
   },
   "outputs": [
    {
     "data": {
      "text/plain": [
       "[0.0,\n",
       " 219.29823,\n",
       " 438.59647,\n",
       " 657.89471,\n",
       " 877.19293,\n",
       " 1096.4912,\n",
       " 1315.7894,\n",
       " 1535.0878,\n",
       " 1754.3859,\n",
       " 1973.6842,\n",
       " 2192.9824,\n",
       " 2412.2808,\n",
       " 2631.5789,\n",
       " 2850.8772,\n",
       " 3070.1755,\n",
       " 3289.4736,\n",
       " 3508.7717,\n",
       " 3728.0703,\n",
       " 3947.3684,\n",
       " 4166.6665]"
      ]
     },
     "execution_count": 204,
     "metadata": {},
     "output_type": "execute_result"
    }
   ],
   "source": [
    "# Cette manipulation permet d'égaliser la longueur des 2 tableaux (aefa et salaire de base)\n",
    "c_sans_enfant_salaire_de_base = []\n",
    "i = 0\n",
    "while (i < len(couple_sans_enfant_salaire_de_base)):\n",
    "    somme = 0\n",
    "    valeur_1 = couple_sans_enfant_salaire_de_base[i]\n",
    "    i = i + 1\n",
    "    valeur_2 = couple_sans_enfant_salaire_de_base[i]\n",
    "    somme = valeur_1 + valeur_2\n",
    "    c_sans_enfant_salaire_de_base.append(somme)\n",
    "    i = i + 1\n",
    "    \n",
    "c_sans_enfant_salaire_de_base"
   ]
  },
  {
   "cell_type": "markdown",
   "metadata": {},
   "source": [
    "### Le cas d'un couple avec 1 enfant"
   ]
  },
  {
   "cell_type": "code",
   "execution_count": 205,
   "metadata": {
    "collapsed": true
   },
   "outputs": [],
   "source": [
    "simulation = tax_benefit_system.new_scenario().init_single_entity(\n",
    "    axes = [\n",
    "        dict(\n",
    "            count = 20,\n",
    "            min = 0,\n",
    "            max = 50000,\n",
    "            name = 'salaire_de_base',\n",
    "            ),\n",
    "        ],\n",
    "    period = 2015,\n",
    "    parent1 = dict(\n",
    "        date_naissance = date(1980, 1, 1),\n",
    "        ),\n",
    "    parent2 = dict(\n",
    "        ),  \n",
    "    enfants = [\n",
    "        dict(date_naissance = date(2006, 1, 1)),\n",
    "        ],\n",
    ").new_simulation(debug = True)"
   ]
  },
  {
   "cell_type": "code",
   "execution_count": 206,
   "metadata": {
    "collapsed": false
   },
   "outputs": [
    {
     "data": {
      "text/plain": [
       "array([ 22.86750031,  22.86750031,  22.86750031,  22.86750031,\n",
       "        22.86750031,  22.86750031,  22.86750031,  22.86750031,\n",
       "        22.86750031,  22.86750031,  22.86750031,  22.86750031,\n",
       "        22.86750031,  22.86750031,  22.86750031,  22.86750031,\n",
       "        22.86750031,  22.86750031,  22.86750031,  22.86750031], dtype=float32)"
      ]
     },
     "execution_count": 206,
     "metadata": {},
     "output_type": "execute_result"
    }
   ],
   "source": [
    "couple_1_enfant_aefa = simulation.calculate_add('aefa')/12\n",
    "couple_1_enfant_aefa"
   ]
  },
  {
   "cell_type": "code",
   "execution_count": 207,
   "metadata": {
    "collapsed": false
   },
   "outputs": [
    {
     "data": {
      "text/plain": [
       "array([    0.        ,     0.        ,     0.        ,   219.29823303,\n",
       "           0.        ,     0.        ,   438.59646606,     0.        ,\n",
       "           0.        ,   657.89471436,     0.        ,     0.        ,\n",
       "         877.19293213,     0.        ,     0.        ,  1096.49121094,\n",
       "           0.        ,     0.        ,  1315.78942871,     0.        ,\n",
       "           0.        ,  1535.08776855,     0.        ,     0.        ,\n",
       "        1754.38586426,     0.        ,     0.        ,  1973.6842041 ,\n",
       "           0.        ,     0.        ,  2192.98242188,     0.        ,\n",
       "           0.        ,  2412.28076172,     0.        ,     0.        ,\n",
       "        2631.57885742,     0.        ,     0.        ,  2850.87719727,\n",
       "           0.        ,     0.        ,  3070.17553711,     0.        ,\n",
       "           0.        ,  3289.47363281,     0.        ,     0.        ,\n",
       "        3508.77172852,     0.        ,     0.        ,  3728.0703125 ,\n",
       "           0.        ,     0.        ,  3947.3684082 ,     0.        ,\n",
       "           0.        ,  4166.66650391,     0.        ,     0.        ], dtype=float32)"
      ]
     },
     "execution_count": 207,
     "metadata": {},
     "output_type": "execute_result"
    }
   ],
   "source": [
    "couple_1_enfant_salaire_de_base = simulation.calculate_add('salaire_de_base')/12\n",
    "couple_1_enfant_salaire_de_base"
   ]
  },
  {
   "cell_type": "code",
   "execution_count": 208,
   "metadata": {
    "collapsed": false
   },
   "outputs": [
    {
     "data": {
      "text/plain": [
       "[0.0,\n",
       " 219.29823,\n",
       " 438.59647,\n",
       " 657.89471,\n",
       " 877.19293,\n",
       " 1096.4912,\n",
       " 1315.7894,\n",
       " 1535.0878,\n",
       " 1754.3859,\n",
       " 1973.6842,\n",
       " 2192.9824,\n",
       " 2412.2808,\n",
       " 2631.5789,\n",
       " 2850.8772,\n",
       " 3070.1755,\n",
       " 3289.4736,\n",
       " 3508.7717,\n",
       " 3728.0703,\n",
       " 3947.3684,\n",
       " 4166.6665]"
      ]
     },
     "execution_count": 208,
     "metadata": {},
     "output_type": "execute_result"
    }
   ],
   "source": [
    "# Cette manipulation permet d'égaliser la longueur des 2 tableaux (aefa et salaire de base)\n",
    "c_1_enfant_salaire_de_base = []\n",
    "i = 0\n",
    "while (i < len(couple_1_enfant_salaire_de_base)):\n",
    "    somme = 0\n",
    "    valeur_1 = couple_1_enfant_salaire_de_base[i]\n",
    "    i = i + 1\n",
    "    valeur_2 = couple_1_enfant_salaire_de_base[i]\n",
    "    i = i + 1\n",
    "    valeur_3 = couple_1_enfant_salaire_de_base[i]   \n",
    "    somme = valeur_1 + valeur_2 + valeur_3\n",
    "    c_1_enfant_salaire_de_base.append(somme)\n",
    "    i = i + 1\n",
    "    \n",
    "c_1_enfant_salaire_de_base"
   ]
  },
  {
   "cell_type": "markdown",
   "metadata": {},
   "source": [
    "### Le cas d'un couple avec 2 enfants"
   ]
  },
  {
   "cell_type": "code",
   "execution_count": 209,
   "metadata": {
    "collapsed": false
   },
   "outputs": [],
   "source": [
    "simulation = tax_benefit_system.new_scenario().init_single_entity(\n",
    "    axes = [\n",
    "        dict(\n",
    "            count = 20,\n",
    "            min = 0,\n",
    "            max = 50000,\n",
    "            name = 'salaire_de_base',\n",
    "            ),\n",
    "        ],\n",
    "    period = 2015,\n",
    "    parent1 = dict(\n",
    "        date_naissance = date(1980, 1, 1),\n",
    "        ),\n",
    "    parent2 = dict(\n",
    "        ),  \n",
    "    enfants = [\n",
    "        dict(date_naissance = date(2006, 1, 1)),\n",
    "        dict(date_naissance = date(2011, 1, 1)),\n",
    "        ],\n",
    ").new_simulation(debug = True)    "
   ]
  },
  {
   "cell_type": "code",
   "execution_count": 210,
   "metadata": {
    "collapsed": false
   },
   "outputs": [
    {
     "data": {
      "text/plain": [
       "array([ 26.67874908,  26.67874908,  26.67874908,  26.67874908,\n",
       "        26.67874908,  26.67874908,  26.67874908,  26.67874908,\n",
       "        26.67874908,  26.67874908,  26.67874908,  26.67874908,\n",
       "        26.67874908,  26.67874908,  26.67874908,  26.67874908,\n",
       "        26.67874908,  26.67874908,  26.67874908,  26.67874908], dtype=float32)"
      ]
     },
     "execution_count": 210,
     "metadata": {},
     "output_type": "execute_result"
    }
   ],
   "source": [
    "couple_2_enfants_aefa = simulation.calculate_add('aefa')/12\n",
    "couple_2_enfants_aefa"
   ]
  },
  {
   "cell_type": "code",
   "execution_count": 211,
   "metadata": {
    "collapsed": false
   },
   "outputs": [
    {
     "data": {
      "text/plain": [
       "array([    0.        ,     0.        ,     0.        ,     0.        ,\n",
       "         219.29823303,     0.        ,     0.        ,     0.        ,\n",
       "         438.59646606,     0.        ,     0.        ,     0.        ,\n",
       "         657.89471436,     0.        ,     0.        ,     0.        ,\n",
       "         877.19293213,     0.        ,     0.        ,     0.        ,\n",
       "        1096.49121094,     0.        ,     0.        ,     0.        ,\n",
       "        1315.78942871,     0.        ,     0.        ,     0.        ,\n",
       "        1535.08776855,     0.        ,     0.        ,     0.        ,\n",
       "        1754.38586426,     0.        ,     0.        ,     0.        ,\n",
       "        1973.6842041 ,     0.        ,     0.        ,     0.        ,\n",
       "        2192.98242188,     0.        ,     0.        ,     0.        ,\n",
       "        2412.28076172,     0.        ,     0.        ,     0.        ,\n",
       "        2631.57885742,     0.        ,     0.        ,     0.        ,\n",
       "        2850.87719727,     0.        ,     0.        ,     0.        ,\n",
       "        3070.17553711,     0.        ,     0.        ,     0.        ,\n",
       "        3289.47363281,     0.        ,     0.        ,     0.        ,\n",
       "        3508.77172852,     0.        ,     0.        ,     0.        ,\n",
       "        3728.0703125 ,     0.        ,     0.        ,     0.        ,\n",
       "        3947.3684082 ,     0.        ,     0.        ,     0.        ,\n",
       "        4166.66650391,     0.        ,     0.        ,     0.        ], dtype=float32)"
      ]
     },
     "execution_count": 211,
     "metadata": {},
     "output_type": "execute_result"
    }
   ],
   "source": [
    "couple_2_enfants_salaire_de_base = simulation.calculate_add('salaire_de_base')/12\n",
    "couple_2_enfants_salaire_de_base"
   ]
  },
  {
   "cell_type": "code",
   "execution_count": 212,
   "metadata": {
    "collapsed": false
   },
   "outputs": [
    {
     "data": {
      "text/plain": [
       "[0.0,\n",
       " 219.29823,\n",
       " 438.59647,\n",
       " 657.89471,\n",
       " 877.19293,\n",
       " 1096.4912,\n",
       " 1315.7894,\n",
       " 1535.0878,\n",
       " 1754.3859,\n",
       " 1973.6842,\n",
       " 2192.9824,\n",
       " 2412.2808,\n",
       " 2631.5789,\n",
       " 2850.8772,\n",
       " 3070.1755,\n",
       " 3289.4736,\n",
       " 3508.7717,\n",
       " 3728.0703,\n",
       " 3947.3684,\n",
       " 4166.6665]"
      ]
     },
     "execution_count": 212,
     "metadata": {},
     "output_type": "execute_result"
    }
   ],
   "source": [
    "# Cette manipulation permet d'égaliser la longueur des 2 tableaux (aefa et salaire de base)\n",
    "c_2_enfants_salaire_de_base = []\n",
    "i = 0\n",
    "while (i < len(couple_2_enfants_salaire_de_base)):\n",
    "    somme = 0\n",
    "    valeur_1 = couple_2_enfants_salaire_de_base[i]\n",
    "    i = i + 1\n",
    "    valeur_2 = couple_2_enfants_salaire_de_base[i]\n",
    "    i = i + 1\n",
    "    valeur_3 = couple_2_enfants_salaire_de_base[i]   \n",
    "    i = i + 1\n",
    "    valeur_4 = couple_2_enfants_salaire_de_base[i] \n",
    "    somme = valeur_1 + valeur_2 + valeur_3 + valeur_4\n",
    "    c_2_enfants_salaire_de_base.append(somme)\n",
    "    i = i + 1\n",
    "    \n",
    "c_2_enfants_salaire_de_base"
   ]
  },
  {
   "cell_type": "markdown",
   "metadata": {},
   "source": [
    "### Le cas d'un couple avec 3 enfants"
   ]
  },
  {
   "cell_type": "code",
   "execution_count": 213,
   "metadata": {
    "collapsed": false
   },
   "outputs": [],
   "source": [
    "simulation = tax_benefit_system.new_scenario().init_single_entity(\n",
    "    axes = [\n",
    "        dict(\n",
    "            count = 20,\n",
    "            min = 0,\n",
    "            max = 50000,\n",
    "            name = 'salaire_de_base',\n",
    "            ),\n",
    "        ],\n",
    "    period = 2015,\n",
    "    parent1 = dict(\n",
    "        date_naissance = date(1980, 1, 1),\n",
    "        ),\n",
    "    parent2 = dict(\n",
    "        ),  \n",
    "    enfants = [\n",
    "        dict(date_naissance = date(2008, 1, 1)),\n",
    "        dict(date_naissance = date(2004, 1, 1)),\n",
    "        dict(date_naissance = date(2000, 1, 1)),\n",
    "        ],\n",
    ").new_simulation(debug = True)    "
   ]
  },
  {
   "cell_type": "code",
   "execution_count": 214,
   "metadata": {
    "collapsed": false
   },
   "outputs": [
    {
     "data": {
      "text/plain": [
       "array([ 45.73500061,  45.73500061,  45.73500061,  45.73500061,\n",
       "        45.73500061,  45.73500061,  45.73500061,  45.73500061,\n",
       "        45.73500061,  45.73500061,  45.73500061,  45.73500061,\n",
       "        45.73500061,  45.73500061,  45.73500061,  45.73500061,\n",
       "        45.73500061,  45.73500061,  45.73500061,  45.73500061], dtype=float32)"
      ]
     },
     "execution_count": 214,
     "metadata": {},
     "output_type": "execute_result"
    }
   ],
   "source": [
    "couple_3_enfants_aefa = simulation.calculate_add('aefa')/12\n",
    "couple_3_enfants_aefa"
   ]
  },
  {
   "cell_type": "code",
   "execution_count": 215,
   "metadata": {
    "collapsed": false
   },
   "outputs": [
    {
     "data": {
      "text/plain": [
       "array([    0.        ,     0.        ,     0.        ,     0.        ,\n",
       "           0.        ,   219.29823303,     0.        ,     0.        ,\n",
       "           0.        ,     0.        ,   438.59646606,     0.        ,\n",
       "           0.        ,     0.        ,     0.        ,   657.89471436,\n",
       "           0.        ,     0.        ,     0.        ,     0.        ,\n",
       "         877.19293213,     0.        ,     0.        ,     0.        ,\n",
       "           0.        ,  1096.49121094,     0.        ,     0.        ,\n",
       "           0.        ,     0.        ,  1315.78942871,     0.        ,\n",
       "           0.        ,     0.        ,     0.        ,  1535.08776855,\n",
       "           0.        ,     0.        ,     0.        ,     0.        ,\n",
       "        1754.38586426,     0.        ,     0.        ,     0.        ,\n",
       "           0.        ,  1973.6842041 ,     0.        ,     0.        ,\n",
       "           0.        ,     0.        ,  2192.98242188,     0.        ,\n",
       "           0.        ,     0.        ,     0.        ,  2412.28076172,\n",
       "           0.        ,     0.        ,     0.        ,     0.        ,\n",
       "        2631.57885742,     0.        ,     0.        ,     0.        ,\n",
       "           0.        ,  2850.87719727,     0.        ,     0.        ,\n",
       "           0.        ,     0.        ,  3070.17553711,     0.        ,\n",
       "           0.        ,     0.        ,     0.        ,  3289.47363281,\n",
       "           0.        ,     0.        ,     0.        ,     0.        ,\n",
       "        3508.77172852,     0.        ,     0.        ,     0.        ,\n",
       "           0.        ,  3728.0703125 ,     0.        ,     0.        ,\n",
       "           0.        ,     0.        ,  3947.3684082 ,     0.        ,\n",
       "           0.        ,     0.        ,     0.        ,  4166.66650391,\n",
       "           0.        ,     0.        ,     0.        ,     0.        ], dtype=float32)"
      ]
     },
     "execution_count": 215,
     "metadata": {},
     "output_type": "execute_result"
    }
   ],
   "source": [
    "couple_3_enfants_salaire_de_base = simulation.calculate_add('salaire_de_base')/12\n",
    "couple_3_enfants_salaire_de_base"
   ]
  },
  {
   "cell_type": "code",
   "execution_count": 216,
   "metadata": {
    "collapsed": false
   },
   "outputs": [
    {
     "data": {
      "text/plain": [
       "[0.0,\n",
       " 219.29823,\n",
       " 438.59647,\n",
       " 657.89471,\n",
       " 877.19293,\n",
       " 1096.4912,\n",
       " 1315.7894,\n",
       " 1535.0878,\n",
       " 1754.3859,\n",
       " 1973.6842,\n",
       " 2192.9824,\n",
       " 2412.2808,\n",
       " 2631.5789,\n",
       " 2850.8772,\n",
       " 3070.1755,\n",
       " 3289.4736,\n",
       " 3508.7717,\n",
       " 3728.0703,\n",
       " 3947.3684,\n",
       " 4166.6665]"
      ]
     },
     "execution_count": 216,
     "metadata": {},
     "output_type": "execute_result"
    }
   ],
   "source": [
    "# Cette manipulation permet d'égaliser la longueur des 2 tableaux (aefa et salaire de base)\n",
    "c_3_enfants_salaire_de_base = []\n",
    "i = 0\n",
    "while (i < len(couple_3_enfants_salaire_de_base)):\n",
    "    somme = 0\n",
    "    valeur_1 = couple_3_enfants_salaire_de_base[i]\n",
    "    i = i + 1\n",
    "    valeur_2 = couple_3_enfants_salaire_de_base[i]\n",
    "    i = i + 1\n",
    "    valeur_3 = couple_3_enfants_salaire_de_base[i]   \n",
    "    i = i + 1\n",
    "    valeur_4 = couple_3_enfants_salaire_de_base[i] \n",
    "    i = i + 1\n",
    "    valeur_5 = couple_3_enfants_salaire_de_base[i]    \n",
    "    somme = valeur_1 + valeur_2 + valeur_3 + valeur_4 + valeur_5\n",
    "    c_3_enfants_salaire_de_base.append(somme)\n",
    "    i = i + 1\n",
    "    \n",
    "c_3_enfants_salaire_de_base"
   ]
  },
  {
   "cell_type": "code",
   "execution_count": 217,
   "metadata": {
    "collapsed": false
   },
   "outputs": [
    {
     "data": {
      "text/plain": [
       "<matplotlib.legend.Legend at 0x7fcc10afe550>"
      ]
     },
     "execution_count": 217,
     "metadata": {},
     "output_type": "execute_result"
    },
    {
     "data": {
      "image/png": "[encoded data removed]",
      "text/plain": [
       "<matplotlib.figure.Figure at 0x7fcc0d58e050>"
      ]
     },
     "metadata": {},
     "output_type": "display_data"
    }
   ],
   "source": [
    "plt.plot(individu_sans_enfant_salaire_de_base, individu_sans_enfant_aefa, label=\"Personne seule sans enfant\")\n",
    "plt.plot(i_1_enfant_salaire_de_base, individu_1_enfant_aefa, label=\"Personne seule avec 1 enfant\")\n",
    "plt.plot(i_2_enfants_salaire_de_base, individu_2_enfants_aefa, label=\"Personne seule avec 2 enfants\")\n",
    "plt.plot(i_3_enfants_salaire_de_base, individu_3_enfants_aefa, label=\"Personne seule avec 3 enfants\")\n",
    "plt.xlabel(u'Salaire de base (€/mois)')\n",
    "plt.ylabel(u'aefa (€/mois)')\n",
    "plt.title(u'aefa - Personne seule')\n",
    "plt.legend(loc = 0, shadow=True, fancybox=True)"
   ]
  },
  {
   "cell_type": "code",
   "execution_count": 218,
   "metadata": {
    "collapsed": false
   },
   "outputs": [
    {
     "data": {
      "text/plain": [
       "<matplotlib.legend.Legend at 0x7fcc128d6e10>"
      ]
     },
     "execution_count": 218,
     "metadata": {},
     "output_type": "execute_result"
    },
    {
     "data": {
      "image/png": "[encoded data removed]",
      "text/plain": [
       "<matplotlib.figure.Figure at 0x7fcc0e134bd0>"
      ]
     },
     "metadata": {},
     "output_type": "display_data"
    }
   ],
   "source": [
    "plt.plot(c_sans_enfant_salaire_de_base, couple_sans_enfant_aefa, label=\"Couple sans enfant\")\n",
    "plt.plot(c_1_enfant_salaire_de_base, couple_1_enfant_aefa, label=\"Couple avec 1 enfant\")\n",
    "plt.plot(c_2_enfants_salaire_de_base, couple_2_enfants_aefa, label=\"Couple avec 2 enfants\")\n",
    "plt.plot(c_3_enfants_salaire_de_base, couple_3_enfants_aefa, label=\"Couple avec 3 enfants\")\n",
    "plt.xlabel(u'Salaire de base (€/mois)')\n",
    "plt.ylabel(u'aefa (€/mois)')\n",
    "plt.title(u'aefa - Couple')\n",
    "plt.legend(loc = 0, shadow=True, fancybox=True)"
   ]
  },
  {
   "cell_type": "code",
   "execution_count": null,
   "metadata": {
    "collapsed": true
   },
   "outputs": [],
   "source": []
  }
 ],
 "metadata": {
  "kernelspec": {
   "display_name": "Python 2",
   "language": "python",
   "name": "python2"
  },
  "language_info": {
   "codemirror_mode": {
    "name": "ipython",
    "version": 2
   },
   "file_extension": ".py",
   "mimetype": "text/x-python",
   "name": "python",
   "nbconvert_exporter": "python",
   "pygments_lexer": "ipython2",
   "version": "2.7.9"
  }
 },
 "nbformat": 4,
 "nbformat_minor": 1
}
