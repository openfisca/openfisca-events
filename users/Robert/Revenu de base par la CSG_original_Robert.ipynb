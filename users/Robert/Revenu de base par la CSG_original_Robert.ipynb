{
 "cells": [
  {
   "cell_type": "code",
   "execution_count": null,
   "metadata": {
    "collapsed": false
   },
   "outputs": [],
   "source": [
    "from datetime import date\n",
    "import json\n",
    "\n",
    "import openfisca_france\n",
    "from openfisca_france.model.base import *\n",
    "\n",
    "#importer numpy permet de coler deux sections de courbes (nécessaire quand on fait varier le salaire de base en-dessous du SMIC mensuel)\n",
    "import numpy as np\n",
    "\n",
    "# to debug / trace\n",
    "from openfisca_core import tools\n",
    "from openfisca_core.reforms import Reform"
   ]
  },
  {
   "cell_type": "markdown",
   "metadata": {},
   "source": [
    "# Système socio-fiscal"
   ]
  },
  {
   "cell_type": "code",
   "execution_count": 2,
   "metadata": {
    "collapsed": false
   },
   "outputs": [],
   "source": [
    "tax_benefit_system = openfisca_france.FranceTaxBenefitSystem()"
   ]
  },
  {
   "cell_type": "code",
   "execution_count": 3,
   "metadata": {
    "collapsed": false
   },
   "outputs": [],
   "source": [
    "from numpy import logical_not as not_, minimum as min_, maximum as max_, logical_and as and_, logical_or as or_\n",
    "#- Hausse de la CSG déductible au taux de 23%\n",
    "#- Mise en place d'un revenu de base adulte égal à RSA socle célibataire - forfait logement célibataire\n",
    "#- Intégrer le revenu de base au revenu disponible\n",
    "#- Mise en place d'un crédit d'impot familles monoparentales montant ??? (50€)\n",
    "#- Supprimer le RSA\n",
    "\n",
    "\n",
    "#-Visualisation graphique en abscisse salaire brut et en ordonnée variation du revenu disponible \n",
    "# pour un célibataire sans enfant\n",
    "# pour un couple sans enfant\n",
    "# une famille monoparentale\n",
    "\n",
    "\n",
    "#(- Nouveau calcul de l'IRPP)\n"
   ]
  },
  {
   "cell_type": "code",
   "execution_count": 5,
   "metadata": {
    "collapsed": false
   },
   "outputs": [],
   "source": [
    "#- Hausse de la CSG déductible au taux de 23%\n",
    "#montant_csg_crds calcul à partir csg.activite.deductible.taux\n",
    "\n",
    "def modify_legislation_json(reference_legislation_json_copy):\n",
    "    for value_json in reference_legislation_json_copy['children']['csg']['children']['activite']['children']['deductible']['children']['taux']['values']:\n",
    "        value_json['value'] = 0.23\n",
    "    return reference_legislation_json_copy"
   ]
  },
  {
   "cell_type": "markdown",
   "metadata": {},
   "source": [
    "# Réforme : 1. Revenu de base par CSG"
   ]
  },
  {
   "cell_type": "code",
   "execution_count": 6,
   "metadata": {
    "collapsed": false
   },
   "outputs": [],
   "source": [
    "#- Mise en place d'un revenu de base adulte égal à RSA socle célibataire - forfait logement célibataire\n",
    "\n",
    "class rdb(Variable):\n",
    "    column = FloatCol\n",
    "    entity_class = Individus\n",
    "    label = u\"Revenu de base\"\n",
    "\n",
    "    def function(self, simulation, period):\n",
    "        period = period.start.offset('first-of', 'month').period('month')\n",
    "        age = simulation.calculate('age') \n",
    "        rmi = simulation.legislation_at(period.start).minim.rmi\n",
    "        \n",
    "        return period, ((age >= 18) * rmi.rmi * ( 1 -rmi.forfait_logement.taux1) + not_(age >= 18) * 0)"
   ]
  },
  {
   "cell_type": "code",
   "execution_count": 7,
   "metadata": {
    "collapsed": false
   },
   "outputs": [],
   "source": [
    "# On enlève les enfants du calcul du nbptr (quotient_familial.enf*)\n",
    "class nbptr(Variable):\n",
    "    def function(self, simulation, period):\n",
    "        '''\n",
    "        Nombre de parts du foyer\n",
    "        'foy'\n",
    "        note 1 enfants et résidence alternée (formulaire 2041 GV page 10)\n",
    "\n",
    "        quotient_familial.conj : nb part associées au conjoint d'un couple marié ou pacsé\n",
    "        quotient_familial.enf1 : nb part 2 premiers enfants\n",
    "        quotient_familial.enf2 : nb part enfants de rang 3 ou plus\n",
    "        quotient_familial.inv1 : nb part supp enfants invalides (I, G)\n",
    "        quotient_familial.inv2 : nb part supp adultes invalides (R)\n",
    "        quotient_familial.not31 : nb part supp note 3 : cases W ou G pour veuf, celib ou div\n",
    "        quotient_familial.not32 : nb part supp note 3 : personne seule ayant élevé des enfants\n",
    "        quotient_familial.not41 : nb part supp adultes invalides (vous et/ou conjoint) note 4\n",
    "        quotient_familial.not42 : nb part supp adultes anciens combattants (vous et/ou conjoint) note 4\n",
    "        quotient_familial.not6 : nb part supp note 6\n",
    "        quotient_familial.isol : demi-part parent isolé (T)\n",
    "        quotient_familial.edcd : enfant issu du mariage avec conjoint décédé;\n",
    "        '''\n",
    "        period = period.start.offset('first-of', 'month').period('year')\n",
    "        nb_pac = simulation.calculate('nb_pac', period)\n",
    "        maries_ou_pacses = simulation.calculate('maries_ou_pacses', period)\n",
    "        celibataire_ou_divorce = simulation.calculate('celibataire_ou_divorce', period)\n",
    "        veuf = simulation.calculate('veuf', period)\n",
    "        jeune_veuf = simulation.calculate('jeune_veuf', period)\n",
    "        nbF = simulation.calculate('nbF', period)\n",
    "        nbG = simulation.calculate('nbG', period)\n",
    "        nbH = simulation.calculate('nbH', period)\n",
    "        nbI = simulation.calculate('nbI', period)\n",
    "        nbR = simulation.calculate('nbR', period)\n",
    "        nbJ = simulation.calculate('nbJ', period)\n",
    "        caseP = simulation.calculate('caseP', period)\n",
    "        caseW = simulation.calculate('caseW', period)\n",
    "        caseG = simulation.calculate('caseG', period)\n",
    "        caseE = simulation.calculate('caseE', period)\n",
    "        caseK = simulation.calculate('caseK', period)\n",
    "        caseN = simulation.calculate('caseN', period)\n",
    "        caseF = simulation.calculate('caseF', period)\n",
    "        caseS = simulation.calculate('caseS', period)\n",
    "        caseL = simulation.calculate('caseL', period)\n",
    "        caseT = simulation.calculate('caseT', period)\n",
    "        quotient_familial = simulation.legislation_at(period.start).ir.quotient_familial\n",
    "\n",
    "        no_pac = nb_pac == 0  # Aucune personne à charge en garde exclusive\n",
    "        has_pac = not_(no_pac)\n",
    "        no_alt = nbH == 0  # Aucun enfant à charge en garde alternée\n",
    "        has_alt = not_(no_alt)\n",
    "\n",
    "        # # nombre de parts liées aux enfants à charge\n",
    "        # que des enfants en résidence alternée\n",
    "        enf1 = (no_pac & has_alt) * (quotient_familial.enf1 * min_(nbH, 2) * 0.5\n",
    "                                     + quotient_familial.enf2 * max_(nbH - 2, 0) * 0.5)\n",
    "        # pas que des enfants en résidence alternée\n",
    "        enf2 = (has_pac & has_alt) * ((nb_pac == 1) * (quotient_familial.enf1 * min_(nbH, 1) * 0.5\n",
    "            + quotient_familial.enf2 * max_(nbH - 1, 0) * 0.5) + (nb_pac > 1) * (quotient_familial.enf2 * nbH * 0.5))\n",
    "        # pas d'enfant en résidence alternée\n",
    "        enf3 = quotient_familial.enf1 * min_(nb_pac, 2) + quotient_familial.enf2 * max_((nb_pac - 2), 0)\n",
    "\n",
    "        enf = enf1 + enf2 + enf3\n",
    "        # # note 2 : nombre de parts liées aux invalides (enfant + adulte)\n",
    "        n2 = quotient_familial.inv1 * (nbG + nbI / 2) + quotient_familial.inv2 * nbR\n",
    "\n",
    "        # # note 3 : Pas de personne à charge\n",
    "        # - invalide\n",
    "\n",
    "        n31a = quotient_familial.not31a * (no_pac & no_alt & caseP)\n",
    "        # - ancien combatant\n",
    "        n31b = quotient_familial.not31b * (no_pac & no_alt & (caseW | caseG))\n",
    "        n31 = max_(n31a, n31b)\n",
    "        # - personne seule ayant élevé des enfants\n",
    "        n32 = quotient_familial.not32 * (no_pac & no_alt & ((caseE | caseK) & not_(caseN)))\n",
    "        n3 = max_(n31, n32)\n",
    "        # # note 4 Invalidité de la personne ou du conjoint pour les mariés ou\n",
    "        # # jeunes veuf(ve)s\n",
    "        n4 = max_(quotient_familial.not41 * (1 * caseP + 1 * caseF), quotient_familial.not42 * (caseW | caseS))\n",
    "\n",
    "        # # note 5\n",
    "        #  - enfant du conjoint décédé\n",
    "        n51 = quotient_familial.cdcd * (caseL & ((nbF + nbJ) > 0))\n",
    "        #  - enfant autre et parent isolé\n",
    "        n52 = quotient_familial.isol * caseT * (((no_pac & has_alt) * ((nbH == 1) * 0.5 + (nbH >= 2))) + 1 * has_pac)\n",
    "        n5 = max_(n51, n52)\n",
    "\n",
    "        # # note 6 invalide avec personne à charge\n",
    "        n6 = quotient_familial.not6 * (caseP & (has_pac | has_alt))\n",
    "\n",
    "        # # note 7 Parent isolé\n",
    "        n7 = quotient_familial.isol * caseT * ((no_pac & has_alt) * ((nbH == 1) * 0.5 + (nbH >= 2)) + 1 * has_pac)\n",
    "\n",
    "        # # Régime des mariés ou pacsés\n",
    "        #m = 1 + quotient_familial.conj + enf + n2 + n4\n",
    "        m = 1 + quotient_familial.conj + n2 + n4\n",
    "        \n",
    "        # # veufs  hors jeune_veuf\n",
    "        # v = 1 + enf + n2 + n3 + n5 + n6\n",
    "        v = 1 + n2 + n3 + n5 + n6\n",
    "        \n",
    "        # # celib div\n",
    "        #c = 1 + enf + n2 + n3 + n6 + n7\n",
    "        c = 1 + n2 + n3 + n6 + n7\n",
    "\n",
    "        return period, (maries_ou_pacses | jeune_veuf) * m + (veuf & not_(jeune_veuf)) * v + celibataire_ou_divorce * c\n"
   ]
  },
  {
   "cell_type": "code",
   "execution_count": 8,
   "metadata": {
    "collapsed": true
   },
   "outputs": [],
   "source": [
    "# Suppression des allocations familiales\n",
    "\n",
    "class af(Variable):\n",
    "    def function(self, simulation, period):\n",
    "        period = period.this_month\n",
    "        af_base = simulation.calculate('af_base', period)\n",
    "        af_majoration = simulation.calculate('af_majoration', period)\n",
    "        af_allocation_forfaitaire = simulation.calculate('af_allocation_forfaitaire', period)\n",
    "\n",
    "        #return period, af_base + af_majoration + af_allocation_forfaitaire\n",
    "        return period, af_base * 0"
   ]
  },
  {
   "cell_type": "code",
   "execution_count": 9,
   "metadata": {
    "collapsed": true
   },
   "outputs": [],
   "source": [
    "from numpy import round\n",
    "\n",
    "# Suppression du complément familial\n",
    "\n",
    "class cf(Variable):\n",
    "    def function(self, simulation, period):\n",
    "        '''\n",
    "        L'allocation de base de la paje n'est pas cumulable avec le complément familial\n",
    "        '''\n",
    "        period = period.this_month\n",
    "        paje_base = simulation.calculate('paje_base', period)\n",
    "        apje_avant_cumul = simulation.calculate('apje_avant_cumul', period)\n",
    "        ape_avant_cumul = simulation.calculate('ape_avant_cumul', period)\n",
    "        cf_montant = simulation.calculate('cf_montant', period)\n",
    "        residence_mayotte = simulation.calculate('residence_mayotte', period)\n",
    "\n",
    "        cf_brut = not_(paje_base) * (apje_avant_cumul <= cf_montant) * (ape_avant_cumul <= cf_montant) * cf_montant\n",
    "        # return period, not_(residence_mayotte) * round(cf_brut, 2)\n",
    "        return period, not_(residence_mayotte) * round(cf_brut, 2) * 0"
   ]
  },
  {
   "cell_type": "code",
   "execution_count": null,
   "metadata": {
    "collapsed": true
   },
   "outputs": [],
   "source": [
    "# Suppression de l'allocation de rentrée scolaire\n",
    "\n",
    "class ars(Variable):\n",
    "    def function(self, simulation, period):\n",
    "        '''\n",
    "        Allocation de rentrée scolaire brute de CRDS\n",
    "        '''\n",
    "        period_br = period.this_year\n",
    "        return period_br, self.zeros()"
   ]
  },
  {
   "cell_type": "code",
   "execution_count": null,
   "metadata": {
    "collapsed": true
   },
   "outputs": [],
   "source": [
    "# Création d'un revenu de base enfant - Version individus au niveau des allocations familliales actuelles\n",
    "\n",
    "class rdb_enf(Variable):\n",
    "    column = FloatCol\n",
    "    entity_class = Individus\n",
    "    label = u\"Revenu de base enfant\"\n",
    "\n",
    "    def function(self, simulation, period):\n",
    "        period = period.start.offset('first-of', 'month').period('month')\n",
    "        age = simulation.calculate('age')\n",
    "        P = simulation.legislation_at(period.start).fam.af        \n",
    "        bmaf = P.bmaf\n",
    "        \n",
    "        return period, ((age < 14) * 0.41 + not_(age < 14) * 0.57) * bmaf * (age <= 18)"
   ]
  },
  {
   "cell_type": "code",
   "execution_count": null,
   "metadata": {
    "collapsed": false
   },
   "outputs": [],
   "source": [
    "#- Mise en place d'un crédit d'impot familles monoparentales montant (150€)\n",
    "class credit_impot_monoparentales(Variable):\n",
    "    column = FloatCol\n",
    "    entity_class = Menages\n",
    "    label = u\"credit_impot_monoparentales\"\n",
    "\n",
    "    def function(self, simulation, period):\n",
    "        period = period.start.offset('first-of', 'month').period('month')\n",
    "        enfant_a_charge_holder = simulation.compute('enfant_a_charge', period)\n",
    "        enfant_a_charge = self.sum_by_entity(enfant_a_charge_holder)\n",
    "        caseT = simulation.calculate('caseT', period) #Egal True si le parent est isolé\n",
    "      \n",
    "        #return period, or_(and_(age_holder >= 18, nb_enf_a_charge > 0, caseT), or_(age_holder < 18, nb_enf_a_charge <= 0, not_(caseT)) * 0) * 100\n",
    "        return period, (enfant_a_charge > 0) * caseT * 150\n",
    "    #Si le parent est isolé, avec au moins un enfant, et qu'il est majeur il reçoit la pension"
   ]
  },
  {
   "cell_type": "code",
   "execution_count": null,
   "metadata": {
    "collapsed": false
   },
   "outputs": [],
   "source": [
    "#- Supprimer le RSA\n",
    "class rsa_socle(Variable):\n",
    "    def function(self, simulation, period):\n",
    "        period = period.this_month\n",
    "        nb_parents = simulation.calculate('nb_parents', period)\n",
    "        eligib = simulation.calculate('rsa_eligibilite', period)\n",
    "        rsa_nb_enfants = simulation.calculate('rsa_nb_enfants', period)\n",
    "        rmi = simulation.legislation_at(period.start).minim.rmi\n",
    "\n",
    "        nbp = nb_parents + rsa_nb_enfants\n",
    "\n",
    "        taux = (\n",
    "            1 +\n",
    "            (nbp >= 2) * rmi.txp2 +\n",
    "            (nbp >= 3) * rmi.txp3 +\n",
    "            (nbp >= 4) * ((nb_parents == 1) * rmi.txps + (nb_parents != 1) * rmi.txp3) +\n",
    "            max_(nbp - 4, 0) * rmi.txps\n",
    "        )\n",
    "        #on met à zéro\n",
    "        return period, eligib * rmi.rmi * taux * 0"
   ]
  },
  {
   "cell_type": "code",
   "execution_count": null,
   "metadata": {
    "collapsed": true
   },
   "outputs": [],
   "source": [
    "#- Intégrer le revenu de base au revenu disponible\n",
    "class revdisp(Variable):\n",
    "    def function(self, simulation, period):\n",
    "        '''\n",
    "        Revenu disponible - ménage\n",
    "        'men'\n",
    "        '''\n",
    "        period = period.start.period('year').offset('first-of')\n",
    "        rev_trav_holder = simulation.compute('rev_trav', period)\n",
    "        pen_holder = simulation.compute('pen', period)\n",
    "        rev_cap_holder = simulation.compute('rev_cap', period)\n",
    "        psoc_holder = simulation.compute('psoc', period)\n",
    "        ppe_holder = simulation.compute('ppe', period)\n",
    "        impo = simulation.calculate('impo', period)\n",
    "        rdb_holder = simulation.calculate_add('rdb', period)\n",
    "        credit_impot_familles_holder = simulation.calculate_add('credit_impot_monoparentales', period)\n",
    "        rdb_enf_holder = simulation.calculate_add('rdb_enf', period)\n",
    "\n",
    "        pen = self.sum_by_entity(pen_holder)\n",
    "        ppe = self.cast_from_entity_to_role(ppe_holder, role = VOUS)\n",
    "        ppe = self.sum_by_entity(ppe)\n",
    "        psoc = self.cast_from_entity_to_role(psoc_holder, role = CHEF)\n",
    "        psoc = self.sum_by_entity(psoc)\n",
    "        rev_cap = self.sum_by_entity(rev_cap_holder)\n",
    "        rev_trav = self.sum_by_entity(rev_trav_holder)\n",
    "        rdb = self.sum_by_entity(rdb_holder)\n",
    "        rdb_enf = self.sum_by_entity(rdb_enf_holder)\n",
    "        \n",
    "        return period, rev_trav + pen + rev_cap + psoc + ppe + impo + rdb + credit_impot_familles_holder + rdb_enf"
   ]
  },
  {
   "cell_type": "code",
   "execution_count": null,
   "metadata": {
    "collapsed": false
   },
   "outputs": [],
   "source": [
    "class ReformeRevenuDeBaseparCSG(Reform):\n",
    "    name = u\"Réforme Revenu de base par CSG\"\n",
    "\n",
    "    def apply(self):\n",
    "        for variable in [rdb, nbptr, af, cf, ars, rdb_enf, credit_impot_monoparentales, rsa_socle, revdisp]:\n",
    "            self.update_variable(variable)\n",
    "        self.modify_legislation_json(modifier_function = modify_legislation_json)"
   ]
  },
  {
   "cell_type": "markdown",
   "metadata": {},
   "source": [
    "# Tests"
   ]
  },
  {
   "cell_type": "code",
   "execution_count": null,
   "metadata": {
    "collapsed": false
   },
   "outputs": [],
   "source": [
    "reform = ReformeRevenuDeBaseparCSG(tax_benefit_system)"
   ]
  },
  {
   "cell_type": "code",
   "execution_count": null,
   "metadata": {
    "collapsed": false
   },
   "outputs": [],
   "source": [
    "parent1_salaire_de_base = 3431.16"
   ]
  },
  {
   "cell_type": "code",
   "execution_count": null,
   "metadata": {
    "collapsed": false
   },
   "outputs": [],
   "source": [
    "scenario_ref_individu_seul = tax_benefit_system.new_scenario().init_single_entity(\n",
    "    period = 2016,\n",
    "    parent1 = dict(\n",
    "        date_naissance = date(1980, 1, 1),\n",
    "        salaire_de_base = parent1_salaire_de_base,\n",
    "        statut_marital = u'Célibataire',\n",
    "        ),\n",
    "    foyer_fiscal = dict(\n",
    "        caseT = True,        \n",
    "        ),\n",
    "    enfants = [\n",
    "        dict(\n",
    "            date_naissance = date(2010, 1, 1),\n",
    "           ),\n",
    "        ],\n",
    "    )"
   ]
  },
  {
   "cell_type": "code",
   "execution_count": null,
   "metadata": {
    "collapsed": false
   },
   "outputs": [],
   "source": [
    "simulation_ref_individu_seul = scenario_ref_individu_seul.new_simulation(debug = True)"
   ]
  },
  {
   "cell_type": "code",
   "execution_count": null,
   "metadata": {
    "collapsed": false
   },
   "outputs": [],
   "source": [
    "scenario_rdb_individu_seul = reform.new_scenario().init_single_entity(\n",
    "    period = 2014,\n",
    "    parent1 = dict(\n",
    "        date_naissance = date(1980, 1, 1),\n",
    "        salaire_de_base = parent1_salaire_de_base,\n",
    "        statut_marital = u'Célibataire',\n",
    "        ),\n",
    "    foyer_fiscal = dict(\n",
    "        caseT = True,\n",
    "                ),\n",
    "    enfants = [\n",
    "        dict(\n",
    "            date_naissance = date(2010, 1, 1),\n",
    "            ),\n",
    "        ],\n",
    "    )"
   ]
  },
  {
   "cell_type": "code",
   "execution_count": null,
   "metadata": {
    "collapsed": false
   },
   "outputs": [],
   "source": [
    "simulation_rdb_individu_seul = scenario_rdb_individu_seul.new_simulation(debug = True)"
   ]
  },
  {
   "cell_type": "markdown",
   "metadata": {},
   "source": [
    "Calculs de référence (revenu disponible, IR, RSA, CSG imposable/deductible, impot total) "
   ]
  },
  {
   "cell_type": "code",
   "execution_count": null,
   "metadata": {
    "collapsed": false
   },
   "outputs": [],
   "source": [
    "simulation_ref_individu_seul.calculate('revdisp')"
   ]
  },
  {
   "cell_type": "code",
   "execution_count": null,
   "metadata": {
    "collapsed": false
   },
   "outputs": [],
   "source": [
    "simulation_ref_individu_seul.calculate('irpp')"
   ]
  },
  {
   "cell_type": "code",
   "execution_count": null,
   "metadata": {
    "collapsed": false
   },
   "outputs": [],
   "source": [
    "df_rsa_ref = simulation_ref_individu_seul.calculate_add('rsa')\n",
    "print round(df_rsa_ref /12,0), \" par mois\"\n",
    "\n",
    "from openfisca_core import tools\n",
    "print(tools.get_trace_tool_link(scenario_ref_individu_seul, ['rsa'], api_url='http://api.openfisca.fr/', trace_tool_url='http://www.openfisca.fr/tools/trace'))"
   ]
  },
  {
   "cell_type": "code",
   "execution_count": null,
   "metadata": {
    "collapsed": false
   },
   "outputs": [],
   "source": [
    "simulation_ref_individu_seul.calculate_add('rsa_activite')/12"
   ]
  },
  {
   "cell_type": "code",
   "execution_count": null,
   "metadata": {
    "collapsed": false
   },
   "outputs": [],
   "source": [
    "simulation_ref_individu_seul.calculate_add('rsa_socle')"
   ]
  },
  {
   "cell_type": "code",
   "execution_count": null,
   "metadata": {
    "collapsed": false
   },
   "outputs": [],
   "source": [
    "simulation_ref_individu_seul.calculate_add('rmi')"
   ]
  },
  {
   "cell_type": "code",
   "execution_count": null,
   "metadata": {
    "collapsed": false
   },
   "outputs": [],
   "source": [
    "simulation_ref_individu_seul.calculate_add('ppa')"
   ]
  },
  {
   "cell_type": "code",
   "execution_count": null,
   "metadata": {
    "collapsed": false
   },
   "outputs": [],
   "source": [
    "simulation_ref_individu_seul.calculate_add('asf')/12"
   ]
  },
  {
   "cell_type": "code",
   "execution_count": null,
   "metadata": {
    "collapsed": false
   },
   "outputs": [],
   "source": [
    "df_paje = simulation_ref_individu_seul.calculate('paje')\n",
    "print round(df_paje,2)"
   ]
  },
  {
   "cell_type": "code",
   "execution_count": null,
   "metadata": {
    "collapsed": false
   },
   "outputs": [],
   "source": [
    "# simulation_ref_individu_seul.calculate('csg_imposable_salaire')"
   ]
  },
  {
   "cell_type": "code",
   "execution_count": null,
   "metadata": {
    "collapsed": false
   },
   "outputs": [],
   "source": [
    "#simulation_ref_individu_seul.calculate('csg_deductible_salaire')"
   ]
  },
  {
   "cell_type": "code",
   "execution_count": null,
   "metadata": {
    "collapsed": false
   },
   "outputs": [],
   "source": [
    "simulation_ref_individu_seul.calculate('tot_impot')"
   ]
  },
  {
   "cell_type": "code",
   "execution_count": null,
   "metadata": {
    "collapsed": false
   },
   "outputs": [],
   "source": [
    "simulation_ref_individu_seul.calculate('asf') /12"
   ]
  },
  {
   "cell_type": "markdown",
   "metadata": {},
   "source": [
    "Contrôle sur les minima sociaux"
   ]
  },
  {
   "cell_type": "code",
   "execution_count": null,
   "metadata": {
    "collapsed": false
   },
   "outputs": [],
   "source": [
    "df_aspa_ref = simulation_ref_individu_seul.calculate('aspa')\n",
    "df_aah_ref = simulation_ref_individu_seul.calculate('aah')\n",
    "df_caah_ref = simulation_ref_individu_seul.calculate('caah')\n",
    "df_asi_ref = simulation_ref_individu_seul.calculate('asi')\n",
    "df_rsa_ref = simulation_ref_individu_seul.calculate('rsa')\n",
    "df_aefa_ref = simulation_ref_individu_seul.calculate('aefa')\n",
    "df_api_ref = simulation_ref_individu_seul.calculate('api')\n",
    "df_ass_ref = simulation_ref_individu_seul.calculate('ass')\n",
    "df_psa_ref = simulation_ref_individu_seul.calculate('psa')\n",
    "df_ppa_ref = simulation_ref_individu_seul.calculate('ppa')\n",
    "df_mini_ref = simulation_ref_individu_seul.calculate('mini')\n",
    "\n",
    "tot_mini_ref = df_aspa_ref + df_aah_ref + df_caah_ref + df_asi_ref + df_rsa_ref + df_aefa_ref + df_api_ref + df_ass_ref + df_ppa_ref\n",
    "print \"Montants annuels             mensuels\"\n",
    "print \"aspa  \", df_aspa_ref\n",
    "print \"aah   \", df_aah_ref\n",
    "print \"caah  \", df_caah_ref\n",
    "print \"asi   \", df_asi_ref\n",
    "print \"rsa   \", df_rsa_ref, \"   \", df_rsa_ref / 12\n",
    "print \"aefa  \", df_aefa_ref\n",
    "print \"api   \", df_api_ref\n",
    "print \"ass   \", df_ass_ref\n",
    "print \"psa   \", df_psa_ref\n",
    "print \"ppa   \", df_ppa_ref, \"   \", df_ppa_ref / 12\n",
    "print \"Total \", tot_mini_ref[0]\n",
    "print \"Minima\", df_mini_ref\n",
    "\n",
    "if tot_mini_ref[0] == df_mini_ref[0]:\n",
    "    print \"   ok, égalité vérifiée  \"\n",
    "\n"
   ]
  },
  {
   "cell_type": "code",
   "execution_count": null,
   "metadata": {
    "collapsed": false
   },
   "outputs": [],
   "source": [
    "df_ppa_ref = simulation_ref_individu_seul.calculate('ppa')\n",
    "print df_ppa_ref"
   ]
  },
  {
   "cell_type": "code",
   "execution_count": null,
   "metadata": {
    "collapsed": false
   },
   "outputs": [],
   "source": [
    "i = 0\n",
    "parent1_salaire_de_base = 10000\n",
    "\n",
    "#print \"ppa\",\"  \", \"salaire\",\n",
    "\n",
    "while i < 24: \n",
    "    simulation_ref_individu_seul.calculate('ppa')\n",
    "    parent1_salaire_de_base = parent1_salaire_de_base + 1000\n",
    "    salaire_de_base = parent1_salaire_de_base\n",
    "   \n",
    "    print df_ppa_ref[0], \"    \", round(parent1_salaire_de_base)\n",
    "    i = i + 1"
   ]
  },
  {
   "cell_type": "markdown",
   "metadata": {},
   "source": [
    "Calculs avec réforme RDB (revenu disponible, IR, RSA, CSG imposable/deductible, impot total) "
   ]
  },
  {
   "cell_type": "code",
   "execution_count": null,
   "metadata": {
    "collapsed": false
   },
   "outputs": [],
   "source": [
    "simulation_rdb_individu_seul.calculate('revdisp')"
   ]
  },
  {
   "cell_type": "code",
   "execution_count": null,
   "metadata": {
    "collapsed": false
   },
   "outputs": [],
   "source": [
    "simulation_rdb_individu_seul.calculate('irpp')"
   ]
  },
  {
   "cell_type": "code",
   "execution_count": null,
   "metadata": {
    "collapsed": false
   },
   "outputs": [],
   "source": [
    "simulation_rdb_individu_seul.calculate('csg_deductible_salaire')"
   ]
  },
  {
   "cell_type": "code",
   "execution_count": null,
   "metadata": {
    "collapsed": false
   },
   "outputs": [],
   "source": [
    "simulation_rdb_individu_seul.calculate('tot_impot')"
   ]
  },
  {
   "cell_type": "code",
   "execution_count": null,
   "metadata": {
    "collapsed": false
   },
   "outputs": [],
   "source": [
    "# trace\n",
    "simulation_rdb_individu_seul.calculate('tot_impot')\n",
    "#print web_tools.get_trace_tool_link(scenario, ['tot_impot'])"
   ]
  },
  {
   "cell_type": "code",
   "execution_count": null,
   "metadata": {
    "collapsed": false
   },
   "outputs": [],
   "source": [
    "simulation_rdb_individu_seul.calculate('rdb')\n",
    "from openfisca_core import tools\n",
    "print(tools.get_trace_tool_link(scenario_rdb_individu_seul, ['rdb'], api_url='http://api.openfisca.fr/', trace_tool_url='http://www.openfisca.fr/tools/trace'))"
   ]
  },
  {
   "cell_type": "code",
   "execution_count": null,
   "metadata": {
    "collapsed": false
   },
   "outputs": [],
   "source": [
    "simulation_rdb_individu_seul.calculate('rsa')"
   ]
  },
  {
   "cell_type": "markdown",
   "metadata": {},
   "source": []
  },
  {
   "cell_type": "code",
   "execution_count": null,
   "metadata": {
    "collapsed": false
   },
   "outputs": [],
   "source": [
    "i = 0\n",
    "print \"RD_Actuel\",\"  \", \"RD_Réforme\",\"  \", \"SB_Actuel\"\n",
    "\n",
    "while i < 24:                                                                                                 \n",
    "    print round(revenu_disponible_p2_e0_ref[i]),\"      \", round(revenu_disponible_p2_e0_rdb[i]), \"      \",   round(salaire_de_base_p2_e0_ref[i])\n",
    "    i = i + 1"
   ]
  },
  {
   "cell_type": "markdown",
   "metadata": {},
   "source": [
    "## Graphiques: scenario variant selon salaire_de_base (0 => 60k par palier de 5k)\n",
    "nb_pla = 5000\n",
    "min_salaire_de_base = 0\n",
    "max_salaire_de_base = 60000"
   ]
  },
  {
   "cell_type": "code",
   "execution_count": null,
   "metadata": {
    "collapsed": false
   },
   "outputs": [],
   "source": [
    "min_salaire_de_base = 0\n",
    "max_salaire_de_base = 40000\n",
    "pas =1000\n",
    "nb_palier = max_salaire_de_base / pas"
   ]
  },
  {
   "cell_type": "code",
   "execution_count": null,
   "metadata": {
    "collapsed": false
   },
   "outputs": [],
   "source": [
    "import matplotlib\n",
    "import matplotlib.pyplot as plt\n",
    "%matplotlib inline\n",
    "\n"
   ]
  },
  {
   "cell_type": "code",
   "execution_count": null,
   "metadata": {
    "collapsed": false
   },
   "outputs": [],
   "source": [
    "def make_two_parents_scenario(nombre_enfants = 1, year = None, tax_benefit_system = tax_benefit_system):\n",
    "    enfant = [dict(\n",
    "        date_naissance = date(2005, 1, 1),\n",
    "        )]\n",
    "    enfants = enfant * nombre_enfants\n",
    "    scenario = tax_benefit_system.new_scenario().init_single_entity(\n",
    "        axes = [[\n",
    "            dict(\n",
    "                count = nb_palier,\n",
    "                min = min_salaire_de_base,\n",
    "                max = max_salaire_de_base,\n",
    "                name = 'salaire_de_base',\n",
    "                period = year,            \n",
    "                ),\n",
    "            dict(\n",
    "                count = nb_palier,\n",
    "                min = min_salaire_de_base,\n",
    "                max = max_salaire_de_base,\n",
    "                name = 'salaire_de_base',\n",
    "                period = year-1,            \n",
    "                ),\n",
    "            dict(\n",
    "                count = nb_palier,\n",
    "                min = min_salaire_de_base,\n",
    "                max = max_salaire_de_base,\n",
    "                name = 'salaire_de_base',\n",
    "                period = year-2,            \n",
    "                )\n",
    "            ]],\n",
    "        period = year,\n",
    "        parent1 = dict(\n",
    "            date_naissance = date(1980, 1, 1),\n",
    "            ),\n",
    "        parent2 = dict(\n",
    "            date_naissance = date(1980, 1, 1),\n",
    "            ),\n",
    "        enfants = enfants,\n",
    "        menage = dict(\n",
    "            loyer = 5000,\n",
    "            statut_occupation_logement = 4,\n",
    "            ),\n",
    "        )\n",
    "    return scenario"
   ]
  },
  {
   "cell_type": "code",
   "execution_count": null,
   "metadata": {
    "collapsed": false
   },
   "outputs": [],
   "source": [
    "def make_one_parent_scenario(nombre_enfants = 0, year = None, tax_benefit_system = tax_benefit_system):\n",
    "    enfant = [dict(\n",
    "        date_naissance = date(2005, 1, 1),\n",
    "        )]\n",
    "    enfants = enfant * nombre_enfants\n",
    "    scenario = tax_benefit_system.new_scenario().init_single_entity(\n",
    "        axes = [[\n",
    "            dict(\n",
    "                count = nb_palier,\n",
    "                min = min_salaire_de_base,\n",
    "                max = max_salaire_de_base,\n",
    "                name = 'salaire_de_base',\n",
    "                period = year,            \n",
    "                ),\n",
    "            dict(\n",
    "                count = nb_palier,\n",
    "                min = min_salaire_de_base,\n",
    "                max = max_salaire_de_base,\n",
    "                name = 'salaire_de_base',\n",
    "                period = year-1,            \n",
    "                ),\n",
    "            dict(\n",
    "                count = nb_palier,\n",
    "                min = min_salaire_de_base,\n",
    "                max = max_salaire_de_base,\n",
    "                name = 'salaire_de_base',\n",
    "                period = year-2,            \n",
    "                )\n",
    "            ]],\n",
    "        period = year,\n",
    "        parent1 = dict(\n",
    "            date_naissance = date(1980, 1, 1),\n",
    "            ),\n",
    "        enfants = enfants,\n",
    "        menage = dict(\n",
    "            loyer = 5000,\n",
    "            statut_occupation_logement = 4,\n",
    "            ),\n",
    "        )\n",
    "    return scenario"
   ]
  },
  {
   "cell_type": "code",
   "execution_count": null,
   "metadata": {
    "collapsed": false
   },
   "outputs": [],
   "source": [
    "scenario_p2_e0_ref = make_two_parents_scenario(0, 2016)\n",
    "simulation_p2_e0_ref = scenario_p2_e0_ref.new_simulation()"
   ]
  },
  {
   "cell_type": "markdown",
   "metadata": {},
   "source": [
    "Observation PPA / Revenus"
   ]
  },
  {
   "cell_type": "code",
   "execution_count": null,
   "metadata": {
    "collapsed": false
   },
   "outputs": [],
   "source": [
    "# Ajouté par Robert\n",
    "ppa = simulation_p2_e0_ref.calculate_add(\"ppa\") \n",
    "rsa = simulation_p2_e0_ref.calculate_add(\"rsa\")\n",
    "salaire_de_base = simulation_p2_e0_ref.calculate(\"salaire_de_base\")\n",
    "\n",
    "i = 1\n",
    "print \"      \", \"salaire de base\",\"      \", \"ppa\", \"      \", \"rsa\"\n",
    "\n",
    "while i < 40:                                                                                                 \n",
    "    print i, \"     \", round(salaire_de_base[i]),\"               \", round(ppa[i]), \"         \", round(rsa[1])\n",
    "    i = i + 1   \n",
    "                                                                                             \n",
    "    \n",
    "# Attention à ne pas mettre d'accent (ex: \"é\") dans la légende\n",
    "\n",
    "plt.plot(ppa[::2], salaire_de_base[::2], label='ppa')\n",
    "plt.plot(salaire_de_base[::2], label='salaire_de_base')\n",
    "\n",
    "plt.xlabel(\"salaire brut mensuel\")\n",
    "plt.ylabel(\"ppa\")\n",
    "plt.title(\"ppa en fonction du salaire, 2016\")\n",
    "plt.grid()\n",
    "plt.legend(loc=2)\n"
   ]
  },
  {
   "cell_type": "code",
   "execution_count": null,
   "metadata": {
    "collapsed": false
   },
   "outputs": [],
   "source": [
    "scenario_p2_e0_rdb = make_two_parents_scenario(0, 2015, reform)\n",
    "simulation_p2_e0_rdb = scenario_p2_e0_rdb.new_simulation()"
   ]
  },
  {
   "cell_type": "code",
   "execution_count": null,
   "metadata": {
    "collapsed": false
   },
   "outputs": [],
   "source": [
    "# comparaison du revenu disponible entre Reference et RDB\n",
    "revenu_disponible_p2_e0_ref = simulation_p2_e0_ref.calculate_add(\"revdisp\") / 12\n",
    "revenu_disponible_p2_e0_rdb = simulation_p2_e0_rdb.calculate_add(\"revdisp\") / 12\n",
    "\n",
    "salaire_de_base_p2_e0_ref = simulation_p2_e0_ref.calculate(\"salaire_de_base\") / 12\n",
    "salaire_de_base_p2_e0_rdb = simulation_p2_e0_rdb.calculate(\"salaire_de_base\") / 12\n",
    "\n",
    "# Attention à ne pas mettre d'accent (ex: \"é\") dans la légende\n",
    "plt.plot(salaire_de_base_p2_e0_ref[::2], revenu_disponible_p2_e0_ref, 'r', label='redistribution actuelle')\n",
    "plt.plot(salaire_de_base_p2_e0_rdb[::2], revenu_disponible_p2_e0_rdb, label='avec revenu de base')\n",
    "plt.xlabel(\"salaire brut mensuel\")\n",
    "plt.ylabel(\"revenu disponible\")\n",
    "plt.title(\"Comparaison avant/apres reforme pour un couple de salaries sans enfant, 2015\")\n",
    "plt.grid()\n",
    "plt.legend(loc=2)"
   ]
  },
  {
   "cell_type": "code",
   "execution_count": null,
   "metadata": {
    "collapsed": false
   },
   "outputs": [],
   "source": [
    "scenario_p2_e1_ref = make_two_parents_scenario(1, 2015)\n",
    "simulation_p2_e1_ref = scenario_p2_e1_ref.new_simulation()\n",
    "scenario_p2_e1_rdb = make_two_parents_scenario(1, 2015, reform)\n",
    "simulation_p2_e1_rdb = scenario_p2_e1_rdb.new_simulation()\n",
    "# comparaison du revenu disponible entre Reference et RDB\n",
    "revenu_disponible_p2_e1_ref = simulation_p2_e1_ref.calculate_add(\"revdisp\") / 12\n",
    "revenu_disponible_p2_e1_rdb = simulation_p2_e1_rdb.calculate_add(\"revdisp\") / 12\n",
    "\n",
    "salaire_de_base_p2_e1_ref = simulation_p2_e1_ref.calculate(\"salaire_de_base\") / 12\n",
    "salaire_de_base_p2_e1_rdb = simulation_p2_e1_rdb.calculate(\"salaire_de_base\") / 12\n",
    "\n",
    "# Attention à ne pas mettre d'accent (ex: \"é\") dans la légende\n",
    "plt.plot(salaire_de_base_p2_e1_ref[::3], revenu_disponible_p2_e1_ref, 'r', label='redistribution actuelle')\n",
    "plt.plot(salaire_de_base_p2_e1_rdb[::3], revenu_disponible_p2_e1_rdb, label='avec revenu de base')\n",
    "plt.xlabel(\"salaire brut mensuel\")\n",
    "plt.ylabel(\"revenu disponible\")\n",
    "plt.title(\"Comparaison avant/apres reforme pour un couple de salaries avec 1 enfant, 2015\")\n",
    "plt.grid()\n",
    "plt.legend(loc=2)"
   ]
  },
  {
   "cell_type": "code",
   "execution_count": null,
   "metadata": {
    "collapsed": false
   },
   "outputs": [],
   "source": [
    "scenario_p2_e2_ref = make_two_parents_scenario(2, 2015)\n",
    "simulation_p2_e2_ref = scenario_p2_e2_ref.new_simulation()\n",
    "scenario_p2_e2_rdb = make_two_parents_scenario(2, 2015, reform)\n",
    "simulation_p2_e2_rdb = scenario_p2_e2_rdb.new_simulation()\n",
    "# comparaison du revenu disponible entre Reference et RDB\n",
    "revenu_disponible_p2_e2_ref = simulation_p2_e2_ref.calculate_add(\"revdisp\") / 12\n",
    "revenu_disponible_p2_e2_rdb = simulation_p2_e2_rdb.calculate_add(\"revdisp\") / 12\n",
    "\n",
    "salaire_de_base_p2_e2_ref = simulation_p2_e2_ref.calculate(\"salaire_de_base\") / 12\n",
    "salaire_de_base_p2_e2_rdb = simulation_p2_e2_rdb.calculate(\"salaire_de_base\") / 12\n",
    "\n",
    "# Attention à ne pas mettre d'accent (ex: \"é\") dans la légende\n",
    "plt.plot(salaire_de_base_p2_e2_ref[::4], revenu_disponible_p2_e2_ref, 'r', label='redistribution actuelle')\n",
    "plt.plot(salaire_de_base_p2_e2_rdb[::4], revenu_disponible_p2_e2_rdb, label='avec revenu de base')\n",
    "plt.xlabel(\"salaire brut mensuel\")\n",
    "plt.ylabel(\"revenu disponible\")\n",
    "plt.title(\"Comparaison avant/apres reforme pour un couple de salaries avec 2 enfants, 2015\")\n",
    "plt.grid()\n",
    "plt.legend(loc=2)"
   ]
  },
  {
   "cell_type": "code",
   "execution_count": null,
   "metadata": {
    "collapsed": false
   },
   "outputs": [],
   "source": [
    "scenario_p2_e3_ref = make_two_parents_scenario(3, 2015)\n",
    "simulation_p2_e3_ref = scenario_p2_e3_ref.new_simulation()\n",
    "scenario_p2_e3_rdb = make_two_parents_scenario(3, 2015, reform)\n",
    "simulation_p2_e3_rdb = scenario_p2_e3_rdb.new_simulation()\n",
    "# comparaison du revenu disponible entre Reference et RDB\n",
    "revenu_disponible_p2_e3_ref = simulation_p2_e3_ref.calculate_add(\"revdisp\") / 12\n",
    "revenu_disponible_p2_e3_rdb = simulation_p2_e3_rdb.calculate_add(\"revdisp\") / 12\n",
    "\n",
    "salaire_de_base_p2_e3_ref = simulation_p2_e3_ref.calculate(\"salaire_de_base\") / 12\n",
    "salaire_de_base_p2_e3_rdb = simulation_p2_e3_rdb.calculate(\"salaire_de_base\") / 12\n",
    "\n",
    "# Attention à ne pas mettre d'accent (ex: \"é\") dans la légende\n",
    "plt.plot(salaire_de_base_p2_e3_ref[::5], revenu_disponible_p2_e3_ref, 'r', label='redistribution actuelle')\n",
    "plt.plot(salaire_de_base_p2_e3_rdb[::5], revenu_disponible_p2_e3_rdb, label='avec revenu de base')\n",
    "plt.xlabel(\"salaire brut mensuel\")\n",
    "plt.ylabel(\"revenu disponible\")\n",
    "plt.title(\"Comparaison avant/apres reforme pour un couple de salaries avec 2 enfants, 2015\")\n",
    "plt.grid()\n",
    "plt.legend(loc=2)"
   ]
  },
  {
   "cell_type": "code",
   "execution_count": null,
   "metadata": {
    "collapsed": false
   },
   "outputs": [],
   "source": [
    "scenario_p1_e0_ref = make_one_parent_scenario(0, 2015)\n",
    "simulation_p1_e0_ref = scenario_p1_e0_ref.new_simulation()\n",
    "scenario_p1_e0_rdb = make_one_parent_scenario(0, 2015, reform)\n",
    "simulation_p1_e0_rdb = scenario_p1_e0_rdb.new_simulation()\n",
    "# comparaison du revenu disponible entre Reference et RDB\n",
    "revenu_disponible_p1_e0_ref = simulation_p1_e0_ref.calculate_add(\"revdisp\") / 12\n",
    "revenu_disponible_p1_e0_rdb = simulation_p1_e0_rdb.calculate_add(\"revdisp\") / 12\n",
    "\n",
    "salaire_de_base_p1_e0_ref = simulation_p1_e0_ref.calculate(\"salaire_de_base\") / 12\n",
    "salaire_de_base_p1_e0_rdb = simulation_p1_e0_rdb.calculate(\"salaire_de_base\") / 12\n",
    "\n",
    "# Attention à ne pas mettre d'accent (ex: \"é\") dans la légende\n",
    "plt.plot(salaire_de_base_p1_e0_ref, revenu_disponible_p1_e0_ref, 'r', label='redistribution actuelle')\n",
    "plt.plot(salaire_de_base_p1_e0_rdb, revenu_disponible_p1_e0_rdb, label='avec revenu de base')\n",
    "plt.xlabel(\"salaire brut mensuel\")\n",
    "plt.ylabel(\"revenu disponible\")\n",
    "plt.title(\"Comparaison avant/apres reforme pour un salarie sans enfant, 2015\")\n",
    "plt.grid()\n",
    "plt.legend(loc=2)"
   ]
  },
  {
   "cell_type": "code",
   "execution_count": null,
   "metadata": {
    "collapsed": false
   },
   "outputs": [],
   "source": [
    "scenario_p1_e1_ref = make_one_parent_scenario(1, 2015)\n",
    "simulation_p1_e1_ref = scenario_p1_e1_ref.new_simulation()\n",
    "scenario_p1_e1_rdb = make_one_parent_scenario(1, 2015, reform)\n",
    "simulation_p1_e1_rdb = scenario_p1_e1_rdb.new_simulation()\n",
    "# comparaison du revenu disponible entre Reference et RDB\n",
    "revenu_disponible_p1_e1_ref = simulation_p1_e1_ref.calculate_add(\"revdisp\") / 12\n",
    "revenu_disponible_p1_e1_rdb = simulation_p1_e1_rdb.calculate_add(\"revdisp\") / 12\n",
    "\n",
    "salaire_de_base_p1_e1_ref = simulation_p1_e1_ref.calculate(\"salaire_de_base\") / 12\n",
    "salaire_de_base_p1_e1_rdb = simulation_p1_e1_rdb.calculate(\"salaire_de_base\") / 12\n",
    "\n",
    "# Attention à ne pas mettre d'accent (ex: \"é\") dans la légende\n",
    "plt.plot(salaire_de_base_p1_e1_ref[::2], revenu_disponible_p1_e1_ref, 'r', label='redistribution actuelle')\n",
    "plt.plot(salaire_de_base_p1_e1_rdb[::2], revenu_disponible_p1_e1_rdb, label='avec revenu de base')\n",
    "plt.xlabel(\"salaire brut mensuel\")\n",
    "plt.ylabel(\"revenu disponible\")\n",
    "plt.title(\"Comparaison avant/apres reforme pour un salarie avec 1 enfant, 2015\")\n",
    "plt.grid()\n",
    "plt.legend(loc=2)"
   ]
  },
  {
   "cell_type": "code",
   "execution_count": null,
   "metadata": {
    "collapsed": false
   },
   "outputs": [],
   "source": [
    "scenario_p1_e2_ref = make_one_parent_scenario(2, 2015)\n",
    "simulation_p1_e2_ref = scenario_p1_e2_ref.new_simulation()\n",
    "scenario_p1_e2_rdb = make_one_parent_scenario(2, 2015, reform)\n",
    "simulation_p1_e2_rdb = scenario_p1_e2_rdb.new_simulation()\n",
    "# comparaison du revenu disponible entre Reference et RDB\n",
    "revenu_disponible_p1_e2_ref = simulation_p1_e2_ref.calculate_add(\"revdisp\") / 12\n",
    "revenu_disponible_p1_e2_rdb = simulation_p1_e2_rdb.calculate_add(\"revdisp\") / 12\n",
    "\n",
    "salaire_de_base_p1_e2_ref = simulation_p1_e2_ref.calculate(\"salaire_de_base\") / 12\n",
    "salaire_de_base_p1_e2_rdb = simulation_p1_e2_rdb.calculate(\"salaire_de_base\") / 12\n",
    "\n",
    "# Attention à ne pas mettre d'accent (ex: \"é\") dans la légende\n",
    "# pour linestyle, cf. http://matplotlib.org/api/pyplot_api.html\n",
    "plt.plot(salaire_de_base_p1_e2_ref[::3], revenu_disponible_p1_e2_ref, 'k', linestyle='--', label='redistribution actuelle')\n",
    "plt.plot(salaire_de_base_p1_e2_rdb[::3], revenu_disponible_p1_e2_rdb, 'k', label='avec revenu de base')\n",
    "plt.xlabel(\"salaire brut mensuel\")\n",
    "plt.ylabel(\"revenu disponible\")\n",
    "plt.title(\"Comparaison avant/apres reforme pour un salarie avec 2 enfants, 2015\")\n",
    "plt.grid()\n",
    "plt.legend(loc=2)"
   ]
  },
  {
   "cell_type": "code",
   "execution_count": null,
   "metadata": {
    "collapsed": false
   },
   "outputs": [],
   "source": [
    "plt.plot(salaire_de_base_p2_e0_rdb[::2], revenu_disponible_p2_e0_rdb - revenu_disponible_p2_e0_ref)\n",
    "plt.xlabel(\"salaire brut mensuel\")\n",
    "plt.ylabel(\"revenu disponible additionnel\")\n",
    "plt.title(\"Difference de revenu mensuel avant/apres reforme pour un couple de salaries sans enfant, 2015\")\n",
    "plt.grid()\n",
    "plt.legend(loc=2)"
   ]
  },
  {
   "cell_type": "code",
   "execution_count": null,
   "metadata": {
    "collapsed": false
   },
   "outputs": [],
   "source": [
    "plt.plot(salaire_de_base_p2_e1_rdb[::3], revenu_disponible_p2_e1_rdb - revenu_disponible_p2_e1_ref)\n",
    "plt.xlabel(\"salaire brut mensuel\")\n",
    "plt.ylabel(\"revenu disponible additionnel\")\n",
    "plt.title(\"Difference avant/apres reforme pour un couple de salaries avec 1 enfant, 2015\")\n",
    "plt.grid()\n",
    "plt.legend(loc=2)"
   ]
  },
  {
   "cell_type": "code",
   "execution_count": null,
   "metadata": {
    "collapsed": false
   },
   "outputs": [],
   "source": [
    "plt.plot(salaire_de_base_p2_e2_rdb[::4], revenu_disponible_p2_e2_rdb - revenu_disponible_p2_e2_ref)\n",
    "plt.xlabel(\"salaire brut mensuel\")\n",
    "plt.ylabel(\"revenu disponible additionnel\")\n",
    "plt.title(\"Difference avant/apres reforme pour un couple de salaries avec 2 enfants, 2015\")\n",
    "plt.grid()\n",
    "plt.legend(loc=2)"
   ]
  },
  {
   "cell_type": "code",
   "execution_count": null,
   "metadata": {
    "collapsed": false
   },
   "outputs": [],
   "source": [
    "plt.plot(salaire_de_base_p1_e0_rdb, revenu_disponible_p1_e0_rdb - revenu_disponible_p1_e0_ref)\n",
    "plt.xlabel(\"salaire brut mensuel\")\n",
    "plt.ylabel(\"revenu disponible additionnel\")\n",
    "plt.title(\"Difference avant/apres reforme pour un salarie sans enfant, 2015\")\n",
    "plt.grid()\n",
    "plt.legend(loc=2)"
   ]
  },
  {
   "cell_type": "code",
   "execution_count": null,
   "metadata": {
    "collapsed": false
   },
   "outputs": [],
   "source": [
    "plt.plot(salaire_de_base_p1_e1_rdb[::2], revenu_disponible_p1_e1_rdb - revenu_disponible_p1_e1_ref)\n",
    "plt.xlabel(\"salaire brut mensuel\")\n",
    "plt.ylabel(\"revenu disponible additionnel\")\n",
    "plt.title(\"Difference avant/apres reforme pour un salarie avec 1 enfant, 2015\")\n",
    "plt.grid()\n",
    "plt.legend(loc=2)"
   ]
  },
  {
   "cell_type": "code",
   "execution_count": null,
   "metadata": {
    "collapsed": false
   },
   "outputs": [],
   "source": [
    "plt.plot(salaire_de_base_p1_e2_rdb[::3], (revenu_disponible_p1_e2_rdb - revenu_disponible_p1_e2_ref) / revenu_disponible_p1_e2_ref ) \n",
    "plt.xlabel(\"salaire brut mensuel\")\n",
    "plt.ylabel(\"revenu disponible additionnel (en %)\")\n",
    "plt.title(\"Difference avant/apres reforme pour un salarie avec 2 enfant, 2015\")\n",
    "plt.grid()\n",
    "plt.legend(loc=2)"
   ]
  },
  {
   "cell_type": "code",
   "execution_count": null,
   "metadata": {
    "collapsed": false
   },
   "outputs": [],
   "source": [
    "# Différentes activités possibles :\n",
    "# Salarié.e: 'salaire_de_base' (par défaut)\n",
    "# Retraité.e: 'retraite_brute'\n",
    "# Chômeur/se: 'chomage_brut'\n",
    "# Indépendant.e: 'tns_auto_entrepreneur_benefice'\n",
    "\n",
    "def make_one_scenario(activite = 'salaire_de_base', nombre_enfants = 0, year = None, tax_benefit_system = tax_benefit_system):\n",
    "    enfant = [dict(\n",
    "        date_naissance = date(2005, 1, 1),\n",
    "        )]\n",
    "    enfants = enfant * nombre_enfants\n",
    "    scenario = tax_benefit_system.new_scenario().init_single_entity(\n",
    "        axes = [[\n",
    "            dict(\n",
    "                count = nb_palier,\n",
    "                min = min_salaire_de_base,\n",
    "                max = max_salaire_de_base,\n",
    "                name = activite,\n",
    "                period = year,            \n",
    "                ),\n",
    "            dict(\n",
    "                count = nb_palier,\n",
    "                min = min_salaire_de_base,\n",
    "                max = max_salaire_de_base,\n",
    "                name = activite,\n",
    "                period = year-1,            \n",
    "                ),\n",
    "            dict(\n",
    "                count = nb_palier,\n",
    "                min = min_salaire_de_base,\n",
    "                max = max_salaire_de_base,\n",
    "                name = activite,\n",
    "                period = year-2,            \n",
    "                )\n",
    "            ]],\n",
    "        period = year,\n",
    "        parent1 = dict(\n",
    "            date_naissance = date(1980, 1, 1),\n",
    "            ),\n",
    "        enfants = enfants,\n",
    "        menage = dict(\n",
    "            loyer = 5000,\n",
    "            statut_occupation_logement = 4,\n",
    "            ),\n",
    "        )\n",
    "    return scenario"
   ]
  },
  {
   "cell_type": "code",
   "execution_count": null,
   "metadata": {
    "collapsed": false
   },
   "outputs": [],
   "source": [
    "# Retraité.e: 'retraite_brute'\n",
    "scenario_retraite_ref = make_one_scenario('retraite_brute', 0, 2015)\n",
    "simulation_retraite_ref = scenario_retraite_ref.new_simulation()\n",
    "scenario_retraite_rdb = make_one_scenario('retraite_brute', 0, 2015, reform)\n",
    "simulation_retraite_rdb = scenario_retraite_rdb.new_simulation()\n",
    "# comparaison du revenu disponible entre Reference et RDB\n",
    "revenu_disponible_retraite_ref = simulation_p1_e2_ref.calculate_add(\"revdisp\") / 12\n",
    "revenu_disponible_retraite_rdb = simulation_p1_e2_rdb.calculate_add(\"revdisp\") / 12\n",
    "\n",
    "retraite = simulation_retraite_rdb.calculate(\"retraite_brute\") / 12\n",
    "\n",
    "plt.plot(retraite, revenu_disponible_retraite_rdb - revenu_disponible_retraite_ref ) \n",
    "plt.xlabel(\"retraite brute mensuelle\")\n",
    "plt.ylabel(\"revenu disponible additionnel\")\n",
    "plt.title(\"Difference avant/apres reforme pour un retraite sans enfant, 2015\")\n",
    "plt.grid()\n",
    "plt.legend(loc=2)"
   ]
  },
  {
   "cell_type": "code",
   "execution_count": null,
   "metadata": {
    "collapsed": false
   },
   "outputs": [],
   "source": [
    "# Chômeur/se: 'chomage_brut'\n",
    "scenario_chomage_ref = make_one_scenario('chomage_brut', 0, 2015)\n",
    "simulation_chomage_ref = scenario_chomage_ref.new_simulation()\n",
    "scenario_chomage_rdb = make_one_scenario('chomage_brut', 0, 2015, reform)\n",
    "simulation_chomage_rdb = scenario_chomage_rdb.new_simulation()\n",
    "# comparaison du revenu disponible entre Reference et RDB\n",
    "revenu_disponible_chomage_ref = simulation_chomage_ref.calculate_add(\"revdisp\") / 12\n",
    "revenu_disponible_chomage_rdb = simulation_chomage_rdb.calculate_add(\"revdisp\") / 12\n",
    "\n",
    "chomage = simulation_chomage_rdb.calculate(\"chomage_brut\") / 12\n",
    "\n",
    "plt.plot(chomage, revenu_disponible_chomage_rdb - revenu_disponible_chomage_ref ) \n",
    "plt.xlabel(\"chomage brut mensuel\")\n",
    "plt.ylabel(\"revenu disponible additionnel\")\n",
    "plt.title(\"Difference avant/apres reforme pour un chomeur sans enfant, 2015\")\n",
    "plt.grid()\n",
    "plt.xlim(xmax = 6000)\n",
    "plt.legend(loc=2)"
   ]
  },
  {
   "cell_type": "code",
   "execution_count": null,
   "metadata": {
    "collapsed": false
   },
   "outputs": [],
   "source": [
    "# Indépendant.e: 'tns_auto_entrepreneur_benefice'\n",
    "scenario_tns_ref = make_one_scenario('tns_auto_entrepreneur_benefice', 0, 2015)\n",
    "simulation_tns_ref = scenario_tns_ref.new_simulation()\n",
    "scenario_tns_rdb = make_one_scenario('tns_auto_entrepreneur_benefice', 0, 2015, reform)\n",
    "simulation_tns_rdb = scenario_tns_rdb.new_simulation()\n",
    "# comparaison du revenu disponible entre Reference et RDB\n",
    "revenu_disponible_tns_ref = simulation_tns_ref.calculate_add(\"revdisp\") / 12\n",
    "revenu_disponible_tns_rdb = simulation_tns_rdb.calculate_add(\"revdisp\") / 12\n",
    "\n",
    "tns = simulation_tns_rdb.calculate(\"tns_auto_entrepreneur_benefice\") / 12\n",
    "\n",
    "plt.plot(tns, revenu_disponible_tns_rdb - revenu_disponible_tns_ref ) \n",
    "plt.xlabel(\"benefice brut mensuel\")\n",
    "plt.ylabel(\"revenu disponible additionnel\")\n",
    "plt.title(\"Difference avant/apres reforme pour un independant sans enfant, 2015\")\n",
    "plt.grid()\n",
    "plt.legend(loc=2)"
   ]
  },
  {
   "cell_type": "code",
   "execution_count": null,
   "metadata": {
    "collapsed": false
   },
   "outputs": [],
   "source": [
    "# Taux marginaux\n",
    "\n",
    "min_salaire_de_base = 0\n",
    "max_salaire_de_base = 120000\n",
    "pas = 600\n",
    "nb_palier = max_salaire_de_base / pas\n",
    "\n",
    "def make_precise_scenario(nombre_enfants = 0, year = None, tax_benefit_system = tax_benefit_system):\n",
    "    enfant = [dict(\n",
    "        date_naissance = date(2005, 1, 1),\n",
    "        )]\n",
    "    enfants = enfant * nombre_enfants\n",
    "    scenario = tax_benefit_system.new_scenario().init_single_entity(\n",
    "        axes = [[\n",
    "            dict(\n",
    "                count = nb_palier,\n",
    "                min = min_salaire_de_base,\n",
    "                max = max_salaire_de_base,\n",
    "                name = 'salaire_imposable',\n",
    "                period = year,            \n",
    "                ),\n",
    "            dict(\n",
    "                count = nb_palier,\n",
    "                min = min_salaire_de_base,\n",
    "                max = max_salaire_de_base,\n",
    "                name = 'salaire_imposable',\n",
    "                period = year-1,            \n",
    "                ),\n",
    "            dict(\n",
    "                count = nb_palier,\n",
    "                min = min_salaire_de_base,\n",
    "                max = max_salaire_de_base,\n",
    "                name = 'salaire_imposable',\n",
    "                period = year-2,            \n",
    "                )\n",
    "            ]],\n",
    "        period = year,\n",
    "        parent1 = dict(\n",
    "            date_naissance = date(1980, 1, 1),\n",
    "            ),\n",
    "        enfants = enfants,\n",
    "        menage = dict(\n",
    "            loyer = 5000,\n",
    "            statut_occupation_logement = 4,\n",
    "            ),\n",
    "        )\n",
    "    return scenario\n",
    "\n",
    "scenario_precise_ref = make_precise_scenario(0, 2015)\n",
    "simulation_precise_ref = scenario_precise_ref.new_simulation()\n",
    "scenario_precise_rdb = make_precise_scenario(0, 2015, reform)\n",
    "simulation_precise_rdb = scenario_precise_rdb.new_simulation()\n",
    "\n",
    "revenu_disponible_precise_ref = simulation_precise_ref.calculate_add(\"revdisp\") / 12\n",
    "revenu_disponible_precise_rdb = simulation_precise_rdb.calculate_add(\"revdisp\") / 12\n",
    "salaire_de_base_precise_ref = simulation_precise_ref.calculate(\"salaire_imposable\") / 12\n",
    "salaire_de_base_precise_rdb = simulation_precise_rdb.calculate(\"salaire_imposable\") / 12\n",
    "\n",
    "plt.plot(salaire_de_base_precise_ref[1:] + pas / 24, 1 - (revenu_disponible_precise_ref[1:] - revenu_disponible_precise_ref[:nb_palier-1]) / (pas / 12), 'r', label='redistribution actuelle')\n",
    "plt.plot(salaire_de_base_precise_rdb[1:] + pas / 24, 1 - (revenu_disponible_precise_rdb[1:] - revenu_disponible_precise_rdb[:nb_palier-1]) / (pas / 12), label='avec revenu de base')\n",
    "plt.xlabel(\"salaire imposable mensuel\")\n",
    "plt.ylabel(\"taux d'imposition marginal implicite\")\n",
    "plt.title(\"Comparaison avant/apres reforme pour un salarie sans enfant, 2015\")\n",
    "#plt.ylim((0,1))\n",
    "plt.xlim(xmax=4000)\n",
    "plt.grid()\n",
    "plt.legend(loc='lower right')"
   ]
  },
  {
   "cell_type": "code",
   "execution_count": null,
   "metadata": {
    "collapsed": false
   },
   "outputs": [],
   "source": [
    "# Taux marginaux\n",
    "\n",
    "min_salaire_de_base = 50\n",
    "max_salaire_de_base = 120000\n",
    "pas = 600\n",
    "nb_palier = max_salaire_de_base / pas\n",
    "\n",
    "def make_precise_scenario(nombre_enfants = 0, year = None, tax_benefit_system = tax_benefit_system):\n",
    "    enfant = [dict(\n",
    "        date_naissance = date(2005, 1, 1),\n",
    "        )]\n",
    "    enfants = enfant * nombre_enfants\n",
    "    scenario = tax_benefit_system.new_scenario().init_single_entity(\n",
    "        axes = [[\n",
    "            dict(\n",
    "                count = nb_palier,\n",
    "                min = min_salaire_de_base,\n",
    "                max = max_salaire_de_base,\n",
    "                name = 'salaire_de_base',\n",
    "                period = year,            \n",
    "                ),\n",
    "            dict(\n",
    "                count = nb_palier,\n",
    "                min = min_salaire_de_base,\n",
    "                max = max_salaire_de_base,\n",
    "                name = 'salaire_de_base',\n",
    "                period = year-1,            \n",
    "                ),\n",
    "            dict(\n",
    "                count = nb_palier,\n",
    "                min = min_salaire_de_base,\n",
    "                max = max_salaire_de_base,\n",
    "                name = 'salaire_de_base',\n",
    "                period = year-2,            \n",
    "                )\n",
    "            ]],\n",
    "        period = year,\n",
    "        parent1 = dict(\n",
    "            date_naissance = date(1980, 1, 1),\n",
    "            ),\n",
    "        enfants = enfants,\n",
    "        menage = dict(\n",
    "            loyer = 5000,\n",
    "            statut_occupation_logement = 4,\n",
    "            ),\n",
    "        )\n",
    "    return scenario\n",
    "\n",
    "scenario_precise_ref = make_precise_scenario(0, 2015)\n",
    "simulation_precise_ref = scenario_precise_ref.new_simulation()\n",
    "scenario_precise_rdb = make_precise_scenario(0, 2015, reform)\n",
    "simulation_precise_rdb = scenario_precise_rdb.new_simulation()\n",
    "\n",
    "revenu_disponible_precise_ref = simulation_precise_ref.calculate_add(\"revdisp\") / 12\n",
    "revenu_disponible_precise_rdb = simulation_precise_rdb.calculate_add(\"revdisp\") / 12\n",
    "salaire_de_base_precise_ref = simulation_precise_ref.calculate(\"salaire_de_base\") / 12\n",
    "salaire_de_base_precise_rdb = simulation_precise_rdb.calculate(\"salaire_de_base\") / 12\n",
    "\n",
    "plt.plot(salaire_de_base_precise_ref[1:] + pas / 24, 1 - (revenu_disponible_precise_ref[1:] - revenu_disponible_precise_ref[:nb_palier-1]) / (pas / 12), 'r', label='redistribution actuelle')\n",
    "plt.plot(salaire_de_base_precise_rdb[1:] + pas / 24, 1 - (revenu_disponible_precise_rdb[1:] - revenu_disponible_precise_rdb[:nb_palier-1]) / (pas / 12), label='avec revenu de base')\n",
    "plt.xlabel(\"salaire brut mensuel\")\n",
    "plt.ylabel(\"taux d'imposition marginal implicite\")\n",
    "plt.title(\"Comparaison avant/apres reforme pour un salarie sans enfant, 2015\")\n",
    "plt.ylim((0,1))\n",
    "plt.xlim(xmax=4000)\n",
    "plt.grid()\n",
    "plt.legend(loc='lower right')"
   ]
  },
  {
   "cell_type": "code",
   "execution_count": null,
   "metadata": {
    "collapsed": false
   },
   "outputs": [],
   "source": [
    "# Taux moyens\n",
    "plt.plot(salaire_de_base_precise_ref, 1 - (revenu_disponible_precise_ref - revenu_disponible_precise_ref[0]) / salaire_de_base_precise_ref, 'r', label='redistribution actuelle')\n",
    "plt.plot(salaire_de_base_precise_rdb, 1 - (revenu_disponible_precise_rdb - revenu_disponible_precise_rdb[0]) / salaire_de_base_precise_rdb, label='avec revenu de base')\n",
    "plt.xlabel(\"salaire brut mensuel\")\n",
    "plt.ylabel(\"taux d'imposition moyen implicite\")\n",
    "plt.title(\"Comparaison avant/apres reforme pour un salarie sans enfant, 2015\")\n",
    "#plt.ylim((-1,0.5))\n",
    "plt.xlim(xmax=5000)\n",
    "plt.grid()\n",
    "plt.legend(loc='lower right')"
   ]
  },
  {
   "cell_type": "code",
   "execution_count": null,
   "metadata": {
    "collapsed": false
   },
   "outputs": [],
   "source": [
    "plt.plot(salaire_de_base_precise_rdb, revenu_disponible_precise_rdb)"
   ]
  },
  {
   "cell_type": "code",
   "execution_count": null,
   "metadata": {
    "collapsed": false
   },
   "outputs": [],
   "source": [
    "revenu_disponible_precise_ref"
   ]
  },
  {
   "cell_type": "code",
   "execution_count": null,
   "metadata": {
    "collapsed": false
   },
   "outputs": [],
   "source": [
    "revenu_disponible_precise_rdb"
   ]
  },
  {
   "cell_type": "code",
   "execution_count": null,
   "metadata": {
    "collapsed": false
   },
   "outputs": [],
   "source": [
    "    reref= simulation_precise_ref.calculate(\"agff_salarie\", '2015-01') \n",
    "\n",
    "    rerdb= simulation_precise_ref.calculate(\"arrco_salarie\", '2015-01') \n",
    "    r= simulation_precise_ref.calculate(\"vieillesse_deplafonnee_salarie\", '2015-01')\n",
    "    rev= simulation_precise_ref.calculate(\"vieillesse_plafonnee_salarie\", '2015-01')\n"
   ]
  },
  {
   "cell_type": "code",
   "execution_count": null,
   "metadata": {
    "collapsed": false
   },
   "outputs": [],
   "source": [
    "arrco1=simulation_precise_ref.calculate(\"assiette_cotisations_sociales\", '2015-01') \n",
    "\n",
    "arrco3=simulation_precise_ref.calculate(\"assiette_cotisations_sociales_prive\", '2015-01') \n",
    "arrco4=simulation_precise_ref.calculate(\"assiette_cotisations_sociales_public\", '2015-01') \n",
    "arrco5=simulation_precise_ref.calculate(\"stage_gratification_reintegration\", '2015-01') \n",
    "\n",
    "\n"
   ]
  },
  {
   "cell_type": "code",
   "execution_count": null,
   "metadata": {
    "collapsed": false
   },
   "outputs": [],
   "source": [
    "arrco1"
   ]
  },
  {
   "cell_type": "code",
   "execution_count": null,
   "metadata": {
    "collapsed": true
   },
   "outputs": [],
   "source": []
  },
  {
   "cell_type": "code",
   "execution_count": null,
   "metadata": {
    "collapsed": true
   },
   "outputs": [],
   "source": []
  },
  {
   "cell_type": "code",
   "execution_count": null,
   "metadata": {
    "collapsed": true
   },
   "outputs": [],
   "source": []
  },
  {
   "cell_type": "code",
   "execution_count": null,
   "metadata": {
    "collapsed": true
   },
   "outputs": [],
   "source": []
  },
  {
   "cell_type": "code",
   "execution_count": null,
   "metadata": {
    "collapsed": true
   },
   "outputs": [],
   "source": []
  },
  {
   "cell_type": "code",
   "execution_count": null,
   "metadata": {
    "collapsed": true
   },
   "outputs": [],
   "source": []
  },
  {
   "cell_type": "code",
   "execution_count": null,
   "metadata": {
    "collapsed": true
   },
   "outputs": [],
   "source": []
  },
  {
   "cell_type": "code",
   "execution_count": null,
   "metadata": {
    "collapsed": true
   },
   "outputs": [],
   "source": []
  }
 ],
 "metadata": {
  "kernelspec": {
   "display_name": "Python 2",
   "language": "python",
   "name": "python2"
  },
  "language_info": {
   "codemirror_mode": {
    "name": "ipython",
    "version": 2
   },
   "file_extension": ".py",
   "mimetype": "text/x-python",
   "name": "python",
   "nbconvert_exporter": "python",
   "pygments_lexer": "ipython2",
   "version": "2.7.12"
  }
 },
 "nbformat": 4,
 "nbformat_minor": 0
}
