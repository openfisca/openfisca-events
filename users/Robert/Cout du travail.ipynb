{
 "cells": [
  {
   "cell_type": "markdown",
   "metadata": {},
   "source": [
    "# Coût du travail et salaire net"
   ]
  },
  {
   "cell_type": "code",
   "execution_count": 1,
   "metadata": {
    "collapsed": false
   },
   "outputs": [],
   "source": [
    "%matplotlib inline \n",
    "import matplotlib.pyplot as plt\n",
    "import numpy as np\n",
    "\n",
    "from openfisca_core import periods\n",
    "\n",
    "import csv\n",
    "#import pandas as pd\n",
    "\n",
    "import datetime\n",
    "import openfisca_france \n",
    "\n",
    "\n"
   ]
  },
  {
   "cell_type": "code",
   "execution_count": 2,
   "metadata": {
    "collapsed": false
   },
   "outputs": [],
   "source": [
    "from datetime import date  # module nécessaire pour la définition des dates, dont notamment les dates de naissances\n",
    "import openfisca_france    # module décrivant le système socio-fiscal français\n",
    "tax_benefit_system = openfisca_france.FranceTaxBenefitSystem()\n",
    "# TaxBenefitSystem = openfisca_france.init_country()  # Initialisation de la classe décrivant le système socio-fiscal français\n",
    "# tax_benefit_system = TaxBenefitSystem()  # Création d'une instance du système socio-fiscal français "
   ]
  },
  {
   "cell_type": "code",
   "execution_count": 3,
   "metadata": {
    "collapsed": true
   },
   "outputs": [],
   "source": [
    "# to debug / trace\n",
    "#from openfisca_core import tools\n",
    "#from openfisca_core.reforms import Reform"
   ]
  },
  {
   "cell_type": "code",
   "execution_count": 4,
   "metadata": {
    "collapsed": false
   },
   "outputs": [],
   "source": [
    "year = 2016\n",
    "period = \"{}-01\".format(year)\n",
    "salaire_minimal = 1\n",
    "salaire_max = 5000\n"
   ]
  },
  {
   "cell_type": "code",
   "execution_count": 5,
   "metadata": {
    "collapsed": false
   },
   "outputs": [],
   "source": [
    "simulation = tax_benefit_system.new_scenario().init_single_entity(\n",
    "    axes = [\n",
    "        dict(\n",
    "            count = 15,\n",
    "            min = salaire_minimal,\n",
    "            max = salaire_max,\n",
    "            name = 'salaire_de_base',\n",
    "            ),\n",
    "        ],\n",
    "    period = period,\n",
    "    parent1 = dict(\n",
    "        # birth = date(1980, 1, 1),\n",
    "        # type_sal = 1,\n",
    "        taille_entreprise = 0,\n",
    "        #exposition_accident = 2,\n",
    "        allegement_cotisation_allocations_familiales_mode_recouvrement = 1,\n",
    "        allegement_fillon_mode_recouvrement = 2,\n",
    "        ),\n",
    "    )  #.new_simulation(debug = \"true\")\n",
    "       \n",
    "\n",
    "\n"
   ]
  },
  {
   "cell_type": "code",
   "execution_count": 6,
   "metadata": {
    "collapsed": false
   },
   "outputs": [
    {
     "name": "stdout",
     "output_type": "stream",
     "text": [
      "https://www.openfisca.fr/tools/trace?api_url=https%3A%2F%2Fapi.openfisca.fr%2F&simulation=%7B%22scenarios%22%3A+%5B%7B%22axes%22%3A+%5B%5B%7B%22count%22%3A+15%2C+%22index%22%3A+0%2C+%22name%22%3A+%22salaire_de_base%22%2C+%22min%22%3A+1%2C+%22max%22%3A+5000%2C+%22period%22%3A+null%7D%5D%5D%2C+%22period%22%3A+%222016-01%22%2C+%22test_case%22%3A+%7B%22familles%22%3A+%5B%7B%22id%22%3A+0%2C+%22parents%22%3A+%5B%22ind0%22%5D%7D%5D%2C+%22foyers_fiscaux%22%3A+%5B%7B%22id%22%3A+0%2C+%22declarants%22%3A+%5B%22ind0%22%5D%7D%5D%2C+%22individus%22%3A+%5B%7B%22id%22%3A+%22ind0%22%2C+%22taille_entreprise%22%3A+0%2C+%22allegement_cotisation_allocations_familiales_mode_recouvrement%22%3A+1%2C+%22allegement_fillon_mode_recouvrement%22%3A+2%7D%5D%2C+%22menages%22%3A+%5B%7B%22id%22%3A+0%2C+%22personne_de_reference%22%3A+%22ind0%22%7D%5D%7D%7D%5D%2C+%22variables%22%3A+%5B%22cotisations_employeur%22%5D%7D\n"
     ]
    }
   ],
   "source": [
    "from openfisca_core import tools\n",
    "print(tools.get_trace_tool_link(simulation, ['cotisations_employeur'], api_url='https://api.openfisca.fr/', trace_tool_url='https://www.openfisca.fr/tools/trace'))"
   ]
  },
  {
   "cell_type": "code",
   "execution_count": 7,
   "metadata": {
    "collapsed": false
   },
   "outputs": [],
   "source": [
    "simulation1 = simulation.new_simulation()"
   ]
  },
  {
   "cell_type": "markdown",
   "metadata": {},
   "source": [
    "## Salaires superbut, brut, net et revenu disponible"
   ]
  },
  {
   "cell_type": "code",
   "execution_count": 8,
   "metadata": {
    "collapsed": false
   },
   "outputs": [
    {
     "data": {
      "text/plain": [
       "array([  1.79999992e-02,   6.44528580e+00,   1.28725719e+01,\n",
       "         1.92998562e+01,   2.57271442e+01,   3.21544304e+01,\n",
       "         3.85817108e+01,   0.00000000e+00,   0.00000000e+00,\n",
       "         0.00000000e+00,   0.00000000e+00,   0.00000000e+00,\n",
       "         0.00000000e+00,   0.00000000e+00,   0.00000000e+00], dtype=float32)"
      ]
     },
     "execution_count": 8,
     "metadata": {},
     "output_type": "execute_result"
    }
   ],
   "source": [
    "salaire_super_brut = simulation1.calculate('salaire_super_brut')\n",
    "salaire_brut = simulation1.calculate('salaire_de_base')\n",
    "salaire_net = simulation1.calculate('salaire_net')\n",
    "salaire_net_a_payer = simulation1.calculate('salaire_net_a_payer')\n",
    "salaire_imposable = simulation1.calculate('salaire_imposable')\n",
    "allegement_fillon = simulation1.calculate('allegement_fillon')\n",
    "cice = simulation1.calculate('credit_impot_competitivite_emploi')\n",
    "acaf = simulation1.calculate('allegement_cotisation_allocations_familiales')\n",
    "acaf\n"
   ]
  },
  {
   "cell_type": "code",
   "execution_count": 9,
   "metadata": {
    "collapsed": false
   },
   "outputs": [],
   "source": [
    "#import numpy as np\n",
    "#import pandas as pd\n",
    "#pd.DataFrame(np.array([[2,3],[4,5],['pascaline', 'huguette']]), columns = ['essai','erreur'], index = [2,3, 'jambon'])"
   ]
  },
  {
   "cell_type": "code",
   "execution_count": 10,
   "metadata": {
    "collapsed": false
   },
   "outputs": [
    {
     "data": {
      "image/png": "[encoded data removed]",
      "text/plain": [
       "<matplotlib.figure.Figure at 0x7f61de380690>"
      ]
     },
     "metadata": {},
     "output_type": "display_data"
    }
   ],
   "source": [
    "fig, ax = plt.subplots(figsize=(14, 8))\n",
    "plt.plot(salaire_brut, salaire_super_brut, label = \"superbrut\")\n",
    "plt.plot(salaire_brut, salaire_brut, label = \"brut\")\n",
    "plt.plot(salaire_brut, salaire_net, label = \"net\")\n",
    "plt.plot(salaire_brut, salaire_imposable, label = \"imposable\")\n",
    "plt.plot(salaire_brut, salaire_net_a_payer, label = u\"net à payer\")\n",
    "plt.xlabel(u'Salaire de base (€/mois)')\n",
    "plt.ylabel(u'Divers salaires (€/mois)')\n",
    "plt.title(u'Divers salaires')\n",
    "plt.legend(loc = 0, shadow=True, fancybox=True)\n",
    "plt.grid()"
   ]
  },
  {
   "cell_type": "code",
   "execution_count": 11,
   "metadata": {
    "collapsed": false
   },
   "outputs": [
    {
     "data": {
      "image/png": "[encoded data removed]",
      "text/plain": [
       "<matplotlib.figure.Figure at 0x7f61e2499350>"
      ]
     },
     "metadata": {},
     "output_type": "display_data"
    }
   ],
   "source": [
    "fig, ax = plt.subplots(figsize=(14, 8))\n",
    "#fig = plt.figure()\n",
    "plt.plot(salaire_brut, allegement_fillon, label = \"Fillon\")\n",
    "plt.plot(salaire_brut, cice, label = \"CICE\")\n",
    "plt.plot(salaire_brut, acaf, label = \"Alleg. CAF\")\n",
    "plt.xlabel(u'Salaire de base (€/mois)')\n",
    "plt.ylabel(u'Allègements (€/mois)')\n",
    "plt.title(u'Allègements')\n",
    "plt.legend(loc = 0, shadow=True, fancybox=True)\n",
    "plt.grid()"
   ]
  },
  {
   "cell_type": "code",
   "execution_count": 12,
   "metadata": {
    "collapsed": false
   },
   "outputs": [
    {
     "name": "stdout",
     "output_type": "stream",
     "text": [
      "Sup_brut  Brut   Net   a payer  imposable  Fillon   CICE\n",
      "1.0    1.0    1.0   0.78   399.0    358.0    279.0   278.73   796.0    715.0    557.0   556.68   1194.0    1072.0    835.0   834.62   1592.0    1429.0    1113.0   1112.56   2228.0    1786.0    1390.0   1390.5   2893.0    2143.0    1668.0   1668.44   3530.0    2501.0    1946.0   1946.4   4034.0    2858.0    2224.0   2224.35   4539.0    3215.0    2502.0   2502.28   5039.0    3572.0    2787.0   2786.6   5539.0    3929.0    3071.0   3070.96   6040.0    4286.0    3355.0   3355.34   6540.0    4643.0    3640.0   3639.71   7041.0    5000.0    3924.0   3924.08  \n"
     ]
    }
   ],
   "source": [
    "i = 0\n",
    "print \"Sup_brut\",\"\", \"Brut\",\" \", \"Net\", \" \", \"a payer\", \"\", \"imposable\", \"\", \"Fillon\", \" \", \"CICE\"\n",
    "\n",
    "while i < 15:                                                                                                 \n",
    "    print round(salaire_super_brut[i],0),\"  \", round(salaire_brut[i],0),\"  \", round(salaire_net[i],0), \" \", round(salaire_net_a_payer[i],2), \" \", \n",
    "    round(salaire_imposable[i],0), \" \" ,round(allegement_fillon[i],0), \" \", round(cice[i],0)\n",
    "    i = i + 1\n"
   ]
  },
  {
   "cell_type": "code",
   "execution_count": null,
   "metadata": {
    "collapsed": false
   },
   "outputs": [],
   "source": [
    "\n"
   ]
  },
  {
   "cell_type": "code",
   "execution_count": 13,
   "metadata": {
    "collapsed": false
   },
   "outputs": [
    {
     "data": {
      "text/plain": [
       "array([ -2.99999993e-02,  -1.11000004e+01,  -2.21700001e+01,\n",
       "        -3.32400017e+01,  -4.43100014e+01,  -5.53800011e+01,\n",
       "        -6.64499969e+01,  -7.75199966e+01,  -8.85800018e+01,\n",
       "        -9.96500015e+01,  -1.28410004e+02,  -1.57330002e+02,\n",
       "        -1.86259995e+02,  -2.15179993e+02,  -2.44100006e+02], dtype=float32)"
      ]
     },
     "execution_count": 13,
     "metadata": {},
     "output_type": "execute_result"
    }
   ],
   "source": [
    "cotsoc_acc = simulation1.calculate('arrco_salarie')\n",
    "cotsoc_acc"
   ]
  },
  {
   "cell_type": "code",
   "execution_count": 14,
   "metadata": {
    "collapsed": false
   },
   "outputs": [
    {
     "data": {
      "text/plain": [
       "array([ 0.21839994,  0.22158742,  0.22157896,  0.2215941 ,  0.22159463,\n",
       "        0.22160059,  0.22160453,  0.22159541,  0.22159547,  0.22159874,\n",
       "        0.21981531,  0.21834302,  0.21711373,  0.21607357,  0.21518397], dtype=float32)"
      ]
     },
     "execution_count": 14,
     "metadata": {},
     "output_type": "execute_result"
    }
   ],
   "source": [
    "taux_employe = 1 - salaire_net / salaire_brut  \n",
    "taux_employeur = salaire_super_brut / salaire_brut - 1 \n",
    "taux_employe"
   ]
  },
  {
   "cell_type": "code",
   "execution_count": 15,
   "metadata": {
    "collapsed": false
   },
   "outputs": [
    {
     "name": "stdout",
     "output_type": "stream",
     "text": [
      "[ 0.11679995  0.11364818  0.11364377  0.11366093  0.11365557]\n",
      "[ 5039.06982422  5539.44726562  6039.81494141  6540.20263672  7040.60009766]\n",
      "[ 3571.71435547  3928.78564453  4285.85693359  4642.92871094  5000.        ]\n"
     ]
    },
    {
     "data": {
      "text/plain": [
       "array([ 0.11679995,  0.11364818,  0.11364377,  0.11366093,  0.11365557,\n",
       "        0.24736917,  0.34955955,  0.41185665,  0.41185796,  0.41185904,\n",
       "        0.41082668,  0.4099642 ,  0.40924323,  0.40863729,  0.40812004], dtype=float32)"
      ]
     },
     "execution_count": 15,
     "metadata": {},
     "output_type": "execute_result"
    }
   ],
   "source": [
    "print (salaire_super_brut[:5] /salaire_brut[:5]) - 1\n",
    "print salaire_super_brut[-5:]\n",
    "print salaire_brut[-5:]\n",
    "\n",
    "taux_employeur\n"
   ]
  },
  {
   "cell_type": "code",
   "execution_count": 16,
   "metadata": {
    "collapsed": false
   },
   "outputs": [
    {
     "data": {
      "text/plain": [
       "(0, 0.5)"
      ]
     },
     "execution_count": 16,
     "metadata": {},
     "output_type": "execute_result"
    },
    {
     "data": {
      "image/png": "[encoded data removed]",
      "text/plain": [
       "<matplotlib.figure.Figure at 0x7f61e0bf7e50>"
      ]
     },
     "metadata": {},
     "output_type": "display_data"
    }
   ],
   "source": [
    "fig = plt.figure()\n",
    "plt.plot(salaire_brut, taux_employe, label = \"taux_employe\")\n",
    "plt.plot(salaire_brut, taux_employeur, label = \"taux_employeur\")\n",
    "plt.legend(loc = 0, shadow=True, fancybox=True)\n",
    "plt.ylim([0,.5])"
   ]
  },
  {
   "cell_type": "code",
   "execution_count": 17,
   "metadata": {
    "collapsed": false
   },
   "outputs": [
    {
     "name": "stdout",
     "output_type": "stream",
     "text": [
      "cotisations_employeur\n",
      "-0.415\n",
      "-147.4711\n",
      "-294.5271\n",
      "-441.6032\n",
      "-588.6593\n",
      "-735.7453\n",
      "-882.7914\n",
      "-1029.8474\n",
      "-1176.9136\n",
      "-1323.9796\n",
      "-1467.3556\n",
      "-1610.6619\n",
      "-1753.9579\n",
      "-1897.2739\n",
      "-2040.6001\n"
     ]
    }
   ],
   "source": [
    "cotisations_employeur = simulation1.calculate('cotisations_employeur')\n",
    "i = 0\n",
    "print \"cotisations_employeur\"\n",
    "cotisations_employeur = simulation1.calculate('cotisations_employeur')\n",
    "while i < 15:                                                                                                 \n",
    "    print round(cotisations_employeur[i],4)\n",
    "    i = i + 1"
   ]
  },
  {
   "cell_type": "code",
   "execution_count": 18,
   "metadata": {
    "collapsed": false
   },
   "outputs": [
    {
     "name": "stdout",
     "output_type": "stream",
     "text": [
      "salaire de base\n",
      "1.0\n",
      "358.0714\n",
      "715.1429\n",
      "1072.2142\n",
      "1429.2858\n",
      "1786.3572\n",
      "2143.4285\n",
      "2500.5\n",
      "2857.5715\n",
      "3214.6428\n",
      "3571.7144\n",
      "3928.7856\n",
      "4285.8569\n",
      "4642.9287\n",
      "5000.0\n"
     ]
    }
   ],
   "source": [
    "i = 0\n",
    "print \"salaire de base\"\n",
    "salaire_de_base = simulation1.calculate('salaire_de_base')\n",
    "while i < 15:                                                                                                 \n",
    "    print round(salaire_de_base[i],4)\n",
    "    i = i + 1\n",
    "\n",
    "\n",
    "\n"
   ]
  },
  {
   "cell_type": "code",
   "execution_count": 19,
   "metadata": {
    "collapsed": false
   },
   "outputs": [
    {
     "name": "stdout",
     "output_type": "stream",
     "text": [
      "[-0.41500002 -0.41184819 -0.41184375 -0.41186097 -0.41185558 -0.41186908\n",
      " -0.41185954 -0.41185659 -0.41185796 -0.41185901 -0.41082668 -0.40996429\n",
      " -0.40924323 -0.40863732 -0.40812001]\n"
     ]
    }
   ],
   "source": [
    "#simulation1.calculate('cotisations_employeur') / simulation1.calculate('salaire_de_base')\n",
    "ratio = cotisations_employeur / salaire_de_base\n",
    "print ratio"
   ]
  },
  {
   "cell_type": "code",
   "execution_count": 20,
   "metadata": {
    "collapsed": false
   },
   "outputs": [
    {
     "name": "stdout",
     "output_type": "stream",
     "text": [
      "https://www.openfisca.fr/tools/trace?api_url=https%3A%2F%2Fapi.openfisca.fr%2F&simulation=%7B%22scenarios%22%3A+%5B%7B%22axes%22%3A+%5B%5B%7B%22count%22%3A+15%2C+%22index%22%3A+0%2C+%22name%22%3A+%22salaire_de_base%22%2C+%22min%22%3A+1%2C+%22max%22%3A+5000%2C+%22period%22%3A+null%7D%5D%5D%2C+%22period%22%3A+%222016-01%22%2C+%22test_case%22%3A+%7B%22familles%22%3A+%5B%7B%22id%22%3A+0%2C+%22parents%22%3A+%5B%22ind0%22%5D%7D%5D%2C+%22foyers_fiscaux%22%3A+%5B%7B%22id%22%3A+0%2C+%22declarants%22%3A+%5B%22ind0%22%5D%7D%5D%2C+%22individus%22%3A+%5B%7B%22id%22%3A+%22ind0%22%2C+%22taille_entreprise%22%3A+0%2C+%22allegement_cotisation_allocations_familiales_mode_recouvrement%22%3A+1%2C+%22allegement_fillon_mode_recouvrement%22%3A+2%7D%5D%2C+%22menages%22%3A+%5B%7B%22id%22%3A+0%2C+%22personne_de_reference%22%3A+%22ind0%22%7D%5D%7D%7D%5D%2C+%22variables%22%3A+%5B%22cotisations_employeur%22%5D%7D\n"
     ]
    }
   ],
   "source": [
    "\n",
    "from openfisca_core import tools\n",
    "print(tools.get_trace_tool_link(simulation, ['cotisations_employeur'], api_url='https://api.openfisca.fr/', trace_tool_url='https://www.openfisca.fr/tools/trace'))"
   ]
  },
  {
   "cell_type": "code",
   "execution_count": 21,
   "metadata": {
    "collapsed": false
   },
   "outputs": [
    {
     "name": "stdout",
     "output_type": "stream",
     "text": [
      "Cot. malad. sal.\n",
      "-0.01\n",
      "-2.69\n",
      "-5.36\n",
      "-8.04\n",
      "-10.72\n",
      "-13.4\n",
      "-16.08\n",
      "-18.75\n",
      "-21.43\n",
      "-24.11\n",
      "-26.79\n",
      "-29.47\n",
      "-32.14\n",
      "-34.82\n",
      "-37.5\n"
     ]
    }
   ],
   "source": [
    "i = 0\n",
    "print \"Cot. malad. sal.\"\n",
    "cot_mal_sal = simulation1.calculate('mmid_salarie')\n",
    "while i < 15:                                                                                                 \n",
    "    print round(cot_mal_sal[i],4)\n",
    "    i = i + 1\n",
    "\n"
   ]
  },
  {
   "cell_type": "code",
   "execution_count": 22,
   "metadata": {
    "collapsed": false
   },
   "outputs": [
    {
     "name": "stdout",
     "output_type": "stream",
     "text": [
      "contribution_exceptionnelle_solidarite\n",
      "-0.0\n",
      "-0.0\n",
      "-0.0\n",
      "-0.0\n",
      "-0.0\n",
      "-0.0\n",
      "-0.0\n",
      "-0.0\n",
      "-0.0\n",
      "-0.0\n",
      "-0.0\n",
      "-0.0\n",
      "-0.0\n",
      "-0.0\n",
      "-0.0\n"
     ]
    }
   ],
   "source": [
    "\n",
    "i = 0\n",
    "print \"contribution_exceptionnelle_solidarite\"\n",
    "contribution_exceptionnelle_solidarite = simulation1.calculate('contribution_exceptionnelle_solidarite')\n",
    "while i < 15:                                                                                                 \n",
    "    print round(contribution_exceptionnelle_solidarite[i],4)\n",
    "    i = i + 1"
   ]
  },
  {
   "cell_type": "code",
   "execution_count": 23,
   "metadata": {
    "collapsed": false
   },
   "outputs": [
    {
     "name": "stdout",
     "output_type": "stream",
     "text": [
      "cotisations_salariales_non_contributives\n",
      "-0.01\n",
      "-2.69\n",
      "-5.36\n",
      "-8.04\n",
      "-10.72\n",
      "-13.4\n",
      "-16.08\n",
      "-18.75\n",
      "-21.43\n",
      "-24.11\n",
      "-26.79\n",
      "-29.47\n",
      "-32.14\n",
      "-34.82\n",
      "-37.5\n"
     ]
    }
   ],
   "source": [
    "\n",
    "i = 0\n",
    "print \"cotisations_salariales_non_contributives\"\n",
    "cotisations_salariales_non_contributives = simulation1.calculate('cotisations_salariales_non_contributives')\n",
    "while i < 15:                                                                                                 \n",
    "    print round(cotisations_salariales_non_contributives[i],4)\n",
    "    i = i + 1"
   ]
  },
  {
   "cell_type": "code",
   "execution_count": 24,
   "metadata": {
    "collapsed": false
   },
   "outputs": [
    {
     "name": "stdout",
     "output_type": "stream",
     "text": [
      "cotisations_salariales_contributives\n",
      "-0.13\n",
      "-48.51\n",
      "-96.89\n",
      "-145.28\n",
      "-193.66\n",
      "-242.05\n",
      "-290.44\n",
      "-338.81\n",
      "-387.19\n",
      "-435.58\n",
      "-477.59\n",
      "-519.55\n",
      "-561.5099\n",
      "-603.46\n",
      "-645.42\n"
     ]
    }
   ],
   "source": [
    "i = 0\n",
    "print \"cotisations_salariales_contributives\"\n",
    "cotisations_salariales_contributives = simulation1.calculate('cotisations_salariales_contributives')\n",
    "while i < 15:                                                                                                 \n",
    "    print round(cotisations_salariales_contributives[i],4)\n",
    "    i = i + 1"
   ]
  },
  {
   "cell_type": "code",
   "execution_count": 25,
   "metadata": {
    "collapsed": false
   },
   "outputs": [
    {
     "name": "stdout",
     "output_type": "stream",
     "text": [
      "contrib_salariales\n",
      "-0.14\n",
      "-51.2\n",
      "-102.25\n",
      "-153.32\n",
      "-204.38\n",
      "-255.45\n",
      "-306.52\n",
      "-357.56\n",
      "-408.62\n",
      "-459.69\n",
      "-504.38\n",
      "-549.02\n",
      "-593.65\n",
      "-638.28\n",
      "-682.92\n"
     ]
    }
   ],
   "source": [
    "contrib_salariales = cotisations_salariales_contributives + cotisations_salariales_non_contributives\n",
    "\n",
    "i = 0\n",
    "print \"contrib_salariales\"\n",
    "while i < 15:                                                                                                 \n",
    "    print round(contrib_salariales[i],4)\n",
    "    i = i + 1\n"
   ]
  },
  {
   "cell_type": "code",
   "execution_count": 26,
   "metadata": {
    "collapsed": false
   },
   "outputs": [
    {
     "name": "stdout",
     "output_type": "stream",
     "text": [
      "cotisations salariales\n",
      "-0.14\n",
      "-51.2\n",
      "-102.25\n",
      "-153.32\n",
      "-204.38\n",
      "-255.45\n",
      "-306.52\n",
      "-357.56\n",
      "-408.62\n",
      "-459.69\n",
      "-504.38\n",
      "-549.02\n",
      "-593.65\n",
      "-638.28\n",
      "-682.92\n"
     ]
    }
   ],
   "source": [
    "cotisations_salariales = simulation1.calculate('cotisations_salariales')\n",
    "i = 0\n",
    "print \"cotisations salariales\"\n",
    "\n",
    "while i < 15:                                                                                                 \n",
    "    print round(cotisations_salariales[i],4)\n",
    "    i = i + 1\n"
   ]
  },
  {
   "cell_type": "code",
   "execution_count": null,
   "metadata": {
    "collapsed": true
   },
   "outputs": [],
   "source": []
  }
 ],
 "metadata": {
  "kernelspec": {
   "display_name": "Python 2",
   "language": "python",
   "name": "python2"
  },
  "language_info": {
   "codemirror_mode": {
    "name": "ipython",
    "version": 2
   },
   "file_extension": ".py",
   "mimetype": "text/x-python",
   "name": "python",
   "nbconvert_exporter": "python",
   "pygments_lexer": "ipython2",
   "version": "2.7.9"
  }
 },
 "nbformat": 4,
 "nbformat_minor": 0
}
