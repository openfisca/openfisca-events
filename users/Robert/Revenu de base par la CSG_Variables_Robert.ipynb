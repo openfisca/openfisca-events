{
 "cells": [
  {
   "cell_type": "code",
   "execution_count": 33,
   "metadata": {
    "collapsed": false
   },
   "outputs": [],
   "source": [
    "from datetime import date\n",
    "import json\n",
    "\n",
    "import openfisca_france\n",
    "from openfisca_france.model.base import *\n",
    "\n",
    "#importer numpy permet de coler deux sections de courbes (nécessaire quand on fait varier le salaire de base en-dessous du SMIC mensuel)\n",
    "import numpy as np\n",
    "\n",
    "# to debug / trace\n",
    "from openfisca_core import tools\n",
    "from openfisca_core.reforms import Reform"
   ]
  },
  {
   "cell_type": "markdown",
   "metadata": {},
   "source": [
    "# Système socio-fiscal"
   ]
  },
  {
   "cell_type": "code",
   "execution_count": 34,
   "metadata": {
    "collapsed": false
   },
   "outputs": [],
   "source": [
    "tax_benefit_system = openfisca_france.FranceTaxBenefitSystem()"
   ]
  },
  {
   "cell_type": "markdown",
   "metadata": {},
   "source": [
    "# Réforme : 1. Revenu de base par CSG"
   ]
  },
  {
   "cell_type": "code",
   "execution_count": 35,
   "metadata": {
    "collapsed": false
   },
   "outputs": [],
   "source": [
    "from numpy import logical_not as not_, minimum as min_, maximum as max_, logical_and as and_, logical_or as or_"
   ]
  },
  {
   "cell_type": "code",
   "execution_count": 36,
   "metadata": {
    "collapsed": false
   },
   "outputs": [],
   "source": [
    "#- Hausse de la CSG déductible au taux de 23%\n",
    "#montant_csg_crds calcul à partir csg.activite.deductible.taux\n",
    "\n",
    "def modify_legislation_json(reference_legislation_json_copy):\n",
    "    for value_json in reference_legislation_json_copy['children']['csg']['children']['activite']['children']['deductible']['children']['taux']['values']:\n",
    "        value_json['value'] = 0.23\n",
    "    return reference_legislation_json_copy"
   ]
  },
  {
   "cell_type": "code",
   "execution_count": 37,
   "metadata": {
    "collapsed": false
   },
   "outputs": [],
   "source": [
    "# Supprimer l'ASPA\n",
    "\n",
    "class aspa(Variable):\n",
    "    def function(self, simulation, period):\n",
    "        period = period.this_month\n",
    "        return period, self.zeros()"
   ]
  },
  {
   "cell_type": "code",
   "execution_count": 38,
   "metadata": {
    "collapsed": true
   },
   "outputs": [],
   "source": [
    "#- Supprimer le RSA\n",
    "class rsa_socle(Variable):\n",
    "    def function(self, simulation, period):\n",
    "        period = period.this_month\n",
    "        nb_parents = simulation.calculate('nb_parents', period)\n",
    "        eligib = simulation.calculate('rsa_eligibilite', period)\n",
    "        rsa_nb_enfants = simulation.calculate('rsa_nb_enfants', period)\n",
    "        rmi = simulation.legislation_at(period.start).minim.rmi\n",
    "\n",
    "        nbp = nb_parents + rsa_nb_enfants\n",
    "\n",
    "        taux = (\n",
    "            1 +\n",
    "            (nbp >= 2) * rmi.txp2 +\n",
    "            (nbp >= 3) * rmi.txp3 +\n",
    "            (nbp >= 4) * ((nb_parents == 1) * rmi.txps + (nb_parents != 1) * rmi.txp3) +\n",
    "            max_(nbp - 4, 0) * rmi.txps\n",
    "        )\n",
    "        #on met à zéro\n",
    "        return period, eligib * rmi.rmi * taux * 0"
   ]
  },
  {
   "cell_type": "code",
   "execution_count": 39,
   "metadata": {
    "collapsed": true
   },
   "outputs": [],
   "source": [
    "# Suppression des allocations familiales\n",
    "\n",
    "class af(Variable):\n",
    "    def function(self, simulation, period):\n",
    "        period = period.this_month\n",
    "        af_base = simulation.calculate('af_base', period)\n",
    "        af_majoration = simulation.calculate('af_majoration', period)\n",
    "        af_allocation_forfaitaire = simulation.calculate('af_allocation_forfaitaire', period)\n",
    "\n",
    "        #return period, af_base + af_majoration + af_allocation_forfaitaire\n",
    "        return period, af_base * 0"
   ]
  },
  {
   "cell_type": "code",
   "execution_count": 40,
   "metadata": {
    "collapsed": true
   },
   "outputs": [],
   "source": [
    "# Suppression de la PAJE\n",
    "\n",
    "class paje(Variable):\n",
    "    def function(self, simulation, period):\n",
    "        '''\n",
    "        Prestation d'accueil du jeune enfant\n",
    "        '''\n",
    "        period = period.this_month\n",
    "\n",
    "        paje_base = simulation.calculate('paje_base', period)\n",
    "        paje_naissance = simulation.calculate('paje_naissance', period)\n",
    "        paje_clca = simulation.calculate('paje_clca', period)\n",
    "        paje_clmg = simulation.calculate('paje_clmg', period)\n",
    "        paje_colca = simulation.calculate('paje_colca', period)\n",
    "\n",
    "        return period, (paje_base + (paje_naissance + paje_clca + paje_clmg + paje_colca) / 12) * 0\n"
   ]
  },
  {
   "cell_type": "code",
   "execution_count": null,
   "metadata": {
    "collapsed": false
   },
   "outputs": [],
   "source": []
  },
  {
   "cell_type": "code",
   "execution_count": 41,
   "metadata": {
    "collapsed": false
   },
   "outputs": [],
   "source": [
    "class ReformeRevenuDeBaseparCSG(Reform):\n",
    "    name = u\"Réforme Revenu de base par CSG\"\n",
    "\n",
    "    def apply(self):\n",
    "        for variable in [aspa, rsa_socle, af, paje]:\n",
    "            self.update_variable(variable)\n",
    "            self.modify_legislation_json(modifier_function = modify_legislation_json)"
   ]
  },
  {
   "cell_type": "markdown",
   "metadata": {},
   "source": [
    "# Tests"
   ]
  },
  {
   "cell_type": "code",
   "execution_count": 42,
   "metadata": {
    "collapsed": false
   },
   "outputs": [],
   "source": [
    "reform = ReformeRevenuDeBaseparCSG(tax_benefit_system)"
   ]
  },
  {
   "cell_type": "code",
   "execution_count": 43,
   "metadata": {
    "collapsed": true
   },
   "outputs": [],
   "source": [
    "parent1_base_ressources = 5000 # base annuelle"
   ]
  },
  {
   "cell_type": "code",
   "execution_count": 44,
   "metadata": {
    "collapsed": false
   },
   "outputs": [],
   "source": [
    "scenario_ref_individu_seul = tax_benefit_system.new_scenario().init_single_entity(\n",
    "    period = 2016,\n",
    "    parent1 = dict(\n",
    "        date_naissance = date(1980, 1, 1),\n",
    "        salaire_de_base = parent1_base_ressources,\n",
    "        asi_aspa_base_ressources_individu = parent1_base_ressources / 12, # base ressources de l'aspa\n",
    "        statut_marital = u'Célibataire',\n",
    "        ),\n",
    "    #foyer_fiscal = dict(\n",
    "     #   caseT = True,\n",
    "     #   ),\n",
    "    enfants = [\n",
    "        dict(date_naissance = date(2010, 1, 1)),\n",
    "        dict(date_naissance = date(2014, 1, 1)),\n",
    "        dict(date_naissance = date(2015, 1, 1)),\n",
    "        ],\n",
    "    )"
   ]
  },
  {
   "cell_type": "code",
   "execution_count": 45,
   "metadata": {
    "collapsed": false
   },
   "outputs": [
    {
     "name": "stdout",
     "output_type": "stream",
     "text": [
      "https://www.openfisca.fr/tools/trace?api_url=https%3A%2F%2Fapi.openfisca.fr%2F&simulation=%7B%22scenarios%22%3A+%5B%7B%22period%22%3A+%222016%22%2C+%22test_case%22%3A+%7B%22familles%22%3A+%5B%7B%22id%22%3A+0%2C+%22parents%22%3A+%5B%22ind0%22%5D%2C+%22enfants%22%3A+%5B%22ind2%22%2C+%22ind3%22%2C+%22ind4%22%5D%7D%5D%2C+%22foyers_fiscaux%22%3A+%5B%7B%22id%22%3A+0%2C+%22declarants%22%3A+%5B%22ind0%22%5D%2C+%22personnes_a_charge%22%3A+%5B%22ind2%22%2C+%22ind3%22%2C+%22ind4%22%5D%7D%5D%2C+%22individus%22%3A+%5B%7B%22id%22%3A+%22ind0%22%2C+%22date_naissance%22%3A+%221980-01-01%22%2C+%22statut_marital%22%3A+2%2C+%22salaire_de_base%22%3A+5000.0%2C+%22asi_aspa_base_ressources_individu%22%3A+416.0%7D%2C+%7B%22id%22%3A+%22ind2%22%2C+%22date_naissance%22%3A+%222010-01-01%22%7D%2C+%7B%22id%22%3A+%22ind3%22%2C+%22date_naissance%22%3A+%222014-01-01%22%7D%2C+%7B%22id%22%3A+%22ind4%22%2C+%22date_naissance%22%3A+%222015-01-01%22%7D%5D%2C+%22menages%22%3A+%5B%7B%22id%22%3A+0%2C+%22personne_de_reference%22%3A+%22ind0%22%2C+%22enfants%22%3A+%5B%22ind2%22%2C+%22ind3%22%2C+%22ind4%22%5D%7D%5D%7D%7D%5D%2C+%22variables%22%3A+%5B%22rsa%22%5D%7D\n"
     ]
    }
   ],
   "source": [
    "from openfisca_core import tools\n",
    "print(tools.get_trace_tool_link(scenario_ref_individu_seul, ['rsa'], api_url='https://api.openfisca.fr/', trace_tool_url='https://www.openfisca.fr/tools/trace'))"
   ]
  },
  {
   "cell_type": "code",
   "execution_count": 46,
   "metadata": {
    "collapsed": false
   },
   "outputs": [],
   "source": [
    "simulation_ref_individu_seul = scenario_ref_individu_seul.new_simulation(debug = True)"
   ]
  },
  {
   "cell_type": "code",
   "execution_count": 47,
   "metadata": {
    "collapsed": false
   },
   "outputs": [
    {
     "data": {
      "text/plain": [
       "array([ 0.], dtype=float32)"
      ]
     },
     "execution_count": 47,
     "metadata": {},
     "output_type": "execute_result"
    }
   ],
   "source": [
    "simulation_ref_individu_seul.calculate('irpp')"
   ]
  },
  {
   "cell_type": "code",
   "execution_count": 48,
   "metadata": {
    "collapsed": false
   },
   "outputs": [
    {
     "data": {
      "text/plain": [
       "array([ 3842.42871094], dtype=float32)"
      ]
     },
     "execution_count": 48,
     "metadata": {},
     "output_type": "execute_result"
    }
   ],
   "source": [
    "simulation_ref_individu_seul.calculate_add('rsa')"
   ]
  },
  {
   "cell_type": "code",
   "execution_count": 49,
   "metadata": {
    "collapsed": false
   },
   "outputs": [
    {
     "data": {
      "text/plain": [
       "array([ 13848.11914062], dtype=float32)"
      ]
     },
     "execution_count": 49,
     "metadata": {},
     "output_type": "execute_result"
    }
   ],
   "source": [
    "simulation_ref_individu_seul.calculate_add('rsa_socle')"
   ]
  },
  {
   "cell_type": "code",
   "execution_count": 50,
   "metadata": {
    "collapsed": false
   },
   "outputs": [
    {
     "data": {
      "text/plain": [
       "array([ 2010.82519531], dtype=float32)"
      ]
     },
     "execution_count": 50,
     "metadata": {},
     "output_type": "execute_result"
    }
   ],
   "source": [
    "simulation_ref_individu_seul.calculate_add('ppa')"
   ]
  },
  {
   "cell_type": "code",
   "execution_count": 51,
   "metadata": {
    "collapsed": false
   },
   "outputs": [],
   "source": [
    "#df_ref__aspa = simulation_ref_individu_seul.calculate('aspa')\n",
    "#print round(df_ref__aspa,2), \"par mois\""
   ]
  },
  {
   "cell_type": "code",
   "execution_count": 52,
   "metadata": {
    "collapsed": false
   },
   "outputs": [
    {
     "name": "stdout",
     "output_type": "stream",
     "text": [
      "320.2025\n"
     ]
    }
   ],
   "source": [
    "df_rsa = simulation_ref_individu_seul.calculate_add('rsa')\n",
    "print round(df_rsa,2)/12,"
   ]
  },
  {
   "cell_type": "code",
   "execution_count": 53,
   "metadata": {
    "collapsed": false
   },
   "outputs": [
    {
     "name": "stdout",
     "output_type": "stream",
     "text": [
      "3561.06 par mois\n"
     ]
    }
   ],
   "source": [
    "df_af = simulation_ref_individu_seul.calculate_add('af')\n",
    "print round(df_af,2), \"par mois\""
   ]
  },
  {
   "cell_type": "code",
   "execution_count": 54,
   "metadata": {
    "collapsed": false
   },
   "outputs": [
    {
     "name": "stdout",
     "output_type": "stream",
     "text": [
      "2226.5\n",
      "https://www.openfisca.fr/tools/trace?api_url=https%3A%2F%2Fapi.openfisca.fr%2F&simulation=%7B%22scenarios%22%3A+%5B%7B%22period%22%3A+%222016%22%2C+%22test_case%22%3A+%7B%22familles%22%3A+%5B%7B%22id%22%3A+0%2C+%22parents%22%3A+%5B%22ind0%22%5D%2C+%22enfants%22%3A+%5B%22ind2%22%2C+%22ind3%22%2C+%22ind4%22%5D%7D%5D%2C+%22foyers_fiscaux%22%3A+%5B%7B%22id%22%3A+0%2C+%22declarants%22%3A+%5B%22ind0%22%5D%2C+%22personnes_a_charge%22%3A+%5B%22ind2%22%2C+%22ind3%22%2C+%22ind4%22%5D%7D%5D%2C+%22individus%22%3A+%5B%7B%22id%22%3A+%22ind0%22%2C+%22date_naissance%22%3A+%221980-01-01%22%2C+%22statut_marital%22%3A+2%2C+%22salaire_de_base%22%3A+5000.0%2C+%22asi_aspa_base_ressources_individu%22%3A+416.0%7D%2C+%7B%22id%22%3A+%22ind2%22%2C+%22date_naissance%22%3A+%222010-01-01%22%7D%2C+%7B%22id%22%3A+%22ind3%22%2C+%22date_naissance%22%3A+%222014-01-01%22%7D%2C+%7B%22id%22%3A+%22ind4%22%2C+%22date_naissance%22%3A+%222015-01-01%22%7D%5D%2C+%22menages%22%3A+%5B%7B%22id%22%3A+0%2C+%22personne_de_reference%22%3A+%22ind0%22%2C+%22enfants%22%3A+%5B%22ind2%22%2C+%22ind3%22%2C+%22ind4%22%5D%7D%5D%7D%7D%5D%2C+%22variables%22%3A+%5B%22rsa%22%5D%7D\n"
     ]
    }
   ],
   "source": [
    "df_paje = simulation_ref_individu_seul.calculate_add('paje')\n",
    "print round(df_paje,2)\n",
    "\n",
    "from openfisca_core import tools\n",
    "print(tools.get_trace_tool_link(scenario_ref_individu_seul, ['rsa'], api_url='https://api.openfisca.fr/', trace_tool_url='https://www.openfisca.fr/tools/trace'))"
   ]
  },
  {
   "cell_type": "code",
   "execution_count": 55,
   "metadata": {
    "collapsed": false
   },
   "outputs": [
    {
     "data": {
      "text/plain": [
       "array([ 1401.,     0.,     0.,     0.], dtype=float32)"
      ]
     },
     "execution_count": 55,
     "metadata": {},
     "output_type": "execute_result"
    }
   ],
   "source": [
    "simulation_ref_individu_seul.calculate_add('allegement_fillon')"
   ]
  },
  {
   "cell_type": "code",
   "execution_count": 56,
   "metadata": {
    "collapsed": false
   },
   "outputs": [
    {
     "data": {
      "text/plain": [
       "array([ 5000.,     0.,     0.,     0.], dtype=float32)"
      ]
     },
     "execution_count": 56,
     "metadata": {},
     "output_type": "execute_result"
    }
   ],
   "source": [
    "simulation_ref_individu_seul.calculate_add('assiette_allegement')"
   ]
  },
  {
   "cell_type": "code",
   "execution_count": null,
   "metadata": {
    "collapsed": true
   },
   "outputs": [],
   "source": []
  },
  {
   "cell_type": "code",
   "execution_count": null,
   "metadata": {
    "collapsed": true
   },
   "outputs": [],
   "source": []
  },
  {
   "cell_type": "code",
   "execution_count": 57,
   "metadata": {
    "collapsed": false
   },
   "outputs": [],
   "source": [
    "scenario_rdb_individu_seul = reform.new_scenario().init_single_entity(\n",
    "    period = \"2016-08\",\n",
    "    parent1 = dict(\n",
    "        date_naissance = date(1980, 1, 1),\n",
    "        salaire_de_base = parent1_base_ressources,\n",
    "        asi_aspa_base_ressources_individu = parent1_base_ressources,\n",
    "        statut_marital = u'Célibataire',\n",
    "        ),\n",
    "    foyer_fiscal = dict(\n",
    "        caseT = True,\n",
    "        ),\n",
    "    enfants = [\n",
    "        dict(\n",
    "            date_naissance = date(2010, 1, 1),\n",
    "            ),\n",
    "        dict(\n",
    "            date_naissance = date(2012, 1, 1),\n",
    "            ),\n",
    "        dict(\n",
    "            date_naissance = date(2013, 1, 1),\n",
    "            ),\n",
    "        ],\n",
    "    )"
   ]
  },
  {
   "cell_type": "code",
   "execution_count": 58,
   "metadata": {
    "collapsed": false
   },
   "outputs": [],
   "source": [
    "simulation_rdb_individu_seul = scenario_rdb_individu_seul.new_simulation(debug = True)"
   ]
  },
  {
   "cell_type": "markdown",
   "metadata": {},
   "source": [
    "Calculs de référence (revenu disponible, IR, RSA, CSG imposable/deductible, impot total) "
   ]
  },
  {
   "cell_type": "code",
   "execution_count": 59,
   "metadata": {
    "collapsed": false
   },
   "outputs": [
    {
     "name": "stdout",
     "output_type": "stream",
     "text": [
      "[ 0.]\n"
     ]
    }
   ],
   "source": [
    "df_rdb__aspa = simulation_rdb_individu_seul.calculate_add('aspa')\n",
    "print df_rdb__aspa"
   ]
  },
  {
   "cell_type": "code",
   "execution_count": 60,
   "metadata": {
    "collapsed": false
   },
   "outputs": [
    {
     "name": "stdout",
     "output_type": "stream",
     "text": [
      "[ 0.]\n"
     ]
    }
   ],
   "source": [
    "df_rsa = simulation_rdb_individu_seul.calculate('rsa')\n",
    "print df_rsa"
   ]
  },
  {
   "cell_type": "code",
   "execution_count": 61,
   "metadata": {
    "collapsed": false
   },
   "outputs": [
    {
     "name": "stdout",
     "output_type": "stream",
     "text": [
      "[ 0.]\n"
     ]
    }
   ],
   "source": [
    "df_af = simulation_rdb_individu_seul.calculate('af')\n",
    "print df_af"
   ]
  },
  {
   "cell_type": "code",
   "execution_count": 62,
   "metadata": {
    "collapsed": false
   },
   "outputs": [
    {
     "name": "stdout",
     "output_type": "stream",
     "text": [
      "0.0\n"
     ]
    }
   ],
   "source": [
    "df_paje = simulation_rdb_individu_seul.calculate('paje')\n",
    "print round(df_paje,2)"
   ]
  },
  {
   "cell_type": "code",
   "execution_count": 63,
   "metadata": {
    "collapsed": false
   },
   "outputs": [
    {
     "name": "stdout",
     "output_type": "stream",
     "text": [
      "[ 0.  0.  0.  0.]\n"
     ]
    }
   ],
   "source": [
    "df_allegement_fillon = simulation_rdb_individu_seul.calculate_add('allegement_fillon')\n",
    "print df_allegement_fillon"
   ]
  },
  {
   "cell_type": "code",
   "execution_count": 64,
   "metadata": {
    "collapsed": false
   },
   "outputs": [
    {
     "name": "stdout",
     "output_type": "stream",
     "text": [
      "Montants annuels             mensuels\n",
      "aspa   [ 0.]\n",
      "aah    [ 0.  0.  0.  0.]\n",
      "caah   [ 0.  0.  0.  0.]\n",
      "asi    [ 0.]\n",
      "rsa    [ 3842.42871094]     [ 320.20239258]\n",
      "aefa   [ 0.]\n",
      "api    [ 0.]\n",
      "ass    [ 0.]\n",
      "psa    [ 0.]\n",
      "ppa    [ 2010.82519531]\n",
      "Total  5853.25\n",
      "Minima [ 5853.25390625]\n",
      "   ok, égalité vérifiée  \n"
     ]
    }
   ],
   "source": [
    "df_aspa_ref = simulation_ref_individu_seul.calculate_add('aspa')\n",
    "df_aah_ref = simulation_ref_individu_seul.calculate_add('aah')\n",
    "df_caah_ref = simulation_ref_individu_seul.calculate_add('caah')\n",
    "df_asi_ref = simulation_ref_individu_seul.calculate_add('asi')\n",
    "df_rsa_ref = simulation_ref_individu_seul.calculate_add('rsa')\n",
    "df_aefa_ref = simulation_ref_individu_seul.calculate_add('aefa')\n",
    "df_api_ref = simulation_ref_individu_seul.calculate_add('api')\n",
    "df_ass_ref = simulation_ref_individu_seul.calculate_add('ass')\n",
    "df_psa_ref = simulation_ref_individu_seul.calculate_add('psa')\n",
    "df_ppa_ref = simulation_ref_individu_seul.calculate_add('ppa')\n",
    "df_mini_ref = simulation_ref_individu_seul.calculate_add('mini')\n",
    "\n",
    "tot_mini_ref = df_aspa_ref + df_aah_ref + df_caah_ref + df_asi_ref + df_rsa_ref + df_aefa_ref + df_api_ref + df_ass_ref + df_ppa_ref\n",
    "print \"Montants annuels             mensuels\"\n",
    "print \"aspa  \", df_aspa_ref\n",
    "print \"aah   \", df_aah_ref\n",
    "print \"caah  \", df_caah_ref\n",
    "print \"asi   \", df_asi_ref\n",
    "print \"rsa   \", df_rsa_ref, \"   \", df_rsa_ref / 12\n",
    "print \"aefa  \", df_aefa_ref\n",
    "print \"api   \", df_api_ref\n",
    "print \"ass   \", df_ass_ref\n",
    "print \"psa   \", df_psa_ref\n",
    "print \"ppa   \", df_ppa_ref\n",
    "print \"Total \", tot_mini_ref[0]\n",
    "print \"Minima\", df_mini_ref\n",
    "\n",
    "if tot_mini_ref[0] == df_mini_ref[0]:\n",
    "    print \"   ok, égalité vérifiée  \"\n"
   ]
  },
  {
   "cell_type": "code",
   "execution_count": null,
   "metadata": {
    "collapsed": true
   },
   "outputs": [],
   "source": []
  },
  {
   "cell_type": "code",
   "execution_count": null,
   "metadata": {
    "collapsed": true
   },
   "outputs": [],
   "source": []
  },
  {
   "cell_type": "code",
   "execution_count": null,
   "metadata": {
    "collapsed": true
   },
   "outputs": [],
   "source": []
  },
  {
   "cell_type": "code",
   "execution_count": null,
   "metadata": {
    "collapsed": true
   },
   "outputs": [],
   "source": []
  },
  {
   "cell_type": "code",
   "execution_count": null,
   "metadata": {
    "collapsed": true
   },
   "outputs": [],
   "source": []
  },
  {
   "cell_type": "code",
   "execution_count": null,
   "metadata": {
    "collapsed": true
   },
   "outputs": [],
   "source": []
  },
  {
   "cell_type": "code",
   "execution_count": null,
   "metadata": {
    "collapsed": true
   },
   "outputs": [],
   "source": []
  },
  {
   "cell_type": "code",
   "execution_count": null,
   "metadata": {
    "collapsed": true
   },
   "outputs": [],
   "source": []
  }
 ],
 "metadata": {
  "kernelspec": {
   "display_name": "Python 2",
   "language": "python",
   "name": "python2"
  },
  "language_info": {
   "codemirror_mode": {
    "name": "ipython",
    "version": 2
   },
   "file_extension": ".py",
   "mimetype": "text/x-python",
   "name": "python",
   "nbconvert_exporter": "python",
   "pygments_lexer": "ipython2",
   "version": "2.7.9"
  }
 },
 "nbformat": 4,
 "nbformat_minor": 0
}
