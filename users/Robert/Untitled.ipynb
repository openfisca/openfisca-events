{
 "cells": [
  {
   "cell_type": "code",
   "execution_count": 14,
   "metadata": {
    "collapsed": true
   },
   "outputs": [],
   "source": [
    "from datetime import date\n",
    "import json\n",
    "\n",
    "import matplotlib.pyplot as plt\n",
    "%matplotlib inline\n",
    "\n",
    "import numpy as np\n",
    "from numpy import logical_not as not_, minimum as min_, maximum as max_, logical_and as and_, logical_or as or_, round as round_\n",
    "\n",
    "\n",
    "import openfisca_france\n",
    "from openfisca_france.model.base import *\n",
    "\n",
    "from openfisca_core.reforms import Reform\n",
    "\n",
    "import pdb\n",
    "\n"
   ]
  },
  {
   "cell_type": "code",
   "execution_count": 15,
   "metadata": {
    "collapsed": true
   },
   "outputs": [],
   "source": [
    "tax_benefit_system = openfisca_france.FranceTaxBenefitSystem()  "
   ]
  },
  {
   "cell_type": "code",
   "execution_count": 16,
   "metadata": {
    "collapsed": false
   },
   "outputs": [],
   "source": [
    "\n",
    "simulation = tax_benefit_system.new_scenario().init_single_entity(\n",
    "    axes = [\n",
    "        dict(\n",
    "            count = 20,\n",
    "            min = 0,\n",
    "            max = 50000,\n",
    "            name = 'salaire_de_base',\n",
    "            ),\n",
    "        ],\n",
    "    period = 2016,\n",
    "   # statut_occupation_logement = 1,\n",
    "    parent1 = dict(\n",
    "        activite = u'Chômeur',\n",
    "        #statmarit = u'Célibataire',\n",
    "        date_naissance = date(1991, 1, 1),\n",
    "        ),\n",
    "   \n",
    "    )#.new_simulation(debug = True)\n"
   ]
  },
  {
   "cell_type": "code",
   "execution_count": 17,
   "metadata": {
    "collapsed": false
   },
   "outputs": [],
   "source": [
    "simulation1 = simulation.new_simulation(trace=True)\n"
   ]
  },
  {
   "cell_type": "code",
   "execution_count": 18,
   "metadata": {
    "collapsed": false
   },
   "outputs": [],
   "source": [
    "#pdb.set_trace()\n",
    "\n",
    "\n",
    "individu_1_enfant_rsa = simulation1.calculate_add('rsa', print_trace=True, show_default_values=False)/12\n",
    "#individu_1_enfant_rsa"
   ]
  },
  {
   "cell_type": "code",
   "execution_count": 19,
   "metadata": {
    "collapsed": false
   },
   "outputs": [
    {
     "name": "stdout",
     "output_type": "stream",
     "text": [
      "https://www.openfisca.fr/tools/trace?api_url=https%3A%2F%2Fapi.openfisca.fr%2F&simulation=%7B%22scenarios%22%3A+%5B%7B%22axes%22%3A+%5B%5B%7B%22count%22%3A+20%2C+%22index%22%3A+0%2C+%22name%22%3A+%22salaire_de_base%22%2C+%22min%22%3A+0%2C+%22max%22%3A+50000%2C+%22period%22%3A+null%7D%5D%5D%2C+%22period%22%3A+%222016%22%2C+%22test_case%22%3A+%7B%22familles%22%3A+%5B%7B%22id%22%3A+0%2C+%22parents%22%3A+%5B%22ind0%22%5D%7D%5D%2C+%22foyers_fiscaux%22%3A+%5B%7B%22id%22%3A+0%2C+%22declarants%22%3A+%5B%22ind0%22%5D%7D%5D%2C+%22individus%22%3A+%5B%7B%22id%22%3A+%22ind0%22%2C+%22activite%22%3A+1%2C+%22date_naissance%22%3A+%221991-01-01%22%7D%5D%2C+%22menages%22%3A+%5B%7B%22id%22%3A+0%2C+%22personne_de_reference%22%3A+%22ind0%22%7D%5D%7D%7D%5D%2C+%22variables%22%3A+%5B%22rsa%22%5D%7D\n"
     ]
    }
   ],
   "source": [
    "from openfisca_core import tools\n",
    "print(tools.get_trace_tool_link(simulation, ['rsa'], api_url='https://api.openfisca.fr/', trace_tool_url='https://www.openfisca.fr/tools/trace'))"
   ]
  },
  {
   "cell_type": "code",
   "execution_count": null,
   "metadata": {
    "collapsed": false
   },
   "outputs": [],
   "source": [
    "individu_1_enfant_salaire_de_base = simulation1.calculate_add('salaire_de_base')/12\n",
    "individu_1_enfant_salaire_de_base"
   ]
  },
  {
   "cell_type": "code",
   "execution_count": null,
   "metadata": {
    "collapsed": false
   },
   "outputs": [],
   "source": [
    "individu_1_enfant_rsa_forfait_logement = simulation1.calculate_add('rsa_forfait_logement')/12\n",
    "individu_1_enfant_rsa_forfait_logement"
   ]
  },
  {
   "cell_type": "code",
   "execution_count": null,
   "metadata": {
    "collapsed": false
   },
   "outputs": [],
   "source": [
    "individu_1_enfant_rsa_revenu_activite_individu = simulation1.calculate_add('rsa_revenu_activite_individu')/12\n",
    "individu_1_enfant_rsa_revenu_activite_individu"
   ]
  },
  {
   "cell_type": "code",
   "execution_count": null,
   "metadata": {
    "collapsed": false
   },
   "outputs": [],
   "source": [
    "individu_1_enfant_rsa_majore = simulation1.calculate_add('rsa_majore')/12\n",
    "individu_1_enfant_rsa_majore"
   ]
  },
  {
   "cell_type": "code",
   "execution_count": null,
   "metadata": {
    "collapsed": false
   },
   "outputs": [],
   "source": [
    "individu_1_enfant_rsa_non_majore = simulation1.calculate_add('rsa_non_majore')/12\n",
    "individu_1_enfant_rsa_non_majore"
   ]
  },
  {
   "cell_type": "code",
   "execution_count": null,
   "metadata": {
    "collapsed": false
   },
   "outputs": [],
   "source": [
    "individu_1_enfant_rsa_non_calculable = simulation1.calculate_add('rsa_non_calculable')/12\n",
    "individu_1_enfant_rsa_non_calculable"
   ]
  },
  {
   "cell_type": "code",
   "execution_count": null,
   "metadata": {
    "collapsed": false
   },
   "outputs": [],
   "source": [
    "individu_1_enfant_rsa_base_ressources = simulation1.calculate_add('rsa_base_ressources')/12\n",
    "individu_1_enfant_rsa_base_ressources"
   ]
  },
  {
   "cell_type": "code",
   "execution_count": null,
   "metadata": {
    "collapsed": false
   },
   "outputs": [],
   "source": [
    "individu_1_enfant_rsa_forfait_logement = simulation1.calculate_add('rsa_forfait_logement')/12\n",
    "individu_1_enfant_rsa_forfait_logement"
   ]
  },
  {
   "cell_type": "code",
   "execution_count": null,
   "metadata": {
    "collapsed": false
   },
   "outputs": [],
   "source": [
    "individu_1_enfant_rsa_activite = simulation1.calculate_add('rsa_activite')/12\n",
    "individu_1_enfant_rsa_activite"
   ]
  },
  {
   "cell_type": "code",
   "execution_count": null,
   "metadata": {
    "collapsed": true
   },
   "outputs": [],
   "source": []
  },
  {
   "cell_type": "code",
   "execution_count": null,
   "metadata": {
    "collapsed": true
   },
   "outputs": [],
   "source": []
  },
  {
   "cell_type": "code",
   "execution_count": null,
   "metadata": {
    "collapsed": true
   },
   "outputs": [],
   "source": []
  }
 ],
 "metadata": {
  "kernelspec": {
   "display_name": "Python 2",
   "language": "python",
   "name": "python2"
  },
  "language_info": {
   "codemirror_mode": {
    "name": "ipython",
    "version": 2
   },
   "file_extension": ".py",
   "mimetype": "text/x-python",
   "name": "python",
   "nbconvert_exporter": "python",
   "pygments_lexer": "ipython2",
   "version": "2.7.9"
  }
 },
 "nbformat": 4,
 "nbformat_minor": 1
}
