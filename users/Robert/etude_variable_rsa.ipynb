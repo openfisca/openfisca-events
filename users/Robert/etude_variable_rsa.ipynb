{
 "cells": [
  {
   "cell_type": "markdown",
   "metadata": {
    "collapsed": true
   },
   "source": [
    "# Etude de la variable rsa"
   ]
  },
  {
   "cell_type": "code",
   "execution_count": 2,
   "metadata": {
    "collapsed": true
   },
   "outputs": [],
   "source": [
    "from datetime import date\n",
    "\n",
    "import matplotlib.pyplot as plt\n",
    "%matplotlib inline\n",
    "\n",
    "import numpy as np\n",
    "from numpy import logical_not as not_, minimum as min_, maximum as max_, logical_and as and_, logical_or as or_, round as round_\n",
    "\n",
    "\n",
    "import openfisca_france\n",
    "from openfisca_france.model.base import *\n",
    "\n",
    "from openfisca_core.reforms import Reform\n",
    "\n"
   ]
  },
  {
   "cell_type": "code",
   "execution_count": 3,
   "metadata": {
    "collapsed": false
   },
   "outputs": [],
   "source": [
    "tax_benefit_system = openfisca_france.FranceTaxBenefitSystem()  "
   ]
  },
  {
   "cell_type": "markdown",
   "metadata": {},
   "source": [
    "### Le cas d'une personne seule sans enfant"
   ]
  },
  {
   "cell_type": "code",
   "execution_count": 4,
   "metadata": {
    "collapsed": false
   },
   "outputs": [],
   "source": [
    "simulation = tax_benefit_system.new_scenario().init_single_entity(\n",
    "    axes = [\n",
    "        dict(\n",
    "            count = 20,\n",
    "            min = 0,\n",
    "            max = 50000,\n",
    "            name = 'salaire_de_base',\n",
    "            ),\n",
    "        ],\n",
    "    period = 2016,\n",
    "    parent1 = dict(\n",
    "        date_naissance = date(1991, 1, 1),\n",
    "        ),\n",
    "    ).new_simulation(debug = True)\n"
   ]
  },
  {
   "cell_type": "code",
   "execution_count": 5,
   "metadata": {
    "collapsed": false
   },
   "outputs": [
    {
     "data": {
      "text/plain": [
       "array([ 480.87002563,  338.61026001,  196.37571716,   54.10007095,\n",
       "         30.45953178,   19.97146797,   15.23003674,   10.4877882 ,\n",
       "          5.74663544,    1.00436401,    0.        ,    0.        ,\n",
       "          0.        ,    0.        ,    0.        ,    0.        ,\n",
       "          0.        ,    0.        ,    0.        ,    0.        ], dtype=float32)"
      ]
     },
     "execution_count": 5,
     "metadata": {},
     "output_type": "execute_result"
    }
   ],
   "source": [
    "individu_sans_enfant_rsa = simulation.calculate_add('rsa')/12\n",
    "individu_sans_enfant_rsa"
   ]
  },
  {
   "cell_type": "code",
   "execution_count": 7,
   "metadata": {
    "collapsed": false
   },
   "outputs": [
    {
     "data": {
      "text/plain": [
       "array([    0.        ,   157.89476013,   315.78952026,   473.68423462,\n",
       "         631.57904053,   789.47381592,   947.36846924,  1105.26330566,\n",
       "        1263.15808105,  1421.05236816,  1578.94763184,  1736.84191895,\n",
       "        1894.73693848,  2052.6315918 ,  2210.52661133,  2368.42114258,\n",
       "        2526.31616211,     0.        ,     0.        ,     0.        ], dtype=float32)"
      ]
     },
     "execution_count": 7,
     "metadata": {},
     "output_type": "execute_result"
    }
   ],
   "source": [
    "cice = simulation.calculate_add('credit_impot_competitivite_emploi')\n",
    "cice"
   ]
  },
  {
   "cell_type": "code",
   "execution_count": null,
   "metadata": {
    "collapsed": false
   },
   "outputs": [],
   "source": [
    "individu_sans_enfant_salaire_de_base = simulation.calculate_add('salaire_de_base')/12\n",
    "individu_sans_enfant_salaire_de_base"
   ]
  },
  {
   "cell_type": "markdown",
   "metadata": {},
   "source": [
    "### Le cas d'une personne seule avec 1 enfant"
   ]
  },
  {
   "cell_type": "code",
   "execution_count": null,
   "metadata": {
    "collapsed": false
   },
   "outputs": [],
   "source": [
    "simulation = tax_benefit_system.new_scenario().init_single_entity(\n",
    "    axes = [\n",
    "        dict(\n",
    "            count = 20,\n",
    "            min = 0,\n",
    "            max = 50000,\n",
    "            name = 'salaire_de_base',\n",
    "            ),\n",
    "        ],\n",
    "    period = 2016,\n",
    "    parent1 = dict(\n",
    "        date_naissance = date(1991, 1, 1),\n",
    "        ),\n",
    "    enfants = [\n",
    "        dict(date_naissance = date(2006, 1, 1)),\n",
    "     ],\n",
    ").new_simulation(debug = True)"
   ]
  },
  {
   "cell_type": "code",
   "execution_count": null,
   "metadata": {
    "collapsed": false
   },
   "outputs": [],
   "source": [
    "individu_1_enfant_rsa = simulation.calculate_add('rsa')/12\n",
    "individu_1_enfant_rsa"
   ]
  },
  {
   "cell_type": "code",
   "execution_count": null,
   "metadata": {
    "collapsed": false
   },
   "outputs": [],
   "source": [
    "individu_1_enfant_salaire_de_base = simulation.calculate_add('salaire_de_base')/12\n",
    "individu_1_enfant_salaire_de_base"
   ]
  },
  {
   "cell_type": "code",
   "execution_count": null,
   "metadata": {
    "collapsed": false
   },
   "outputs": [],
   "source": [
    "# Cette manipulation permet d'égaliser la longueur des 2 tableaux (rsa et salaire de base)\n",
    "i_1_enfant_salaire_de_base = []\n",
    "i = 0\n",
    "while (i < len(individu_1_enfant_salaire_de_base)):\n",
    "    somme = 0\n",
    "    valeur_1 = individu_1_enfant_salaire_de_base[i]\n",
    "    i = i + 1\n",
    "    valeur_2 = individu_1_enfant_salaire_de_base[i]\n",
    "    somme = valeur_1 + valeur_2\n",
    "    i_1_enfant_salaire_de_base.append(somme)\n",
    "    i = i + 1\n",
    "    \n",
    "i_1_enfant_salaire_de_base"
   ]
  },
  {
   "cell_type": "markdown",
   "metadata": {},
   "source": [
    "### Le cas d'une personne seule avec 2 enfants"
   ]
  },
  {
   "cell_type": "code",
   "execution_count": null,
   "metadata": {
    "collapsed": true
   },
   "outputs": [],
   "source": [
    "simulation = tax_benefit_system.new_scenario().init_single_entity(\n",
    "    axes = [\n",
    "        dict(\n",
    "            count = 20,\n",
    "            min = 0,\n",
    "            max = 50000,\n",
    "            name = 'salaire_de_base',\n",
    "            ),\n",
    "        ],\n",
    "    period = 2016,\n",
    "    parent1 = dict(\n",
    "        date_naissance = date(1991, 1, 1),\n",
    "        ),\n",
    "    enfants = [\n",
    "        dict(date_naissance = date(2006, 1, 1)),\n",
    "        dict(date_naissance = date(2011, 1, 1)),\n",
    "     ],\n",
    ").new_simulation(debug = True)"
   ]
  },
  {
   "cell_type": "code",
   "execution_count": null,
   "metadata": {
    "collapsed": false
   },
   "outputs": [],
   "source": [
    "individu_2_enfants_rsa = simulation.calculate_add('rsa')/12\n",
    "individu_2_enfants_rsa"
   ]
  },
  {
   "cell_type": "code",
   "execution_count": null,
   "metadata": {
    "collapsed": false
   },
   "outputs": [],
   "source": [
    "individu_2_enfants_salaire_de_base = simulation.calculate_add('salaire_de_base')/12\n",
    "individu_2_enfants_salaire_de_base"
   ]
  },
  {
   "cell_type": "code",
   "execution_count": null,
   "metadata": {
    "collapsed": false
   },
   "outputs": [],
   "source": [
    "# Cette manipulation permet d'égaliser la longueur des 2 tableaux (rsa et salaire de base)\n",
    "i_2_enfants_salaire_de_base = []\n",
    "i = 0\n",
    "while (i < len(individu_2_enfants_salaire_de_base)):\n",
    "    somme = 0\n",
    "    valeur_1 = individu_2_enfants_salaire_de_base[i]\n",
    "    i = i + 1\n",
    "    valeur_2 = individu_2_enfants_salaire_de_base[i]\n",
    "    i = i + 1\n",
    "    valeur_3 = individu_2_enfants_salaire_de_base[i]   \n",
    "    somme = valeur_1 + valeur_2 + valeur_3\n",
    "    i_2_enfants_salaire_de_base.append(somme)\n",
    "    i = i + 1\n",
    "    \n",
    "i_2_enfants_salaire_de_base"
   ]
  },
  {
   "cell_type": "markdown",
   "metadata": {},
   "source": [
    "### Le cas d'une personne seule avec 3 enfants"
   ]
  },
  {
   "cell_type": "code",
   "execution_count": null,
   "metadata": {
    "collapsed": true
   },
   "outputs": [],
   "source": [
    "simulation = tax_benefit_system.new_scenario().init_single_entity(\n",
    "    axes = [\n",
    "        dict(\n",
    "            count = 20,\n",
    "            min = 0,\n",
    "            max = 50000,\n",
    "            name = 'salaire_de_base',\n",
    "            ),\n",
    "        ],\n",
    "    period = 2016,\n",
    "    parent1 = dict(\n",
    "        date_naissance = date(1991, 1, 1),\n",
    "        ),\n",
    "    enfants = [\n",
    "        dict(date_naissance = date(2008, 1, 1)),\n",
    "        dict(date_naissance = date(2004, 1, 1)),\n",
    "        dict(date_naissance = date(2000, 1, 1)),\n",
    "     ],\n",
    ").new_simulation(debug = True)"
   ]
  },
  {
   "cell_type": "code",
   "execution_count": null,
   "metadata": {
    "collapsed": false
   },
   "outputs": [],
   "source": [
    "individu_3_enfants_rsa = simulation.calculate_add('rsa')/12\n",
    "individu_3_enfants_rsa"
   ]
  },
  {
   "cell_type": "code",
   "execution_count": null,
   "metadata": {
    "collapsed": false
   },
   "outputs": [],
   "source": [
    "individu_3_enfants_salaire_de_base = simulation.calculate_add('salaire_de_base')/12\n",
    "individu_3_enfants_salaire_de_base"
   ]
  },
  {
   "cell_type": "code",
   "execution_count": null,
   "metadata": {
    "collapsed": false
   },
   "outputs": [],
   "source": [
    "# Cette manipulation est nécessaire pour égaliser la longueur des 2 tableaux (rsa et salaire de base)\n",
    "i_3_enfants_salaire_de_base = []\n",
    "i = 0\n",
    "while (i < len(individu_3_enfants_salaire_de_base)):\n",
    "    somme = 0\n",
    "    valeur_1 = individu_3_enfants_salaire_de_base[i]\n",
    "    i = i + 1\n",
    "    valeur_2 = individu_3_enfants_salaire_de_base[i]\n",
    "    i = i + 1\n",
    "    valeur_3 = individu_3_enfants_salaire_de_base[i]   \n",
    "    i = i + 1\n",
    "    valeur_4 = individu_3_enfants_salaire_de_base[i] \n",
    "    somme = valeur_1 + valeur_2 + valeur_3 + valeur_4\n",
    "    i_3_enfants_salaire_de_base.append(somme)\n",
    "    i = i + 1\n",
    "    \n",
    "i_3_enfants_salaire_de_base"
   ]
  },
  {
   "cell_type": "markdown",
   "metadata": {},
   "source": [
    "### Le cas d'un couple sans enfant"
   ]
  },
  {
   "cell_type": "code",
   "execution_count": null,
   "metadata": {
    "collapsed": false
   },
   "outputs": [],
   "source": [
    "simulation = tax_benefit_system.new_scenario().init_single_entity(\n",
    "    axes = [\n",
    "        dict(\n",
    "            count = 20,\n",
    "            min = 0,\n",
    "            max = 50000,\n",
    "            name = 'salaire_de_base',\n",
    "            ),\n",
    "        ],\n",
    "    period = 2016,\n",
    "    parent1 = dict(\n",
    "        date_naissance = date(1991, 1, 1),\n",
    "        ),\n",
    "    parent2 = dict(\n",
    "        ),    \n",
    ").new_simulation(debug = True)"
   ]
  },
  {
   "cell_type": "code",
   "execution_count": null,
   "metadata": {
    "collapsed": false
   },
   "outputs": [],
   "source": [
    "couple_sans_enfant_rsa = simulation.calculate_add('rsa')/12\n",
    "couple_sans_enfant_rsa"
   ]
  },
  {
   "cell_type": "code",
   "execution_count": null,
   "metadata": {
    "collapsed": false
   },
   "outputs": [],
   "source": [
    "couple_sans_enfant_salaire_de_base = simulation.calculate_add('salaire_de_base')/12\n",
    "couple_sans_enfant_salaire_de_base"
   ]
  },
  {
   "cell_type": "code",
   "execution_count": null,
   "metadata": {
    "collapsed": false
   },
   "outputs": [],
   "source": [
    "# Cette manipulation permet d'égaliser la longueur des 2 tableaux (rsa et salaire de base)\n",
    "c_sans_enfant_salaire_de_base = []\n",
    "i = 0\n",
    "while (i < len(couple_sans_enfant_salaire_de_base)):\n",
    "    somme = 0\n",
    "    valeur_1 = couple_sans_enfant_salaire_de_base[i]\n",
    "    i = i + 1\n",
    "    valeur_2 = couple_sans_enfant_salaire_de_base[i]\n",
    "    somme = valeur_1 + valeur_2\n",
    "    c_sans_enfant_salaire_de_base.append(somme)\n",
    "    i = i + 1\n",
    "    \n",
    "c_sans_enfant_salaire_de_base"
   ]
  },
  {
   "cell_type": "markdown",
   "metadata": {},
   "source": [
    "### Le cas d'un couple avec 1 enfant"
   ]
  },
  {
   "cell_type": "code",
   "execution_count": null,
   "metadata": {
    "collapsed": true
   },
   "outputs": [],
   "source": [
    "simulation = tax_benefit_system.new_scenario().init_single_entity(\n",
    "    axes = [\n",
    "        dict(\n",
    "            count = 20,\n",
    "            min = 0,\n",
    "            max = 50000,\n",
    "            name = 'salaire_de_base',\n",
    "            ),\n",
    "        ],\n",
    "    period = 2016,\n",
    "    parent1 = dict(\n",
    "        date_naissance = date(1991, 1, 1),\n",
    "        ),\n",
    "    parent2 = dict(\n",
    "        ),  \n",
    "    enfants = [\n",
    "        dict(date_naissance = date(2006, 1, 1)),\n",
    "        ],\n",
    ").new_simulation(debug = True)"
   ]
  },
  {
   "cell_type": "code",
   "execution_count": null,
   "metadata": {
    "collapsed": false
   },
   "outputs": [],
   "source": [
    "couple_1_enfant_rsa = simulation.calculate_add('rsa')/12\n",
    "couple_1_enfant_rsa"
   ]
  },
  {
   "cell_type": "code",
   "execution_count": null,
   "metadata": {
    "collapsed": false
   },
   "outputs": [],
   "source": [
    "couple_1_enfant_salaire_de_base = simulation.calculate_add('salaire_de_base')/12\n",
    "couple_1_enfant_salaire_de_base"
   ]
  },
  {
   "cell_type": "code",
   "execution_count": null,
   "metadata": {
    "collapsed": false
   },
   "outputs": [],
   "source": [
    "# Cette manipulation permet d'égaliser la longueur des 2 tableaux (rsa et salaire de base)\n",
    "c_1_enfant_salaire_de_base = []\n",
    "i = 0\n",
    "while (i < len(couple_1_enfant_salaire_de_base)):\n",
    "    somme = 0\n",
    "    valeur_1 = couple_1_enfant_salaire_de_base[i]\n",
    "    i = i + 1\n",
    "    valeur_2 = couple_1_enfant_salaire_de_base[i]\n",
    "    i = i + 1\n",
    "    valeur_3 = couple_1_enfant_salaire_de_base[i]   \n",
    "    somme = valeur_1 + valeur_2 + valeur_3\n",
    "    c_1_enfant_salaire_de_base.append(somme)\n",
    "    i = i + 1\n",
    "    \n",
    "c_1_enfant_salaire_de_base"
   ]
  },
  {
   "cell_type": "markdown",
   "metadata": {},
   "source": [
    "### Le cas d'un couple avec 2 enfants"
   ]
  },
  {
   "cell_type": "code",
   "execution_count": null,
   "metadata": {
    "collapsed": false
   },
   "outputs": [],
   "source": [
    "simulation = tax_benefit_system.new_scenario().init_single_entity(\n",
    "    axes = [\n",
    "        dict(\n",
    "            count = 20,\n",
    "            min = 0,\n",
    "            max = 50000,\n",
    "            name = 'salaire_de_base',\n",
    "            ),\n",
    "        ],\n",
    "    period = 2016,\n",
    "    parent1 = dict(\n",
    "        date_naissance = date(1991, 1, 1),\n",
    "        ),\n",
    "    parent2 = dict(\n",
    "        ),  \n",
    "    enfants = [\n",
    "        dict(date_naissance = date(2006, 1, 1)),\n",
    "        dict(date_naissance = date(2011, 1, 1)),\n",
    "        ],\n",
    ").new_simulation(debug = True)    "
   ]
  },
  {
   "cell_type": "code",
   "execution_count": null,
   "metadata": {
    "collapsed": false
   },
   "outputs": [],
   "source": [
    "couple_2_enfants_rsa = simulation.calculate_add('rsa')/12\n",
    "couple_2_enfants_rsa"
   ]
  },
  {
   "cell_type": "code",
   "execution_count": null,
   "metadata": {
    "collapsed": false
   },
   "outputs": [],
   "source": [
    "couple_2_enfants_salaire_de_base = simulation.calculate_add('salaire_de_base')/12\n",
    "couple_2_enfants_salaire_de_base"
   ]
  },
  {
   "cell_type": "code",
   "execution_count": null,
   "metadata": {
    "collapsed": false
   },
   "outputs": [],
   "source": [
    "# Cette manipulation permet d'égaliser la longueur des 2 tableaux (rsa et salaire de base)\n",
    "c_2_enfants_salaire_de_base = []\n",
    "i = 0\n",
    "while (i < len(couple_2_enfants_salaire_de_base)):\n",
    "    somme = 0\n",
    "    valeur_1 = couple_2_enfants_salaire_de_base[i]\n",
    "    i = i + 1\n",
    "    valeur_2 = couple_2_enfants_salaire_de_base[i]\n",
    "    i = i + 1\n",
    "    valeur_3 = couple_2_enfants_salaire_de_base[i]   \n",
    "    i = i + 1\n",
    "    valeur_4 = couple_2_enfants_salaire_de_base[i] \n",
    "    somme = valeur_1 + valeur_2 + valeur_3 + valeur_4\n",
    "    c_2_enfants_salaire_de_base.append(somme)\n",
    "    i = i + 1\n",
    "    \n",
    "c_2_enfants_salaire_de_base"
   ]
  },
  {
   "cell_type": "markdown",
   "metadata": {},
   "source": [
    "### Le cas d'un couple avec 3 enfants"
   ]
  },
  {
   "cell_type": "code",
   "execution_count": null,
   "metadata": {
    "collapsed": false
   },
   "outputs": [],
   "source": [
    "simulation = tax_benefit_system.new_scenario().init_single_entity(\n",
    "    axes = [\n",
    "        dict(\n",
    "            count = 20,\n",
    "            min = 0,\n",
    "            max = 50000,\n",
    "            name = 'salaire_de_base',\n",
    "            ),\n",
    "        ],\n",
    "    period = 2016,\n",
    "    parent1 = dict(\n",
    "        date_naissance = date(1991, 1, 1),\n",
    "        ),\n",
    "    parent2 = dict(\n",
    "        ),  \n",
    "    enfants = [\n",
    "        dict(date_naissance = date(2008, 1, 1)),\n",
    "        dict(date_naissance = date(2004, 1, 1)),\n",
    "        dict(date_naissance = date(2000, 1, 1)),\n",
    "        ],\n",
    ").new_simulation(debug = True)    "
   ]
  },
  {
   "cell_type": "code",
   "execution_count": null,
   "metadata": {
    "collapsed": false
   },
   "outputs": [],
   "source": [
    "couple_3_enfants_rsa = simulation.calculate_add('rsa')/12\n",
    "couple_3_enfants_rsa"
   ]
  },
  {
   "cell_type": "code",
   "execution_count": null,
   "metadata": {
    "collapsed": false
   },
   "outputs": [],
   "source": [
    "couple_3_enfants_salaire_de_base = simulation.calculate_add('salaire_de_base')/12\n",
    "couple_3_enfants_salaire_de_base"
   ]
  },
  {
   "cell_type": "code",
   "execution_count": null,
   "metadata": {
    "collapsed": false
   },
   "outputs": [],
   "source": [
    "# Cette manipulation permet d'égaliser la longueur des 2 tableaux (rsa et salaire de base)\n",
    "c_3_enfants_salaire_de_base = []\n",
    "i = 0\n",
    "while (i < len(couple_3_enfants_salaire_de_base)):\n",
    "    somme = 0\n",
    "    valeur_1 = couple_3_enfants_salaire_de_base[i]\n",
    "    i = i + 1\n",
    "    valeur_2 = couple_3_enfants_salaire_de_base[i]\n",
    "    i = i + 1\n",
    "    valeur_3 = couple_3_enfants_salaire_de_base[i]   \n",
    "    i = i + 1\n",
    "    valeur_4 = couple_3_enfants_salaire_de_base[i] \n",
    "    i = i + 1\n",
    "    valeur_5 = couple_3_enfants_salaire_de_base[i]    \n",
    "    somme = valeur_1 + valeur_2 + valeur_3 + valeur_4 + valeur_5\n",
    "    c_3_enfants_salaire_de_base.append(somme)\n",
    "    i = i + 1\n",
    "    \n",
    "c_3_enfants_salaire_de_base"
   ]
  },
  {
   "cell_type": "code",
   "execution_count": null,
   "metadata": {
    "collapsed": false
   },
   "outputs": [],
   "source": [
    "plt.plot(individu_sans_enfant_salaire_de_base, individu_sans_enfant_rsa, label=\"Personne seule sans enfant\")\n",
    "plt.plot(i_1_enfant_salaire_de_base, individu_1_enfant_rsa, label=\"Personne seule avec 1 enfant\")\n",
    "plt.plot(i_2_enfants_salaire_de_base, individu_2_enfants_rsa, label=\"Personne seule avec 2 enfants\")\n",
    "plt.plot(i_3_enfants_salaire_de_base, individu_3_enfants_rsa, label=\"Personne seule avec 3 enfants\")\n",
    "plt.xlabel(u'Salaire de base (€/mois)')\n",
    "plt.ylabel(u'rsa (€/mois)')\n",
    "plt.title(u'rsa - Personne seule')\n",
    "plt.legend(loc = 0, shadow=True, fancybox=True)"
   ]
  },
  {
   "cell_type": "code",
   "execution_count": null,
   "metadata": {
    "collapsed": false
   },
   "outputs": [],
   "source": [
    "plt.plot(c_sans_enfant_salaire_de_base, couple_sans_enfant_rsa, label=\"Couple sans enfant\")\n",
    "plt.plot(c_1_enfant_salaire_de_base, couple_1_enfant_rsa, label=\"Couple avec 1 enfant\")\n",
    "plt.plot(c_2_enfants_salaire_de_base, couple_2_enfants_rsa, label=\"Couple avec 2 enfants\")\n",
    "plt.plot(c_3_enfants_salaire_de_base, couple_3_enfants_rsa, label=\"Couple avec 3 enfants\")\n",
    "plt.xlabel(u'Salaire de base (€/mois)')\n",
    "plt.ylabel(u'rsa (€/mois)')\n",
    "plt.title(u'rsa - Couple')\n",
    "plt.legend(loc = 0, shadow=True, fancybox=True)"
   ]
  },
  {
   "cell_type": "code",
   "execution_count": null,
   "metadata": {
    "collapsed": true
   },
   "outputs": [],
   "source": []
  }
 ],
 "metadata": {
  "kernelspec": {
   "display_name": "Python 2",
   "language": "python",
   "name": "python2"
  },
  "language_info": {
   "codemirror_mode": {
    "name": "ipython",
    "version": 2
   },
   "file_extension": ".py",
   "mimetype": "text/x-python",
   "name": "python",
   "nbconvert_exporter": "python",
   "pygments_lexer": "ipython2",
   "version": "2.7.9"
  }
 },
 "nbformat": 4,
 "nbformat_minor": 1
}
