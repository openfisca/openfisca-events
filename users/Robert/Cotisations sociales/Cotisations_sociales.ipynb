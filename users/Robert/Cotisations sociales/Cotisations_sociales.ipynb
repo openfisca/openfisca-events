{
 "cells": [
  {
   "cell_type": "markdown",
   "metadata": {},
   "source": [
    "# Cotisations sociales"
   ]
  },
  {
   "cell_type": "markdown",
   "metadata": {},
   "source": [
    "## Initialisation"
   ]
  },
  {
   "cell_type": "code",
   "execution_count": 2,
   "metadata": {
    "collapsed": false
   },
   "outputs": [],
   "source": [
    "%matplotlib inline"
   ]
  },
  {
   "cell_type": "code",
   "execution_count": 3,
   "metadata": {
    "collapsed": true
   },
   "outputs": [],
   "source": [
    "# import collections\n",
    "import json\n",
    "#import urllib2"
   ]
  },
  {
   "cell_type": "code",
   "execution_count": 4,
   "metadata": {
    "collapsed": false
   },
   "outputs": [],
   "source": [
    "import matplotlib.pyplot as plt\n",
    "from datetime import date  # module nécessaire pour la définition des dates, dont notamment les dates de naissances\n",
    "\n",
    "# from numpy import logical_not as not_, minimum as min_, maximum as max_, logical_and as and_, logical_or as or_"
   ]
  },
  {
   "cell_type": "code",
   "execution_count": 5,
   "metadata": {
    "collapsed": false
   },
   "outputs": [],
   "source": [
    "import openfisca_france    # module décrivant le système socio-fiscal français\n",
    "from openfisca_france.model.base import *\n",
    "#TaxBenefitSystem = openfisca_france.init_country()  # Initialisation de la classe décrivant le système socio-fiscal français\n",
    "tax_benefit_system = openfisca_france.FranceTaxBenefitSystem()  # Création d'une instance du système socio-fiscal français \n"
   ]
  },
  {
   "cell_type": "code",
   "execution_count": 6,
   "metadata": {
    "collapsed": true
   },
   "outputs": [],
   "source": [
    "import csv # module nécessaire pour l'enregistrement des données dans un fichier utilisable sous Excel"
   ]
  },
  {
   "cell_type": "code",
   "execution_count": 7,
   "metadata": {
    "collapsed": false
   },
   "outputs": [
    {
     "name": "stdout",
     "output_type": "stream",
     "text": [
      "1466.61666667     17599.4\n",
      "17599.4\n"
     ]
    }
   ],
   "source": [
    "nb_heures_par_mois_temps_plein = 35 * 52 / 12.0\n",
    "smic_horaire = 9.670\n",
    "\n",
    "smic_mensuel = nb_heures_par_mois_temps_plein * smic_horaire\n",
    "smic_annuel = smic_mensuel * 12\n",
    "print smic_mensuel, \"   \", smic_annuel\n",
    "\n",
    "salaire_cas_types = smic_annuel\n",
    "print salaire_cas_types"
   ]
  },
  {
   "cell_type": "markdown",
   "metadata": {},
   "source": [
    "## Cas-types simples"
   ]
  },
  {
   "cell_type": "markdown",
   "metadata": {},
   "source": [
    "### Le cas d'une personne seule sans enfant"
   ]
  },
  {
   "cell_type": "code",
   "execution_count": 8,
   "metadata": {
    "collapsed": false
   },
   "outputs": [],
   "source": [
    "simulation = tax_benefit_system.new_scenario().init_single_entity(\n",
    "    period = 2016,\n",
    "    #zone_aides_logement = 1,\n",
    "    #statut_occupation = 4,\n",
    "    parent1 = dict(\n",
    "        date_naissance = date(1980, 1, 1),\n",
    "        salaire_de_base = salaire_cas_types,\n",
    "     \n",
    "        ),\n",
    "     menage = dict(\n",
    "        loyer = 6000,\n",
    "        statut_occupation_logement = 4,\n",
    "        zone_apl = 1\n",
    "        ),\n",
    "    ).new_simulation(debug = True)"
   ]
  },
  {
   "cell_type": "code",
   "execution_count": 9,
   "metadata": {
    "collapsed": false
   },
   "outputs": [],
   "source": [
    "individu_sans_enfant_salaire_de_base = simulation.calculate_add('salaire_de_base')\n",
    "\n",
    "\n",
    "\n",
    "\n",
    "# Développement des cotisations salariales contributives\n",
    "individu_sans_enfant_csc = simulation.calculate_add('cotisations_salariales_contributives')\n",
    "\n",
    "# prive\n",
    "individu_sans_enfant_agff_salarie = simulation.calculate_add('agff_salarie')\n",
    "individu_sans_enfant_agirc_salarie = simulation.calculate_add('agirc_salarie')\n",
    "individu_sans_enfant_agirc_gmp_salarie = simulation.calculate_add('agirc_gmp_salarie')\n",
    "individu_sans_enfant_apec_salarie = simulation.calculate_add('apec_salarie')\n",
    "individu_sans_enfant_arrco_salarie = simulation.calculate_add('arrco_salarie')\n",
    "individu_sans_enfant_chomage_salarie = simulation.calculate_add('chomage_salarie')\n",
    "individu_sans_enfant_cotisation_exceptionnelle_temporaire_salarie = simulation.calculate_add('cotisation_exceptionnelle_temporaire_salarie')\n",
    "individu_sans_enfant_vieillesse_deplafonnee_salarie = simulation.calculate_add('vieillesse_deplafonnee_salarie')\n",
    "individu_sans_enfant_vieillesse_plafonnee_salarie = simulation.calculate_add('vieillesse_plafonnee_salarie')\n",
    "\n",
    "# public\n",
    "individu_sans_enfant_ircantec_salarie = simulation.calculate_add('ircantec_salarie')\n",
    "individu_sans_enfant_pension_civile_salarie = simulation.calculate_add('pension_civile_salarie')\n",
    "individu_sans_enfant_rafp_salarie = simulation.calculate_add('rafp_salarie')\n",
    "            \n",
    "# Développement des cotisations salariales non contributives\n",
    "individu_sans_enfant_csnc = simulation.calculate_add('cotisations_salariales_non_contributives')\n",
    "\n",
    "individu_sans_enfant_mmid_salarie = simulation.calculate('mmid_salarie')\n",
    "individu_sans_enfant_contribution_exceptionnelle_solidarite = simulation.calculate('contribution_exceptionnelle_solidarite')\n",
    "\n",
    "\n",
    "# Développement des cotisations patronales contributives\n",
    "individu_sans_enfant_cec = simulation.calculate_add('cotisations_employeur_contributives')\n",
    "\n",
    "\n",
    "# Développement des cotisations patronales non contributives\n",
    "individu_sans_enfant_cenc = simulation.calculate_add('cotisations_employeur_non_contributives')\n",
    "\n"
   ]
  },
  {
   "cell_type": "code",
   "execution_count": 15,
   "metadata": {
    "collapsed": false
   },
   "outputs": [
    {
     "name": "stdout",
     "output_type": "stream",
     "text": [
      "[-2384.72998047]\n",
      "[-140.80000305]\n",
      "[ 0.]\n",
      "[ 0.]\n",
      "[ 0.]\n",
      "[-545.58001709]\n",
      "[-422.39001465]\n",
      "[ 0.]\n",
      "[-61.59999847]\n",
      "[-1214.35998535]\n",
      "[ 0.]\n",
      "[ 0.]\n",
      "[ 0.]\n",
      "[-140.80000305]"
     ]
    },
    {
     "data": {
      "text/plain": [
       "array([ 0.], dtype=float32)"
      ]
     },
     "execution_count": 15,
     "metadata": {},
     "output_type": "execute_result"
    },
    {
     "name": "stdout",
     "output_type": "stream",
     "text": [
      "\n"
     ]
    }
   ],
   "source": [
    "print individu_sans_enfant_csc \n",
    "\n",
    "# prive\n",
    "print individu_sans_enfant_agff_salarie \n",
    "print individu_sans_enfant_agirc_salarie \n",
    "print individu_sans_enfant_agirc_gmp_salarie \n",
    "print individu_sans_enfant_apec_salarie \n",
    "print individu_sans_enfant_arrco_salarie \n",
    "print individu_sans_enfant_chomage_salarie \n",
    "print individu_sans_enfant_cotisation_exceptionnelle_temporaire_salarie \n",
    "print individu_sans_enfant_vieillesse_deplafonnee_salarie \n",
    "print individu_sans_enfant_vieillesse_plafonnee_salarie \n",
    "# public\n",
    "print individu_sans_enfant_ircantec_salarie \n",
    "print individu_sans_enfant_pension_civile_salarie \n",
    "print individu_sans_enfant_rafp_salarie\n"
   ]
  },
  {
   "cell_type": "code",
   "execution_count": 20,
   "metadata": {
    "collapsed": false
   },
   "outputs": [
    {
     "ename": "IndentationError",
     "evalue": "unexpected indent (<ipython-input-20-a1e4d4b13a33>, line 2)",
     "output_type": "error",
     "traceback": [
      "\u001b[0;36m  File \u001b[0;32m\"<ipython-input-20-a1e4d4b13a33>\"\u001b[0;36m, line \u001b[0;32m2\u001b[0m\n\u001b[0;31m    + individu_sans_enfant_apec_salarie + individu_sans_enfant_arrco_salarie + individu_sans_enfant_chomage_salarie,\u001b[0m\n\u001b[0m    ^\u001b[0m\n\u001b[0;31mIndentationError\u001b[0m\u001b[0;31m:\u001b[0m unexpected indent\n"
     ]
    }
   ],
   "source": [
    "print individu_sans_enfant_agff_salarie + individu_sans_enfant_agirc_salarie + individu_sans_enfant_agirc_gmp_salarie,\n",
    "    + individu_sans_enfant_apec_salarie + individu_sans_enfant_arrco_salarie + individu_sans_enfant_chomage_salarie,\n",
    "    + individu_sans_enfant_cotisation_exceptionnelle_temporaire_salarie + individu_sans_enfant_vieillesse_deplafonnee_salarie,\n",
    "    + individu_sans_enfant_vieillesse_plafonnee_salarie + individu_sans_enfant_ircantec_salarie,\n",
    "    + individu_sans_enfant_pension_civile_salarie + individu_sans_enfant_rafp_salarie"
   ]
  },
  {
   "cell_type": "code",
   "execution_count": null,
   "metadata": {
    "collapsed": false
   },
   "outputs": [],
   "source": [
    "simulation.calculate('cotisations_salariales')"
   ]
  },
  {
   "cell_type": "code",
   "execution_count": null,
   "metadata": {
    "collapsed": false
   },
   "outputs": [],
   "source": [
    "abs(\n",
    "    simulation.calculate('cotisations_salariales') \n",
    "    + simulation.calculate('csg') \n",
    "    #+ simulation.calculate('csgsali')\n",
    "    #+ simulation.calculate('crdssal')\n",
    "    )/simulation.calculate('salaire_de_base')"
   ]
  },
  {
   "cell_type": "markdown",
   "metadata": {},
   "source": [
    "### Le cas d'une personne seule avec 1 enfant"
   ]
  },
  {
   "cell_type": "code",
   "execution_count": null,
   "metadata": {
    "collapsed": true
   },
   "outputs": [],
   "source": [
    "simulation = tax_benefit_system.new_scenario().init_single_entity(\n",
    "    period = 2016,\n",
    "    parent1 = dict(\n",
    "        date_naissance = date(1980, 1, 1),\n",
    "        salaire_de_base = salaire_cas_types,\n",
    "        ),\n",
    "    enfants = [\n",
    "        dict(date_naissance = date(2006, 1, 1)),\n",
    "        ],\n",
    "    menage = dict(\n",
    "        loyer = 6000,\n",
    "        statut_occupation_logement = 4,\n",
    "        zone_apl = 1\n",
    "        ),\n",
    ").new_simulation(debug = True)"
   ]
  },
  {
   "cell_type": "code",
   "execution_count": null,
   "metadata": {
    "collapsed": false
   },
   "outputs": [],
   "source": [
    "monoparentale_1_enfant_rsa = simulation.calculate_add('rsa')\n",
    "monoparentale_1_enfant_aefa = simulation.calculate_add('aefa','2015')\n",
    "monoparentale_1_enfant_aides_logement = simulation.calculate_add('aides_logement')\n",
    "monoparentale_1_enfant_af = simulation.calculate_add('af')\n",
    "monoparentale_1_enfant_cf = simulation.calculate_add('cf')\n",
    "monoparentale_1_enfant_ars = simulation.calculate_add('ars')\n",
    "monoparentale_1_enfant_salaire_de_base = simulation.calculate_add('salaire_de_base')\n",
    "monoparentale_1_enfant_csc = simulation.calculate_add('cotisations_salariales_contributives')\n",
    "monoparentale_1_enfant_csnc = simulation.calculate_add('cotisations_salariales_non_contributives')\n",
    "monoparentale_1_enfant_cec = simulation.calculate_add('cotisations_employeur_contributives')\n",
    "monoparentale_1_enfant_cenc = simulation.calculate_add('cotisations_employeur_non_contributives')\n",
    "monoparentale_1_enfant_ppa = simulation.calculate_add('ppa')\n",
    "monoparentale_1_enfant_rni = simulation.calculate_add('rni')\n",
    "monoparentale_1_enfant_irpp = simulation.calculate_add('irpp')\n",
    "monoparentale_1_enfant_revdisp = simulation.calculate_add('revdisp')"
   ]
  },
  {
   "cell_type": "markdown",
   "metadata": {},
   "source": [
    "### Le cas d'une personne seule avec 2 enfants"
   ]
  },
  {
   "cell_type": "code",
   "execution_count": null,
   "metadata": {
    "collapsed": true
   },
   "outputs": [],
   "source": [
    "simulation = tax_benefit_system.new_scenario().init_single_entity(\n",
    "    period = 2016,\n",
    "    parent1 = dict(\n",
    "        date_naissance = date(1980, 1, 1),\n",
    "        salaire_de_base = salaire_cas_types,\n",
    "        ),\n",
    "   enfants = [\n",
    "        dict(date_naissance = date(2006, 1, 1)),\n",
    "        dict(date_naissance = date(2011, 1, 1)),\n",
    "        ],\n",
    "    menage = dict(\n",
    "        loyer = 6000,\n",
    "        statut_occupation_logement = 4,\n",
    "        zone_apl = 1\n",
    "        ),\n",
    ").new_simulation(debug = True)\n",
    "    "
   ]
  },
  {
   "cell_type": "code",
   "execution_count": null,
   "metadata": {
    "collapsed": false
   },
   "outputs": [],
   "source": [
    "monoparentale_2_enfants_rsa = simulation.calculate_add('rsa')\n",
    "monoparentale_2_enfants_aefa = simulation.calculate_add('aefa','2015')\n",
    "monoparentale_2_enfants_aides_logement = simulation.calculate_add('aides_logement')\n",
    "monoparentale_2_enfants_af = simulation.calculate_add('af')\n",
    "monoparentale_2_enfants_cf = simulation.calculate_add('cf')\n",
    "monoparentale_2_enfants_ars = simulation.calculate_add('ars')\n",
    "monoparentale_2_enfants_salaire_de_base = simulation.calculate_add('salaire_de_base')\n",
    "monoparentale_2_enfants_csc = simulation.calculate_add('cotisations_salariales_contributives')\n",
    "monoparentale_2_enfants_csnc = simulation.calculate_add('cotisations_salariales_non_contributives')\n",
    "monoparentale_2_enfants_cec = simulation.calculate_add('cotisations_employeur_contributives')\n",
    "monoparentale_2_enfants_cenc = simulation.calculate_add('cotisations_employeur_non_contributives')\n",
    "monoparentale_2_enfants_ppa = simulation.calculate_add('ppa')\n",
    "monoparentale_2_enfants_rni = simulation.calculate_add('rni')\n",
    "monoparentale_2_enfants_irpp = simulation.calculate_add('irpp')\n",
    "monoparentale_2_enfants_revdisp = simulation.calculate_add('revdisp')"
   ]
  },
  {
   "cell_type": "markdown",
   "metadata": {},
   "source": [
    "### Le cas d'une personne seule avec 3 enfants"
   ]
  },
  {
   "cell_type": "code",
   "execution_count": null,
   "metadata": {
    "collapsed": false
   },
   "outputs": [],
   "source": [
    "simulation = tax_benefit_system.new_scenario().init_single_entity(\n",
    "    period = 2016,\n",
    "    parent1 = dict(\n",
    "        date_naissance = date(1980, 1, 1),\n",
    "        salaire_de_base = salaire_cas_types,\n",
    "        ),\n",
    "   enfants = [\n",
    "        dict(date_naissance = date(2008, 1, 1)),\n",
    "        dict(date_naissance = date(2004, 1, 1)),\n",
    "        dict(date_naissance = date(2000, 1, 1)),\n",
    "        ],\n",
    "    menage = dict(\n",
    "        loyer = 6000,\n",
    "        statut_occupation_logement = 4,\n",
    "        zone_apl = 1\n",
    "        ),\n",
    ").new_simulation(debug = True)"
   ]
  },
  {
   "cell_type": "code",
   "execution_count": null,
   "metadata": {
    "collapsed": true
   },
   "outputs": [],
   "source": [
    "monoparentale_3_enfants_rsa = simulation.calculate_add('rsa')\n",
    "monoparentale_3_enfants_aefa = simulation.calculate_add('aefa','2015')\n",
    "monoparentale_3_enfants_aides_logement = simulation.calculate_add('aides_logement')\n",
    "monoparentale_3_enfants_af = simulation.calculate_add('af')\n",
    "monoparentale_3_enfants_cf = simulation.calculate_add('cf')\n",
    "monoparentale_3_enfants_ars = simulation.calculate_add('ars')\n",
    "monoparentale_3_enfants_salaire_de_base = simulation.calculate_add('salaire_de_base')\n",
    "monoparentale_3_enfants_csc = simulation.calculate_add('cotisations_salariales_contributives')\n",
    "monoparentale_3_enfants_csnc = simulation.calculate_add('cotisations_salariales_non_contributives')\n",
    "monoparentale_3_enfants_cec = simulation.calculate_add('cotisations_employeur_contributives')\n",
    "monoparentale_3_enfants_cenc = simulation.calculate_add('cotisations_employeur_non_contributives')\n",
    "monoparentale_3_enfants_ppa = simulation.calculate_add('ppa')\n",
    "monoparentale_3_enfants_rni = simulation.calculate_add('rni')\n",
    "monoparentale_3_enfants_irpp = simulation.calculate_add('irpp')\n",
    "monoparentale_3_enfants_revdisp = simulation.calculate_add('revdisp')"
   ]
  },
  {
   "cell_type": "markdown",
   "metadata": {},
   "source": [
    "### Le cas d'un couple sans enfant"
   ]
  },
  {
   "cell_type": "code",
   "execution_count": null,
   "metadata": {
    "collapsed": true
   },
   "outputs": [],
   "source": [
    "simulation = tax_benefit_system.new_scenario().init_single_entity(\n",
    "    period = 2016,\n",
    "    parent1 = dict(\n",
    "        date_naissance = date(1980, 1, 1),\n",
    "        salaire_de_base = salaire_cas_types,\n",
    "        ),\n",
    "    parent2 = dict(\n",
    "        date_naissance = date(1980, 1, 1),\n",
    "        salaire_de_base = 0,\n",
    "        ),\n",
    "    menage = dict(\n",
    "        loyer = 6000,\n",
    "        statut_occupation_logement = 4,\n",
    "        zone_apl = 1\n",
    "        ),\n",
    ").new_simulation(debug = True)"
   ]
  },
  {
   "cell_type": "code",
   "execution_count": null,
   "metadata": {
    "collapsed": false
   },
   "outputs": [],
   "source": [
    "couple_sans_enfant_rsa = simulation.calculate_add('rsa')\n",
    "couple_sans_enfant_aefa = simulation.calculate_add('aefa','2015')\n",
    "couple_sans_enfant_aides_logement = simulation.calculate_add('aides_logement')\n",
    "couple_sans_enfant_af = simulation.calculate_add('af')\n",
    "couple_sans_enfant_cf = simulation.calculate_add('cf')\n",
    "couple_sans_enfant_ars = simulation.calculate_add('ars')\n",
    "couple_sans_enfant_salaire_de_base = simulation.calculate_add('salaire_de_base')\n",
    "couple_sans_enfant_csc = simulation.calculate_add('cotisations_salariales_contributives')\n",
    "couple_sans_enfant_csnc = simulation.calculate_add('cotisations_salariales_non_contributives')\n",
    "couple_sans_enfant_cec = simulation.calculate_add('cotisations_employeur_contributives')\n",
    "couple_sans_enfant_cenc = simulation.calculate_add('cotisations_employeur_non_contributives')\n",
    "couple_sans_enfant_ppa = simulation.calculate_add('ppa')\n",
    "couple_sans_enfant_rni = simulation.calculate_add('rni')\n",
    "couple_sans_enfant_irpp = simulation.calculate_add('irpp')\n",
    "couple_sans_enfant_revdisp = simulation.calculate_add('revdisp')"
   ]
  },
  {
   "cell_type": "markdown",
   "metadata": {},
   "source": [
    "### Le cas d'un couple avec 1 enfant\n"
   ]
  },
  {
   "cell_type": "code",
   "execution_count": null,
   "metadata": {
    "collapsed": true
   },
   "outputs": [],
   "source": [
    "simulation = tax_benefit_system.new_scenario().init_single_entity(\n",
    "    period = 2016,\n",
    "    parent1 = dict(\n",
    "        date_naissance = date(1980, 1, 1),\n",
    "        salaire_de_base = salaire_cas_types,\n",
    "        ),\n",
    "    parent2 = dict(\n",
    "        date_naissance = date(1980, 1, 1),\n",
    "        salaire_de_base = 0,\n",
    "        ),\n",
    "    enfants = [\n",
    "        dict(date_naissance = date(2006, 1, 1)),\n",
    "        ],\n",
    "    menage = dict(\n",
    "        loyer = 6000,\n",
    "        statut_occupation_logement = 4,\n",
    "        zone_apl = 1\n",
    "        ),\n",
    ").new_simulation(debug = True)"
   ]
  },
  {
   "cell_type": "code",
   "execution_count": null,
   "metadata": {
    "collapsed": true
   },
   "outputs": [],
   "source": [
    "couple_1_enfant_rsa = simulation.calculate_add('rsa')\n",
    "couple_1_enfant_aefa = simulation.calculate_add('aefa','2015')\n",
    "couple_1_enfant_aides_logement = simulation.calculate_add('aides_logement')\n",
    "couple_1_enfant_af = simulation.calculate_add('af')\n",
    "couple_1_enfant_cf = simulation.calculate_add('cf')\n",
    "couple_1_enfant_ars = simulation.calculate_add('ars')\n",
    "couple_1_enfant_salaire_de_base = simulation.calculate_add('salaire_de_base')\n",
    "couple_1_enfant_csc = simulation.calculate_add('cotisations_salariales_contributives')\n",
    "couple_1_enfant_csnc = simulation.calculate_add('cotisations_salariales_non_contributives')\n",
    "couple_1_enfant_cec = simulation.calculate_add('cotisations_employeur_contributives')\n",
    "couple_1_enfant_cenc = simulation.calculate_add('cotisations_employeur_non_contributives')\n",
    "couple_1_enfant_ppa = simulation.calculate_add('ppa')\n",
    "couple_1_enfant_rni = simulation.calculate_add('rni')\n",
    "couple_1_enfant_irpp = simulation.calculate_add('irpp')\n",
    "couple_1_enfant_revdisp = simulation.calculate_add('revdisp')"
   ]
  },
  {
   "cell_type": "markdown",
   "metadata": {},
   "source": [
    "### Le cas d'un couple avec 2 enfants\n"
   ]
  },
  {
   "cell_type": "code",
   "execution_count": null,
   "metadata": {
    "collapsed": false
   },
   "outputs": [],
   "source": [
    "simulation = tax_benefit_system.new_scenario().init_single_entity(\n",
    "    period = 2016,\n",
    "    parent1 = dict(\n",
    "        date_naissance = date(1980, 1, 1),\n",
    "        salaire_de_base = salaire_cas_types,\n",
    "        ),\n",
    "    parent2 = dict(\n",
    "        date_naissance = date(1980, 1, 1),\n",
    "        salaire_de_base = 0,\n",
    "        ),\n",
    "    enfants = [\n",
    "        dict(date_naissance = date(2006, 1, 1)),\n",
    "        dict(date_naissance = date(2011, 1, 1)),\n",
    "        ],\n",
    "    menage = dict(\n",
    "        loyer = 6000,\n",
    "        statut_occupation_logement = 4,\n",
    "        zone_apl = 1\n",
    "        ),\n",
    ").new_simulation(debug = True)\n",
    "    "
   ]
  },
  {
   "cell_type": "code",
   "execution_count": null,
   "metadata": {
    "collapsed": true
   },
   "outputs": [],
   "source": [
    "couple_2_enfants_rsa = simulation.calculate_add('rsa')\n",
    "couple_2_enfants_aefa = simulation.calculate_add('aefa','2015')\n",
    "couple_2_enfants_aides_logement = simulation.calculate_add('aides_logement')\n",
    "couple_2_enfants_af = simulation.calculate_add('af')\n",
    "couple_2_enfants_cf = simulation.calculate_add('cf')\n",
    "couple_2_enfants_ars = simulation.calculate_add('ars')\n",
    "couple_2_enfants_salaire_de_base = simulation.calculate_add('salaire_de_base')\n",
    "couple_2_enfants_csc = simulation.calculate_add('cotisations_salariales_contributives')\n",
    "couple_2_enfants_csnc = simulation.calculate_add('cotisations_salariales_non_contributives')\n",
    "couple_2_enfants_cec = simulation.calculate_add('cotisations_employeur_contributives')\n",
    "couple_2_enfants_cenc = simulation.calculate_add('cotisations_employeur_non_contributives')\n",
    "couple_2_enfants_ppa = simulation.calculate_add('ppa')\n",
    "couple_2_enfants_rni = simulation.calculate_add('rni')\n",
    "couple_2_enfants_irpp = simulation.calculate_add('irpp')\n",
    "couple_2_enfants_revdisp = simulation.calculate_add('revdisp')"
   ]
  },
  {
   "cell_type": "markdown",
   "metadata": {},
   "source": [
    "### Le cas d'un couple avec 3 enfants"
   ]
  },
  {
   "cell_type": "code",
   "execution_count": null,
   "metadata": {
    "collapsed": true
   },
   "outputs": [],
   "source": [
    "simulation = tax_benefit_system.new_scenario().init_single_entity(\n",
    "    period = 2016,\n",
    "    parent1 = dict(\n",
    "        date_naissance = date(1980, 1, 1),\n",
    "        salaire_de_base = salaire_cas_types,\n",
    "        ),\n",
    "    parent2 = dict(\n",
    "        date_naissance = date(1980, 1, 1),\n",
    "        salaire_de_base = 0,\n",
    "        ),\n",
    "    enfants = [\n",
    "        dict(date_naissance = date(2008, 1, 1)),\n",
    "        dict(date_naissance = date(2004, 1, 1)),\n",
    "        dict(date_naissance = date(2000, 1, 1)),\n",
    "        ],\n",
    "    menage = dict(\n",
    "        loyer = 6000,\n",
    "        statut_occupation_logement = 4,\n",
    "        zone_apl = 1\n",
    "        ),\n",
    ").new_simulation(debug = True)"
   ]
  },
  {
   "cell_type": "code",
   "execution_count": null,
   "metadata": {
    "collapsed": true
   },
   "outputs": [],
   "source": [
    "couple_3_enfants_rsa = simulation.calculate_add('rsa')\n",
    "couple_3_enfants_aefa = simulation.calculate_add('aefa','2015')\n",
    "couple_3_enfants_aides_logement = simulation.calculate_add('aides_logement')\n",
    "couple_3_enfants_af = simulation.calculate_add('af')\n",
    "couple_3_enfants_cf = simulation.calculate_add('cf')\n",
    "couple_3_enfants_ars = simulation.calculate_add('ars')\n",
    "couple_3_enfants_salaire_de_base = simulation.calculate_add('salaire_de_base')\n",
    "couple_3_enfants_csc = simulation.calculate_add('cotisations_salariales_contributives')\n",
    "couple_3_enfants_csnc = simulation.calculate_add('cotisations_salariales_non_contributives')\n",
    "couple_3_enfants_cec = simulation.calculate_add('cotisations_employeur_contributives')\n",
    "couple_3_enfants_cenc = simulation.calculate_add('cotisations_employeur_non_contributives')\n",
    "couple_3_enfants_ppa = simulation.calculate_add('ppa')\n",
    "couple_3_enfants_rni = simulation.calculate_add('rni')\n",
    "couple_3_enfants_irpp = simulation.calculate_add('irpp')\n",
    "couple_3_enfants_revdisp = simulation.calculate_add('revdisp')"
   ]
  },
  {
   "cell_type": "markdown",
   "metadata": {},
   "source": [
    "### Le cas d'un jeune de 18 à 25 ans"
   ]
  },
  {
   "cell_type": "code",
   "execution_count": null,
   "metadata": {
    "collapsed": true
   },
   "outputs": [],
   "source": [
    "simulation = tax_benefit_system.new_scenario().init_single_entity(\n",
    "    period = 2016,\n",
    "    parent1 = dict(\n",
    "        date_naissance = date(1996, 1, 1),\n",
    "        salaire_de_base = salaire_cas_types,\n",
    "        ),\n",
    "    menage = dict(\n",
    "        loyer = 6000,\n",
    "        statut_occupation_logement = 4,\n",
    "        zone_apl = 1\n",
    "        ),\n",
    ").new_simulation(debug = True)"
   ]
  },
  {
   "cell_type": "code",
   "execution_count": null,
   "metadata": {
    "collapsed": false
   },
   "outputs": [],
   "source": [
    "jeune_18_a_25_ans_rsa = simulation.calculate_add('rsa')\n",
    "jeune_18_a_25_ans_aefa = simulation.calculate_add('aefa','2015')\n",
    "jeune_18_a_25_ans_aides_logement = simulation.calculate_add('aides_logement')\n",
    "jeune_18_a_25_ans_af = simulation.calculate_add('af')\n",
    "jeune_18_a_25_ans_cf = simulation.calculate_add('cf')\n",
    "jeune_18_a_25_ans_ars = simulation.calculate_add('ars')\n",
    "jeune_18_a_25_ans_salaire_de_base = simulation.calculate_add('salaire_de_base')\n",
    "jeune_18_a_25_ans_csc = simulation.calculate_add('cotisations_salariales_contributives')\n",
    "jeune_18_a_25_ans_csnc = simulation.calculate_add('cotisations_salariales_non_contributives')\n",
    "jeune_18_a_25_ans_cec = simulation.calculate_add('cotisations_employeur_contributives')\n",
    "jeune_18_a_25_ans_cenc = simulation.calculate_add('cotisations_employeur_non_contributives')\n",
    "jeune_18_a_25_ans_ppa = simulation.calculate_add('ppa')\n",
    "jeune_18_a_25_ans_rni = simulation.calculate_add('rni')\n",
    "jeune_18_a_25_ans_irpp = simulation.calculate_add('irpp')\n",
    "jeune_18_a_25_ans_revdisp = simulation.calculate_add('revdisp')"
   ]
  },
  {
   "cell_type": "code",
   "execution_count": null,
   "metadata": {
    "collapsed": false
   },
   "outputs": [],
   "source": [
    "c = csv.writer(open(\"cas_types_0smic.csv\", \"wb\"))\n",
    "c.writerow([\"  \", \"RSA\", \"PFA/12\", \"aides_logement\", \"A.F.\", \"ARS/12\", \"Salaire brut\", \"CSC\", \"CSNC\", \"CPC\", \"CPNC\", \"PA\", \"Rev.impos.\", \"IRPP/12\", \"Rev.disp.\"])\n",
    "c.writerow([\"Monoparentale sans enfant\", round(individu_sans_enfant_rsa/12,0), round(individu_sans_enfant_aefa/12,0), round(individu_sans_enfant_aides_logement/12,0),\n",
    "    round(individu_sans_enfant_af/12,0) + round(individu_sans_enfant_cf/12,0), round(individu_sans_enfant_ars/12,0), round(individu_sans_enfant_salaire_de_base/12,0),\n",
    "    round(individu_sans_enfant_csc/12,0), round(individu_sans_enfant_csnc/12,0), round(individu_sans_enfant_cec/12,0), \n",
    "    round(individu_sans_enfant_cenc/12,0), round(individu_sans_enfant_ppa/12,0), round(individu_sans_enfant_rni,0), \n",
    "    round(individu_sans_enfant_irpp,0), round(individu_sans_enfant_revdisp/12,0)]) \n",
    "c.writerow([\"Monoparentale 1 enfant\", round(monoparentale_1_enfant_rsa/12,0), round(monoparentale_1_enfant_aefa/12,0), round(monoparentale_1_enfant_aides_logement/12,0),\n",
    "    round(monoparentale_1_enfant_af[0]/12,0) + round(monoparentale_1_enfant_cf[0]/12,0), round(monoparentale_1_enfant_ars[0]/12,0), round(monoparentale_1_enfant_salaire_de_base[0]/12,0),\n",
    "    round(monoparentale_1_enfant_csc[0]/12,0), round(monoparentale_1_enfant_csnc[0]/12,0), round(monoparentale_1_enfant_cec[0]/12,0), \n",
    "    round(monoparentale_1_enfant_cenc[0]/12,0), round(monoparentale_1_enfant_ppa[0]/12,0), round(monoparentale_1_enfant_rni[0],0), \n",
    "    round(monoparentale_1_enfant_irpp[0],0), round(monoparentale_1_enfant_revdisp[0]/12,0)])\n",
    "c.writerow([\"Monoparentale 2 enfants\", round(monoparentale_2_enfants_rsa/12,0), round(monoparentale_2_enfants_aefa/12,0),round(monoparentale_2_enfants_aides_logement/12,0),\n",
    "    round(monoparentale_2_enfants_af[0]/12,0) + round(monoparentale_2_enfants_cf[0]/12,0), round(monoparentale_2_enfants_ars[0]/12,0), round(monoparentale_2_enfants_salaire_de_base[0]/12,0),\n",
    "    round(monoparentale_2_enfants_csc[0]/12,0), round(monoparentale_2_enfants_csnc[0]/12,0), round(monoparentale_2_enfants_cec[0]/12,0), \n",
    "    round(monoparentale_2_enfants_cenc[0]/12,0), round(monoparentale_2_enfants_ppa[0]/12,0), round(monoparentale_2_enfants_rni[0],0), \n",
    "    round(monoparentale_2_enfants_irpp[0],0), round(monoparentale_2_enfants_revdisp[0]/12,0)])\n",
    "c.writerow([\"Monoparentale 3 enfants\", round(monoparentale_3_enfants_rsa/12,0), round(monoparentale_3_enfants_aefa/12,0),round(monoparentale_3_enfants_aides_logement/12,0),\n",
    "    round(monoparentale_3_enfants_af[0]/12,0) + round(monoparentale_3_enfants_cf[0]/12,0), round(monoparentale_3_enfants_ars[0]/12,0), round(monoparentale_3_enfants_salaire_de_base[0]/12,0),\n",
    "    round(monoparentale_3_enfants_csc[0]/12,0), round(monoparentale_3_enfants_csnc[0]/12,0), round(monoparentale_3_enfants_cec[0]/12,0), \n",
    "    round(monoparentale_3_enfants_cenc[0]/12,0), round(monoparentale_3_enfants_ppa[0]/12,0), round(monoparentale_3_enfants_rni[0],0), \n",
    "    round(monoparentale_3_enfants_irpp[0],0), round(monoparentale_3_enfants_revdisp[0]/12,0)])\n",
    "c.writerow([\"Couple sans enfant\", round(couple_sans_enfant_rsa/12,0), round(couple_sans_enfant_aefa/12,0),round(couple_sans_enfant_aides_logement/12,0),\n",
    "    round(couple_sans_enfant_af[0]/12,0) + round(couple_sans_enfant_cf[0]/12,0), round(couple_sans_enfant_ars[0]/12,0), round(couple_sans_enfant_salaire_de_base[0]/12,0),\n",
    "    round(monoparentale_3_enfants_csc[0]/12,0), round(monoparentale_3_enfants_csnc[0]/12,0), round(monoparentale_3_enfants_cec[0]/12,0), \n",
    "    round(couple_sans_enfant_cenc[0]/12,0), round(couple_sans_enfant_ppa[0]/12,0), round(couple_sans_enfant_rni[0],0), \n",
    "    round(couple_sans_enfant_irpp[0],0), round(couple_sans_enfant_revdisp[0]/12,0)])\n",
    "c.writerow([\"Couple 1 enfant\", round(couple_1_enfant_rsa/12,0), round(couple_1_enfant_aefa/12,0),round(couple_1_enfant_aides_logement/12,0),\n",
    "    round(couple_1_enfant_af[0]/12,0) + round(couple_1_enfant_cf[0]/12,0), round(couple_1_enfant_ars[0]/12,0), round(couple_1_enfant_salaire_de_base[0]/12,0),\n",
    "    round(couple_1_enfant_csc[0]/12,0), round(couple_1_enfant_csnc[0]/12,0), round(couple_1_enfant_cec[0]/12,0), \n",
    "    round(couple_1_enfant_cenc[0]/12,0), round(couple_1_enfant_ppa[0]/12,0), round(couple_1_enfant_rni[0],0), \n",
    "    round(couple_1_enfant_irpp[0],0), round(couple_1_enfant_revdisp[0]/12,0)])\n",
    "c.writerow([\"Couple 2 enfants\", round(couple_2_enfants_rsa/12,0), round(couple_2_enfants_aefa/12,0),round(couple_2_enfants_aides_logement/12,0),\n",
    "    round(couple_2_enfants_af[0]/12,0) + round(couple_2_enfants_cf[0]/12,0), round(couple_2_enfants_ars[0]/12,0), round(couple_2_enfants_salaire_de_base[0]/12,0),\n",
    "    round(couple_2_enfants_csc[0]/12,0), round(couple_2_enfants_csnc[0]/12,0), round(couple_2_enfants_cec[0]/12,0), \n",
    "    round(couple_2_enfants_cenc[0]/12,0), round(couple_2_enfants_ppa[0]/12,0), round(couple_2_enfants_rni[0],0), \n",
    "    round(couple_2_enfants_irpp[0],0), round(couple_2_enfants_revdisp[0]/12,0)])\n",
    "c.writerow([\"Couple 3 enfants\", round(couple_3_enfants_rsa/12,0), round(couple_3_enfants_aefa/12,0),round(couple_3_enfants_aides_logement/12,0),\n",
    "    round(couple_3_enfants_af[0]/12,0) + round(couple_3_enfants_cf[0]/12,0), round(couple_3_enfants_ars[0]/12,0), round(couple_3_enfants_salaire_de_base[0]/12,0),\n",
    "    round(couple_3_enfants_csc[0]/12,0), round(couple_3_enfants_csnc[0]/12,0), round(couple_3_enfants_cec[0]/12,0), \n",
    "    round(couple_3_enfants_cenc[0]/12,0), round(couple_3_enfants_ppa[0]/12,0), round(couple_3_enfants_rni[0],0), \n",
    "    round(couple_3_enfants_irpp[0],0), round(couple_3_enfants_revdisp[0]/12,0)])\n",
    "c.writerow([\"Jeune de 18 a 25 ans\", round(jeune_18_a_25_ans_rsa/12,0), round(jeune_18_a_25_ans_aefa/12,0),round(jeune_18_a_25_ans_aides_logement/12,0),\n",
    "    round(jeune_18_a_25_ans_af[0]/12,0) + round(jeune_18_a_25_ans_cf[0]/12,0), round(jeune_18_a_25_ans_ars[0]/12,0), round(jeune_18_a_25_ans_salaire_de_base[0]/12,0),\n",
    "    round(jeune_18_a_25_ans_csc[0]/12,0), round(jeune_18_a_25_ans_csnc[0]/12,0), round(jeune_18_a_25_ans_cec[0]/12,0), \n",
    "    round(jeune_18_a_25_ans_cenc[0]/12,0), round(jeune_18_a_25_ans_ppa[0]/12,0), round(jeune_18_a_25_ans_rni[0],0), \n",
    "    round(jeune_18_a_25_ans_irpp[0],0), round(jeune_18_a_25_ans_revdisp[0]/12,0)])\n",
    "\n",
    "cr = csv.reader(open(\"cas_types_0smic.csv\",\"rb\"))\n",
    "for row in cr:\n",
    "    print row\n",
    "    \n"
   ]
  },
  {
   "cell_type": "code",
   "execution_count": null,
   "metadata": {
    "collapsed": true
   },
   "outputs": [],
   "source": []
  },
  {
   "cell_type": "code",
   "execution_count": null,
   "metadata": {
    "collapsed": false
   },
   "outputs": [],
   "source": []
  },
  {
   "cell_type": "code",
   "execution_count": null,
   "metadata": {
    "collapsed": true
   },
   "outputs": [],
   "source": []
  }
 ],
 "metadata": {
  "celltoolbar": "Raw Cell Format",
  "kernelspec": {
   "display_name": "Python 2",
   "language": "python",
   "name": "python2"
  },
  "language_info": {
   "codemirror_mode": {
    "name": "ipython",
    "version": 2
   },
   "file_extension": ".py",
   "mimetype": "text/x-python",
   "name": "python",
   "nbconvert_exporter": "python",
   "pygments_lexer": "ipython2",
   "version": "2.7.9"
  }
 },
 "nbformat": 4,
 "nbformat_minor": 0
}
