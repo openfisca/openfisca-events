{
 "cells": [
  {
   "cell_type": "markdown",
   "metadata": {},
   "source": [
    "# Variation du salaire de base"
   ]
  },
  {
   "cell_type": "markdown",
   "metadata": {},
   "source": [
    "Initialisations Python"
   ]
  },
  {
   "cell_type": "code",
   "execution_count": 1,
   "metadata": {
    "collapsed": true
   },
   "outputs": [],
   "source": [
    "from datetime import date\n",
    "import matplotlib.pyplot as plt\n",
    "#importer numpy permet de coler deux sections de courbes (nécessaire quand on fait varier le salaire de base en-dessous du SMIC mensuel)\n",
    "import numpy as np\n",
    "from numpy import logical_not as not_, minimum as min_, maximum as max_, logical_and as and_, logical_or as or_, round as round_\n",
    "\n",
    "%matplotlib inline\n",
    "\n",
    "import json\n",
    "import openfisca_france\n",
    "from openfisca_france.model.base import *\n",
    "\n",
    "# to debug / trace\n",
    "from openfisca_core import tools\n",
    "from openfisca_core.reforms import Reform\n",
    "\n"
   ]
  },
  {
   "cell_type": "markdown",
   "metadata": {},
   "source": [
    "Initialisations OpenFisca"
   ]
  },
  {
   "cell_type": "code",
   "execution_count": 2,
   "metadata": {
    "collapsed": false
   },
   "outputs": [],
   "source": [
    "tax_benefit_system = openfisca_france.FranceTaxBenefitSystem()"
   ]
  },
  {
   "cell_type": "code",
   "execution_count": 3,
   "metadata": {
    "collapsed": false
   },
   "outputs": [],
   "source": [
    "def modify_legislation_json(reference_legislation_json_copy):\n",
    "    return reference_legislation_json_copy\n"
   ]
  },
  {
   "cell_type": "code",
   "execution_count": 4,
   "metadata": {
    "collapsed": false
   },
   "outputs": [],
   "source": [
    "class allegement_fillon(DatedVariable):\n",
    "    column = FloatCol\n",
    "    entity_class = Individus\n",
    "    label = u\"Allègement de charges employeur sur les bas et moyens salaires (dit allègement Fillon)\"\n",
    "\n",
    "    # Attention : cet allègement a des règles de cumul spécifiques\n",
    "\n",
    "    @dated_function(date(2005, 7, 1))\n",
    "    \n",
    "    def function(self, simulation, period):\n",
    "        period = period.this_month\n",
    "        stagiaire = simulation.calculate('stagiaire', period)\n",
    "        apprenti = simulation.calculate('apprenti', period)\n",
    "        allegement_mode_recouvrement = simulation.calculate('allegement_fillon_mode_recouvrement', period)\n",
    "\n",
    "        # switch on 3 possible payment options\n",
    "        allegement = switch_on_allegement_mode(\n",
    "            simulation, period,\n",
    "            allegement_mode_recouvrement,\n",
    "            self.__class__.__name__,\n",
    "        )\n",
    "        \n",
    "           \n",
    "        return period, allegement * not_(stagiaire) * not_(apprenti)\n",
    "    \n",
    "def compute_allegement_fillon(simulation, period):\n",
    "    \"\"\"\n",
    "    Exonération Fillon\n",
    "    http://www.securite-sociale.fr/comprendre/dossiers/exocotisations/exoenvigueur/fillon.htm\n",
    "    \"\"\"\n",
    "       \n",
    "    assiette = simulation.calculate_add('assiette_allegement', period)\n",
    "    smic_proratise = simulation.calculate_add('smic_proratise', period)\n",
    "    taille_entreprise = simulation.calculate('taille_entreprise', period)\n",
    "    majoration = (taille_entreprise <= 2)  # majoration éventuelle pour les petites entreprises\n",
    "    # Calcul du taux\n",
    "    # Le montant maximum de l’allègement dépend de l’effectif de l’entreprise.\n",
    "    # Le montant est calculé chaque année civile, pour chaque salarié ;\n",
    "    # il est égal au produit de la totalité de la rémunération annuelle telle\n",
    "    # que visée à l’article L. 242-1 du code de la Sécurité sociale par un\n",
    "    # coefficient.\n",
    "    # Ce montant est majoré de 10 % pour les entreprises de travail temporaire\n",
    "    # au titre des salariés temporaires pour lesquels elle est tenue à\n",
    "    # l’obligation d’indemnisation compensatrice de congés payés.\n",
    "    Pf = simulation.legislation_at(period.start).cotsoc.exo_bas_sal.fillon\n",
    "    seuil = Pf.seuil\n",
    "    tx_max = (Pf.tx_max * not_(majoration) + Pf.tx_max2 * majoration)\n",
    "    \n",
    "    \n",
    "    if seuil <= 1:    \n",
    "        return 0\n",
    "    \n",
    "    ratio_smic_salaire = smic_proratise / (assiette + 1e-16)\n",
    "    # règle d'arrondi: 4 décimales au dix-millième le plus proche\n",
    "    \n",
    "    import pdb; pdb.set_trace()\n",
    "    \n",
    "    taux_fillon = round_(tx_max * min_(1, max_(seuil * ratio_smic_salaire - 1, 0) / (seuil - 1)), 4)\n",
    "    \n",
    "    \n",
    "    \n",
    "    # Montant de l'allegment\n",
    "    return taux_fillon * assiette\n",
    "\n",
    " \n",
    "\n",
    "def switch_on_allegement_mode(simulation, period, mode_recouvrement, variable_name):\n",
    "    \"\"\"\n",
    "        Switch on 3 possible payment options for allegements\n",
    "        Name of the computation method specific to the allegement\n",
    "        should precisely be the variable name prefixed with 'compute_'\n",
    "    \"\"\"\n",
    "    compute_function = globals()['compute_' + variable_name]\n",
    "    return switch(\n",
    "        mode_recouvrement,\n",
    "        {\n",
    "            0: compute_allegement_annuel(simulation, period, variable_name, compute_function),\n",
    "            1: compute_allegement_anticipe(simulation, period, variable_name, compute_function),\n",
    "            2: compute_allegement_progressif(simulation, period, variable_name, compute_function),\n",
    "                     \n",
    "        },\n",
    "        \n",
    "     )\n",
    "\n",
    "\n",
    "\n",
    "def compute_allegement_annuel(simulation, period, variable_name, compute_function):\n",
    "    if period.start.month < 12:\n",
    "        return 0\n",
    "    if period.start.month == 12:\n",
    "        return compute_function(simulation, period.this_year)\n",
    "\n",
    "\n",
    "def compute_allegement_anticipe(simulation, period, variable_name, compute_function):\n",
    "    if period.start.month < 12:\n",
    "        return compute_function(simulation, period.this_month)\n",
    "    if period.start.month == 12:\n",
    "        cumul = simulation.calculate_add(\n",
    "            variable_name,\n",
    "            period.start.offset('first-of', 'year').period('month', 11), max_nb_cycles=1)\n",
    "        return compute_function(\n",
    "            simulation, period.this_year\n",
    "        ) - cumul\n",
    "\n",
    "\n",
    "def compute_allegement_progressif(simulation, period, variable_name, compute_function):\n",
    "    if period.start.month == 1:\n",
    "        return compute_function(simulation, period.this_month)\n",
    "\n",
    "    if period.start.month > 1:\n",
    "        up_to_this_month = period.start.offset('first-of', 'year').period('month', period.start.month)\n",
    "        up_to_previous_month = period.start.offset('first-of', 'year').period('month', period.start.month - 1)\n",
    "        cumul = simulation.calculate_add(variable_name, up_to_previous_month, max_nb_cycles=1)\n",
    "        return compute_function(simulation, up_to_this_month) - cumul\n"
   ]
  },
  {
   "cell_type": "code",
   "execution_count": 5,
   "metadata": {
    "collapsed": false
   },
   "outputs": [],
   "source": [
    "class Modification_Calcul_Allegement_Fillon(Reform):\n",
    "    name = u\"Modification du Calcul de l'Allègement Fillon\"\n",
    "\n",
    "    def apply(self):\n",
    "        for variable in [allegement_fillon]:\n",
    "            self.update_variable(variable)\n",
    "            self.modify_legislation_json(modifier_function = modify_legislation_json)\n",
    "            \n",
    "            "
   ]
  },
  {
   "cell_type": "code",
   "execution_count": 6,
   "metadata": {
    "collapsed": false
   },
   "outputs": [],
   "source": [
    "reform = Modification_Calcul_Allegement_Fillon(tax_benefit_system)"
   ]
  },
  {
   "cell_type": "code",
   "execution_count": 7,
   "metadata": {
    "collapsed": true
   },
   "outputs": [],
   "source": [
    "date_naissance_parent1 = date(1980, 1, 1)"
   ]
  },
  {
   "cell_type": "code",
   "execution_count": 8,
   "metadata": {
    "collapsed": false
   },
   "outputs": [],
   "source": [
    "nb_heures_par_mois_temps_plein = 35 * 52 / 12.0\n",
    "smic_horaire = 9.670"
   ]
  },
  {
   "cell_type": "code",
   "execution_count": 9,
   "metadata": {
    "collapsed": false
   },
   "outputs": [],
   "source": [
    "# On commence par simuler la variation de salaire entre 0 € et le SMIC mensuel\n",
    "# Entre 0 € et le SMIC mensuel, quand le salaire de base augmente, c'est le volume horaire qui augmente (de 0 à 35 heures hendomadaires)\n",
    "# Le salaire horaire quant à lui reste fixé au SMIC horaire\n",
    "\n",
    "\n",
    "\n",
    "scenario_under_smic = reform.new_scenario().init_single_entity(\n",
    "    axes = [\n",
    "        [\n",
    "            dict(\n",
    "                count = 10,\n",
    "                min = 0,\n",
    "                max = nb_heures_par_mois_temps_plein,\n",
    "                name = 'heures_remunerees_volume',\n",
    "                ),\n",
    "            dict(\n",
    "                count = 10,\n",
    "                min = 0,\n",
    "                max = nb_heures_par_mois_temps_plein * smic_horaire,\n",
    "                name = 'salaire_de_base',\n",
    "                ),\n",
    "            ],\n",
    "        ],\n",
    "    period = '2016-01',\n",
    "    parent1 = dict(\n",
    "        date_naissance = date_naissance_parent1,\n",
    "        contrat_de_travail = 1, # temps partiel\n",
    "        allegement_fillon_mode_recouvrement = 1, # anticipe_regularisation_fin_de_periode\n",
    "        ),\n",
    "    )"
   ]
  },
  {
   "cell_type": "code",
   "execution_count": 10,
   "metadata": {
    "collapsed": false
   },
   "outputs": [],
   "source": [
    "simulation_under_smic = scenario_under_smic.new_simulation()"
   ]
  },
  {
   "cell_type": "code",
   "execution_count": 11,
   "metadata": {
    "collapsed": false
   },
   "outputs": [
    {
     "data": {
      "text/plain": [
       "array([    0.        ,   162.95741272,   325.91482544,   488.8722229 ,\n",
       "         651.82965088,   814.78704834,   977.7444458 ,  1140.7019043 ,\n",
       "        1303.65930176,  1466.61669922], dtype=float32)"
      ]
     },
     "execution_count": 11,
     "metadata": {},
     "output_type": "execute_result"
    }
   ],
   "source": [
    "salaire_de_base_under_smic = simulation_under_smic.calculate('salaire_de_base', '2016-01')\n",
    "salaire_de_base_under_smic"
   ]
  },
  {
   "cell_type": "code",
   "execution_count": null,
   "metadata": {
    "collapsed": false,
    "scrolled": true
   },
   "outputs": [
    {
     "name": "stdout",
     "output_type": "stream",
     "text": [
      "> <ipython-input-4-0b03d4af9c5d>(58)compute_allegement_fillon()\n",
      "-> taux_fillon = round_(tx_max * min_(1, max_(seuil * ratio_smic_salaire - 1, 0) / (seuil - 1)), 4)\n",
      "(Pdb) print majoration\n",
      "[ True  True  True  True  True  True  True  True  True  True]\n",
      "(Pdb) print not_(majoration)\n",
      "[False False False False False False False False False False]\n",
      "(Pdb) print Pf\n",
      "CompactNode({'tx_max2': 0.2802, 'tx_max': 0.2842, 'instant': Instant((2016, 1, 1)), 'name': u'fillon', 'seuil': 1.6})\n",
      "(Pdb) print Pf.tx_max\n",
      "0.2842\n",
      "(Pdb) Pf.tx_max2\n",
      "0.2802\n",
      "(Pdb) print\n",
      "\n",
      "(Pdb) print ratio_smic_salaire\n",
      "[ 0.          0.99999988  0.99999988  1.          0.99999988  1.00000012\n",
      "  1.          0.99999988  0.99999988  1.        ]\n",
      "(Pdb) print smic_proratise\n",
      "[    0.           162.95739746   325.91479492   488.8722229    651.82958984\n",
      "   814.78710938   977.7444458   1140.70178223  1303.65917969  1466.61669922]\n",
      "(Pdb) print assiette\n",
      "[    0.           162.95741272   325.91482544   488.8722229    651.82965088\n",
      "   814.78704834   977.7444458   1140.7019043   1303.65930176  1466.61669922]\n",
      "(Pdb) print taux_fillon\n",
      "*** NameError: name 'taux_fillon' is not defined\n",
      "(Pdb) print assiette * 0.2802\n",
      "[   0.           45.66066742   91.32133484  136.98199463  182.64266968\n",
      "  228.30332947  273.96398926  319.62466431  365.28533936  410.9460144 ]\n",
      "(Pdb) s\n",
      "--Call--\n",
      "> /home/notebook/virtualenvs/openfisca/local/lib/python2.7/site-packages/numpy/core/fromnumeric.py(2778)round_()\n",
      "-> def round_(a, decimals=0, out=None):\n",
      "(Pdb) s\n",
      "> /home/notebook/virtualenvs/openfisca/local/lib/python2.7/site-packages/numpy/core/fromnumeric.py(2789)round_()\n",
      "-> try:\n",
      "(Pdb) s\n",
      "> /home/notebook/virtualenvs/openfisca/local/lib/python2.7/site-packages/numpy/core/fromnumeric.py(2790)round_()\n",
      "-> round = a.round\n",
      "(Pdb) s\n",
      "> /home/notebook/virtualenvs/openfisca/local/lib/python2.7/site-packages/numpy/core/fromnumeric.py(2793)round_()\n",
      "-> return round(decimals, out)\n",
      "(Pdb) s\n",
      "--Return--\n",
      "> /home/notebook/virtualenvs/openfisca/local/lib/python2.7/site-packages/numpy/core/fromnumeric.py(2793)round_()->array([ ... 0.2802])\n",
      "-> return round(decimals, out)\n",
      "(Pdb) s\n",
      "> <ipython-input-4-0b03d4af9c5d>(63)compute_allegement_fillon()\n",
      "-> return taux_fillon * assiette\n",
      "(Pdb) s\n",
      "--Return--\n",
      "> <ipython-input-4-0b03d4af9c5d>(63)compute_allegement_fillon()->array([ ...4599912])\n",
      "-> return taux_fillon * assiette\n",
      "(Pdb) s\n",
      "--Return--\n",
      "> <ipython-input-4-0b03d4af9c5d>(96)compute_allegement_anticipe()->array([ ...4599912])\n",
      "-> return compute_function(simulation, period.this_month)\n",
      "(Pdb) s\n",
      "> <ipython-input-4-0b03d4af9c5d>(79)switch_on_allegement_mode()\n",
      "-> 2: compute_allegement_progressif(simulation, period, variable_name, compute_function),\n",
      "(Pdb) s\n",
      "--Call--\n",
      "> <ipython-input-4-0b03d4af9c5d>(106)compute_allegement_progressif()\n",
      "-> def compute_allegement_progressif(simulation, period, variable_name, compute_function):\n",
      "(Pdb) s\n",
      "> <ipython-input-4-0b03d4af9c5d>(107)compute_allegement_progressif()\n",
      "-> if period.start.month == 1:\n",
      "(Pdb) s\n",
      "--Call--\n",
      "> /home/notebook/virtualenvs/openfisca/local/lib/python2.7/site-packages/openfisca_core/periods.py(588)start()\n",
      "-> @property\n",
      "(Pdb) s\n",
      "> /home/notebook/virtualenvs/openfisca/local/lib/python2.7/site-packages/openfisca_core/periods.py(595)start()\n",
      "-> return self[1]\n",
      "(Pdb) n\n",
      "--Return--\n",
      "> /home/notebook/virtualenvs/openfisca/local/lib/python2.7/site-packages/openfisca_core/periods.py(595)start()->Instant(...6, 1, 1))\n",
      "-> return self[1]\n",
      "(Pdb) s\n",
      "--Call--\n",
      "> /home/notebook/virtualenvs/openfisca/local/lib/python2.7/site-packages/openfisca_core/periods.py(98)month()\n",
      "-> @property\n",
      "(Pdb) s\n",
      "> /home/notebook/virtualenvs/openfisca/local/lib/python2.7/site-packages/openfisca_core/periods.py(109)month()\n",
      "-> return self[1]\n",
      "(Pdb) s\n",
      "--Return--\n",
      "> /home/notebook/virtualenvs/openfisca/local/lib/python2.7/site-packages/openfisca_core/periods.py(109)month()->1\n",
      "-> return self[1]\n",
      "(Pdb) s\n",
      "> <ipython-input-4-0b03d4af9c5d>(108)compute_allegement_progressif()\n",
      "-> return compute_function(simulation, period.this_month)\n",
      "(Pdb) s\n",
      "--Call--\n",
      "> /home/notebook/virtualenvs/openfisca/local/lib/python2.7/site-packages/openfisca_core/periods.py(694)this_month()\n",
      "-> @property\n",
      "(Pdb) s\n",
      "> /home/notebook/virtualenvs/openfisca/local/lib/python2.7/site-packages/openfisca_core/periods.py(696)this_month()\n",
      "-> return self.start.offset('first-of', 'month').period('month')\n",
      "(Pdb) s\n",
      "--Call--\n",
      "> /home/notebook/virtualenvs/openfisca/local/lib/python2.7/site-packages/openfisca_core/periods.py(588)start()\n",
      "-> @property\n",
      "(Pdb) s\n",
      "> /home/notebook/virtualenvs/openfisca/local/lib/python2.7/site-packages/openfisca_core/periods.py(595)start()\n",
      "-> return self[1]\n",
      "(Pdb) s\n",
      "--Return--\n",
      "> /home/notebook/virtualenvs/openfisca/local/lib/python2.7/site-packages/openfisca_core/periods.py(595)start()->Instant(...6, 1, 1))\n",
      "-> return self[1]\n",
      "(Pdb) s\n",
      "--Call--\n",
      "> /home/notebook/virtualenvs/openfisca/local/lib/python2.7/site-packages/openfisca_core/periods.py(125)offset()\n",
      "-> def offset(self, offset, unit):\n",
      "(Pdb) s\n",
      "> /home/notebook/virtualenvs/openfisca/local/lib/python2.7/site-packages/openfisca_core/periods.py(205)offset()\n",
      "-> year, month, day = self\n"
     ]
    }
   ],
   "source": [
    "# allegement_fillon_under_smic = simulation_under_smic.calculate('allegement_fillon', '2016-01')\n",
    "allegement_fillon_under_smic = simulation_under_smic.calculate('allegement_fillon', '2016-01')\n",
    "allegement_fillon_under_smic\n"
   ]
  },
  {
   "cell_type": "code",
   "execution_count": 13,
   "metadata": {
    "collapsed": false
   },
   "outputs": [
    {
     "data": {
      "image/png": "[encoded data removed]",
      "text/plain": [
       "<matplotlib.figure.Figure at 0x7f619ecddd10>"
      ]
     },
     "metadata": {},
     "output_type": "display_data"
    }
   ],
   "source": [
    "plt.plot(salaire_de_base_under_smic, allegement_fillon_under_smic)\n",
    "\n",
    "plt.xlabel(u'Salaire de base (€/mois)')\n",
    "plt.ylabel(u'Allègement Fillon (€/mois)')\n",
    "plt.title(u'Au-dessous du SMIC')\n",
    "plt.grid(True)\n",
    "plt.show()"
   ]
  },
  {
   "cell_type": "code",
   "execution_count": 14,
   "metadata": {
    "collapsed": false
   },
   "outputs": [
    {
     "data": {
      "text/plain": [
       "1466.6166666666666"
      ]
     },
     "execution_count": 14,
     "metadata": {},
     "output_type": "execute_result"
    }
   ],
   "source": [
    "smic_mensuel = nb_heures_par_mois_temps_plein * smic_horaire\n",
    "smic_mensuel"
   ]
  },
  {
   "cell_type": "code",
   "execution_count": 15,
   "metadata": {
    "collapsed": false
   },
   "outputs": [],
   "source": [
    "# Au-delà du SMIC mensuel, on suppose que le volume horaire reste fixé à 35 heures,\n",
    "# et que c'est le salaire horaire qui augmente\n",
    "\n",
    "scenario_over_smic = tax_benefit_system.new_scenario().init_single_entity(\n",
    "    axes = [\n",
    "        dict(\n",
    "            count = 50,\n",
    "            min = smic_mensuel,\n",
    "            max = 5000,\n",
    "            name = 'salaire_de_base',\n",
    "            ),\n",
    "        ],\n",
    "    period = '2016-01',\n",
    "    parent1 = dict(\n",
    "        date_naissance = date_naissance_parent1,\n",
    "        contrat_de_travail = 0, # temps plein\n",
    "        allegement_fillon_mode_recouvrement = 1, # anticipe_regularisation_fin_de_periode\n",
    "        ),\n",
    "    )\n",
    "\n"
   ]
  },
  {
   "cell_type": "code",
   "execution_count": null,
   "metadata": {
    "collapsed": false
   },
   "outputs": [],
   "source": [
    "simulation_over_smic = scenario_over_smic.new_simulation()\n",
    "\n",
    "\n"
   ]
  },
  {
   "cell_type": "code",
   "execution_count": null,
   "metadata": {
    "collapsed": false
   },
   "outputs": [],
   "source": [
    "salaire_de_base_over_smic = simulation_over_smic.calculate('salaire_de_base', '2016-01')\n",
    "salaire_de_base_over_smic\n",
    "\n"
   ]
  },
  {
   "cell_type": "code",
   "execution_count": null,
   "metadata": {
    "collapsed": false
   },
   "outputs": [],
   "source": [
    "\n",
    "\n",
    "allegement_fillon_over_smic = simulation_over_smic.calculate('allegement_fillon', '2016-01')\n",
    "allegement_fillon_over_smic\n",
    "\n"
   ]
  },
  {
   "cell_type": "code",
   "execution_count": null,
   "metadata": {
    "collapsed": false
   },
   "outputs": [],
   "source": [
    "from openfisca_core import tools\n",
    "print(tools.get_trace_tool_link(scenario_over_smic, ['allegement_fillon'], api_url='https://api.openfisca.fr/', trace_tool_url='https://www.openfisca.fr/tools/trace'))\n"
   ]
  },
  {
   "cell_type": "code",
   "execution_count": null,
   "metadata": {
    "collapsed": false
   },
   "outputs": [],
   "source": [
    "plt.plot(salaire_de_base_over_smic, allegement_fillon_over_smic)\n",
    "plt.xlabel(u'Salaire de base (€/mois)')\n",
    "plt.ylabel(u'Allègement Fillon (€/mois)')\n",
    "plt.title(u'Au-dessus du SMIC')\n",
    "plt.grid(True)\n",
    "plt.show()"
   ]
  },
  {
   "cell_type": "code",
   "execution_count": null,
   "metadata": {
    "collapsed": false
   },
   "outputs": [],
   "source": [
    "# On crée ici la variable \"salaire_de_base\" qui est l'enchainement du segment : 0 €- SMIC mensuel et du segment SMIC mensuel - au-delà\n",
    "# le crochet [:-1] permet d'éviter que l'on ait l'observation \"SMIC mensuel\" en doublon\n",
    "\n",
    "salaire_de_base = np.concatenate([salaire_de_base_under_smic[:-1], salaire_de_base_over_smic])"
   ]
  },
  {
   "cell_type": "code",
   "execution_count": null,
   "metadata": {
    "collapsed": false
   },
   "outputs": [],
   "source": [
    "allegement_fillon = np.concatenate([allegement_fillon_under_smic[:-1], allegement_fillon_over_smic])"
   ]
  },
  {
   "cell_type": "code",
   "execution_count": null,
   "metadata": {
    "collapsed": false
   },
   "outputs": [],
   "source": [
    "plt.plot(salaire_de_base, allegement_fillon)\n",
    "# plt.plot(salaire_de_base_under_smic, allegement_fillon_under_smic, label=u'Temps partiel de 0 à 35h/mois')\n",
    "# plt.plot(salaire_de_base_over_smic, allegement_fillon_over_smic, label=u'Temps plein')\n",
    "plt.xlabel(u'Salaire de base (€/mois)')\n",
    "plt.ylabel(u'Allègement Fillon (€/mois)')\n",
    "plt.title(u'Variation du salaire de base mensuel avec réduction du volume horaire au-dessous du SMIC')\n",
    "plt.grid(True)\n",
    "plt.axvline(x=smic_mensuel, color='r', label='SMIC')\n",
    "plt.legend()\n",
    "plt.show()"
   ]
  },
  {
   "cell_type": "code",
   "execution_count": null,
   "metadata": {
    "collapsed": true
   },
   "outputs": [],
   "source": []
  },
  {
   "cell_type": "code",
   "execution_count": null,
   "metadata": {
    "collapsed": true
   },
   "outputs": [],
   "source": []
  }
 ],
 "metadata": {
  "kernelspec": {
   "display_name": "Python 2",
   "language": "python",
   "name": "python2"
  },
  "language_info": {
   "codemirror_mode": {
    "name": "ipython",
    "version": 2
   },
   "file_extension": ".py",
   "mimetype": "text/x-python",
   "name": "python",
   "nbconvert_exporter": "python",
   "pygments_lexer": "ipython2",
   "version": "2.7.9"
  }
 },
 "nbformat": 4,
 "nbformat_minor": 0
}
