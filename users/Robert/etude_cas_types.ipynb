{
 "cells": [
  {
   "cell_type": "markdown",
   "metadata": {},
   "source": [
    "# Etude de cas-types - principaux éléments"
   ]
  },
  {
   "cell_type": "markdown",
   "metadata": {},
   "source": [
    "## Initialisation"
   ]
  },
  {
   "cell_type": "markdown",
   "metadata": {},
   "source": [
    "Nous importons les modules nécéssaires et initialisons le système socio-fiscal."
   ]
  },
  {
   "cell_type": "code",
   "execution_count": 102,
   "metadata": {
    "collapsed": false
   },
   "outputs": [],
   "source": [
    "%matplotlib inline"
   ]
  },
  {
   "cell_type": "code",
   "execution_count": 103,
   "metadata": {
    "collapsed": true
   },
   "outputs": [],
   "source": [
    "# import collections\n",
    "import json\n",
    "#import urllib2"
   ]
  },
  {
   "cell_type": "code",
   "execution_count": 104,
   "metadata": {
    "collapsed": false
   },
   "outputs": [],
   "source": [
    "import matplotlib.pyplot as plt\n",
    "from datetime import date  # module nécessaire pour la définition des dates, dont notamment les dates de naissances\n",
    "\n",
    "# from numpy import logical_not as not_, minimum as min_, maximum as max_, logical_and as and_, logical_or as or_"
   ]
  },
  {
   "cell_type": "code",
   "execution_count": 105,
   "metadata": {
    "collapsed": false
   },
   "outputs": [],
   "source": [
    "import openfisca_france    # module décrivant le système socio-fiscal français\n",
    "from openfisca_france.model.base import *\n",
    "#TaxBenefitSystem = openfisca_france.init_country()  # Initialisation de la classe décrivant le système socio-fiscal français\n",
    "tax_benefit_system = openfisca_france.FranceTaxBenefitSystem()  # Création d'une instance du système socio-fiscal français \n"
   ]
  },
  {
   "cell_type": "code",
   "execution_count": 106,
   "metadata": {
    "collapsed": true
   },
   "outputs": [],
   "source": [
    "import csv # module nécessaire pour l'enregistrement des données dans un fichier utilisable sous Excel"
   ]
  },
  {
   "cell_type": "markdown",
   "metadata": {},
   "source": [
    "Nous pouvont lister les entités pertinentes du système socio-fiscal "
   ]
  },
  {
   "cell_type": "code",
   "execution_count": 107,
   "metadata": {
    "collapsed": false
   },
   "outputs": [
    {
     "name": "stdout",
     "output_type": "stream",
     "text": [
      "['familles', 'foyers_fiscaux', 'individus', 'menages']\n"
     ]
    }
   ],
   "source": [
    "print sorted(tax_benefit_system.entity_class_by_key_plural.keys())"
   ]
  },
  {
   "cell_type": "code",
   "execution_count": 108,
   "metadata": {
    "collapsed": false
   },
   "outputs": [
    {
     "name": "stdout",
     "output_type": "stream",
     "text": [
      "1466.61666667     17599.4\n",
      "0\n"
     ]
    }
   ],
   "source": [
    "nb_heures_par_mois_temps_plein = 35 * 52 / 12.0\n",
    "smic_horaire = 9.670\n",
    "\n",
    "smic_mensuel = nb_heures_par_mois_temps_plein * smic_horaire\n",
    "smic_annuel = smic_mensuel * 12\n",
    "print smic_mensuel, \"   \", smic_annuel\n",
    "\n",
    "salaire_cas_types = smic_annuel\n",
    "print salaire_cas_types"
   ]
  },
  {
   "cell_type": "markdown",
   "metadata": {},
   "source": [
    "## Cas-types simples"
   ]
  },
  {
   "cell_type": "markdown",
   "metadata": {},
   "source": [
    "### Le cas d'une personne seule sans enfant"
   ]
  },
  {
   "cell_type": "code",
   "execution_count": 109,
   "metadata": {
    "collapsed": false
   },
   "outputs": [],
   "source": [
    "simulation = tax_benefit_system.new_scenario().init_single_entity(\n",
    "    period = 2016,\n",
    "    #zone_aides_logement = 1,\n",
    "    #statut_occupation = 4,\n",
    "    parent1 = dict(\n",
    "        date_naissance = date(1980, 1, 1),\n",
    "        salaire_de_base = salaire_cas_types,\n",
    "     \n",
    "        ),\n",
    "     menage = dict(\n",
    "        loyer = 6000,\n",
    "        statut_occupation_logement = 4,\n",
    "        zone_apl = 1\n",
    "        ),\n",
    "    ).new_simulation(debug = True)"
   ]
  },
  {
   "cell_type": "code",
   "execution_count": 110,
   "metadata": {
    "collapsed": false
   },
   "outputs": [],
   "source": [
    "individu_sans_enfant_rsa = simulation.calculate_add('rsa')\n",
    "individu_sans_enfant_aefa = simulation.calculate_add('aefa','2015')\n",
    "individu_sans_enfant_aides_logement = simulation.calculate_add('aides_logement')\n",
    "individu_sans_enfant_af = simulation.calculate_add('af')\n",
    "individu_sans_enfant_cf = simulation.calculate_add('cf')\n",
    "individu_sans_enfant_ars = simulation.calculate_add('ars')\n",
    "individu_sans_enfant_salaire_de_base = simulation.calculate_add('salaire_de_base')\n",
    "individu_sans_enfant_csc = simulation.calculate_add('cotisations_salariales_contributives')\n",
    "individu_sans_enfant_csnc = simulation.calculate_add('cotisations_salariales_non_contributives')\n",
    "individu_sans_enfant_cec = simulation.calculate_add('cotisations_employeur_contributives')\n",
    "individu_sans_enfant_cenc = simulation.calculate_add('cotisations_employeur_non_contributives')\n",
    "individu_sans_enfant_ppa = simulation.calculate_add('ppa')\n",
    "individu_sans_enfant_rni = simulation.calculate_add('rni')\n",
    "individu_sans_enfant_irpp = simulation.calculate_add('irpp')\n",
    "individu_sans_enfant_revdisp = simulation.calculate_add('revdisp')"
   ]
  },
  {
   "cell_type": "markdown",
   "metadata": {},
   "source": [
    "Les variables représentant des montants \"payés\" par les ménages sont comptées négativement.   "
   ]
  },
  {
   "cell_type": "code",
   "execution_count": 111,
   "metadata": {
    "collapsed": false
   },
   "outputs": [
    {
     "data": {
      "text/plain": [
       "array([ 0.], dtype=float32)"
      ]
     },
     "execution_count": 111,
     "metadata": {},
     "output_type": "execute_result"
    }
   ],
   "source": [
    "simulation.calculate('cotisations_salariales')"
   ]
  },
  {
   "cell_type": "markdown",
   "metadata": {},
   "source": [
    "Il est possible de faire des opérations et de calculer le taux de cotisations salariales."
   ]
  },
  {
   "cell_type": "code",
   "execution_count": 112,
   "metadata": {
    "collapsed": false
   },
   "outputs": [
    {
     "name": "stderr",
     "output_type": "stream",
     "text": [
      "/home/notebook/virtualenvs/openfisca/lib/python2.7/site-packages/ipykernel/__main__.py:6: RuntimeWarning: invalid value encountered in divide\n"
     ]
    },
    {
     "data": {
      "text/plain": [
       "array([ nan], dtype=float32)"
      ]
     },
     "execution_count": 112,
     "metadata": {},
     "output_type": "execute_result"
    }
   ],
   "source": [
    "abs(\n",
    "    simulation.calculate('cotisations_salariales') \n",
    "    + simulation.calculate('csg') \n",
    "    #+ simulation.calculate('csgsali')\n",
    "    #+ simulation.calculate('crdssal')\n",
    "    )/simulation.calculate('salaire_de_base')"
   ]
  },
  {
   "cell_type": "markdown",
   "metadata": {},
   "source": [
    "### Le cas d'une personne seule avec 1 enfant"
   ]
  },
  {
   "cell_type": "code",
   "execution_count": 113,
   "metadata": {
    "collapsed": true
   },
   "outputs": [],
   "source": [
    "simulation = tax_benefit_system.new_scenario().init_single_entity(\n",
    "    period = 2016,\n",
    "    parent1 = dict(\n",
    "        date_naissance = date(1980, 1, 1),\n",
    "        salaire_de_base = salaire_cas_types,\n",
    "        ),\n",
    "    enfants = [\n",
    "        dict(date_naissance = date(2006, 1, 1)),\n",
    "        ],\n",
    "    menage = dict(\n",
    "        loyer = 6000,\n",
    "        statut_occupation_logement = 4,\n",
    "        zone_apl = 1\n",
    "        ),\n",
    ").new_simulation(debug = True)"
   ]
  },
  {
   "cell_type": "code",
   "execution_count": 114,
   "metadata": {
    "collapsed": false
   },
   "outputs": [],
   "source": [
    "monoparentale_1_enfant_rsa = simulation.calculate_add('rsa')\n",
    "monoparentale_1_enfant_aefa = simulation.calculate_add('aefa','2015')\n",
    "monoparentale_1_enfant_aides_logement = simulation.calculate_add('aides_logement')\n",
    "monoparentale_1_enfant_af = simulation.calculate_add('af')\n",
    "monoparentale_1_enfant_cf = simulation.calculate_add('cf')\n",
    "monoparentale_1_enfant_ars = simulation.calculate_add('ars')\n",
    "monoparentale_1_enfant_salaire_de_base = simulation.calculate_add('salaire_de_base')\n",
    "monoparentale_1_enfant_csc = simulation.calculate_add('cotisations_salariales_contributives')\n",
    "monoparentale_1_enfant_csnc = simulation.calculate_add('cotisations_salariales_non_contributives')\n",
    "monoparentale_1_enfant_cec = simulation.calculate_add('cotisations_employeur_contributives')\n",
    "monoparentale_1_enfant_cenc = simulation.calculate_add('cotisations_employeur_non_contributives')\n",
    "monoparentale_1_enfant_ppa = simulation.calculate_add('ppa')\n",
    "monoparentale_1_enfant_rni = simulation.calculate_add('rni')\n",
    "monoparentale_1_enfant_irpp = simulation.calculate_add('irpp')\n",
    "monoparentale_1_enfant_revdisp = simulation.calculate_add('revdisp')"
   ]
  },
  {
   "cell_type": "markdown",
   "metadata": {},
   "source": [
    "### Le cas d'une personne seule avec 2 enfants"
   ]
  },
  {
   "cell_type": "code",
   "execution_count": 115,
   "metadata": {
    "collapsed": true
   },
   "outputs": [],
   "source": [
    "simulation = tax_benefit_system.new_scenario().init_single_entity(\n",
    "    period = 2016,\n",
    "    parent1 = dict(\n",
    "        date_naissance = date(1980, 1, 1),\n",
    "        salaire_de_base = salaire_cas_types,\n",
    "        ),\n",
    "   enfants = [\n",
    "        dict(date_naissance = date(2006, 1, 1)),\n",
    "        dict(date_naissance = date(2011, 1, 1)),\n",
    "        ],\n",
    "    menage = dict(\n",
    "        loyer = 6000,\n",
    "        statut_occupation_logement = 4,\n",
    "        zone_apl = 1\n",
    "        ),\n",
    ").new_simulation(debug = True)\n",
    "    "
   ]
  },
  {
   "cell_type": "code",
   "execution_count": 116,
   "metadata": {
    "collapsed": false
   },
   "outputs": [],
   "source": [
    "monoparentale_2_enfants_rsa = simulation.calculate_add('rsa')\n",
    "monoparentale_2_enfants_aefa = simulation.calculate_add('aefa','2015')\n",
    "monoparentale_2_enfants_aides_logement = simulation.calculate_add('aides_logement')\n",
    "monoparentale_2_enfants_af = simulation.calculate_add('af')\n",
    "monoparentale_2_enfants_cf = simulation.calculate_add('cf')\n",
    "monoparentale_2_enfants_ars = simulation.calculate_add('ars')\n",
    "monoparentale_2_enfants_salaire_de_base = simulation.calculate_add('salaire_de_base')\n",
    "monoparentale_2_enfants_csc = simulation.calculate_add('cotisations_salariales_contributives')\n",
    "monoparentale_2_enfants_csnc = simulation.calculate_add('cotisations_salariales_non_contributives')\n",
    "monoparentale_2_enfants_cec = simulation.calculate_add('cotisations_employeur_contributives')\n",
    "monoparentale_2_enfants_cenc = simulation.calculate_add('cotisations_employeur_non_contributives')\n",
    "monoparentale_2_enfants_ppa = simulation.calculate_add('ppa')\n",
    "monoparentale_2_enfants_rni = simulation.calculate_add('rni')\n",
    "monoparentale_2_enfants_irpp = simulation.calculate_add('irpp')\n",
    "monoparentale_2_enfants_revdisp = simulation.calculate_add('revdisp')"
   ]
  },
  {
   "cell_type": "markdown",
   "metadata": {},
   "source": [
    "### Le cas d'une personne seule avec 3 enfants"
   ]
  },
  {
   "cell_type": "code",
   "execution_count": 117,
   "metadata": {
    "collapsed": false
   },
   "outputs": [],
   "source": [
    "simulation = tax_benefit_system.new_scenario().init_single_entity(\n",
    "    period = 2016,\n",
    "    parent1 = dict(\n",
    "        date_naissance = date(1980, 1, 1),\n",
    "        salaire_de_base = salaire_cas_types,\n",
    "        ),\n",
    "   enfants = [\n",
    "        dict(date_naissance = date(2008, 1, 1)),\n",
    "        dict(date_naissance = date(2004, 1, 1)),\n",
    "        dict(date_naissance = date(2000, 1, 1)),\n",
    "        ],\n",
    "    menage = dict(\n",
    "        loyer = 6000,\n",
    "        statut_occupation_logement = 4,\n",
    "        zone_apl = 1\n",
    "        ),\n",
    ").new_simulation(debug = True)"
   ]
  },
  {
   "cell_type": "code",
   "execution_count": 118,
   "metadata": {
    "collapsed": true
   },
   "outputs": [],
   "source": [
    "monoparentale_3_enfants_rsa = simulation.calculate_add('rsa')\n",
    "monoparentale_3_enfants_aefa = simulation.calculate_add('aefa','2015')\n",
    "monoparentale_3_enfants_aides_logement = simulation.calculate_add('aides_logement')\n",
    "monoparentale_3_enfants_af = simulation.calculate_add('af')\n",
    "monoparentale_3_enfants_cf = simulation.calculate_add('cf')\n",
    "monoparentale_3_enfants_ars = simulation.calculate_add('ars')\n",
    "monoparentale_3_enfants_salaire_de_base = simulation.calculate_add('salaire_de_base')\n",
    "monoparentale_3_enfants_csc = simulation.calculate_add('cotisations_salariales_contributives')\n",
    "monoparentale_3_enfants_csnc = simulation.calculate_add('cotisations_salariales_non_contributives')\n",
    "monoparentale_3_enfants_cec = simulation.calculate_add('cotisations_employeur_contributives')\n",
    "monoparentale_3_enfants_cenc = simulation.calculate_add('cotisations_employeur_non_contributives')\n",
    "monoparentale_3_enfants_ppa = simulation.calculate_add('ppa')\n",
    "monoparentale_3_enfants_rni = simulation.calculate_add('rni')\n",
    "monoparentale_3_enfants_irpp = simulation.calculate_add('irpp')\n",
    "monoparentale_3_enfants_revdisp = simulation.calculate_add('revdisp')"
   ]
  },
  {
   "cell_type": "markdown",
   "metadata": {},
   "source": [
    "### Le cas d'un couple sans enfant"
   ]
  },
  {
   "cell_type": "code",
   "execution_count": 119,
   "metadata": {
    "collapsed": true
   },
   "outputs": [],
   "source": [
    "simulation = tax_benefit_system.new_scenario().init_single_entity(\n",
    "    period = 2016,\n",
    "    parent1 = dict(\n",
    "        date_naissance = date(1980, 1, 1),\n",
    "        salaire_de_base = salaire_cas_types,\n",
    "        ),\n",
    "    parent2 = dict(\n",
    "        date_naissance = date(1980, 1, 1),\n",
    "        salaire_de_base = 0,\n",
    "        ),\n",
    "    menage = dict(\n",
    "        loyer = 6000,\n",
    "        statut_occupation_logement = 4,\n",
    "        zone_apl = 1\n",
    "        ),\n",
    ").new_simulation(debug = True)"
   ]
  },
  {
   "cell_type": "code",
   "execution_count": 120,
   "metadata": {
    "collapsed": false
   },
   "outputs": [],
   "source": [
    "couple_sans_enfant_rsa = simulation.calculate_add('rsa')\n",
    "couple_sans_enfant_aefa = simulation.calculate_add('aefa','2015')\n",
    "couple_sans_enfant_aides_logement = simulation.calculate_add('aides_logement')\n",
    "couple_sans_enfant_af = simulation.calculate_add('af')\n",
    "couple_sans_enfant_cf = simulation.calculate_add('cf')\n",
    "couple_sans_enfant_ars = simulation.calculate_add('ars')\n",
    "couple_sans_enfant_salaire_de_base = simulation.calculate_add('salaire_de_base')\n",
    "couple_sans_enfant_csc = simulation.calculate_add('cotisations_salariales_contributives')\n",
    "couple_sans_enfant_csnc = simulation.calculate_add('cotisations_salariales_non_contributives')\n",
    "couple_sans_enfant_cec = simulation.calculate_add('cotisations_employeur_contributives')\n",
    "couple_sans_enfant_cenc = simulation.calculate_add('cotisations_employeur_non_contributives')\n",
    "couple_sans_enfant_ppa = simulation.calculate_add('ppa')\n",
    "couple_sans_enfant_rni = simulation.calculate_add('rni')\n",
    "couple_sans_enfant_irpp = simulation.calculate_add('irpp')\n",
    "couple_sans_enfant_revdisp = simulation.calculate_add('revdisp')"
   ]
  },
  {
   "cell_type": "markdown",
   "metadata": {},
   "source": [
    "### Le cas d'un couple avec 1 enfant\n"
   ]
  },
  {
   "cell_type": "code",
   "execution_count": 121,
   "metadata": {
    "collapsed": true
   },
   "outputs": [],
   "source": [
    "simulation = tax_benefit_system.new_scenario().init_single_entity(\n",
    "    period = 2016,\n",
    "    parent1 = dict(\n",
    "        date_naissance = date(1980, 1, 1),\n",
    "        salaire_de_base = salaire_cas_types,\n",
    "        ),\n",
    "    parent2 = dict(\n",
    "        date_naissance = date(1980, 1, 1),\n",
    "        salaire_de_base = 0,\n",
    "        ),\n",
    "    enfants = [\n",
    "        dict(date_naissance = date(2006, 1, 1)),\n",
    "        ],\n",
    "    menage = dict(\n",
    "        loyer = 6000,\n",
    "        statut_occupation_logement = 4,\n",
    "        zone_apl = 1\n",
    "        ),\n",
    ").new_simulation(debug = True)"
   ]
  },
  {
   "cell_type": "code",
   "execution_count": 122,
   "metadata": {
    "collapsed": true
   },
   "outputs": [],
   "source": [
    "couple_1_enfant_rsa = simulation.calculate_add('rsa')\n",
    "couple_1_enfant_aefa = simulation.calculate_add('aefa','2015')\n",
    "couple_1_enfant_aides_logement = simulation.calculate_add('aides_logement')\n",
    "couple_1_enfant_af = simulation.calculate_add('af')\n",
    "couple_1_enfant_cf = simulation.calculate_add('cf')\n",
    "couple_1_enfant_ars = simulation.calculate_add('ars')\n",
    "couple_1_enfant_salaire_de_base = simulation.calculate_add('salaire_de_base')\n",
    "couple_1_enfant_csc = simulation.calculate_add('cotisations_salariales_contributives')\n",
    "couple_1_enfant_csnc = simulation.calculate_add('cotisations_salariales_non_contributives')\n",
    "couple_1_enfant_cec = simulation.calculate_add('cotisations_employeur_contributives')\n",
    "couple_1_enfant_cenc = simulation.calculate_add('cotisations_employeur_non_contributives')\n",
    "couple_1_enfant_ppa = simulation.calculate_add('ppa')\n",
    "couple_1_enfant_rni = simulation.calculate_add('rni')\n",
    "couple_1_enfant_irpp = simulation.calculate_add('irpp')\n",
    "couple_1_enfant_revdisp = simulation.calculate_add('revdisp')"
   ]
  },
  {
   "cell_type": "markdown",
   "metadata": {},
   "source": [
    "### Le cas d'un couple avec 2 enfants\n"
   ]
  },
  {
   "cell_type": "code",
   "execution_count": 123,
   "metadata": {
    "collapsed": false
   },
   "outputs": [],
   "source": [
    "simulation = tax_benefit_system.new_scenario().init_single_entity(\n",
    "    period = 2016,\n",
    "    parent1 = dict(\n",
    "        date_naissance = date(1980, 1, 1),\n",
    "        salaire_de_base = salaire_cas_types,\n",
    "        ),\n",
    "    parent2 = dict(\n",
    "        date_naissance = date(1980, 1, 1),\n",
    "        salaire_de_base = 0,\n",
    "        ),\n",
    "    enfants = [\n",
    "        dict(date_naissance = date(2006, 1, 1)),\n",
    "        dict(date_naissance = date(2011, 1, 1)),\n",
    "        ],\n",
    "    menage = dict(\n",
    "        loyer = 6000,\n",
    "        statut_occupation_logement = 4,\n",
    "        zone_apl = 1\n",
    "        ),\n",
    ").new_simulation(debug = True)\n",
    "    "
   ]
  },
  {
   "cell_type": "code",
   "execution_count": 124,
   "metadata": {
    "collapsed": true
   },
   "outputs": [],
   "source": [
    "couple_2_enfants_rsa = simulation.calculate_add('rsa')\n",
    "couple_2_enfants_aefa = simulation.calculate_add('aefa','2015')\n",
    "couple_2_enfants_aides_logement = simulation.calculate_add('aides_logement')\n",
    "couple_2_enfants_af = simulation.calculate_add('af')\n",
    "couple_2_enfants_cf = simulation.calculate_add('cf')\n",
    "couple_2_enfants_ars = simulation.calculate_add('ars')\n",
    "couple_2_enfants_salaire_de_base = simulation.calculate_add('salaire_de_base')\n",
    "couple_2_enfants_csc = simulation.calculate_add('cotisations_salariales_contributives')\n",
    "couple_2_enfants_csnc = simulation.calculate_add('cotisations_salariales_non_contributives')\n",
    "couple_2_enfants_cec = simulation.calculate_add('cotisations_employeur_contributives')\n",
    "couple_2_enfants_cenc = simulation.calculate_add('cotisations_employeur_non_contributives')\n",
    "couple_2_enfants_ppa = simulation.calculate_add('ppa')\n",
    "couple_2_enfants_rni = simulation.calculate_add('rni')\n",
    "couple_2_enfants_irpp = simulation.calculate_add('irpp')\n",
    "couple_2_enfants_revdisp = simulation.calculate_add('revdisp')"
   ]
  },
  {
   "cell_type": "markdown",
   "metadata": {},
   "source": [
    "### Le cas d'un couple avec 3 enfants"
   ]
  },
  {
   "cell_type": "code",
   "execution_count": 125,
   "metadata": {
    "collapsed": true
   },
   "outputs": [],
   "source": [
    "simulation = tax_benefit_system.new_scenario().init_single_entity(\n",
    "    period = 2016,\n",
    "    parent1 = dict(\n",
    "        date_naissance = date(1980, 1, 1),\n",
    "        salaire_de_base = salaire_cas_types,\n",
    "        ),\n",
    "    parent2 = dict(\n",
    "        date_naissance = date(1980, 1, 1),\n",
    "        salaire_de_base = 0,\n",
    "        ),\n",
    "    enfants = [\n",
    "        dict(date_naissance = date(2008, 1, 1)),\n",
    "        dict(date_naissance = date(2004, 1, 1)),\n",
    "        dict(date_naissance = date(2000, 1, 1)),\n",
    "        ],\n",
    "    menage = dict(\n",
    "        loyer = 6000,\n",
    "        statut_occupation_logement = 4,\n",
    "        zone_apl = 1\n",
    "        ),\n",
    ").new_simulation(debug = True)"
   ]
  },
  {
   "cell_type": "code",
   "execution_count": 126,
   "metadata": {
    "collapsed": true
   },
   "outputs": [],
   "source": [
    "couple_3_enfants_rsa = simulation.calculate_add('rsa')\n",
    "couple_3_enfants_aefa = simulation.calculate_add('aefa','2015')\n",
    "couple_3_enfants_aides_logement = simulation.calculate_add('aides_logement')\n",
    "couple_3_enfants_af = simulation.calculate_add('af')\n",
    "couple_3_enfants_cf = simulation.calculate_add('cf')\n",
    "couple_3_enfants_ars = simulation.calculate_add('ars')\n",
    "couple_3_enfants_salaire_de_base = simulation.calculate_add('salaire_de_base')\n",
    "couple_3_enfants_csc = simulation.calculate_add('cotisations_salariales_contributives')\n",
    "couple_3_enfants_csnc = simulation.calculate_add('cotisations_salariales_non_contributives')\n",
    "couple_3_enfants_cec = simulation.calculate_add('cotisations_employeur_contributives')\n",
    "couple_3_enfants_cenc = simulation.calculate_add('cotisations_employeur_non_contributives')\n",
    "couple_3_enfants_ppa = simulation.calculate_add('ppa')\n",
    "couple_3_enfants_rni = simulation.calculate_add('rni')\n",
    "couple_3_enfants_irpp = simulation.calculate_add('irpp')\n",
    "couple_3_enfants_revdisp = simulation.calculate_add('revdisp')"
   ]
  },
  {
   "cell_type": "markdown",
   "metadata": {},
   "source": [
    "### Le cas d'un jeune de 18 à 25 ans"
   ]
  },
  {
   "cell_type": "code",
   "execution_count": 127,
   "metadata": {
    "collapsed": true
   },
   "outputs": [],
   "source": [
    "simulation = tax_benefit_system.new_scenario().init_single_entity(\n",
    "    period = 2016,\n",
    "    parent1 = dict(\n",
    "        date_naissance = date(1996, 1, 1),\n",
    "        salaire_de_base = salaire_cas_types,\n",
    "        ),\n",
    "    menage = dict(\n",
    "        loyer = 6000,\n",
    "        statut_occupation_logement = 4,\n",
    "        zone_apl = 1\n",
    "        ),\n",
    ").new_simulation(debug = True)"
   ]
  },
  {
   "cell_type": "code",
   "execution_count": 128,
   "metadata": {
    "collapsed": false
   },
   "outputs": [],
   "source": [
    "jeune_18_a_25_ans_rsa = simulation.calculate_add('rsa')\n",
    "jeune_18_a_25_ans_aefa = simulation.calculate_add('aefa','2015')\n",
    "jeune_18_a_25_ans_aides_logement = simulation.calculate_add('aides_logement')\n",
    "jeune_18_a_25_ans_af = simulation.calculate_add('af')\n",
    "jeune_18_a_25_ans_cf = simulation.calculate_add('cf')\n",
    "jeune_18_a_25_ans_ars = simulation.calculate_add('ars')\n",
    "jeune_18_a_25_ans_salaire_de_base = simulation.calculate_add('salaire_de_base')\n",
    "jeune_18_a_25_ans_csc = simulation.calculate_add('cotisations_salariales_contributives')\n",
    "jeune_18_a_25_ans_csnc = simulation.calculate_add('cotisations_salariales_non_contributives')\n",
    "jeune_18_a_25_ans_cec = simulation.calculate_add('cotisations_employeur_contributives')\n",
    "jeune_18_a_25_ans_cenc = simulation.calculate_add('cotisations_employeur_non_contributives')\n",
    "jeune_18_a_25_ans_ppa = simulation.calculate_add('ppa')\n",
    "jeune_18_a_25_ans_rni = simulation.calculate_add('rni')\n",
    "jeune_18_a_25_ans_irpp = simulation.calculate_add('irpp')\n",
    "jeune_18_a_25_ans_revdisp = simulation.calculate_add('revdisp')"
   ]
  },
  {
   "cell_type": "code",
   "execution_count": 129,
   "metadata": {
    "collapsed": false
   },
   "outputs": [
    {
     "name": "stdout",
     "output_type": "stream",
     "text": [
      "['  ', 'RSA', 'PFA/12', 'aides_logement', 'A.F.', 'ARS/12', 'Salaire brut', 'CSC', 'CSNC', 'CPC', 'CPNC', 'PA', 'Rev.impos.', 'IRPP/12', 'Rev.disp.']\n",
      "['Monoparentale sans enfant', '46.0', '13.0', '73.0', '0.0', '0.0', '1467.0', '-199.0', '-11.0', '-181.0', '-211.0', '89.0', '12781.0', '0.0', '1391.0']\n",
      "['Monoparentale 1 enfant', '63.0', '17.0', '290.0', '0.0', '30.0', '1467.0', '-199.0', '-11.0', '-181.0', '-211.0', '169.0', '12781.0', '0.0', '1839.0']\n",
      "['Monoparentale 2 enfants', '47.0', '20.0', '373.0', '130.0', '61.0', '1467.0', '-199.0', '-11.0', '-181.0', '-211.0', '91.0', '12781.0', '0.0', '2091.0']\n",
      "['Monoparentale 3 enfants', '21.0', '39.0', '447.0', '578.0', '96.0', '1467.0', '-199.0', '-11.0', '-181.0', '-211.0', '0.0', '12781.0', '0.0', '2632.0']\n",
      "['Couple sans enfant', '78.0', '19.0', '176.0', '0.0', '0.0', '1467.0', '-199.0', '-11.0', '-181.0', '-211.0', '245.0', '12781.0', '0.0', '1683.0']\n",
      "['Couple 1 enfant', '102.0', '23.0', '290.0', '0.0', '30.0', '1467.0', '-199.0', '-11.0', '-181.0', '-211.0', '351.0', '12781.0', '0.0', '1957.0']\n",
      "['Couple 2 enfants', '109.0', '27.0', '373.0', '130.0', '61.0', '1467.0', '-199.0', '-11.0', '-181.0', '-211.0', '374.0', '12781.0', '0.0', '2229.0']\n",
      "['Couple 3 enfants', '83.0', '46.0', '447.0', '578.0', '96.0', '1467.0', '-199.0', '-11.0', '-181.0', '-211.0', '269.0', '12781.0', '0.0', '2652.0']\n",
      "['Jeune de 18 a 25 ans', '0.0', '0.0', '308.0', '0.0', '0.0', '1467.0', '-199.0', '-11.0', '-181.0', '-211.0', '79.0', '12781.0', '0.0', '1570.0']\n"
     ]
    }
   ],
   "source": [
    "c = csv.writer(open(\"cas_types_0smic.csv\", \"wb\"))\n",
    "c.writerow([\"  \", \"RSA\", \"PFA/12\", \"aides_logement\", \"A.F.\", \"ARS/12\", \"Salaire brut\", \"CSC\", \"CSNC\", \"CPC\", \"CPNC\", \"PA\", \"Rev.impos.\", \"IRPP/12\", \"Rev.disp.\"])\n",
    "c.writerow([\"Monoparentale sans enfant\", round(individu_sans_enfant_rsa/12,0), round(individu_sans_enfant_aefa/12,0), round(individu_sans_enfant_aides_logement/12,0),\n",
    "    round(individu_sans_enfant_af/12,0) + round(individu_sans_enfant_cf/12,0), round(individu_sans_enfant_ars/12,0), round(individu_sans_enfant_salaire_de_base/12,0),\n",
    "    round(individu_sans_enfant_csc/12,0), round(individu_sans_enfant_csnc/12,0), round(individu_sans_enfant_cec/12,0), \n",
    "    round(individu_sans_enfant_cenc/12,0), round(individu_sans_enfant_ppa/12,0), round(individu_sans_enfant_rni,0), \n",
    "    round(individu_sans_enfant_irpp,0), round(individu_sans_enfant_revdisp/12,0)]) \n",
    "c.writerow([\"Monoparentale 1 enfant\", round(monoparentale_1_enfant_rsa/12,0), round(monoparentale_1_enfant_aefa/12,0), round(monoparentale_1_enfant_aides_logement/12,0),\n",
    "    round(monoparentale_1_enfant_af[0]/12,0) + round(monoparentale_1_enfant_cf[0]/12,0), round(monoparentale_1_enfant_ars[0]/12,0), round(monoparentale_1_enfant_salaire_de_base[0]/12,0),\n",
    "    round(monoparentale_1_enfant_csc[0]/12,0), round(monoparentale_1_enfant_csnc[0]/12,0), round(monoparentale_1_enfant_cec[0]/12,0), \n",
    "    round(monoparentale_1_enfant_cenc[0]/12,0), round(monoparentale_1_enfant_ppa[0]/12,0), round(monoparentale_1_enfant_rni[0],0), \n",
    "    round(monoparentale_1_enfant_irpp[0],0), round(monoparentale_1_enfant_revdisp[0]/12,0)])\n",
    "c.writerow([\"Monoparentale 2 enfants\", round(monoparentale_2_enfants_rsa/12,0), round(monoparentale_2_enfants_aefa/12,0),round(monoparentale_2_enfants_aides_logement/12,0),\n",
    "    round(monoparentale_2_enfants_af[0]/12,0) + round(monoparentale_2_enfants_cf[0]/12,0), round(monoparentale_2_enfants_ars[0]/12,0), round(monoparentale_2_enfants_salaire_de_base[0]/12,0),\n",
    "    round(monoparentale_2_enfants_csc[0]/12,0), round(monoparentale_2_enfants_csnc[0]/12,0), round(monoparentale_2_enfants_cec[0]/12,0), \n",
    "    round(monoparentale_2_enfants_cenc[0]/12,0), round(monoparentale_2_enfants_ppa[0]/12,0), round(monoparentale_2_enfants_rni[0],0), \n",
    "    round(monoparentale_2_enfants_irpp[0],0), round(monoparentale_2_enfants_revdisp[0]/12,0)])\n",
    "c.writerow([\"Monoparentale 3 enfants\", round(monoparentale_3_enfants_rsa/12,0), round(monoparentale_3_enfants_aefa/12,0),round(monoparentale_3_enfants_aides_logement/12,0),\n",
    "    round(monoparentale_3_enfants_af[0]/12,0) + round(monoparentale_3_enfants_cf[0]/12,0), round(monoparentale_3_enfants_ars[0]/12,0), round(monoparentale_3_enfants_salaire_de_base[0]/12,0),\n",
    "    round(monoparentale_3_enfants_csc[0]/12,0), round(monoparentale_3_enfants_csnc[0]/12,0), round(monoparentale_3_enfants_cec[0]/12,0), \n",
    "    round(monoparentale_3_enfants_cenc[0]/12,0), round(monoparentale_3_enfants_ppa[0]/12,0), round(monoparentale_3_enfants_rni[0],0), \n",
    "    round(monoparentale_3_enfants_irpp[0],0), round(monoparentale_3_enfants_revdisp[0]/12,0)])\n",
    "c.writerow([\"Couple sans enfant\", round(couple_sans_enfant_rsa/12,0), round(couple_sans_enfant_aefa/12,0),round(couple_sans_enfant_aides_logement/12,0),\n",
    "    round(couple_sans_enfant_af[0]/12,0) + round(couple_sans_enfant_cf[0]/12,0), round(couple_sans_enfant_ars[0]/12,0), round(couple_sans_enfant_salaire_de_base[0]/12,0),\n",
    "    round(monoparentale_3_enfants_csc[0]/12,0), round(monoparentale_3_enfants_csnc[0]/12,0), round(monoparentale_3_enfants_cec[0]/12,0), \n",
    "    round(couple_sans_enfant_cenc[0]/12,0), round(couple_sans_enfant_ppa[0]/12,0), round(couple_sans_enfant_rni[0],0), \n",
    "    round(couple_sans_enfant_irpp[0],0), round(couple_sans_enfant_revdisp[0]/12,0)])\n",
    "c.writerow([\"Couple 1 enfant\", round(couple_1_enfant_rsa/12,0), round(couple_1_enfant_aefa/12,0),round(couple_1_enfant_aides_logement/12,0),\n",
    "    round(couple_1_enfant_af[0]/12,0) + round(couple_1_enfant_cf[0]/12,0), round(couple_1_enfant_ars[0]/12,0), round(couple_1_enfant_salaire_de_base[0]/12,0),\n",
    "    round(couple_1_enfant_csc[0]/12,0), round(couple_1_enfant_csnc[0]/12,0), round(couple_1_enfant_cec[0]/12,0), \n",
    "    round(couple_1_enfant_cenc[0]/12,0), round(couple_1_enfant_ppa[0]/12,0), round(couple_1_enfant_rni[0],0), \n",
    "    round(couple_1_enfant_irpp[0],0), round(couple_1_enfant_revdisp[0]/12,0)])\n",
    "c.writerow([\"Couple 2 enfants\", round(couple_2_enfants_rsa/12,0), round(couple_2_enfants_aefa/12,0),round(couple_2_enfants_aides_logement/12,0),\n",
    "    round(couple_2_enfants_af[0]/12,0) + round(couple_2_enfants_cf[0]/12,0), round(couple_2_enfants_ars[0]/12,0), round(couple_2_enfants_salaire_de_base[0]/12,0),\n",
    "    round(couple_2_enfants_csc[0]/12,0), round(couple_2_enfants_csnc[0]/12,0), round(couple_2_enfants_cec[0]/12,0), \n",
    "    round(couple_2_enfants_cenc[0]/12,0), round(couple_2_enfants_ppa[0]/12,0), round(couple_2_enfants_rni[0],0), \n",
    "    round(couple_2_enfants_irpp[0],0), round(couple_2_enfants_revdisp[0]/12,0)])\n",
    "c.writerow([\"Couple 3 enfants\", round(couple_3_enfants_rsa/12,0), round(couple_3_enfants_aefa/12,0),round(couple_3_enfants_aides_logement/12,0),\n",
    "    round(couple_3_enfants_af[0]/12,0) + round(couple_3_enfants_cf[0]/12,0), round(couple_3_enfants_ars[0]/12,0), round(couple_3_enfants_salaire_de_base[0]/12,0),\n",
    "    round(couple_3_enfants_csc[0]/12,0), round(couple_3_enfants_csnc[0]/12,0), round(couple_3_enfants_cec[0]/12,0), \n",
    "    round(couple_3_enfants_cenc[0]/12,0), round(couple_3_enfants_ppa[0]/12,0), round(couple_3_enfants_rni[0],0), \n",
    "    round(couple_3_enfants_irpp[0],0), round(couple_3_enfants_revdisp[0]/12,0)])\n",
    "c.writerow([\"Jeune de 18 a 25 ans\", round(jeune_18_a_25_ans_rsa/12,0), round(jeune_18_a_25_ans_aefa/12,0),round(jeune_18_a_25_ans_aides_logement/12,0),\n",
    "    round(jeune_18_a_25_ans_af[0]/12,0) + round(jeune_18_a_25_ans_cf[0]/12,0), round(jeune_18_a_25_ans_ars[0]/12,0), round(jeune_18_a_25_ans_salaire_de_base[0]/12,0),\n",
    "    round(jeune_18_a_25_ans_csc[0]/12,0), round(jeune_18_a_25_ans_csnc[0]/12,0), round(jeune_18_a_25_ans_cec[0]/12,0), \n",
    "    round(jeune_18_a_25_ans_cenc[0]/12,0), round(jeune_18_a_25_ans_ppa[0]/12,0), round(jeune_18_a_25_ans_rni[0],0), \n",
    "    round(jeune_18_a_25_ans_irpp[0],0), round(jeune_18_a_25_ans_revdisp[0]/12,0)])\n",
    "\n",
    "cr = csv.reader(open(\"cas_types_0smic.csv\",\"rb\"))\n",
    "for row in cr:\n",
    "    print row\n",
    "    \n"
   ]
  },
  {
   "cell_type": "code",
   "execution_count": null,
   "metadata": {
    "collapsed": true
   },
   "outputs": [],
   "source": []
  },
  {
   "cell_type": "code",
   "execution_count": null,
   "metadata": {
    "collapsed": false
   },
   "outputs": [],
   "source": []
  },
  {
   "cell_type": "code",
   "execution_count": null,
   "metadata": {
    "collapsed": true
   },
   "outputs": [],
   "source": []
  }
 ],
 "metadata": {
  "celltoolbar": "Raw Cell Format",
  "kernelspec": {
   "display_name": "Python 2",
   "language": "python",
   "name": "python2"
  },
  "language_info": {
   "codemirror_mode": {
    "name": "ipython",
    "version": 2
   },
   "file_extension": ".py",
   "mimetype": "text/x-python",
   "name": "python",
   "nbconvert_exporter": "python",
   "pygments_lexer": "ipython2",
   "version": "2.7.9"
  }
 },
 "nbformat": 4,
 "nbformat_minor": 0
}
