{
 "cells": [
  {
   "cell_type": "markdown",
   "metadata": {
    "collapsed": true
   },
   "source": [
    "# Etude de la variable PPA"
   ]
  },
  {
   "cell_type": "markdown",
   "metadata": {},
   "source": [
    "### Le cas d'une personne seule sans enfant"
   ]
  },
  {
   "cell_type": "code",
   "execution_count": 24,
   "metadata": {
    "collapsed": true
   },
   "outputs": [],
   "source": [
    "from datetime import date\n",
    "import matplotlib.pyplot as plt\n",
    "#importer numpy permet de coler deux sections de courbes (nécessaire quand on fait varier le salaire de base en-dessous du SMIC mensuel)\n",
    "import numpy as np\n",
    "from numpy import logical_not as not_, minimum as min_, maximum as max_, logical_and as and_, logical_or as or_, round as round_\n",
    "\n",
    "%matplotlib inline\n",
    "\n",
    "import json\n",
    "import openfisca_france\n",
    "from openfisca_france.model.base import *\n",
    "\n",
    "# to debug / trace\n",
    "from openfisca_core import tools\n",
    "from openfisca_core.reforms import Reform\n",
    "\n",
    "import csv # module nécessaire pour l'enregistrement des données dans un fichier utilisable sous Excel\n",
    "\n",
    "# TaxBenefitSystem = openfisca_france.init_country()  # Initialisation de la classe décrivant le système socio-fiscal français\n",
    "tax_benefit_system = openfisca_france.FranceTaxBenefitSystem()  # Création d'une instance du système socio-fiscal français \n"
   ]
  },
  {
   "cell_type": "code",
   "execution_count": 25,
   "metadata": {
    "collapsed": false
   },
   "outputs": [],
   "source": [
    "simulation = tax_benefit_system.new_scenario().init_single_entity(\n",
    "    axes = [\n",
    "        dict(\n",
    "            count = 20,\n",
    "            min = 0,\n",
    "            max = 50000,\n",
    "            name = 'salaire_de_base',\n",
    "            ),\n",
    "        ],\n",
    "    period = 2016,\n",
    "    parent1 = dict(\n",
    "        ),\n",
    "    menage = dict(\n",
    "            loyer = 1000 * 3,\n",
    "           # statut_occupation = 4,\n",
    "            ),\n",
    ").new_simulation(debug = True)"
   ]
  },
  {
   "cell_type": "code",
   "execution_count": 26,
   "metadata": {
    "collapsed": false
   },
   "outputs": [
    {
     "data": {
      "text/plain": [
       "array([   0.        ,   88.20098877,  176.38648987,  264.59735107,\n",
       "        238.97563171,  212.298172  ,  168.69374084,  114.632164  ,\n",
       "         60.58298874,    0.        ,    0.        ,    0.        ,\n",
       "          0.        ,    0.        ,    0.        ,    0.        ,\n",
       "          0.        ,    0.        ,    0.        ,    0.        ], dtype=float32)"
      ]
     },
     "execution_count": 26,
     "metadata": {},
     "output_type": "execute_result"
    }
   ],
   "source": [
    "individu_sans_enfant_ppa = simulation.calculate_add('ppa')/12\n",
    "individu_sans_enfant_ppa"
   ]
  },
  {
   "cell_type": "code",
   "execution_count": 27,
   "metadata": {
    "collapsed": false
   },
   "outputs": [
    {
     "data": {
      "text/plain": [
       "array([   0.        ,   13.157897  ,   26.31579399,   39.47368622,\n",
       "         52.63158798,   65.78948212,   78.94737244,   92.10527802,\n",
       "        105.26317596,  118.42102814,  131.57896423,  144.73683167,\n",
       "        157.89474487,  171.05262756,  184.21055603,  197.36842346,\n",
       "        210.52635193,    0.        ,    0.        ,    0.        ], dtype=float32)"
      ]
     },
     "execution_count": 27,
     "metadata": {},
     "output_type": "execute_result"
    }
   ],
   "source": [
    "cice = simulation.calculate_add('credit_impot_competitivite_emploi')\n",
    "cice/12"
   ]
  },
  {
   "cell_type": "code",
   "execution_count": 28,
   "metadata": {
    "collapsed": false
   },
   "outputs": [],
   "source": [
    "c = csv.writer(open(\"CICE\", \"wb\"))\n",
    "c.writerow([\"CICE\", round(cice[0]/12,0)])"
   ]
  },
  {
   "cell_type": "code",
   "execution_count": 29,
   "metadata": {
    "collapsed": false
   },
   "outputs": [
    {
     "data": {
      "text/plain": [
       "array([    0.        ,   219.29823303,   438.59646606,   657.89471436,\n",
       "         877.19293213,  1096.49121094,  1315.78942871,  1535.08776855,\n",
       "        1754.38586426,  1973.6842041 ,  2192.98242188,  2412.28076172,\n",
       "        2631.57885742,  2850.87719727,  3070.17553711,  3289.47363281,\n",
       "        3508.77172852,  3728.0703125 ,  3947.3684082 ,  4166.66650391], dtype=float32)"
      ]
     },
     "execution_count": 29,
     "metadata": {},
     "output_type": "execute_result"
    }
   ],
   "source": [
    "individu_sans_enfant_salaire_de_base = simulation.calculate_add('salaire_de_base')/12\n",
    "individu_sans_enfant_salaire_de_base"
   ]
  },
  {
   "cell_type": "markdown",
   "metadata": {},
   "source": [
    "### Le cas d'une personne seule avec 1 enfant"
   ]
  },
  {
   "cell_type": "code",
   "execution_count": 30,
   "metadata": {
    "collapsed": false
   },
   "outputs": [],
   "source": [
    "simulation = tax_benefit_system.new_scenario().init_single_entity(\n",
    "    axes = [\n",
    "        dict(\n",
    "            count = 20,\n",
    "            min = 0,\n",
    "            max = 50000,\n",
    "            name = 'salaire_de_base',\n",
    "            ),\n",
    "        ],\n",
    "    period = 2016,\n",
    "    parent1 = dict(\n",
    "        ),\n",
    "    enfants = [\n",
    "        dict(date_naissance = date(2006, 1, 1)),\n",
    "     ],\n",
    ").new_simulation(debug = True)"
   ]
  },
  {
   "cell_type": "code",
   "execution_count": 31,
   "metadata": {
    "collapsed": false
   },
   "outputs": [
    {
     "data": {
      "text/plain": [
       "array([   0.        ,   88.20098877,  176.38648987,  264.59738159,\n",
       "        370.79019165,  354.6595459 ,  311.0552063 ,  256.99353027,\n",
       "        202.94439697,  148.88261414,   94.8303833 ,   40.77185059,\n",
       "          0.        ,    0.        ,    0.        ,    0.        ,\n",
       "          0.        ,    0.        ,    0.        ,    0.        ], dtype=float32)"
      ]
     },
     "execution_count": 31,
     "metadata": {},
     "output_type": "execute_result"
    }
   ],
   "source": [
    "individu_1_enfant_ppa = simulation.calculate_add('ppa')/12\n",
    "individu_1_enfant_ppa"
   ]
  },
  {
   "cell_type": "code",
   "execution_count": 32,
   "metadata": {
    "collapsed": false
   },
   "outputs": [
    {
     "data": {
      "text/plain": [
       "array([    0.        ,     0.        ,   219.29823303,     0.        ,\n",
       "         438.59646606,     0.        ,   657.89471436,     0.        ,\n",
       "         877.19293213,     0.        ,  1096.49121094,     0.        ,\n",
       "        1315.78942871,     0.        ,  1535.08776855,     0.        ,\n",
       "        1754.38586426,     0.        ,  1973.6842041 ,     0.        ,\n",
       "        2192.98242188,     0.        ,  2412.28076172,     0.        ,\n",
       "        2631.57885742,     0.        ,  2850.87719727,     0.        ,\n",
       "        3070.17553711,     0.        ,  3289.47363281,     0.        ,\n",
       "        3508.77172852,     0.        ,  3728.0703125 ,     0.        ,\n",
       "        3947.3684082 ,     0.        ,  4166.66650391,     0.        ], dtype=float32)"
      ]
     },
     "execution_count": 32,
     "metadata": {},
     "output_type": "execute_result"
    }
   ],
   "source": [
    "individu_1_enfant_salaire_de_base = simulation.calculate_add('salaire_de_base')/12\n",
    "individu_1_enfant_salaire_de_base"
   ]
  },
  {
   "cell_type": "code",
   "execution_count": 33,
   "metadata": {
    "collapsed": false
   },
   "outputs": [
    {
     "data": {
      "text/plain": [
       "[0.0,\n",
       " 219.29823,\n",
       " 438.59647,\n",
       " 657.89471,\n",
       " 877.19293,\n",
       " 1096.4912,\n",
       " 1315.7894,\n",
       " 1535.0878,\n",
       " 1754.3859,\n",
       " 1973.6842,\n",
       " 2192.9824,\n",
       " 2412.2808,\n",
       " 2631.5789,\n",
       " 2850.8772,\n",
       " 3070.1755,\n",
       " 3289.4736,\n",
       " 3508.7717,\n",
       " 3728.0703,\n",
       " 3947.3684,\n",
       " 4166.6665]"
      ]
     },
     "execution_count": 33,
     "metadata": {},
     "output_type": "execute_result"
    }
   ],
   "source": [
    "# Cette manipulation permet d'égaliser la longueur des 2 tableaux (ppa et salaire de base)\n",
    "i_1_enfant_salaire_de_base = []\n",
    "i = 0\n",
    "while (i < len(individu_1_enfant_salaire_de_base)):\n",
    "    somme = 0\n",
    "    valeur_1 = individu_1_enfant_salaire_de_base[i]\n",
    "    i = i + 1\n",
    "    valeur_2 = individu_1_enfant_salaire_de_base[i]\n",
    "    somme = valeur_1 + valeur_2\n",
    "    i_1_enfant_salaire_de_base.append(somme)\n",
    "    i = i + 1\n",
    "    \n",
    "i_1_enfant_salaire_de_base"
   ]
  },
  {
   "cell_type": "markdown",
   "metadata": {},
   "source": [
    "### Le cas d'une personne seule avec 2 enfants"
   ]
  },
  {
   "cell_type": "code",
   "execution_count": 34,
   "metadata": {
    "collapsed": true
   },
   "outputs": [],
   "source": [
    "simulation = tax_benefit_system.new_scenario().init_single_entity(\n",
    "    axes = [\n",
    "        dict(\n",
    "            count = 20,\n",
    "            min = 0,\n",
    "            max = 50000,\n",
    "            name = 'salaire_de_base',\n",
    "            ),\n",
    "        ],\n",
    "    period = 2016,\n",
    "    parent1 = dict(\n",
    "        ),\n",
    "    enfants = [\n",
    "        dict(date_naissance = date(2006, 1, 1)),\n",
    "        dict(date_naissance = date(2011, 1, 1)),\n",
    "     ],\n",
    ").new_simulation(debug = True)"
   ]
  },
  {
   "cell_type": "code",
   "execution_count": 35,
   "metadata": {
    "collapsed": false
   },
   "outputs": [
    {
     "data": {
      "text/plain": [
       "array([   0.        ,   88.20096588,  176.38648987,  264.59735107,\n",
       "        327.8380127 ,  301.16043091,  257.55612183,  203.49455261,\n",
       "        149.44537354,   95.38348389,   41.33125687,    0.        ,\n",
       "          0.        ,    0.        ,    0.        ,    0.        ,\n",
       "          0.        ,    0.        ,    0.        ,    0.        ], dtype=float32)"
      ]
     },
     "execution_count": 35,
     "metadata": {},
     "output_type": "execute_result"
    }
   ],
   "source": [
    "individu_2_enfants_ppa = simulation.calculate_add('ppa')/12\n",
    "individu_2_enfants_ppa"
   ]
  },
  {
   "cell_type": "code",
   "execution_count": 36,
   "metadata": {
    "collapsed": false
   },
   "outputs": [
    {
     "data": {
      "text/plain": [
       "array([    0.        ,     0.        ,     0.        ,   219.29823303,\n",
       "           0.        ,     0.        ,   438.59646606,     0.        ,\n",
       "           0.        ,   657.89471436,     0.        ,     0.        ,\n",
       "         877.19293213,     0.        ,     0.        ,  1096.49121094,\n",
       "           0.        ,     0.        ,  1315.78942871,     0.        ,\n",
       "           0.        ,  1535.08776855,     0.        ,     0.        ,\n",
       "        1754.38586426,     0.        ,     0.        ,  1973.6842041 ,\n",
       "           0.        ,     0.        ,  2192.98242188,     0.        ,\n",
       "           0.        ,  2412.28076172,     0.        ,     0.        ,\n",
       "        2631.57885742,     0.        ,     0.        ,  2850.87719727,\n",
       "           0.        ,     0.        ,  3070.17553711,     0.        ,\n",
       "           0.        ,  3289.47363281,     0.        ,     0.        ,\n",
       "        3508.77172852,     0.        ,     0.        ,  3728.0703125 ,\n",
       "           0.        ,     0.        ,  3947.3684082 ,     0.        ,\n",
       "           0.        ,  4166.66650391,     0.        ,     0.        ], dtype=float32)"
      ]
     },
     "execution_count": 36,
     "metadata": {},
     "output_type": "execute_result"
    }
   ],
   "source": [
    "individu_2_enfants_salaire_de_base = simulation.calculate_add('salaire_de_base')/12\n",
    "individu_2_enfants_salaire_de_base"
   ]
  },
  {
   "cell_type": "code",
   "execution_count": 37,
   "metadata": {
    "collapsed": false
   },
   "outputs": [
    {
     "data": {
      "text/plain": [
       "[0.0,\n",
       " 219.29823,\n",
       " 438.59647,\n",
       " 657.89471,\n",
       " 877.19293,\n",
       " 1096.4912,\n",
       " 1315.7894,\n",
       " 1535.0878,\n",
       " 1754.3859,\n",
       " 1973.6842,\n",
       " 2192.9824,\n",
       " 2412.2808,\n",
       " 2631.5789,\n",
       " 2850.8772,\n",
       " 3070.1755,\n",
       " 3289.4736,\n",
       " 3508.7717,\n",
       " 3728.0703,\n",
       " 3947.3684,\n",
       " 4166.6665]"
      ]
     },
     "execution_count": 37,
     "metadata": {},
     "output_type": "execute_result"
    }
   ],
   "source": [
    "# Cette manipulation permet d'égaliser la longueur des 2 tableaux (ppa et salaire de base)\n",
    "i_2_enfants_salaire_de_base = []\n",
    "i = 0\n",
    "while (i < len(individu_2_enfants_salaire_de_base)):\n",
    "    somme = 0\n",
    "    valeur_1 = individu_2_enfants_salaire_de_base[i]\n",
    "    i = i + 1\n",
    "    valeur_2 = individu_2_enfants_salaire_de_base[i]\n",
    "    i = i + 1\n",
    "    valeur_3 = individu_2_enfants_salaire_de_base[i]   \n",
    "    somme = valeur_1 + valeur_2 + valeur_3\n",
    "    i_2_enfants_salaire_de_base.append(somme)\n",
    "    i = i + 1\n",
    "    \n",
    "i_2_enfants_salaire_de_base"
   ]
  },
  {
   "cell_type": "markdown",
   "metadata": {},
   "source": [
    "### Le cas d'une personne seule avec 3 enfants"
   ]
  },
  {
   "cell_type": "code",
   "execution_count": 38,
   "metadata": {
    "collapsed": true
   },
   "outputs": [],
   "source": [
    "simulation = tax_benefit_system.new_scenario().init_single_entity(\n",
    "    axes = [\n",
    "        dict(\n",
    "            count = 20,\n",
    "            min = 0,\n",
    "            max = 50000,\n",
    "            name = 'salaire_de_base',\n",
    "            ),\n",
    "        ],\n",
    "    period = 2016,\n",
    "    parent1 = dict(\n",
    "        ),\n",
    "    enfants = [\n",
    "        dict(date_naissance = date(2008, 1, 1)),\n",
    "        dict(date_naissance = date(2004, 1, 1)),\n",
    "        dict(date_naissance = date(2000, 1, 1)),\n",
    "     ],\n",
    ").new_simulation(debug = True)"
   ]
  },
  {
   "cell_type": "code",
   "execution_count": 39,
   "metadata": {
    "collapsed": false
   },
   "outputs": [
    {
     "data": {
      "text/plain": [
       "array([   0.        ,   88.20098877,  176.38641357,  182.49462891,\n",
       "        146.45275879,  119.7753067 ,   76.17087555,   21.38232613,\n",
       "          0.        ,    0.        ,    0.        ,    0.        ,\n",
       "          0.        ,    0.        ,    0.        ,    0.        ,\n",
       "          0.        ,    0.        ,    0.        ,    0.        ], dtype=float32)"
      ]
     },
     "execution_count": 39,
     "metadata": {},
     "output_type": "execute_result"
    }
   ],
   "source": [
    "individu_3_enfants_ppa = simulation.calculate_add('ppa')/12\n",
    "individu_3_enfants_ppa"
   ]
  },
  {
   "cell_type": "code",
   "execution_count": 40,
   "metadata": {
    "collapsed": false
   },
   "outputs": [
    {
     "data": {
      "text/plain": [
       "array([    0.        ,     0.        ,     0.        ,     0.        ,\n",
       "         219.29823303,     0.        ,     0.        ,     0.        ,\n",
       "         438.59646606,     0.        ,     0.        ,     0.        ,\n",
       "         657.89471436,     0.        ,     0.        ,     0.        ,\n",
       "         877.19293213,     0.        ,     0.        ,     0.        ,\n",
       "        1096.49121094,     0.        ,     0.        ,     0.        ,\n",
       "        1315.78942871,     0.        ,     0.        ,     0.        ,\n",
       "        1535.08776855,     0.        ,     0.        ,     0.        ,\n",
       "        1754.38586426,     0.        ,     0.        ,     0.        ,\n",
       "        1973.6842041 ,     0.        ,     0.        ,     0.        ,\n",
       "        2192.98242188,     0.        ,     0.        ,     0.        ,\n",
       "        2412.28076172,     0.        ,     0.        ,     0.        ,\n",
       "        2631.57885742,     0.        ,     0.        ,     0.        ,\n",
       "        2850.87719727,     0.        ,     0.        ,     0.        ,\n",
       "        3070.17553711,     0.        ,     0.        ,     0.        ,\n",
       "        3289.47363281,     0.        ,     0.        ,     0.        ,\n",
       "        3508.77172852,     0.        ,     0.        ,     0.        ,\n",
       "        3728.0703125 ,     0.        ,     0.        ,     0.        ,\n",
       "        3947.3684082 ,     0.        ,     0.        ,     0.        ,\n",
       "        4166.66650391,     0.        ,     0.        ,     0.        ], dtype=float32)"
      ]
     },
     "execution_count": 40,
     "metadata": {},
     "output_type": "execute_result"
    }
   ],
   "source": [
    "individu_3_enfants_salaire_de_base = simulation.calculate_add('salaire_de_base')/12\n",
    "individu_3_enfants_salaire_de_base"
   ]
  },
  {
   "cell_type": "code",
   "execution_count": 41,
   "metadata": {
    "collapsed": false
   },
   "outputs": [
    {
     "data": {
      "text/plain": [
       "[0.0,\n",
       " 219.29823,\n",
       " 438.59647,\n",
       " 657.89471,\n",
       " 877.19293,\n",
       " 1096.4912,\n",
       " 1315.7894,\n",
       " 1535.0878,\n",
       " 1754.3859,\n",
       " 1973.6842,\n",
       " 2192.9824,\n",
       " 2412.2808,\n",
       " 2631.5789,\n",
       " 2850.8772,\n",
       " 3070.1755,\n",
       " 3289.4736,\n",
       " 3508.7717,\n",
       " 3728.0703,\n",
       " 3947.3684,\n",
       " 4166.6665]"
      ]
     },
     "execution_count": 41,
     "metadata": {},
     "output_type": "execute_result"
    }
   ],
   "source": [
    "# Cette manipulation est nécessaire pour égaliser la longueur des 2 tableaux (ppa et salaire de base)\n",
    "i_3_enfants_salaire_de_base = []\n",
    "i = 0\n",
    "while (i < len(individu_3_enfants_salaire_de_base)):\n",
    "    somme = 0\n",
    "    valeur_1 = individu_3_enfants_salaire_de_base[i]\n",
    "    i = i + 1\n",
    "    valeur_2 = individu_3_enfants_salaire_de_base[i]\n",
    "    i = i + 1\n",
    "    valeur_3 = individu_3_enfants_salaire_de_base[i]   \n",
    "    i = i + 1\n",
    "    valeur_4 = individu_3_enfants_salaire_de_base[i] \n",
    "    somme = valeur_1 + valeur_2 + valeur_3 + valeur_4\n",
    "    i_3_enfants_salaire_de_base.append(somme)\n",
    "    i = i + 1\n",
    "    \n",
    "i_3_enfants_salaire_de_base"
   ]
  },
  {
   "cell_type": "markdown",
   "metadata": {},
   "source": [
    "### Le cas d'un couple sans enfant"
   ]
  },
  {
   "cell_type": "code",
   "execution_count": 42,
   "metadata": {
    "collapsed": false
   },
   "outputs": [],
   "source": [
    "simulation = tax_benefit_system.new_scenario().init_single_entity(\n",
    "    axes = [\n",
    "        dict(\n",
    "            count = 20,\n",
    "            min = 0,\n",
    "            max = 50000,\n",
    "            name = 'salaire_de_base',\n",
    "            ),\n",
    "        ],\n",
    "    period = 2016,\n",
    "    parent1 = dict(\n",
    "        ),\n",
    "    parent2 = dict(\n",
    "        ),    \n",
    ").new_simulation(debug = True)"
   ]
  },
  {
   "cell_type": "code",
   "execution_count": 43,
   "metadata": {
    "collapsed": false
   },
   "outputs": [
    {
     "data": {
      "text/plain": [
       "array([   0.        ,   88.20098877,  176.38648987,  264.59738159,\n",
       "        370.79019165,  430.89318848,  387.28884888,  333.22717285,\n",
       "        279.177948  ,  225.11616516,  171.06394958,  117.00540924,\n",
       "         62.95318604,    0.        ,    0.        ,    0.        ,\n",
       "          0.        ,    0.        ,    0.        ,    0.        ], dtype=float32)"
      ]
     },
     "execution_count": 43,
     "metadata": {},
     "output_type": "execute_result"
    }
   ],
   "source": [
    "couple_sans_enfant_ppa = simulation.calculate_add('ppa')/12\n",
    "couple_sans_enfant_ppa"
   ]
  },
  {
   "cell_type": "code",
   "execution_count": 44,
   "metadata": {
    "collapsed": false
   },
   "outputs": [
    {
     "data": {
      "text/plain": [
       "array([    0.        ,     0.        ,   219.29823303,     0.        ,\n",
       "         438.59646606,     0.        ,   657.89471436,     0.        ,\n",
       "         877.19293213,     0.        ,  1096.49121094,     0.        ,\n",
       "        1315.78942871,     0.        ,  1535.08776855,     0.        ,\n",
       "        1754.38586426,     0.        ,  1973.6842041 ,     0.        ,\n",
       "        2192.98242188,     0.        ,  2412.28076172,     0.        ,\n",
       "        2631.57885742,     0.        ,  2850.87719727,     0.        ,\n",
       "        3070.17553711,     0.        ,  3289.47363281,     0.        ,\n",
       "        3508.77172852,     0.        ,  3728.0703125 ,     0.        ,\n",
       "        3947.3684082 ,     0.        ,  4166.66650391,     0.        ], dtype=float32)"
      ]
     },
     "execution_count": 44,
     "metadata": {},
     "output_type": "execute_result"
    }
   ],
   "source": [
    "couple_sans_enfant_salaire_de_base = simulation.calculate_add('salaire_de_base')/12\n",
    "couple_sans_enfant_salaire_de_base"
   ]
  },
  {
   "cell_type": "code",
   "execution_count": 45,
   "metadata": {
    "collapsed": false
   },
   "outputs": [
    {
     "data": {
      "text/plain": [
       "[0.0,\n",
       " 219.29823,\n",
       " 438.59647,\n",
       " 657.89471,\n",
       " 877.19293,\n",
       " 1096.4912,\n",
       " 1315.7894,\n",
       " 1535.0878,\n",
       " 1754.3859,\n",
       " 1973.6842,\n",
       " 2192.9824,\n",
       " 2412.2808,\n",
       " 2631.5789,\n",
       " 2850.8772,\n",
       " 3070.1755,\n",
       " 3289.4736,\n",
       " 3508.7717,\n",
       " 3728.0703,\n",
       " 3947.3684,\n",
       " 4166.6665]"
      ]
     },
     "execution_count": 45,
     "metadata": {},
     "output_type": "execute_result"
    }
   ],
   "source": [
    "# Cette manipulation permet d'égaliser la longueur des 2 tableaux (ppa et salaire de base)\n",
    "c_sans_enfant_salaire_de_base = []\n",
    "i = 0\n",
    "while (i < len(couple_sans_enfant_salaire_de_base)):\n",
    "    somme = 0\n",
    "    valeur_1 = couple_sans_enfant_salaire_de_base[i]\n",
    "    i = i + 1\n",
    "    valeur_2 = couple_sans_enfant_salaire_de_base[i]\n",
    "    somme = valeur_1 + valeur_2\n",
    "    c_sans_enfant_salaire_de_base.append(somme)\n",
    "    i = i + 1\n",
    "    \n",
    "c_sans_enfant_salaire_de_base"
   ]
  },
  {
   "cell_type": "markdown",
   "metadata": {},
   "source": [
    "### Le cas d'un couple avec 1 enfant"
   ]
  },
  {
   "cell_type": "code",
   "execution_count": 46,
   "metadata": {
    "collapsed": true
   },
   "outputs": [],
   "source": [
    "simulation = tax_benefit_system.new_scenario().init_single_entity(\n",
    "    axes = [\n",
    "        dict(\n",
    "            count = 20,\n",
    "            min = 0,\n",
    "            max = 50000,\n",
    "            name = 'salaire_de_base',\n",
    "            ),\n",
    "        ],\n",
    "    period = 2016,\n",
    "    parent1 = dict(\n",
    "        ),\n",
    "    parent2 = dict(\n",
    "        ),  \n",
    "    enfants = [\n",
    "        dict(date_naissance = date(2006, 1, 1)),\n",
    "        ],\n",
    ").new_simulation(debug = True)"
   ]
  },
  {
   "cell_type": "code",
   "execution_count": 47,
   "metadata": {
    "collapsed": false
   },
   "outputs": [
    {
     "data": {
      "text/plain": [
       "array([   0.        ,   88.20098877,  176.38648987,  264.59735107,\n",
       "        370.79025269,  486.36398315,  518.44573975,  464.38412476,\n",
       "        410.33499146,  356.27310181,  302.22091675,  248.16247559,\n",
       "        194.11022949,  140.05444336,   85.99906158,   30.44344902,\n",
       "          0.        ,    0.        ,    0.        ,    0.        ], dtype=float32)"
      ]
     },
     "execution_count": 47,
     "metadata": {},
     "output_type": "execute_result"
    }
   ],
   "source": [
    "couple_1_enfant_ppa = simulation.calculate_add('ppa')/12\n",
    "couple_1_enfant_ppa"
   ]
  },
  {
   "cell_type": "code",
   "execution_count": 48,
   "metadata": {
    "collapsed": false
   },
   "outputs": [
    {
     "data": {
      "text/plain": [
       "array([    0.        ,     0.        ,     0.        ,   219.29823303,\n",
       "           0.        ,     0.        ,   438.59646606,     0.        ,\n",
       "           0.        ,   657.89471436,     0.        ,     0.        ,\n",
       "         877.19293213,     0.        ,     0.        ,  1096.49121094,\n",
       "           0.        ,     0.        ,  1315.78942871,     0.        ,\n",
       "           0.        ,  1535.08776855,     0.        ,     0.        ,\n",
       "        1754.38586426,     0.        ,     0.        ,  1973.6842041 ,\n",
       "           0.        ,     0.        ,  2192.98242188,     0.        ,\n",
       "           0.        ,  2412.28076172,     0.        ,     0.        ,\n",
       "        2631.57885742,     0.        ,     0.        ,  2850.87719727,\n",
       "           0.        ,     0.        ,  3070.17553711,     0.        ,\n",
       "           0.        ,  3289.47363281,     0.        ,     0.        ,\n",
       "        3508.77172852,     0.        ,     0.        ,  3728.0703125 ,\n",
       "           0.        ,     0.        ,  3947.3684082 ,     0.        ,\n",
       "           0.        ,  4166.66650391,     0.        ,     0.        ], dtype=float32)"
      ]
     },
     "execution_count": 48,
     "metadata": {},
     "output_type": "execute_result"
    }
   ],
   "source": [
    "couple_1_enfant_salaire_de_base = simulation.calculate_add('salaire_de_base')/12\n",
    "couple_1_enfant_salaire_de_base"
   ]
  },
  {
   "cell_type": "code",
   "execution_count": 49,
   "metadata": {
    "collapsed": false
   },
   "outputs": [
    {
     "data": {
      "text/plain": [
       "[0.0,\n",
       " 219.29823,\n",
       " 438.59647,\n",
       " 657.89471,\n",
       " 877.19293,\n",
       " 1096.4912,\n",
       " 1315.7894,\n",
       " 1535.0878,\n",
       " 1754.3859,\n",
       " 1973.6842,\n",
       " 2192.9824,\n",
       " 2412.2808,\n",
       " 2631.5789,\n",
       " 2850.8772,\n",
       " 3070.1755,\n",
       " 3289.4736,\n",
       " 3508.7717,\n",
       " 3728.0703,\n",
       " 3947.3684,\n",
       " 4166.6665]"
      ]
     },
     "execution_count": 49,
     "metadata": {},
     "output_type": "execute_result"
    }
   ],
   "source": [
    "# Cette manipulation permet d'égaliser la longueur des 2 tableaux (ppa et salaire de base)\n",
    "c_1_enfant_salaire_de_base = []\n",
    "i = 0\n",
    "while (i < len(couple_1_enfant_salaire_de_base)):\n",
    "    somme = 0\n",
    "    valeur_1 = couple_1_enfant_salaire_de_base[i]\n",
    "    i = i + 1\n",
    "    valeur_2 = couple_1_enfant_salaire_de_base[i]\n",
    "    i = i + 1\n",
    "    valeur_3 = couple_1_enfant_salaire_de_base[i]   \n",
    "    somme = valeur_1 + valeur_2 + valeur_3\n",
    "    c_1_enfant_salaire_de_base.append(somme)\n",
    "    i = i + 1\n",
    "    \n",
    "c_1_enfant_salaire_de_base"
   ]
  },
  {
   "cell_type": "markdown",
   "metadata": {},
   "source": [
    "### Le cas d'un couple avec 2 enfants"
   ]
  },
  {
   "cell_type": "code",
   "execution_count": 50,
   "metadata": {
    "collapsed": false
   },
   "outputs": [],
   "source": [
    "simulation = tax_benefit_system.new_scenario().init_single_entity(\n",
    "    axes = [\n",
    "        dict(\n",
    "            count = 20,\n",
    "            min = 0,\n",
    "            max = 50000,\n",
    "            name = 'salaire_de_base',\n",
    "            ),\n",
    "        ],\n",
    "    period = 2016,\n",
    "    parent1 = dict(\n",
    "        ),\n",
    "    parent2 = dict(\n",
    "        ),  \n",
    "    enfants = [\n",
    "        dict(date_naissance = date(2006, 1, 1)),\n",
    "        dict(date_naissance = date(2011, 1, 1)),\n",
    "        ],\n",
    ").new_simulation(debug = True)    "
   ]
  },
  {
   "cell_type": "code",
   "execution_count": 51,
   "metadata": {
    "collapsed": false
   },
   "outputs": [
    {
     "data": {
      "text/plain": [
       "array([   0.        ,   88.20098877,  176.38641357,  264.59738159,\n",
       "        370.79019165,  486.36398315,  541.18023682,  487.1187439 ,\n",
       "        433.0696106 ,  379.00759888,  324.95544434,  270.89682007,\n",
       "        216.84484863,  162.78907776,  108.73352051,   54.20556641,\n",
       "          0.        ,    0.        ,    0.        ,    0.        ], dtype=float32)"
      ]
     },
     "execution_count": 51,
     "metadata": {},
     "output_type": "execute_result"
    }
   ],
   "source": [
    "couple_2_enfants_ppa = simulation.calculate_add('ppa')/12\n",
    "couple_2_enfants_ppa"
   ]
  },
  {
   "cell_type": "code",
   "execution_count": 52,
   "metadata": {
    "collapsed": false
   },
   "outputs": [
    {
     "data": {
      "text/plain": [
       "array([    0.        ,     0.        ,     0.        ,     0.        ,\n",
       "         219.29823303,     0.        ,     0.        ,     0.        ,\n",
       "         438.59646606,     0.        ,     0.        ,     0.        ,\n",
       "         657.89471436,     0.        ,     0.        ,     0.        ,\n",
       "         877.19293213,     0.        ,     0.        ,     0.        ,\n",
       "        1096.49121094,     0.        ,     0.        ,     0.        ,\n",
       "        1315.78942871,     0.        ,     0.        ,     0.        ,\n",
       "        1535.08776855,     0.        ,     0.        ,     0.        ,\n",
       "        1754.38586426,     0.        ,     0.        ,     0.        ,\n",
       "        1973.6842041 ,     0.        ,     0.        ,     0.        ,\n",
       "        2192.98242188,     0.        ,     0.        ,     0.        ,\n",
       "        2412.28076172,     0.        ,     0.        ,     0.        ,\n",
       "        2631.57885742,     0.        ,     0.        ,     0.        ,\n",
       "        2850.87719727,     0.        ,     0.        ,     0.        ,\n",
       "        3070.17553711,     0.        ,     0.        ,     0.        ,\n",
       "        3289.47363281,     0.        ,     0.        ,     0.        ,\n",
       "        3508.77172852,     0.        ,     0.        ,     0.        ,\n",
       "        3728.0703125 ,     0.        ,     0.        ,     0.        ,\n",
       "        3947.3684082 ,     0.        ,     0.        ,     0.        ,\n",
       "        4166.66650391,     0.        ,     0.        ,     0.        ], dtype=float32)"
      ]
     },
     "execution_count": 52,
     "metadata": {},
     "output_type": "execute_result"
    }
   ],
   "source": [
    "couple_2_enfants_salaire_de_base = simulation.calculate_add('salaire_de_base')/12\n",
    "couple_2_enfants_salaire_de_base"
   ]
  },
  {
   "cell_type": "code",
   "execution_count": 53,
   "metadata": {
    "collapsed": false
   },
   "outputs": [
    {
     "data": {
      "text/plain": [
       "[0.0,\n",
       " 219.29823,\n",
       " 438.59647,\n",
       " 657.89471,\n",
       " 877.19293,\n",
       " 1096.4912,\n",
       " 1315.7894,\n",
       " 1535.0878,\n",
       " 1754.3859,\n",
       " 1973.6842,\n",
       " 2192.9824,\n",
       " 2412.2808,\n",
       " 2631.5789,\n",
       " 2850.8772,\n",
       " 3070.1755,\n",
       " 3289.4736,\n",
       " 3508.7717,\n",
       " 3728.0703,\n",
       " 3947.3684,\n",
       " 4166.6665]"
      ]
     },
     "execution_count": 53,
     "metadata": {},
     "output_type": "execute_result"
    }
   ],
   "source": [
    "# Cette manipulation permet d'égaliser la longueur des 2 tableaux (ppa et salaire de base)\n",
    "c_2_enfants_salaire_de_base = []\n",
    "i = 0\n",
    "while (i < len(couple_2_enfants_salaire_de_base)):\n",
    "    somme = 0\n",
    "    valeur_1 = couple_2_enfants_salaire_de_base[i]\n",
    "    i = i + 1\n",
    "    valeur_2 = couple_2_enfants_salaire_de_base[i]\n",
    "    i = i + 1\n",
    "    valeur_3 = couple_2_enfants_salaire_de_base[i]   \n",
    "    i = i + 1\n",
    "    valeur_4 = couple_2_enfants_salaire_de_base[i] \n",
    "    somme = valeur_1 + valeur_2 + valeur_3 + valeur_4\n",
    "    c_2_enfants_salaire_de_base.append(somme)\n",
    "    i = i + 1\n",
    "    \n",
    "c_2_enfants_salaire_de_base"
   ]
  },
  {
   "cell_type": "markdown",
   "metadata": {},
   "source": [
    "### Le cas d'un couple avec 3 enfants"
   ]
  },
  {
   "cell_type": "code",
   "execution_count": 54,
   "metadata": {
    "collapsed": false
   },
   "outputs": [],
   "source": [
    "simulation = tax_benefit_system.new_scenario().init_single_entity(\n",
    "    axes = [\n",
    "        dict(\n",
    "            count = 20,\n",
    "            min = 0,\n",
    "            max = 50000,\n",
    "            name = 'salaire_de_base',\n",
    "            ),\n",
    "        ],\n",
    "    period = 2016,\n",
    "    parent1 = dict(\n",
    "        ),\n",
    "    parent2 = dict(\n",
    "        ),  \n",
    "    enfants = [\n",
    "        dict(date_naissance = date(2008, 1, 1)),\n",
    "        dict(date_naissance = date(2004, 1, 1)),\n",
    "        dict(date_naissance = date(2000, 1, 1)),\n",
    "        ],\n",
    ").new_simulation(debug = True)    "
   ]
  },
  {
   "cell_type": "code",
   "execution_count": 55,
   "metadata": {
    "collapsed": false
   },
   "outputs": [
    {
     "data": {
      "text/plain": [
       "array([   0.        ,   88.20098877,  176.38641357,  264.59738159,\n",
       "        370.79019165,  479.63290405,  436.02871704,  381.96704102,\n",
       "        327.91775513,  273.85604858,  219.80393982,  165.74531555,\n",
       "        111.69297028,   57.63720703,    0.        ,    0.        ,\n",
       "          0.        ,    0.        ,    0.        ,    0.        ], dtype=float32)"
      ]
     },
     "execution_count": 55,
     "metadata": {},
     "output_type": "execute_result"
    }
   ],
   "source": [
    "couple_3_enfants_ppa = simulation.calculate_add('ppa')/12\n",
    "couple_3_enfants_ppa"
   ]
  },
  {
   "cell_type": "code",
   "execution_count": 56,
   "metadata": {
    "collapsed": false
   },
   "outputs": [
    {
     "data": {
      "text/plain": [
       "array([    0.        ,     0.        ,     0.        ,     0.        ,\n",
       "           0.        ,   219.29823303,     0.        ,     0.        ,\n",
       "           0.        ,     0.        ,   438.59646606,     0.        ,\n",
       "           0.        ,     0.        ,     0.        ,   657.89471436,\n",
       "           0.        ,     0.        ,     0.        ,     0.        ,\n",
       "         877.19293213,     0.        ,     0.        ,     0.        ,\n",
       "           0.        ,  1096.49121094,     0.        ,     0.        ,\n",
       "           0.        ,     0.        ,  1315.78942871,     0.        ,\n",
       "           0.        ,     0.        ,     0.        ,  1535.08776855,\n",
       "           0.        ,     0.        ,     0.        ,     0.        ,\n",
       "        1754.38586426,     0.        ,     0.        ,     0.        ,\n",
       "           0.        ,  1973.6842041 ,     0.        ,     0.        ,\n",
       "           0.        ,     0.        ,  2192.98242188,     0.        ,\n",
       "           0.        ,     0.        ,     0.        ,  2412.28076172,\n",
       "           0.        ,     0.        ,     0.        ,     0.        ,\n",
       "        2631.57885742,     0.        ,     0.        ,     0.        ,\n",
       "           0.        ,  2850.87719727,     0.        ,     0.        ,\n",
       "           0.        ,     0.        ,  3070.17553711,     0.        ,\n",
       "           0.        ,     0.        ,     0.        ,  3289.47363281,\n",
       "           0.        ,     0.        ,     0.        ,     0.        ,\n",
       "        3508.77172852,     0.        ,     0.        ,     0.        ,\n",
       "           0.        ,  3728.0703125 ,     0.        ,     0.        ,\n",
       "           0.        ,     0.        ,  3947.3684082 ,     0.        ,\n",
       "           0.        ,     0.        ,     0.        ,  4166.66650391,\n",
       "           0.        ,     0.        ,     0.        ,     0.        ], dtype=float32)"
      ]
     },
     "execution_count": 56,
     "metadata": {},
     "output_type": "execute_result"
    }
   ],
   "source": [
    "couple_3_enfants_salaire_de_base = simulation.calculate_add('salaire_de_base')/12\n",
    "couple_3_enfants_salaire_de_base"
   ]
  },
  {
   "cell_type": "code",
   "execution_count": 57,
   "metadata": {
    "collapsed": false
   },
   "outputs": [
    {
     "data": {
      "text/plain": [
       "[0.0,\n",
       " 219.29823,\n",
       " 438.59647,\n",
       " 657.89471,\n",
       " 877.19293,\n",
       " 1096.4912,\n",
       " 1315.7894,\n",
       " 1535.0878,\n",
       " 1754.3859,\n",
       " 1973.6842,\n",
       " 2192.9824,\n",
       " 2412.2808,\n",
       " 2631.5789,\n",
       " 2850.8772,\n",
       " 3070.1755,\n",
       " 3289.4736,\n",
       " 3508.7717,\n",
       " 3728.0703,\n",
       " 3947.3684,\n",
       " 4166.6665]"
      ]
     },
     "execution_count": 57,
     "metadata": {},
     "output_type": "execute_result"
    }
   ],
   "source": [
    "# Cette manipulation permet d'égaliser la longueur des 2 tableaux (ppa et salaire de base)\n",
    "c_3_enfants_salaire_de_base = []\n",
    "i = 0\n",
    "while (i < len(couple_3_enfants_salaire_de_base)):\n",
    "    somme = 0\n",
    "    valeur_1 = couple_3_enfants_salaire_de_base[i]\n",
    "    i = i + 1\n",
    "    valeur_2 = couple_3_enfants_salaire_de_base[i]\n",
    "    i = i + 1\n",
    "    valeur_3 = couple_3_enfants_salaire_de_base[i]   \n",
    "    i = i + 1\n",
    "    valeur_4 = couple_3_enfants_salaire_de_base[i] \n",
    "    i = i + 1\n",
    "    valeur_5 = couple_3_enfants_salaire_de_base[i]    \n",
    "    somme = valeur_1 + valeur_2 + valeur_3 + valeur_4 + valeur_5\n",
    "    c_3_enfants_salaire_de_base.append(somme)\n",
    "    i = i + 1\n",
    "    \n",
    "c_3_enfants_salaire_de_base"
   ]
  },
  {
   "cell_type": "code",
   "execution_count": 58,
   "metadata": {
    "collapsed": false
   },
   "outputs": [
    {
     "data": {
      "text/plain": [
       "<matplotlib.legend.Legend at 0x7f4b7a073690>"
      ]
     },
     "execution_count": 58,
     "metadata": {},
     "output_type": "execute_result"
    },
    {
     "data": {
      "image/png": "[encoded data removed]",
      "text/plain": [
       "<matplotlib.figure.Figure at 0x7f4b7a7bcbd0>"
      ]
     },
     "metadata": {},
     "output_type": "display_data"
    }
   ],
   "source": [
    "# fig = plt.figure()\n",
    "\n",
    "plt.plot(individu_sans_enfant_salaire_de_base, individu_sans_enfant_ppa, label=\"Personne seule sans enfant\")\n",
    "plt.plot(i_1_enfant_salaire_de_base, individu_1_enfant_ppa, label=\"Personne seule avec 1 enfant\")\n",
    "plt.plot(i_2_enfants_salaire_de_base, individu_2_enfants_ppa, label=\"Personne seule avec 2 enfants\")\n",
    "plt.plot(i_3_enfants_salaire_de_base, individu_3_enfants_ppa, label=\"Personne seule avec 3 enfants\")\n",
    "plt.xlabel(u'Salaire de base (€/mois)')\n",
    "plt.ylabel(u'ppa (€/mois)')\n",
    "plt.title(u'PPA - Personne seule')\n",
    "plt.legend(loc = 0, shadow=True, fancybox=True)"
   ]
  },
  {
   "cell_type": "code",
   "execution_count": 59,
   "metadata": {
    "collapsed": false
   },
   "outputs": [
    {
     "data": {
      "text/plain": [
       "<matplotlib.legend.Legend at 0x7f4b7a0731d0>"
      ]
     },
     "execution_count": 59,
     "metadata": {},
     "output_type": "execute_result"
    },
    {
     "data": {
      "image/png": "[encoded data removed]",
      "text/plain": [
       "<matplotlib.figure.Figure at 0x7f4b7aff92d0>"
      ]
     },
     "metadata": {},
     "output_type": "display_data"
    }
   ],
   "source": [
    "# fig = plt.figure()\n",
    "\n",
    "plt.plot(c_sans_enfant_salaire_de_base, couple_sans_enfant_ppa, label=\"Couple sans enfant\")\n",
    "plt.plot(c_1_enfant_salaire_de_base, couple_1_enfant_ppa, label=\"Couple avec 1 enfant\")\n",
    "plt.plot(c_2_enfants_salaire_de_base, couple_2_enfants_ppa, label=\"Couple avec 2 enfants\")\n",
    "plt.plot(c_3_enfants_salaire_de_base, couple_3_enfants_ppa, label=\"Couple avec 3 enfants\")\n",
    "plt.xlabel(u'Salaire de base (€/mois)')\n",
    "plt.ylabel(u'ppa (€/mois)')\n",
    "plt.title(u'PPA - Couple')\n",
    "plt.legend(loc = 0, shadow=True, fancybox=True)"
   ]
  },
  {
   "cell_type": "code",
   "execution_count": null,
   "metadata": {
    "collapsed": true
   },
   "outputs": [],
   "source": []
  },
  {
   "cell_type": "code",
   "execution_count": null,
   "metadata": {
    "collapsed": true
   },
   "outputs": [],
   "source": []
  },
  {
   "cell_type": "code",
   "execution_count": null,
   "metadata": {
    "collapsed": true
   },
   "outputs": [],
   "source": []
  },
  {
   "cell_type": "code",
   "execution_count": null,
   "metadata": {
    "collapsed": true
   },
   "outputs": [],
   "source": []
  }
 ],
 "metadata": {
  "kernelspec": {
   "display_name": "Python 2",
   "language": "python",
   "name": "python2"
  },
  "language_info": {
   "codemirror_mode": {
    "name": "ipython",
    "version": 2
   },
   "file_extension": ".py",
   "mimetype": "text/x-python",
   "name": "python",
   "nbconvert_exporter": "python",
   "pygments_lexer": "ipython2",
   "version": "2.7.9"
  }
 },
 "nbformat": 4,
 "nbformat_minor": 1
}
