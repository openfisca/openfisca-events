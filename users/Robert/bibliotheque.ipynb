{
 "cells": [
  {
   "cell_type": "code",
   "execution_count": 12,
   "metadata": {
    "collapsed": true
   },
   "outputs": [],
   "source": [
    "a = [1, 2, 3, 4, 5, 6]\n"
   ]
  },
  {
   "cell_type": "code",
   "execution_count": 13,
   "metadata": {
    "collapsed": false
   },
   "outputs": [
    {
     "data": {
      "text/plain": [
       "6"
      ]
     },
     "execution_count": 13,
     "metadata": {},
     "output_type": "execute_result"
    }
   ],
   "source": [
    "len(a)"
   ]
  },
  {
   "cell_type": "code",
   "execution_count": 18,
   "metadata": {
    "collapsed": false
   },
   "outputs": [
    {
     "name": "stdout",
     "output_type": "stream",
     "text": [
      "11\n",
      "[3, 7, 11]\n"
     ]
    }
   ],
   "source": [
    "z = []\n",
    "i = 0\n",
    "while (i < len(a)):\n",
    "    somme = 0\n",
    "    f = a[i]\n",
    "    i = i + 1\n",
    "    g = a[i]\n",
    "    somme = f + g\n",
    "    z.append(somme)\n",
    "    i = i + 1\n",
    "    \n",
    "print somme\n",
    "print z\n",
    "\n",
    "\n",
    "     \n",
    "    \n"
   ]
  },
  {
   "cell_type": "code",
   "execution_count": null,
   "metadata": {
    "collapsed": true
   },
   "outputs": [],
   "source": [
    "# Cette manipulation est nécessaire pour aligner la longueur des 2 tableau (rsa et salaire de base) \n",
    "# Formulation précédente pour le fichier \"etude_variable_rsa\"\n",
    "i_1_enfant_salaire_de_base=[]\n",
    "i_1_enfant_salaire_de_base.append(0)\n",
    "for x in individu_1_enfant_salaire_de_base:    \n",
    "    if x != 0:\n",
    "            i_1_enfant_salaire_de_base.append(x)\n",
    "i_1_enfant_salaire_de_base"
   ]
  },
  {
   "cell_type": "code",
   "execution_count": null,
   "metadata": {
    "collapsed": true
   },
   "outputs": [],
   "source": []
  }
 ],
 "metadata": {
  "kernelspec": {
   "display_name": "Python 2",
   "language": "python",
   "name": "python2"
  },
  "language_info": {
   "codemirror_mode": {
    "name": "ipython",
    "version": 2
   },
   "file_extension": ".py",
   "mimetype": "text/x-python",
   "name": "python",
   "nbconvert_exporter": "python",
   "pygments_lexer": "ipython2",
   "version": "2.7.9"
  }
 },
 "nbformat": 4,
 "nbformat_minor": 1
}
