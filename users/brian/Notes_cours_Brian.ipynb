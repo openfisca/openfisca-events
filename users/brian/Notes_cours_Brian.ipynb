{
 "cells": [
  {
   "cell_type": "markdown",
   "metadata": {},
   "source": [
    "gain de l'enfant ? gain à l'enfant pour un rang donné (0,1,2,3) pour une année donnée (2011,2012,2013,2014)"
   ]
  },
  {
   "cell_type": "markdown",
   "metadata": {},
   "source": [
    "salaire_imposable = couple_0_enfant.calculate('sal', period = 2011)"
   ]
  },
  {
   "cell_type": "markdown",
   "metadata": {},
   "source": [
    "Qu'est-ce que je veux en sortie de mon code ? "
   ]
  },
  {
   "cell_type": "markdown",
   "metadata": {},
   "source": [
    "def gain (nombre_enfants = 0, year = 2014) :\n",
    "    gain = salaire_imposable - salaire_imposable \n",
    "    gain = revenu disponible final - revenu disponible initial\n",
    "    return gain"
   ]
  },
  {
   "cell_type": "code",
   "execution_count": 22,
   "metadata": {
    "collapsed": false
   },
   "outputs": [
    {
     "ename": "SyntaxError",
     "evalue": "invalid syntax (<ipython-input-22-d4a22d702da5>, line 1)",
     "output_type": "error",
     "traceback": [
      "\u001b[0;36m  File \u001b[0;32m\"<ipython-input-22-d4a22d702da5>\"\u001b[0;36m, line \u001b[0;32m1\u001b[0m\n\u001b[0;31m    def gain (nombre_enfants = 0, year = 2014)\u001b[0m\n\u001b[0m                                              ^\u001b[0m\n\u001b[0;31mSyntaxError\u001b[0m\u001b[0;31m:\u001b[0m invalid syntax\n"
     ]
    }
   ],
   "source": [
    "def gain (nombre_enfants = 0, year = 2014)\n",
    "    salaire_imposable1 = [dict(\n",
    "        couple_1_enfant.calculate('sal', period = year),\n",
    "        )]\n",
    "    gain1 = salaire_imposable1 - salaire_imposable"
   ]
  },
  {
   "cell_type": "markdown",
   "metadata": {},
   "source": [
    "La simulation a pour but de calculer"
   ]
  },
  {
   "cell_type": "code",
   "execution_count": 23,
   "metadata": {
    "collapsed": false
   },
   "outputs": [],
   "source": [
    "une_autre_chaine = \"et celle-ci\""
   ]
  },
  {
   "cell_type": "code",
   "execution_count": 24,
   "metadata": {
    "collapsed": false
   },
   "outputs": [
    {
     "data": {
      "text/plain": [
       "'et celle-ci'"
      ]
     },
     "execution_count": 24,
     "metadata": {},
     "output_type": "execute_result"
    }
   ],
   "source": [
    "une_autre_chaine"
   ]
  },
  {
   "cell_type": "code",
   "execution_count": 25,
   "metadata": {
    "collapsed": false
   },
   "outputs": [],
   "source": [
    "chaine_de_caracteres = \"caracteres \""
   ]
  },
  {
   "cell_type": "code",
   "execution_count": 26,
   "metadata": {
    "collapsed": false
   },
   "outputs": [
    {
     "data": {
      "text/plain": [
       "'caracteres '"
      ]
     },
     "execution_count": 26,
     "metadata": {},
     "output_type": "execute_result"
    }
   ],
   "source": [
    "chaine_de_caracteres"
   ]
  },
  {
   "cell_type": "code",
   "execution_count": 27,
   "metadata": {
    "collapsed": false
   },
   "outputs": [
    {
     "data": {
      "text/plain": [
       "'caracteres et celle-ci'"
      ]
     },
     "execution_count": 27,
     "metadata": {},
     "output_type": "execute_result"
    }
   ],
   "source": [
    "chaine_de_caracteres + une_autre_chaine"
   ]
  },
  {
   "cell_type": "code",
   "execution_count": 28,
   "metadata": {
    "collapsed": false
   },
   "outputs": [
    {
     "data": {
      "text/plain": [
       "'ceci est le nombre 2=3*2'"
      ]
     },
     "execution_count": 28,
     "metadata": {},
     "output_type": "execute_result"
    }
   ],
   "source": [
    "nombre = 6\n",
    "facteur1 = 2\n",
    "facteur2 = 3\n",
    "\"ceci est le nombre {1}={2}*{1}\".format(nombre, facteur1, facteur2)"
   ]
  },
  {
   "cell_type": "markdown",
   "metadata": {},
   "source": [
    "l'arrivée du troisième enfant est beaucoup aidé pour les familles pauvres grâce au complément familial"
   ]
  },
  {
   "cell_type": "markdown",
   "metadata": {},
   "source": [
    "Quand on ne sait pas combien d'itérations va faire le programme "
   ]
  },
  {
   "cell_type": "markdown",
   "metadata": {},
   "source": [
    "mon problème c'était : je n'arrivais pas à stocker les années; comment stocker plusieurs informations ?"
   ]
  },
  {
   "cell_type": "markdown",
   "metadata": {},
   "source": [
    "écrire en le moins possible en faisanr le moins d'erreurs possibles"
   ]
  },
  {
   "cell_type": "code",
   "execution_count": 29,
   "metadata": {
    "collapsed": false
   },
   "outputs": [
    {
     "name": "stdout",
     "output_type": "stream",
     "text": [
      "2010\n",
      "2011\n",
      "2012\n",
      "2013\n",
      "2014\n"
     ]
    }
   ],
   "source": [
    "for year in range(2010, 2015): \n",
    "    print year"
   ]
  },
  {
   "cell_type": "markdown",
   "metadata": {},
   "source": [
    "un dictionnaire est un ensemble de clefs / valeurs. C'est pas ordonné mais indexé."
   ]
  },
  {
   "cell_type": "markdown",
   "metadata": {},
   "source": [
    "Python commence toujours à 0."
   ]
  },
  {
   "cell_type": "code",
   "execution_count": 30,
   "metadata": {
    "collapsed": false
   },
   "outputs": [],
   "source": [
    "ma_liste = [1, 2, 3, 4]"
   ]
  },
  {
   "cell_type": "code",
   "execution_count": 47,
   "metadata": {
    "collapsed": false
   },
   "outputs": [
    {
     "ename": "SyntaxError",
     "evalue": "invalid syntax (<ipython-input-47-d913bbefe8f3>, line 1)",
     "output_type": "error",
     "traceback": [
      "\u001b[0;36m  File \u001b[0;32m\"<ipython-input-47-d913bbefe8f3>\"\u001b[0;36m, line \u001b[0;32m1\u001b[0m\n\u001b[0;31m    for year in ma_liste\u001b[0m\n\u001b[0m                        ^\u001b[0m\n\u001b[0;31mSyntaxError\u001b[0m\u001b[0;31m:\u001b[0m invalid syntax\n"
     ]
    }
   ],
   "source": [
    "for year in ma_liste"
   ]
  },
  {
   "cell_type": "code",
   "execution_count": 32,
   "metadata": {
    "collapsed": false
   },
   "outputs": [
    {
     "data": {
      "text/plain": [
       "4"
      ]
     },
     "execution_count": 32,
     "metadata": {},
     "output_type": "execute_result"
    }
   ],
   "source": [
    "ma_liste.pop()"
   ]
  },
  {
   "cell_type": "code",
   "execution_count": 33,
   "metadata": {
    "collapsed": false
   },
   "outputs": [
    {
     "data": {
      "text/plain": [
       "[1, 2, 3]"
      ]
     },
     "execution_count": 33,
     "metadata": {},
     "output_type": "execute_result"
    }
   ],
   "source": [
    "ma_liste"
   ]
  },
  {
   "cell_type": "markdown",
   "metadata": {},
   "source": [
    "la fonction .pop permet d'extraire des éléements de la liste"
   ]
  },
  {
   "cell_type": "markdown",
   "metadata": {},
   "source": [
    "la fonction .append rajoute l'élement de la liste"
   ]
  },
  {
   "cell_type": "markdown",
   "metadata": {},
   "source": [
    "comment créer une liste dans la boucle des années par rapport à notre exo ? "
   ]
  },
  {
   "cell_type": "markdown",
   "metadata": {},
   "source": [
    "D'abord, je crée une liste vite"
   ]
  },
  {
   "cell_type": "code",
   "execution_count": 45,
   "metadata": {
    "collapsed": false
   },
   "outputs": [],
   "source": [
    "def gain(year):\n",
    "    return float(year) / 2\n",
    "mon_dico = dict()"
   ]
  },
  {
   "cell_type": "code",
   "execution_count": 46,
   "metadata": {
    "collapsed": false
   },
   "outputs": [
    {
     "name": "stdout",
     "output_type": "stream",
     "text": [
      "2010\n",
      "1005.0\n",
      "{2010: 1005.0}\n",
      "2011\n",
      "1005.5\n",
      "{2010: 1005.0, 2011: 1005.5}\n",
      "2012\n",
      "1006.0\n",
      "{2010: 1005.0, 2011: 1005.5, 2012: 1006.0}\n",
      "2013\n",
      "1006.5\n",
      "{2010: 1005.0, 2011: 1005.5, 2012: 1006.0, 2013: 1006.5}\n",
      "2014\n",
      "1007.0\n",
      "{2010: 1005.0, 2011: 1005.5, 2012: 1006.0, 2013: 1006.5, 2014: 1007.0}\n"
     ]
    }
   ],
   "source": [
    "for year in range(2010, 2015):\n",
    "    print year\n",
    "    print gain(year)\n",
    "    mon_dico[year] = gain(year)\n",
    "    print mon_dico"
   ]
  },
  {
   "cell_type": "code",
   "execution_count": 48,
   "metadata": {
    "collapsed": false
   },
   "outputs": [
    {
     "name": "stdout",
     "output_type": "stream",
     "text": [
      "2010\n",
      "2011\n",
      "2012\n",
      "2013\n",
      "2014\n",
      "[2010, 2011, 2012, 2013, 2014]\n"
     ]
    }
   ],
   "source": [
    "ma_liste = list()\n",
    "for year in range(2010, 2015): \n",
    "    print year\n",
    "    ma_liste.append(year)\n",
    "    \n",
    "print ma_liste"
   ]
  },
  {
   "cell_type": "code",
   "execution_count": 50,
   "metadata": {
    "collapsed": false
   },
   "outputs": [
    {
     "name": "stdout",
     "output_type": "stream",
     "text": [
      "2010\n",
      "2011\n",
      "2012\n",
      "2013\n",
      "2014\n"
     ]
    }
   ],
   "source": [
    "for year in ma_liste:\n",
    "    print year"
   ]
  },
  {
   "cell_type": "code",
   "execution_count": 51,
   "metadata": {
    "collapsed": false
   },
   "outputs": [
    {
     "name": "stdout",
     "output_type": "stream",
     "text": [
      "2010\n",
      "1005.0\n",
      "====\n",
      "2011\n",
      "1005.5\n",
      "====\n",
      "2012\n",
      "1006.0\n",
      "====\n",
      "2013\n",
      "1006.5\n",
      "====\n",
      "2014\n",
      "1007.0\n",
      "====\n"
     ]
    }
   ],
   "source": [
    "for key, value in mon_dico.iteritems():\n",
    "    print key\n",
    "    print value\n",
    "    print \"====\""
   ]
  },
  {
   "cell_type": "code",
   "execution_count": 53,
   "metadata": {
    "collapsed": false
   },
   "outputs": [
    {
     "name": "stdout",
     "output_type": "stream",
     "text": [
      "[2010, 2011, 2012, 2013, 2014]\n",
      "<type 'list'>\n"
     ]
    }
   ],
   "source": [
    "print mon_dico.keys()\n",
    "print type(mon_dico.keys())"
   ]
  },
  {
   "cell_type": "code",
   "execution_count": 54,
   "metadata": {
    "collapsed": false
   },
   "outputs": [
    {
     "ename": "AttributeError",
     "evalue": "'dict' object has no attribute 'value'",
     "output_type": "error",
     "traceback": [
      "\u001b[0;31m---------------------------------------------------------------------------\u001b[0m\n\u001b[0;31mAttributeError\u001b[0m                            Traceback (most recent call last)",
      "\u001b[0;32m<ipython-input-54-1401521dc124>\u001b[0m in \u001b[0;36m<module>\u001b[0;34m()\u001b[0m\n\u001b[0;32m----> 1\u001b[0;31m \u001b[0;32mprint\u001b[0m \u001b[0mmon_dico\u001b[0m\u001b[0;34m.\u001b[0m\u001b[0mvalue\u001b[0m\u001b[0;34m(\u001b[0m\u001b[0;34m)\u001b[0m\u001b[0;34m\u001b[0m\u001b[0m\n\u001b[0m\u001b[1;32m      2\u001b[0m \u001b[0;32mprint\u001b[0m \u001b[0mtype\u001b[0m\u001b[0;34m(\u001b[0m\u001b[0mmon_dico\u001b[0m\u001b[0;34m.\u001b[0m\u001b[0mvalue\u001b[0m\u001b[0;34m(\u001b[0m\u001b[0;34m)\u001b[0m\u001b[0;34m)\u001b[0m\u001b[0;34m\u001b[0m\u001b[0m\n",
      "\u001b[0;31mAttributeError\u001b[0m: 'dict' object has no attribute 'value'"
     ]
    }
   ],
   "source": [
    "print mon_dico.value()\n",
    "print type(mon_dico.value())"
   ]
  },
  {
   "cell_type": "markdown",
   "metadata": {},
   "source": [
    "construire un dictionnaire avec les gains par année et par enfant\n",
    "on veut construire avec une boucle qui va s'appeler \"gain_by_year\" "
   ]
  },
  {
   "cell_type": "markdown",
   "metadata": {},
   "source": [
    "créer trois dicos : gain_by_year_margin_0_1\n",
    "gain_by_year_margin_0_2\n",
    "gain_by_year_margin_0_3"
   ]
  },
  {
   "cell_type": "markdown",
   "metadata": {},
   "source": [
    "projet : les familles qui ont un étudiant peuvent le garder à la fois dans le foyer fiscal et plus, l'enfant peut avoir une \n",
    "aide au logement. \n",
    "Les riches qui en bénéficient "
   ]
  }
 ],
 "metadata": {
  "kernelspec": {
   "display_name": "Python 2",
   "language": "python",
   "name": "python2"
  },
  "language_info": {
   "codemirror_mode": {
    "name": "ipython",
    "version": 2
   },
   "file_extension": ".py",
   "mimetype": "text/x-python",
   "name": "python",
   "nbconvert_exporter": "python",
   "pygments_lexer": "ipython2",
   "version": "2.7.12"
  }
 },
 "nbformat": 4,
 "nbformat_minor": 0
}
