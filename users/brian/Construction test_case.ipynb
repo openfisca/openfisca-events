{
 "cells": [
  {
   "cell_type": "code",
   "execution_count": 29,
   "metadata": {
    "collapsed": false
   },
   "outputs": [],
   "source": [
    "%matplotlib inline "
   ]
  },
  {
   "cell_type": "code",
   "execution_count": null,
   "metadata": {
    "collapsed": false
   },
   "outputs": [],
   "source": [
    "test_case_m_f_2ff = {\n",
    "'individus' : individus, \n",
    "'menages' : menages, \n",
    "'familles' : familles, \n",
    "'foyers_fiscaux' : [(0, {'id': 0, 'personnes_a_charge': [], 'declarants_id': ['ind0', 'ind1']}), \n",
    "                    (0, {'id': 1, 'personnes_a_charge': [], 'declarants_id': ['ind2']})\n",
    "                    ]\n",
    "} "
   ]
  },
  {
   "cell_type": "code",
   "execution_count": 30,
   "metadata": {
    "collapsed": false
   },
   "outputs": [],
   "source": [
    "import matplotlib.pyplot as plt\n",
    "from datetime import date "
   ]
  },
  {
   "cell_type": "code",
   "execution_count": 31,
   "metadata": {
    "collapsed": false
   },
   "outputs": [],
   "source": [
    "from collections import OrderedDict"
   ]
  },
  {
   "cell_type": "code",
   "execution_count": 32,
   "metadata": {
    "collapsed": false
   },
   "outputs": [],
   "source": [
    "import openfisca_france    \n",
    "TaxBenefitSystem = openfisca_france.init_country() \n",
    "tax_benefit_system = TaxBenefitSystem() "
   ]
  },
  {
   "cell_type": "code",
   "execution_count": 34,
   "metadata": {
    "collapsed": false
   },
   "outputs": [],
   "source": [
    "simulation = tax_benefit_system.new_scenario().init_single_entity(\n",
    "    period = 2014,\n",
    "    parent1 = dict(\n",
    "        birth = datetime.date(1980, 1, 1),\n",
    "        salbrut = 24000,\n",
    "    )\n",
    "    ).new_simulation(debug = True)"
   ]
  },
  {
   "cell_type": "code",
   "execution_count": 35,
   "metadata": {
    "collapsed": false
   },
   "outputs": [
    {
     "name": "stdout",
     "output_type": "stream",
     "text": [
      "OrderedDict([('ind0', {u'salbrut': 24000.0, 'id': 'ind0', 'birth': datetime.date(1960, 1, 1)}), ('ind1', {u'salbrut': 23000.0, 'id': 'ind1', 'birth': datetime.date(1961, 12, 1)}), ('ind2', {'id': 'ind2', 'birth': datetime.date(2005, 1, 1)})])\n"
     ]
    }
   ],
   "source": [
    "individus = OrderedDict([\n",
    "    ('ind0', {u'salbrut': 24000.0, 'birth': datetime.date(1960, 1, 1), 'id': 'ind0'}), \n",
    "    ('ind1', {u'salbrut': 23000.0, 'birth': datetime.date(1961, 12, 1), 'id': 'ind1'}), \n",
    "    ('ind2', {'birth': datetime.date(2005, 1, 1), 'id': 'ind2'})\n",
    "    ])\n",
    "print individus "
   ]
  },
  {
   "cell_type": "code",
   "execution_count": 36,
   "metadata": {
    "collapsed": false
   },
   "outputs": [
    {
     "name": "stdout",
     "output_type": "stream",
     "text": [
      "OrderedDict([(0, {'conjoint': 'ind1', 'autres': [], 'enfants': ['ind2'], 'id': 0, 'personne_de_reference': 'ind0'})])\n"
     ]
    }
   ],
   "source": [
    "menages = OrderedDict([\n",
    "    (0, {'conjoint': 'ind1', 'autres': [], 'enfants': ['ind2'], 'id': 0, 'personne_de_reference': 'ind0'})\n",
    "    ])\n",
    "print menages"
   ]
  },
  {
   "cell_type": "code",
   "execution_count": 37,
   "metadata": {
    "collapsed": false
   },
   "outputs": [
    {
     "name": "stdout",
     "output_type": "stream",
     "text": [
      "OrderedDict([(0, {'parents': ['ind0', 'ind1'], 'enfants': ['ind2'], 'id': 0})])\n"
     ]
    }
   ],
   "source": [
    "familles = OrderedDict([\n",
    "    (0, {'enfants': ['ind2'], 'id': 0, 'parents': ['ind0', 'ind1']})\n",
    "    ])\n",
    "print familles"
   ]
  },
  {
   "cell_type": "code",
   "execution_count": 38,
   "metadata": {
    "collapsed": false
   },
   "outputs": [
    {
     "name": "stdout",
     "output_type": "stream",
     "text": [
      "OrderedDict([(0, {'personnes_a_charge': ['ind2'], 'declarants': ['ind0', 'ind1'], 'id': 0})])\n"
     ]
    }
   ],
   "source": [
    "foyers_fiscaux = OrderedDict([\n",
    "    (0, {'personnes_a_charge': ['ind2'], 'id': 0, 'declarants': ['ind0', 'ind1']})\n",
    "    ]) \n",
    "print foyers_fiscaux"
   ]
  },
  {
   "cell_type": "code",
   "execution_count": 39,
   "metadata": {
    "collapsed": false
   },
   "outputs": [],
   "source": [
    "test_case = {'individus' : individus, 'menages' : menages, 'familles' : familles, 'foyers_fiscaux' : foyers_fiscaux}"
   ]
  },
  {
   "cell_type": "code",
   "execution_count": 40,
   "metadata": {
    "collapsed": false
   },
   "outputs": [
    {
     "data": {
      "text/plain": [
       "openfisca_france.scenarios.Scenario"
      ]
     },
     "execution_count": 40,
     "metadata": {},
     "output_type": "execute_result"
    }
   ],
   "source": [
    "scenario = tax_benefit_system.new_scenario()\n",
    "type(scenario)"
   ]
  },
  {
   "cell_type": "code",
   "execution_count": 43,
   "metadata": {
    "collapsed": false
   },
   "outputs": [],
   "source": [
    "scenario.test_case = test_case\n",
    "from openfisca_core import periods\n",
    "scenario.period = periods.period(\"2014\")"
   ]
  },
  {
   "cell_type": "code",
   "execution_count": 59,
   "metadata": {
    "collapsed": false
   },
   "outputs": [
    {
     "ename": "TypeError",
     "evalue": "string indices must be integers, not unicode",
     "output_type": "error",
     "traceback": [
      "\u001b[0;31m---------------------------------------------------------------------------\u001b[0m\n\u001b[0;31mTypeError\u001b[0m                                 Traceback (most recent call last)",
      "\u001b[0;32m<ipython-input-59-25b5fffdec77>\u001b[0m in \u001b[0;36m<module>\u001b[0;34m()\u001b[0m\n\u001b[0;32m----> 1\u001b[0;31m \u001b[0msimulation\u001b[0m \u001b[0;34m=\u001b[0m \u001b[0mscenario\u001b[0m\u001b[0;34m.\u001b[0m\u001b[0mnew_simulation\u001b[0m\u001b[0;34m(\u001b[0m\u001b[0mdebug\u001b[0m \u001b[0;34m=\u001b[0m \u001b[0mTrue\u001b[0m\u001b[0;34m)\u001b[0m\u001b[0;34m\u001b[0m\u001b[0m\n\u001b[0m",
      "\u001b[0;32m/home/openfisca/openfisca-core/openfisca_core/scenarios.pyc\u001b[0m in \u001b[0;36mnew_simulation\u001b[0;34m(self, debug, debug_all, reference, trace)\u001b[0m\n\u001b[1;32m    309\u001b[0m             \u001b[0mtrace\u001b[0m \u001b[0;34m=\u001b[0m \u001b[0mtrace\u001b[0m\u001b[0;34m,\u001b[0m\u001b[0;34m\u001b[0m\u001b[0m\n\u001b[1;32m    310\u001b[0m             )\n\u001b[0;32m--> 311\u001b[0;31m         \u001b[0mself\u001b[0m\u001b[0;34m.\u001b[0m\u001b[0mfill_simulation\u001b[0m\u001b[0;34m(\u001b[0m\u001b[0msimulation\u001b[0m\u001b[0;34m)\u001b[0m\u001b[0;34m\u001b[0m\u001b[0m\n\u001b[0m\u001b[1;32m    312\u001b[0m         \u001b[0;32mreturn\u001b[0m \u001b[0msimulation\u001b[0m\u001b[0;34m\u001b[0m\u001b[0m\n\u001b[1;32m    313\u001b[0m \u001b[0;34m\u001b[0m\u001b[0m\n",
      "\u001b[0;32m/home/openfisca/openfisca-core/openfisca_core/scenarios.pyc\u001b[0m in \u001b[0;36mfill_simulation\u001b[0;34m(self, simulation, variables_name_to_skip)\u001b[0m\n\u001b[1;32m     89\u001b[0m         person_index_by_id = dict(\n\u001b[1;32m     90\u001b[0m             \u001b[0;34m(\u001b[0m\u001b[0mperson\u001b[0m\u001b[0;34m[\u001b[0m\u001b[0;34mu'id'\u001b[0m\u001b[0;34m]\u001b[0m\u001b[0;34m,\u001b[0m \u001b[0mperson_index\u001b[0m\u001b[0;34m)\u001b[0m\u001b[0;34m\u001b[0m\u001b[0m\n\u001b[0;32m---> 91\u001b[0;31m             \u001b[0;32mfor\u001b[0m \u001b[0mperson_index\u001b[0m\u001b[0;34m,\u001b[0m \u001b[0mperson\u001b[0m \u001b[0;32min\u001b[0m \u001b[0menumerate\u001b[0m\u001b[0;34m(\u001b[0m\u001b[0mtest_case\u001b[0m\u001b[0;34m[\u001b[0m\u001b[0mpersons\u001b[0m\u001b[0;34m.\u001b[0m\u001b[0mkey_plural\u001b[0m\u001b[0;34m]\u001b[0m\u001b[0;34m)\u001b[0m\u001b[0;34m\u001b[0m\u001b[0m\n\u001b[0m\u001b[1;32m     92\u001b[0m             )\n\u001b[1;32m     93\u001b[0m \u001b[0;34m\u001b[0m\u001b[0m\n",
      "\u001b[0;32m/home/openfisca/openfisca-core/openfisca_core/scenarios.pyc\u001b[0m in \u001b[0;36m<genexpr>\u001b[0;34m((person_index, person))\u001b[0m\n\u001b[1;32m     89\u001b[0m         person_index_by_id = dict(\n\u001b[1;32m     90\u001b[0m             \u001b[0;34m(\u001b[0m\u001b[0mperson\u001b[0m\u001b[0;34m[\u001b[0m\u001b[0;34mu'id'\u001b[0m\u001b[0;34m]\u001b[0m\u001b[0;34m,\u001b[0m \u001b[0mperson_index\u001b[0m\u001b[0;34m)\u001b[0m\u001b[0;34m\u001b[0m\u001b[0m\n\u001b[0;32m---> 91\u001b[0;31m             \u001b[0;32mfor\u001b[0m \u001b[0mperson_index\u001b[0m\u001b[0;34m,\u001b[0m \u001b[0mperson\u001b[0m \u001b[0;32min\u001b[0m \u001b[0menumerate\u001b[0m\u001b[0;34m(\u001b[0m\u001b[0mtest_case\u001b[0m\u001b[0;34m[\u001b[0m\u001b[0mpersons\u001b[0m\u001b[0;34m.\u001b[0m\u001b[0mkey_plural\u001b[0m\u001b[0;34m]\u001b[0m\u001b[0;34m)\u001b[0m\u001b[0;34m\u001b[0m\u001b[0m\n\u001b[0m\u001b[1;32m     92\u001b[0m             )\n\u001b[1;32m     93\u001b[0m \u001b[0;34m\u001b[0m\u001b[0m\n",
      "\u001b[0;31mTypeError\u001b[0m: string indices must be integers, not unicode"
     ]
    }
   ],
   "source": [
    "simulation = scenario.new_simulation(debug = True)"
   ]
  },
  {
   "cell_type": "code",
   "execution_count": 44,
   "metadata": {
    "collapsed": false
   },
   "outputs": [
    {
     "name": "stdout",
     "output_type": "stream",
     "text": [
      "revdisp [ 22231.69726562]\n",
      "impo [-1515.83874512]\n"
     ]
    }
   ],
   "source": [
    "variables = ['revdisp', 'impo'] #je peux completer cette liste par toutes les variables que je veux\n",
    "for variable in variables:\n",
    "    print variable, simulation.calculate(variable)"
   ]
  },
  {
   "cell_type": "markdown",
   "metadata": {},
   "source": [
    "## Part II : Scenario_3i_m_f_2ff"
   ]
  },
  {
   "cell_type": "markdown",
   "metadata": {},
   "source": [
    "###### Le jeune garçon décide de quitter le foyer fiscal de sa famille.   Je construis le scénario  Scenario_3i_m_f_2ff :  trois individus, un ménage, une famille, deux foyer fiscaux"
   ]
  },
  {
   "cell_type": "code",
   "execution_count": 3,
   "metadata": {
    "collapsed": false
   },
   "outputs": [
    {
     "ename": "NameError",
     "evalue": "name 'OrderedDict' is not defined",
     "output_type": "error",
     "traceback": [
      "\u001b[0;31m---------------------------------------------------------------------------\u001b[0m\n\u001b[0;31mNameError\u001b[0m                                 Traceback (most recent call last)",
      "\u001b[0;32m<ipython-input-3-688777181c44>\u001b[0m in \u001b[0;36m<module>\u001b[0;34m()\u001b[0m\n\u001b[0;32m----> 1\u001b[0;31m individus = OrderedDict([\n\u001b[0m\u001b[1;32m      2\u001b[0m     \u001b[0;34m(\u001b[0m\u001b[0;34m'ind0'\u001b[0m\u001b[0;34m,\u001b[0m \u001b[0;34m{\u001b[0m\u001b[0;34mu'salbrut'\u001b[0m\u001b[0;34m:\u001b[0m \u001b[0;36m24000.0\u001b[0m\u001b[0;34m,\u001b[0m \u001b[0;34m'birth'\u001b[0m\u001b[0;34m:\u001b[0m \u001b[0mdatetime\u001b[0m\u001b[0;34m.\u001b[0m\u001b[0mdate\u001b[0m\u001b[0;34m(\u001b[0m\u001b[0;36m1960\u001b[0m\u001b[0;34m,\u001b[0m \u001b[0;36m1\u001b[0m\u001b[0;34m,\u001b[0m \u001b[0;36m1\u001b[0m\u001b[0;34m)\u001b[0m\u001b[0;34m,\u001b[0m \u001b[0;34m'id'\u001b[0m\u001b[0;34m:\u001b[0m \u001b[0;34m'ind0'\u001b[0m\u001b[0;34m}\u001b[0m\u001b[0;34m)\u001b[0m\u001b[0;34m,\u001b[0m\u001b[0;34m\u001b[0m\u001b[0m\n\u001b[1;32m      3\u001b[0m     \u001b[0;34m(\u001b[0m\u001b[0;34m'ind1'\u001b[0m\u001b[0;34m,\u001b[0m \u001b[0;34m{\u001b[0m\u001b[0;34mu'salbrut'\u001b[0m\u001b[0;34m:\u001b[0m \u001b[0;36m23000.0\u001b[0m\u001b[0;34m,\u001b[0m \u001b[0;34m'birth'\u001b[0m\u001b[0;34m:\u001b[0m \u001b[0mdatetime\u001b[0m\u001b[0;34m.\u001b[0m\u001b[0mdate\u001b[0m\u001b[0;34m(\u001b[0m\u001b[0;36m1961\u001b[0m\u001b[0;34m,\u001b[0m \u001b[0;36m12\u001b[0m\u001b[0;34m,\u001b[0m \u001b[0;36m1\u001b[0m\u001b[0;34m)\u001b[0m\u001b[0;34m,\u001b[0m \u001b[0;34m'id'\u001b[0m\u001b[0;34m:\u001b[0m \u001b[0;34m'ind1'\u001b[0m\u001b[0;34m}\u001b[0m\u001b[0;34m)\u001b[0m\u001b[0;34m,\u001b[0m\u001b[0;34m\u001b[0m\u001b[0m\n\u001b[1;32m      4\u001b[0m     \u001b[0;34m(\u001b[0m\u001b[0;34m'ind2'\u001b[0m\u001b[0;34m,\u001b[0m \u001b[0;34m{\u001b[0m\u001b[0;34m'birth'\u001b[0m\u001b[0;34m:\u001b[0m \u001b[0mdatetime\u001b[0m\u001b[0;34m.\u001b[0m\u001b[0mdate\u001b[0m\u001b[0;34m(\u001b[0m\u001b[0;36m2005\u001b[0m\u001b[0;34m,\u001b[0m \u001b[0;36m1\u001b[0m\u001b[0;34m,\u001b[0m \u001b[0;36m1\u001b[0m\u001b[0;34m)\u001b[0m\u001b[0;34m,\u001b[0m \u001b[0;34m'id'\u001b[0m\u001b[0;34m:\u001b[0m \u001b[0;34m'ind2'\u001b[0m\u001b[0;34m}\u001b[0m\u001b[0;34m)\u001b[0m\u001b[0;34m\u001b[0m\u001b[0m\n\u001b[1;32m      5\u001b[0m     ])\n",
      "\u001b[0;31mNameError\u001b[0m: name 'OrderedDict' is not defined"
     ]
    }
   ],
   "source": [
    "individus = OrderedDict([\n",
    "    ('ind0', {u'salbrut': 24000.0, 'birth': datetime.date(1960, 1, 1), 'id': 'ind0'}), \n",
    "    ('ind1', {u'salbrut': 23000.0, 'birth': datetime.date(1961, 12, 1), 'id': 'ind1'}), \n",
    "    ('ind2', {'birth': datetime.date(2005, 1, 1), 'id': 'ind2'})\n",
    "    ])\n",
    "print individus "
   ]
  },
  {
   "cell_type": "code",
   "execution_count": 252,
   "metadata": {
    "collapsed": false
   },
   "outputs": [
    {
     "name": "stdout",
     "output_type": "stream",
     "text": [
      "OrderedDict([(0, {'conjoint': 'ind1', 'autres': [], 'enfants': ['ind2'], 'personne_de_reference': 'ind0'})])\n"
     ]
    }
   ],
   "source": [
    "menages = OrderedDict([\n",
    "    (0, {'conjoint': 'ind1', 'autres': [], 'enfants': ['ind2'], 'id': 0, 'personne_de_reference': 'ind0'})\n",
    "    ])\n",
    "print menages"
   ]
  },
  {
   "cell_type": "code",
   "execution_count": 253,
   "metadata": {
    "collapsed": false
   },
   "outputs": [
    {
     "name": "stdout",
     "output_type": "stream",
     "text": [
      "OrderedDict([(0, {'parents': ['ind0', 'ind1'], 'enfants': ['ind2']})])\n"
     ]
    }
   ],
   "source": [
    "familles = OrderedDict([\n",
    "    (0, {'enfants': ['ind2'], 'id': 0, 'parents': ['ind0', 'ind1']})\n",
    "    ])\n",
    "print familles"
   ]
  },
  {
   "cell_type": "code",
   "execution_count": 254,
   "metadata": {
    "collapsed": false
   },
   "outputs": [
    {
     "name": "stdout",
     "output_type": "stream",
     "text": [
      "OrderedDict([(0, {'declarants': ['ind0', 'ind1']})])\n"
     ]
    }
   ],
   "source": [
    "foyers_fiscaux_par = OrderedDict([\n",
    "    (0, {'personnes_a_charge': [], 'id': 0, 'declarants': ['ind0', 'ind1']})\n",
    "    ]) \n",
    "print foyers_fiscaux_par"
   ]
  },
  {
   "cell_type": "code",
   "execution_count": 255,
   "metadata": {
    "collapsed": false
   },
   "outputs": [
    {
     "name": "stdout",
     "output_type": "stream",
     "text": [
      "OrderedDict([(0, {'declarants': ['ind2']})])\n"
     ]
    }
   ],
   "source": [
    "foyers_fiscaux_enf = OrderedDict([\n",
    "    (0, {'personnes_a_charge': [], 'id': 0, 'declarants': ['ind2']})\n",
    "    ]) \n",
    "print foyers_fiscaux_enf"
   ]
  },
  {
   "cell_type": "markdown",
   "metadata": {},
   "source": [
    "###### Ici, j'ai créé deux foyers fiscaux : foyers_fiscaux_par pour les parents, avec deux déclarants (sans personne à charge)  et foyers_fiscaux_enf pour le jeune qui décide de devenir progressivement autonome"
   ]
  },
  {
   "cell_type": "code",
   "execution_count": 256,
   "metadata": {
    "collapsed": false
   },
   "outputs": [],
   "source": [
    "liste_2ff = [foyers_fiscaux_par, foyers_fiscaux_enf]"
   ]
  },
  {
   "cell_type": "code",
   "execution_count": 257,
   "metadata": {
    "collapsed": false
   },
   "outputs": [],
   "source": [
    "test_case_3i_m_f_2ff = {'individus' : individus, 'menages' : menages, 'familles' : familles,  \n",
    "             'foyers_fiscaux' : liste_2ff}"
   ]
  },
  {
   "cell_type": "markdown",
   "metadata": {},
   "source": [
    "###### Dans le test_case, cette fois je rajoute les deux foyers_fiscaux "
   ]
  },
  {
   "cell_type": "code",
   "execution_count": 258,
   "metadata": {
    "collapsed": false
   },
   "outputs": [
    {
     "data": {
      "text/plain": [
       "openfisca_france.scenarios.Scenario"
      ]
     },
     "execution_count": 258,
     "metadata": {},
     "output_type": "execute_result"
    }
   ],
   "source": [
    "scenario_3i_m_f_2ff = tax_benefit_system.new_scenario()\n",
    "type(scenario_3i_m_f_2ff)"
   ]
  },
  {
   "cell_type": "code",
   "execution_count": 259,
   "metadata": {
    "collapsed": false
   },
   "outputs": [],
   "source": [
    "scenario.test_case = test_case_3i_m_f_2ff\n",
    "from openfisca_core import periods\n",
    "scenario.period = periods.period(\"2014\")"
   ]
  },
  {
   "cell_type": "code",
   "execution_count": 260,
   "metadata": {
    "collapsed": false
   },
   "outputs": [
    {
     "ename": "AttributeError",
     "evalue": "'list' object has no attribute 'itervalues'",
     "output_type": "error",
     "traceback": [
      "\u001b[0;31m---------------------------------------------------------------------------\u001b[0m\n\u001b[0;31mAttributeError\u001b[0m                            Traceback (most recent call last)",
      "\u001b[0;32m<ipython-input-260-011549bf84b4>\u001b[0m in \u001b[0;36m<module>\u001b[0;34m()\u001b[0m\n\u001b[0;32m----> 1\u001b[0;31m \u001b[0msimulation\u001b[0m \u001b[0;34m=\u001b[0m \u001b[0mscenario\u001b[0m\u001b[0;34m.\u001b[0m\u001b[0mnew_simulation\u001b[0m\u001b[0;34m(\u001b[0m\u001b[0;34m)\u001b[0m\u001b[0;34m\u001b[0m\u001b[0m\n\u001b[0m",
      "\u001b[0;32m/home/openfisca/openfisca-core/openfisca_core/scenarios.pyc\u001b[0m in \u001b[0;36mnew_simulation\u001b[0;34m(self, debug, debug_all, reference, trace)\u001b[0m\n\u001b[1;32m    360\u001b[0m             \u001b[0mtrace\u001b[0m \u001b[0;34m=\u001b[0m \u001b[0mtrace\u001b[0m\u001b[0;34m,\u001b[0m\u001b[0;34m\u001b[0m\u001b[0m\n\u001b[1;32m    361\u001b[0m             )\n\u001b[0;32m--> 362\u001b[0;31m         \u001b[0mself\u001b[0m\u001b[0;34m.\u001b[0m\u001b[0mfill_simulation\u001b[0m\u001b[0;34m(\u001b[0m\u001b[0msimulation\u001b[0m\u001b[0;34m)\u001b[0m\u001b[0;34m\u001b[0m\u001b[0m\n\u001b[0m\u001b[1;32m    363\u001b[0m         \u001b[0;32mreturn\u001b[0m \u001b[0msimulation\u001b[0m\u001b[0;34m\u001b[0m\u001b[0m\n\u001b[1;32m    364\u001b[0m \u001b[0;34m\u001b[0m\u001b[0m\n",
      "\u001b[0;32m/home/openfisca/openfisca-core/openfisca_core/scenarios.pyc\u001b[0m in \u001b[0;36mfill_simulation\u001b[0;34m(self, simulation, variables_name_to_skip)\u001b[0m\n\u001b[1;32m     99\u001b[0m             persons.get_or_new_holder(entity.role_for_person_variable_name).array = person_entity_role_array = np.empty(\n\u001b[1;32m    100\u001b[0m                 steps_count * persons.step_size, dtype = column_by_name[entity.role_for_person_variable_name].dtype)\n\u001b[0;32m--> 101\u001b[0;31m             \u001b[0;32mfor\u001b[0m \u001b[0mmember_index\u001b[0m\u001b[0;34m,\u001b[0m \u001b[0mmember\u001b[0m \u001b[0;32min\u001b[0m \u001b[0menumerate\u001b[0m\u001b[0;34m(\u001b[0m\u001b[0mtest_case\u001b[0m\u001b[0;34m[\u001b[0m\u001b[0mentity_key_plural\u001b[0m\u001b[0;34m]\u001b[0m\u001b[0;34m.\u001b[0m\u001b[0mitervalues\u001b[0m\u001b[0;34m(\u001b[0m\u001b[0;34m)\u001b[0m\u001b[0;34m)\u001b[0m\u001b[0;34m:\u001b[0m\u001b[0;34m\u001b[0m\u001b[0m\n\u001b[0m\u001b[1;32m    102\u001b[0m                 \u001b[0;32mfor\u001b[0m \u001b[0mperson_role\u001b[0m\u001b[0;34m,\u001b[0m \u001b[0mperson_id\u001b[0m \u001b[0;32min\u001b[0m \u001b[0mentity\u001b[0m\u001b[0;34m.\u001b[0m\u001b[0miter_member_persons_role_and_id\u001b[0m\u001b[0;34m(\u001b[0m\u001b[0mmember\u001b[0m\u001b[0;34m)\u001b[0m\u001b[0;34m:\u001b[0m\u001b[0;34m\u001b[0m\u001b[0m\n\u001b[1;32m    103\u001b[0m                     \u001b[0mperson_index\u001b[0m \u001b[0;34m=\u001b[0m \u001b[0mperson_index_by_id\u001b[0m\u001b[0;34m[\u001b[0m\u001b[0mperson_id\u001b[0m\u001b[0;34m]\u001b[0m\u001b[0;34m\u001b[0m\u001b[0m\n",
      "\u001b[0;31mAttributeError\u001b[0m: 'list' object has no attribute 'itervalues'"
     ]
    }
   ],
   "source": [
    "simulation = scenario.new_simulation()"
   ]
  },
  {
   "cell_type": "code",
   "execution_count": 235,
   "metadata": {
    "collapsed": false
   },
   "outputs": [
    {
     "name": "stdout",
     "output_type": "stream",
     "text": [
      "revdisp [ 41352.609375]\n",
      "impo [-4907.14355469]\n"
     ]
    }
   ],
   "source": [
    "variables = ['revdisp', 'impo'] #je peux completer cette liste par toutes les variables que je veux\n",
    "for variable in variables:\n",
    "    print variable, simulation.calculate(variable)"
   ]
  },
  {
   "cell_type": "markdown",
   "metadata": {},
   "source": [
    "###### Conclusion : perte ou gain fiscal ?"
   ]
  },
  {
   "cell_type": "code",
   "execution_count": null,
   "metadata": {
    "collapsed": false
   },
   "outputs": [],
   "source": []
  },
  {
   "cell_type": "code",
   "execution_count": null,
   "metadata": {
    "collapsed": false
   },
   "outputs": [],
   "source": []
  },
  {
   "cell_type": "code",
   "execution_count": null,
   "metadata": {
    "collapsed": false
   },
   "outputs": [],
   "source": []
  },
  {
   "cell_type": "markdown",
   "metadata": {},
   "source": [
    "## Scenario_3i_2m_f_2ff : trois individus, deux ménages, une famille, deux foyer fiscaux"
   ]
  },
  {
   "cell_type": "markdown",
   "metadata": {},
   "source": [
    "###### Et maintenant le jeune garçon part faire ses études dans une autre ville. Je créé le scénario "
   ]
  },
  {
   "cell_type": "code",
   "execution_count": null,
   "metadata": {
    "collapsed": false
   },
   "outputs": [],
   "source": [
    "individus = OrderedDict([\n",
    "    ('ind0', {u'salbrut': 24000.0, 'birth': datetime.date(1960, 1, 1)}), \n",
    "    ('ind1', {u'salbrut': 23000.0, 'birth': datetime.date(1961, 12, 1)}), \n",
    "    ('ind2', {'birth': datetime.date(2005, 1, 1)})\n",
    "    ])\n",
    "print individus "
   ]
  },
  {
   "cell_type": "code",
   "execution_count": null,
   "metadata": {
    "collapsed": false
   },
   "outputs": [],
   "source": [
    "menages_par = OrderedDict([\n",
    "    (0, {'conjoint': 'ind1', 'autres': [], 'enfants': [], 'personne_de_reference': 'ind0'})\n",
    "    ])\n",
    "print menages_par"
   ]
  },
  {
   "cell_type": "code",
   "execution_count": null,
   "metadata": {
    "collapsed": false
   },
   "outputs": [],
   "source": [
    "menages_enf = OrderedDict([\n",
    "    (0, {'conjoint': [], 'autres': [], 'enfants': [], 'personne_de_reference': 'ind2'})\n",
    "    ])\n",
    "print menages_enf"
   ]
  },
  {
   "cell_type": "markdown",
   "metadata": {},
   "source": [
    "###### Ici, je créé deux ménages car le jeune a décidé de devenir entièrement autonome : il a quitté le foyer fiscal dans le scénario 2     et maintenant il quitte aussi le ménage familial"
   ]
  },
  {
   "cell_type": "code",
   "execution_count": null,
   "metadata": {
    "collapsed": false
   },
   "outputs": [],
   "source": [
    "familles = OrderedDict([\n",
    "    (0, {'enfants': ['ind2'], 'parents': ['ind0', 'ind1']})\n",
    "    ])\n",
    "print familles"
   ]
  },
  {
   "cell_type": "code",
   "execution_count": null,
   "metadata": {
    "collapsed": false
   },
   "outputs": [],
   "source": [
    "foyers_fiscaux_par = OrderedDict([\n",
    "    (0, {'personnes_a_charge': [], 'declarants': ['ind0', 'ind1']})\n",
    "    ]) \n",
    "print foyers_fiscaux_par"
   ]
  },
  {
   "cell_type": "code",
   "execution_count": null,
   "metadata": {
    "collapsed": false
   },
   "outputs": [],
   "source": [
    "foyers_fiscaux_enf = OrderedDict([\n",
    "    (0, {'personnes_a_charge': [], 'declarants': ['ind2']})\n",
    "    ]) \n",
    "print foyers_fiscaux_enf"
   ]
  },
  {
   "cell_type": "markdown",
   "metadata": {},
   "source": [
    "###### toujours deux foyers fiscaux"
   ]
  },
  {
   "cell_type": "markdown",
   "metadata": {},
   "source": [
    "###### Je créé une liste ou pas ? je sais pas encore..."
   ]
  },
  {
   "cell_type": "code",
   "execution_count": null,
   "metadata": {
    "collapsed": false
   },
   "outputs": [],
   "source": [
    "test_case_3i_2m_f_2ff = {'individus' : individus, 'menages' : ['menages_par', 'menages_enf'], 'familles' : familles, \n",
    "             'foyers_fiscaux' : ['foyers_fiscaux_par', 'foyers_fiscaux_enf']}"
   ]
  },
  {
   "cell_type": "code",
   "execution_count": null,
   "metadata": {
    "collapsed": false
   },
   "outputs": [],
   "source": [
    "scenario_3i_2m_f_2ff = tax_benefit_system.new_scenario()\n",
    "type(scenario_3i_2m_f_2ff)"
   ]
  },
  {
   "cell_type": "code",
   "execution_count": null,
   "metadata": {
    "collapsed": false
   },
   "outputs": [],
   "source": [
    "scenario.test_case = test_case_3i_2m_f_2ff\n",
    "from openfisca_core import periods\n",
    "scenario.period = periods.period(\"2014\")"
   ]
  },
  {
   "cell_type": "code",
   "execution_count": null,
   "metadata": {
    "collapsed": false
   },
   "outputs": [],
   "source": [
    "simulation = scenario.new_simulation()"
   ]
  },
  {
   "cell_type": "code",
   "execution_count": null,
   "metadata": {
    "collapsed": false
   },
   "outputs": [],
   "source": [
    "variables = ['revdisp', 'impo'] #je peux completer cette liste par toutes les variables que je veux\n",
    "for variable in variables:\n",
    "    print variable, simulation.calculate(variable)"
   ]
  },
  {
   "cell_type": "markdown",
   "metadata": {},
   "source": [
    "###### Conclusion : perte ou gain fiscal ?"
   ]
  },
  {
   "cell_type": "code",
   "execution_count": null,
   "metadata": {
    "collapsed": false
   },
   "outputs": [],
   "source": []
  },
  {
   "cell_type": "code",
   "execution_count": null,
   "metadata": {
    "collapsed": false
   },
   "outputs": [],
   "source": []
  },
  {
   "cell_type": "code",
   "execution_count": null,
   "metadata": {
    "collapsed": false
   },
   "outputs": [],
   "source": []
  }
 ],
 "metadata": {
  "kernelspec": {
   "display_name": "Python 2",
   "language": "python",
   "name": "python2"
  },
  "language_info": {
   "codemirror_mode": {
    "name": "ipython",
    "version": 2
   },
   "file_extension": ".py",
   "mimetype": "text/x-python",
   "name": "python",
   "nbconvert_exporter": "python",
   "pygments_lexer": "ipython2",
   "version": "2.7.12"
  }
 },
 "nbformat": 4,
 "nbformat_minor": 0
}
