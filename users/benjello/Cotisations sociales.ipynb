{
 "cells": [
  {
   "cell_type": "markdown",
   "metadata": {},
   "source": [
    "# Coût du travail et salaire net"
   ]
  },
  {
   "cell_type": "code",
   "execution_count": 1,
   "metadata": {
    "collapsed": false
   },
   "outputs": [],
   "source": [
    "%matplotlib inline\n",
    "import matplotlib.pyplot as plt\n",
    "from openfisca_matplotlib import graphs\n",
    "from __future__ import division"
   ]
  },
  {
   "cell_type": "code",
   "execution_count": 3,
   "metadata": {
    "collapsed": false
   },
   "outputs": [],
   "source": [
    "from datetime import date  # module nécessaire pour la définition des dates, dont notamment les dates de naissances\n",
    "import openfisca_france    # module décrivant le système socio-fiscal français\n",
    "\n",
    "TaxBenefitSystem = openfisca_france.FranceTaxBenefitSystem  # Initialisation de la classe décrivant le système socio-fiscal français\n",
    "tax_benefit_system = TaxBenefitSystem()  # Création d'une instance du système socio-fiscal français "
   ]
  },
  {
   "cell_type": "code",
   "execution_count": 4,
   "metadata": {
    "collapsed": false
   },
   "outputs": [],
   "source": [
    "year = 2010\n",
    "period = \"{}-01\".format(year)\n",
    "salaire_minimal = 1500\n",
    "salaire_max = 8000"
   ]
  },
  {
   "cell_type": "code",
   "execution_count": 6,
   "metadata": {
    "collapsed": false
   },
   "outputs": [],
   "source": [
    "simulation = tax_benefit_system.new_scenario().init_single_entity(\n",
    "    axes = [\n",
    "        dict(\n",
    "            count = 100,\n",
    "            min = salaire_minimal,\n",
    "            max = salaire_max,\n",
    "            name = 'salaire_de_base',\n",
    "            ),\n",
    "        ],\n",
    "    period = period,\n",
    "    parent1 = dict(\n",
    "        date_naissance = date(1980, 1, 1),\n",
    "        categorie_salarie = 1,\n",
    "        taille_entreprise = 2,\n",
    "        exposition_accident = 2,\n",
    "        allegement_fillon_mode_recouvrement =1,\n",
    "        ),\n",
    "    ).new_simulation()\n"
   ]
  },
  {
   "cell_type": "markdown",
   "metadata": {},
   "source": [
    "## Salaires superbut, brut, net et revenu disponible"
   ]
  },
  {
   "cell_type": "code",
   "execution_count": 15,
   "metadata": {
    "collapsed": false
   },
   "outputs": [],
   "source": [
    "salaire_super_brut = simulation.calculate('salaire_super_brut', period = period)\n",
    "salaire_brut = simulation.calculate('salaire_de_base', period = period)\n",
    "salaire_net = simulation.calculate('salaire_net', period = period)\n",
    "salaire_net_a_payer = simulation.calculate('salaire_net_a_payer', period = period)\n",
    "salaire_imposable = simulation.calculate('salaire_imposable', period = period)\n",
    "# TODO look at coût du travail etc there migh have been some changes"
   ]
  },
  {
   "cell_type": "code",
   "execution_count": 16,
   "metadata": {
    "collapsed": false
   },
   "outputs": [
    {
     "data": {
      "text/plain": [
       "<matplotlib.legend.Legend at 0x7fe53848fb90>"
      ]
     },
     "execution_count": 16,
     "metadata": {},
     "output_type": "execute_result"
    },
    {
     "data": {
      "image/png": "[encoded data removed]",
      "text/plain": [
       "<matplotlib.figure.Figure at 0x7fe51e993e90>"
      ]
     },
     "metadata": {},
     "output_type": "display_data"
    }
   ],
   "source": [
    "fig = plt.figure()\n",
    "plt.plot(salaire_brut, salaire_super_brut, label = \"superbrut\")\n",
    "plt.plot(salaire_brut, salaire_brut, label = \"brut\")\n",
    "plt.plot(salaire_brut, salaire_net, label = \"net\")\n",
    "plt.plot(salaire_brut, salaire_imposable, label = \"imposable\")\n",
    "plt.plot(salaire_brut, salaire_net_a_payer, label = u\"net à payer\")\n",
    "plt.legend(loc = 0, shadow=True, fancybox=True)"
   ]
  },
  {
   "cell_type": "code",
   "execution_count": 20,
   "metadata": {
    "collapsed": false
   },
   "outputs": [],
   "source": [
    "taux_salarie = 1 - salaire_net / salaire_brut  \n",
    "taux_employeur = salaire_super_brut / salaire_brut - 1 "
   ]
  },
  {
   "cell_type": "code",
   "execution_count": 21,
   "metadata": {
    "collapsed": false
   },
   "outputs": [
    {
     "name": "stdout",
     "output_type": "stream",
     "text": [
      "[ 0.24349332  0.27060735  0.29550862  0.31846952  0.33972323]\n",
      "[ 10910.18847656  11002.36523438  11094.52148438  11186.70800781  11278.875     ]\n",
      "[ 7737.37353516  7803.03027344  7868.68701172  7934.34326172  8000.        ]\n"
     ]
    },
    {
     "data": {
      "text/plain": [
       "array([ 0.24349332,  0.27060735,  0.29550862,  0.31846952,  0.33972323,\n",
       "        0.35942137,  0.37779069,  0.39490402,  0.41086185,  0.42594075,\n",
       "        0.43858087,  0.43804502,  0.43753982,  0.43706298,  0.43662012,\n",
       "        0.43618464,  0.4357872 ,  0.43540597,  0.43503964,  0.43469441,\n",
       "        0.43436182,  0.43404782,  0.43086064,  0.42752552,  0.42433274,\n",
       "        0.42126417,  0.4188261 ,  0.41852403,  0.41823387,  0.41796362,\n",
       "        0.41769505,  0.4174335 ,  0.41718984,  0.41695225,  0.41672564,\n",
       "        0.41650164,  0.4162854 ,  0.41607869,  0.41587389,  0.41567802,\n",
       "        0.41549826,  0.41531456,  0.41513181,  0.41496158,  0.41479862,\n",
       "        0.41463375,  0.41448045,  0.41432488,  0.41417575,  0.41403723,\n",
       "        0.41389418,  0.41376543,  0.41362965,  0.41349769,  0.41337705,\n",
       "        0.41324961,  0.41313529,  0.41301799,  0.41289973,  0.41278994,\n",
       "        0.41268659,  0.41258025,  0.41247642,  0.41237485,  0.41227591,\n",
       "        0.41218078,  0.4120878 ,  0.41199863,  0.41190946,  0.41181922,\n",
       "        0.4117341 ,  0.41165245,  0.41156948,  0.41148961,  0.41140974,\n",
       "        0.41132855,  0.41125679,  0.41118169,  0.41110981,  0.41103768,\n",
       "        0.41096854,  0.41089916,  0.41083109,  0.41076863,  0.41070461,\n",
       "        0.4106375 ,  0.41057575,  0.41051507,  0.41045558,  0.4103986 ,\n",
       "        0.41034114,  0.4102807 ,  0.41022539,  0.41016972,  0.4101187 ,\n",
       "        0.41006351,  0.41001189,  0.40995836,  0.40990973,  0.40985942], dtype=float32)"
      ]
     },
     "execution_count": 21,
     "metadata": {},
     "output_type": "execute_result"
    }
   ],
   "source": [
    "print (salaire_super_brut[:5] /salaire_brut[:5]) - 1\n",
    "print salaire_super_brut[-5:]\n",
    "print salaire_brut[-5:]\n",
    "taux_employeur"
   ]
  },
  {
   "cell_type": "code",
   "execution_count": 24,
   "metadata": {
    "collapsed": false
   },
   "outputs": [
    {
     "data": {
      "text/plain": [
       "(0, 0.5)"
      ]
     },
     "execution_count": 24,
     "metadata": {},
     "output_type": "execute_result"
    },
    {
     "data": {
      "image/png": "[encoded data removed]",
      "text/plain": [
       "<matplotlib.figure.Figure at 0x7fe51b0e6f90>"
      ]
     },
     "metadata": {},
     "output_type": "display_data"
    }
   ],
   "source": [
    "fig = plt.figure()\n",
    "plt.plot(salaire_brut, taux_salarie, label = u\"Taux salarié\")\n",
    "plt.plot(salaire_brut, taux_employeur, label = \"Taux employeur\")\n",
    "plt.legend(loc = 0, shadow=True, fancybox=True)\n",
    "plt.ylim([0,.5])"
   ]
  },
  {
   "cell_type": "code",
   "execution_count": 26,
   "metadata": {
    "collapsed": false
   },
   "outputs": [
    {
     "data": {
      "text/plain": [
       "array([ 0.44649336,  0.44540724,  0.44440868,  0.44346961,  0.44262326,\n",
       "        0.44182128,  0.4410907 ,  0.440404  ,  0.43976188,  0.43914086,\n",
       "        0.4385809 ,  0.43804502,  0.43753985,  0.43706292,  0.43662012,\n",
       "        0.43618467,  0.43578723,  0.43540597,  0.43503967,  0.43469444,\n",
       "        0.43436188,  0.43404788,  0.43086058,  0.42752552,  0.42433286,\n",
       "        0.42126414,  0.41882613,  0.41852403,  0.41823384,  0.41796362,\n",
       "        0.41769502,  0.41743347,  0.41718987,  0.41695225,  0.4167257 ,\n",
       "        0.4165017 ,  0.41628528,  0.41607869,  0.41587389,  0.41567811,\n",
       "        0.41549829,  0.41531453,  0.41513178,  0.41496149,  0.41479862,\n",
       "        0.41463378,  0.41448033,  0.41432485,  0.41417581,  0.41403729,\n",
       "        0.41389427,  0.41376537,  0.41362971,  0.41349772,  0.41337705,\n",
       "        0.41324961,  0.41313523,  0.4130179 ,  0.41289973,  0.41278997,\n",
       "        0.41268659,  0.41258028,  0.41247636,  0.41237488,  0.41227582,\n",
       "        0.41218072,  0.41208771,  0.41199851,  0.41190955,  0.41181925,\n",
       "        0.41173416,  0.41165251,  0.41156942,  0.41148958,  0.41140985,\n",
       "        0.41132864,  0.41125676,  0.41118175,  0.41110978,  0.41103768,\n",
       "        0.41096845,  0.41089913,  0.41083115,  0.41076869,  0.41070458,\n",
       "        0.41063741,  0.41057569,  0.41051513,  0.41045564,  0.41039857,\n",
       "        0.41034114,  0.41028076,  0.41022536,  0.41016963,  0.41011873,\n",
       "        0.41006359,  0.41001186,  0.40995848,  0.40990975,  0.40985936], dtype=float32)"
      ]
     },
     "execution_count": 26,
     "metadata": {},
     "output_type": "execute_result"
    }
   ],
   "source": [
    "- simulation.calculate('cotisations_employeur', period = period) / simulation.calculate('salaire_de_base', period = period)"
   ]
  },
  {
   "cell_type": "code",
   "execution_count": 28,
   "metadata": {
    "collapsed": false
   },
   "outputs": [
    {
     "data": {
      "text/plain": [
       "array([ 0.44649336,  0.44540724,  0.44440868,  0.44346961,  0.44262326,\n",
       "        0.44182128,  0.4410907 ,  0.440404  ,  0.43976188,  0.43914086,\n",
       "        0.4385809 ,  0.43804502,  0.43753985,  0.43706292,  0.43662012,\n",
       "        0.43618467,  0.43578723,  0.43540597,  0.43503967,  0.43469444,\n",
       "        0.43436188,  0.43404788,  0.43086058,  0.42752552,  0.42433286,\n",
       "        0.42126414,  0.41882613,  0.41852403,  0.41823384,  0.41796362,\n",
       "        0.41769502,  0.41743347,  0.41718987,  0.41695225,  0.4167257 ,\n",
       "        0.4165017 ,  0.41628528,  0.41607869,  0.41587389,  0.41567811,\n",
       "        0.41549829,  0.41531453,  0.41513178,  0.41496149,  0.41479862,\n",
       "        0.41463378,  0.41448033,  0.41432485,  0.41417581,  0.41403729,\n",
       "        0.41389427,  0.41376537,  0.41362971,  0.41349772,  0.41337705,\n",
       "        0.41324961,  0.41313523,  0.4130179 ,  0.41289973,  0.41278997,\n",
       "        0.41268659,  0.41258028,  0.41247636,  0.41237488,  0.41227582,\n",
       "        0.41218072,  0.41208771,  0.41199851,  0.41190955,  0.41181925,\n",
       "        0.41173416,  0.41165251,  0.41156942,  0.41148958,  0.41140985,\n",
       "        0.41132864,  0.41125676,  0.41118175,  0.41110978,  0.41103768,\n",
       "        0.41096845,  0.41089913,  0.41083115,  0.41076869,  0.41070458,\n",
       "        0.41063741,  0.41057569,  0.41051513,  0.41045564,  0.41039857,\n",
       "        0.41034114,  0.41028076,  0.41022536,  0.41016963,  0.41011873,\n",
       "        0.41006359,  0.41001186,  0.40995848,  0.40990975,  0.40985936], dtype=float32)"
      ]
     },
     "execution_count": 28,
     "metadata": {},
     "output_type": "execute_result"
    }
   ],
   "source": [
    "- simulation.calculate('cotisations_employeur', period = period) / simulation.calculate('salaire_de_base', period = period)"
   ]
  },
  {
   "cell_type": "code",
   "execution_count": 12,
   "metadata": {
    "collapsed": false
   },
   "outputs": [],
   "source": []
  },
  {
   "cell_type": "code",
   "execution_count": 12,
   "metadata": {
    "collapsed": false
   },
   "outputs": [],
   "source": []
  },
  {
   "cell_type": "code",
   "execution_count": null,
   "metadata": {
    "collapsed": false
   },
   "outputs": [],
   "source": []
  }
 ],
 "metadata": {
  "kernelspec": {
   "display_name": "Python 2",
   "language": "python",
   "name": "python2"
  },
  "language_info": {
   "codemirror_mode": {
    "name": "ipython",
    "version": 2
   },
   "file_extension": ".py",
   "mimetype": "text/x-python",
   "name": "python",
   "nbconvert_exporter": "python",
   "pygments_lexer": "ipython2",
   "version": "2.7.14+"
  }
 },
 "nbformat": 4,
 "nbformat_minor": 0
}
