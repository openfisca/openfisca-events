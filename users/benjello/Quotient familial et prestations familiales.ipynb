{
 "cells": [
  {
   "cell_type": "markdown",
   "metadata": {},
   "source": [
    "# Sur les avantages familiaux"
   ]
  },
  {
   "cell_type": "code",
   "execution_count": 1,
   "metadata": {
    "collapsed": false
   },
   "outputs": [],
   "source": [
    "%matplotlib inline\n",
    "import matplotlib.pyplot as plt"
   ]
  },
  {
   "cell_type": "code",
   "execution_count": 2,
   "metadata": {
    "collapsed": false,
    "slideshow": {
     "slide_type": "slide"
    }
   },
   "outputs": [],
   "source": [
    "from datetime import date  # Module nécessaire pour la définition des dates, dont notamment les dates de naissances\n",
    "import openfisca_france    # Module décrivant le système socio-fiscal français\n",
    "\n",
    "TaxBenefitSystem = openfisca_france.init_country()  # Initialisation de la classe décrivant le système socio-fiscal français\n",
    "tax_benefit_system = TaxBenefitSystem()             # Création d'une instance du système socio-fiscal français "
   ]
  },
  {
   "cell_type": "code",
   "execution_count": 3,
   "metadata": {
    "collapsed": false
   },
   "outputs": [
    {
     "name": "stdout",
     "output_type": "stream",
     "text": [
      "['a']\n",
      "['a', 'a']\n",
      "['a', 'a', 'a', 'a', 'a', 'a', 'a', 'a', 'a', 'a']\n",
      "[]\n"
     ]
    }
   ],
   "source": [
    "ma_liste = [\"a\"]\n",
    "print ma_liste\n",
    "print ma_liste * 2\n",
    "print ma_liste * 10\n",
    "print ma_liste * 0"
   ]
  },
  {
   "cell_type": "code",
   "execution_count": 4,
   "metadata": {
    "collapsed": false
   },
   "outputs": [],
   "source": [
    "def couple_avec_enfants(nombre_enfants = 0, year = 2014):\n",
    "    enfant = [dict(\n",
    "        birth = date(2005, 1, 1),\n",
    "        )]\n",
    "    enfants = enfant * nombre_enfants\n",
    "    simulation = tax_benefit_system.new_scenario().init_single_entity(\n",
    "        axes = [\n",
    "            dict(\n",
    "                count = 100,\n",
    "                min = 0,\n",
    "                max = 200000 * 3,\n",
    "                name = 'sal',\n",
    "                ),\n",
    "            ],\n",
    "        period = \"{}:3\".format(year-2),\n",
    "        parent1 = dict(\n",
    "            birth = date(1980, 1, 1),\n",
    "            ),\n",
    "        parent2 = dict(\n",
    "            birth = date(1980, 1, 1)\n",
    "            ),\n",
    "        enfants = enfants,\n",
    "        menage = dict(\n",
    "            loyer = 1000,\n",
    "            so = 4,\n",
    "            ),\n",
    "        ).new_simulation(debug = True)\n",
    "    return simulation"
   ]
  },
  {
   "cell_type": "code",
   "execution_count": 5,
   "metadata": {
    "collapsed": false
   },
   "outputs": [
    {
     "data": {
      "text/plain": [
       "[{'birth': datetime.date(2005, 1, 1)}, {'birth': datetime.date(2005, 1, 1)}]"
      ]
     },
     "execution_count": 5,
     "metadata": {},
     "output_type": "execute_result"
    }
   ],
   "source": [
    "enfant = [dict(\n",
    "        birth = date(2005, 1, 1),\n",
    "        )]\n",
    "enfants = enfant * 2\n",
    "enfants"
   ]
  },
  {
   "cell_type": "code",
   "execution_count": 6,
   "metadata": {
    "collapsed": false
   },
   "outputs": [],
   "source": [
    "year = 2014  # de 2011 à 2014\n",
    "couple_0_enfant = couple_avec_enfants(nombre_enfants = 0, year = year)\n",
    "couple_1_enfant = couple_avec_enfants(nombre_enfants = 1, year = year)\n",
    "couple_2_enfant = couple_avec_enfants(nombre_enfants = 2, year = year)\n",
    "couple_3_enfant = couple_avec_enfants(nombre_enfants = 3, year = year)"
   ]
  },
  {
   "cell_type": "code",
   "execution_count": 7,
   "metadata": {
    "collapsed": false
   },
   "outputs": [
    {
     "data": {
      "text/plain": [
       "array([      0.        ,       0.        ,    2020.20202637,\n",
       "             0.        ,    4040.40405273,       0.        ,\n",
       "          6060.60595703,       0.        ,    8080.80810547,\n",
       "             0.        ,   10101.01074219,       0.        ,\n",
       "         12121.21191406,       0.        ,   14141.4140625 ,\n",
       "             0.        ,   16161.61621094,       0.        ,\n",
       "         18181.81835938,       0.        ,   20202.02148438,\n",
       "             0.        ,   22222.22070312,       0.        ,\n",
       "         24242.42382812,       0.        ,   26262.625     ,\n",
       "             0.        ,   28282.828125  ,       0.        ,\n",
       "         30303.03125   ,       0.        ,   32323.23242188,\n",
       "             0.        ,   34343.43359375,       0.        ,\n",
       "         36363.63671875,       0.        ,   38383.83984375,\n",
       "             0.        ,   40404.04296875,       0.        ,\n",
       "         42424.2421875 ,       0.        ,   44444.44140625,\n",
       "             0.        ,   46464.64453125,       0.        ,\n",
       "         48484.84765625,       0.        ,   50505.05078125,\n",
       "             0.        ,   52525.25      ,       0.        ,\n",
       "         54545.453125  ,       0.        ,   56565.65625   ,\n",
       "             0.        ,   58585.859375  ,       0.        ,\n",
       "         60606.0625    ,       0.        ,   62626.26171875,\n",
       "             0.        ,   64646.46484375,       0.        ,\n",
       "         66666.6640625 ,       0.        ,   68686.8671875 ,\n",
       "             0.        ,   70707.0703125 ,       0.        ,\n",
       "         72727.2734375 ,       0.        ,   74747.4765625 ,\n",
       "             0.        ,   76767.6796875 ,       0.        ,\n",
       "         78787.8828125 ,       0.        ,   80808.0859375 ,\n",
       "             0.        ,   82828.28125   ,       0.        ,\n",
       "         84848.484375  ,       0.        ,   86868.6875    ,\n",
       "             0.        ,   88888.8828125 ,       0.        ,\n",
       "         90909.09375   ,       0.        ,   92929.2890625 ,\n",
       "             0.        ,   94949.5       ,       0.        ,\n",
       "         96969.6953125 ,       0.        ,   98989.8984375 ,\n",
       "             0.        ,  101010.1015625 ,       0.        ,\n",
       "        103030.3046875 ,       0.        ,  105050.5       ,\n",
       "             0.        ,  107070.7109375 ,       0.        ,\n",
       "        109090.90625   ,       0.        ,  111111.1171875 ,\n",
       "             0.        ,  113131.3125    ,       0.        ,\n",
       "        115151.5078125 ,       0.        ,  117171.71875   ,\n",
       "             0.        ,  119191.9140625 ,       0.        ,\n",
       "        121212.125     ,       0.        ,  123232.3203125 ,\n",
       "             0.        ,  125252.5234375 ,       0.        ,\n",
       "        127272.7265625 ,       0.        ,  129292.9296875 ,\n",
       "             0.        ,  131313.140625  ,       0.        ,\n",
       "        133333.328125  ,       0.        ,  135353.53125   ,\n",
       "             0.        ,  137373.734375  ,       0.        ,\n",
       "        139393.9375    ,       0.        ,  141414.140625  ,\n",
       "             0.        ,  143434.34375   ,       0.        ,\n",
       "        145454.546875  ,       0.        ,  147474.75      ,\n",
       "             0.        ,  149494.953125  ,       0.        ,\n",
       "        151515.15625   ,       0.        ,  153535.359375  ,\n",
       "             0.        ,  155555.546875  ,       0.        ,\n",
       "        157575.765625  ,       0.        ,  159595.953125  ,\n",
       "             0.        ,  161616.171875  ,       0.        ,\n",
       "        163636.359375  ,       0.        ,  165656.5625    ,\n",
       "             0.        ,  167676.765625  ,       0.        ,\n",
       "        169696.96875   ,       0.        ,  171717.171875  ,\n",
       "             0.        ,  173737.375     ,       0.        ,\n",
       "        175757.578125  ,       0.        ,  177777.765625  ,\n",
       "             0.        ,  179797.984375  ,       0.        ,\n",
       "        181818.1875    ,       0.        ,  183838.375     ,\n",
       "             0.        ,  185858.578125  ,       0.        ,\n",
       "        187878.796875  ,       0.        ,  189899.        ,\n",
       "             0.        ,  191919.1875    ,       0.        ,\n",
       "        193939.390625  ,       0.        ,  195959.609375  ,\n",
       "             0.        ,  197979.796875  ,       0.        ,\n",
       "        200000.        ,       0.        ], dtype=float32)"
      ]
     },
     "execution_count": 7,
     "metadata": {},
     "output_type": "execute_result"
    }
   ],
   "source": [
    "salaire_imposable = couple_0_enfant.calculate('sal', period = year)\n",
    "salaire_imposable.shape\n",
    "salaire_imposable"
   ]
  },
  {
   "cell_type": "code",
   "execution_count": 20,
   "metadata": {
    "collapsed": false
   },
   "outputs": [
    {
     "data": {
      "text/plain": [
       "array([      0.        ,    2020.20202637,    4040.40405273,\n",
       "          6060.60595703,    8080.80810547,   10101.01074219,\n",
       "         12121.21191406,   14141.4140625 ,   16161.61621094,\n",
       "         18181.81835938,   20202.02148438,   22222.22070312,\n",
       "         24242.42382812,   26262.625     ,   28282.828125  ,\n",
       "         30303.03125   ,   32323.23242188,   34343.43359375,\n",
       "         36363.63671875,   38383.83984375,   40404.04296875,\n",
       "         42424.2421875 ,   44444.44140625,   46464.64453125,\n",
       "         48484.84765625,   50505.05078125,   52525.25      ,\n",
       "         54545.453125  ,   56565.65625   ,   58585.859375  ,\n",
       "         60606.0625    ,   62626.26171875,   64646.46484375,\n",
       "         66666.6640625 ,   68686.8671875 ,   70707.0703125 ,\n",
       "         72727.2734375 ,   74747.4765625 ,   76767.6796875 ,\n",
       "         78787.8828125 ,   80808.0859375 ,   82828.28125   ,\n",
       "         84848.484375  ,   86868.6875    ,   88888.8828125 ,\n",
       "         90909.09375   ,   92929.2890625 ,   94949.5       ,\n",
       "         96969.6953125 ,   98989.8984375 ,  101010.1015625 ,\n",
       "        103030.3046875 ,  105050.5       ,  107070.7109375 ,\n",
       "        109090.90625   ,  111111.1171875 ,  113131.3125    ,\n",
       "        115151.5078125 ,  117171.71875   ,  119191.9140625 ,\n",
       "        121212.125     ,  123232.3203125 ,  125252.5234375 ,\n",
       "        127272.7265625 ,  129292.9296875 ,  131313.140625  ,\n",
       "        133333.328125  ,  135353.53125   ,  137373.734375  ,\n",
       "        139393.9375    ,  141414.140625  ,  143434.34375   ,\n",
       "        145454.546875  ,  147474.75      ,  149494.953125  ,\n",
       "        151515.15625   ,  153535.359375  ,  155555.546875  ,\n",
       "        157575.765625  ,  159595.953125  ,  161616.171875  ,\n",
       "        163636.359375  ,  165656.5625    ,  167676.765625  ,\n",
       "        169696.96875   ,  171717.171875  ,  173737.375     ,\n",
       "        175757.578125  ,  177777.765625  ,  179797.984375  ,\n",
       "        181818.1875    ,  183838.375     ,  185858.578125  ,\n",
       "        187878.796875  ,  189899.        ,  191919.1875    ,\n",
       "        193939.390625  ,  195959.609375  ,  197979.796875  ,  200000.        ], dtype=float32)"
      ]
     },
     "execution_count": 20,
     "metadata": {},
     "output_type": "execute_result"
    }
   ],
   "source": [
    "salaire_imposable = couple_0_enfant.calculate('sal', period = year)[:200:2] \n",
    "# salaire imposable est une variable associée à l'entité individu\n",
    "salaire_imposable"
   ]
  },
  {
   "cell_type": "code",
   "execution_count": 9,
   "metadata": {
    "collapsed": false
   },
   "outputs": [
    {
     "data": {
      "text/plain": [
       "openfisca_core.simulations.Simulation"
      ]
     },
     "execution_count": 9,
     "metadata": {},
     "output_type": "execute_result"
    }
   ],
   "source": [
    "revdisp0 = couple_0_enfant.calculate(\"revdisp\", period = year)\n",
    "revdisp1 = couple_1_enfant.calculate(\"revdisp\", period = year)\n",
    "revdisp2 = couple_2_enfant.calculate(\"revdisp\", period = year)\n",
    "revdisp3 = couple_3_enfant.calculate(\"revdisp\", period = year)\n",
    "type(couple_0_enfant)"
   ]
  },
  {
   "cell_type": "code",
   "execution_count": 10,
   "metadata": {
    "collapsed": false
   },
   "outputs": [
    {
     "data": {
      "text/plain": [
       "<matplotlib.legend.Legend at 0x7fa8e1c1de50>"
      ]
     },
     "execution_count": 10,
     "metadata": {},
     "output_type": "execute_result"
    },
    {
     "data": {
      "image/png": "[encoded data removed]",
      "text/plain": [
       "<matplotlib.figure.Figure at 0x7fa8e1cdfcd0>"
      ]
     },
     "metadata": {},
     "output_type": "display_data"
    }
   ],
   "source": [
    "fig = plt.figure()\n",
    "plt.plot(salaire_imposable, revdisp0, label = \"0 enfant\")\n",
    "plt.plot(salaire_imposable, revdisp1, label = \"1 enfant\")\n",
    "plt.plot(salaire_imposable, revdisp2, label = \"2 enfants\")\n",
    "plt.plot(salaire_imposable, revdisp3, label = \"3 enfants\")\n",
    "plt.legend(loc = 4, shadow=True, fancybox=True)"
   ]
  },
  {
   "cell_type": "markdown",
   "metadata": {},
   "source": [
    "Exercice: Faire le même graphe en utilisant une boucle"
   ]
  },
  {
   "cell_type": "markdown",
   "metadata": {},
   "source": [
    "## Gain lié à l'enfant marginal"
   ]
  },
  {
   "cell_type": "code",
   "execution_count": 13,
   "metadata": {
    "collapsed": false
   },
   "outputs": [
    {
     "data": {
      "text/plain": [
       "<matplotlib.legend.Legend at 0x7fa8e194ce90>"
      ]
     },
     "execution_count": 13,
     "metadata": {},
     "output_type": "execute_result"
    },
    {
     "data": {
      "image/png": "[encoded data removed]",
      "text/plain": [
       "<matplotlib.figure.Figure at 0x7fa8e1998750>"
      ]
     },
     "metadata": {},
     "output_type": "display_data"
    }
   ],
   "source": [
    "fig = plt.figure()\n",
    "plt.plot(salaire_imposable, revdisp1 - revdisp0, label = \"1er enfant\")\n",
    "plt.plot(salaire_imposable, revdisp2 - revdisp1, label = \"2e enfant\")\n",
    "plt.plot(salaire_imposable, revdisp3 - revdisp2, label = \"3e enfant\")\n",
    "plt.legend(loc = 4, shadow=True, fancybox=True)"
   ]
  },
  {
   "cell_type": "code",
   "execution_count": 14,
   "metadata": {
    "collapsed": false
   },
   "outputs": [
    {
     "ename": "ImportError",
     "evalue": "No module named pandas",
     "output_type": "error",
     "traceback": [
      "\u001b[0;31m---------------------------------------------------------------------------\u001b[0m\n\u001b[0;31mImportError\u001b[0m                               Traceback (most recent call last)",
      "\u001b[0;32m<ipython-input-14-52fcfbfcc0b5>\u001b[0m in \u001b[0;36m<module>\u001b[0;34m()\u001b[0m\n\u001b[0;32m----> 1\u001b[0;31m \u001b[0;32mfrom\u001b[0m \u001b[0mopenfisca_matplotlib\u001b[0m\u001b[0;34m.\u001b[0m\u001b[0mdataframes\u001b[0m \u001b[0;32mimport\u001b[0m \u001b[0mdata_frame_from_decomposition_json\u001b[0m \u001b[0;32mas\u001b[0m \u001b[0mto_data_frame\u001b[0m\u001b[0;34m\u001b[0m\u001b[0m\n\u001b[0m",
      "\u001b[0;32m/home/openfisca/openfisca-matplotlib/openfisca_matplotlib/dataframes.py\u001b[0m in \u001b[0;36m<module>\u001b[0;34m()\u001b[0m\n\u001b[1;32m     24\u001b[0m \u001b[0;34m\u001b[0m\u001b[0m\n\u001b[1;32m     25\u001b[0m \u001b[0;34m\u001b[0m\u001b[0m\n\u001b[0;32m---> 26\u001b[0;31m \u001b[0;32mimport\u001b[0m \u001b[0mpandas\u001b[0m \u001b[0;32mas\u001b[0m \u001b[0mpd\u001b[0m\u001b[0;34m\u001b[0m\u001b[0m\n\u001b[0m\u001b[1;32m     27\u001b[0m \u001b[0;34m\u001b[0m\u001b[0m\n\u001b[1;32m     28\u001b[0m \u001b[0;32mfrom\u001b[0m \u001b[0mopenfisca_matplotlib\u001b[0m\u001b[0;34m.\u001b[0m\u001b[0mutils\u001b[0m \u001b[0;32mimport\u001b[0m \u001b[0mOutNode\u001b[0m\u001b[0;34m\u001b[0m\u001b[0m\n",
      "\u001b[0;31mImportError\u001b[0m: No module named pandas"
     ]
    }
   ],
   "source": [
    "from openfisca_matplotlib.dataframes import data_frame_from_decomposition_json as to_data_frame"
   ]
  },
  {
   "cell_type": "code",
   "execution_count": 15,
   "metadata": {
    "collapsed": false
   },
   "outputs": [
    {
     "ename": "NameError",
     "evalue": "name 'to_data_frame' is not defined",
     "output_type": "error",
     "traceback": [
      "\u001b[0;31m---------------------------------------------------------------------------\u001b[0m\n\u001b[0;31mNameError\u001b[0m                                 Traceback (most recent call last)",
      "\u001b[0;32m<ipython-input-15-34c69dd24f83>\u001b[0m in \u001b[0;36m<module>\u001b[0;34m()\u001b[0m\n\u001b[0;32m----> 1\u001b[0;31m \u001b[0mto_data_frame\u001b[0m\u001b[0;34m(\u001b[0m\u001b[0mcouple_3_enfant\u001b[0m\u001b[0;34m,\u001b[0m \u001b[0mremove_null\u001b[0m \u001b[0;34m=\u001b[0m \u001b[0mTrue\u001b[0m\u001b[0;34m)\u001b[0m\u001b[0;34m\u001b[0m\u001b[0m\n\u001b[0m",
      "\u001b[0;31mNameError\u001b[0m: name 'to_data_frame' is not defined"
     ]
    }
   ],
   "source": [
    "to_data_frame(couple_3_enfant, remove_null = True)"
   ]
  },
  {
   "cell_type": "code",
   "execution_count": null,
   "metadata": {
    "collapsed": false
   },
   "outputs": [],
   "source": []
  },
  {
   "cell_type": "code",
   "execution_count": null,
   "metadata": {
    "collapsed": false
   },
   "outputs": [],
   "source": []
  },
  {
   "cell_type": "code",
   "execution_count": null,
   "metadata": {
    "collapsed": false
   },
   "outputs": [],
   "source": []
  },
  {
   "cell_type": "code",
   "execution_count": null,
   "metadata": {
    "collapsed": false
   },
   "outputs": [],
   "source": []
  },
  {
   "cell_type": "code",
   "execution_count": null,
   "metadata": {
    "collapsed": false
   },
   "outputs": [],
   "source": [
    "comprendre les différentes composantes (aller retour avec l'appli)"
   ]
  },
  {
   "cell_type": "code",
   "execution_count": null,
   "metadata": {
    "collapsed": false
   },
   "outputs": [],
   "source": [
    "gain à l'enfant marginal, manuel puis boucle et liste compréhension"
   ]
  },
  {
   "cell_type": "code",
   "execution_count": null,
   "metadata": {
    "collapsed": false
   },
   "outputs": [],
   "source": []
  }
 ],
 "metadata": {
  "kernelspec": {
   "display_name": "Python 2",
   "language": "python",
   "name": "python2"
  },
  "language_info": {
   "codemirror_mode": {
    "name": "ipython",
    "version": 2
   },
   "file_extension": ".py",
   "mimetype": "text/x-python",
   "name": "python",
   "nbconvert_exporter": "python",
   "pygments_lexer": "ipython2",
   "version": "2.7.12"
  }
 },
 "nbformat": 4,
 "nbformat_minor": 0
}
