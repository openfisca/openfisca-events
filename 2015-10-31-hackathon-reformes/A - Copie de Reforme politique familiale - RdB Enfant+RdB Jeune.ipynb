{
 "cells": [
  {
   "cell_type": "code",
   "execution_count": null,
   "metadata": {
    "collapsed": true
   },
   "outputs": [],
   "source": [
    "###### from datetime import date\n",
    "\n",
    "from openfisca_france import init_country\n",
    "from openfisca_france.model.base import *"
   ]
  },
  {
   "cell_type": "code",
   "execution_count": null,
   "metadata": {
    "collapsed": false
   },
   "outputs": [],
   "source": [
    "import functools\n",
    "\n",
    "from openfisca_core.formulas import make_formula_decorator, neutralize_column\n",
    "from openfisca_france.entities import entity_class_by_symbol\n",
    "\n",
    "reference_formula = make_formula_decorator(entity_class_by_symbol = entity_class_by_symbol, update = True)\n",
    "reference_input_variable = functools.partial(reference_input_variable, update = True)"
   ]
  },
  {
   "cell_type": "markdown",
   "metadata": {},
   "source": [
    "# Système socio-fiscal"
   ]
  },
  {
   "cell_type": "code",
   "execution_count": null,
   "metadata": {
    "collapsed": false
   },
   "outputs": [],
   "source": [
    "TaxBenefitSystem = init_country()\n",
    "tax_benefit_system = TaxBenefitSystem()"
   ]
  },
  {
   "cell_type": "code",
   "execution_count": null,
   "metadata": {
    "collapsed": false
   },
   "outputs": [],
   "source": [
    "from openfisca_core import reforms"
   ]
  },
  {
   "cell_type": "code",
   "execution_count": null,
   "metadata": {
    "collapsed": true
   },
   "outputs": [],
   "source": [
    "ReformeRevenuDeBase = reforms.make_reform(\n",
    "    key = 'revenu_de_base_enfants',\n",
    "    name = u\"Réforme Revenu de base enfants\",\n",
    "    reference = tax_benefit_system,\n",
    "    )"
   ]
  },
  {
   "cell_type": "code",
   "execution_count": null,
   "metadata": {
    "collapsed": false
   },
   "outputs": [],
   "source": [
    "@ReformeRevenuDeBase.formula\n",
    "class qf_to_ind(EntityToPersonColumn):\n",
    "    entity_class = Individus\n",
    "    label = u\"avantage quotient familial enfant : on le passe à l'individu\"\n",
    "    roles = [0]\n",
    "    variable = FoyersFiscaux.column_by_name['avantage_qf']\n",
    "    \n",
    "@ReformeRevenuDeBase.formula\n",
    "class qf_to_fam(PersonToEntityColumn):\n",
    "    entity_class = Familles\n",
    "    label = u\"avantage quotient familial enfant : on le passe à la famille\"\n",
    "    roles = [0]\n",
    "    variable = qf_to_ind\n",
    "    \n",
    "@ReformeRevenuDeBase.formula\n",
    "class ecpess_to_ind(EntityToPersonColumn):\n",
    "    entity_class = Individus\n",
    "    label = u\"ecpess : on le passe à l'individu\"\n",
    "    roles = [0]\n",
    "    variable = FoyersFiscaux.column_by_name['ecpess']\n",
    "    \n",
    "@ReformeRevenuDeBase.formula\n",
    "class ecpess_to_fam(PersonToEntityColumn):\n",
    "    entity_class = Familles\n",
    "    label = u\"ecpess : on le passe à la famille\"\n",
    "    roles = [0]\n",
    "    variable = ecpess_to_ind"
   ]
  },
  {
   "cell_type": "code",
   "execution_count": null,
   "metadata": {
    "collapsed": false
   },
   "outputs": [],
   "source": [
    "#ReformeRevenuDeBase.formula(neutralize_column(tax_benefit_system.column_by_name['af_base']))    # Suppression des allocations familiales        \n",
    "#ReformeRevenuDeBase.formula(neutralize_column(tax_benefit_system.column_by_name['af']))    # Suppression des allocations familiales\n",
    "#ReformeRevenuDeBase.formula(neutralize_column(tax_benefit_system.column_by_name['cf']))\n",
    "#ReformeRevenuDeBase.formula(neutralize_column(tax_benefit_system.column_by_name['ars']))\n",
    "\n",
    "\n",
    "@ReformeRevenuDeBase.formula\n",
    "class aide_famille(SimpleFormulaColumn):\n",
    "    column = FloatCol\n",
    "    entity_class = Familles\n",
    "    label = u\"af_base + af + cf + ars + paje_base (manque ecpess)\"\n",
    "\n",
    "    def function(self, simulation, period):\n",
    "        year = period.start.offset('first-of', 'year').period('year')\n",
    "        af_base = simulation.calculate_add('af_base', year)\n",
    "        af = simulation.calculate_add('af', year)\n",
    "        cf = simulation.calculate_add('cf', year)\n",
    "        ars = simulation.calculate('ars', year)\n",
    "        paje_base = simulation.calculate_add('paje_base', year)\n",
    "        qf = simulation.calculate('qf_to_fam', year)\n",
    "        ecpess = simulation.calculate('ecpess_to_fam', year)\n",
    "        \n",
    "        return year, af_base + af + cf + paje_base + qf + ars + ecpess"
   ]
  },
  {
   "cell_type": "markdown",
   "metadata": {},
   "source": [
    "# Réforme : 1. Revenu de base enfant"
   ]
  },
  {
   "cell_type": "code",
   "execution_count": null,
   "metadata": {
    "collapsed": false
   },
   "outputs": [],
   "source": [
    "'''\n",
    "La redistribution monétaire en faveur des familles combine 8 mécanismes principaux, sous conditions de ressources :\n",
    "- Allocations familiales – AF (de 0 à 19 ou 20 ans)\n",
    "- Majoration pour âge des AF (à partir de 14 ans)\n",
    "- Complément familial – CF (pour un 3ème enfant)\n",
    "- Allocation de base de la PAJE (de 0 à 2 ans)\n",
    "- Allocation de rentrée scolaire – ARS (de 6 à 18 ans)\n",
    "- Supplément de RSA calculé par enfant (déduit AF, CF, PAJE)\n",
    "- Diminution de l’impôt par le quotient familial – QF (plafonné)\n",
    "- Réduction d’impôt pour scolarisation des enfants \n",
    "\n",
    "La réforme simulée ici permet de remplacer ces 8 dispositifs par la combinaison de :\n",
    "- un Revenu de Base Enfant, pour chaque enfant de 0 à l'anniversaire de ses 14 ans\n",
    "- un Revenu de Base Jeune, de 14 jusqu'à l'anniversaire de ses 25 ans\n",
    "\n",
    "Divers montants de ces RdB doivent pouvoir être testés.\n",
    "Un repère pour 2015 est 185€ pour le RdB Enfant / 230€ pour le RdB Jeune\n",
    "'''"
   ]
  },
  {
   "cell_type": "code",
   "execution_count": null,
   "metadata": {
    "collapsed": false
   },
   "outputs": [],
   "source": [
    "from numpy import logical_not as not_, minimum as min_, maximum as max_\n",
    "\n",
    "@ReformeRevenuDeBase.formula\n",
    "class nbptr(SimpleFormulaColumn):\n",
    "    reference = FoyersFiscaux.column_by_name['nbptr']\n",
    "\n",
    "    # On enlève les enfants du calcul du nbptr (quotient_familial.enf*)\n",
    "    \n",
    "    def function(self, simulation, period):\n",
    "        '''\n",
    "        Nombre de parts du foyer\n",
    "        'foy'\n",
    "        note 1 enfants et résidence alternée (formulaire 2041 GV page 10)\n",
    "\n",
    "        quotient_familial.conj : nb part associées au conjoint d'un couple marié ou pacsé\n",
    "        quotient_familial.enf1 : nb part 2 premiers enfants\n",
    "        quotient_familial.enf2 : nb part enfants de rang 3 ou plus\n",
    "        quotient_familial.inv1 : nb part supp enfants invalides (I, G)\n",
    "        quotient_familial.inv2 : nb part supp adultes invalides (R)\n",
    "        quotient_familial.not31 : nb part supp note 3 : cases W ou G pour veuf, celib ou div\n",
    "        quotient_familial.not32 : nb part supp note 3 : personne seule ayant élevé des enfants\n",
    "        quotient_familial.not41 : nb part supp adultes invalides (vous et/ou conjoint) note 4\n",
    "        quotient_familial.not42 : nb part supp adultes anciens combattants (vous et/ou conjoint) note 4\n",
    "        quotient_familial.not6 : nb part supp note 6\n",
    "        quotient_familial.isol : demi-part parent isolé (T)\n",
    "        quotient_familial.edcd : enfant issu du mariage avec conjoint décédé;\n",
    "        '''\n",
    "        period = period.start.offset('first-of', 'month').period('year')\n",
    "        nb_pac = simulation.calculate('nb_pac', period)\n",
    "        marpac = simulation.calculate('marpac', period)\n",
    "        celdiv = simulation.calculate('celdiv', period)\n",
    "        veuf = simulation.calculate('veuf', period)\n",
    "        jveuf = simulation.calculate('jveuf', period)\n",
    "        nbF = simulation.calculate('nbF', period)\n",
    "        nbG = simulation.calculate('nbG', period)\n",
    "        nbH = simulation.calculate('nbH', period)\n",
    "        nbI = simulation.calculate('nbI', period)\n",
    "        nbR = simulation.calculate('nbR', period)\n",
    "        nbJ = simulation.calculate('nbJ', period)\n",
    "        caseP = simulation.calculate('caseP', period)\n",
    "        caseW = simulation.calculate('caseW', period)\n",
    "        caseG = simulation.calculate('caseG', period)\n",
    "        caseE = simulation.calculate('caseE', period)\n",
    "        caseK = simulation.calculate('caseK', period)\n",
    "        caseN = simulation.calculate('caseN', period)\n",
    "        caseF = simulation.calculate('caseF', period)\n",
    "        caseS = simulation.calculate('caseS', period)\n",
    "        caseL = simulation.calculate('caseL', period)\n",
    "        caseT = simulation.calculate('caseT', period)\n",
    "        quotient_familial = simulation.legislation_at(period.start).ir.quotient_familial\n",
    "\n",
    "        no_pac = nb_pac == 0  # Aucune personne à charge en garde exclusive\n",
    "        has_pac = not_(no_pac)\n",
    "        no_alt = nbH == 0  # Aucun enfant à charge en garde alternée\n",
    "        has_alt = not_(no_alt)\n",
    "\n",
    "        # # nombre de parts liées aux enfants à charge\n",
    "        # que des enfants en résidence alternée\n",
    "        enf1 = (no_pac & has_alt) * (quotient_familial.enf1 * min_(nbH, 2) * 0.5\n",
    "                                     + quotient_familial.enf2 * max_(nbH - 2, 0) * 0.5)\n",
    "        # pas que des enfants en résidence alternée\n",
    "        enf2 = (has_pac & has_alt) * ((nb_pac == 1) * (quotient_familial.enf1 * min_(nbH, 1) * 0.5\n",
    "            + quotient_familial.enf2 * max_(nbH - 1, 0) * 0.5) + (nb_pac > 1) * (quotient_familial.enf2 * nbH * 0.5))\n",
    "        # pas d'enfant en résidence alternée\n",
    "        enf3 = quotient_familial.enf1 * min_(nb_pac, 2) + quotient_familial.enf2 * max_((nb_pac - 2), 0)\n",
    "\n",
    "        enf = enf1 + enf2 + enf3\n",
    "        # # note 2 : nombre de parts liées aux invalides (enfant + adulte)\n",
    "        n2 = quotient_familial.inv1 * (nbG + nbI / 2) + quotient_familial.inv2 * nbR\n",
    "\n",
    "        # # note 3 : Pas de personne à charge\n",
    "        # - invalide\n",
    "\n",
    "        n31a = quotient_familial.not31a * (no_pac & no_alt & caseP)\n",
    "        # - ancien combatant\n",
    "        n31b = quotient_familial.not31b * (no_pac & no_alt & (caseW | caseG))\n",
    "        n31 = max_(n31a, n31b)\n",
    "        # - personne seule ayant élevé des enfants\n",
    "        n32 = quotient_familial.not32 * (no_pac & no_alt & ((caseE | caseK) & not_(caseN)))\n",
    "        n3 = max_(n31, n32)\n",
    "        # # note 4 Invalidité de la personne ou du conjoint pour les mariés ou\n",
    "        # # jeunes veuf(ve)s\n",
    "        n4 = max_(quotient_familial.not41 * (1 * caseP + 1 * caseF), quotient_familial.not42 * (caseW | caseS))\n",
    "\n",
    "        # # note 5\n",
    "        #  - enfant du conjoint décédé\n",
    "        n51 = quotient_familial.cdcd * (caseL & ((nbF + nbJ) > 0))\n",
    "        #  - enfant autre et parent isolé\n",
    "        n52 = quotient_familial.isol * caseT * (((no_pac & has_alt) * ((nbH == 1) * 0.5 + (nbH >= 2))) + 1 * has_pac)\n",
    "        n5 = max_(n51, n52)\n",
    "\n",
    "        # # note 6 invalide avec personne à charge\n",
    "        n6 = quotient_familial.not6 * (caseP & (has_pac | has_alt))\n",
    "\n",
    "        # # note 7 Parent isolé\n",
    "        n7 = quotient_familial.isol * caseT * ((no_pac & has_alt) * ((nbH == 1) * 0.5 + (nbH >= 2)) + 1 * has_pac)\n",
    "\n",
    "        # # Régime des mariés ou pacsés\n",
    "        #m = 1 + quotient_familial.conj + enf + n2 + n4\n",
    "        m = 1 + quotient_familial.conj + n2 + n4\n",
    "        \n",
    "        # # veufs  hors jveuf\n",
    "        # v = 1 + enf + n2 + n3 + n5 + n6\n",
    "        v = 1 + n2 + n3 + n5 + n6\n",
    "        \n",
    "        # # celib div\n",
    "        #c = 1 + enf + n2 + n3 + n6 + n7\n",
    "        c = 1 + n2 + n3 + n6 + n7\n",
    "\n",
    "        return period, (marpac | jveuf) * m + (veuf & not_(jveuf)) * v + celdiv * c\n"
   ]
  },
  {
   "cell_type": "code",
   "execution_count": null,
   "metadata": {
    "collapsed": false
   },
   "outputs": [],
   "source": [
    "# Suppression du nombre d'enfants dans le calcul du RSA socle\n",
    "\n",
    "@ReformeRevenuDeBase.formula\n",
    "class rsa_socle(SimpleFormulaColumn):\n",
    "    reference = Familles.column_by_name['rsa_socle']\n",
    "\n",
    "    def function(self, simulation, period):\n",
    "        period = period.start.offset('first-of', 'month').period('month')\n",
    "        age_holder = simulation.compute('age', period)\n",
    "        smic55_holder = simulation.compute('smic55', period)\n",
    "        activite_holder = simulation.compute('activite', period)\n",
    "        nb_par = simulation.calculate('nb_par', period)\n",
    "        rmi = simulation.legislation_at(period.start).minim.rmi\n",
    "\n",
    "        age_parents = self.split_by_roles(age_holder, roles = [CHEF, PART])\n",
    "        activite_parents = self.split_by_roles(activite_holder, roles = [CHEF, PART])\n",
    "        age_enf = self.split_by_roles(age_holder, roles = ENFS)\n",
    "        smic55_enf = self.split_by_roles(smic55_holder, roles = ENFS)\n",
    "\n",
    "        nbp = nb_par\n",
    "\n",
    "        eligib = (\n",
    "            (age_parents[CHEF] >= rmi.age_pac)\n",
    "            *\n",
    "            not_(activite_parents[CHEF] == 2)\n",
    "            ) | (\n",
    "                (age_parents[PART] >= rmi.age_pac) * not_(activite_parents[PART] == 2)\n",
    "                )\n",
    "\n",
    "        taux = (\n",
    "            1 + (nbp >= 2) * rmi.txp2 +\n",
    "            (nbp >= 3) * rmi.txp3 +\n",
    "            (nbp >= 4) * ((nb_par == 1) * rmi.txps + (nb_par != 1) * rmi.txp3) +\n",
    "            max_(nbp - 4, 0) * rmi.txps\n",
    "            )\n",
    "        return period, eligib * rmi.rmi * taux"
   ]
  },
  {
   "cell_type": "code",
   "execution_count": null,
   "metadata": {
    "collapsed": false
   },
   "outputs": [],
   "source": [
    "# Suppression du nombre d'enfants dans le calcul du RSA forfait logement\n",
    "\n",
    "@ReformeRevenuDeBase.formula\n",
    "class rmi_nbp(SimpleFormulaColumn):\n",
    "    reference = Familles.column_by_name['rmi_nbp']\n",
    "\n",
    "    def function(self, simulation, period):\n",
    "        period = period.start.offset('first-of', 'month').period('month')\n",
    "        age_holder = simulation.compute('age', period)\n",
    "        smic55_holder = simulation.compute('smic55', period)\n",
    "        nb_par = simulation.calculate('nb_par', period)\n",
    "        P = simulation.legislation_at(period.start).minim.rmi\n",
    "\n",
    "        age = self.split_by_roles(age_holder, roles = ENFS)\n",
    "        smic55 = self.split_by_roles(smic55_holder, roles = ENFS)\n",
    "\n",
    "        return period, nb_par # + nb_enf(age, smic55, 0, P.age_pac - 1)\n"
   ]
  },
  {
   "cell_type": "code",
   "execution_count": null,
   "metadata": {
    "collapsed": false
   },
   "outputs": [],
   "source": [
    "# Création d'un revenu de base enfant - Version famille\n",
    "\n",
    "from openfisca_france.model.prestations.prestations_familiales.base_ressource import nb_enf\n",
    "\n",
    "@ReformeRevenuDeBase.formula\n",
    "class rdb_enfant_famille(SimpleFormulaColumn):\n",
    "    column = FloatCol\n",
    "    entity_class = Familles\n",
    "    label = u\"Revenu de base enfant\"\n",
    "\n",
    "    def function(self, simulation, period):\n",
    "        period = period.start.offset('first-of', 'month').period('month')\n",
    "        age_holder = simulation.compute('age', period)\n",
    "        P = simulation.legislation_at(period.start).fam.af        \n",
    "        bmaf = P.bmaf\n",
    "\n",
    "        \n",
    "        smic55_holder = simulation.compute('smic55', period)\n",
    "        smic55 = self.split_by_roles(smic55_holder, roles = ENFS)        \n",
    "        age = self.split_by_roles(age_holder, roles = ENFS)\n",
    "        \n",
    "        smic5 = {\n",
    "            role: array * 0\n",
    "            for role, array in smic55.iteritems()\n",
    "            }\n",
    "        nbenf_inf13 = nb_enf(age, smic5, 0, 13)\n",
    "        nbenf_sup14 = nb_enf(age, smic5, 14, 18)\n",
    "        \n",
    "        return period, (nbenf_inf13 * 0.41 + nbenf_sup14 * 0.57) * bmaf\n",
    "\n",
    "# Les taux 0,41 et 0,16 (0,57-0,41) sont issus des allocations familiales\n"
   ]
  },
  {
   "cell_type": "code",
   "execution_count": null,
   "metadata": {
    "collapsed": false
   },
   "outputs": [],
   "source": [
    "# Création d'un revenu de base enfant - Version individus\n",
    "\n",
    "@ReformeRevenuDeBase.formula\n",
    "class rdb_enf(SimpleFormulaColumn):\n",
    "    column = FloatCol\n",
    "    entity_class = Individus\n",
    "    label = u\"Revenu de base enfant\"\n",
    "\n",
    "    def function(self, simulation, period):\n",
    "        period = period.start.offset('first-of', 'month').period('month')\n",
    "        age = simulation.calculate('age')\n",
    "        P = simulation.legislation_at(period.start).fam.af        \n",
    "        bmaf = P.bmaf\n",
    "        \n",
    "        return period, ((age < 14) * 0.41 + not_(age < 14) * 0.57) * bmaf * (age <= 18)"
   ]
  },
  {
   "cell_type": "code",
   "execution_count": null,
   "metadata": {
    "collapsed": false
   },
   "outputs": [],
   "source": [
    "@ReformeRevenuDeBase.formula\n",
    "class revdisp(SimpleFormulaColumn):\n",
    "    reference = Menages.column_by_name['revdisp']\n",
    "\n",
    "    def function(self, simulation, period):\n",
    "        '''\n",
    "        Revenu disponible - ménage\n",
    "        'men'\n",
    "        '''\n",
    "        period = period.start.offset('first-of', 'month').period('year')\n",
    "        rev_trav_holder = simulation.compute('rev_trav', period)\n",
    "        pen_holder = simulation.compute('pen', period)\n",
    "        rev_cap_holder = simulation.compute('rev_cap', period)\n",
    "        psoc_holder = simulation.compute('psoc', period)\n",
    "        ppe_holder = simulation.compute('ppe', period)\n",
    "        impo = simulation.calculate('impo', period)\n",
    "        rdb_enfant_holder = simulation.compute_add('rdb_enf', period)\n",
    "\n",
    "        pen = self.sum_by_entity(pen_holder)\n",
    "        ppe = self.cast_from_entity_to_role(ppe_holder, role = VOUS)\n",
    "        ppe = self.sum_by_entity(ppe)\n",
    "        psoc = self.cast_from_entity_to_role(psoc_holder, role = CHEF)\n",
    "        psoc = self.sum_by_entity(psoc)\n",
    "        rev_cap = self.sum_by_entity(rev_cap_holder)\n",
    "        rev_trav = self.sum_by_entity(rev_trav_holder)\n",
    "        rdb_enfant = self.sum_by_entity(rdb_enfant_holder)\n",
    "\n",
    "        return period, rev_trav + pen + rev_cap + psoc + ppe + impo + rdb_enfant"
   ]
  },
  {
   "cell_type": "code",
   "execution_count": null,
   "metadata": {
    "collapsed": true
   },
   "outputs": [],
   "source": [
    "reform = ReformeRevenuDeBase()"
   ]
  },
  {
   "cell_type": "code",
   "execution_count": null,
   "metadata": {
    "collapsed": true
   },
   "outputs": [],
   "source": [
    "import matplotlib\n",
    "import matplotlib.pyplot as plt\n",
    "%matplotlib inline\n",
    "\n",
    "from datetime import date  # module nécessaire pour la définition des dates, dont notamment les dates de naissances\n",
    "from openfisca_france.tests.base import tax_benefit_system\n",
    "\n",
    "\n",
    "\n",
    "\n",
    "def make_couple_with_child_scenario(nombre_enfants = 0, year = None, tax_benefit_system = tax_benefit_system,\n",
    "                                    axes_variable = 'salaire_de_base',  ax_variable_max = 150000, count = 5000):\n",
    "    enfant = [dict(\n",
    "        birth = date(2005, 1, 1),\n",
    "        )]\n",
    "    enfants = enfant * nombre_enfants\n",
    "    scenario = tax_benefit_system.new_scenario().init_single_entity(\n",
    "        axes = [[\n",
    "            dict(\n",
    "                count = count,\n",
    "                min = 0,\n",
    "                max = ax_variable_max,\n",
    "                name = axes_variable,\n",
    "                period = year-2,\n",
    "                ),\n",
    "            dict(\n",
    "                count = count,\n",
    "                min = 0,\n",
    "                max = ax_variable_max,\n",
    "                name = axes_variable,\n",
    "                period = year-1,\n",
    "                ),\n",
    "            dict(\n",
    "                count = count,\n",
    "                min = 0,\n",
    "                max = ax_variable_max,\n",
    "                name = axes_variable,\n",
    "                period = year,\n",
    "                ),\n",
    "            ]],\n",
    "        period = year,\n",
    "        parent1 = dict(\n",
    "            birth = date(1980, 1, 1),\n",
    "            statmarit = 5, #pacsés\n",
    "            ),\n",
    "        parent2 = dict(\n",
    "            birth = date(1980, 1, 1),\n",
    "            statmarit = 5,\n",
    "            ),\n",
    "        enfants = enfants,\n",
    "        menage = dict(\n",
    "            loyer = 1000,\n",
    "            statut_occupation = 4,\n",
    "            ),\n",
    "        )\n",
    "    return scenario\n",
    "def make_single_with_child_scenario(nombre_enfants = 1, year = None, tax_benefit_system = tax_benefit_system,\n",
    "                                    axes_variable = 'salaire_de_base',  ax_variable_max = 150000, count = 5000):\n",
    "    enfant = [dict(\n",
    "        birth = date(2005, 1, 1),\n",
    "        )]\n",
    "    enfants = enfant * nombre_enfants\n",
    "    scenario = tax_benefit_system.new_scenario().init_single_entity(\n",
    "        axes = [[\n",
    "            dict(\n",
    "                count = count,\n",
    "                min = 0,\n",
    "                max = ax_variable_max,\n",
    "                name = axes_variable,\n",
    "                period = year-2,\n",
    "                ),\n",
    "            dict(\n",
    "                count = count,\n",
    "                min = 0,\n",
    "                max = ax_variable_max,\n",
    "                name = axes_variable,\n",
    "                period = year-1,\n",
    "                ),\n",
    "            dict(\n",
    "                count = count,\n",
    "                min = 0,\n",
    "                max = ax_variable_max,\n",
    "                name = axes_variable,\n",
    "                period = year,\n",
    "                ),\n",
    "            ]],\n",
    "        period = year,\n",
    "        parent1 = dict(\n",
    "            birth = date(1980, 1, 1),\n",
    "            ),\n",
    "        enfants = enfants,\n",
    "        menage = dict(\n",
    "            loyer = 1000,\n",
    "            statut_occupation = 4,\n",
    "            ),\n",
    "        )\n",
    "    return scenario"
   ]
  },
  {
   "cell_type": "code",
   "execution_count": null,
   "metadata": {
    "collapsed": false
   },
   "outputs": [],
   "source": [
    "scenario_couple_avec_1_enfant = make_couple_with_child_scenario(1, 2014)\n",
    "simulation_couple_avec_1_enfant = scenario_couple_avec_1_enfant.new_simulation()\n",
    "\n",
    "scenario_couple_avec_2_enfants = make_couple_with_child_scenario(2, 2014)\n",
    "simulation_couple_avec_2_enfants = scenario_couple_avec_2_enfants.new_simulation()\n",
    "\n",
    "scenario_couple_avec_3_enfants = make_couple_with_child_scenario(3, 2014)\n",
    "simulation_couple_avec_3_enfants = scenario_couple_avec_3_enfants.new_simulation()\n",
    "\n",
    "scenario_couple_avec_4_enfants = make_couple_with_child_scenario(4, 2014)\n",
    "simulation_couple_avec_4_enfants = scenario_couple_avec_4_enfants.new_simulation()\n",
    "\n",
    "scenario_couple_avec_5_enfants = make_couple_with_child_scenario(5, 2014)\n",
    "simulation_couple_avec_5_enfants = scenario_couple_avec_5_enfants.new_simulation()"
   ]
  },
  {
   "cell_type": "code",
   "execution_count": null,
   "metadata": {
    "collapsed": false
   },
   "outputs": [],
   "source": [
    "salaire_de_base = simulation_couple_avec_1_enfant.calculate_add(\"salaire_de_base\")\n",
    "aide_famille_1 = simulation_couple_avec_1_enfant.calculate_add(\"aide_famille\")\n",
    "aide_famille_2 = simulation_couple_avec_2_enfants.calculate_add(\"aide_famille\")\n",
    "aide_famille_3 = simulation_couple_avec_3_enfants.calculate_add(\"aide_famille\")\n",
    "aide_famille_4 = simulation_couple_avec_4_enfants.calculate_add(\"aide_famille\")\n",
    "aide_famille_5 = simulation_couple_avec_5_enfants.calculate_add(\"aide_famille\")"
   ]
  },
  {
   "cell_type": "code",
   "execution_count": null,
   "metadata": {
    "collapsed": true
   },
   "outputs": [],
   "source": [
    "import matplotlib.pyplot as plt"
   ]
  },
  {
   "cell_type": "code",
   "execution_count": null,
   "metadata": {
    "collapsed": false
   },
   "outputs": [],
   "source": [
    "plt.plot(salaire_de_base[::3], aide_famille_1)\n",
    "plt.plot(salaire_de_base[::3], aide_famille_2)\n",
    "plt.plot(salaire_de_base[::3], aide_famille_3)\n",
    "plt.plot(salaire_de_base[::3], aide_famille_4)\n",
    "plt.plot(salaire_de_base[::3], aide_famille_5)"
   ]
  },
  {
   "cell_type": "code",
   "execution_count": null,
   "metadata": {
    "collapsed": false
   },
   "outputs": [],
   "source": [
    "qf_to_fam_1 = simulation_couple_avec_1_enfant.calculate_add(\"avantage_qf\")\n",
    "qf_to_fam_2 = simulation_couple_avec_2_enfants.calculate_add(\"avantage_qf\")\n",
    "qf_to_fam_3 = simulation_couple_avec_3_enfants.calculate_add(\"avantage_qf\")\n",
    "qf_to_fam_4 = simulation_couple_avec_4_enfants.calculate_add(\"avantage_qf\")\n",
    "qf_to_fam_5 = simulation_couple_avec_5_enfants.calculate_add(\"avantage_qf\")"
   ]
  },
  {
   "cell_type": "code",
   "execution_count": null,
   "metadata": {
    "collapsed": false
   },
   "outputs": [],
   "source": [
    "plt.plot(salaire_de_base[::3], qf_to_fam_1)\n",
    "plt.plot(salaire_de_base[::3], qf_to_fam_2)\n",
    "plt.plot(salaire_de_base[::3], qf_to_fam_3)\n",
    "plt.plot(salaire_de_base[::3], qf_to_fam_4)\n",
    "plt.plot(salaire_de_base[::3], qf_to_fam_5)"
   ]
  },
  {
   "cell_type": "code",
   "execution_count": null,
   "metadata": {
    "collapsed": true
   },
   "outputs": [],
   "source": [
    "scenario_couple_sans_enfant = make_couple_with_child_scenario(0, 2014, reform)\n",
    "simulation_couple_sans_enfant = scenario_couple_sans_enfant.new_simulation()"
   ]
  },
  {
   "cell_type": "code",
   "execution_count": null,
   "metadata": {
    "collapsed": true
   },
   "outputs": [],
   "source": [
    "revdisp_0 = simulation_couple_sans_enfant.calculate_add(\"revdisp\")\n",
    "revdisp_1 = simulation_couple_avec_1_enfant.calculate_add(\"revdisp\")\n",
    "revdisp_2 = simulation_couple_avec_2_enfants.calculate_add(\"revdisp\")\n",
    "revdisp_3 = simulation_couple_avec_3_enfants.calculate_add(\"revdisp\")\n",
    "revdisp_4 = simulation_couple_avec_4_enfants.calculate_add(\"revdisp\")\n",
    "revdisp_5 = simulation_couple_avec_5_enfants.calculate_add(\"revdisp\")"
   ]
  },
  {
   "cell_type": "code",
   "execution_count": null,
   "metadata": {
    "collapsed": true
   },
   "outputs": [],
   "source": [
    "diff_revdisp_1 = revdisp_1 - revdisp_0\n",
    "diff_revdisp_2 = revdisp_2 - revdisp_0\n",
    "diff_revdisp_3 = revdisp_3 - revdisp_0\n",
    "diff_revdisp_4 = revdisp_4 - revdisp_0\n",
    "diff_revdisp_5 = revdisp_5 - revdisp_0"
   ]
  },
  {
   "cell_type": "code",
   "execution_count": null,
   "metadata": {
    "collapsed": false
   },
   "outputs": [],
   "source": [
    "plt.plot(salaire_de_base[::3], diff_revdisp_1)\n",
    "plt.plot(salaire_de_base[::3], diff_revdisp_2)\n",
    "plt.plot(salaire_de_base[::3], diff_revdisp_3)\n",
    "plt.plot(salaire_de_base[::3], diff_revdisp_4)\n",
    "plt.plot(salaire_de_base[::3], diff_revdisp_5)"
   ]
  },
  {
   "cell_type": "code",
   "execution_count": null,
   "metadata": {
    "collapsed": true
   },
   "outputs": [],
   "source": [
    "irpp_0 = simulation_couple_sans_enfant.calculate_add(\"irpp\")\n",
    "irpp_1 = simulation_couple_avec_1_enfant.calculate_add(\"irpp\")\n",
    "irpp_2 = simulation_couple_avec_2_enfants.calculate_add(\"irpp\")\n",
    "irpp_3 = simulation_couple_avec_3_enfants.calculate_add(\"irpp\")\n",
    "irpp_4 = simulation_couple_avec_4_enfants.calculate_add(\"irpp\")\n",
    "irpp_5 = simulation_couple_avec_5_enfants.calculate_add(\"irpp\")"
   ]
  },
  {
   "cell_type": "code",
   "execution_count": null,
   "metadata": {
    "collapsed": false
   },
   "outputs": [],
   "source": [
    "plt.plot(salaire_de_base[::3], irpp_1)\n",
    "plt.plot(salaire_de_base[::3], irpp_2)\n",
    "plt.plot(salaire_de_base[::3], irpp_3)\n",
    "plt.plot(salaire_de_base[::3], irpp_4)\n",
    "plt.plot(salaire_de_base[::3], irpp_5)"
   ]
  },
  {
   "cell_type": "markdown",
   "metadata": {},
   "source": [
    "# Tests"
   ]
  },
  {
   "cell_type": "code",
   "execution_count": null,
   "metadata": {
    "collapsed": false
   },
   "outputs": [],
   "source": [
    "reform = ReformeRevenuDeBase()"
   ]
  },
  {
   "cell_type": "code",
   "execution_count": null,
   "metadata": {
    "collapsed": false
   },
   "outputs": [],
   "source": [
    "simulation = tax_benefit_system.new_scenario().init_single_entity(\n",
    "    period = 2014,\n",
    "    parent1 = dict(\n",
    "        birth = date(1980, 1, 1),\n",
    "        salaire_imposable = 12000,\n",
    "        statmarit = u'Marié',\n",
    "        ),\n",
    "    parent2 = dict(\n",
    "        birth = date(1980, 1, 1),\n",
    "        salaire_imposable = 46000,\n",
    "        statmarit = u'Marié',\n",
    "        ),\n",
    "    enfants = [\n",
    "        dict(\n",
    "            birth = date(2010, 1, 1),\n",
    "            ),\n",
    "        dict(\n",
    "            birth = date(2005, 1, 1),\n",
    "            ),\n",
    "        dict(\n",
    "            birth = date(1999, 1, 1),\n",
    "            ),\n",
    "        ],\n",
    "    ).new_simulation(debug = True)"
   ]
  },
  {
   "cell_type": "code",
   "execution_count": null,
   "metadata": {
    "collapsed": false
   },
   "outputs": [],
   "source": [
    "simulation_pauvre = tax_benefit_system.new_scenario().init_single_entity(\n",
    "    period = 2014,\n",
    "    parent1 = dict(\n",
    "        birth = date(1980, 1, 1),\n",
    "        salaire_imposable = 12000,\n",
    "        statmarit = u'Marié',\n",
    "        ),\n",
    "    parent2 = dict(\n",
    "        birth = date(1980, 1, 1),\n",
    "        salaire_imposable = 6000,\n",
    "        statmarit = u'Marié',\n",
    "        ),\n",
    "    enfants = [\n",
    "        dict(\n",
    "            birth = date(2010, 1, 1),\n",
    "            ),\n",
    "        dict(\n",
    "            birth = date(2005, 1, 1),\n",
    "            ),\n",
    "        dict(\n",
    "            birth = date(1999, 1, 1),\n",
    "            ),\n",
    "        ],\n",
    "    ).new_simulation(debug = True)"
   ]
  },
  {
   "cell_type": "code",
   "execution_count": null,
   "metadata": {
    "collapsed": false
   },
   "outputs": [],
   "source": [
    "reform_simulation = reform.new_scenario().init_single_entity(\n",
    "    period = 2014,\n",
    "    parent1 = dict(\n",
    "        birth = date(1980, 1, 1),\n",
    "        salaire_imposable = 12000,\n",
    "        statmarit = u'Marié',\n",
    "        ),\n",
    "    parent2 = dict(\n",
    "        birth = date(1980, 1, 1),\n",
    "        salaire_imposable = 46000,\n",
    "        statmarit = u'Marié',\n",
    "        ),\n",
    "    enfants = [\n",
    "        dict(\n",
    "            birth = date(2010, 1, 1),\n",
    "            ),\n",
    "        dict(\n",
    "            birth = date(2005, 1, 1),\n",
    "            ),\n",
    "        dict(\n",
    "            birth = date(1999, 1, 1),\n",
    "            ),\n",
    "        ],\n",
    "    ).new_simulation(debug = True)"
   ]
  },
  {
   "cell_type": "code",
   "execution_count": null,
   "metadata": {
    "collapsed": false
   },
   "outputs": [],
   "source": [
    "reform_simulation_pauvre = reform.new_scenario().init_single_entity(\n",
    "    period = 2014,\n",
    "    parent1 = dict(\n",
    "        birth = date(1980, 1, 1),\n",
    "        salaire_imposable = 12000,\n",
    "        statmarit = u'Marié',\n",
    "        ),\n",
    "    parent2 = dict(\n",
    "        birth = date(1980, 1, 1),\n",
    "        salaire_imposable = 6000,\n",
    "        statmarit = u'Marié',\n",
    "        ),\n",
    "    enfants = [\n",
    "        dict(\n",
    "            birth = date(2010, 1, 1),\n",
    "            ),\n",
    "        dict(\n",
    "            birth = date(2005, 1, 1),\n",
    "            ),\n",
    "        dict(\n",
    "            birth = date(1999, 1, 1),\n",
    "            ),\n",
    "        ],\n",
    "    ).new_simulation(debug = True)"
   ]
  },
  {
   "cell_type": "code",
   "execution_count": null,
   "metadata": {
    "collapsed": false
   },
   "outputs": [],
   "source": [
    "simulation.calculate('nbptr')"
   ]
  },
  {
   "cell_type": "code",
   "execution_count": null,
   "metadata": {
    "collapsed": false
   },
   "outputs": [],
   "source": [
    "reform_simulation.calculate('nbptr')"
   ]
  },
  {
   "cell_type": "code",
   "execution_count": null,
   "metadata": {
    "collapsed": false
   },
   "outputs": [],
   "source": [
    "simulation.calculate_add('af')"
   ]
  },
  {
   "cell_type": "code",
   "execution_count": null,
   "metadata": {
    "collapsed": false
   },
   "outputs": [],
   "source": [
    "reform_simulation.calculate_add('af')"
   ]
  },
  {
   "cell_type": "code",
   "execution_count": null,
   "metadata": {
    "collapsed": false
   },
   "outputs": [],
   "source": [
    "simulation.calculate_add('cf')"
   ]
  },
  {
   "cell_type": "code",
   "execution_count": null,
   "metadata": {
    "collapsed": false
   },
   "outputs": [],
   "source": [
    "reform_simulation.calculate_add('cf')"
   ]
  },
  {
   "cell_type": "code",
   "execution_count": null,
   "metadata": {
    "collapsed": false
   },
   "outputs": [],
   "source": [
    "simulation.calculate('ars')"
   ]
  },
  {
   "cell_type": "code",
   "execution_count": null,
   "metadata": {
    "collapsed": false
   },
   "outputs": [],
   "source": [
    "reform_simulation.calculate('ars')"
   ]
  },
  {
   "cell_type": "code",
   "execution_count": null,
   "metadata": {
    "collapsed": false
   },
   "outputs": [],
   "source": [
    "simulation.calculate_add('rsa')"
   ]
  },
  {
   "cell_type": "code",
   "execution_count": null,
   "metadata": {
    "collapsed": false
   },
   "outputs": [],
   "source": [
    "reform_simulation.calculate_add('rsa')"
   ]
  },
  {
   "cell_type": "code",
   "execution_count": null,
   "metadata": {
    "collapsed": false
   },
   "outputs": [],
   "source": [
    "simulation.calculate('rmi_nbp', period = '2014-01')"
   ]
  },
  {
   "cell_type": "code",
   "execution_count": null,
   "metadata": {
    "collapsed": false
   },
   "outputs": [],
   "source": [
    "reform_simulation.calculate_add('rmi_nbp', period = '2014-01')"
   ]
  },
  {
   "cell_type": "code",
   "execution_count": null,
   "metadata": {
    "collapsed": false
   },
   "outputs": [],
   "source": [
    "reform_simulation.calculate_add('rdb_enfant_famille')"
   ]
  },
  {
   "cell_type": "code",
   "execution_count": null,
   "metadata": {
    "collapsed": false
   },
   "outputs": [],
   "source": [
    "reform_simulation.calculate_add('rdb_enf')"
   ]
  },
  {
   "cell_type": "code",
   "execution_count": null,
   "metadata": {
    "collapsed": false
   },
   "outputs": [],
   "source": [
    "simulation.calculate('revdisp')"
   ]
  },
  {
   "cell_type": "code",
   "execution_count": null,
   "metadata": {
    "collapsed": false
   },
   "outputs": [],
   "source": [
    "reform_simulation.calculate('revdisp')"
   ]
  },
  {
   "cell_type": "code",
   "execution_count": null,
   "metadata": {
    "collapsed": false
   },
   "outputs": [],
   "source": [
    "simulation_pauvre.calculate('revdisp')"
   ]
  },
  {
   "cell_type": "code",
   "execution_count": null,
   "metadata": {
    "collapsed": false
   },
   "outputs": [],
   "source": [
    "reform_simulation_pauvre.calculate('revdisp')"
   ]
  },
  {
   "cell_type": "code",
   "execution_count": null,
   "metadata": {
    "collapsed": false
   },
   "outputs": [],
   "source": [
    "simulation.calculate('salaire_imposable')"
   ]
  },
  {
   "cell_type": "code",
   "execution_count": null,
   "metadata": {
    "collapsed": false
   },
   "outputs": [],
   "source": [
    "reform_simulation.calculate('salaire_imposable')"
   ]
  },
  {
   "cell_type": "code",
   "execution_count": null,
   "metadata": {
    "collapsed": false
   },
   "outputs": [],
   "source": [
    "simulation.calculate('salsuperbrut')"
   ]
  },
  {
   "cell_type": "code",
   "execution_count": null,
   "metadata": {
    "collapsed": false
   },
   "outputs": [],
   "source": [
    "reform_simulation.calculate('salsuperbrut')"
   ]
  },
  {
   "cell_type": "code",
   "execution_count": null,
   "metadata": {
    "collapsed": false
   },
   "outputs": [],
   "source": [
    "simulation.calculate('salaire_net')"
   ]
  },
  {
   "cell_type": "code",
   "execution_count": null,
   "metadata": {
    "collapsed": false
   },
   "outputs": [],
   "source": [
    "reform_simulation.calculate('salaire_net')"
   ]
  },
  {
   "cell_type": "code",
   "execution_count": null,
   "metadata": {
    "collapsed": false
   },
   "outputs": [],
   "source": [
    "simulation.calculate('pfam')"
   ]
  },
  {
   "cell_type": "code",
   "execution_count": null,
   "metadata": {
    "collapsed": false
   },
   "outputs": [],
   "source": [
    "reform_simulation.calculate('pfam')"
   ]
  },
  {
   "cell_type": "code",
   "execution_count": null,
   "metadata": {
    "collapsed": false
   },
   "outputs": [],
   "source": [
    "simulation_pauvre.calculate('psoc')"
   ]
  },
  {
   "cell_type": "code",
   "execution_count": null,
   "metadata": {
    "collapsed": false
   },
   "outputs": [],
   "source": [
    "simulation.calculate('cotisations_salariales')"
   ]
  },
  {
   "cell_type": "code",
   "execution_count": null,
   "metadata": {
    "collapsed": false
   },
   "outputs": [],
   "source": [
    "reform_simulation_pauvre.calculate('pfam')"
   ]
  },
  {
   "cell_type": "code",
   "execution_count": null,
   "metadata": {
    "collapsed": false
   },
   "outputs": [],
   "source": [
    "simulation.calculate('irpp')"
   ]
  },
  {
   "cell_type": "code",
   "execution_count": null,
   "metadata": {
    "collapsed": false
   },
   "outputs": [],
   "source": [
    "reform_simulation.calculate('irpp')"
   ]
  },
  {
   "cell_type": "code",
   "execution_count": null,
   "metadata": {
    "collapsed": false
   },
   "outputs": [],
   "source": [
    "simulation.calculate('allegement_fillon')"
   ]
  },
  {
   "cell_type": "code",
   "execution_count": null,
   "metadata": {
    "collapsed": false
   },
   "outputs": [],
   "source": []
  }
 ],
 "metadata": {
  "kernelspec": {
   "display_name": "Python 2",
   "language": "python",
   "name": "python2"
  },
  "language_info": {
   "codemirror_mode": {
    "name": "ipython",
    "version": 2
   },
   "file_extension": ".py",
   "mimetype": "text/x-python",
   "name": "python",
   "nbconvert_exporter": "python",
   "pygments_lexer": "ipython2",
   "version": "2.7.9"
  }
 },
 "nbformat": 4,
 "nbformat_minor": 0
}
