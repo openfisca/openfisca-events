{
 "cells": [
  {
   "cell_type": "markdown",
   "metadata": {},
   "source": [
    "## 1.  Revenu de base enfants"
   ]
  },
  {
   "cell_type": "code",
   "execution_count": 9,
   "metadata": {
    "collapsed": false
   },
   "outputs": [],
   "source": [
    "from openfisca_core import reforms\n",
    "import openfisca_france\n",
    "from openfisca_france.model.base import *\n",
    "from numpy import maximum as max_, logical_not as not_, logical_or as or_\n",
    "from datetime import date\n",
    "\n",
    "import functools\n",
    "\n",
    "from openfisca_core.formulas import make_formula_decorator, neutralize_column\n",
    "from openfisca_france.entities import entity_class_by_symbol\n",
    "\n",
    "reference_formula = make_formula_decorator(entity_class_by_symbol = entity_class_by_symbol, update = True)\n",
    "reference_input_variable = functools.partial(reference_input_variable, update = True)"
   ]
  },
  {
   "cell_type": "code",
   "execution_count": 10,
   "metadata": {
    "collapsed": true
   },
   "outputs": [],
   "source": [
    "tax_benefit_system = openfisca_france.init_country()()"
   ]
  },
  {
   "cell_type": "code",
   "execution_count": 11,
   "metadata": {
    "collapsed": false
   },
   "outputs": [],
   "source": [
    "Reform_individualisation = reforms.make_reform(\n",
    "    key = 'individualisation',\n",
    "    name = u'Individualisation du RSA et de l\\'IRPP',\n",
    "    reference = tax_benefit_system,\n",
    "    )"
   ]
  },
  {
   "cell_type": "code",
   "execution_count": 12,
   "metadata": {
    "collapsed": false
   },
   "outputs": [],
   "source": [
    "ReformeRevenuDeBase.formula(neutralize_column(tax_benefit_system.column_by_name['af_base']))    # Suppression des allocations familiales        \n",
    "ReformeRevenuDeBase.formula(neutralize_column(tax_benefit_system.column_by_name['af']))    # Suppression des allocations familiales        \n",
    "ReformeRevenuDeBase.formula(neutralize_column(tax_benefit_system.column_by_name['cf']))    # Suppression du Complément familial\n",
    "ReformeRevenuDeBase.formula(neutralize_column(tax_benefit_system.column_by_name['ars']))    # Suppression de l'allocation de rentrée scolaire\n",
    "ReformeRevenuDeBase.formula(neutralize_column(tax_benefit_system.column_by_name['paje_base']))    # Suppression des allocations de base de la PAJE\n",
    "ReformeRevenuDeBase.formula(neutralize_column(tax_benefit_system.column_by_name['ecpess']))    # Suppression de réduction d'impôts à titre des enfants à charge poursuivant leurs études secondaire ou supérieur. \n",
    "ReformeRevenuDeBase.formula(neutralize_column(tax_benefit_system.column_by_name['nb_enfant_rsa']))    # Neutralisation des enfants dans les calculs liés au RSA\n",
    "# ReformeRevenuDeBase.formula(neutralize_column(tax_benefit_system.column_by_name['rmi_nbp']))    # Neutralisation des enfants dans les calculs liés au RSA\n"
   ]
  },
  {
   "cell_type": "code",
   "execution_count": null,
   "metadata": {
    "collapsed": true
   },
   "outputs": [],
   "source": [
    "# 8 - Suppression du Quotient familial (QF)\n",
    "# Le nombre de parts fiscales est recalculé en supprimant l'impact des enfants\n",
    "\n",
    "from numpy import logical_not as not_, minimum as min_, maximum as max_\n",
    "\n",
    "@ReformeRevenuDeBase.formula\n",
    "class nbptr(SimpleFormulaColumn):\n",
    "    reference = FoyersFiscaux.column_by_name['nbptr']\n",
    "\n",
    "    # On enlève les enfants du calcul du nbptr (quotient_familial.enf*)\n",
    "    \n",
    "    def function(self, simulation, period):\n",
    "        '''\n",
    "        Nombre de parts du foyer\n",
    "        'foy'\n",
    "        note 1 enfants et résidence alternée (formulaire 2041 GV page 10)\n",
    "\n",
    "        quotient_familial.conj : nb part associées au conjoint d'un couple marié ou pacsé\n",
    "        quotient_familial.inv1 : nb part supp enfants invalides (I, G)\n",
    "        quotient_familial.inv2 : nb part supp adultes invalides (R)\n",
    "        quotient_familial.not31 : nb part supp note 3 : cases W ou G pour veuf, celib ou div\n",
    "        quotient_familial.not32 : nb part supp note 3 : personne seule ayant élevé des enfants\n",
    "        quotient_familial.not41 : nb part supp adultes invalides (vous et/ou conjoint) note 4\n",
    "        quotient_familial.not42 : nb part supp adultes anciens combattants (vous et/ou conjoint) note 4\n",
    "        quotient_familial.not6 : nb part supp note 6\n",
    "        quotient_familial.isol : demi-part parent isolé (T)\n",
    "        quotient_familial.edcd : enfant issu du mariage avec conjoint décédé;\n",
    "        '''\n",
    "        period = period.start.offset('first-of', 'month').period('year')\n",
    "        nb_pac = simulation.calculate('nb_pac', period)\n",
    "        marpac = simulation.calculate('marpac', period)\n",
    "        celdiv = simulation.calculate('celdiv', period)\n",
    "        veuf = simulation.calculate('veuf', period)\n",
    "        jveuf = simulation.calculate('jveuf', period)\n",
    "        nbF = simulation.calculate('nbF', period)\n",
    "        nbG = simulation.calculate('nbG', period)\n",
    "        nbH = simulation.calculate('nbH', period)\n",
    "        nbI = simulation.calculate('nbI', period)\n",
    "        nbR = simulation.calculate('nbR', period)\n",
    "        nbJ = simulation.calculate('nbJ', period)\n",
    "        caseP = simulation.calculate('caseP', period)\n",
    "        caseW = simulation.calculate('caseW', period)\n",
    "        caseG = simulation.calculate('caseG', period)\n",
    "        caseE = simulation.calculate('caseE', period)\n",
    "        caseK = simulation.calculate('caseK', period)\n",
    "        caseN = simulation.calculate('caseN', period)\n",
    "        caseF = simulation.calculate('caseF', period)\n",
    "        caseS = simulation.calculate('caseS', period)\n",
    "        caseL = simulation.calculate('caseL', period)\n",
    "        caseT = simulation.calculate('caseT', period)\n",
    "        quotient_familial = simulation.legislation_at(period.start).ir.quotient_familial\n",
    "\n",
    "        no_pac = nb_pac == 0  # Aucune personne à charge en garde exclusive\n",
    "        has_pac = not_(no_pac)\n",
    "        no_alt = nbH == 0  # Aucun enfant à charge en garde alternée\n",
    "        has_alt = not_(no_alt)\n",
    "\n",
    "        # # note 2 : nombre de parts liées aux invalides (enfant + adulte)\n",
    "        n2 = quotient_familial.inv1 * (nbG + nbI / 2) + quotient_familial.inv2 * nbR\n",
    "\n",
    "        # # note 3 : Pas de personne à charge\n",
    "        # - invalide\n",
    "        n31a = quotient_familial.not31a * (no_pac & no_alt & caseP)\n",
    "        # - ancien combatant\n",
    "        n31b = quotient_familial.not31b * (no_pac & no_alt & (caseW | caseG))\n",
    "        n31 = max_(n31a, n31b)\n",
    "        # - personne seule ayant élevé des enfants\n",
    "        n32 = quotient_familial.not32 * (no_pac & no_alt & ((caseE | caseK) & not_(caseN)))\n",
    "        n3 = max_(n31, n32)\n",
    "        \n",
    "        # # note 4 Invalidité de la personne ou du conjoint pour les mariés ou\n",
    "        # # jeunes veuf(ve)s\n",
    "        n4 = max_(quotient_familial.not41 * (1 * caseP + 1 * caseF), quotient_familial.not42 * (caseW | caseS))\n",
    "\n",
    "        # # note 5\n",
    "        #  - enfant du conjoint décédé\n",
    "        n51 = quotient_familial.cdcd * (caseL & ((nbF + nbJ) > 0))\n",
    "        #  - enfant autre et parent isolé\n",
    "        n52 = quotient_familial.isol * caseT * (((no_pac & has_alt) * ((nbH == 1) * 0.5 + (nbH >= 2))) + 1 * has_pac)\n",
    "        n5 = max_(n51, n52)\n",
    "\n",
    "        # # note 6 invalide avec personne à charge\n",
    "        n6 = quotient_familial.not6 * (caseP & (has_pac | has_alt))\n",
    "\n",
    "        # # note 7 Parent isolé\n",
    "        n7 = quotient_familial.isol * caseT * ((no_pac & has_alt) * ((nbH == 1) * 0.5 + (nbH >= 2)) + 1 * has_pac)\n",
    "\n",
    "        # # Régime des mariés ou pacsés\n",
    "        m = 1 + quotient_familial.conj + n2 + n4\n",
    "        \n",
    "        # # veufs  hors jveuf\n",
    "        v = 1 + n2 + n3 + n5 + n6\n",
    "        \n",
    "        # # celib div\n",
    "        c = 1 + n2 + n3 + n6 + n7\n",
    "\n",
    "        return period, (marpac | jveuf) * m + (veuf & not_(jveuf)) * v + celdiv * c\n"
   ]
  },
  {
   "cell_type": "code",
   "execution_count": null,
   "metadata": {
    "collapsed": true
   },
   "outputs": [],
   "source": [
    "# A - Création d'un Revenu de Base Enfant\n",
    "\n",
    "@ReformeRevenuDeBase.formula\n",
    "class rdb_enf(SimpleFormulaColumn):\n",
    "    column = FloatCol\n",
    "    entity_class = Individus\n",
    "    label = u\"Revenu de Base Enfant\"\n",
    "\n",
    "    def function(self, simulation, period):\n",
    "        period = period.start.offset('first-of', 'month').period('month')\n",
    "        age = simulation.calculate('age')\n",
    "        P = simulation.legislation_at(period.start).fam.af        \n",
    "        bmaf = P.bmaf\n",
    "        \n",
    "        return period, (age < 14) * 0.41 * bmaf "
   ]
  },
  {
   "cell_type": "code",
   "execution_count": null,
   "metadata": {
    "collapsed": true
   },
   "outputs": [],
   "source": [
    "# B - Création d'un Revenu de Base Jeune\n",
    "\n",
    "@ReformeRevenuDeBase.formula\n",
    "class rdb_jeu(SimpleFormulaColumn):\n",
    "    column = FloatCol\n",
    "    entity_class = Individus\n",
    "    label = u\"Revenu de Base Jeune\"\n",
    "\n",
    "    def function(self, simulation, period):\n",
    "        period = period.start.offset('first-of', 'month').period('month')\n",
    "        age = simulation.calculate('age')\n",
    "        P = simulation.legislation_at(period.start).fam.af        \n",
    "        bmaf = P.bmaf\n",
    "        \n",
    "        return period, (age >= 14) * (age < 25) * 0.57 * bmaf "
   ]
  },
  {
   "cell_type": "code",
   "execution_count": null,
   "metadata": {
    "collapsed": true
   },
   "outputs": [],
   "source": [
    "# BILAN : calcul du revenu disponible en ajoutant RdB Enfant et RdB Jeune\n",
    "\n",
    "@ReformeRevenuDeBase.formula\n",
    "class revdisp(SimpleFormulaColumn):\n",
    "    reference = Menages.column_by_name['revdisp']\n",
    "\n",
    "    def function(self, simulation, period):\n",
    "        '''\n",
    "        Revenu disponible - ménage\n",
    "        'men'\n",
    "        '''\n",
    "        period = period.start.offset('first-of', 'month').period('year')\n",
    "        rev_trav_holder = simulation.compute('rev_trav', period)\n",
    "        pen_holder = simulation.compute('pen', period)\n",
    "        rev_cap_holder = simulation.compute('rev_cap', period)\n",
    "        psoc_holder = simulation.compute('psoc', period)\n",
    "        ppe_holder = simulation.compute('ppe', period)\n",
    "        impo = simulation.calculate('impo', period)\n",
    "        rdb_enfant_holder = simulation.compute_add('rdb_enf', period)\n",
    "        rdb_jeune_holder = simulation.compute_add('rdb_jeu', period)\n",
    "\n",
    "        pen = self.sum_by_entity(pen_holder)\n",
    "        ppe = self.cast_from_entity_to_role(ppe_holder, role = VOUS)\n",
    "        ppe = self.sum_by_entity(ppe)\n",
    "        psoc = self.cast_from_entity_to_role(psoc_holder, role = CHEF)\n",
    "        psoc = self.sum_by_entity(psoc)\n",
    "        rev_cap = self.sum_by_entity(rev_cap_holder)\n",
    "        rev_trav = self.sum_by_entity(rev_trav_holder)\n",
    "        rdb_enfant = self.sum_by_entity(rdb_enfant_holder)\n",
    "        rdb_jeune = self.sum_by_entity(rdb_jeune_holder)\n",
    "\n",
    "        return period, rev_trav + pen + rev_cap + psoc + ppe + impo + rdb_enfant + rdb_jeune"
   ]
  },
  {
   "cell_type": "markdown",
   "metadata": {},
   "source": [
    "# 2. Individualisation du RSA"
   ]
  },
  {
   "cell_type": "code",
   "execution_count": 13,
   "metadata": {
    "collapsed": true
   },
   "outputs": [],
   "source": [
    "def modify_legislation_json(reference_legislation_json_copy):\n",
    "    #reference_legislation_json_copy['children']['xxx']['values'][0]['value'] = 0\n",
    "    return reference_legislation_json_copy"
   ]
  },
  {
   "cell_type": "code",
   "execution_count": 14,
   "metadata": {
    "collapsed": true
   },
   "outputs": [],
   "source": [
    "@Reform_individualisation.formula\n",
    "class nb_enfant_rsa_indiv(EntityToPersonColumn):\n",
    "    entity_class = Individus\n",
    "    label = u\"Nombre d'enfants de la famille\"\n",
    "    variable = Familles.column_by_name['nb_enfant_rsa']"
   ]
  },
  {
   "cell_type": "code",
   "execution_count": 15,
   "metadata": {
    "collapsed": false
   },
   "outputs": [],
   "source": [
    "@Reform_individualisation.formula\n",
    "class rsa_eligibilite_tns_indiv(SimpleFormulaColumn):\n",
    "    # ATTENTION, on a fait le choix de se caler sur les célibataires dans le calcul du plafond,\n",
    "    # ce qui a pour effet de rendre inéligibles certains couples ou certaines familles avec enfants\n",
    "    column = BoolCol\n",
    "    entity_class = Individus\n",
    "    label = u\"Eligibilité au RSA pour un travailleur non salarié\"\n",
    "\n",
    "    def function(self, simulation, period):\n",
    "        period = period.start.offset('first-of', 'month').period('month')\n",
    "\n",
    "        #tns_benefice_exploitant_agricole_holder = simulation.compute('tns_benefice_exploitant_agricole', period)\n",
    "        #tns_benefice_exploitant_agricole = self.sum_by_entity(tns_benefice_exploitant_agricole_holder)\n",
    "        tns_benefice_exploitant_agricole = simulation.calculate('tns_benefice_exploitant_agricole', period) #new\n",
    "        #tns_employe_holder = simulation.compute('tns_employe', period)\n",
    "        #tns_employe = self.any_by_roles(tns_employe_holder)\n",
    "        tns_employe = simulation.calculate('tns_employe', period) #new\n",
    "        #tns_autres_revenus_chiffre_affaires_holder = simulation.compute('tns_autres_revenus_chiffre_affaires', period)\n",
    "        #tns_autres_revenus_chiffre_affaires = self.split_by_roles(tns_autres_revenus_chiffre_affaires_holder)\n",
    "        tns_autres_revenus_chiffre_affaires = simulation.calculate('tns_autres_revenus_chiffre_affaires', period) #new\n",
    "        #tns_autres_revenus_type_activite_holder = simulation.compute('tns_autres_revenus_type_activite', period)\n",
    "        #tns_autres_revenus_type_activite = self.split_by_roles(tns_autres_revenus_type_activite_holder)\n",
    "        tns_autres_revenus_type_activite = simulation.calculate('tns_autres_revenus_type_activite', period) #new\n",
    "        \n",
    "        #has_conjoint = simulation.calculate('nb_par', period) > 1\n",
    "        #nb_enfant_rsa = simulation.calculate('nb_enfant_rsa', period)\n",
    "        P = simulation.legislation_at(period.start)\n",
    "        P_agr = P.tns.exploitant_agricole\n",
    "        P_micro = P.ir.rpns.microentreprise\n",
    "        maj_2p = P_agr.maj_2p\n",
    "        maj_1e_2ad = P_agr.maj_1e_2ad\n",
    "        maj_e_sup = P_agr.maj_e_sup\n",
    "\n",
    "        #def eligibilite_agricole(has_conjoint, nb_enfant_rsa, tns_benefice_exploitant_agricole, P_agr):\n",
    "        def eligibilite_agricole(tns_benefice_exploitant_agricole, P_agr):\n",
    "            plafond_benefice_agricole = P_agr.plafond_rsa * P.cotsoc.gen.smic_h_b\n",
    "            #taux_avec_conjoint = 1 + maj_2p + maj_1e_2ad * (nb_enfant_rsa > 0) + maj_e_sup * max_(nb_enfant_rsa - 1, 0)\n",
    "            #taux_sans_conjoint = 1 + maj_2p * (nb_enfant_rsa > 0) + maj_e_sup * max_(nb_enfant_rsa - 1, 0)\n",
    "            #taux_majoration = has_conjoint * taux_avec_conjoint + (1 - has_conjoint) * taux_sans_conjoint\n",
    "            taux_majoration = 1 #new\n",
    "            plafond_benefice_agricole_majore = taux_majoration * plafond_benefice_agricole\n",
    "\n",
    "            return tns_benefice_exploitant_agricole < plafond_benefice_agricole_majore\n",
    "\n",
    "        def eligibilite_chiffre_affaire(ca, type_activite, P_micro):\n",
    "            plaf_vente = P_micro.vente.max\n",
    "            plaf_service = P_micro.servi.max\n",
    "\n",
    "            return ((type_activite == 0) * (ca <= plaf_vente)) + ((type_activite >= 1) * (ca <= plaf_service))\n",
    "\n",
    "        eligibilite_agricole = eligibilite_agricole(\n",
    "       #     has_conjoint, nb_enfant_rsa, tns_benefice_exploitant_agricole, P_agr\n",
    "            tns_benefice_exploitant_agricole, P_agr\n",
    "            )\n",
    "        eligibilite_chiffre_affaire = (\n",
    "            eligibilite_chiffre_affaire(\n",
    "       #         tns_autres_revenus_chiffre_affaires[CHEF], tns_autres_revenus_type_activite[CHEF], P_micro\n",
    "                tns_autres_revenus_chiffre_affaires, tns_autres_revenus_type_activite, P_micro #new\n",
    "            ) *\n",
    "            eligibilite_chiffre_affaire(\n",
    "       #         tns_autres_revenus_chiffre_affaires[PART], tns_autres_revenus_type_activite[PART], P_micro\n",
    "                tns_autres_revenus_chiffre_affaires, tns_autres_revenus_type_activite, P_micro #new\n",
    "            )\n",
    "        )\n",
    "\n",
    "        return period, eligibilite_agricole * (1 - tns_employe) * eligibilite_chiffre_affaire\n"
   ]
  },
  {
   "cell_type": "code",
   "execution_count": 16,
   "metadata": {
    "collapsed": false
   },
   "outputs": [],
   "source": [
    "@Reform_individualisation.formula\n",
    "class rsa_eligibilite_indiv(SimpleFormulaColumn):\n",
    "    # On maintient un calcul en fonction du ménage : règle du RSA pour les moins de 25 ans maintenu (s'ils ont des enfants)\n",
    "    column = BoolCol\n",
    "    entity_class = Individus\n",
    "    label = u\"Eligibilité au RSA\"\n",
    "\n",
    "    def function(self, simulation, period):\n",
    "        period = period.this_month\n",
    "        #age_holder = simulation.compute('age', period)\n",
    "        #age_parents = self.split_by_roles(age_holder, roles = [CHEF, PART])\n",
    "        age = simulation.calculate('age', period) #new\n",
    "        #activite_holder = simulation.compute('activite', period)\n",
    "        #activite_parents = self.split_by_roles(activite_holder, roles = [CHEF, PART])\n",
    "        activite = simulation.calculate('activite', period) #new\n",
    "        #nb_enfant_rsa = simulation.calculate('nb_enfant_rsa', period)\n",
    "        rsa_eligibilite_tns_indiv = simulation.calculate('rsa_eligibilite_tns_indiv', period)\n",
    "        #rsa_condition_nationalite = simulation.compute('rsa_condition_nationalite', period)\n",
    "        #condition_nationalite = self.any_by_roles(rsa_condition_nationalite, roles = [CHEF, PART])\n",
    "        condition_nationalite = simulation.calculate('rsa_condition_nationalite', period) #new\n",
    "        rmi = simulation.legislation_at(period.start).minim.rmi\n",
    "        #age_min = (nb_enfant_rsa_indiv == 0) * rmi.age_pac\n",
    "        quifam = simulation.calculate('quifam', period)\n",
    "        nb_enfant_rsa_indiv = simulation.calculate('nb_enfant_rsa_indiv', period)\n",
    "        condition_age = or_ (age >= rmi.age_pac, (age < rmi.age_pac) * (quifam == 0) * (nb_enfant_rsa_indiv > 1))\n",
    "        # ce qui est après le or_ a été codé pour le RSA jeune, mais je ne suis pas sûr du tout que ce soit la vraie règle\n",
    "\n",
    "    \n",
    "        #eligib = (\n",
    "        #    (age_parents[CHEF] >= age_min) * not_(activite_parents[CHEF] == 2) +\n",
    "        #    (age_parents[PART] >= age_min) * not_(activite_parents[PART] == 2)\n",
    "        #)\n",
    "        \n",
    "        eligib = condition_age  * not_(activite == 2) * (\n",
    "            condition_nationalite *\n",
    "            rsa_eligibilite_tns_indiv\n",
    "            )\n",
    "\n",
    "        return period, eligib"
   ]
  },
  {
   "cell_type": "code",
   "execution_count": 17,
   "metadata": {
    "collapsed": false
   },
   "outputs": [],
   "source": [
    "@Reform_individualisation.formula\n",
    "class nb_par_indiv(EntityToPersonColumn):\n",
    "    entity_class = Individus\n",
    "    label = u\"Nombre de parents de la famille\"\n",
    "    variable = Familles.column_by_name['nb_par']"
   ]
  },
  {
   "cell_type": "code",
   "execution_count": 18,
   "metadata": {
    "collapsed": true
   },
   "outputs": [],
   "source": [
    "#@Reform_individualisation.formula\n",
    "#class af_nbenf_indiv(EntityToPersonColumn):\n",
    "#    entity_class = Individus\n",
    "#    label = u\"Nombre d'enfants de la famille (au sens des allocations familiales)\"\n",
    "#    variable = Familles.column_by_name['af_nbenf']"
   ]
  },
  {
   "cell_type": "code",
   "execution_count": 19,
   "metadata": {
    "collapsed": true
   },
   "outputs": [],
   "source": [
    "@Reform_individualisation.formula\n",
    "class supp_monoparental(SimpleFormulaColumn):\n",
    "    label = u\"Supplément RSA monoparental\"\n",
    "    column = FloatCol\n",
    "    entity_class = Individus\n",
    "    \n",
    "    def function(self, simulation, period):\n",
    "        quifam = simulation.calculate('quifam', period)\n",
    "        nb_enfant_rsa_indiv = simulation.calculate('nb_enfant_rsa_indiv', period)\n",
    "        nb_par_indiv = simulation.calculate('nb_par_indiv', period)\n",
    "        rmi = simulation.legislation_at(period.start).minim.rmi\n",
    "        \n",
    "        return period, self.zeros() + (quifam == 0) * (nb_par_indiv == 1) * (nb_enfant_rsa_indiv > 0) * rmi.rmi * rmi.txp2 # - revenu de base enfants"
   ]
  },
  {
   "cell_type": "code",
   "execution_count": 20,
   "metadata": {
    "collapsed": false
   },
   "outputs": [],
   "source": [
    "@Reform_individualisation.formula\n",
    "class aspa_asi_ass_famille(EntityToPersonColumn):\n",
    "    # Comme on ne pouvait pas individualiser ces trois prestations, on a récupéré les prestations familialisées pour le calcul du RSA individuel\n",
    "    entity_class = Individus\n",
    "    label = u\"Somme de l'ASPA, ASI et ASS de la famille\"\n",
    "    variable = Familles.column_by_name['br_rmi_ms']"
   ]
  },
  {
   "cell_type": "code",
   "execution_count": 21,
   "metadata": {
    "collapsed": false
   },
   "outputs": [],
   "source": [
    "@Reform_individualisation.formula\n",
    "class rsa_indiv(SimpleFormulaColumn):\n",
    "    # Concernant les minimas sociaux qui sont déduits du RSA : - minimas sociaux individuels (aah, caah) : pas de problème\n",
    "    #   - minimas sociaux familialisés (aspa, asi, ass) : on a pris en compte l'allocation familialisée ; il faudrait idéalement les individualiser (mais c'est une autre réforme)\n",
    "    label = u\"RSA individualisé\"\n",
    "    column = FloatCol\n",
    "    entity_class = Individus\n",
    "    \n",
    "    def function(self, simulation, period):\n",
    "        period = period.start.offset('first-of', 'month').period('month')\n",
    "        eligib = simulation.calculate('rsa_eligibilite_indiv', period)\n",
    "        ra_rsa_i = simulation.calculate('ra_rsa_i', period)\n",
    "        br_rmi_i = simulation.calculate('br_rmi_i', period)\n",
    "        aah = simulation.calculate('aah', period)\n",
    "        caah = simulation.calculate('caah', period)        \n",
    "        aspa_asi_ass_famille = simulation.calculate('aspa_asi_ass_famille', period) \n",
    "        supp_monoparental = simulation.calculate('supp_monoparental', period)\n",
    "        rmi = simulation.legislation_at(period.start).minim.rmi\n",
    "        br_rmi_indiv = br_rmi_i + ra_rsa_i + aspa_asi_ass_famille + aah + caah\n",
    "        \n",
    "        return period, self.zeros() + eligib * (supp_monoparental + max_(rmi.rmi - rmi.rmi * rmi.forfait_logement.taux1 - br_rmi_indiv + rmi.pente * ra_rsa_i, 0) )"
   ]
  },
  {
   "cell_type": "code",
   "execution_count": 22,
   "metadata": {
    "collapsed": false
   },
   "outputs": [],
   "source": [
    "reform = Reform_individualisation()\n",
    "reform.modify_legislation_json(modifier_function = modify_legislation_json)"
   ]
  },
  {
   "cell_type": "code",
   "execution_count": 23,
   "metadata": {
    "collapsed": true
   },
   "outputs": [],
   "source": [
    "scenario = reform.new_scenario()"
   ]
  },
  {
   "cell_type": "code",
   "execution_count": 24,
   "metadata": {
    "collapsed": false
   },
   "outputs": [
    {
     "data": {
      "text/plain": [
       "<openfisca_france.scenarios.Scenario at 0x7f96545e6410>"
      ]
     },
     "execution_count": 24,
     "metadata": {},
     "output_type": "execute_result"
    }
   ],
   "source": [
    "scenario.init_single_entity(\n",
    "    period = 2012,\n",
    "    parent1 = dict(\n",
    "        age = 30,\n",
    "        salaire_de_base = 15000,\n",
    "        ),\n",
    "    enfants = [\n",
    "        dict(age = 10),\n",
    "        dict(age = 12),\n",
    "        dict(age = 18),\n",
    "        ],\n",
    "    )"
   ]
  },
  {
   "cell_type": "code",
   "execution_count": 25,
   "metadata": {
    "collapsed": true
   },
   "outputs": [],
   "source": [
    "reform_simulation = scenario.new_simulation()"
   ]
  },
  {
   "cell_type": "code",
   "execution_count": 26,
   "metadata": {
    "collapsed": false
   },
   "outputs": [
    {
     "data": {
      "text/plain": [
       "array([ 1006.98272705], dtype=float32)"
      ]
     },
     "execution_count": 26,
     "metadata": {},
     "output_type": "execute_result"
    }
   ],
   "source": [
    "reform_simulation.calculate('rsa', \"2015-01\")"
   ]
  },
  {
   "cell_type": "code",
   "execution_count": 27,
   "metadata": {
    "collapsed": false
   },
   "outputs": [
    {
     "data": {
      "text/plain": [
       "array([ 709.15441895,    0.        ,    0.        ,    0.        ], dtype=float32)"
      ]
     },
     "execution_count": 27,
     "metadata": {},
     "output_type": "execute_result"
    }
   ],
   "source": [
    "reform_simulation.calculate('rsa_indiv', \"2015-01\")"
   ]
  },
  {
   "cell_type": "code",
   "execution_count": 28,
   "metadata": {
    "collapsed": false
   },
   "outputs": [
    {
     "data": {
      "text/plain": [
       "<openfisca_france.scenarios.Scenario at 0x7f96545e6410>"
      ]
     },
     "execution_count": 28,
     "metadata": {},
     "output_type": "execute_result"
    }
   ],
   "source": [
    "scenario.init_single_entity(\n",
    "    period = 2015,\n",
    "    parent1 = dict(\n",
    "        age = 30,\n",
    "        salaire_de_base = 0,\n",
    "        ),\n",
    "    enfants = [\n",
    "        dict(birth = date(2005,1,1)),\n",
    "        dict(birth = date(2005,1,1)),\n",
    "        ],\n",
    "    )"
   ]
  },
  {
   "cell_type": "code",
   "execution_count": 29,
   "metadata": {
    "collapsed": true
   },
   "outputs": [],
   "source": [
    "reform_simulation2 = scenario.new_simulation()"
   ]
  },
  {
   "cell_type": "code",
   "execution_count": 30,
   "metadata": {
    "collapsed": false
   },
   "outputs": [
    {
     "data": {
      "text/plain": [
       "array([ 809.02276611], dtype=float32)"
      ]
     },
     "execution_count": 30,
     "metadata": {},
     "output_type": "execute_result"
    }
   ],
   "source": [
    "reform_simulation2.calculate('rsa', \"2015-12\")"
   ]
  },
  {
   "cell_type": "code",
   "execution_count": 31,
   "metadata": {
    "collapsed": false
   },
   "outputs": [
    {
     "data": {
      "text/plain": [
       "array([ 723.34082031,    0.        ,    0.        ], dtype=float32)"
      ]
     },
     "execution_count": 31,
     "metadata": {},
     "output_type": "execute_result"
    }
   ],
   "source": [
    "reform_simulation2.calculate('rsa_indiv', \"2015-12\")"
   ]
  },
  {
   "cell_type": "code",
   "execution_count": 32,
   "metadata": {
    "collapsed": false
   },
   "outputs": [
    {
     "data": {
      "text/plain": [
       "array([45, 10, 10], dtype=int32)"
      ]
     },
     "execution_count": 32,
     "metadata": {},
     "output_type": "execute_result"
    }
   ],
   "source": [
    "reform_simulation2.calculate('age', \"2015-03\")"
   ]
  },
  {
   "cell_type": "code",
   "execution_count": null,
   "metadata": {
    "collapsed": true
   },
   "outputs": [],
   "source": []
  },
  {
   "cell_type": "code",
   "execution_count": 33,
   "metadata": {
    "collapsed": false
   },
   "outputs": [
    {
     "data": {
      "text/plain": [
       "array([ 292.14346313,    0.        ,    0.        ,    0.        ], dtype=float32)"
      ]
     },
     "execution_count": 33,
     "metadata": {},
     "output_type": "execute_result"
    }
   ],
   "source": [
    "reform_simulation.calculate('rsa_indiv', \"2012-12\")"
   ]
  },
  {
   "cell_type": "code",
   "execution_count": null,
   "metadata": {
    "collapsed": true
   },
   "outputs": [],
   "source": []
  }
 ],
 "metadata": {
  "kernelspec": {
   "display_name": "Python 2",
   "language": "python",
   "name": "python2"
  },
  "language_info": {
   "codemirror_mode": {
    "name": "ipython",
    "version": 2
   },
   "file_extension": ".py",
   "mimetype": "text/x-python",
   "name": "python",
   "nbconvert_exporter": "python",
   "pygments_lexer": "ipython2",
   "version": "2.7.12rc1"
  }
 },
 "nbformat": 4,
 "nbformat_minor": 0
}
