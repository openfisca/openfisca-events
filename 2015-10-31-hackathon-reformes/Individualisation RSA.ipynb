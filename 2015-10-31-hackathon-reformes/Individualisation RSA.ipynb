{
 "cells": [
  {
   "cell_type": "code",
   "execution_count": 1,
   "metadata": {
    "collapsed": false
   },
   "outputs": [],
   "source": [
    "from openfisca_core import reforms\n",
    "import openfisca_france\n",
    "from openfisca_france.model.base import *\n",
    "from numpy import maximum as max_, logical_not as not_, logical_or as or_\n",
    "from datetime import date"
   ]
  },
  {
   "cell_type": "code",
   "execution_count": 2,
   "metadata": {
    "collapsed": true
   },
   "outputs": [],
   "source": [
    "tax_benefit_system = openfisca_france.init_country()()"
   ]
  },
  {
   "cell_type": "code",
   "execution_count": 3,
   "metadata": {
    "collapsed": false
   },
   "outputs": [],
   "source": [
    "Reform_individualisation = reforms.make_reform(\n",
    "    key = 'individualisation',\n",
    "    name = u'Individualisation du RSA et de l\\'IRPP',\n",
    "    reference = tax_benefit_system,\n",
    "    )"
   ]
  },
  {
   "cell_type": "code",
   "execution_count": 4,
   "metadata": {
    "collapsed": false
   },
   "outputs": [],
   "source": [
    "@Reform_individualisation.formula\n",
    "class a(SimpleFormulaColumn):\n",
    "    label = u\"Charge déductibles always returning 999\"\n",
    "    column = FloatCol\n",
    "    entity_class = Familles\n",
    "\n",
    "    def function(self, simulation, period):\n",
    "        return period, self.zeros() * 999"
   ]
  },
  {
   "cell_type": "code",
   "execution_count": 5,
   "metadata": {
    "collapsed": true
   },
   "outputs": [],
   "source": [
    "def modify_legislation_json(reference_legislation_json_copy):\n",
    "    #reference_legislation_json_copy['children']['xxx']['values'][0]['value'] = 0\n",
    "    return reference_legislation_json_copy"
   ]
  },
  {
   "cell_type": "code",
   "execution_count": 6,
   "metadata": {
    "collapsed": true
   },
   "outputs": [],
   "source": [
    "@Reform_individualisation.formula\n",
    "class nb_enfant_rsa_indiv(EntityToPersonColumn):\n",
    "    entity_class = Individus\n",
    "    label = u\"Nombre d'enfants de la famille\"\n",
    "    variable = Familles.column_by_name['nb_enfant_rsa']"
   ]
  },
  {
   "cell_type": "code",
   "execution_count": 7,
   "metadata": {
    "collapsed": false
   },
   "outputs": [],
   "source": [
    "@Reform_individualisation.formula\n",
    "class rsa_eligibilite_tns_indiv(SimpleFormulaColumn):\n",
    "    # ATTENTION, on a fait le choix de se caler sur les célibataires dans le calcul du plafond,\n",
    "    # ce qui a pour effet de rendre inéligibles certains couples ou certaines familles avec enfants\n",
    "    column = BoolCol\n",
    "    entity_class = Individus\n",
    "    label = u\"Eligibilité au RSA pour un travailleur non salarié\"\n",
    "\n",
    "    def function(self, simulation, period):\n",
    "        period = period.start.offset('first-of', 'month').period('month')\n",
    "\n",
    "        #tns_benefice_exploitant_agricole_holder = simulation.compute('tns_benefice_exploitant_agricole', period)\n",
    "        #tns_benefice_exploitant_agricole = self.sum_by_entity(tns_benefice_exploitant_agricole_holder)\n",
    "        tns_benefice_exploitant_agricole = simulation.calculate('tns_benefice_exploitant_agricole', period) #new\n",
    "        #tns_employe_holder = simulation.compute('tns_employe', period)\n",
    "        #tns_employe = self.any_by_roles(tns_employe_holder)\n",
    "        tns_employe = simulation.calculate('tns_employe', period) #new\n",
    "        #tns_autres_revenus_chiffre_affaires_holder = simulation.compute('tns_autres_revenus_chiffre_affaires', period)\n",
    "        #tns_autres_revenus_chiffre_affaires = self.split_by_roles(tns_autres_revenus_chiffre_affaires_holder)\n",
    "        tns_autres_revenus_chiffre_affaires = simulation.calculate('tns_autres_revenus_chiffre_affaires', period) #new\n",
    "        #tns_autres_revenus_type_activite_holder = simulation.compute('tns_autres_revenus_type_activite', period)\n",
    "        #tns_autres_revenus_type_activite = self.split_by_roles(tns_autres_revenus_type_activite_holder)\n",
    "        tns_autres_revenus_type_activite = simulation.calculate('tns_autres_revenus_type_activite', period) #new\n",
    "        \n",
    "        #has_conjoint = simulation.calculate('nb_par', period) > 1\n",
    "        #nb_enfant_rsa = simulation.calculate('nb_enfant_rsa', period)\n",
    "        P = simulation.legislation_at(period.start)\n",
    "        P_agr = P.tns.exploitant_agricole\n",
    "        P_micro = P.ir.rpns.microentreprise\n",
    "        maj_2p = P_agr.maj_2p\n",
    "        maj_1e_2ad = P_agr.maj_1e_2ad\n",
    "        maj_e_sup = P_agr.maj_e_sup\n",
    "\n",
    "        #def eligibilite_agricole(has_conjoint, nb_enfant_rsa, tns_benefice_exploitant_agricole, P_agr):\n",
    "        def eligibilite_agricole(tns_benefice_exploitant_agricole, P_agr):\n",
    "            plafond_benefice_agricole = P_agr.plafond_rsa * P.cotsoc.gen.smic_h_b\n",
    "            #taux_avec_conjoint = 1 + maj_2p + maj_1e_2ad * (nb_enfant_rsa > 0) + maj_e_sup * max_(nb_enfant_rsa - 1, 0)\n",
    "            #taux_sans_conjoint = 1 + maj_2p * (nb_enfant_rsa > 0) + maj_e_sup * max_(nb_enfant_rsa - 1, 0)\n",
    "            #taux_majoration = has_conjoint * taux_avec_conjoint + (1 - has_conjoint) * taux_sans_conjoint\n",
    "            taux_majoration = 1 #new\n",
    "            plafond_benefice_agricole_majore = taux_majoration * plafond_benefice_agricole\n",
    "\n",
    "            return tns_benefice_exploitant_agricole < plafond_benefice_agricole_majore\n",
    "\n",
    "        def eligibilite_chiffre_affaire(ca, type_activite, P_micro):\n",
    "            plaf_vente = P_micro.vente.max\n",
    "            plaf_service = P_micro.servi.max\n",
    "\n",
    "            return ((type_activite == 0) * (ca <= plaf_vente)) + ((type_activite >= 1) * (ca <= plaf_service))\n",
    "\n",
    "        eligibilite_agricole = eligibilite_agricole(\n",
    "       #     has_conjoint, nb_enfant_rsa, tns_benefice_exploitant_agricole, P_agr\n",
    "            tns_benefice_exploitant_agricole, P_agr\n",
    "            )\n",
    "        eligibilite_chiffre_affaire = (\n",
    "            eligibilite_chiffre_affaire(\n",
    "       #         tns_autres_revenus_chiffre_affaires[CHEF], tns_autres_revenus_type_activite[CHEF], P_micro\n",
    "                tns_autres_revenus_chiffre_affaires, tns_autres_revenus_type_activite, P_micro #new\n",
    "            ) *\n",
    "            eligibilite_chiffre_affaire(\n",
    "       #         tns_autres_revenus_chiffre_affaires[PART], tns_autres_revenus_type_activite[PART], P_micro\n",
    "                tns_autres_revenus_chiffre_affaires, tns_autres_revenus_type_activite, P_micro #new\n",
    "            )\n",
    "        )\n",
    "\n",
    "        return period, eligibilite_agricole * (1 - tns_employe) * eligibilite_chiffre_affaire\n"
   ]
  },
  {
   "cell_type": "code",
   "execution_count": 8,
   "metadata": {
    "collapsed": false
   },
   "outputs": [],
   "source": [
    "@Reform_individualisation.formula\n",
    "class rsa_eligibilite_indiv(SimpleFormulaColumn):\n",
    "    # On maintient un calcul en fonction du ménage : règle du RSA pour les moins de 25 ans maintenu (s'ils ont des enfants)\n",
    "    column = BoolCol\n",
    "    entity_class = Individus\n",
    "    label = u\"Eligibilité au RSA\"\n",
    "\n",
    "    def function(self, simulation, period):\n",
    "        period = period.this_month\n",
    "        #age_holder = simulation.compute('age', period)\n",
    "        #age_parents = self.split_by_roles(age_holder, roles = [CHEF, PART])\n",
    "        age = simulation.calculate('age', period) #new\n",
    "        #activite_holder = simulation.compute('activite', period)\n",
    "        #activite_parents = self.split_by_roles(activite_holder, roles = [CHEF, PART])\n",
    "        activite = simulation.calculate('activite', period) #new\n",
    "        #nb_enfant_rsa = simulation.calculate('nb_enfant_rsa', period)\n",
    "        nb_enfant_rsa_indiv = simulation.calculate('nb_enfant_rsa_indiv', period)\n",
    "        rsa_eligibilite_tns_indiv = simulation.calculate('rsa_eligibilite_tns_indiv', period)\n",
    "        #rsa_condition_nationalite = simulation.compute('rsa_condition_nationalite', period)\n",
    "        #condition_nationalite = self.any_by_roles(rsa_condition_nationalite, roles = [CHEF, PART])\n",
    "        condition_nationalite = simulation.calculate('rsa_condition_nationalite', period) #new\n",
    "        rmi = simulation.legislation_at(period.start).minim.rmi\n",
    "        #age_min = (nb_enfant_rsa_indiv == 0) * rmi.age_pac\n",
    "        quifam = simulation.calculate('quifam', period)\n",
    "        condition_age = or_(age >= rmi.age_pac,  (age < rmi.age_pac) * (quifam == 0) * (nb_enfant_rsa_indiv > 1))\n",
    "        # ce qui est après le or_ a été codé pour le RSA jeune, mais je ne suis pas sûr du tout que ce soit la vraie règle\n",
    "\n",
    "        #eligib = (\n",
    "        #    (age_parents[CHEF] >= age_min) * not_(activite_parents[CHEF] == 2) +\n",
    "        #    (age_parents[PART] >= age_min) * not_(activite_parents[PART] == 2)\n",
    "        #)\n",
    "        \n",
    "        eligib = condition_age * not_(activite == 2) * (\n",
    "            condition_nationalite *\n",
    "            rsa_eligibilite_tns_indiv\n",
    "            )\n",
    "\n",
    "        return period, eligib"
   ]
  },
  {
   "cell_type": "code",
   "execution_count": 9,
   "metadata": {
    "collapsed": false
   },
   "outputs": [],
   "source": [
    "@Reform_individualisation.formula\n",
    "class nb_par_indiv(EntityToPersonColumn):\n",
    "    entity_class = Individus\n",
    "    label = u\"Nombre de parents de la famille\"\n",
    "    variable = Familles.column_by_name['nb_par']"
   ]
  },
  {
   "cell_type": "code",
   "execution_count": 10,
   "metadata": {
    "collapsed": true
   },
   "outputs": [],
   "source": [
    "#@Reform_individualisation.formula\n",
    "#class af_nbenf_indiv(EntityToPersonColumn):\n",
    "#    entity_class = Individus\n",
    "#    label = u\"Nombre d'enfants de la famille (au sens des allocations familiales)\"\n",
    "#    variable = Familles.column_by_name['af_nbenf']"
   ]
  },
  {
   "cell_type": "code",
   "execution_count": 11,
   "metadata": {
    "collapsed": true
   },
   "outputs": [],
   "source": [
    "@Reform_individualisation.formula\n",
    "class supp_monoparental(SimpleFormulaColumn):\n",
    "    label = u\"Supplément RSA monoparental\"\n",
    "    column = FloatCol\n",
    "    entity_class = Individus\n",
    "    \n",
    "    def function(self, simulation, period):\n",
    "        quifam = simulation.calculate('quifam', period)\n",
    "        nb_enfant_rsa_indiv = simulation.calculate('nb_enfant_rsa_indiv', period)\n",
    "        nb_par_indiv = simulation.calculate('nb_par_indiv', period)\n",
    "        rmi = simulation.legislation_at(period.start).minim.rmi\n",
    "        af = simulation.legislation_at(period.start).fam.af\n",
    "        \n",
    "        return period, self.zeros() + (quifam == 0) * (nb_par_indiv == 1) * (nb_enfant_rsa_indiv > 0) * (rmi.rmi * rmi.txp2 - af.bmaf * 0.41)"
   ]
  },
  {
   "cell_type": "code",
   "execution_count": 12,
   "metadata": {
    "collapsed": false
   },
   "outputs": [],
   "source": [
    "@Reform_individualisation.formula\n",
    "class aspa_asi_ass_famille(EntityToPersonColumn):\n",
    "    # Comme on ne pouvait pas individualiser ces trois prestations, on a récupéré les prestations familialisées pour le calcul du RSA individuel\n",
    "    entity_class = Individus\n",
    "    label = u\"Somme de l'ASPA, ASI et ASS de la famille\"\n",
    "    variable = Familles.column_by_name['br_rmi_ms']"
   ]
  },
  {
   "cell_type": "code",
   "execution_count": 13,
   "metadata": {
    "collapsed": false
   },
   "outputs": [],
   "source": [
    "@Reform_individualisation.formula\n",
    "class rsa_indiv(SimpleFormulaColumn):\n",
    "    # Concernant les minimas sociaux qui sont déduits du RSA : - minimas sociaux individuels (aah, caah) : pas de problème\n",
    "    #   - minimas sociaux familialisés (aspa, asi, ass) : on a pris en compte l'allocation familialisée ; il faudrait idéalement les individualiser (mais c'est une autre réforme)\n",
    "    label = u\"RSA individualisé\"\n",
    "    column = FloatCol\n",
    "    entity_class = Individus\n",
    "    \n",
    "    def function(self, simulation, period):\n",
    "        period = period.start.offset('first-of', 'month').period('month')\n",
    "        eligib = simulation.calculate('rsa_eligibilite_indiv', period)\n",
    "        ra_rsa_i = simulation.calculate('ra_rsa_i', period)\n",
    "        br_rmi_i = simulation.calculate('br_rmi_i', period)\n",
    "        aah = simulation.calculate('aah', period)\n",
    "        caah = simulation.calculate('caah', period)        \n",
    "        aspa_asi_ass_famille = simulation.calculate('aspa_asi_ass_famille', period) \n",
    "        supp_monoparental = simulation.calculate('supp_monoparental', period)\n",
    "        rmi = simulation.legislation_at(period.start).minim.rmi\n",
    "        br_rmi_indiv = br_rmi_i + ra_rsa_i + aspa_asi_ass_famille + aah + caah\n",
    "        \n",
    "        return period, self.zeros() + eligib * (supp_monoparental + max_(rmi.rmi - rmi.rmi * rmi.forfait_logement.taux1 - br_rmi_indiv + rmi.pente * ra_rsa_i, 0) )"
   ]
  },
  {
   "cell_type": "code",
   "execution_count": 14,
   "metadata": {
    "collapsed": false
   },
   "outputs": [],
   "source": [
    "reform = Reform_individualisation()\n",
    "reform.modify_legislation_json(modifier_function = modify_legislation_json)"
   ]
  },
  {
   "cell_type": "code",
   "execution_count": 15,
   "metadata": {
    "collapsed": true
   },
   "outputs": [],
   "source": [
    "scenario = reform.new_scenario()"
   ]
  },
  {
   "cell_type": "code",
   "execution_count": 16,
   "metadata": {
    "collapsed": false
   },
   "outputs": [
    {
     "data": {
      "text/plain": [
       "<openfisca_france.scenarios.Scenario at 0x7ff547154f10>"
      ]
     },
     "execution_count": 16,
     "metadata": {},
     "output_type": "execute_result"
    }
   ],
   "source": [
    "scenario.init_single_entity(\n",
    "    period = 2012,\n",
    "    parent1 = dict(\n",
    "        age = 30,\n",
    "        salaire_de_base = 15000,\n",
    "        ),\n",
    "    enfants = [\n",
    "        dict(age = 10),\n",
    "        dict(age = 12),\n",
    "        dict(age = 18),\n",
    "        ],\n",
    "    )"
   ]
  },
  {
   "cell_type": "code",
   "execution_count": 17,
   "metadata": {
    "collapsed": true
   },
   "outputs": [],
   "source": [
    "reform_simulation = scenario.new_simulation()"
   ]
  },
  {
   "cell_type": "code",
   "execution_count": 18,
   "metadata": {
    "collapsed": false
   },
   "outputs": [
    {
     "data": {
      "text/plain": [
       "array([ 1006.98272705], dtype=float32)"
      ]
     },
     "execution_count": 18,
     "metadata": {},
     "output_type": "execute_result"
    }
   ],
   "source": [
    "reform_simulation.calculate('rsa', \"2015-01\")"
   ]
  },
  {
   "cell_type": "code",
   "execution_count": 19,
   "metadata": {
    "collapsed": false
   },
   "outputs": [
    {
     "data": {
      "text/plain": [
       "array([ 542.60827637,    0.        ,    0.        ,    0.        ], dtype=float32)"
      ]
     },
     "execution_count": 19,
     "metadata": {},
     "output_type": "execute_result"
    }
   ],
   "source": [
    "reform_simulation.calculate('rsa_indiv', \"2015-01\")"
   ]
  },
  {
   "cell_type": "code",
   "execution_count": 20,
   "metadata": {
    "collapsed": false
   },
   "outputs": [
    {
     "data": {
      "text/plain": [
       "<openfisca_france.scenarios.Scenario at 0x7ff547154f10>"
      ]
     },
     "execution_count": 20,
     "metadata": {},
     "output_type": "execute_result"
    }
   ],
   "source": [
    "scenario.init_single_entity(\n",
    "    period = 2015,\n",
    "    parent1 = dict(\n",
    "        age = 30,\n",
    "        salaire_de_base = 0,\n",
    "        ),\n",
    "    enfants = [\n",
    "        dict(birth = date(2005,1,1)),\n",
    "        dict(birth = date(2005,1,1)),\n",
    "        ],\n",
    "    )"
   ]
  },
  {
   "cell_type": "code",
   "execution_count": 21,
   "metadata": {
    "collapsed": true
   },
   "outputs": [],
   "source": [
    "reform_simulation2 = scenario.new_simulation()"
   ]
  },
  {
   "cell_type": "code",
   "execution_count": 22,
   "metadata": {
    "collapsed": false
   },
   "outputs": [
    {
     "data": {
      "text/plain": [
       "array([ 809.02276611], dtype=float32)"
      ]
     },
     "execution_count": 22,
     "metadata": {},
     "output_type": "execute_result"
    }
   ],
   "source": [
    "reform_simulation2.calculate('rsa', \"2015-12\")"
   ]
  },
  {
   "cell_type": "code",
   "execution_count": 23,
   "metadata": {
    "collapsed": false
   },
   "outputs": [
    {
     "data": {
      "text/plain": [
       "array([ 556.79467773,    0.        ,    0.        ], dtype=float32)"
      ]
     },
     "execution_count": 23,
     "metadata": {},
     "output_type": "execute_result"
    }
   ],
   "source": [
    "reform_simulation2.calculate('rsa_indiv', \"2015-12\")"
   ]
  },
  {
   "cell_type": "code",
   "execution_count": 24,
   "metadata": {
    "collapsed": false
   },
   "outputs": [
    {
     "data": {
      "text/plain": [
       "array([45, 10, 10], dtype=int32)"
      ]
     },
     "execution_count": 24,
     "metadata": {},
     "output_type": "execute_result"
    }
   ],
   "source": [
    "reform_simulation2.calculate('age', \"2015-03\")"
   ]
  },
  {
   "cell_type": "code",
   "execution_count": null,
   "metadata": {
    "collapsed": true
   },
   "outputs": [],
   "source": []
  },
  {
   "cell_type": "code",
   "execution_count": 25,
   "metadata": {
    "collapsed": false
   },
   "outputs": [
    {
     "data": {
      "text/plain": [
       "array([ 128.5534668,    0.       ,    0.       ,    0.       ], dtype=float32)"
      ]
     },
     "execution_count": 25,
     "metadata": {},
     "output_type": "execute_result"
    }
   ],
   "source": [
    "reform_simulation.calculate('rsa_indiv', \"2012-12\")"
   ]
  },
  {
   "cell_type": "markdown",
   "metadata": {},
   "source": [
    "# Graphiques"
   ]
  },
  {
   "cell_type": "code",
   "execution_count": 26,
   "metadata": {
    "collapsed": true
   },
   "outputs": [],
   "source": [
    "import matplotlib\n",
    "import matplotlib.pyplot as plt\n",
    "%matplotlib inline"
   ]
  },
  {
   "cell_type": "code",
   "execution_count": 27,
   "metadata": {
    "collapsed": true
   },
   "outputs": [],
   "source": [
    "from datetime import date  # module nécessaire pour la définition des dates, dont notamment les dates de naissances\n",
    "from openfisca_france.tests.base import tax_benefit_system\n",
    "\n",
    "\n",
    "\n",
    "\n",
    "def make_couple_with_child_scenario(nombre_enfants = 0, year = None, tax_benefit_system = tax_benefit_system,\n",
    "                                    axes_variable = 'salaire_de_base',  ax_variable_max = 150000, count = 5000):\n",
    "    enfant = [dict(\n",
    "        birth = date(2005, 1, 1),\n",
    "        )]\n",
    "    enfants = enfant * nombre_enfants\n",
    "    scenario = tax_benefit_system.new_scenario().init_single_entity(\n",
    "        axes = [[\n",
    "            dict(\n",
    "                count = count,\n",
    "                min = 0,\n",
    "                max = ax_variable_max,\n",
    "                name = axes_variable,\n",
    "                period = year-2,\n",
    "                ),\n",
    "            dict(\n",
    "                count = count,\n",
    "                min = 0,\n",
    "                max = ax_variable_max,\n",
    "                name = axes_variable,\n",
    "                period = year-1,\n",
    "                ),\n",
    "            dict(\n",
    "                count = count,\n",
    "                min = 0,\n",
    "                max = ax_variable_max,\n",
    "                name = axes_variable,\n",
    "                period = year,\n",
    "                ),\n",
    "            ]],\n",
    "        period = year,\n",
    "        parent1 = dict(\n",
    "            birth = date(1980, 1, 1),\n",
    "            statmarit = 5, #pacsés\n",
    "            ),\n",
    "        parent2 = dict(\n",
    "            birth = date(1980, 1, 1),\n",
    "            statmarit = 5,\n",
    "            ),\n",
    "        enfants = enfants,\n",
    "        menage = dict(\n",
    "            loyer = 1000,\n",
    "            statut_occupation = 4,\n",
    "            ),\n",
    "        )\n",
    "    return scenario\n",
    "def make_single_with_child_scenario(nombre_enfants = 1, year = None, tax_benefit_system = tax_benefit_system,\n",
    "                                    axes_variable = 'salaire_de_base',  ax_variable_max = 150000, count = 5000):\n",
    "    enfant = [dict(\n",
    "        birth = date(2005, 1, 1),\n",
    "        )]\n",
    "    enfants = enfant * nombre_enfants\n",
    "    scenario = tax_benefit_system.new_scenario().init_single_entity(\n",
    "        axes = [[\n",
    "            dict(\n",
    "                count = count,\n",
    "                min = 0,\n",
    "                max = ax_variable_max,\n",
    "                name = axes_variable,\n",
    "                period = year-2,\n",
    "                ),\n",
    "            dict(\n",
    "                count = count,\n",
    "                min = 0,\n",
    "                max = ax_variable_max,\n",
    "                name = axes_variable,\n",
    "                period = year-1,\n",
    "                ),\n",
    "            dict(\n",
    "                count = count,\n",
    "                min = 0,\n",
    "                max = ax_variable_max,\n",
    "                name = axes_variable,\n",
    "                period = year,\n",
    "                ),\n",
    "            ]],\n",
    "        period = year,\n",
    "        parent1 = dict(\n",
    "            birth = date(1980, 1, 1),\n",
    "            ),\n",
    "        enfants = enfants,\n",
    "        menage = dict(\n",
    "            loyer = 1000,\n",
    "            statut_occupation = 4,\n",
    "            ),\n",
    "        )\n",
    "    return scenario"
   ]
  },
  {
   "cell_type": "code",
   "execution_count": 83,
   "metadata": {
    "collapsed": true
   },
   "outputs": [],
   "source": [
    "scenario_monoparental_actuel = make_single_with_child_scenario(2, 2014)"
   ]
  },
  {
   "cell_type": "code",
   "execution_count": 84,
   "metadata": {
    "collapsed": true
   },
   "outputs": [],
   "source": [
    "scenario_monoparental_reform = make_single_with_child_scenario(2, 2014, reform)"
   ]
  },
  {
   "cell_type": "code",
   "execution_count": 85,
   "metadata": {
    "collapsed": true
   },
   "outputs": [],
   "source": [
    "simulation_monoparental_actuel = scenario_monoparental_actuel.new_simulation()"
   ]
  },
  {
   "cell_type": "code",
   "execution_count": 86,
   "metadata": {
    "collapsed": true
   },
   "outputs": [],
   "source": [
    "simulation_monoparental_reform = scenario_monoparental_reform.new_simulation()"
   ]
  },
  {
   "cell_type": "code",
   "execution_count": 87,
   "metadata": {
    "collapsed": true
   },
   "outputs": [],
   "source": [
    "salaire_net_actuel = simulation_monoparental_actuel.calculate_add(\"salaire_net\")"
   ]
  },
  {
   "cell_type": "code",
   "execution_count": 88,
   "metadata": {
    "collapsed": true
   },
   "outputs": [],
   "source": [
    "salaire_net_reform = simulation_monoparental_reform.calculate_add(\"salaire_net\")"
   ]
  },
  {
   "cell_type": "code",
   "execution_count": 89,
   "metadata": {
    "collapsed": true
   },
   "outputs": [],
   "source": [
    "rsa_actuel = simulation_monoparental_actuel.calculate_add(\"rsa\")"
   ]
  },
  {
   "cell_type": "code",
   "execution_count": 90,
   "metadata": {
    "collapsed": true
   },
   "outputs": [],
   "source": [
    "rsa_reform = simulation_monoparental_reform.calculate_add(\"rsa_indiv\")"
   ]
  },
  {
   "cell_type": "code",
   "execution_count": 103,
   "metadata": {
    "collapsed": true
   },
   "outputs": [],
   "source": [
    "revdisp_actuel = simulation_monoparental_actuel.calculate_add(\"revdisp\")"
   ]
  },
  {
   "cell_type": "code",
   "execution_count": 104,
   "metadata": {
    "collapsed": true
   },
   "outputs": [],
   "source": [
    "revdisp_reform = simulation_monoparental_reform.calculate_add(\"revdisp\")"
   ]
  },
  {
   "cell_type": "code",
   "execution_count": 91,
   "metadata": {
    "collapsed": true
   },
   "outputs": [],
   "source": [
    "import matplotlib.pyplot as plt"
   ]
  },
  {
   "cell_type": "code",
   "execution_count": 102,
   "metadata": {
    "collapsed": false
   },
   "outputs": [
    {
     "data": {
      "text/plain": [
       "[<matplotlib.lines.Line2D at 0x7ff53c12ee90>,\n",
       " <matplotlib.lines.Line2D at 0x7ff53d1100d0>]"
      ]
     },
     "execution_count": 102,
     "metadata": {},
     "output_type": "execute_result"
    },
    {
     "data": {
      "image/png": "[encoded data removed]",
      "text/plain": [
       "<matplotlib.figure.Figure at 0x7ff53c0cd290>"
      ]
     },
     "metadata": {},
     "output_type": "display_data"
    }
   ],
   "source": [
    "plt.plot(salaire_net_actuel[::3],\n",
    "        rsa_actuel, salaire_net_reform[::3],\n",
    "        rsa_reform[::3])"
   ]
  },
  {
   "cell_type": "code",
   "execution_count": null,
   "metadata": {
    "collapsed": true
   },
   "outputs": [],
   "source": []
  }
 ],
 "metadata": {
  "kernelspec": {
   "display_name": "Python 2",
   "language": "python",
   "name": "python2"
  },
  "language_info": {
   "codemirror_mode": {
    "name": "ipython",
    "version": 2
   },
   "file_extension": ".py",
   "mimetype": "text/x-python",
   "name": "python",
   "nbconvert_exporter": "python",
   "pygments_lexer": "ipython2",
   "version": "2.7.12"
  }
 },
 "nbformat": 4,
 "nbformat_minor": 0
}
