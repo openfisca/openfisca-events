{
 "cells": [
  {
   "cell_type": "code",
   "execution_count": 1,
   "metadata": {
    "collapsed": false
   },
   "outputs": [],
   "source": [
    "import collections\n",
    "import json\n",
    "import urllib2"
   ]
  },
  {
   "cell_type": "code",
   "execution_count": 2,
   "metadata": {
    "collapsed": false
   },
   "outputs": [],
   "source": [
    "simulation = dict(\n",
    "    decomposition = [\n",
    "        dict(code = 'salsuperbrut', title = 'Salaire super brut'),\n",
    "        dict(code = 'salnet', title = 'Salaire net'),\n",
    "        dict(code = 'sali', title = 'Salaire imposable'),\n",
    "        dict(code = 'loyer', title = 'Loyer'),\n",
    "        dict(code = 'revdisp', title = 'Revenu disponible'),\n",
    "        ],\n",
    "    scenarios = [\n",
    "        dict(\n",
    "            axes = [\n",
    "                dict(\n",
    "                    count = 3,\n",
    "                    max = 24000,\n",
    "                    min = 0,\n",
    "                    name = 'sali',\n",
    "                    ),\n",
    "                dict(\n",
    "                    count = 2,\n",
    "                    max = 3000,\n",
    "                    min = 1000,\n",
    "                    name = 'loyer',\n",
    "                    ),\n",
    "                ],\n",
    "            test_case = dict(\n",
    "                familles = [\n",
    "                    dict(\n",
    "                        parents = ['ind0'],\n",
    "                        ),\n",
    "                    ],\n",
    "                foyers_fiscaux = [\n",
    "                    dict(\n",
    "                        declarants = ['ind0'],\n",
    "                        ),\n",
    "                    ],\n",
    "                individus = [\n",
    "                    dict(\n",
    "                        activite = u'Actif occupé',\n",
    "                        birth = 1970,\n",
    "                        cadre = True,\n",
    "                        id = 'ind0',\n",
    "                        statmarit = u'Célibataire',\n",
    "                        ),\n",
    "                    ],\n",
    "                menages = [\n",
    "                    dict(\n",
    "                        personne_de_reference = 'ind0',\n",
    "                        ),\n",
    "                    ],\n",
    "                ),\n",
    "            year = 2013,\n",
    "            ),\n",
    "        ],\n",
    "    )"
   ]
  },
  {
   "cell_type": "code",
   "execution_count": 3,
   "metadata": {
    "collapsed": false
   },
   "outputs": [],
   "source": [
    "request = urllib2.Request('http://api.openfisca.fr/api/1/simulate', headers = {\n",
    "    'Content-Type': 'application/json',\n",
    "    'User-Agent': 'OpenFisca-Notebook',\n",
    "    })\n",
    "try:\n",
    "    response = urllib2.urlopen(request, json.dumps(simulation))\n",
    "except urllib2.HTTPError as response:\n",
    "    print response.read()\n",
    "    raise\n",
    "response_text = response.read()\n",
    "response_dict = json.loads(response_text, object_pairs_hook = collections.OrderedDict)\n",
    "variables = response_dict['value']"
   ]
  },
  {
   "cell_type": "code",
   "execution_count": 4,
   "metadata": {
    "collapsed": false
   },
   "outputs": [
    {
     "name": "stdout",
     "output_type": "stream",
     "text": [
      "Salaire super brut                       |      0 |  16625 |  41556 |      0 |  16625 |  41556\n",
      "Salaire net                              |      0 |  11579 |  23158 |      0 |  11579 |  23158\n",
      "Salaire imposable                        |      0 |  12000 |  24000 |      0 |  12000 |  24000\n",
      "Loyer                                    |   1000 |   1000 |   1000 |   3000 |   3000 |   3000\n",
      "Revenu disponible                        |   5255 |  12695 |  22326 |   5255 |  12695 |  22326\n"
     ]
    }
   ],
   "source": [
    "for variable in variables:\n",
    "    print u'{:40s} | {}'.format(variable.get('title') or variable['code'], ' | '.join('{:6.0f}'.format(value) for value in variable['values']))"
   ]
  }
 ],
 "metadata": {
  "kernelspec": {
   "display_name": "Python 2",
   "language": "python",
   "name": "python2"
  },
  "language_info": {
   "codemirror_mode": {
    "name": "ipython",
    "version": 2
   },
   "file_extension": ".py",
   "mimetype": "text/x-python",
   "name": "python",
   "nbconvert_exporter": "python",
   "pygments_lexer": "ipython2",
   "version": "2.7.9"
  }
 },
 "nbformat": 4,
 "nbformat_minor": 0
}
