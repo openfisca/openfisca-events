{
 "cells": [
  {
   "cell_type": "code",
   "execution_count": 2,
   "metadata": {
    "collapsed": false
   },
   "outputs": [],
   "source": [
    "import collections\n",
    "import json\n",
    "import urllib2"
   ]
  },
  {
   "cell_type": "code",
   "execution_count": 3,
   "metadata": {
    "collapsed": false
   },
   "outputs": [],
   "source": [
    "simulation = dict(\n",
    "    decomposition = [\n",
    "        dict(code = 'rsti', title = 'Retraite imposable'),\n",
    "        dict(code = 'revdisp', title = 'Revenu disponible'),\n",
    "        ],\n",
    "    scenarios = [\n",
    "        dict(\n",
    "            test_case = dict(\n",
    "                familles = [\n",
    "                    dict(\n",
    "                        parents = ['ind0', 'ind1'],\n",
    "                        ),\n",
    "                    ],\n",
    "                foyers_fiscaux = [\n",
    "                    dict(\n",
    "                        declarants = ['ind0', 'ind1'],\n",
    "                        ),\n",
    "                    ],\n",
    "                individus = [\n",
    "                    dict(\n",
    "                        activite = u'Retraité',\n",
    "                        birth = '1940-01-01',\n",
    "                        id = 'ind0',\n",
    "                        rsti = 12500,\n",
    "                        statmarit = u'Marié',\n",
    "                        ),\n",
    "                    dict(\n",
    "                        activite = u'Retraité',\n",
    "                        birth = '1940-01-02',\n",
    "                        id = 'ind1',\n",
    "                        rsti = 12500,\n",
    "                        statmarit = u'Marié',\n",
    "                        ),\n",
    "                    ],\n",
    "                menages = [\n",
    "                    dict(\n",
    "                        personne_de_reference = 'ind0',\n",
    "                        conjoint = 'ind1',\n",
    "                        loyer = 500,\n",
    "                        depcom = '69301',\n",
    "                        zthabm = 0,\n",
    "                        so = 4,\n",
    "                        zone_apl = 2,\n",
    "                        ),\n",
    "                    ],\n",
    "                ),\n",
    "            year = 2013,\n",
    "            ),\n",
    "        ],\n",
    "    )"
   ]
  },
  {
   "cell_type": "code",
   "execution_count": 7,
   "metadata": {
    "collapsed": false
   },
   "outputs": [
    {
     "name": "stdout",
     "output_type": "stream",
     "text": [
      "{\n",
      "  \"apiVersion\": \"1.0\", \n",
      "  \"method\": \"/api/1/simulate\", \n",
      "  \"params\": {\n",
      "    \"scenarios\": [\n",
      "      {\n",
      "        \"test_case\": {\n",
      "          \"foyers_fiscaux\": [\n",
      "            {\n",
      "              \"declarants\": [\n",
      "                \"ind0\", \n",
      "                \"ind1\"\n",
      "              ]\n",
      "            }\n",
      "          ], \n",
      "          \"individus\": [\n",
      "            {\n",
      "              \"rsti\": 12500, \n",
      "              \"activite\": \"Retrait\\u00e9\", \n",
      "              \"statmarit\": \"Mari\\u00e9\", \n",
      "              \"birth\": \"1940-01-01\"\n",
      "            }, \n",
      "            {\n",
      "              \"rsti\": 12500, \n",
      "              \"activite\": \"Retrait\\u00e9\", \n",
      "              \"statmarit\": \"Mari\\u00e9\", \n",
      "              \"birth\": \"1940-01-02\"\n",
      "            }\n",
      "          ], \n",
      "          \"familles\": [\n",
      "            {\n",
      "              \"parents\": [\n",
      "                \"ind0\", \n",
      "                \"ind1\"\n",
      "              ]\n",
      "            }\n",
      "          ], \n",
      "          \"menages\": [\n",
      "            {\n",
      "              \"depcom\": \"69301\", \n",
      "              \"zone_apl\": 2, \n",
      "              \"loyer\": 500, \n",
      "              \"so\": 4, \n",
      "              \"personne_de_reference\": \"ind0\", \n",
      "              \"conjoint\": \"ind1\", \n",
      "              \"zthabm\": 0\n",
      "            }\n",
      "          ]\n",
      "        }, \n",
      "        \"year\": 2013\n",
      "      }\n",
      "    ], \n",
      "    \"decomposition\": [\n",
      "      {\n",
      "        \"code\": \"rsti\", \n",
      "        \"title\": \"Retraite imposable\"\n",
      "      }, \n",
      "      {\n",
      "        \"code\": \"revdisp\", \n",
      "        \"title\": \"Revenu disponible\"\n",
      "      }\n",
      "    ]\n",
      "  }, \n",
      "  \"url\": \"http://api.openfisca.fr/api/1/simulate\", \n",
      "  \"value\": [\n",
      "    {\n",
      "      \"code\": \"rsti\", \n",
      "      \"values\": [\n",
      "        25000\n",
      "      ], \n",
      "      \"title\": \"Retraite imposable\"\n",
      "    }, \n",
      "    {\n",
      "      \"url\": \"http://fr.wikipedia.org/wiki/Revenu_disponible\", \n",
      "      \"code\": \"revdisp\", \n",
      "      \"values\": [\n",
      "        15092.48828125\n",
      "      ], \n",
      "      \"title\": \"Revenu disponible\"\n",
      "    }\n",
      "  ]\n",
      "}\n"
     ]
    }
   ],
   "source": [
    "request = urllib2.Request('http://api.openfisca.fr/api/1/simulate', headers = {\n",
    "    'Content-Type': 'application/json',\n",
    "    'User-Agent': 'OpenFisca-Notebook',\n",
    "    })\n",
    "try:\n",
    "    response = urllib2.urlopen(request, json.dumps(simulation))\n",
    "except urllib2.HTTPError as response:\n",
    "    print response.read()\n",
    "    raise\n",
    "response_dict = json.loads(response.read(), object_pairs_hook = collections.OrderedDict)\n",
    "print json.dumps(response_dict, indent = 2)\n",
    "variables = response_dict['value']"
   ]
  },
  {
   "cell_type": "code",
   "execution_count": 5,
   "metadata": {
    "collapsed": false
   },
   "outputs": [
    {
     "name": "stdout",
     "output_type": "stream",
     "text": [
      "rsti                                     |  25000\n",
      "revdisp                                  |  15092\n"
     ]
    }
   ],
   "source": [
    "for variable in variables:\n",
    "    print u'{:40s} | {}'.format(variable['code'], ' | '.join('{:6.0f}'.format(value) for value in variable['values']))"
   ]
  },
  {
   "cell_type": "code",
   "execution_count": null,
   "metadata": {
    "collapsed": false
   },
   "outputs": [],
   "source": []
  }
 ],
 "metadata": {
  "kernelspec": {
   "display_name": "Python 2",
   "language": "python",
   "name": "python2"
  },
  "language_info": {
   "codemirror_mode": {
    "name": "ipython",
    "version": 2
   },
   "file_extension": ".py",
   "mimetype": "text/x-python",
   "name": "python",
   "nbconvert_exporter": "python",
   "pygments_lexer": "ipython2",
   "version": "2.7.12"
  }
 },
 "nbformat": 4,
 "nbformat_minor": 0
}
