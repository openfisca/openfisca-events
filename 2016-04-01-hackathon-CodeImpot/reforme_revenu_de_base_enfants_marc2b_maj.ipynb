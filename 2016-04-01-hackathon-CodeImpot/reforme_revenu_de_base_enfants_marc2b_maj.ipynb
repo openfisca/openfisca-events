{
 "cells": [
  {
   "cell_type": "code",
   "execution_count": null,
   "metadata": {
    "collapsed": false
   },
   "outputs": [],
   "source": [
    "from datetime import date\n",
    "\n",
    "from openfisca_france import init_country\n",
    "from openfisca_france.model.base import *"
   ]
  },
  {
   "cell_type": "markdown",
   "metadata": {},
   "source": [
    "# Système socio-fiscal"
   ]
  },
  {
   "cell_type": "code",
   "execution_count": null,
   "metadata": {
    "collapsed": false
   },
   "outputs": [],
   "source": [
    "TaxBenefitSystem = init_country()\n",
    "tax_benefit_system = TaxBenefitSystem()"
   ]
  },
  {
   "cell_type": "code",
   "execution_count": null,
   "metadata": {
    "collapsed": false
   },
   "outputs": [],
   "source": [
    "from openfisca_core import reforms"
   ]
  },
  {
   "cell_type": "code",
   "execution_count": null,
   "metadata": {
    "collapsed": false
   },
   "outputs": [],
   "source": [
    "ReformeRevenuDeBase = reforms.make_reform(\n",
    "    key = 'reforme_rdb',\n",
    "    name = u\"Réforme Revenu de base\",\n",
    "    reference = tax_benefit_system,\n",
    "    )"
   ]
  },
  {
   "cell_type": "markdown",
   "metadata": {},
   "source": [
    "# Réforme : 1. Revenu de base enfant"
   ]
  },
  {
   "cell_type": "code",
   "execution_count": null,
   "metadata": {
    "collapsed": false
   },
   "outputs": [],
   "source": []
  },
  {
   "cell_type": "code",
   "execution_count": null,
   "metadata": {
    "collapsed": false
   },
   "outputs": [],
   "source": [
    "# Suppression des allocations familiales\n",
    "\n",
    "class af(ReformeRevenuDeBase.Variable):\n",
    "    reference = Familles.column_by_name['af']\n",
    "\n",
    "    def function(self, simulation, period):\n",
    "        period = period.this_month\n",
    "        af_base = simulation.calculate('af_base', period)\n",
    "        af_majo = simulation.calculate('af_majo', period)\n",
    "        af_forf = simulation.calculate('af_forf', period)\n",
    "\n",
    "        #return period, af_base + af_majo + af_forf\n",
    "        return period, af_base * 0"
   ]
  },
  {
   "cell_type": "code",
   "execution_count": null,
   "metadata": {
    "collapsed": false
   },
   "outputs": [],
   "source": [
    "from numpy import round\n",
    "\n",
    "# Suppression du complément familial\n",
    "\n",
    "class cf(ReformeRevenuDeBase.Variable):\n",
    "    reference = Familles.column_by_name['cf']\n",
    "\n",
    "    def function(self, simulation, period):\n",
    "        '''\n",
    "        L'allocation de base de la paje n'est pas cumulable avec le complément familial\n",
    "        '''\n",
    "        period = period.this_month\n",
    "        paje_base = simulation.calculate('paje_base', period)\n",
    "        apje_temp = simulation.calculate('apje_temp', period)\n",
    "        ape_temp = simulation.calculate('ape_temp', period)\n",
    "        cf_montant = simulation.calculate('cf_montant', period)\n",
    "        residence_mayotte = simulation.calculate('residence_mayotte', period)\n",
    "\n",
    "        cf_brut = not_(paje_base) * (apje_temp <= cf_montant) * (ape_temp <= cf_montant) * cf_montant\n",
    "        # return period, not_(residence_mayotte) * round(cf_brut, 2)\n",
    "        return period, not_(residence_mayotte) * round(cf_brut, 2) * 0"
   ]
  },
  {
   "cell_type": "code",
   "execution_count": null,
   "metadata": {
    "collapsed": false
   },
   "outputs": [],
   "source": [
    "\n",
    "# Suppression de l'allocation de rentrée scolaire\n",
    "\n",
    "class ars(ReformeRevenuDeBase.Variable):\n",
    "    reference = Familles.column_by_name['ars']\n",
    "\n",
    "    def function(self, simulation, period):\n",
    "        '''\n",
    "        Allocation de rentrée scolaire brute de CRDS\n",
    "        '''\n",
    "        period_br = period.this_year\n",
    "        return period_br, self.zeros()"
   ]
  },
  {
   "cell_type": "code",
   "execution_count": null,
   "metadata": {
    "collapsed": false
   },
   "outputs": [],
   "source": [
    "\n"
   ]
  },
  {
   "cell_type": "code",
   "execution_count": null,
   "metadata": {
    "collapsed": false
   },
   "outputs": [],
   "source": [
    "# Suppression du nombre d'enfants dans le calcul du RSA forfait logement\n",
    "\n",
    "class rmi_nbp(ReformeRevenuDeBase.Variable):\n",
    "    reference = Familles.column_by_name['rmi_nbp']\n",
    "\n",
    "    def function(self, simulation, period):\n",
    "        period = period.start.offset('first-of', 'month').period('month')\n",
    "        age_holder = simulation.compute('age', period)\n",
    "        smic55_holder = simulation.compute('smic55', period)\n",
    "        nb_par = simulation.calculate('nb_par', period)\n",
    "        P = simulation.legislation_at(period.start).minim.rmi\n",
    "\n",
    "        age = self.split_by_roles(age_holder, roles = ENFS)\n",
    "        smic55 = self.split_by_roles(smic55_holder, roles = ENFS)\n",
    "\n",
    "        return period, nb_par # + nb_enf(age, smic55, 0, P.age_pac - 1)\n"
   ]
  },
  {
   "cell_type": "code",
   "execution_count": null,
   "metadata": {
    "collapsed": false
   },
   "outputs": [],
   "source": [
    "# Suppression de la cotisation patronale famille \n",
    "\n",
    "class famille(ReformeRevenuDeBase.Variable):\n",
    "    reference = Individus.column_by_name['famille']\n",
    "\n",
    "    def function(self, simulation, period):\n",
    "        # cotisation = apply_bareme(\n",
    "        #    simulation,\n",
    "        #    period,\n",
    "        #    cotisation_type = 'employeur',\n",
    "        #    bareme_name = 'famille',\n",
    "        #    variable_name = self.__class__.__name__,\n",
    "        #    )\n",
    "        #return period, cotisation        \n",
    "        return period, self.zeros()"
   ]
  },
  {
   "cell_type": "code",
   "execution_count": null,
   "metadata": {
    "collapsed": false
   },
   "outputs": [],
   "source": [
    "# Baisse de l'éxonération Fillon\n",
    "\n",
    "# /!\\ CHANGER LES PARAMÈTRES DE L'ÉXONÉRATION FILLON (-5,25%)\n",
    "\n",
    "#@ReformeRevenuDeBase.formula\n",
    "#def taux_exo_fillon(ratio_smic_salaire, majoration, P):\n",
    "#    '''\n",
    "#    Exonération Fillon\n",
    "#    http://www.securite-sociale.fr/comprendre/dossiers/exocotisations/exoenvigueur/fillon.htm\n",
    "#    '''\n",
    "#    # La divison par zéro engendre un warning\n",
    "#    # Le montant maximum de l’allègement dépend de l’effectif de l’entreprise.\n",
    "#    # Le montant est calculé chaque année civile, pour chaque salarié ;\n",
    "#    # il est égal au produit de la totalité de la rémunération annuelle telle\n",
    "#    # que visée à l’article L. 242-1 du code de la Sécurité sociale par un\n",
    "#    # coefficient.\n",
    "#    # Ce montant est majoré de 10 % pour les entreprises de travail temporaire\n",
    "#    # au titre des salariés temporaires pour lesquels elle est tenue à\n",
    "#    # l’obligation d’indemnisation compensatrice de congés payés.\n",
    "\n",
    "#    Pf = P.exo_bas_sal.fillon\n",
    "#    seuil = Pf.seuil\n",
    "#    tx_max = (Pf.tx_max * not_(majoration) + Pf.tx_max2 * majoration) - 0.0525\n",
    "#    if seuil <= 1:\n",
    "#        return 0\n",
    "#    # règle d'arrondi: 4 décimales au dix-millième le plus proche\n",
    "#    taux_fillon = round_(tx_max * min_(1, max_(seuil * ratio_smic_salaire - 1, 0) / (seuil - 1)), 4)\n",
    "#    return taux_fillon"
   ]
  },
  {
   "cell_type": "code",
   "execution_count": null,
   "metadata": {
    "collapsed": false
   },
   "outputs": [],
   "source": [
    "-"
   ]
  },
  {
   "cell_type": "code",
   "execution_count": null,
   "metadata": {
    "collapsed": false
   },
   "outputs": [],
   "source": [
    "# Création d'un revenu de base enfant - Version individus\n",
    "\n",
    "class rdb_enf(ReformeRevenuDeBase.Variable):\n",
    "    column = FloatCol\n",
    "    entity_class = Individus\n",
    "    label = u\"Revenu de base enfant\"\n",
    "\n",
    "    def function(self, simulation, period):\n",
    "        period = period.start.offset('first-of', 'month').period('month')\n",
    "        age = simulation.calculate('age')\n",
    "        P = simulation.legislation_at(period.start).fam.af        \n",
    "        bmaf = P.bmaf\n",
    "        \n",
    "        return period, ((age < 14) * 0.41 + not_(age < 14) * 0.57) * bmaf * (age <= 18)"
   ]
  },
  {
   "cell_type": "code",
   "execution_count": null,
   "metadata": {
    "collapsed": false
   },
   "outputs": [],
   "source": []
  },
  {
   "cell_type": "code",
   "execution_count": null,
   "metadata": {
    "collapsed": false
   },
   "outputs": [],
   "source": [
    "class revdisp(ReformeRevenuDeBase.Variable):\n",
    "    reference = Menages.column_by_name['revdisp']\n",
    "\n",
    "    def function(self, simulation, period):\n",
    "        '''\n",
    "        Revenu disponible - ménage\n",
    "        'men'\n",
    "        '''\n",
    "        period = period.start.period('year').offset('first-of')\n",
    "        rev_trav_holder = simulation.compute('rev_trav', period)\n",
    "        pen_holder = simulation.compute('pen', period)\n",
    "        rev_cap_holder = simulation.compute('rev_cap', period)\n",
    "        psoc_holder = simulation.compute('psoc', period)\n",
    "        ppe_holder = simulation.compute('ppe', period)\n",
    "        impo = simulation.calculate('impo', period)\n",
    "        rdb_enfant_holder = simulation.calculate_add('rdb_enf', period)\n",
    "\n",
    "        pen = self.sum_by_entity(pen_holder)\n",
    "        ppe = self.cast_from_entity_to_role(ppe_holder, role = VOUS)\n",
    "        ppe = self.sum_by_entity(ppe)\n",
    "        psoc = self.cast_from_entity_to_role(psoc_holder, role = CHEF)\n",
    "        psoc = self.sum_by_entity(psoc)\n",
    "        rev_cap = self.sum_by_entity(rev_cap_holder)\n",
    "        rev_trav = self.sum_by_entity(rev_trav_holder)\n",
    "        rdb_enfant = self.sum_by_entity(rdb_enfant_holder)\n",
    "\n",
    "        return period, rev_trav + pen + rev_cap + psoc + ppe + impo + rdb_enfant"
   ]
  },
  {
   "cell_type": "markdown",
   "metadata": {},
   "source": [
    "# Tests"
   ]
  },
  {
   "cell_type": "code",
   "execution_count": null,
   "metadata": {
    "collapsed": false
   },
   "outputs": [],
   "source": [
    "reform = ReformeRevenuDeBase()"
   ]
  },
  {
   "cell_type": "code",
   "execution_count": null,
   "metadata": {
    "collapsed": false
   },
   "outputs": [],
   "source": [
    "scenario = tax_benefit_system.new_scenario().init_single_entity(\n",
    "    period = 2014,\n",
    "    parent1 = dict(\n",
    "        birth = date(1980, 1, 1),\n",
    "        salaire_imposable = 12000,\n",
    "        statmarit = u'Marié',\n",
    "        ),\n",
    "    parent2 = dict(\n",
    "        birth = date(1980, 1, 1),\n",
    "        salaire_imposable = 46000,\n",
    "        statmarit = u'Marié',\n",
    "        ),\n",
    "    enfants = [\n",
    "        dict(\n",
    "            birth = date(2010, 1, 1),\n",
    "            ),\n",
    "        dict(\n",
    "            birth = date(2005, 1, 1),\n",
    "            ),\n",
    "        dict(\n",
    "            birth = date(1999, 1, 1),\n",
    "            ),\n",
    "        ],\n",
    "    )\n",
    "simulation = scenario.new_simulation(debug = True)"
   ]
  },
  {
   "cell_type": "code",
   "execution_count": null,
   "metadata": {
    "collapsed": false
   },
   "outputs": [],
   "source": [
    "simulation_pauvre = tax_benefit_system.new_scenario().init_single_entity(\n",
    "    period = 2014,\n",
    "    parent1 = dict(\n",
    "        birth = date(1980, 1, 1),\n",
    "        salaire_imposable = 12000,\n",
    "        statmarit = u'Marié',\n",
    "        ),\n",
    "    parent2 = dict(\n",
    "        birth = date(1980, 1, 1),\n",
    "        salaire_imposable = 6000,\n",
    "        statmarit = u'Marié',\n",
    "        ),\n",
    "    enfants = [\n",
    "        dict(\n",
    "            birth = date(2010, 1, 1),\n",
    "            ),\n",
    "        dict(\n",
    "            birth = date(2005, 1, 1),\n",
    "            ),\n",
    "        dict(\n",
    "            birth = date(1999, 1, 1),\n",
    "            ),\n",
    "        ],\n",
    "    ).new_simulation(debug = True)"
   ]
  },
  {
   "cell_type": "code",
   "execution_count": null,
   "metadata": {
    "collapsed": false
   },
   "outputs": [],
   "source": [
    "reform_simulation = reform.new_scenario().init_single_entity(\n",
    "    period = 2014,\n",
    "    parent1 = dict(\n",
    "        birth = date(1980, 1, 1),\n",
    "        salaire_imposable = 12000,\n",
    "        statmarit = u'Marié',\n",
    "        ),\n",
    "    parent2 = dict(\n",
    "        birth = date(1980, 1, 1),\n",
    "        salaire_imposable = 46000,\n",
    "        statmarit = u'Marié',\n",
    "        ),\n",
    "    enfants = [\n",
    "        dict(\n",
    "            birth = date(2010, 1, 1),\n",
    "            ),\n",
    "        dict(\n",
    "            birth = date(2005, 1, 1),\n",
    "            ),\n",
    "        dict(\n",
    "            birth = date(1999, 1, 1),\n",
    "            ),\n",
    "        ],\n",
    "    ).new_simulation(debug = True)"
   ]
  },
  {
   "cell_type": "code",
   "execution_count": null,
   "metadata": {
    "collapsed": false
   },
   "outputs": [],
   "source": [
    "reform_simulation_pauvre = reform.new_scenario().init_single_entity(\n",
    "    period = 2014,\n",
    "    parent1 = dict(\n",
    "        birth = date(1980, 1, 1),\n",
    "        salaire_imposable = 12000,\n",
    "        statmarit = u'Marié',\n",
    "        ),\n",
    "    parent2 = dict(\n",
    "        birth = date(1980, 1, 1),\n",
    "        salaire_imposable = 6000,\n",
    "        statmarit = u'Marié',\n",
    "        ),\n",
    "    enfants = [\n",
    "        dict(\n",
    "            birth = date(2010, 1, 1),\n",
    "            ),\n",
    "        dict(\n",
    "            birth = date(2005, 1, 1),\n",
    "            ),\n",
    "        dict(\n",
    "            birth = date(1999, 1, 1),\n",
    "            ),\n",
    "        ],\n",
    "    ).new_simulation(debug = True)"
   ]
  },
  {
   "cell_type": "code",
   "execution_count": null,
   "metadata": {
    "collapsed": false
   },
   "outputs": [],
   "source": [
    "simulation.calculate('nbptr')"
   ]
  },
  {
   "cell_type": "code",
   "execution_count": null,
   "metadata": {
    "collapsed": false
   },
   "outputs": [],
   "source": [
    "reform_simulation.calculate('nbptr')"
   ]
  },
  {
   "cell_type": "code",
   "execution_count": null,
   "metadata": {
    "collapsed": false
   },
   "outputs": [],
   "source": [
    "simulation.calculate_add('af')"
   ]
  },
  {
   "cell_type": "code",
   "execution_count": null,
   "metadata": {
    "collapsed": false
   },
   "outputs": [],
   "source": [
    "reform_simulation.calculate_add('af')"
   ]
  },
  {
   "cell_type": "code",
   "execution_count": null,
   "metadata": {
    "collapsed": false
   },
   "outputs": [],
   "source": [
    "simulation.calculate_add('cf')"
   ]
  },
  {
   "cell_type": "code",
   "execution_count": null,
   "metadata": {
    "collapsed": false
   },
   "outputs": [],
   "source": [
    "reform_simulation.calculate_add('cf')"
   ]
  },
  {
   "cell_type": "code",
   "execution_count": null,
   "metadata": {
    "collapsed": false
   },
   "outputs": [],
   "source": [
    "simulation.calculate('ars')"
   ]
  },
  {
   "cell_type": "code",
   "execution_count": null,
   "metadata": {
    "collapsed": false
   },
   "outputs": [],
   "source": [
    "reform_simulation.calculate_add('ars')"
   ]
  },
  {
   "cell_type": "code",
   "execution_count": null,
   "metadata": {
    "collapsed": false
   },
   "outputs": [],
   "source": [
    "simulation.calculate_add('rsa')"
   ]
  },
  {
   "cell_type": "code",
   "execution_count": null,
   "metadata": {
    "collapsed": true
   },
   "outputs": [],
   "source": [
    "from openfisca_core import web_tools"
   ]
  },
  {
   "cell_type": "code",
   "execution_count": null,
   "metadata": {
    "collapsed": false
   },
   "outputs": [],
   "source": [
    "print web_tools.get_trace_tool_link(scenario, ['rsa'])\n"
   ]
  },
  {
   "cell_type": "code",
   "execution_count": null,
   "metadata": {
    "collapsed": false
   },
   "outputs": [],
   "source": [
    "reform_simulation.calculate_add('rsa')"
   ]
  },
  {
   "cell_type": "code",
   "execution_count": null,
   "metadata": {
    "collapsed": false
   },
   "outputs": [],
   "source": [
    "simulation.calculate_add('rmi_nbp')"
   ]
  },
  {
   "cell_type": "code",
   "execution_count": null,
   "metadata": {
    "collapsed": false
   },
   "outputs": [],
   "source": [
    "reform_simulation.calculate_add('rmi_nbp')"
   ]
  },
  {
   "cell_type": "code",
   "execution_count": null,
   "metadata": {
    "collapsed": false
   },
   "outputs": [],
   "source": [
    "simulation.calculate('famille')"
   ]
  },
  {
   "cell_type": "code",
   "execution_count": null,
   "metadata": {
    "collapsed": false
   },
   "outputs": [],
   "source": [
    "reform_simulation.calculate('famille')"
   ]
  },
  {
   "cell_type": "code",
   "execution_count": null,
   "metadata": {
    "collapsed": false
   },
   "outputs": [],
   "source": [
    "reform_simulation.calculate_add('rdb_enfant_famille')"
   ]
  },
  {
   "cell_type": "code",
   "execution_count": null,
   "metadata": {
    "collapsed": false
   },
   "outputs": [],
   "source": [
    "reform_simulation.calculate_add('rdb_enf')"
   ]
  },
  {
   "cell_type": "code",
   "execution_count": null,
   "metadata": {
    "collapsed": false
   },
   "outputs": [],
   "source": [
    "reform_simulation.calculate('csgenf')"
   ]
  },
  {
   "cell_type": "code",
   "execution_count": null,
   "metadata": {
    "collapsed": false
   },
   "outputs": [],
   "source": [
    "simulation.calculate('csg')"
   ]
  },
  {
   "cell_type": "code",
   "execution_count": null,
   "metadata": {
    "collapsed": false
   },
   "outputs": [],
   "source": [
    "reform_simulation.calculate('csg')"
   ]
  },
  {
   "cell_type": "code",
   "execution_count": null,
   "metadata": {
    "collapsed": false
   },
   "outputs": [],
   "source": [
    "simulation.calculate('revdisp')"
   ]
  },
  {
   "cell_type": "code",
   "execution_count": null,
   "metadata": {
    "collapsed": false
   },
   "outputs": [],
   "source": [
    "reform_simulation.calculate('revdisp')"
   ]
  },
  {
   "cell_type": "code",
   "execution_count": null,
   "metadata": {
    "collapsed": false
   },
   "outputs": [],
   "source": [
    "simulation_pauvre.calculate('revdisp')"
   ]
  },
  {
   "cell_type": "code",
   "execution_count": null,
   "metadata": {
    "collapsed": false
   },
   "outputs": [],
   "source": [
    "reform_simulation_pauvre.calculate('revdisp')"
   ]
  },
  {
   "cell_type": "code",
   "execution_count": null,
   "metadata": {
    "collapsed": false
   },
   "outputs": [],
   "source": [
    "simulation.calculate('salaire_imposable')"
   ]
  },
  {
   "cell_type": "code",
   "execution_count": null,
   "metadata": {
    "collapsed": false
   },
   "outputs": [],
   "source": [
    "reform_simulation.calculate('salaire_imposable')"
   ]
  },
  {
   "cell_type": "code",
   "execution_count": null,
   "metadata": {
    "collapsed": false
   },
   "outputs": [],
   "source": [
    "simulation.calculate('salaire_super_brut')"
   ]
  },
  {
   "cell_type": "code",
   "execution_count": null,
   "metadata": {
    "collapsed": false
   },
   "outputs": [],
   "source": [
    "reform_simulation.calculate('salaire_super_brut')"
   ]
  },
  {
   "cell_type": "code",
   "execution_count": null,
   "metadata": {
    "collapsed": false
   },
   "outputs": [],
   "source": [
    "simulation.calculate('salaire_net')"
   ]
  },
  {
   "cell_type": "code",
   "execution_count": null,
   "metadata": {
    "collapsed": false
   },
   "outputs": [],
   "source": [
    "reform_simulation.calculate('salaire_net')"
   ]
  },
  {
   "cell_type": "code",
   "execution_count": null,
   "metadata": {
    "collapsed": false
   },
   "outputs": [],
   "source": [
    "simulation.calculate('pfam')"
   ]
  },
  {
   "cell_type": "code",
   "execution_count": null,
   "metadata": {
    "collapsed": false
   },
   "outputs": [],
   "source": [
    "reform_simulation.calculate('pfam')"
   ]
  },
  {
   "cell_type": "code",
   "execution_count": null,
   "metadata": {
    "collapsed": false
   },
   "outputs": [],
   "source": [
    "simulation_pauvre.calculate('psoc')"
   ]
  },
  {
   "cell_type": "code",
   "execution_count": null,
   "metadata": {
    "collapsed": false
   },
   "outputs": [],
   "source": [
    "simulation.calculate('cotisations_salariales')"
   ]
  },
  {
   "cell_type": "code",
   "execution_count": null,
   "metadata": {
    "collapsed": false
   },
   "outputs": [],
   "source": [
    "reform_simulation_pauvre.calculate('pfam')"
   ]
  },
  {
   "cell_type": "code",
   "execution_count": null,
   "metadata": {
    "collapsed": false
   },
   "outputs": [],
   "source": [
    "simulation.calculate('irpp')"
   ]
  },
  {
   "cell_type": "code",
   "execution_count": null,
   "metadata": {
    "collapsed": false
   },
   "outputs": [],
   "source": [
    "reform_simulation.calculate('irpp')"
   ]
  },
  {
   "cell_type": "code",
   "execution_count": null,
   "metadata": {
    "collapsed": false
   },
   "outputs": [],
   "source": [
    "simulation.calculate('allegement_fillon')"
   ]
  },
  {
   "cell_type": "code",
   "execution_count": null,
   "metadata": {
    "collapsed": false
   },
   "outputs": [],
   "source": []
  }
 ],
 "metadata": {
  "kernelspec": {
   "display_name": "Python 2",
   "language": "python",
   "name": "python2"
  },
  "language_info": {
   "codemirror_mode": {
    "name": "ipython",
    "version": 2
   },
   "file_extension": ".py",
   "mimetype": "text/x-python",
   "name": "python",
   "nbconvert_exporter": "python",
   "pygments_lexer": "ipython2",
   "version": "2.7.11+"
  }
 },
 "nbformat": 4,
 "nbformat_minor": 0
}
