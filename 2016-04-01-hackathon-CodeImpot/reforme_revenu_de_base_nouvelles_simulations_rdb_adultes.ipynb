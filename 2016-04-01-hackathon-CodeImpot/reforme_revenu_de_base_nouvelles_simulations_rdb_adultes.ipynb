{
 "cells": [
  {
   "cell_type": "code",
   "execution_count": 2154,
   "metadata": {
    "collapsed": false
   },
   "outputs": [],
   "source": [
    "# FONCTIONNE COMPLETEMENT AU 02/04/2016\n",
    "from datetime import date\n",
    "\n",
    "from openfisca_france import init_country\n",
    "from openfisca_france.model.base import *\n",
    "\n",
    "# to debug / trace\n",
    "from openfisca_core import web_tools"
   ]
  },
  {
   "cell_type": "markdown",
   "metadata": {},
   "source": [
    "# Système socio-fiscal"
   ]
  },
  {
   "cell_type": "code",
   "execution_count": 2155,
   "metadata": {
    "collapsed": false
   },
   "outputs": [],
   "source": [
    "TaxBenefitSystem = init_country()\n",
    "tax_benefit_system = TaxBenefitSystem()"
   ]
  },
  {
   "cell_type": "code",
   "execution_count": 2156,
   "metadata": {
    "collapsed": false
   },
   "outputs": [],
   "source": [
    "from openfisca_core import reforms"
   ]
  },
  {
   "cell_type": "code",
   "execution_count": 2157,
   "metadata": {
    "collapsed": false
   },
   "outputs": [],
   "source": [
    "ReformeRevenuDeBase = reforms.make_reform(\n",
    "    key = 'reforme_rdb',\n",
    "    name = u\"Réforme Revenu de base\",\n",
    "    reference = tax_benefit_system,\n",
    "    )"
   ]
  },
  {
   "cell_type": "markdown",
   "metadata": {},
   "source": [
    "# Réforme : 1. Revenu de base"
   ]
  },
  {
   "cell_type": "code",
   "execution_count": 2158,
   "metadata": {
    "collapsed": false
   },
   "outputs": [],
   "source": [
    "from numpy import logical_not as not_, minimum as min_, maximum as max_, logical_and as and_, logical_or as or_\n",
    "#- Hausse de la CSG déductible au taux de 25%\n",
    "#- Mise en place d'un revenu de base adulte égal à RSA socle célibataire - forfait logement célibataire\n",
    "#- Intégrer le revenu de base au revenu disponible\n",
    "#- Mise en place d'un crédit d'impot familles monoparentales montant ??? (50€)\n",
    "#- Supprimer le RSA\n",
    "\n",
    "\n",
    "#-Visualisation graphique en abscisse salaire brut et en ordonnée variation du revenu disponible \n",
    "# pour un célibataire sans enfant\n",
    "# pour un couple sans enfant\n",
    "# une famille monoparentale\n",
    "\n",
    "\n",
    "#(- Nouveau calcul de l'IRPP)\n"
   ]
  },
  {
   "cell_type": "code",
   "execution_count": 2159,
   "metadata": {
    "collapsed": false
   },
   "outputs": [],
   "source": [
    "#- Hausse de la CSG déductible au taux de 20%\n",
    "#montant_csg_crds calcul à partir law_node.taux-plein law_node.taux_réduit et law_node.taux\n",
    "import json\n",
    "#- Hausse de la CSG déductible au taux de 20%\n",
    "#montant_csg_crds calcul à partir law_node.taux-plein law_node.taux_réduit et law_node.taux\n",
    "def modify_legislation_json(reference_legislation_json_copy):\n",
    "    for value_json in reference_legislation_json_copy['children']['csg']['children']['activite']['children']['deductible']['children']['taux']['values']:\n",
    "        value_json['value'] = 0.20\n",
    "    return reference_legislation_json_copy\n",
    "\n"
   ]
  },
  {
   "cell_type": "code",
   "execution_count": 2160,
   "metadata": {
    "collapsed": false
   },
   "outputs": [],
   "source": [
    "#- Mise en place d'un revenu de base adulte égal à RSA socle célibataire - forfait logement célibataire\n",
    "\n",
    "class rdb(ReformeRevenuDeBase.Variable):\n",
    "    column = FloatCol\n",
    "    entity_class = Individus\n",
    "    label = u\"Revenu de base\"\n",
    "\n",
    "    def function(self, simulation, period):\n",
    "        period = period.start.offset('first-of', 'month').period('month')\n",
    "        age = simulation.calculate('age') \n",
    "        rmi = simulation.legislation_at(period.start).minim.rmi\n",
    "        \n",
    "        return period, ((age >= 18) * rmi.rmi * ( 1 -rmi.forfait_logement.taux1) + not_(age >= 18) * 0)\n",
    "\n"
   ]
  },
  {
   "cell_type": "code",
   "execution_count": 2161,
   "metadata": {
    "collapsed": true
   },
   "outputs": [],
   "source": [
    "#- Intégrer le revenu de base au revenu disponible\n",
    "class revdisp(ReformeRevenuDeBase.Variable):\n",
    "    reference = Menages.column_by_name['revdisp']\n",
    "\n",
    "    def function(self, simulation, period):\n",
    "        '''\n",
    "        Revenu disponible - ménage\n",
    "        'men'\n",
    "        '''\n",
    "        period = period.start.period('year').offset('first-of')\n",
    "        rev_trav_holder = simulation.compute('rev_trav', period)\n",
    "        pen_holder = simulation.compute('pen', period)\n",
    "        rev_cap_holder = simulation.compute('rev_cap', period)\n",
    "        psoc_holder = simulation.compute('psoc', period)\n",
    "        ppe_holder = simulation.compute('ppe', period)\n",
    "        impo = simulation.calculate('impo', period)\n",
    "        rdb_holder = simulation.calculate_add('rdb', period)\n",
    "        credit_impot_monoparentales_holder = simulation.calculate_add('credit_impot_monoparentales', period)\n",
    "\n",
    "        pen = self.sum_by_entity(pen_holder)\n",
    "        ppe = self.cast_from_entity_to_role(ppe_holder, role = VOUS)\n",
    "        ppe = self.sum_by_entity(ppe)\n",
    "        psoc = self.cast_from_entity_to_role(psoc_holder, role = CHEF)\n",
    "        psoc = self.sum_by_entity(psoc)\n",
    "        rev_cap = self.sum_by_entity(rev_cap_holder)\n",
    "        rev_trav = self.sum_by_entity(rev_trav_holder)\n",
    "        rdb = self.sum_by_entity(rdb_holder)\n",
    "        #credit_impot_monoparentales = self.sum_by_entity(credit_impot_monoparentales_holder)\n",
    "        \n",
    "        return period, rev_trav + pen + rev_cap + psoc + ppe + impo + rdb + credit_impot_monoparentales_holder"
   ]
  },
  {
   "cell_type": "code",
   "execution_count": 2162,
   "metadata": {
    "collapsed": false
   },
   "outputs": [],
   "source": [
    "#- Mise en place d'un crédit d'impot familles monoparentales montant (150€)\n",
    "class credit_impot_monoparentales(ReformeRevenuDeBase.Variable):\n",
    "    column = FloatCol\n",
    "    entity_class = Menages\n",
    "    label = u\"credit_impot_monoparentales\"\n",
    "\n",
    "    def function(self, simulation, period):\n",
    "        period = period.start.offset('first-of', 'month').period('month')\n",
    "        nb_enf_a_charge = simulation.calculate('nombre_enfants_a_charge_menage',period)\n",
    "        caseT = simulation.calculate('caseT',period) #Egal True si le parent est isolé\n",
    "      \n",
    "        \n",
    "        #return period, or_(and_(age_holder >= 18, nb_enf_a_charge > 0, caseT), or_(age_holder < 18, nb_enf_a_charge <= 0, not_(caseT)) * 0) * 100\n",
    "        return period, (nb_enf_a_charge > 0) * (caseT) * 150\n",
    "    #Si le parent est isolé, avec au moins un enfant, et qu'il est majeur il reçoit la pension"
   ]
  },
  {
   "cell_type": "code",
   "execution_count": 2163,
   "metadata": {
    "collapsed": false
   },
   "outputs": [],
   "source": [
    "#- Supprimer le RSA\n",
    "class rsa_socle(ReformeRevenuDeBase.Variable):\n",
    "    reference = Familles.column_by_name['rsa_socle']\n",
    "\n",
    "    def function(self, simulation, period):\n",
    "        period = period.this_month\n",
    "        nb_par = simulation.calculate('nb_par', period)\n",
    "        eligib = simulation.calculate('rsa_eligibilite', period)\n",
    "        nb_enfant_rsa = simulation.calculate('nb_enfant_rsa', period)\n",
    "        rmi = simulation.legislation_at(period.start).minim.rmi\n",
    "\n",
    "        nbp = nb_par + nb_enfant_rsa\n",
    "\n",
    "        taux = (\n",
    "            1 +\n",
    "            (nbp >= 2) * rmi.txp2 +\n",
    "            (nbp >= 3) * rmi.txp3 +\n",
    "            (nbp >= 4) * ((nb_par == 1) * rmi.txps + (nb_par != 1) * rmi.txp3) +\n",
    "            max_(nbp - 4, 0) * rmi.txps\n",
    "        )\n",
    "        #on met à zéro\n",
    "        return period, eligib * rmi.rmi * taux * 0"
   ]
  },
  {
   "cell_type": "markdown",
   "metadata": {},
   "source": [
    "# Tests"
   ]
  },
  {
   "cell_type": "code",
   "execution_count": 2164,
   "metadata": {
    "collapsed": false
   },
   "outputs": [],
   "source": [
    "reform = ReformeRevenuDeBase()\n",
    "reform.modify_legislation_json(modifier_function = modify_legislation_json)"
   ]
  },
  {
   "cell_type": "markdown",
   "metadata": {},
   "source": [
    "# Individu seul"
   ]
  },
  {
   "cell_type": "code",
   "execution_count": 2165,
   "metadata": {
    "collapsed": true
   },
   "outputs": [],
   "source": [
    "parent1_salaire_de_base = 20000"
   ]
  },
  {
   "cell_type": "code",
   "execution_count": 2166,
   "metadata": {
    "collapsed": false
   },
   "outputs": [],
   "source": [
    "scenario_ref_individu_seul = tax_benefit_system.new_scenario().init_single_entity(\n",
    "    period = 2014,\n",
    "    parent1 = dict(\n",
    "        birth = date(1980, 1, 1),\n",
    "        salaire_de_base = parent1_salaire_de_base,\n",
    "        statmarit = u'Célibataire',\n",
    "    ),\n",
    "    foyer_fiscal = dict(\n",
    "        caseT = True,\n",
    "    ),\n",
    "    enfants = [],\n",
    "    )\n",
    "simulation_ref_individu_seul = scenario_ref_individu_seul.new_simulation(debug = True)"
   ]
  },
  {
   "cell_type": "code",
   "execution_count": 2167,
   "metadata": {
    "collapsed": false
   },
   "outputs": [],
   "source": [
    "scenario_rdb_individu_seul = reform.new_scenario().init_single_entity(\n",
    "    period = 2014,\n",
    "    parent1 = dict(\n",
    "        birth = date(1980, 1, 1),\n",
    "        salaire_de_base = parent1_salaire_de_base,\n",
    "        statmarit = u'Célibataire',\n",
    "    ),\n",
    "    foyer_fiscal = dict(\n",
    "        caseT = True,\n",
    "    ),\n",
    "    enfants = [],\n",
    "    )\n",
    "simulation_rdb_individu_seul = scenario_rdb_individu_seul.new_simulation(debug = True)"
   ]
  },
  {
   "cell_type": "markdown",
   "metadata": {},
   "source": [
    "Calculs de référence (revenu disponible, IR, RSA, CSG imposable/deductible, impot total) "
   ]
  },
  {
   "cell_type": "code",
   "execution_count": 2168,
   "metadata": {
    "collapsed": false
   },
   "outputs": [
    {
     "data": {
      "text/plain": [
       "array([ 16667.44140625], dtype=float32)"
      ]
     },
     "execution_count": 2168,
     "metadata": {},
     "output_type": "execute_result"
    }
   ],
   "source": [
    "simulation_ref_individu_seul.calculate('revdisp')"
   ]
  },
  {
   "cell_type": "code",
   "execution_count": 2169,
   "metadata": {
    "collapsed": false
   },
   "outputs": [
    {
     "data": {
      "text/plain": [
       "array([-231.078125], dtype=float32)"
      ]
     },
     "execution_count": 2169,
     "metadata": {},
     "output_type": "execute_result"
    }
   ],
   "source": [
    "simulation_ref_individu_seul.calculate('irpp')"
   ]
  },
  {
   "cell_type": "code",
   "execution_count": 2170,
   "metadata": {
    "collapsed": false
   },
   "outputs": [
    {
     "data": {
      "text/plain": [
       "array([ 558.21966553], dtype=float32)"
      ]
     },
     "execution_count": 2170,
     "metadata": {},
     "output_type": "execute_result"
    }
   ],
   "source": [
    "simulation_ref_individu_seul.calculate_add('rsa')"
   ]
  },
  {
   "cell_type": "code",
   "execution_count": 2171,
   "metadata": {
    "collapsed": false
   },
   "outputs": [
    {
     "data": {
      "text/plain": [
       "array([-471.59909058], dtype=float32)"
      ]
     },
     "execution_count": 2171,
     "metadata": {},
     "output_type": "execute_result"
    }
   ],
   "source": [
    "simulation_ref_individu_seul.calculate('csg_imposable_salaire')"
   ]
  },
  {
   "cell_type": "code",
   "execution_count": 2172,
   "metadata": {
    "collapsed": false
   },
   "outputs": [
    {
     "data": {
      "text/plain": [
       "array([-1002.14794922], dtype=float32)"
      ]
     },
     "execution_count": 2172,
     "metadata": {},
     "output_type": "execute_result"
    }
   ],
   "source": [
    "simulation_ref_individu_seul.calculate('csg_deductible_salaire')"
   ]
  },
  {
   "cell_type": "code",
   "execution_count": 2173,
   "metadata": {
    "collapsed": false
   },
   "outputs": [
    {
     "data": {
      "text/plain": [
       "array([ 1805.86608887], dtype=float32)"
      ]
     },
     "execution_count": 2173,
     "metadata": {},
     "output_type": "execute_result"
    }
   ],
   "source": [
    "simulation_ref_individu_seul.calculate('tot_impot')"
   ]
  },
  {
   "cell_type": "markdown",
   "metadata": {},
   "source": [
    "Calculs avec réforme RDB (revenu disponible, IR, RSA, CSG imposable/deductible, impot total) "
   ]
  },
  {
   "cell_type": "code",
   "execution_count": 2174,
   "metadata": {
    "collapsed": false
   },
   "outputs": [
    {
     "data": {
      "text/plain": [
       "array([ 18567.88476562], dtype=float32)"
      ]
     },
     "execution_count": 2174,
     "metadata": {},
     "output_type": "execute_result"
    }
   ],
   "source": [
    "simulation_rdb_individu_seul.calculate('revdisp')"
   ]
  },
  {
   "cell_type": "code",
   "execution_count": 2175,
   "metadata": {
    "collapsed": false
   },
   "outputs": [
    {
     "data": {
      "text/plain": [
       "array([ 0.], dtype=float32)"
      ]
     },
     "execution_count": 2175,
     "metadata": {},
     "output_type": "execute_result"
    }
   ],
   "source": [
    "simulation_rdb_individu_seul.calculate('irpp')"
   ]
  },
  {
   "cell_type": "code",
   "execution_count": 2176,
   "metadata": {
    "collapsed": false
   },
   "outputs": [
    {
     "data": {
      "text/plain": [
       "array([-471.59909058], dtype=float32)"
      ]
     },
     "execution_count": 2176,
     "metadata": {},
     "output_type": "execute_result"
    }
   ],
   "source": [
    "simulation_rdb_individu_seul.calculate('csg_imposable_salaire')"
   ]
  },
  {
   "cell_type": "code",
   "execution_count": 2177,
   "metadata": {
    "collapsed": false
   },
   "outputs": [
    {
     "data": {
      "text/plain": [
       "array([-3929.99145508], dtype=float32)"
      ]
     },
     "execution_count": 2177,
     "metadata": {},
     "output_type": "execute_result"
    }
   ],
   "source": [
    "simulation_rdb_individu_seul.calculate('csg_deductible_salaire')"
   ]
  },
  {
   "cell_type": "code",
   "execution_count": 2178,
   "metadata": {
    "collapsed": false
   },
   "outputs": [
    {
     "data": {
      "text/plain": [
       "array([ 4499.84033203], dtype=float32)"
      ]
     },
     "execution_count": 2178,
     "metadata": {},
     "output_type": "execute_result"
    }
   ],
   "source": [
    "simulation_rdb_individu_seul.calculate('tot_impot')"
   ]
  },
  {
   "cell_type": "code",
   "execution_count": 2179,
   "metadata": {
    "collapsed": false
   },
   "outputs": [
    {
     "data": {
      "text/plain": [
       "array([ 4499.84033203], dtype=float32)"
      ]
     },
     "execution_count": 2179,
     "metadata": {},
     "output_type": "execute_result"
    }
   ],
   "source": [
    "# trace\n",
    "simulation_rdb_individu_seul.calculate('tot_impot')\n",
    "#print web_tools.get_trace_tool_link(scenario, ['tot_impot'])"
   ]
  },
  {
   "cell_type": "code",
   "execution_count": 2180,
   "metadata": {
    "collapsed": false
   },
   "outputs": [
    {
     "data": {
      "text/plain": [
       "array([ 5307.87841797], dtype=float32)"
      ]
     },
     "execution_count": 2180,
     "metadata": {},
     "output_type": "execute_result"
    }
   ],
   "source": [
    "simulation_rdb_individu_seul.calculate('rdb')"
   ]
  },
  {
   "cell_type": "code",
   "execution_count": null,
   "metadata": {
    "collapsed": true
   },
   "outputs": [],
   "source": []
  },
  {
   "cell_type": "markdown",
   "metadata": {},
   "source": [
    "## Graphiques: scenario variant selon salaire_de_base (0 => 60k par palier de 5k)"
   ]
  },
  {
   "cell_type": "code",
   "execution_count": 2110,
   "metadata": {
    "collapsed": true
   },
   "outputs": [],
   "source": [
    "min_salaire_de_base = 0\n",
    "max_salaire_de_base = 60000\n",
    "nb_palier = max_salaire_de_base / 5000"
   ]
  },
  {
   "cell_type": "code",
   "execution_count": 2111,
   "metadata": {
    "collapsed": true
   },
   "outputs": [],
   "source": [
    "import matplotlib\n",
    "import matplotlib.pyplot as plt\n",
    "%matplotlib inline"
   ]
  },
  {
   "cell_type": "code",
   "execution_count": 2112,
   "metadata": {
    "collapsed": false
   },
   "outputs": [],
   "source": [
    "# REFERENCE\n",
    "year = 2014\n",
    "scenario_ref_individu_seul = tax_benefit_system.new_scenario().init_single_entity(\n",
    "    period = year,\n",
    "    parent1 = dict(\n",
    "        birth = date(1980, 1, 1),\n",
    "        statmarit = u'Célibataire',\n",
    "    ),\n",
    "    foyer_fiscal = dict(\n",
    "        caseT = True,\n",
    "    ),\n",
    "    enfants = [],\n",
    "    axes = [[\n",
    "            dict(\n",
    "                count = nb_palier,\n",
    "                min = min_salaire_de_base,\n",
    "                max = max_salaire_de_base,\n",
    "                name = 'salaire_de_base',\n",
    "                period = year,            \n",
    "                ),\n",
    "            dict(\n",
    "                count = nb_palier,\n",
    "                min = min_salaire_de_base,\n",
    "                max = max_salaire_de_base,\n",
    "                name = 'salaire_de_base',\n",
    "                period = year-1,            \n",
    "                ),\n",
    "            dict(\n",
    "                count = nb_palier,\n",
    "                min = min_salaire_de_base,\n",
    "                max = max_salaire_de_base,\n",
    "                name = 'salaire_de_base',\n",
    "                period = year-2,            \n",
    "                )\n",
    "            ]],\n",
    ")\n",
    "simulation_ref_individu_seul = scenario_ref_individu_seul.new_simulation(debug = True)"
   ]
  },
  {
   "cell_type": "code",
   "execution_count": 2113,
   "metadata": {
    "collapsed": true
   },
   "outputs": [],
   "source": [
    "# RDB\n",
    "scenario_rdb_individu_seul = reform.new_scenario().init_single_entity(\n",
    "    period = year,\n",
    "    parent1 = dict(\n",
    "        birth = date(1980, 1, 1),\n",
    "        statmarit = u'Célibataire',\n",
    "    ),\n",
    "    foyer_fiscal = dict(\n",
    "        caseT = True,\n",
    "    ),\n",
    "    enfants = [],\n",
    "    axes = [[\n",
    "            dict(\n",
    "                count = nb_palier,\n",
    "                min = min_salaire_de_base,\n",
    "                max = max_salaire_de_base,\n",
    "                name = 'salaire_de_base',\n",
    "                period = year,            \n",
    "                ),\n",
    "            dict(\n",
    "                count = nb_palier,\n",
    "                min = min_salaire_de_base,\n",
    "                max = max_salaire_de_base,\n",
    "                name = 'salaire_de_base',\n",
    "                period = year-1,            \n",
    "                ),\n",
    "            dict(\n",
    "                count = nb_palier,\n",
    "                min = min_salaire_de_base,\n",
    "                max = max_salaire_de_base,\n",
    "                name = 'salaire_de_base',\n",
    "                period = year-2,            \n",
    "                )\n",
    "            ]],\n",
    "    )\n",
    "simulation_rdb_individu_seul = scenario_rdb_individu_seul.new_simulation(debug = True)"
   ]
  },
  {
   "cell_type": "code",
   "execution_count": 2114,
   "metadata": {
    "collapsed": false
   },
   "outputs": [
    {
     "name": "stdout",
     "output_type": "stream",
     "text": [
      "[     0.           5454.54541016  10909.09082031  16363.63671875\n",
      "  21818.18164062  27272.7265625   32727.2734375   38181.81640625\n",
      "  43636.36328125  49090.91015625  54545.453125    60000.        ]\n"
     ]
    }
   ],
   "source": [
    "salaire_de_base = simulation_ref_individu_seul.calculate(\"salaire_de_base\")\n",
    "print salaire_de_base"
   ]
  },
  {
   "cell_type": "code",
   "execution_count": 2115,
   "metadata": {
    "collapsed": false
   },
   "outputs": [
    {
     "name": "stdout",
     "output_type": "stream",
     "text": [
      "[  5185.51025391   7107.81005859  10697.53515625  14287.2578125\n",
      "  17057.49023438  20649.50976562  24508.18164062  28209.32421875\n",
      "  31499.9375      34790.25390625  38080.8671875   41371.484375  ]\n",
      "[  5307.87841797   7253.68457031  11636.42578125  16019.14257812\n",
      "  19773.32226562  22681.22070312  25628.72265625  28801.93359375\n",
      "  32043.68945312  34852.1484375   37559.828125    40267.47265625]\n"
     ]
    }
   ],
   "source": [
    "# comparaison du revenu disponible entre Reference et RDB\n",
    "revenu_disponible_ref = simulation_ref_individu_seul.calculate_add(\"revdisp\")\n",
    "print revenu_disponible_ref\n",
    "revenu_disponible_rdb = simulation_rdb_individu_seul.calculate_add(\"revdisp\")\n",
    "print revenu_disponible_rdb"
   ]
  },
  {
   "cell_type": "code",
   "execution_count": 2116,
   "metadata": {
    "collapsed": false
   },
   "outputs": [
    {
     "data": {
      "text/plain": [
       "[<matplotlib.lines.Line2D at 0x7f86466e0e90>,\n",
       " <matplotlib.lines.Line2D at 0x7f864316d9d0>]"
      ]
     },
     "execution_count": 2116,
     "metadata": {},
     "output_type": "execute_result"
    },
    {
     "data": {
      "image/png": "[encoded data removed]",
      "text/plain": [
       "<matplotlib.figure.Figure at 0x7f8645e1f6d0>"
      ]
     },
     "metadata": {},
     "output_type": "display_data"
    }
   ],
   "source": [
    "plt.plot(salaire_de_base[::1], revenu_disponible_ref, salaire_de_base[::1], revenu_disponible_rdb)"
   ]
  },
  {
   "cell_type": "markdown",
   "metadata": {},
   "source": [
    "# Couples sans enfants\n",
    "On fait varier le salaire d'un des deux, l'autre est fixé à 0."
   ]
  },
  {
   "cell_type": "code",
   "execution_count": 2144,
   "metadata": {
    "collapsed": false
   },
   "outputs": [],
   "source": [
    "def make_two_parents_scenario(nombre_enfants = 0, year = None, tax_benefit_system = tax_benefit_system,\n",
    "                                    axes_variable = 'salaire_de_base',  ax_variable_max = 60000, count = 13):\n",
    "    enfant = [dict(\n",
    "        birth = date(2005, 1, 1),\n",
    "        )]\n",
    "    enfants = enfant * nombre_enfants\n",
    "    scenario = tax_benefit_system.new_scenario().init_single_entity(\n",
    "        axes = [[\n",
    "            dict(\n",
    "                count = nb_palier,\n",
    "                min = min_salaire_de_base,\n",
    "                max = max_salaire_de_base,\n",
    "                name = 'salaire_de_base',\n",
    "                period = year,            \n",
    "                ),\n",
    "            dict(\n",
    "                count = nb_palier,\n",
    "                min = min_salaire_de_base,\n",
    "                max = max_salaire_de_base,\n",
    "                name = 'salaire_de_base',\n",
    "                period = year-1,            \n",
    "                ),\n",
    "            dict(\n",
    "                count = nb_palier,\n",
    "                min = min_salaire_de_base,\n",
    "                max = max_salaire_de_base,\n",
    "                name = 'salaire_de_base',\n",
    "                period = year-2,            \n",
    "                )\n",
    "            ]],\n",
    "        period = year,\n",
    "        parent1 = dict(\n",
    "            birth = date(1980, 1, 1),\n",
    "            ),\n",
    "        parent2 = dict(\n",
    "            birth = date(1980, 1, 1),\n",
    "            ),\n",
    "        enfants = enfants,\n",
    "        menage = dict(\n",
    "            loyer = 1000,\n",
    "            statut_occupation = 4,\n",
    "            ),\n",
    "        )\n",
    "    return scenario"
   ]
  },
  {
   "cell_type": "code",
   "execution_count": 2145,
   "metadata": {
    "collapsed": false
   },
   "outputs": [],
   "source": [
    "scenario_alone_ref = make_two_parents_scenario(0, 2014)\n",
    "simulation_alone_ref = scenario_alone_ref.new_simulation()"
   ]
  },
  {
   "cell_type": "code",
   "execution_count": 2147,
   "metadata": {
    "collapsed": false
   },
   "outputs": [],
   "source": [
    "scenario_alone_reform = make_two_parents_scenario(0, 2014, reform)\n",
    "simulation_alone_reform = scenario_alone_reform.new_simulation()"
   ]
  },
  {
   "cell_type": "code",
   "execution_count": 2149,
   "metadata": {
    "collapsed": false
   },
   "outputs": [
    {
     "name": "stdout",
     "output_type": "stream",
     "text": [
      "[  7973.95898438   9896.2578125   13441.17773438  16880.01367188  19438.75\n",
      "  21681.51757812  24508.18164062  28209.32421875  31499.9375\n",
      "  34790.25390625  38080.8671875   41371.484375  ]\n",
      "[     0.              0.           5454.54541016      0.          10909.09082031\n",
      "      0.          16363.63671875      0.          21818.18164062      0.\n",
      "  27272.7265625       0.          32727.2734375       0.          38181.81640625\n",
      "      0.          43636.36328125      0.          49090.91015625      0.\n",
      "  54545.453125        0.          60000.              0.        ]\n"
     ]
    },
    {
     "data": {
      "text/plain": [
       "[<matplotlib.lines.Line2D at 0x7f863ca5e550>,\n",
       " <matplotlib.lines.Line2D at 0x7f863ca5ee90>]"
      ]
     },
     "execution_count": 2149,
     "metadata": {},
     "output_type": "execute_result"
    },
    {
     "data": {
      "image/png": "[encoded data removed]",
      "text/plain": [
       "<matplotlib.figure.Figure at 0x7f8645725410>"
      ]
     },
     "metadata": {},
     "output_type": "display_data"
    }
   ],
   "source": [
    "revenu_disponible_couple_ref = simulation_alone_ref.calculate_add(\"revdisp\")\n",
    "print revenu_disponible_couple_ref\n",
    "revenu_disponible_couple_rdb = simulation_alone_reform.calculate_add(\"revdisp\")\n",
    "salaire_de_base_couple_ref = simulation_alone_ref.calculate(\"salaire_de_base\")\n",
    "salaire_de_base_couple = simulation_alone_reform.calculate(\"salaire_de_base\")\n",
    "print salaire_de_base_couple\n",
    "salaire_de_base_couple_bis = salaire_de_base_couple[0::2]\n",
    "salaire_de_base_couple_ref_bis = salaire_de_base_couple_ref[0::2]\n",
    "plt.plot(salaire_de_base_couple_bis[::1], revenu_disponible_couple_ref, salaire_de_base_couple_bis[::1], salaire_de_base_couple_bis)"
   ]
  },
  {
   "cell_type": "code",
   "execution_count": null,
   "metadata": {
    "collapsed": true
   },
   "outputs": [],
   "source": []
  }
 ],
 "metadata": {
  "kernelspec": {
   "display_name": "Python 2",
   "language": "python",
   "name": "python2"
  },
  "language_info": {
   "codemirror_mode": {
    "name": "ipython",
    "version": 2
   },
   "file_extension": ".py",
   "mimetype": "text/x-python",
   "name": "python",
   "nbconvert_exporter": "python",
   "pygments_lexer": "ipython2",
   "version": "2.7.11+"
  }
 },
 "nbformat": 4,
 "nbformat_minor": 0
}
