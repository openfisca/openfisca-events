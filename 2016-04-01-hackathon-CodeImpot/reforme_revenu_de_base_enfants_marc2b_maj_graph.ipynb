{
 "cells": [
  {
   "cell_type": "code",
   "execution_count": 5,
   "metadata": {
    "collapsed": false
   },
   "outputs": [
    {
     "name": "stderr",
     "output_type": "stream",
     "text": [
      "/usr/lib/python2.7/dist-packages/matplotlib/font_manager.py:273: UserWarning: Matplotlib is building the font cache using fc-list. This may take a moment.\n",
      "  warnings.warn('Matplotlib is building the font cache using fc-list. This may take a moment.')\n"
     ]
    }
   ],
   "source": [
    "# requis pour OpenFisca\n",
    "from datetime import date\n",
    "\n",
    "# OpenFisca\n",
    "from openfisca_france import init_country\n",
    "from openfisca_france.model.base import *\n",
    "\n",
    "# pour faire des graphiques\n",
    "import matplotlib\n",
    "import matplotlib.pyplot as plt\n",
    "%matplotlib inline  "
   ]
  },
  {
   "cell_type": "markdown",
   "metadata": {},
   "source": [
    "# Système socio-fiscal"
   ]
  },
  {
   "cell_type": "code",
   "execution_count": 6,
   "metadata": {
    "collapsed": false
   },
   "outputs": [],
   "source": [
    "# moteur de base (calculs de référence)\n",
    "TaxBenefitSystem = init_country()\n",
    "tax_benefit_system = TaxBenefitSystem()"
   ]
  },
  {
   "cell_type": "code",
   "execution_count": 7,
   "metadata": {
    "collapsed": false
   },
   "outputs": [],
   "source": [
    "# pour créer des réformes\n",
    "from openfisca_core import reforms"
   ]
  },
  {
   "cell_type": "code",
   "execution_count": 8,
   "metadata": {
    "collapsed": false
   },
   "outputs": [],
   "source": [
    "# réforme du revenu de base\n",
    "ReformeRevenuDeBase = reforms.make_reform(\n",
    "    key = 'reforme_rdb',\n",
    "    name = u\"Réforme Revenu de base\",\n",
    "    reference = tax_benefit_system,\n",
    ")"
   ]
  },
  {
   "cell_type": "markdown",
   "metadata": {},
   "source": [
    "# Réforme : 1. Revenu de base enfant"
   ]
  },
  {
   "cell_type": "code",
   "execution_count": 9,
   "metadata": {
    "collapsed": false
   },
   "outputs": [],
   "source": [
    "from numpy import logical_not as not_, minimum as min_, maximum as max_\n",
    "\n",
    "class nbptr(ReformeRevenuDeBase.Variable):\n",
    "    reference = FoyersFiscaux.column_by_name['nbptr']\n",
    "\n",
    "    # On enlève les enfants du calcul du nbptr (quotient_familial.enf*)\n",
    "    \n",
    "    def function(self, simulation, period):\n",
    "        '''\n",
    "        Nombre de parts du foyer\n",
    "        'foy'\n",
    "        note 1 enfants et résidence alternée (formulaire 2041 GV page 10)\n",
    "\n",
    "        quotient_familial.conj : nb part associées au conjoint d'un couple marié ou pacsé\n",
    "        quotient_familial.enf1 : nb part 2 premiers enfants\n",
    "        quotient_familial.enf2 : nb part enfants de rang 3 ou plus\n",
    "        quotient_familial.inv1 : nb part supp enfants invalides (I, G)\n",
    "        quotient_familial.inv2 : nb part supp adultes invalides (R)\n",
    "        quotient_familial.not31 : nb part supp note 3 : cases W ou G pour veuf, celib ou div\n",
    "        quotient_familial.not32 : nb part supp note 3 : personne seule ayant élevé des enfants\n",
    "        quotient_familial.not41 : nb part supp adultes invalides (vous et/ou conjoint) note 4\n",
    "        quotient_familial.not42 : nb part supp adultes anciens combattants (vous et/ou conjoint) note 4\n",
    "        quotient_familial.not6 : nb part supp note 6\n",
    "        quotient_familial.isol : demi-part parent isolé (T)\n",
    "        quotient_familial.edcd : enfant issu du mariage avec conjoint décédé;\n",
    "        '''\n",
    "        period = period.start.offset('first-of', 'month').period('year')\n",
    "        nb_pac = simulation.calculate('nb_pac', period)\n",
    "        marpac = simulation.calculate('marpac', period)\n",
    "        celdiv = simulation.calculate('celdiv', period)\n",
    "        veuf = simulation.calculate('veuf', period)\n",
    "        jveuf = simulation.calculate('jveuf', period)\n",
    "        nbF = simulation.calculate('nbF', period)\n",
    "        nbG = simulation.calculate('nbG', period)\n",
    "        nbH = simulation.calculate('nbH', period)\n",
    "        nbI = simulation.calculate('nbI', period)\n",
    "        nbR = simulation.calculate('nbR', period)\n",
    "        nbJ = simulation.calculate('nbJ', period)\n",
    "        caseP = simulation.calculate('caseP', period)\n",
    "        caseW = simulation.calculate('caseW', period)\n",
    "        caseG = simulation.calculate('caseG', period)\n",
    "        caseE = simulation.calculate('caseE', period)\n",
    "        caseK = simulation.calculate('caseK', period)\n",
    "        caseN = simulation.calculate('caseN', period)\n",
    "        caseF = simulation.calculate('caseF', period)\n",
    "        caseS = simulation.calculate('caseS', period)\n",
    "        caseL = simulation.calculate('caseL', period)\n",
    "        caseT = simulation.calculate('caseT', period)\n",
    "        quotient_familial = simulation.legislation_at(period.start).ir.quotient_familial\n",
    "\n",
    "        no_pac = nb_pac == 0  # Aucune personne à charge en garde exclusive\n",
    "        has_pac = not_(no_pac)\n",
    "        no_alt = nbH == 0  # Aucun enfant à charge en garde alternée\n",
    "        has_alt = not_(no_alt)\n",
    "\n",
    "        # # nombre de parts liées aux enfants à charge\n",
    "        # que des enfants en résidence alternée\n",
    "        enf1 = (no_pac & has_alt) * (quotient_familial.enf1 * min_(nbH, 2) * 0.5\n",
    "                                     + quotient_familial.enf2 * max_(nbH - 2, 0) * 0.5)\n",
    "        # pas que des enfants en résidence alternée\n",
    "        enf2 = (has_pac & has_alt) * ((nb_pac == 1) * (quotient_familial.enf1 * min_(nbH, 1) * 0.5\n",
    "            + quotient_familial.enf2 * max_(nbH - 1, 0) * 0.5) + (nb_pac > 1) * (quotient_familial.enf2 * nbH * 0.5))\n",
    "        # pas d'enfant en résidence alternée\n",
    "        enf3 = quotient_familial.enf1 * min_(nb_pac, 2) + quotient_familial.enf2 * max_((nb_pac - 2), 0)\n",
    "\n",
    "        enf = enf1 + enf2 + enf3\n",
    "        # # note 2 : nombre de parts liées aux invalides (enfant + adulte)\n",
    "        n2 = quotient_familial.inv1 * (nbG + nbI / 2) + quotient_familial.inv2 * nbR\n",
    "\n",
    "        # # note 3 : Pas de personne à charge\n",
    "        # - invalide\n",
    "\n",
    "        n31a = quotient_familial.not31a * (no_pac & no_alt & caseP)\n",
    "        # - ancien combatant\n",
    "        n31b = quotient_familial.not31b * (no_pac & no_alt & (caseW | caseG))\n",
    "        n31 = max_(n31a, n31b)\n",
    "        # - personne seule ayant élevé des enfants\n",
    "        n32 = quotient_familial.not32 * (no_pac & no_alt & ((caseE | caseK) & not_(caseN)))\n",
    "        n3 = max_(n31, n32)\n",
    "        # # note 4 Invalidité de la personne ou du conjoint pour les mariés ou\n",
    "        # # jeunes veuf(ve)s\n",
    "        n4 = max_(quotient_familial.not41 * (1 * caseP + 1 * caseF), quotient_familial.not42 * (caseW | caseS))\n",
    "\n",
    "        # # note 5\n",
    "        #  - enfant du conjoint décédé\n",
    "        n51 = quotient_familial.cdcd * (caseL & ((nbF + nbJ) > 0))\n",
    "        #  - enfant autre et parent isolé\n",
    "        n52 = quotient_familial.isol * caseT * (((no_pac & has_alt) * ((nbH == 1) * 0.5 + (nbH >= 2))) + 1 * has_pac)\n",
    "        n5 = max_(n51, n52)\n",
    "\n",
    "        # # note 6 invalide avec personne à charge\n",
    "        n6 = quotient_familial.not6 * (caseP & (has_pac | has_alt))\n",
    "\n",
    "        # # note 7 Parent isolé\n",
    "        n7 = quotient_familial.isol * caseT * ((no_pac & has_alt) * ((nbH == 1) * 0.5 + (nbH >= 2)) + 1 * has_pac)\n",
    "\n",
    "        # # Régime des mariés ou pacsés\n",
    "        #m = 1 + quotient_familial.conj + enf + n2 + n4\n",
    "        m = 1 + quotient_familial.conj + n2 + n4\n",
    "        \n",
    "        # # veufs  hors jveuf\n",
    "     # v = 1 + enf + n2 + n3 + n5 + n6\n",
    "        v = 1 + n2 + n3 + n5 + n6\n",
    "        \n",
    "        # # celib div\n",
    "        #c = 1 + enf + n2 + n3 + n6 + n7\n",
    "        c = 1 + n2 + n3 + n6 + n7\n",
    "\n",
    "        return period, (marpac | jveuf) * m + (veuf & not_(jveuf)) * v + celdiv * c\n"
   ]
  },
  {
   "cell_type": "code",
   "execution_count": 10,
   "metadata": {
    "collapsed": false
   },
   "outputs": [],
   "source": [
    "# Suppression des allocations familiales\n",
    "\n",
    "class af(ReformeRevenuDeBase.Variable):\n",
    "    reference = Familles.column_by_name['af']\n",
    "\n",
    "    def function(self, simulation, period):\n",
    "        period = period.this_month\n",
    "        af_base = simulation.calculate('af_base', period)\n",
    "        af_majo = simulation.calculate('af_majo', period)\n",
    "        af_forf = simulation.calculate('af_forf', period)\n",
    "\n",
    "        #return period, af_base + af_majo + af_forf\n",
    "        return period, af_base * 0"
   ]
  },
  {
   "cell_type": "code",
   "execution_count": 11,
   "metadata": {
    "collapsed": false
   },
   "outputs": [],
   "source": [
    "from numpy import round\n",
    "\n",
    "# Suppression du complément familial\n",
    "\n",
    "class cf(ReformeRevenuDeBase.Variable):\n",
    "    reference = Familles.column_by_name['cf']\n",
    "\n",
    "    def function(self, simulation, period):\n",
    "        '''\n",
    "        L'allocation de base de la paje n'est pas cumulable avec le complément familial\n",
    "        '''\n",
    "        period = period.this_month\n",
    "        paje_base = simulation.calculate('paje_base', period)\n",
    "        apje_temp = simulation.calculate('apje_temp', period)\n",
    "        ape_temp = simulation.calculate('ape_temp', period)\n",
    "        cf_montant = simulation.calculate('cf_montant', period)\n",
    "        residence_mayotte = simulation.calculate('residence_mayotte', period)\n",
    "\n",
    "        cf_brut = not_(paje_base) * (apje_temp <= cf_montant) * (ape_temp <= cf_montant) * cf_montant\n",
    "        # return period, not_(residence_mayotte) * round(cf_brut, 2)\n",
    "        return period, not_(residence_mayotte) * round(cf_brut, 2) * 0"
   ]
  },
  {
   "cell_type": "code",
   "execution_count": 12,
   "metadata": {
    "collapsed": false
   },
   "outputs": [],
   "source": [
    "# Suppression de l'allocation de rentrée scolaire\n",
    "\n",
    "class ars(ReformeRevenuDeBase.Variable):\n",
    "    reference = Familles.column_by_name['ars']\n",
    "\n",
    "    def function(self, simulation, period):\n",
    "        '''\n",
    "        Allocation de rentrée scolaire brute de CRDS\n",
    "        '''\n",
    "        period_br = period.this_year\n",
    "        return period_br, self.zeros()"
   ]
  },
  {
   "cell_type": "code",
   "execution_count": 13,
   "metadata": {
    "collapsed": false
   },
   "outputs": [],
   "source": [
    "# Suppression du nombre d'enfants dans le calcul du RSA socle\n",
    "\n",
    "class rsa_socle(ReformeRevenuDeBase.Variable):\n",
    "    reference = Familles.column_by_name['rsa_socle']\n",
    "\n",
    "    def function(self, simulation, period):\n",
    "        period = period.start.offset('first-of', 'month').period('month')\n",
    "        age_holder = simulation.compute('age', period)\n",
    "        smic55_holder = simulation.compute('smic55', period)\n",
    "        activite_holder = simulation.compute('activite', period)\n",
    "        nb_par = simulation.calculate('nb_par', period)\n",
    "        rmi = simulation.legislation_at(period.start).minim.rmi\n",
    "\n",
    "        age_parents = self.split_by_roles(age_holder, roles = [CHEF, PART])\n",
    "        activite_parents = self.split_by_roles(activite_holder, roles = [CHEF, PART])\n",
    "        age_enf = self.split_by_roles(age_holder, roles = ENFS)\n",
    "        smic55_enf = self.split_by_roles(smic55_holder, roles = ENFS)\n",
    "\n",
    "        nbp = nb_par\n",
    "\n",
    "        eligib = (\n",
    "            (age_parents[CHEF] >= rmi.age_pac)\n",
    "            *\n",
    "            not_(activite_parents[CHEF] == 2)\n",
    "            ) | (\n",
    "                (age_parents[PART] >= rmi.age_pac) * not_(activite_parents[PART] == 2)\n",
    "                )\n",
    "\n",
    "        taux = (\n",
    "            1 + (nbp >= 2) * rmi.txp2 +\n",
    "            (nbp >= 3) * rmi.txp3 +\n",
    "            (nbp >= 4) * ((nb_par == 1) * rmi.txps + (nb_par != 1) * rmi.txp3) +\n",
    "            max_(nbp - 4, 0) * rmi.txps\n",
    "            )\n",
    "        return period, eligib * rmi.rmi * taux"
   ]
  },
  {
   "cell_type": "code",
   "execution_count": 14,
   "metadata": {
    "collapsed": false
   },
   "outputs": [],
   "source": [
    "# Suppression du nombre d'enfants dans le calcul du RSA forfait logement\n",
    "\n",
    "class rmi_nbp(ReformeRevenuDeBase.Variable):\n",
    "    reference = Familles.column_by_name['rmi_nbp']\n",
    "\n",
    "    def function(self, simulation, period):\n",
    "        period = period.start.offset('first-of', 'month').period('month')\n",
    "        age_holder = simulation.compute('age', period)\n",
    "        smic55_holder = simulation.compute('smic55', period)\n",
    "        nb_par = simulation.calculate('nb_par', period)\n",
    "        P = simulation.legislation_at(period.start).minim.rmi\n",
    "\n",
    "        age = self.split_by_roles(age_holder, roles = ENFS)\n",
    "        smic55 = self.split_by_roles(smic55_holder, roles = ENFS)\n",
    "\n",
    "        return period, nb_par # + nb_enf(age, smic55, 0, P.age_pac - 1)\n"
   ]
  },
  {
   "cell_type": "code",
   "execution_count": 15,
   "metadata": {
    "collapsed": false
   },
   "outputs": [],
   "source": [
    "# Suppression de la cotisation patronale famille \n",
    "\n",
    "class famille(ReformeRevenuDeBase.Variable):\n",
    "    reference = Individus.column_by_name['famille']\n",
    "\n",
    "    def function(self, simulation, period):\n",
    "        # cotisation = apply_bareme(\n",
    "        #    simulation,\n",
    "        #    period,\n",
    "        #    cotisation_type = 'employeur',\n",
    "        #    bareme_name = 'famille',\n",
    "        #    variable_name = self.__class__.__name__,\n",
    "        #    )\n",
    "        #return period, cotisation        \n",
    "        return period, self.zeros()"
   ]
  },
  {
   "cell_type": "code",
   "execution_count": 16,
   "metadata": {
    "collapsed": false
   },
   "outputs": [],
   "source": [
    "# Création d'un revenu de base enfant - Version famille\n",
    "\n",
    "from openfisca_france.model.prestations.prestations_familiales.base_ressource import nb_enf\n",
    "\n",
    "class rdb_enfant_famille(ReformeRevenuDeBase.Variable):\n",
    "    column = FloatCol\n",
    "    entity_class = Familles\n",
    "    label = u\"Revenu de base enfant\"\n",
    "\n",
    "    def function(self, simulation, period):\n",
    "        period = period.start.offset('first-of', 'month').period('month')\n",
    "        age_holder = simulation.compute('age', period)\n",
    "        P = simulation.legislation_at(period.start).fam.af        \n",
    "        bmaf = P.bmaf\n",
    "\n",
    "        \n",
    "        smic55_holder = simulation.compute('smic55', period)\n",
    "        smic55 = self.split_by_roles(smic55_holder, roles = ENFS)        \n",
    "        age = self.split_by_roles(age_holder, roles = ENFS)\n",
    "        \n",
    "        smic5 = {\n",
    "            role: array * 0\n",
    "            for role, array in smic55.iteritems()\n",
    "            }\n",
    "        nbenf_inf13 = nb_enf(age, smic5, 0, 13)\n",
    "        nbenf_sup14 = nb_enf(age, smic5, 14, 18)\n",
    "        \n",
    "        return period, (nbenf_inf13 * 0.41 + nbenf_sup14 * 0.57) * bmaf\n",
    "\n",
    "# Les taux 0,41 et 0,16 (0,57-0,41) sont issus des allocations familiales"
   ]
  },
  {
   "cell_type": "code",
   "execution_count": 17,
   "metadata": {
    "collapsed": false
   },
   "outputs": [],
   "source": [
    "# Création d'un revenu de base enfant - Version individus\n",
    "\n",
    "class rdb_enf(ReformeRevenuDeBase.Variable):\n",
    "    column = FloatCol\n",
    "    entity_class = Individus\n",
    "    label = u\"Revenu de base enfant\"\n",
    "\n",
    "    def function(self, simulation, period):\n",
    "        period = period.start.offset('first-of', 'month').period('month')\n",
    "        age = simulation.calculate('age')\n",
    "        P = simulation.legislation_at(period.start).fam.af        \n",
    "        bmaf = P.bmaf\n",
    "        \n",
    "        return period, ((age < 14) * 0.41 + not_(age < 14) * 0.57) * bmaf * (age <= 18)"
   ]
  },
  {
   "cell_type": "code",
   "execution_count": 18,
   "metadata": {
    "collapsed": false
   },
   "outputs": [],
   "source": [
    "# Création d'une CSG enfant\n",
    "\n",
    "class csgenf(ReformeRevenuDeBase.Variable):\n",
    "    column = FloatCol\n",
    "    entity_class = Individus\n",
    "    label = u\"CSG enfant\"\n",
    "\n",
    "    def function(self, simulation, period):\n",
    "        # period = period.start.offset('first-of', 'month').period('month')\n",
    "        revnet = simulation.calculate('revenu_net_individu', period)\n",
    "\n",
    "        montant_csg = revnet * 0.025\n",
    "        return period, - montant_csg\n",
    "\n",
    "class csg(ReformeRevenuDeBase.Variable):\n",
    "    reference = Individus.column_by_name['csg']\n",
    "\n",
    "    def function(self, simulation, period):\n",
    "        '''\n",
    "        Contribution sociale généralisée\n",
    "        '''\n",
    "        period = period.this_year\n",
    "        csg_imposable_salaire = simulation.calculate_add('csg_imposable_salaire', period)\n",
    "        csg_deductible_salaire = simulation.calculate_add('csg_deductible_salaire', period)\n",
    "        csg_imposable_chomage = simulation.calculate_add('csg_imposable_chomage', period)\n",
    "        csg_deductible_chomage = simulation.calculate_add('csg_deductible_chomage', period)\n",
    "        csg_imposable_retraite = simulation.calculate_add('csg_imposable_retraite', period)\n",
    "        csg_deductible_retraite = simulation.calculate_add('csg_deductible_retraite', period)\n",
    "        csg_fon_holder = simulation.compute('csg_fon', period)\n",
    "        csg_cap_lib_declarant1 = simulation.calculate('csg_cap_lib_declarant1', period)\n",
    "        csg_cap_bar_declarant1 = simulation.calculate('csg_cap_bar_declarant1', period)\n",
    "        csg_pv_mo_holder = simulation.compute('csg_pv_mo', period)\n",
    "        csg_pv_immo_holder = simulation.compute('csg_pv_immo', period)\n",
    "\n",
    "        # add csgenf to csg calc\n",
    "        csgenfant = simulation.calculate('csgenf', period)\n",
    "\n",
    "        csg_fon = self.cast_from_entity_to_role(csg_fon_holder, role = VOUS)\n",
    "        csg_pv_immo = self.cast_from_entity_to_role(csg_pv_immo_holder, role = VOUS)\n",
    "        csg_pv_mo = self.cast_from_entity_to_role(csg_pv_mo_holder, role = VOUS)\n",
    "\n",
    "        return period, (csg_imposable_salaire + csg_deductible_salaire + csg_imposable_chomage +\n",
    "                csg_deductible_chomage + csg_imposable_retraite + csg_deductible_retraite + csg_fon +\n",
    "                csg_cap_lib_declarant1 + csg_pv_mo + csg_pv_immo + csg_cap_bar_declarant1 + csgenfant)"
   ]
  },
  {
   "cell_type": "code",
   "execution_count": 19,
   "metadata": {
    "collapsed": false
   },
   "outputs": [],
   "source": [
    "# mise à jour du revenu disponible en tenant compte du revenu de base enfant\n",
    "\n",
    "class revdisp(ReformeRevenuDeBase.Variable):\n",
    "    reference = Menages.column_by_name['revdisp']\n",
    "\n",
    "    def function(self, simulation, period):\n",
    "        '''\n",
    "        Revenu disponible - ménage\n",
    "        'men'\n",
    "        '''\n",
    "        period = period.start.period('year').offset('first-of')\n",
    "        rev_trav_holder = simulation.compute('rev_trav', period)\n",
    "        pen_holder = simulation.compute('pen', period)\n",
    "        rev_cap_holder = simulation.compute('rev_cap', period)\n",
    "        psoc_holder = simulation.compute('psoc', period)\n",
    "        ppe_holder = simulation.compute('ppe', period)\n",
    "        impo = simulation.calculate('impo', period)\n",
    "        rdb_enfant_holder = simulation.calculate_add('rdb_enf', period)\n",
    "\n",
    "        pen = self.sum_by_entity(pen_holder)\n",
    "        ppe = self.cast_from_entity_to_role(ppe_holder, role = VOUS)\n",
    "        ppe = self.sum_by_entity(ppe)\n",
    "        psoc = self.cast_from_entity_to_role(psoc_holder, role = CHEF)\n",
    "        psoc = self.sum_by_entity(psoc)\n",
    "        rev_cap = self.sum_by_entity(rev_cap_holder)\n",
    "        rev_trav = self.sum_by_entity(rev_trav_holder)\n",
    "        rdb_enfant = self.sum_by_entity(rdb_enfant_holder)\n",
    "\n",
    "        return period, rev_trav + pen + rev_cap + psoc + ppe + impo + rdb_enfant"
   ]
  },
  {
   "cell_type": "markdown",
   "metadata": {},
   "source": [
    "# Tests"
   ]
  },
  {
   "cell_type": "code",
   "execution_count": 20,
   "metadata": {
    "collapsed": false
   },
   "outputs": [],
   "source": [
    "# on crée un moteur de calcul pour la réforme du revenu de base\n",
    "reform = ReformeRevenuDeBase()"
   ]
  },
  {
   "cell_type": "code",
   "execution_count": 21,
   "metadata": {
    "collapsed": true
   },
   "outputs": [],
   "source": [
    "# pour la partie graph\n",
    "year = 2014\n",
    "axes_variable = 'salaire_de_base'\n",
    "ax_variable_max = 150000\n",
    "count = 5000"
   ]
  },
  {
   "cell_type": "code",
   "execution_count": 22,
   "metadata": {
    "collapsed": false
   },
   "outputs": [],
   "source": [
    "scenario_ref_couple_avec_3_enfants = tax_benefit_system.new_scenario().init_single_entity(\n",
    "    period = year,\n",
    "    parent1 = dict(\n",
    "        birth = date(1980, 1, 1),\n",
    "        salaire_imposable = 12000,\n",
    "        statmarit = u'Marié',\n",
    "        ),\n",
    "    parent2 = dict(\n",
    "        birth = date(1980, 1, 1),\n",
    "        salaire_imposable = 46000,\n",
    "        statmarit = u'Marié',\n",
    "        ),\n",
    "    enfants = [\n",
    "        dict(\n",
    "            birth = date(2010, 1, 1),\n",
    "            ),\n",
    "        dict(\n",
    "            birth = date(2005, 1, 1),\n",
    "            ),\n",
    "        dict(\n",
    "            birth = date(1999, 1, 1),\n",
    "            ),\n",
    "        ],\n",
    "    axes = [[\n",
    "            dict(\n",
    "                count = count,\n",
    "                min = 0,\n",
    "                max = ax_variable_max,\n",
    "                name = axes_variable,\n",
    "                period = year-2,\n",
    "                ),\n",
    "            dict(\n",
    "                count = count,\n",
    "                min = 0,\n",
    "                max = ax_variable_max,\n",
    "                name = axes_variable,\n",
    "                period = year-1,\n",
    "                ),\n",
    "            dict(\n",
    "                count = count,\n",
    "                min = 0,\n",
    "                max = ax_variable_max,\n",
    "                name = axes_variable,\n",
    "                period = year,\n",
    "                ),\n",
    "            ]],\n",
    "    )\n",
    "simulation_ref_couple_avec_3_enfants = scenario_ref_couple_avec_3_enfants.new_simulation(debug = True)"
   ]
  },
  {
   "cell_type": "code",
   "execution_count": 23,
   "metadata": {
    "collapsed": false
   },
   "outputs": [],
   "source": [
    "scenario_ref_couple_pauvre_avec_3_enfants = tax_benefit_system.new_scenario().init_single_entity(\n",
    "    period = year,\n",
    "    parent1 = dict(\n",
    "        birth = date(1980, 1, 1),\n",
    "        salaire_imposable = 12000,\n",
    "        statmarit = u'Marié',\n",
    "        ),\n",
    "    parent2 = dict(\n",
    "        birth = date(1980, 1, 1),\n",
    "        salaire_imposable = 6000,\n",
    "        statmarit = u'Marié',\n",
    "        ),\n",
    "    enfants = [\n",
    "        dict(\n",
    "            birth = date(2010, 1, 1),\n",
    "            ),\n",
    "        dict(\n",
    "            birth = date(2005, 1, 1),\n",
    "            ),\n",
    "        dict(\n",
    "            birth = date(1999, 1, 1),\n",
    "            ),\n",
    "        ],\n",
    "    axes = [[\n",
    "            dict(\n",
    "                count = count,\n",
    "                min = 0,\n",
    "                max = ax_variable_max,\n",
    "                name = axes_variable,\n",
    "                period = year-2,\n",
    "                ),\n",
    "            dict(\n",
    "                count = count,\n",
    "                min = 0,\n",
    "                max = ax_variable_max,\n",
    "                name = axes_variable,\n",
    "                period = year-1,\n",
    "                ),\n",
    "            dict(\n",
    "                count = count,\n",
    "                min = 0,\n",
    "                max = ax_variable_max,\n",
    "                name = axes_variable,\n",
    "                period = year,\n",
    "                ),\n",
    "            ]],\n",
    "    )\n",
    "simulation_ref_couple_pauvre_avec_3_enfants = scenario_ref_couple_pauvre_avec_3_enfants.new_simulation(debug = True)"
   ]
  },
  {
   "cell_type": "code",
   "execution_count": 24,
   "metadata": {
    "collapsed": false
   },
   "outputs": [],
   "source": [
    "scenario_rdb_couple_avec_3_enfants = reform.new_scenario().init_single_entity(\n",
    "    period = year,\n",
    "    parent1 = dict(\n",
    "        birth = date(1980, 1, 1),\n",
    "        salaire_imposable = 12000,\n",
    "        statmarit = u'Marié',\n",
    "        ),\n",
    "    parent2 = dict(\n",
    "        birth = date(1980, 1, 1),\n",
    "        salaire_imposable = 46000,\n",
    "        statmarit = u'Marié',\n",
    "        ),\n",
    "    enfants = [\n",
    "        dict(\n",
    "            birth = date(2010, 1, 1),\n",
    "            ),\n",
    "        dict(\n",
    "            birth = date(2005, 1, 1),\n",
    "            ),\n",
    "        dict(\n",
    "            birth = date(1999, 1, 1),\n",
    "            ),\n",
    "        ],\n",
    "    axes = [[\n",
    "            dict(\n",
    "                count = count,\n",
    "                min = 0,\n",
    "                max = ax_variable_max,\n",
    "                name = axes_variable,\n",
    "                period = year-2,\n",
    "                ),\n",
    "            dict(\n",
    "                count = count,\n",
    "                min = 0,\n",
    "                max = ax_variable_max,\n",
    "                name = axes_variable,\n",
    "                period = year-1,\n",
    "                ),\n",
    "            dict(\n",
    "                count = count,\n",
    "                min = 0,\n",
    "                max = ax_variable_max,\n",
    "                name = axes_variable,\n",
    "                period = year,\n",
    "                ),\n",
    "            ]],\n",
    "    )\n",
    "simulation_rdb_couple_avec_3_enfants = scenario_rdb_couple_avec_3_enfants.new_simulation(debug = True)"
   ]
  },
  {
   "cell_type": "code",
   "execution_count": 25,
   "metadata": {
    "collapsed": false
   },
   "outputs": [],
   "source": [
    "scenario_rdb_couple_pauvre_pauvre_avec_3_enfants = reform.new_scenario().init_single_entity(\n",
    "    period = year,\n",
    "    parent1 = dict(\n",
    "        birth = date(1980, 1, 1),\n",
    "        salaire_imposable = 12000,\n",
    "        statmarit = u'Marié',\n",
    "        ),\n",
    "    parent2 = dict(\n",
    "        birth = date(1980, 1, 1),\n",
    "        salaire_imposable = 6000,\n",
    "        statmarit = u'Marié',\n",
    "        ),\n",
    "    enfants = [\n",
    "        dict(\n",
    "            birth = date(2010, 1, 1),\n",
    "            ),\n",
    "        dict(\n",
    "            birth = date(2005, 1, 1),\n",
    "            ),\n",
    "        dict(\n",
    "            birth = date(1999, 1, 1),\n",
    "            ),\n",
    "        ],\n",
    "    axes = [[\n",
    "            dict(\n",
    "                count = count,\n",
    "                min = 0,\n",
    "                max = ax_variable_max,\n",
    "                name = axes_variable,\n",
    "                period = year-2,\n",
    "                ),\n",
    "            dict(\n",
    "                count = count,\n",
    "                min = 0,\n",
    "                max = ax_variable_max,\n",
    "                name = axes_variable,\n",
    "                period = year-1,\n",
    "                ),\n",
    "            dict(\n",
    "                count = count,\n",
    "                min = 0,\n",
    "                max = ax_variable_max,\n",
    "                name = axes_variable,\n",
    "                period = year,\n",
    "                ),\n",
    "            ]],\n",
    "    )\n",
    "simulation_rdb_couple_pauvre_avec_3_enfants = scenario_rdb_couple_pauvre_pauvre_avec_3_enfants.new_simulation(debug = True)"
   ]
  },
  {
   "cell_type": "code",
   "execution_count": null,
   "metadata": {
    "collapsed": false
   },
   "outputs": [
    {
     "data": {
      "text/plain": [
       "array([ 4.,  4.,  4., ...,  4.,  4.,  4.], dtype=float32)"
      ]
     },
     "execution_count": 26,
     "metadata": {},
     "output_type": "execute_result"
    }
   ],
   "source": [
    "simulation_ref_couple_avec_3_enfants.calculate('nbptr')"
   ]
  },
  {
   "cell_type": "code",
   "execution_count": null,
   "metadata": {
    "collapsed": false
   },
   "outputs": [],
   "source": [
    "# test graph\n",
    "#revdisp_ref = simulation_ref_couple_avec_3_enfants.calculate_add(\"revdisp\")\n",
    "revdisp_rdb = simulation_rdb_couple_avec_3_enfants.calculate_add(\"revdisp\")"
   ]
  },
  {
   "cell_type": "code",
   "execution_count": null,
   "metadata": {
    "collapsed": false
   },
   "outputs": [],
   "source": [
    "#salaire_net_ref = simulation_ref_couple_avec_3_enfants.calculate_add(\"salaire_net\")\n",
    "salaire_net_rdb = simulation_rdb_couple_avec_3_enfants.calculate_add(\"salaire_net\")\n",
    "\n",
    "plt.plot(salaire_net_rdb[::2], revdisp_rdb)"
   ]
  },
  {
   "cell_type": "code",
   "execution_count": null,
   "metadata": {
    "collapsed": false
   },
   "outputs": [],
   "source": [
    "simulation_ref_couple_avec_3_enfants.calculate_add('af')"
   ]
  },
  {
   "cell_type": "code",
   "execution_count": null,
   "metadata": {
    "collapsed": false
   },
   "outputs": [],
   "source": [
    "simulation_rdb_couple_avec_3_enfants.calculate_add('af')"
   ]
  },
  {
   "cell_type": "code",
   "execution_count": null,
   "metadata": {
    "collapsed": false
   },
   "outputs": [],
   "source": [
    "simulation_ref_couple_avec_3_enfants.calculate_add('cf')"
   ]
  },
  {
   "cell_type": "code",
   "execution_count": null,
   "metadata": {
    "collapsed": false
   },
   "outputs": [],
   "source": [
    "simulation_rdb_couple_avec_3_enfants.calculate_add('cf')"
   ]
  },
  {
   "cell_type": "code",
   "execution_count": null,
   "metadata": {
    "collapsed": false
   },
   "outputs": [],
   "source": [
    "simulation_ref_couple_avec_3_enfants.calculate('ars')"
   ]
  },
  {
   "cell_type": "code",
   "execution_count": null,
   "metadata": {
    "collapsed": false
   },
   "outputs": [],
   "source": [
    "simulation_rdb_couple_avec_3_enfants.calculate_add('ars')"
   ]
  },
  {
   "cell_type": "code",
   "execution_count": null,
   "metadata": {
    "collapsed": false
   },
   "outputs": [],
   "source": [
    "simulation_ref_couple_avec_3_enfants.calculate_add('rsa')"
   ]
  },
  {
   "cell_type": "code",
   "execution_count": null,
   "metadata": {
    "collapsed": true
   },
   "outputs": [],
   "source": [
    "from openfisca_core import web_tools"
   ]
  },
  {
   "cell_type": "code",
   "execution_count": null,
   "metadata": {
    "collapsed": false
   },
   "outputs": [],
   "source": [
    "print web_tools.get_trace_tool_link(scenario, ['rsa'])\n"
   ]
  },
  {
   "cell_type": "code",
   "execution_count": null,
   "metadata": {
    "collapsed": false
   },
   "outputs": [],
   "source": [
    "simulation_rdb_couple_avec_3_enfants.calculate_add('rsa')"
   ]
  },
  {
   "cell_type": "code",
   "execution_count": null,
   "metadata": {
    "collapsed": false
   },
   "outputs": [],
   "source": [
    "simulation_ref_couple_avec_3_enfants.calculate_add('rmi_nbp')"
   ]
  },
  {
   "cell_type": "code",
   "execution_count": null,
   "metadata": {
    "collapsed": false
   },
   "outputs": [],
   "source": [
    "simulation_rdb_couple_avec_3_enfants.calculate_add('rmi_nbp')"
   ]
  },
  {
   "cell_type": "code",
   "execution_count": null,
   "metadata": {
    "collapsed": false
   },
   "outputs": [],
   "source": [
    "simulation_ref_couple_avec_3_enfants.calculate('famille')"
   ]
  },
  {
   "cell_type": "code",
   "execution_count": null,
   "metadata": {
    "collapsed": false
   },
   "outputs": [],
   "source": [
    "simulation_rdb_couple_avec_3_enfants.calculate('famille')"
   ]
  },
  {
   "cell_type": "code",
   "execution_count": null,
   "metadata": {
    "collapsed": false
   },
   "outputs": [],
   "source": [
    "simulation_rdb_couple_avec_3_enfants.calculate_add('rdb_enfant_famille')"
   ]
  },
  {
   "cell_type": "code",
   "execution_count": null,
   "metadata": {
    "collapsed": false
   },
   "outputs": [],
   "source": [
    "simulation_rdb_couple_avec_3_enfants.calculate_add('rdb_enf')"
   ]
  },
  {
   "cell_type": "code",
   "execution_count": null,
   "metadata": {
    "collapsed": false
   },
   "outputs": [],
   "source": [
    "simulation_rdb_couple_avec_3_enfants.calculate('csgenf')"
   ]
  },
  {
   "cell_type": "code",
   "execution_count": null,
   "metadata": {
    "collapsed": false
   },
   "outputs": [],
   "source": [
    "simulation_ref_couple_avec_3_enfants.calculate('csg')"
   ]
  },
  {
   "cell_type": "code",
   "execution_count": null,
   "metadata": {
    "collapsed": false
   },
   "outputs": [],
   "source": [
    "simulation_rdb_couple_avec_3_enfants.calculate('csg')"
   ]
  },
  {
   "cell_type": "code",
   "execution_count": null,
   "metadata": {
    "collapsed": false
   },
   "outputs": [],
   "source": [
    "simulation_ref_couple_avec_3_enfants.calculate('revdisp')"
   ]
  },
  {
   "cell_type": "code",
   "execution_count": null,
   "metadata": {
    "collapsed": false
   },
   "outputs": [],
   "source": [
    "simulation_rdb_couple_avec_3_enfants.calculate('revdisp')"
   ]
  },
  {
   "cell_type": "code",
   "execution_count": null,
   "metadata": {
    "collapsed": false
   },
   "outputs": [],
   "source": [
    "simulation_pauvre.calculate('revdisp')"
   ]
  },
  {
   "cell_type": "code",
   "execution_count": null,
   "metadata": {
    "collapsed": false
   },
   "outputs": [],
   "source": [
    "reform_simulation_pauvre.calculate('revdisp')"
   ]
  },
  {
   "cell_type": "code",
   "execution_count": null,
   "metadata": {
    "collapsed": false
   },
   "outputs": [],
   "source": [
    "simulation_ref_couple_avec_3_enfants.calculate('salaire_imposable')"
   ]
  },
  {
   "cell_type": "code",
   "execution_count": null,
   "metadata": {
    "collapsed": false
   },
   "outputs": [],
   "source": [
    "simulation_rdb_couple_avec_3_enfants.calculate('salaire_imposable')"
   ]
  },
  {
   "cell_type": "code",
   "execution_count": null,
   "metadata": {
    "collapsed": false
   },
   "outputs": [],
   "source": [
    "simulation_ref_couple_avec_3_enfants.calculate('salaire_super_brut')"
   ]
  },
  {
   "cell_type": "code",
   "execution_count": null,
   "metadata": {
    "collapsed": false
   },
   "outputs": [],
   "source": [
    "simulation_rdb_couple_avec_3_enfants.calculate('salaire_super_brut')"
   ]
  },
  {
   "cell_type": "code",
   "execution_count": null,
   "metadata": {
    "collapsed": false
   },
   "outputs": [],
   "source": [
    "simulation_ref_couple_avec_3_enfants.calculate('salaire_net')"
   ]
  },
  {
   "cell_type": "code",
   "execution_count": null,
   "metadata": {
    "collapsed": false
   },
   "outputs": [],
   "source": [
    "simulation_rdb_couple_avec_3_enfants.calculate('salaire_net')"
   ]
  },
  {
   "cell_type": "code",
   "execution_count": null,
   "metadata": {
    "collapsed": false
   },
   "outputs": [],
   "source": [
    "simulation_ref_couple_avec_3_enfants.calculate('pfam')"
   ]
  },
  {
   "cell_type": "code",
   "execution_count": null,
   "metadata": {
    "collapsed": false
   },
   "outputs": [],
   "source": [
    "simulation_rdb_couple_avec_3_enfants.calculate('pfam')"
   ]
  },
  {
   "cell_type": "code",
   "execution_count": null,
   "metadata": {
    "collapsed": false
   },
   "outputs": [],
   "source": [
    "simulation_pauvre.calculate('psoc')"
   ]
  },
  {
   "cell_type": "code",
   "execution_count": null,
   "metadata": {
    "collapsed": false
   },
   "outputs": [],
   "source": [
    "simulation_ref_couple_avec_3_enfants.calculate('cotisations_salariales')"
   ]
  },
  {
   "cell_type": "code",
   "execution_count": null,
   "metadata": {
    "collapsed": false
   },
   "outputs": [],
   "source": [
    "reform_simulation_pauvre.calculate('pfam')"
   ]
  },
  {
   "cell_type": "code",
   "execution_count": null,
   "metadata": {
    "collapsed": false
   },
   "outputs": [],
   "source": [
    "simulation_ref_couple_avec_3_enfants.calculate('irpp')"
   ]
  },
  {
   "cell_type": "code",
   "execution_count": null,
   "metadata": {
    "collapsed": false
   },
   "outputs": [],
   "source": [
    "simulation_rdb_couple_avec_3_enfants.calculate('irpp')"
   ]
  },
  {
   "cell_type": "code",
   "execution_count": null,
   "metadata": {
    "collapsed": false
   },
   "outputs": [],
   "source": [
    "simulation_ref_couple_avec_3_enfants.calculate('allegement_fillon')"
   ]
  },
  {
   "cell_type": "code",
   "execution_count": null,
   "metadata": {
    "collapsed": false
   },
   "outputs": [],
   "source": [
    "print(salaire_net_rdb[::2])\n",
    "print(revdisp_rdb)"
   ]
  },
  {
   "cell_type": "code",
   "execution_count": null,
   "metadata": {
    "collapsed": true
   },
   "outputs": [],
   "source": []
  }
 ],
 "metadata": {
  "kernelspec": {
   "display_name": "Python 2",
   "language": "python",
   "name": "python2"
  },
  "language_info": {
   "codemirror_mode": {
    "name": "ipython",
    "version": 2
   },
   "file_extension": ".py",
   "mimetype": "text/x-python",
   "name": "python",
   "nbconvert_exporter": "python",
   "pygments_lexer": "ipython2",
   "version": "2.7.12rc1"
  }
 },
 "nbformat": 4,
 "nbformat_minor": 0
}
