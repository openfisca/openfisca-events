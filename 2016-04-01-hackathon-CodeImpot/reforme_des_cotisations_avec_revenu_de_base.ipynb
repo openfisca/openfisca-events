{
 "cells": [
  {
   "cell_type": "markdown",
   "metadata": {},
   "source": [
    "##### L'objectif est de calculer des taux "
   ]
  },
  {
   "cell_type": "code",
   "execution_count": 45,
   "metadata": {
    "collapsed": false
   },
   "outputs": [],
   "source": [
    "from datetime import date\n",
    "\n",
    "from openfisca_france import init_country\n",
    "from openfisca_france.model.base import *\n"
   ]
  },
  {
   "cell_type": "markdown",
   "metadata": {},
   "source": [
    "## Adaptation pour faciliter l'usage de ce notebook"
   ]
  },
  {
   "cell_type": "markdown",
   "metadata": {},
   "source": [
    "_Ce correctif permet de redéfinir plusieurs fois la même variable sans provoquer d'erreur._"
   ]
  },
  {
   "cell_type": "markdown",
   "metadata": {},
   "source": [
    "# Système socio-fiscal"
   ]
  },
  {
   "cell_type": "code",
   "execution_count": 46,
   "metadata": {
    "collapsed": false
   },
   "outputs": [],
   "source": [
    "TaxBenefitSystem = init_country()\n",
    "tax_benefit_system = TaxBenefitSystem()"
   ]
  },
  {
   "cell_type": "markdown",
   "metadata": {},
   "source": [
    "# Réforme"
   ]
  },
  {
   "cell_type": "code",
   "execution_count": 47,
   "metadata": {
    "collapsed": false
   },
   "outputs": [],
   "source": [
    "from openfisca_core import reforms"
   ]
  },
  {
   "cell_type": "code",
   "execution_count": 4,
   "metadata": {
    "collapsed": false
   },
   "outputs": [],
   "source": [
    "Reform = reforms.make_reform(\n",
    "    key = 'cotisations_revenu_de_base',\n",
    "    name = u\"Réforme des cotisations pour un Revenu de base\",\n",
    "    reference = tax_benefit_system,\n",
    "    )"
   ]
  },
  {
   "cell_type": "code",
   "execution_count": 5,
   "metadata": {
    "collapsed": false
   },
   "outputs": [],
   "source": [
    "class cotisations_contributives(Reform.Variable):\n",
    "    column = FloatCol\n",
    "    entity_class = Individus\n",
    "    label = u\"Nouvelles cotisations contributives\"\n",
    "\n",
    "\n",
    "    def function(self, simulation, period):\n",
    "        ags = simulation.calculate('ags', period)\n",
    "        agff_tranche_a_employeur = simulation.calculate('agff_employeur', period)\n",
    "        apec_employeur = simulation.calculate('apec_employeur', period)\n",
    "        arrco_tranche_a_employeur = simulation.calculate('arrco_employeur', period)\n",
    "        assedic_employeur = simulation.calculate('chomage_employeur', period)\n",
    "        cotisation_exceptionnelle_temporaire_employeur = simulation.calculate('cotisation_exceptionnelle_temporaire_employeur', period)\n",
    "        fonds_emploi_hospitalier = simulation.calculate('fonds_emploi_hospitalier', period)\n",
    "        ircantec_employeur = simulation.calculate('ircantec_employeur', period)\n",
    "        pension_civile_employeur = simulation.calculate('pension_civile_employeur', period)\n",
    "        prevoyance_obligatoire_cadre = simulation.calculate('prevoyance_obligatoire_cadre', period)\n",
    "        rafp_employeur = simulation.calculate('rafp_employeur', period)\n",
    "        vieillesse_deplafonnee_employeur = simulation.calculate('vieillesse_deplafonnee_employeur', period)\n",
    "        vieillesse_plafonnee_employeur = simulation.calculate('vieillesse_plafonnee_employeur', period)\n",
    "        allocations_temporaires_invalidite = simulation.calculate('allocations_temporaires_invalidite', period)\n",
    "        accident_du_travail = simulation.calculate('accident_du_travail', period)\n",
    "        agff_tranche_a_employe = simulation.calculate_add('agff_salarie', period)\n",
    "        agirc_tranche_b_employe = simulation.calculate_add('agirc_salarie', period)\n",
    "        apec_employe = simulation.calculate_add('apec_salarie', period)\n",
    "        arrco_tranche_a_employe = simulation.calculate_add('arrco_salarie', period)\n",
    "        assedic_employe = simulation.calculate_add('chomage_salarie', period)\n",
    "        cotisation_exceptionnelle_temporaire_employe = simulation.calculate('cotisation_exceptionnelle_temporaire_salarie', period)\n",
    "        ircantec_employe = simulation.calculate_add('ircantec_salarie', period)\n",
    "        pension_civile_employe = simulation.calculate_add('pension_civile_salarie', period)\n",
    "        rafp_employe = simulation.calculate_add('rafp_salarie', period)\n",
    "        vieillesse_deplafonnee_employe = simulation.calculate_add('vieillesse_deplafonnee_salarie', period)\n",
    "        vieillesse_plafonnee_employe = simulation.calculate_add('vieillesse_plafonnee_salarie', period)\n",
    "\n",
    "        cotisations_contributives = (\n",
    "            # cotisations patronales contributives dans le prive\n",
    "            ags +\n",
    "            agff_tranche_a_employeur +\n",
    "            apec_employeur +\n",
    "            arrco_tranche_a_employeur +\n",
    "            #assedic_employeur +\n",
    "            cotisation_exceptionnelle_temporaire_employeur +\n",
    "            prevoyance_obligatoire_cadre +  # TODO contributive ou pas\n",
    "            vieillesse_deplafonnee_employeur +\n",
    "            vieillesse_plafonnee_employeur +\n",
    "            # cotisations patronales contributives dans le public\n",
    "            fonds_emploi_hospitalier +\n",
    "            ircantec_employeur +\n",
    "            pension_civile_employeur +\n",
    "            rafp_employeur +\n",
    "            # anciennes cot patronales non-contributives classées ici comme contributives\n",
    "            allocations_temporaires_invalidite +\n",
    "            accident_du_travail +\n",
    "            # anciennes cotisations salariales contributives dans le prive\n",
    "            agff_tranche_a_employe +\n",
    "            agirc_tranche_b_employe +\n",
    "            apec_employe +\n",
    "            arrco_tranche_a_employe +\n",
    "            assedic_employe +\n",
    "            cotisation_exceptionnelle_temporaire_employe +\n",
    "            vieillesse_deplafonnee_employe +\n",
    "            vieillesse_plafonnee_employe +\n",
    "            # anciennes cotisations salariales contributives dans le public\n",
    "            ircantec_employe +\n",
    "            pension_civile_employe +\n",
    "            rafp_employe\n",
    "            )\n",
    "        return period, cotisations_contributives\n",
    "        "
   ]
  },
  {
   "cell_type": "code",
   "execution_count": 22,
   "metadata": {
    "collapsed": false
   },
   "outputs": [],
   "source": [
    "class nouv_salbrut(Reform.Variable):\n",
    "    reference = tax_benefit_system.column_by_name['salaire_de_base']\n",
    "\n",
    "# Le salaire brut se définit dans la réforme comme le salaire super-brut auquel\n",
    "# on retranche les cotisations contributives \n",
    "    \n",
    "    def function(self, simulation, period):\n",
    "        period = period.start.period('month').offset('first-of')\n",
    "        salaire_super_brut = simulation.calculate('salaire_super_brut', period)\n",
    "        cotisations_contributives = simulation.calculate('cotisations_contributives', period)\n",
    "        \n",
    "        nouv_salbrut = (\n",
    "            salaire_super_brut -\n",
    "            cotisations_contributives\n",
    "            )\n",
    "        return period, nouv_salbrut"
   ]
  },
  {
   "cell_type": "code",
   "execution_count": 67,
   "metadata": {
    "collapsed": false
   },
   "outputs": [
    {
     "name": "stdout",
     "output_type": "stream",
     "text": [
      "<openfisca_core.columns.FloatCol object at 0x7f0e29a8f7d0>\n"
     ]
    }
   ],
   "source": [
    "class nouv_csg(Reform.Variable):\n",
    "    reference = tax_benefit_system.column_by_name['csg_imposable_salaire']\n",
    "\n",
    "# On applique une CSG unique à 15,0% qui finance toutes les prestations non-contributives \n",
    "    \n",
    "    def function(self, simulation, period):\n",
    "        period = period.start.period('month').offset('first-of')\n",
    "        nouv_salbrut = simulation.calculate('nouv_salbrut', period)\n",
    "        \n",
    "        nouv_csg = (\n",
    "            -0.15 * nouv_salbrut\n",
    "            )\n",
    "        return period, nouv_csg"
   ]
  },
  {
   "cell_type": "code",
   "execution_count": 68,
   "metadata": {
    "collapsed": false
   },
   "outputs": [],
   "source": [
    "class salnet(Reform.Variable):\n",
    "    reference = tax_benefit_system.column_by_name['salaire_net']\n",
    "\n",
    "# On retire la nouvelle CSG (pas celle qui finance le RDB) pour trouver le nouveau salaire net\n",
    "    \n",
    "    def function(self, simulation, period):\n",
    "        period = period.start.period('month').offset('first-of')\n",
    "        nouv_salbrut = simulation.calculate('nouv_salbrut', period)\n",
    "        nouv_csg = simulation.calculate('nouv_csg', period)\n",
    "        \n",
    "        salnet = (\n",
    "            nouv_salbrut +\n",
    "            nouv_csg\n",
    "            )\n",
    "        return period, salnet"
   ]
  },
  {
   "cell_type": "code",
   "execution_count": 60,
   "metadata": {
    "collapsed": false
   },
   "outputs": [],
   "source": [
    "class sal(Reform.Variable):\n",
    "    reference = tax_benefit_system.column_by_name['salaire_de_base']\n",
    "\n",
    "# Nous sommes partis du nouveau salaire net et par rapport au salaire imposable actuel,\n",
    "# nous avons supprimé : les heures sup, la déductibilité de CSG\n",
    "    \n",
    "    \n",
    "    def function(self, simulation, period):\n",
    "        period = period\n",
    "        salnet = simulation.calculate('salnet', period)\n",
    "        primes_fonction_publique = simulation.calculate('primes_fonction_publique', period)\n",
    "        indemnite_residence = simulation.calculate('indemnite_residence', period)\n",
    "        supp_familial_traitement = simulation.calculate('supp_familial_traitement', period)\n",
    "        rev_microsocial_declarant1 = simulation.calculate('rev_microsocial_declarant1', period)\n",
    "\n",
    "        return period, (\n",
    "            salnet +\n",
    "            primes_fonction_publique +\n",
    "            indemnite_residence +\n",
    "            supp_familial_traitement +\n",
    "            hsup +\n",
    "            rev_microsocial_declarant1\n",
    "            )\n",
    "    #Pour la période, je retourne la somme de toutes les variables."
   ]
  },
  {
   "cell_type": "markdown",
   "metadata": {},
   "source": [
    "# Simulation"
   ]
  },
  {
   "cell_type": "code",
   "execution_count": 55,
   "metadata": {
    "collapsed": false
   },
   "outputs": [],
   "source": [
    "simulation = tax_benefit_system.new_scenario().init_single_entity(\n",
    "    period = 2014,\n",
    "    parent1 = dict(\n",
    "        birth = date(1975, 1, 1),\n",
    "        salaire_de_base = 10000,\n",
    "        ),\n",
    "    parent2 = dict(\n",
    "        birth = date(1978, 1, 1),\n",
    "        salaire_de_base = 6000,\n",
    "        ),\n",
    "    enfants = [\n",
    "        dict(\n",
    "            birth = date(2014, 1, 1),\n",
    "            ),\n",
    "        ],\n",
    "    ).new_simulation(debug = True)"
   ]
  },
  {
   "cell_type": "code",
   "execution_count": 56,
   "metadata": {
    "collapsed": false
   },
   "outputs": [
    {
     "data": {
      "text/plain": [
       "array([ 9911.64648438,  5911.64648438,     0.        ], dtype=float32)"
      ]
     },
     "execution_count": 56,
     "metadata": {},
     "output_type": "execute_result"
    }
   ],
   "source": [
    "simulation.calculate(\"salaire_super_brut\")"
   ]
  },
  {
   "cell_type": "code",
   "execution_count": 57,
   "metadata": {
    "collapsed": false
   },
   "outputs": [
    {
     "data": {
      "text/plain": [
       "array([ 17205.69140625], dtype=float32)"
      ]
     },
     "execution_count": 57,
     "metadata": {},
     "output_type": "execute_result"
    }
   ],
   "source": [
    "simulation.calculate(\"revdisp\")"
   ]
  },
  {
   "cell_type": "code",
   "execution_count": 42,
   "metadata": {
    "collapsed": false
   },
   "outputs": [],
   "source": [
    "reform = Reform()"
   ]
  },
  {
   "cell_type": "code",
   "execution_count": 43,
   "metadata": {
    "collapsed": false
   },
   "outputs": [],
   "source": [
    "reform_simulation = reform.new_scenario().init_single_entity(\n",
    "    period = 2014,\n",
    "    parent1 = dict(\n",
    "        birth = date(1975, 1, 1),\n",
    "        salaire_de_base = 10000,\n",
    "        ),\n",
    "    parent2 = dict(\n",
    "        birth = date(1978, 1, 1),\n",
    "        salaire_de_base = 6000,\n",
    "        ),\n",
    "    enfants = [\n",
    "        dict(\n",
    "            birth = date(2014, 1, 1),\n",
    "            ),\n",
    "        ],\n",
    "    ).new_simulation(debug = True)"
   ]
  },
  {
   "cell_type": "code",
   "execution_count": 44,
   "metadata": {
    "collapsed": false
   },
   "outputs": [
    {
     "data": {
      "text/plain": [
       "array([ 9911.64648438,  5911.64648438,     0.        ], dtype=float32)"
      ]
     },
     "execution_count": 44,
     "metadata": {},
     "output_type": "execute_result"
    }
   ],
   "source": [
    "reform_simulation.calculate('salaire_super_brut')"
   ]
  },
  {
   "cell_type": "code",
   "execution_count": 33,
   "metadata": {
    "collapsed": false
   },
   "outputs": [
    {
     "data": {
      "text/plain": [
       "array([-4545.390625, -4545.390625,     0.      ], dtype=float32)"
      ]
     },
     "execution_count": 33,
     "metadata": {},
     "output_type": "execute_result"
    }
   ],
   "source": [
    "reform_simulation.calculate('cotisations_contributives')"
   ]
  },
  {
   "cell_type": "code",
   "execution_count": 34,
   "metadata": {
    "collapsed": false
   },
   "outputs": [
    {
     "data": {
      "text/plain": [
       "array([ 9000.,  6000.,     0.], dtype=float32)"
      ]
     },
     "execution_count": 34,
     "metadata": {},
     "output_type": "execute_result"
    }
   ],
   "source": [
    "reform_simulation.calculate('salaire_de_base')"
   ]
  },
  {
   "cell_type": "code",
   "execution_count": 35,
   "metadata": {
    "collapsed": false
   },
   "outputs": [
    {
     "data": {
      "text/plain": [
       "array([ 16543.02734375,  13543.02832031,      0.        ], dtype=float32)"
      ]
     },
     "execution_count": 35,
     "metadata": {},
     "output_type": "execute_result"
    }
   ],
   "source": [
    "reform_simulation.calculate_add('nouv_salbrut')"
   ]
  },
  {
   "cell_type": "code",
   "execution_count": 36,
   "metadata": {
    "collapsed": false
   },
   "outputs": [
    {
     "data": {
      "text/plain": [
       "array([ 5855.69482422,  3091.48974609,     0.        ], dtype=float32)"
      ]
     },
     "execution_count": 36,
     "metadata": {},
     "output_type": "execute_result"
    }
   ],
   "source": [
    "reform_simulation.calculate_add('salaire_net')"
   ]
  },
  {
   "cell_type": "code",
   "execution_count": null,
   "metadata": {
    "collapsed": false
   },
   "outputs": [],
   "source": []
  }
 ],
 "metadata": {
  "kernelspec": {
   "display_name": "Python 2",
   "language": "python",
   "name": "python2"
  },
  "language_info": {
   "codemirror_mode": {
    "name": "ipython",
    "version": 2
   },
   "file_extension": ".py",
   "mimetype": "text/x-python",
   "name": "python",
   "nbconvert_exporter": "python",
   "pygments_lexer": "ipython2",
   "version": "2.7.9"
  }
 },
 "nbformat": 4,
 "nbformat_minor": 0
}
