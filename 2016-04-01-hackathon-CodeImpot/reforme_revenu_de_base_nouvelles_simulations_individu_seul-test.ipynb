{
 "cells": [
  {
   "cell_type": "code",
   "execution_count": 50,
   "metadata": {
    "collapsed": false
   },
   "outputs": [],
   "source": [
    "from datetime import date\n",
    "\n",
    "from openfisca_france import init_country\n",
    "from openfisca_france.model.base import *\n",
    "\n",
    "# to debug / trace\n",
    "from openfisca_core import web_tools"
   ]
  },
  {
   "cell_type": "markdown",
   "metadata": {},
   "source": [
    "## Adaptation pour faciliter l'usage de ce notebook"
   ]
  },
  {
   "cell_type": "markdown",
   "metadata": {},
   "source": [
    "_Ce correctif permet de redéfinir plusieurs fois la même variable sans provoquer d'erreur._"
   ]
  },
  {
   "cell_type": "code",
   "execution_count": 68,
   "metadata": {
    "collapsed": false
   },
   "outputs": [],
   "source": [
    "import functools\n",
    "\n",
    "from openfisca_france.entities import entity_class_by_symbol\n",
    "\n",
    "# reference_formula = make_reference_formula_decorator(entity_class_by_symbol = entity_class_by_symbol, update = True)\n",
    "# reference_input_variable = functools.partial(reference_input_variable, update = True)"
   ]
  },
  {
   "cell_type": "markdown",
   "metadata": {},
   "source": [
    "# Système socio-fiscal"
   ]
  },
  {
   "cell_type": "code",
   "execution_count": 52,
   "metadata": {
    "collapsed": false
   },
   "outputs": [],
   "source": [
    "TaxBenefitSystem = init_country()\n",
    "tax_benefit_system = TaxBenefitSystem()"
   ]
  },
  {
   "cell_type": "code",
   "execution_count": 53,
   "metadata": {
    "collapsed": false
   },
   "outputs": [],
   "source": [
    "from openfisca_core import reforms"
   ]
  },
  {
   "cell_type": "code",
   "execution_count": 54,
   "metadata": {
    "collapsed": false
   },
   "outputs": [],
   "source": [
    "ReformeRevenuDeBase = reforms.make_reform(\n",
    "    key = 'reforme_rdb',\n",
    "    name = u\"Réforme Revenu de base\",\n",
    "    reference = tax_benefit_system,\n",
    "    )"
   ]
  },
  {
   "cell_type": "markdown",
   "metadata": {},
   "source": [
    "# Réforme : 1. Revenu de base"
   ]
  },
  {
   "cell_type": "code",
   "execution_count": 55,
   "metadata": {
    "collapsed": false
   },
   "outputs": [],
   "source": [
    "from numpy import logical_not as not_, minimum as min_, maximum as max_, logical_and as and_, logical_or as or_\n",
    "#- Hausse de la CSG déductible au taux de 20%\n",
    "#- Mise en place d'un revenu de base adulte égal à RSA socle célibataire - forfait logement célibataire\n",
    "#- Intégrer le revenu de base au revenu disponible\n",
    "#- Mise en place d'un crédit d'impot familles monoparentales montant ??? (50€)\n",
    "#- Supprimer le RSA\n",
    "\n",
    "\n",
    "#-Visualisation graphique en abscisse salaire brut et en ordonnée variation du revenu disponible \n",
    "# pour un célibataire sans enfant\n",
    "# pour un couple sans enfant\n",
    "# une famille monoparentale\n",
    "\n",
    "\n",
    "#(- Nouveau calcul de l'IRPP)\n"
   ]
  },
  {
   "cell_type": "code",
   "execution_count": 56,
   "metadata": {
    "collapsed": false
   },
   "outputs": [],
   "source": [
    "#- Hausse de la CSG déductible au taux de 20%\n",
    "#montant_csg_crds calcul à partir law_node.taux-plein law_node.taux_réduit et law_node.taux\n",
    "import json\n",
    "#- Hausse de la CSG déductible au taux de 20%\n",
    "#montant_csg_crds calcul à partir law_node.taux-plein law_node.taux_réduit et law_node.taux\n",
    "def modify_legislation_json(reference_legislation_json_copy):\n",
    "    for value_json in reference_legislation_json_copy['children']['csg']['children']['activite']['children']['deductible']['children']['taux']['values']:\n",
    "        value_json['value'] = 0.20\n",
    "    return reference_legislation_json_copy\n",
    "\n"
   ]
  },
  {
   "cell_type": "code",
   "execution_count": 71,
   "metadata": {
    "collapsed": false
   },
   "outputs": [
    {
     "ename": "AssertionError",
     "evalue": "rdb",
     "output_type": "error",
     "traceback": [
      "\u001b[1;31m---------------------------------------------------------------------------\u001b[0m",
      "\u001b[1;31mAssertionError\u001b[0m                            Traceback (most recent call last)",
      "\u001b[1;32m<ipython-input-71-7b74de74d662>\u001b[0m in \u001b[0;36m<module>\u001b[1;34m()\u001b[0m\n\u001b[0;32m      1\u001b[0m \u001b[1;31m#- Mise en place d'un revenu de base adulte égal à RSA socle célibataire - forfait logement célibataire\u001b[0m\u001b[1;33m\u001b[0m\u001b[1;33m\u001b[0m\u001b[0m\n\u001b[0;32m      2\u001b[0m \u001b[1;33m\u001b[0m\u001b[0m\n\u001b[1;32m----> 3\u001b[1;33m \u001b[1;32mclass\u001b[0m \u001b[0mrdb\u001b[0m\u001b[1;33m(\u001b[0m\u001b[0mReformeRevenuDeBase\u001b[0m\u001b[1;33m.\u001b[0m\u001b[0mVariable\u001b[0m\u001b[1;33m)\u001b[0m\u001b[1;33m:\u001b[0m\u001b[1;33m\u001b[0m\u001b[0m\n\u001b[0m\u001b[0;32m      4\u001b[0m     \u001b[0mcolumn\u001b[0m \u001b[1;33m=\u001b[0m \u001b[0mFloatCol\u001b[0m\u001b[1;33m\u001b[0m\u001b[0m\n\u001b[0;32m      5\u001b[0m     \u001b[0mentity_class\u001b[0m \u001b[1;33m=\u001b[0m \u001b[0mIndividus\u001b[0m\u001b[1;33m\u001b[0m\u001b[0m\n",
      "\u001b[1;32m/home/openfisca/openfisca-core/openfisca_core/formulas.pyc\u001b[0m in \u001b[0;36m__new__\u001b[1;34m(cls, name, bases, attributes)\u001b[0m\n\u001b[0;32m   1013\u001b[0m             )\n\u001b[0;32m   1014\u001b[0m         \u001b[0mupdate\u001b[0m \u001b[1;33m=\u001b[0m \u001b[0mreference_column\u001b[0m \u001b[1;32mis\u001b[0m \u001b[1;32mnot\u001b[0m \u001b[0mNone\u001b[0m\u001b[1;33m\u001b[0m\u001b[0m\n\u001b[1;32m-> 1015\u001b[1;33m         \u001b[0madd_column_to_tax_benefit_system\u001b[0m\u001b[1;33m(\u001b[0m\u001b[0mcolumn\u001b[0m\u001b[1;33m,\u001b[0m \u001b[0mupdate\u001b[0m \u001b[1;33m=\u001b[0m \u001b[0mupdate\u001b[0m\u001b[1;33m)\u001b[0m\u001b[1;33m\u001b[0m\u001b[0m\n\u001b[0m\u001b[0;32m   1016\u001b[0m         \u001b[1;32mreturn\u001b[0m \u001b[0mcolumn\u001b[0m\u001b[1;33m\u001b[0m\u001b[0m\n\u001b[0;32m   1017\u001b[0m \u001b[1;33m\u001b[0m\u001b[0m\n",
      "\u001b[1;32m/home/openfisca/openfisca-core/openfisca_core/formulas.pyc\u001b[0m in \u001b[0;36madd_column_to_tax_benefit_system\u001b[1;34m(column, update)\u001b[0m\n\u001b[0;32m   1071\u001b[0m     \u001b[0mname\u001b[0m \u001b[1;33m=\u001b[0m \u001b[0mcolumn\u001b[0m\u001b[1;33m.\u001b[0m\u001b[0mname\u001b[0m\u001b[1;33m\u001b[0m\u001b[0m\n\u001b[0;32m   1072\u001b[0m     \u001b[1;32mif\u001b[0m \u001b[1;32mnot\u001b[0m \u001b[0mupdate\u001b[0m\u001b[1;33m:\u001b[0m\u001b[1;33m\u001b[0m\u001b[0m\n\u001b[1;32m-> 1073\u001b[1;33m         \u001b[1;32massert\u001b[0m \u001b[0mname\u001b[0m \u001b[1;32mnot\u001b[0m \u001b[1;32min\u001b[0m \u001b[0mentity_column_by_name\u001b[0m\u001b[1;33m,\u001b[0m \u001b[0mname\u001b[0m\u001b[1;33m\u001b[0m\u001b[0m\n\u001b[0m\u001b[0;32m   1074\u001b[0m     \u001b[0mentity_column_by_name\u001b[0m\u001b[1;33m[\u001b[0m\u001b[0mname\u001b[0m\u001b[1;33m]\u001b[0m \u001b[1;33m=\u001b[0m \u001b[0mcolumn\u001b[0m\u001b[1;33m\u001b[0m\u001b[0m\n\u001b[0;32m   1075\u001b[0m     \u001b[1;32mreturn\u001b[0m \u001b[0mcolumn\u001b[0m\u001b[1;33m\u001b[0m\u001b[0m\n",
      "\u001b[1;31mAssertionError\u001b[0m: rdb"
     ]
    }
   ],
   "source": [
    "#- Mise en place d'un revenu de base adulte égal à RSA socle célibataire - forfait logement célibataire\n",
    "\n",
    "class rdb(ReformeRevenuDeBase.Variable):\n",
    "    column = FloatCol\n",
    "    entity_class = Individus\n",
    "    label = u\"Revenu de base\"\n",
    "\n",
    "    def function(self, simulation, period):\n",
    "        period = period.start.offset('first-of', 'month').period('month')\n",
    "        age = simulation.calculate('age') \n",
    "        rmi = simulation.legislation_at(period.start).minim.rmi\n",
    "        \n",
    "        return period, ((age >= 18) * rmi.rmi * ( 1 - rmi.forfait_logement.taux1) + not_(age >= 18) * 0)\n",
    "\n"
   ]
  },
  {
   "cell_type": "code",
   "execution_count": 58,
   "metadata": {
    "collapsed": true
   },
   "outputs": [],
   "source": [
    "#- Intégrer le revenu de base au revenu disponible\n",
    "class revdisp(ReformeRevenuDeBase.Variable):\n",
    "    reference = Menages.column_by_name['revdisp']\n",
    "\n",
    "    def function(self, simulation, period):\n",
    "        '''\n",
    "        Revenu disponible - ménage\n",
    "        'men'\n",
    "        '''\n",
    "        period = period.start.period('year').offset('first-of') \n",
    "        rev_trav_holder = simulation.compute('rev_trav', period)\n",
    "        pen_holder = simulation.compute('pen', period)\n",
    "        rev_cap_holder = simulation.compute('rev_cap', period)\n",
    "        psoc_holder = simulation.compute('psoc', period)\n",
    "        ppe_holder = simulation.compute('ppe', period)\n",
    "        impo = simulation.calculate('impo', period)\n",
    "        rdb_holder = simulation.calculate_add('rdb', period)\n",
    "        credit_impot_familles_holder = simulation.calculate_add('credit_impot_familles', period)\n",
    "\n",
    "        pen = self.sum_by_entity(pen_holder) \n",
    "        ppe = self.cast_from_entity_to_role(ppe_holder, role = VOUS)\n",
    "        ppe = self.sum_by_entity(ppe)\n",
    "        psoc = self.cast_from_entity_to_role(psoc_holder, role = CHEF)\n",
    "        psoc = self.sum_by_entity(psoc)\n",
    "        rev_cap = self.sum_by_entity(rev_cap_holder)\n",
    "        rev_trav = self.sum_by_entity(rev_trav_holder)\n",
    "        rdb = self.sum_by_entity(rdb_holder)\n",
    "        credit_impot_familles = self.sum_by_entity(credit_impot_familles_holder)\n",
    "        \n",
    "        return period, rev_trav + pen + rev_cap + psoc + ppe + impo + rdb + credit_impot_familles"
   ]
  },
  {
   "cell_type": "code",
   "execution_count": 59,
   "metadata": {
    "collapsed": false
   },
   "outputs": [],
   "source": [
    "#- Mise en place d'un crédit d'impot familles monoparentales montant (150€)\n",
    "class credit_impot_familles(ReformeRevenuDeBase.Variable):\n",
    "    column = FloatCol\n",
    "    entity_class = Individus\n",
    "    label = u\"credit_impot_familles\"\n",
    "\n",
    "    def function(self, simulation, period):\n",
    "        period = period.start.offset('first-of', 'month').period('month')\n",
    "        age_holder = simulation.calculate('age')\n",
    "        nb_enf_a_charge = simulation.calculate('enfant_a_charge',period)\n",
    "        caseT = simulation.calculate('caseT',period) #Egal True si le parent est isolé\n",
    "      \n",
    "        \n",
    "        #return period, or_(and_(age_holder >= 18, nb_enf_a_charge > 0, caseT), or_(age_holder < 18, nb_enf_a_charge <= 0, not_(caseT)) * 0) * 100\n",
    "        return period, self.zeros() + (age_holder >= 18) * (nb_enf_a_charge > 0) * (caseT) * 150\n",
    "    #Si le parent est isolé, avec au moins un enfant, et qu'il est majeur il reçoit la pension"
   ]
  },
  {
   "cell_type": "code",
   "execution_count": 60,
   "metadata": {
    "collapsed": false
   },
   "outputs": [],
   "source": [
    "#- Supprimer le RSA\n",
    "class rsa_socle(ReformeRevenuDeBase.Variable):\n",
    "    reference = Familles.column_by_name['rsa_socle']\n",
    "\n",
    "    def function(self, simulation, period):\n",
    "        period = period.this_month\n",
    "        nb_par = simulation.calculate('nb_par', period)\n",
    "        eligib = simulation.calculate('rsa_eligibilite', period)\n",
    "        nb_enfant_rsa = simulation.calculate('nb_enfant_rsa', period)\n",
    "        rmi = simulation.legislation_at(period.start).minim.rmi\n",
    "\n",
    "        nbp = nb_par + nb_enfant_rsa\n",
    "\n",
    "        taux = (\n",
    "            1 +\n",
    "            (nbp >= 2) * rmi.txp2 +\n",
    "            (nbp >= 3) * rmi.txp3 +\n",
    "            (nbp >= 4) * ((nb_par == 1) * rmi.txps + (nb_par != 1) * rmi.txp3) +\n",
    "            max_(nbp - 4, 0) * rmi.txps\n",
    "        )\n",
    "        #on met à zéro\n",
    "        return period, eligib * rmi.rmi * taux * 0"
   ]
  },
  {
   "cell_type": "markdown",
   "metadata": {
    "collapsed": false
   },
   "source": [
    "\n",
    "# Suppression des allocations familiales\n",
    "@ReformeRevenuDeBase.add_column\n",
    "class af(Variable):\n",
    "    reference = Familles.column_by_name['af']\n",
    "\n",
    "    def function(self, simulation, period):\n",
    "        period = period.this_month\n",
    "        af_base = simulation.calculate('af_base', period)\n",
    "        af_majo = simulation.calculate('af_majo', period)\n",
    "        af_forf = simulation.calculate('af_forf', period)\n",
    "\n",
    "        #return period, af_base + af_majo + af_forf\n",
    "        return period, af_base * 0"
   ]
  },
  {
   "cell_type": "markdown",
   "metadata": {},
   "source": [
    "# Tests"
   ]
  },
  {
   "cell_type": "code",
   "execution_count": 61,
   "metadata": {
    "collapsed": false
   },
   "outputs": [],
   "source": [
    "reform = ReformeRevenuDeBase()\n",
    "reform.modify_legislation_json(modifier_function = modify_legislation_json)"
   ]
  },
  {
   "cell_type": "code",
   "execution_count": 62,
   "metadata": {
    "collapsed": true
   },
   "outputs": [],
   "source": [
    "parent1_salaire_de_base = 50000"
   ]
  },
  {
   "cell_type": "code",
   "execution_count": 63,
   "metadata": {
    "collapsed": false
   },
   "outputs": [],
   "source": [
    "scenario_ref_individu_seul = tax_benefit_system.new_scenario().init_single_entity(\n",
    "    period = 2014,\n",
    "    parent1 = dict(\n",
    "        birth = date(1980, 1, 1),\n",
    "        salaire_de_base = parent1_salaire_de_base,\n",
    "        statmarit = u'Célibataire',\n",
    "    ),\n",
    "    foyer_fiscal = dict(\n",
    "        caseT = True,\n",
    "    ),\n",
    "    enfants = [],\n",
    "    )\n",
    "simulation_ref_individu_seul = scenario_ref_individu_seul.new_simulation(debug = True)"
   ]
  },
  {
   "cell_type": "code",
   "execution_count": 64,
   "metadata": {
    "collapsed": false
   },
   "outputs": [],
   "source": [
    "scenario_rdb_individu_seul = reform.new_scenario().init_single_entity(\n",
    "    period = 2014,\n",
    "    parent1 = dict(\n",
    "        birth = date(1980, 1, 1),\n",
    "        salaire_de_base = parent1_salaire_de_base,\n",
    "        statmarit = u'Célibataire',\n",
    "    ),\n",
    "    foyer_fiscal = dict(\n",
    "        caseT = True,\n",
    "    ),\n",
    "    enfants = [],\n",
    "    )\n",
    "simulation_rdb_individu_seul = scenario_rdb_individu_seul.new_simulation(debug = True)"
   ]
  },
  {
   "cell_type": "code",
   "execution_count": 65,
   "metadata": {
    "collapsed": false
   },
   "outputs": [
    {
     "data": {
      "text/plain": [
       "array([ 35990.39453125], dtype=float32)"
      ]
     },
     "execution_count": 65,
     "metadata": {},
     "output_type": "execute_result"
    }
   ],
   "source": [
    "# Reference\n",
    "simulation_ref_individu_seul.calculate('revdisp')"
   ]
  },
  {
   "cell_type": "code",
   "execution_count": 66,
   "metadata": {
    "collapsed": false
   },
   "outputs": [
    {
     "data": {
      "text/plain": [
       "array([-5346.21435547], dtype=float32)"
      ]
     },
     "execution_count": 66,
     "metadata": {},
     "output_type": "execute_result"
    }
   ],
   "source": [
    "simulation_ref_individu_seul.calculate('irpp')"
   ]
  },
  {
   "cell_type": "code",
   "execution_count": 67,
   "metadata": {
    "collapsed": false
   },
   "outputs": [
    {
     "data": {
      "text/plain": [
       "array([ 499.30999756], dtype=float32)"
      ]
     },
     "execution_count": 67,
     "metadata": {},
     "output_type": "execute_result"
    }
   ],
   "source": [
    "simulation_ref_individu_seul.calculate_add('rsa')"
   ]
  },
  {
   "cell_type": "code",
   "execution_count": 22,
   "metadata": {
    "collapsed": false
   },
   "outputs": [
    {
     "data": {
      "text/plain": [
       "array([-1178.99902344], dtype=float32)"
      ]
     },
     "execution_count": 22,
     "metadata": {},
     "output_type": "execute_result"
    }
   ],
   "source": [
    "simulation_ref_individu_seul.calculate('csg_imposable_salaire')"
   ]
  },
  {
   "cell_type": "code",
   "execution_count": 23,
   "metadata": {
    "collapsed": false
   },
   "outputs": [
    {
     "data": {
      "text/plain": [
       "array([-2505.37231445], dtype=float32)"
      ]
     },
     "execution_count": 23,
     "metadata": {},
     "output_type": "execute_result"
    }
   ],
   "source": [
    "simulation_ref_individu_seul.calculate('csg_deductible_salaire')"
   ]
  },
  {
   "cell_type": "code",
   "execution_count": 24,
   "metadata": {
    "collapsed": false
   },
   "outputs": [
    {
     "data": {
      "text/plain": [
       "array([ 9278.70703125], dtype=float32)"
      ]
     },
     "execution_count": 24,
     "metadata": {},
     "output_type": "execute_result"
    }
   ],
   "source": [
    "simulation_ref_individu_seul.calculate('tot_impot')"
   ]
  },
  {
   "cell_type": "code",
   "execution_count": 25,
   "metadata": {
    "collapsed": false
   },
   "outputs": [
    {
     "data": {
      "text/plain": [
       "array([ 35303.47265625], dtype=float32)"
      ]
     },
     "execution_count": 25,
     "metadata": {},
     "output_type": "execute_result"
    }
   ],
   "source": [
    "# Avec RDB\n",
    "simulation_rdb_individu_seul.calculate('revdisp')"
   ]
  },
  {
   "cell_type": "code",
   "execution_count": 26,
   "metadata": {
    "collapsed": false
   },
   "outputs": [
    {
     "data": {
      "text/plain": [
       "array([-3369.62670898], dtype=float32)"
      ]
     },
     "execution_count": 26,
     "metadata": {},
     "output_type": "execute_result"
    }
   ],
   "source": [
    "simulation_rdb_individu_seul.calculate('irpp')"
   ]
  },
  {
   "cell_type": "code",
   "execution_count": 27,
   "metadata": {
    "collapsed": false
   },
   "outputs": [
    {
     "data": {
      "text/plain": [
       "array([-1178.99902344], dtype=float32)"
      ]
     },
     "execution_count": 27,
     "metadata": {},
     "output_type": "execute_result"
    }
   ],
   "source": [
    "simulation_rdb_individu_seul.calculate('csg_imposable_salaire')"
   ]
  },
  {
   "cell_type": "code",
   "execution_count": 28,
   "metadata": {
    "collapsed": false
   },
   "outputs": [
    {
     "data": {
      "text/plain": [
       "array([-9824.9921875], dtype=float32)"
      ]
     },
     "execution_count": 28,
     "metadata": {},
     "output_type": "execute_result"
    }
   ],
   "source": [
    "simulation_rdb_individu_seul.calculate('csg_deductible_salaire')"
   ]
  },
  {
   "cell_type": "code",
   "execution_count": 29,
   "metadata": {
    "collapsed": false
   },
   "outputs": [
    {
     "data": {
      "text/plain": [
       "array([ 14619.2421875], dtype=float32)"
      ]
     },
     "execution_count": 29,
     "metadata": {},
     "output_type": "execute_result"
    }
   ],
   "source": [
    "simulation_rdb_individu_seul.calculate('tot_impot')"
   ]
  },
  {
   "cell_type": "code",
   "execution_count": 30,
   "metadata": {
    "collapsed": false
   },
   "outputs": [
    {
     "data": {
      "text/plain": [
       "array([ 14619.2421875], dtype=float32)"
      ]
     },
     "execution_count": 30,
     "metadata": {},
     "output_type": "execute_result"
    }
   ],
   "source": [
    "# trace\n",
    "simulation_rdb_individu_seul.calculate('tot_impot')\n",
    "#print web_tools.get_trace_tool_link(scenario, ['tot_impot'])"
   ]
  },
  {
   "cell_type": "code",
   "execution_count": null,
   "metadata": {
    "collapsed": true
   },
   "outputs": [],
   "source": [
    "simulation_rdb_individu_seul.calculate('rdb')"
   ]
  },
  {
   "cell_type": "code",
   "execution_count": 49,
   "metadata": {
    "collapsed": false
   },
   "outputs": [],
   "source": [
    "# Graphique\n",
    "import matplotlib\n",
    "import matplotlib.pyplot as plt\n",
    "%matplotlib inline\n",
    "\n",
    "# REFERENCE\n",
    "year = 2014\n",
    "scenario_ref_individu_seul = tax_benefit_system.new_scenario().init_single_entity(\n",
    "    period = year,\n",
    "    parent1 = dict(\n",
    "        birth = date(1980, 1, 1),\n",
    "        statmarit = u'Célibataire',\n",
    "    ),\n",
    "    foyer_fiscal = dict(\n",
    "        caseT = True,\n",
    "    ),\n",
    "    enfants = [],\n",
    "    axes = [[\n",
    "            dict(\n",
    "                count = 13,\n",
    "                min = 0,\n",
    "                max = 60000,\n",
    "                name = 'salaire_de_base',\n",
    "                period = year,            \n",
    "                ),\n",
    "            dict(\n",
    "                count = 13,\n",
    "                min = 0,\n",
    "                max = 60000,\n",
    "                name = 'salaire_de_base',\n",
    "                period = year-1,            \n",
    "                ),\n",
    "            dict(\n",
    "                count = 13,\n",
    "                min = 0,\n",
    "                max = 60000,\n",
    "                name = 'salaire_de_base',\n",
    "                period = year-2,            \n",
    "                )\n",
    "            ]],\n",
    ")\n",
    "simulation_ref_individu_seul = scenario_ref_individu_seul.new_simulation(debug = True)"
   ]
  },
  {
   "cell_type": "code",
   "execution_count": 32,
   "metadata": {
    "collapsed": true
   },
   "outputs": [],
   "source": [
    "# RDB\n",
    "scenario_rdb_individu_seul = reform.new_scenario().init_single_entity(\n",
    "    period = year,\n",
    "    parent1 = dict(\n",
    "        birth = date(1980, 1, 1),\n",
    "        #salaire_de_base = parent1_salaire_de_base,\n",
    "        statmarit = u'Célibataire',\n",
    "    ),\n",
    "    foyer_fiscal = dict(\n",
    "        caseT = True,\n",
    "    ),\n",
    "    enfants = [],\n",
    "    axes = [\n",
    "            dict(\n",
    "                count = 13,\n",
    "                min = 0,\n",
    "                max = 60000,\n",
    "                name = 'salaire_de_base',\n",
    "                period = year,            \n",
    "                ),\n",
    "            ],\n",
    "    )\n",
    "simulation_rdb_individu_seul = scenario_rdb_individu_seul.new_simulation(debug = True)"
   ]
  },
  {
   "cell_type": "code",
   "execution_count": 33,
   "metadata": {
    "collapsed": false
   },
   "outputs": [],
   "source": [
    "salaire_de_base = simulation_ref_individu_seul.calculate(\"salaire_de_base\")"
   ]
  },
  {
   "cell_type": "code",
   "execution_count": 34,
   "metadata": {
    "collapsed": false
   },
   "outputs": [],
   "source": [
    "revenu_disponible_ref = simulation_ref_individu_seul.calculate_add(\"revdisp\")\n",
    "rsa_ref = simulation_ref_individu_seul.calculate_add(\"rsa\")\n",
    "revenu_disponible_ref = simulation_rdb_individu_seul.calculate_add(\"salaire_net\")\n"
   ]
  },
  {
   "cell_type": "code",
   "execution_count": 35,
   "metadata": {
    "collapsed": false
   },
   "outputs": [
    {
     "data": {
      "text/plain": [
       "[<matplotlib.lines.Line2D at 0x7f5636e9edd0>]"
      ]
     },
     "execution_count": 35,
     "metadata": {},
     "output_type": "execute_result"
    },
    {
     "data": {
      "image/png": "[encoded data removed]",
      "text/plain": [
       "<matplotlib.figure.Figure at 0x7f5638dc3250>"
      ]
     },
     "metadata": {},
     "output_type": "display_data"
    }
   ],
   "source": [
    "# plt.plot(salaire_de_base[::1], revenu_disponible_ref, salaire_de_base[::1], revenu_disponible_rdb, salaire_de_base[::1], rsa_ref)\n",
    "plt.plot(salaire_de_base[::1], rsa_ref)"
   ]
  },
  {
   "cell_type": "code",
   "execution_count": 36,
   "metadata": {
    "collapsed": false
   },
   "outputs": [],
   "source": [
    "def make_alone_scenario(nombre_enfants = 0, year = None, tax_benefit_system = tax_benefit_system,\n",
    "                                    axes_variable = 'salaire_de_base',  ax_variable_max = 60000, count = 13):\n",
    "    enfant = [dict(\n",
    "        birth = date(2005, 1, 1),\n",
    "        )]\n",
    "    enfants = enfant * nombre_enfants\n",
    "    scenario = tax_benefit_system.new_scenario().init_single_entity(\n",
    "        axes = [[\n",
    "            dict(\n",
    "                count = count,\n",
    "                min = 0,\n",
    "                max = ax_variable_max,\n",
    "                name = axes_variable,\n",
    "                period = year-2,\n",
    "                ),\n",
    "            dict(\n",
    "                count = count,\n",
    "                min = 0,\n",
    "                max = ax_variable_max,\n",
    "                name = axes_variable,\n",
    "                period = year-1,\n",
    "                ),\n",
    "            dict(\n",
    "                count = count,\n",
    "                min = 0,\n",
    "                max = ax_variable_max,\n",
    "                name = axes_variable,\n",
    "                period = year,\n",
    "                ),\n",
    "            ]],\n",
    "        period = year,\n",
    "        parent1 = dict(\n",
    "            birth = date(1980, 1, 1),\n",
    "            ),\n",
    "        enfants = enfants,\n",
    "        menage = dict(\n",
    "            loyer = 1000,\n",
    "            statut_occupation = 4,\n",
    "            ),\n",
    "        )\n",
    "    return scenario"
   ]
  },
  {
   "cell_type": "code",
   "execution_count": 41,
   "metadata": {
    "collapsed": false
   },
   "outputs": [],
   "source": [
    "scenario_alone_ref = make_alone_scenario(0, 2014)\n",
    "simulation_alone_ref = scenario_alone_ref.new_simulation()"
   ]
  },
  {
   "cell_type": "code",
   "execution_count": 42,
   "metadata": {
    "collapsed": true
   },
   "outputs": [],
   "source": [
    "scenario_alone_reform = make_alone_scenario(0, 2014, reform)\n",
    "simulation_alone_reform = scenario_alone_reform.new_simulation()"
   ]
  },
  {
   "cell_type": "code",
   "execution_count": 47,
   "metadata": {
    "collapsed": false
   },
   "outputs": [
    {
     "data": {
      "text/plain": [
       "[<matplotlib.lines.Line2D at 0x7f5635792050>]"
      ]
     },
     "execution_count": 47,
     "metadata": {},
     "output_type": "execute_result"
    },
    {
     "data": {
      "image/png": "[encoded data removed]",
      "text/plain": [
       "<matplotlib.figure.Figure at 0x7f5637395f90>"
      ]
     },
     "metadata": {},
     "output_type": "display_data"
    }
   ],
   "source": [
    "salaire_net_ref = simulation_alone_ref.calculate_add('salaire_net')\n",
    "rsa_ref = simulation_alone_ref.calculate_add('rsa')\n",
    "salaire_net_reform = simulation_alone_reform.calculate_add('salaire_net')\n",
    "rsa_reform = simulation_alone_reform.calculate_add('rsa')\n",
    "plt.plot(salaire_net_ref, rsa_ref)"
   ]
  },
  {
   "cell_type": "code",
   "execution_count": 48,
   "metadata": {
    "collapsed": false
   },
   "outputs": [
    {
     "data": {
      "text/plain": [
       "[<matplotlib.lines.Line2D at 0x7f5635b05350>]"
      ]
     },
     "execution_count": 48,
     "metadata": {},
     "output_type": "execute_result"
    },
    {
     "data": {
      "image/png": "[encoded data removed]",
      "text/plain": [
       "<matplotlib.figure.Figure at 0x7f5636c7b1d0>"
      ]
     },
     "metadata": {},
     "output_type": "display_data"
    }
   ],
   "source": [
    "plt.plot(salaire_net_reform, rsa_reform)"
   ]
  },
  {
   "cell_type": "code",
   "execution_count": null,
   "metadata": {
    "collapsed": true
   },
   "outputs": [],
   "source": []
  }
 ],
 "metadata": {
  "kernelspec": {
   "display_name": "Python 2",
   "language": "python",
   "name": "python2"
  },
  "language_info": {
   "codemirror_mode": {
    "name": "ipython",
    "version": 2
   },
   "file_extension": ".py",
   "mimetype": "text/x-python",
   "name": "python",
   "nbconvert_exporter": "python",
   "pygments_lexer": "ipython2",
   "version": "2.7.11+"
  }
 },
 "nbformat": 4,
 "nbformat_minor": 0
}
