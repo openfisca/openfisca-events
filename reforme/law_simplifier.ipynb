{
 "cells": [
  {
   "cell_type": "markdown",
   "metadata": {
    "collapsed": true
   },
   "source": [
    "Guillaume Chaslot <guillaume.chaslot@data.gouv.fr>\n",
    "\n",
    "# Tax Law Simplifier\n",
    "\n",
    "The tax law is more than 200,000 lines long and opaque.\n",
    "\n",
    "We believe that with this tool, *you* can make it less than 100 lines, transparent, and 99% similar to the existing legislation\n",
    "\n",
    "### How it works:\n",
    "\n",
    "1. Define your concepts (e.g., 'nb_enfants', 'age', 'parent isolé') and budget (e.g.: save 50,000,000 euros)\n",
    "2. The machine learning algorithm helps you adjust the parameters of your reform to approximate the current legislation and fit your budget\n",
    "3. From the biggest discrepencies with the current legislation, you can improve your concepts (or the legislation)\n",
    "4. Repeat until you reach a legislation that matches your own goals. The algorithm takes care of minimizing your budget and maximizing the similarity to current legislation.\n",
    "\n",
    "### Results:\n",
    "\n",
    "Within a few minutes it is possible to run tens of iteration.\n",
    "\n",
    "### Beta version limitations:\n",
    "\n",
    "For this test, we only take a population of people from all ages, who have 0 to 5 children, no salary, married, veuf, paces, divorces or celibataires, and simulate the \"aides sociales\"\n"
   ]
  },
  {
   "cell_type": "code",
   "execution_count": 11,
   "metadata": {
    "collapsed": true
   },
   "outputs": [],
   "source": [
    "from compare_simulators import CalculatorComparator\n",
    "from population_simulator import CerfaPopulationSimulator\n",
    "from utils import show_histogram\n",
    "from utils import percent_diff\n",
    "from utils import scatter_plot\n",
    "\n",
    "import matplotlib.pyplot as plt\n",
    "import numpy as np\n",
    "import random\n",
    "\n",
    "%matplotlib inline"
   ]
  },
  {
   "cell_type": "markdown",
   "metadata": {},
   "source": [
    "# Load the population data\n",
    "\n",
    "The population data is simulated for now, see population_simulator.py for details. Just do it."
   ]
  },
  {
   "cell_type": "code",
   "execution_count": 12,
   "metadata": {
    "collapsed": false
   },
   "outputs": [],
   "source": [
    "comp = CalculatorComparator()\n",
    "comp.load_openfisca_from_json('1aj-1bj-f-2000')\n",
    "\n",
    "revdisp = comp.get_variable_from_openfisca('revdisp')"
   ]
  },
  {
   "cell_type": "markdown",
   "metadata": {},
   "source": [
    "# Extract the concepts of interest\n",
    "\n",
    "You can add concepts here if you like. The input population is in the CERFA declaration des revenus format."
   ]
  },
  {
   "cell_type": "code",
   "execution_count": 13,
   "metadata": {
    "collapsed": false,
    "scrolled": true
   },
   "outputs": [
    {
     "name": "stdout",
     "output_type": "stream",
     "text": [
      "Number of family: 742\n",
      "Echantillon of 2863 people, in percent of french population for similar revenu: 0.14315%\n"
     ]
    }
   ],
   "source": [
    "population = []\n",
    "original_index = []\n",
    "\n",
    "def cas_improbable(case):\n",
    "    # It is highly unlikely to have enfants a charge above 64 so we remove those cases\n",
    "    if (int(case['0DA']) <= 1950 or ('0DB' in case and int(case['0DA'] <= 1950))) and 'F' in case and int(case['F']) > 0:\n",
    "        return True\n",
    "    return False\n",
    "\n",
    "for i in range(0, len(comp.testcases)):\n",
    "    case = comp.testcases[i]\n",
    "    if case.get('1AJ', 0) < 1 and case.get('1BJ', 0) < 1 and not cas_improbable(case):\n",
    "        original_index.append(i)\n",
    "        new_family = {}\n",
    "        new_family['taxable_income'] =  case.get('1AJ', 0)\n",
    "        new_family['revdisp'] = revdisp[i]\n",
    "\n",
    "        if 'F' in case:\n",
    "            if case['F'] == 1:\n",
    "                new_family['enfant_unique'] = 1\n",
    "            if case['F'] >= 2:\n",
    "                new_family['enfants_deux_ou_plus'] = 1\n",
    "            if case['F'] > 2:\n",
    "                new_family['nb_enfants_au_dessus_de_2'] = case['F'] - 2\n",
    "            new_family['nb_enfants'] = case['F']\n",
    "\n",
    "        if 'O' in case or 'M' in case:\n",
    "            new_family['two_people'] = 1                \n",
    "\n",
    "        one_declarant_above_24 = False\n",
    "        both_declarant_parent_below_24 = 'F' in case\n",
    "\n",
    "        if '0DA' in case:\n",
    "            age_1 = 2014 - case['0DA']\n",
    "            new_family['age-dec1'] = age_1\n",
    "#             if age <= 24 and 'F' in case:\n",
    "#                 new_family['declarant parent <= 24 ans'] = 1\n",
    "            if age_1  >= 24:\n",
    "                one_declarant_above_24 = True\n",
    "                both_declarant_parent_below_24 = False\n",
    "#                 new_family['declarant > 24 ans'] = 1\n",
    "            if age_1  > 64:\n",
    "                new_family['declarant > 64 ans'] = 1\n",
    "                new_family['declarants > 64 ans'] = 1\n",
    "\n",
    "        age_2 = 0            \n",
    "        if '0DB' in case:\n",
    "            age_2 = 2014 - case['0DB']\n",
    "            new_family['age-dec2'] = age_2\n",
    "            if age_2  >= 24:\n",
    "                one_declarant_above_24 = True\n",
    "                both_declarant_parent_below_24 = False\n",
    "\n",
    "#                 new_family['codeclarant > 24 ans'] = 1\n",
    "            if age_2  > 64:\n",
    "                new_family['declarants > 64 ans'] = new_family.get('declarants > 64 ans', 0) + 1\n",
    "                new_family['codeclarant > 64 ans'] = 1\n",
    "\n",
    "        if age_1 >= 24 and age_2 >= 24:\n",
    "            new_family['both > 24 ans'] = 1\n",
    "\n",
    "        if both_declarant_parent_below_24:\n",
    "            new_family['both_declarant_parent_below_24'] = True\n",
    "            \n",
    "        if one_declarant_above_24:\n",
    "            new_family['one_declarant_above_24'] = True\n",
    "\n",
    "        if 'F' in case and ('C' in case or 'D' in case or 'V' in case):\n",
    "            new_family['parent_isolé'] = True\n",
    "            \n",
    "        if 'F' in case and ('M' in case or 'O' in case):\n",
    "            new_family['parents_en_couple'] = True\n",
    "\n",
    "        population.append(new_family)\n",
    "\n",
    "print 'Number of family: ' + repr(len(population))\n",
    "\n",
    "total_people = 0\n",
    "for family in comp.testcases:\n",
    "    total_people += 1\n",
    "    if '0DB' in family and family['0DB'] == 1:\n",
    "        total_people += 1\n",
    "    if 'F' in family:\n",
    "        total_people += family['F']\n",
    "\n",
    "# We assume that there are 2000000 people with RSA\n",
    "echantillon =  float(total_people) / 2000000\n",
    "print 'Echantillon of ' + repr(total_people) + ' people, in percent of french population for similar revenu: ' + repr(100 * echantillon) + '%'\n"
   ]
  },
  {
   "cell_type": "markdown",
   "metadata": {},
   "source": [
    "# Plots Revenu disponible before reform"
   ]
  },
  {
   "cell_type": "code",
   "execution_count": 14,
   "metadata": {
    "collapsed": false
   },
   "outputs": [
    {
     "data": {
      "image/png": "[encoded data removed]",
      "text/plain": [
       "<matplotlib.figure.Figure at 0x7f944da77890>"
      ]
     },
     "metadata": {},
     "output_type": "display_data"
    }
   ],
   "source": [
    "revdisp_when_no_salary = list(family['revdisp'] for family in population)\n",
    "\n",
    "show_histogram(revdisp_when_no_salary, 'Distribution of revenu disponible')"
   ]
  },
  {
   "cell_type": "markdown",
   "metadata": {},
   "source": [
    "# Define your reform here\n",
    "\n",
    "Give all the concepts you care about either as:\n",
    "\n",
    "* <strong> boolean parameters</strong> can be either 1, or 0, or missing (e.g., one_declarant_above_24)\n",
    "\n",
    "\n",
    "* <strong> linear parameters </strong> can be floats (e.g., nb_enfants)\n",
    "\n",
    "\n",
    "* <strong> segmentation parameters </strong> are segmented by the algorithm into several boolean parameters (e.g., age_declarant_principal might be broken down automatically by the algo into 0-25 / 25-64 / 65+)"
   ]
  },
  {
   "cell_type": "code",
   "execution_count": null,
   "metadata": {
    "collapsed": false
   },
   "outputs": [],
   "source": [
    "from reformators import Excalibur\n",
    "\n",
    "sword = Excalibur(population, 'revdisp', 'taxable_income', echantillon=echantillon)\n",
    "\n",
    "simulated_reform = sword.suggest_reform(\n",
    "                           boolean_parameters = ['both_declarant_parent_below_24'],\n",
    "                           linear_parameters = ['nb_enfants'],\n",
    "                           barem_parameters = ['age-dec1', 'age-dec2'],\n",
    "                           save=0)"
   ]
  },
  {
   "cell_type": "markdown",
   "metadata": {},
   "source": [
    "# Plots revenu disponible after reform"
   ]
  },
  {
   "cell_type": "code",
   "execution_count": null,
   "metadata": {
    "collapsed": false
   },
   "outputs": [],
   "source": [
    "xmin = 4900\n",
    "xmax = 19000\n",
    "nb_buckets = 25\n",
    "\n",
    "bins = np.linspace(xmin, xmax, nb_buckets)\n",
    "\n",
    "plt.hist(revdisp_when_no_salary, bins, alpha=0.5, label='current')\n",
    "plt.hist(simulated_reform, bins, alpha=0.5, label='reform')\n",
    "plt.legend(loc='upper right')\n",
    "plt.show()"
   ]
  },
  {
   "cell_type": "markdown",
   "metadata": {},
   "source": [
    "# Distribution of the changes in revenu in euros"
   ]
  },
  {
   "cell_type": "code",
   "execution_count": null,
   "metadata": {
    "collapsed": false
   },
   "outputs": [],
   "source": [
    "difference = list(simulated_reform[i] - revdisp_when_no_salary[i] for i in range(len(simulated_reform)))\n",
    "\n",
    "show_histogram(difference, 'Changes in revenu')"
   ]
  },
  {
   "cell_type": "markdown",
   "metadata": {},
   "source": [
    "# Distribution of the change in revenu in percentage"
   ]
  },
  {
   "cell_type": "code",
   "execution_count": null,
   "metadata": {
    "collapsed": false
   },
   "outputs": [],
   "source": [
    "percentage_difference = list(100 * percent_diff(simulated_reform[i], revdisp_when_no_salary[i]) for i in range(len(simulated_reform)))\n",
    "\n",
    "show_histogram(percentage_difference, 'Changes in revenu')"
   ]
  },
  {
   "cell_type": "markdown",
   "metadata": {},
   "source": [
    "# Change as a function of the number of children"
   ]
  },
  {
   "cell_type": "code",
   "execution_count": null,
   "metadata": {
    "collapsed": false,
    "scrolled": true
   },
   "outputs": [],
   "source": [
    "nb_children = list((population[i].get('nb_enfants', 0)  for i in range(len(population)))) \n",
    "\n",
    "scatter_plot(nb_children, difference, 'Age declarant 1', 'Difference reform - current', alpha=0.01)"
   ]
  },
  {
   "cell_type": "markdown",
   "metadata": {},
   "source": [
    "# Change as a function of the age of declarant 1\n",
    "\n",
    "A scatter plot is better than a thousand points #ChineseProverb"
   ]
  },
  {
   "cell_type": "code",
   "execution_count": null,
   "metadata": {
    "collapsed": false
   },
   "outputs": [],
   "source": [
    "age_dec1 = list((population[i].get('age-dec1', 0)  for i in range(len(population)))) \n",
    "\n",
    "scatter_plot(age_dec1, difference, 'Age declarant 1', 'Difference reform - current', alpha=0.1)"
   ]
  },
  {
   "cell_type": "markdown",
   "metadata": {},
   "source": [
    "# Most important: Edge Cases\n",
    "\n",
    "This is the heart of this tool: by seeing the worse cases, you can discover when the current legislation is smarter than yours (or the other way), and improve it further"
   ]
  },
  {
   "cell_type": "code",
   "execution_count": null,
   "metadata": {
    "collapsed": false
   },
   "outputs": [],
   "source": [
    "# TODO: also give the detail of the calculus both for Openfisca and the Reform\n",
    "\n",
    "original_population = []\n",
    "original_revdisp = []\n",
    "for i in range(0, len(population)):\n",
    "    original_population.append(comp.testcases[original_index[i]])\n",
    "    original_revdisp.append(revdisp[original_index[i]])\n",
    "\n",
    "order = sorted(range(len(simulated_reform)), key=lambda k: -abs(simulated_reform[k] - revdisp_when_no_salary[k]))\n",
    "\n",
    "for i in order:\n",
    "    print 'Case ' + repr(original_population[i]) + ' Current =' + repr(int(revdisp_when_no_salary[i])) + ' Reform = ' + repr(int(simulated_reform[i]))"
   ]
  },
  {
   "cell_type": "code",
   "execution_count": null,
   "metadata": {
    "collapsed": true
   },
   "outputs": [],
   "source": []
  },
  {
   "cell_type": "markdown",
   "metadata": {},
   "source": [
    "# Best compromise simplicity / matching current legislation:"
   ]
  },
  {
   "cell_type": "code",
   "execution_count": null,
   "metadata": {
    "collapsed": false
   },
   "outputs": [],
   "source": [
    "sword = Excalibur(population,'revdisp', 'taxable_income', echantillon=echantillon)\n",
    "res = sword.suggest_reform(boolean_parameters=[\n",
    "                            'one_declarant_above_24',\n",
    "                            'declarant > 64 ans',\n",
    "                            'codeclarant > 64 ans',\n",
    "                            'two_people',\n",
    "                           ],\n",
    "                           linear_parameters=['nb_enfants'],\n",
    "                          save=0)"
   ]
  },
  {
   "cell_type": "code",
   "execution_count": null,
   "metadata": {
    "collapsed": false
   },
   "outputs": [],
   "source": [
    "original_population = []\n",
    "original_revdisp = []\n",
    "for i in range(0, len(population)):\n",
    "    original_population.append(comp.testcases[original_index[i]])\n",
    "    original_revdisp.append(revdisp[original_index[i]])\n",
    "\n",
    "order = sorted(range(len(simulated_reform)), key=lambda k: -abs(simulated_reform[k] - revdisp_when_no_salary[k]))\n",
    "\n",
    "for i in order:\n",
    "    print 'Case ' + repr(original_population[i]) + ' Current =' + repr(int(revdisp_when_no_salary[i])) + ' Reform = ' + repr(int(simulated_reform[i]))"
   ]
  },
  {
   "cell_type": "code",
   "execution_count": null,
   "metadata": {
    "collapsed": false
   },
   "outputs": [],
   "source": [
    "from reformators import Excalibur\n",
    "\n",
    "sword = Excalibur(population, 'revdisp', 'taxable_income', echantillon=echantillon)\n",
    "simulated_reform = sword.suggest_reform(\n",
    "                           boolean_parameters = ['both_declarant_parent_below_24', 'declarant > 64 ans', 'one_declarant_above_24', 'codeclarant > 64 ans'],\n",
    "                           linear_parameters = ['nb_enfants'],\n",
    "                           barem_parameters = [],\n",
    "                           save=0)"
   ]
  },
  {
   "cell_type": "code",
   "execution_count": null,
   "metadata": {
    "collapsed": true
   },
   "outputs": [],
   "source": []
  },
  {
   "cell_type": "code",
   "execution_count": null,
   "metadata": {
    "collapsed": true
   },
   "outputs": [],
   "source": []
  }
 ],
 "metadata": {
  "kernelspec": {
   "display_name": "Python 2",
   "language": "python",
   "name": "python2"
  },
  "language_info": {
   "codemirror_mode": {
    "name": "ipython",
    "version": 2
   },
   "file_extension": ".py",
   "mimetype": "text/x-python",
   "name": "python",
   "nbconvert_exporter": "python",
   "pygments_lexer": "ipython2",
   "version": "2.7.9"
  }
 },
 "nbformat": 4,
 "nbformat_minor": 0
}
