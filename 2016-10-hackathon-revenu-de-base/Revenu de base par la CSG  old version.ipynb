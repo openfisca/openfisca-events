{
 "cells": [
  {
   "cell_type": "code",
   "execution_count": 80,
   "metadata": {
    "collapsed": false
   },
   "outputs": [],
   "source": [
    "from datetime import date\n",
    "import json\n",
    "\n",
    "import openfisca_france\n",
    "from openfisca_france.model.base import *\n",
    "\n",
    "#importer numpy permet de coler deux sections de courbes (nécessaire quand on fait varier le salaire de base en-dessous du SMIC mensuel)\n",
    "import numpy as np\n",
    "from numpy import round\n",
    "\n",
    "# to debug / trace\n",
    "from openfisca_core import periods, tools\n",
    "from openfisca_core.reforms import Reform"
   ]
  },
  {
   "cell_type": "markdown",
   "metadata": {},
   "source": [
    "# Système socio-fiscal"
   ]
  },
  {
   "cell_type": "code",
   "execution_count": 81,
   "metadata": {
    "collapsed": false
   },
   "outputs": [],
   "source": [
    "tax_benefit_system = openfisca_france.FranceTaxBenefitSystem()"
   ]
  },
  {
   "cell_type": "code",
   "execution_count": 82,
   "metadata": {
    "collapsed": false
   },
   "outputs": [],
   "source": [
    "simulation_year = 2016\n",
    "simulation_period = periods.period(simulation_year)\n",
    "simulation_first_month = simulation_period.this_month\n",
    "simulation_start_instant = simulation_period.start"
   ]
  },
  {
   "cell_type": "markdown",
   "metadata": {},
   "source": [
    "# Réforme : 1. Revenu de base par CSG"
   ]
  },
  {
   "cell_type": "code",
   "execution_count": 83,
   "metadata": {
    "collapsed": false
   },
   "outputs": [],
   "source": [
    "from numpy import logical_not as not_, minimum as min_, maximum as max_, logical_and as and_, logical_or as or_\n",
    "#- Hausse de la CSG déductible au taux de 23%\n",
    "#- Mise en place d'un revenu de base adulte égal à RSA socle célibataire - forfait logement célibataire\n",
    "#- Intégrer le revenu de base au revenu disponible\n",
    "#- Mise en place d'un crédit d'impot familles monoparentales montant ??? (50€)\n",
    "#- Supprimer le RSA\n",
    "\n",
    "\n",
    "#-Visualisation graphique en abscisse salaire brut et en ordonnée variation du revenu disponible \n",
    "# pour un célibataire sans enfant\n",
    "# pour un couple sans enfant\n",
    "# une famille monoparentale\n",
    "\n",
    "\n",
    "#(- Nouveau calcul de l'IRPP)\n"
   ]
  },
  {
   "cell_type": "code",
   "execution_count": 84,
   "metadata": {
    "collapsed": false
   },
   "outputs": [],
   "source": [
    "#- Hausse de la CSG déductible au taux de 23%\n",
    "#montant_csg_crds calcul à partir csg.activite.deductible.taux\n",
    "\n",
    "def modify_legislation_json(reference_legislation_json_copy):\n",
    "    for value_json in reference_legislation_json_copy['children']['csg']['children']['activite']['children']['deductible']['children']['taux']['values']:\n",
    "        value_json['value'] = 0.23\n",
    "    return reference_legislation_json_copy"
   ]
  },
  {
   "cell_type": "code",
   "execution_count": 85,
   "metadata": {
    "collapsed": false
   },
   "outputs": [],
   "source": [
    "#- Mise en place d'un revenu de base adulte égal à RSA socle célibataire - forfait logement célibataire\n",
    "\n",
    "class rdb(Variable):\n",
    "    column = FloatCol\n",
    "    entity_class = Individus\n",
    "    label = u\"Revenu de base\"\n",
    "\n",
    "    def function(self, simulation, period):\n",
    "        period = period.start.offset('first-of', 'month').period('month')\n",
    "        age = simulation.calculate('age') \n",
    "        rmi = simulation.legislation_at(period.start).minim.rmi\n",
    "        \n",
    "        return period, ((age >= 18) * rmi.rmi * ( 1 -rmi.forfait_logement.taux1) + not_(age >= 18) * 0)"
   ]
  },
  {
   "cell_type": "code",
   "execution_count": 86,
   "metadata": {
    "collapsed": false
   },
   "outputs": [],
   "source": [
    "# On enlève les enfants du calcul du nbptr (quotient_familial.enf*)\n",
    "class nbptr(Variable):\n",
    "    def function(self, simulation, period):\n",
    "        '''\n",
    "        Nombre de parts du foyer\n",
    "        'foy'\n",
    "        note 1 enfants et résidence alternée (formulaire 2041 GV page 10)\n",
    "\n",
    "        quotient_familial.conj : nb part associées au conjoint d'un couple marié ou pacsé\n",
    "        quotient_familial.enf1 : nb part 2 premiers enfants\n",
    "        quotient_familial.enf2 : nb part enfants de rang 3 ou plus\n",
    "        quotient_familial.inv1 : nb part supp enfants invalides (I, G)\n",
    "        quotient_familial.inv2 : nb part supp adultes invalides (R)\n",
    "        quotient_familial.not31 : nb part supp note 3 : cases W ou G pour veuf, celib ou div\n",
    "        quotient_familial.not32 : nb part supp note 3 : personne seule ayant élevé des enfants\n",
    "        quotient_familial.not41 : nb part supp adultes invalides (vous et/ou conjoint) note 4\n",
    "        quotient_familial.not42 : nb part supp adultes anciens combattants (vous et/ou conjoint) note 4\n",
    "        quotient_familial.not6 : nb part supp note 6\n",
    "        quotient_familial.isol : demi-part parent isolé (T)\n",
    "        quotient_familial.edcd : enfant issu du mariage avec conjoint décédé;\n",
    "        '''\n",
    "        period = period.start.offset('first-of', 'month').period('year')\n",
    "        nb_pac = simulation.calculate('nb_pac', period)\n",
    "        maries_ou_pacses = simulation.calculate('maries_ou_pacses', period)\n",
    "        celibataire_ou_divorce = simulation.calculate('celibataire_ou_divorce', period)\n",
    "        veuf = simulation.calculate('veuf', period)\n",
    "        jeune_veuf = simulation.calculate('jeune_veuf', period)\n",
    "        nbF = simulation.calculate('nbF', period)\n",
    "        nbG = simulation.calculate('nbG', period)\n",
    "        nbH = simulation.calculate('nbH', period)\n",
    "        nbI = simulation.calculate('nbI', period)\n",
    "        nbR = simulation.calculate('nbR', period)\n",
    "        nbJ = simulation.calculate('nbJ', period)\n",
    "        caseP = simulation.calculate('caseP', period)\n",
    "        caseW = simulation.calculate('caseW', period)\n",
    "        caseG = simulation.calculate('caseG', period)\n",
    "        caseE = simulation.calculate('caseE', period)\n",
    "        caseK = simulation.calculate('caseK', period)\n",
    "        caseN = simulation.calculate('caseN', period)\n",
    "        caseF = simulation.calculate('caseF', period)\n",
    "        caseS = simulation.calculate('caseS', period)\n",
    "        caseL = simulation.calculate('caseL', period)\n",
    "        caseT = simulation.calculate('caseT', period)\n",
    "        quotient_familial = simulation.legislation_at(period.start).ir.quotient_familial\n",
    "\n",
    "        no_pac = nb_pac == 0  # Aucune personne à charge en garde exclusive\n",
    "        has_pac = not_(no_pac)\n",
    "        no_alt = nbH == 0  # Aucun enfant à charge en garde alternée\n",
    "        has_alt = not_(no_alt)\n",
    "\n",
    "        # # nombre de parts liées aux enfants à charge\n",
    "        # que des enfants en résidence alternée\n",
    "        enf1 = (no_pac & has_alt) * (quotient_familial.enf1 * min_(nbH, 2) * 0.5\n",
    "                                     + quotient_familial.enf2 * max_(nbH - 2, 0) * 0.5)\n",
    "        # pas que des enfants en résidence alternée\n",
    "        enf2 = (has_pac & has_alt) * ((nb_pac == 1) * (quotient_familial.enf1 * min_(nbH, 1) * 0.5\n",
    "            + quotient_familial.enf2 * max_(nbH - 1, 0) * 0.5) + (nb_pac > 1) * (quotient_familial.enf2 * nbH * 0.5))\n",
    "        # pas d'enfant en résidence alternée\n",
    "        enf3 = quotient_familial.enf1 * min_(nb_pac, 2) + quotient_familial.enf2 * max_((nb_pac - 2), 0)\n",
    "\n",
    "        enf = enf1 + enf2 + enf3\n",
    "        # # note 2 : nombre de parts liées aux invalides (enfant + adulte)\n",
    "        n2 = quotient_familial.inv1 * (nbG + nbI / 2) + quotient_familial.inv2 * nbR\n",
    "\n",
    "        # # note 3 : Pas de personne à charge\n",
    "        # - invalide\n",
    "\n",
    "        n31a = quotient_familial.not31a * (no_pac & no_alt & caseP)\n",
    "        # - ancien combatant\n",
    "        n31b = quotient_familial.not31b * (no_pac & no_alt & (caseW | caseG))\n",
    "        n31 = max_(n31a, n31b)\n",
    "        # - personne seule ayant élevé des enfants\n",
    "        n32 = quotient_familial.not32 * (no_pac & no_alt & ((caseE | caseK) & not_(caseN)))\n",
    "        n3 = max_(n31, n32)\n",
    "        # # note 4 Invalidité de la personne ou du conjoint pour les mariés ou\n",
    "        # # jeunes veuf(ve)s\n",
    "        n4 = max_(quotient_familial.not41 * (1 * caseP + 1 * caseF), quotient_familial.not42 * (caseW | caseS))\n",
    "\n",
    "        # # note 5\n",
    "        #  - enfant du conjoint décédé\n",
    "        n51 = quotient_familial.cdcd * (caseL & ((nbF + nbJ) > 0))\n",
    "        #  - enfant autre et parent isolé\n",
    "        n52 = quotient_familial.isol * caseT * (((no_pac & has_alt) * ((nbH == 1) * 0.5 + (nbH >= 2))) + 1 * has_pac)\n",
    "        n5 = max_(n51, n52)\n",
    "\n",
    "        # # note 6 invalide avec personne à charge\n",
    "        n6 = quotient_familial.not6 * (caseP & (has_pac | has_alt))\n",
    "\n",
    "        # # note 7 Parent isolé\n",
    "        n7 = quotient_familial.isol * caseT * ((no_pac & has_alt) * ((nbH == 1) * 0.5 + (nbH >= 2)) + 1 * has_pac)\n",
    "\n",
    "        # # Régime des mariés ou pacsés\n",
    "        #m = 1 + quotient_familial.conj + enf + n2 + n4\n",
    "        m = 1 + quotient_familial.conj + n2 + n4\n",
    "        \n",
    "        # # veufs  hors jeune_veuf\n",
    "        # v = 1 + enf + n2 + n3 + n5 + n6\n",
    "        v = 1 + n2 + n3 + n5 + n6\n",
    "        \n",
    "        # # celib div\n",
    "        #c = 1 + enf + n2 + n3 + n6 + n7\n",
    "        c = 1 + n2 + n3 + n6 + n7\n",
    "\n",
    "        return period, (maries_ou_pacses | jeune_veuf) * m + (veuf & not_(jeune_veuf)) * v + celibataire_ou_divorce * c\n"
   ]
  },
  {
   "cell_type": "code",
   "execution_count": 87,
   "metadata": {
    "collapsed": true
   },
   "outputs": [],
   "source": [
    "# Suppression des allocations familiales\n",
    "\n",
    "class af(Variable):\n",
    "    def function(self, simulation, period):\n",
    "        period = period.this_month\n",
    "        af_base = simulation.calculate('af_base', period)\n",
    "        af_majoration = simulation.calculate('af_majoration', period)\n",
    "        af_allocation_forfaitaire = simulation.calculate('af_allocation_forfaitaire', period)\n",
    "\n",
    "        #return period, af_base + af_majoration + af_allocation_forfaitaire\n",
    "        return period, af_base * 0"
   ]
  },
  {
   "cell_type": "code",
   "execution_count": 88,
   "metadata": {
    "collapsed": true
   },
   "outputs": [],
   "source": [
    "# Suppression du complément familial\n",
    "\n",
    "class cf(Variable):\n",
    "    def function(self, simulation, period):\n",
    "        '''\n",
    "        L'allocation de base de la paje n'est pas cumulable avec le complément familial\n",
    "        '''\n",
    "        period = period.this_month\n",
    "        paje_base = simulation.calculate('paje_base', period)\n",
    "        apje_avant_cumul = simulation.calculate('apje_avant_cumul', period)\n",
    "        ape_avant_cumul = simulation.calculate('ape_avant_cumul', period)\n",
    "        cf_montant = simulation.calculate('cf_montant', period)\n",
    "        residence_mayotte = simulation.calculate('residence_mayotte', period)\n",
    "\n",
    "        cf_brut = not_(paje_base) * (apje_avant_cumul <= cf_montant) * (ape_avant_cumul <= cf_montant) * cf_montant\n",
    "        # return period, not_(residence_mayotte) * round(cf_brut, 2)\n",
    "        return period, not_(residence_mayotte) * round(cf_brut, 2) * 0"
   ]
  },
  {
   "cell_type": "code",
   "execution_count": 89,
   "metadata": {
    "collapsed": true
   },
   "outputs": [],
   "source": [
    "# Suppression de l'allocation de rentrée scolaire\n",
    "\n",
    "class ars(Variable):\n",
    "    def function(self, simulation, period):\n",
    "        '''\n",
    "        Allocation de rentrée scolaire brute de CRDS\n",
    "        '''\n",
    "        period_br = period.this_year\n",
    "        return period_br, self.zeros()"
   ]
  },
  {
   "cell_type": "code",
   "execution_count": 90,
   "metadata": {
    "collapsed": true
   },
   "outputs": [],
   "source": [
    "# Création d'un revenu de base enfant - Version individus au niveau des allocations familliales actuelles\n",
    "\n",
    "class rdb_enf(Variable):\n",
    "    column = FloatCol\n",
    "    entity_class = Individus\n",
    "    label = u\"Revenu de base enfant\"\n",
    "\n",
    "    def function(self, simulation, period):\n",
    "        period = period.start.offset('first-of', 'month').period('month')\n",
    "        age = simulation.calculate('age')\n",
    "        P = simulation.legislation_at(period.start).fam.af        \n",
    "        bmaf = P.bmaf\n",
    "        \n",
    "        return period, ((age < 14) * 0.41 + not_(age < 14) * 0.57) * bmaf * (age <= 18)"
   ]
  },
  {
   "cell_type": "code",
   "execution_count": 91,
   "metadata": {
    "collapsed": false
   },
   "outputs": [],
   "source": [
    "#- Mise en place d'un crédit d'impot familles monoparentales montant (150€)\n",
    "#TODO : vérifier le montant\n",
    "class credit_impot_monoparentales(Variable):\n",
    "    column = FloatCol\n",
    "    entity_class = Menages\n",
    "    label = u\"credit_impot_monoparentales\"\n",
    "\n",
    "    def function(self, simulation, period):\n",
    "        period = period.start.offset('first-of', 'month').period('month')\n",
    "        enfant_a_charge_holder = simulation.compute('enfant_a_charge', period)\n",
    "        enfant_a_charge = self.sum_by_entity(enfant_a_charge_holder)\n",
    "        caseT = simulation.calculate('caseT', period) #Egal True si le parent est isolé\n",
    "      \n",
    "        #return period, or_(and_(age_holder >= 18, nb_enf_a_charge > 0, caseT), or_(age_holder < 18, nb_enf_a_charge <= 0, not_(caseT)) * 0) * 100\n",
    "        return period, (enfant_a_charge > 0) * caseT * 150\n",
    "    #Si le parent est isolé, avec au moins un enfant, et qu'il est majeur il reçoit la pension"
   ]
  },
  {
   "cell_type": "code",
   "execution_count": 92,
   "metadata": {
    "collapsed": false
   },
   "outputs": [],
   "source": [
    "#- Supprimer le RSA\n",
    "class rsa_socle(Variable):\n",
    "    def function(self, simulation, period):\n",
    "        period = period.this_month\n",
    "        nb_parents = simulation.calculate('nb_parents', period)\n",
    "        eligib = simulation.calculate('rsa_eligibilite', period)\n",
    "        rsa_nb_enfants = simulation.calculate('rsa_nb_enfants', period)\n",
    "        rmi = simulation.legislation_at(period.start).minim.rmi\n",
    "\n",
    "        nbp = nb_parents + rsa_nb_enfants\n",
    "\n",
    "        taux = (\n",
    "            1 +\n",
    "            (nbp >= 2) * rmi.txp2 +\n",
    "            (nbp >= 3) * rmi.txp3 +\n",
    "            (nbp >= 4) * ((nb_parents == 1) * rmi.txps + (nb_parents != 1) * rmi.txp3) +\n",
    "            max_(nbp - 4, 0) * rmi.txps\n",
    "        )\n",
    "        #on met à zéro\n",
    "        return period, eligib * rmi.rmi * taux * 0"
   ]
  },
  {
   "cell_type": "code",
   "execution_count": 93,
   "metadata": {
    "collapsed": true
   },
   "outputs": [],
   "source": [
    "#- Intégrer le revenu de base au revenu disponible\n",
    "# TODO : enlever la PPE ?\n",
    "class revdisp(Variable):\n",
    "    def function(self, simulation, period):\n",
    "        '''\n",
    "        Revenu disponible - ménage\n",
    "        'men'\n",
    "        '''\n",
    "        period = period.start.period('year').offset('first-of')\n",
    "        rev_trav_holder = simulation.compute('rev_trav', period)\n",
    "        pen_holder = simulation.compute('pen', period)\n",
    "        rev_cap_holder = simulation.compute('rev_cap', period)\n",
    "        psoc_holder = simulation.compute('psoc', period)\n",
    "        ppe_holder = simulation.compute('ppe', period)\n",
    "        impo = simulation.calculate('impo', period)\n",
    "        rdb_holder = simulation.calculate_add('rdb', period)\n",
    "        credit_impot_familles_holder = simulation.calculate_add('credit_impot_monoparentales', period)\n",
    "        rdb_enf_holder = simulation.calculate_add('rdb_enf', period)\n",
    "\n",
    "        pen = self.sum_by_entity(pen_holder)\n",
    "        ppe = self.cast_from_entity_to_role(ppe_holder, role = VOUS)\n",
    "        ppe = self.sum_by_entity(ppe)\n",
    "        psoc = self.cast_from_entity_to_role(psoc_holder, role = CHEF)\n",
    "        psoc = self.sum_by_entity(psoc)\n",
    "        rev_cap = self.sum_by_entity(rev_cap_holder)\n",
    "        rev_trav = self.sum_by_entity(rev_trav_holder)\n",
    "        rdb = self.sum_by_entity(rdb_holder)\n",
    "        rdb_enf = self.sum_by_entity(rdb_enf_holder)\n",
    "        \n",
    "        return period, rev_trav + pen + rev_cap + psoc + ppe + impo + rdb + credit_impot_familles_holder + rdb_enf"
   ]
  },
  {
   "cell_type": "code",
   "execution_count": 94,
   "metadata": {
    "collapsed": false
   },
   "outputs": [],
   "source": [
    "class ReformeRevenuDeBaseparCSG(Reform):\n",
    "    name = u\"Réforme Revenu de base par CSG\"\n",
    "\n",
    "    def apply(self):\n",
    "        for variable in [rdb, nbptr, af, cf, ars, rdb_enf, credit_impot_monoparentales, rsa_socle, revdisp]:\n",
    "            self.update_variable(variable)\n",
    "        self.modify_legislation_json(modifier_function = modify_legislation_json)"
   ]
  },
  {
   "cell_type": "markdown",
   "metadata": {},
   "source": [
    "# Tests"
   ]
  },
  {
   "cell_type": "code",
   "execution_count": 95,
   "metadata": {
    "collapsed": false
   },
   "outputs": [],
   "source": [
    "reform = ReformeRevenuDeBaseparCSG(tax_benefit_system)"
   ]
  },
  {
   "cell_type": "code",
   "execution_count": 96,
   "metadata": {
    "collapsed": true
   },
   "outputs": [],
   "source": [
    "parent1_salaire_de_base = 60000"
   ]
  },
  {
   "cell_type": "code",
   "execution_count": 97,
   "metadata": {
    "collapsed": false
   },
   "outputs": [],
   "source": [
    "scenario_ref_individu_seul = tax_benefit_system.new_scenario().init_single_entity(\n",
    "    period = 2014,\n",
    "    parent1 = dict(\n",
    "        date_naissance = date(1980, 1, 1),\n",
    "        salaire_de_base = parent1_salaire_de_base,\n",
    "        statut_marital = u'Célibataire',\n",
    "        ),\n",
    "    foyer_fiscal = dict(\n",
    "        caseT = True,\n",
    "        ),\n",
    "    enfants = [\n",
    "        dict(\n",
    "            date_naissance = date(2010, 1, 1),\n",
    "            ),\n",
    "        ],\n",
    "    )"
   ]
  },
  {
   "cell_type": "code",
   "execution_count": 98,
   "metadata": {
    "collapsed": true
   },
   "outputs": [],
   "source": [
    "simulation_ref_individu_seul = scenario_ref_individu_seul.new_simulation(debug = True)"
   ]
  },
  {
   "cell_type": "code",
   "execution_count": 99,
   "metadata": {
    "collapsed": false
   },
   "outputs": [],
   "source": [
    "scenario_rdb_individu_seul = reform.new_scenario().init_single_entity(\n",
    "    period = 2014,\n",
    "    parent1 = dict(\n",
    "        date_naissance = date(1980, 1, 1),\n",
    "        salaire_de_base = parent1_salaire_de_base,\n",
    "        statut_marital = u'Célibataire',\n",
    "        ),\n",
    "    foyer_fiscal = dict(\n",
    "        caseT = True,\n",
    "        ),\n",
    "    enfants = [\n",
    "        dict(\n",
    "            date_naissance = date(2010, 1, 1),\n",
    "            ),\n",
    "        ],\n",
    "    )"
   ]
  },
  {
   "cell_type": "code",
   "execution_count": 100,
   "metadata": {
    "collapsed": true
   },
   "outputs": [],
   "source": [
    "simulation_rdb_individu_seul = scenario_rdb_individu_seul.new_simulation(debug = True)"
   ]
  },
  {
   "cell_type": "markdown",
   "metadata": {},
   "source": [
    "Calculs de référence (revenu disponible, IR, RSA, CSG imposable/deductible, impot total) "
   ]
  },
  {
   "cell_type": "code",
   "execution_count": 101,
   "metadata": {
    "collapsed": false
   },
   "outputs": [
    {
     "data": {
      "text/plain": [
       "array([ 46916.54296875], dtype=float32)"
      ]
     },
     "execution_count": 101,
     "metadata": {},
     "output_type": "execute_result"
    }
   ],
   "source": [
    "simulation_ref_individu_seul.calculate('revdisp')"
   ]
  },
  {
   "cell_type": "code",
   "execution_count": 102,
   "metadata": {
    "collapsed": false
   },
   "outputs": [
    {
     "data": {
      "text/plain": [
       "array([-4019.29296875], dtype=float32)"
      ]
     },
     "execution_count": 102,
     "metadata": {},
     "output_type": "execute_result"
    }
   ],
   "source": [
    "simulation_ref_individu_seul.calculate('irpp')"
   ]
  },
  {
   "cell_type": "code",
   "execution_count": 103,
   "metadata": {
    "collapsed": false
   },
   "outputs": [
    {
     "data": {
      "text/plain": [
       "array([    0.        ,  1995.57678223], dtype=float32)"
      ]
     },
     "execution_count": 103,
     "metadata": {},
     "output_type": "execute_result"
    }
   ],
   "source": [
    "simulation_rdb_individu_seul.calculate_add('rdb_enf')"
   ]
  },
  {
   "cell_type": "code",
   "execution_count": 104,
   "metadata": {
    "collapsed": false
   },
   "outputs": [
    {
     "data": {
      "text/plain": [
       "array([ 658.11230469], dtype=float32)"
      ]
     },
     "execution_count": 104,
     "metadata": {},
     "output_type": "execute_result"
    }
   ],
   "source": [
    "simulation_ref_individu_seul.calculate_add('rsa')"
   ]
  },
  {
   "cell_type": "code",
   "execution_count": 105,
   "metadata": {
    "collapsed": false
   },
   "outputs": [
    {
     "data": {
      "text/plain": [
       "array([-1414.8001709,    -0.       ], dtype=float32)"
      ]
     },
     "execution_count": 105,
     "metadata": {},
     "output_type": "execute_result"
    }
   ],
   "source": [
    "simulation_ref_individu_seul.calculate('csg_imposable_salaire')"
   ]
  },
  {
   "cell_type": "code",
   "execution_count": 106,
   "metadata": {
    "collapsed": false
   },
   "outputs": [
    {
     "data": {
      "text/plain": [
       "array([-3006.45019531,    -0.        ], dtype=float32)"
      ]
     },
     "execution_count": 106,
     "metadata": {},
     "output_type": "execute_result"
    }
   ],
   "source": [
    "simulation_ref_individu_seul.calculate('csg_deductible_salaire')"
   ]
  },
  {
   "cell_type": "code",
   "execution_count": 107,
   "metadata": {
    "collapsed": false
   },
   "outputs": [
    {
     "data": {
      "text/plain": [
       "array([ 8744.265625], dtype=float32)"
      ]
     },
     "execution_count": 107,
     "metadata": {},
     "output_type": "execute_result"
    }
   ],
   "source": [
    "simulation_ref_individu_seul.calculate('tot_impot')"
   ]
  },
  {
   "cell_type": "markdown",
   "metadata": {},
   "source": [
    "Calculs avec réforme RDB (revenu disponible, IR, RSA, CSG imposable/deductible, impot total) "
   ]
  },
  {
   "cell_type": "code",
   "execution_count": 108,
   "metadata": {
    "collapsed": false
   },
   "outputs": [
    {
     "data": {
      "text/plain": [
       "array([ 45681.765625], dtype=float32)"
      ]
     },
     "execution_count": 108,
     "metadata": {},
     "output_type": "execute_result"
    }
   ],
   "source": [
    "simulation_rdb_individu_seul.calculate('revdisp')"
   ]
  },
  {
   "cell_type": "code",
   "execution_count": 109,
   "metadata": {
    "collapsed": false
   },
   "outputs": [
    {
     "data": {
      "text/plain": [
       "array([-2949.17675781], dtype=float32)"
      ]
     },
     "execution_count": 109,
     "metadata": {},
     "output_type": "execute_result"
    }
   ],
   "source": [
    "simulation_rdb_individu_seul.calculate('irpp')"
   ]
  },
  {
   "cell_type": "code",
   "execution_count": 110,
   "metadata": {
    "collapsed": false
   },
   "outputs": [
    {
     "data": {
      "text/plain": [
       "array([-13558.5,     -0. ], dtype=float32)"
      ]
     },
     "execution_count": 110,
     "metadata": {},
     "output_type": "execute_result"
    }
   ],
   "source": [
    "simulation_rdb_individu_seul.calculate('csg_deductible_salaire')"
   ]
  },
  {
   "cell_type": "code",
   "execution_count": 111,
   "metadata": {
    "collapsed": false
   },
   "outputs": [
    {
     "data": {
      "text/plain": [
       "array([ 18222.90820312], dtype=float32)"
      ]
     },
     "execution_count": 111,
     "metadata": {},
     "output_type": "execute_result"
    }
   ],
   "source": [
    "simulation_rdb_individu_seul.calculate('tot_impot')"
   ]
  },
  {
   "cell_type": "code",
   "execution_count": 112,
   "metadata": {
    "collapsed": false
   },
   "outputs": [
    {
     "data": {
      "text/plain": [
       "array([ 18222.90820312], dtype=float32)"
      ]
     },
     "execution_count": 112,
     "metadata": {},
     "output_type": "execute_result"
    }
   ],
   "source": [
    "# trace\n",
    "simulation_rdb_individu_seul.calculate('tot_impot')\n",
    "#print web_tools.get_trace_tool_link(scenario, ['tot_impot'])"
   ]
  },
  {
   "cell_type": "markdown",
   "metadata": {},
   "source": [
    "# Graphiques: scenario variant selon salaire_de_base \n",
    "\n",
    "On fait varier entre 0 et 60k par palier de 5k.\n",
    "\n",
    "nb_pla = 5000\n",
    "min_salaire_de_base = 0\n",
    "max_salaire_de_base = 60000"
   ]
  },
  {
   "cell_type": "markdown",
   "metadata": {
    "collapsed": true
   },
   "source": [
    "## Préalable : \n",
    "\n",
    "Pour avoir des graphiques cohérents, on crée une variable \"salaire_de_base\" = salaire horaire brut x volume horaire qui varie de 0 € à 60.000 € telles que : \n",
    "\n",
    "- entre 0 € et le SMIC mensuel, salaire horaire brut = SMIC horaire brut et c'est le nombre d'heures qui varie\n",
    "\n",
    "- du SMIC mensuel à au-delà, c'est le salaire horaire brut qui augmente"
   ]
  },
  {
   "cell_type": "code",
   "execution_count": 131,
   "metadata": {
    "collapsed": false
   },
   "outputs": [],
   "source": [
    "import matplotlib\n",
    "import matplotlib.pyplot as plt\n",
    "%matplotlib inline"
   ]
  },
  {
   "cell_type": "code",
   "execution_count": 114,
   "metadata": {
    "collapsed": true
   },
   "outputs": [],
   "source": [
    "date_naissance_parent1 = date(1980, 1, 1)"
   ]
  },
  {
   "cell_type": "code",
   "execution_count": 133,
   "metadata": {
    "collapsed": false
   },
   "outputs": [
    {
     "ename": "AttributeError",
     "evalue": "'tuple' object has no attribute 'get_compact_legislation'",
     "output_type": "error",
     "traceback": [
      "\u001b[0;31m\u001b[0m",
      "\u001b[0;31mAttributeError\u001b[0mTraceback (most recent call last)",
      "\u001b[0;32m<ipython-input-133-87f28b56f50a>\u001b[0m in \u001b[0;36m<module>\u001b[0;34m()\u001b[0m\n\u001b[1;32m      1\u001b[0m \u001b[0;31m# Législation en 2016\u001b[0m\u001b[0;34m\u001b[0m\u001b[0;34m\u001b[0m\u001b[0m\n\u001b[0;32m----> 2\u001b[0;31m \u001b[0mlegislation_2016\u001b[0m \u001b[0;34m=\u001b[0m \u001b[0mtax_benefit_system\u001b[0m\u001b[0;34m.\u001b[0m\u001b[0mget_compact_legislation\u001b[0m\u001b[0;34m(\u001b[0m\u001b[0minstant\u001b[0m\u001b[0;34m=\u001b[0m\u001b[0msimulation_start_instant\u001b[0m\u001b[0;34m)\u001b[0m\u001b[0;34m\u001b[0m\u001b[0m\n\u001b[0m\u001b[1;32m      3\u001b[0m \u001b[0;34m\u001b[0m\u001b[0m\n\u001b[1;32m      4\u001b[0m \u001b[0msmic_horaire\u001b[0m \u001b[0;34m=\u001b[0m \u001b[0mlegislation_2016\u001b[0m\u001b[0;34m.\u001b[0m\u001b[0mcotsoc\u001b[0m\u001b[0;34m.\u001b[0m\u001b[0mgen\u001b[0m\u001b[0;34m.\u001b[0m\u001b[0msmic_h_b\u001b[0m\u001b[0;34m\u001b[0m\u001b[0m\n\u001b[1;32m      5\u001b[0m \u001b[0;32mprint\u001b[0m\u001b[0;34m(\u001b[0m\u001b[0;34m'smic_horaire = {}'\u001b[0m\u001b[0;34m.\u001b[0m\u001b[0mformat\u001b[0m\u001b[0;34m(\u001b[0m\u001b[0msmic_horaire\u001b[0m\u001b[0;34m)\u001b[0m\u001b[0;34m)\u001b[0m\u001b[0;34m\u001b[0m\u001b[0m\n",
      "\u001b[0;31mAttributeError\u001b[0m: 'tuple' object has no attribute 'get_compact_legislation'"
     ]
    }
   ],
   "source": [
    "# Législation en 2016\n",
    "legislation_2016 = tax_benefit_system.get_compact_legislation(instant=simulation_start_instant)\n",
    "\n",
    "smic_horaire = legislation_2016.cotsoc.gen.smic_h_b\n",
    "print('smic_horaire = {}'.format(smic_horaire))\n",
    "\n",
    "nb_heures_par_an_temps_plein = legislation_2016.ir.credits_impot.ppe.TP_nbh\n",
    "nb_heures_par_mois_temps_plein = nb_heures_par_an_temps_plein / 12.0\n",
    "smic_mensuel = nb_heures_par_mois_temps_plein * smic_horaire\n",
    "print('nb_heures_par_mois_temps_plein = {}'.format(nb_heures_par_mois_temps_plein))"
   ]
  },
  {
   "cell_type": "code",
   "execution_count": 116,
   "metadata": {
    "collapsed": true
   },
   "outputs": [],
   "source": [
    "def calculate_under_and_over_smic(tax_benefit_system, variable_name, month_period, parent1, salaire_de_base_max,\n",
    "                                  enfants=None, nb_steps_under_smic=10, nb_steps_over_smic=50):\n",
    "\n",
    "    # La simulation se fait sur 2 segments : le segment 0 € - SMIC mensuel (UNDER SMIC) et le segment au-delà SMIC mensuel (OVER SMIC)\n",
    "    # Entre 0 € et le SMIC mensuel, quand le salaire de base augmente, c'est le volume horaire qui augmente (de 0 à 35 heures hendomadaires), le salaire horaire étant fixé au SMIC horaire\n",
    "    # au-delà du SMIC mensuel, quand le salaire de base augmente, c'est le salaire horaire qui augmente\n",
    "    # Cette précaution est nécessaire du fait d'irrégularités dans les cotisations et les exonérations de cotisation\n",
    "    \n",
    "    legislation_2016 = tax_benefit_system.get_compact_legislation(instant=month_period.start)\n",
    " \n",
    "    last_months = periods.period('month', month_period.offset(-5).start, 6)\n",
    "\n",
    "    # UNDER SMIC\n",
    "    # On commence par simuler la variation de salaire entre 0 € et le SMIC mensuel\n",
    "    # Entre 0 € et le SMIC mensuel, quand le salaire de base augmente, c'est le volume horaire qui augmente (de 0 à 35 heures hendomadaires)\n",
    "    # Le salaire horaire quant à lui reste fixé au SMIC horaire\n",
    "    # On divise donc le segment [0 € - SMIC mensuel] en 10 paliers, en faisant augmenter parallèlement à chaque palier les variables nb_heures_par_mois_temps_plein et salaire_de_base \n",
    "\n",
    "    scenario_under_smic = tax_benefit_system.new_scenario().init_single_entity(\n",
    "        axes = [\n",
    "            [\n",
    "                dict(\n",
    "                    count = nb_steps_under_smic,\n",
    "                    min = 0,\n",
    "                    max = nb_heures_par_mois_temps_plein,\n",
    "                    name = 'heures_remunerees_volume',\n",
    "                    period = periods.period('month', last_months.offset(index).start, 1),\n",
    "                    )\n",
    "                for index in xrange(last_months.size)\n",
    "                ] + \\\n",
    "            [\n",
    "                dict(\n",
    "                    count = nb_steps_under_smic,\n",
    "                    min = 0,\n",
    "                    max = smic_mensuel,\n",
    "                    name = 'salaire_de_base',\n",
    "                    period = periods.period('month', last_months.offset(index).start, 1),\n",
    "                    )\n",
    "                for index in xrange(last_months.size)\n",
    "                ],\n",
    "            ],\n",
    "        period = month_period,\n",
    "        parent1 = dict(list(parent1.items()) + list(dict(\n",
    "            contrat_de_travail = 1, # temps partiel\n",
    "            ).items())),\n",
    "        enfants=enfants,\n",
    "        )\n",
    "    simulation_under_smic = scenario_under_smic.new_simulation()\n",
    "    salaire_de_base_under_smic = simulation_under_smic.calculate('salaire_de_base', month_period)\n",
    "    variable_under_smic = simulation_under_smic.calculate(variable_name, month_period)\n",
    "\n",
    "    # Over SMIC\n",
    "    # Désormais, le volume horaire reste fixé à 35 heures hebdomadaires\n",
    "    # Et c'est le salaire horaire qui augmente'\n",
    "\n",
    "    scenario_over_smic = tax_benefit_system.new_scenario().init_single_entity(\n",
    "        axes = [\n",
    "            [\n",
    "                dict(\n",
    "                    count = nb_steps_over_smic,\n",
    "                    min = smic_mensuel,\n",
    "                    max = salaire_de_base_max,\n",
    "                    name = 'salaire_de_base',\n",
    "                    period = periods.period('month', last_months.offset(index).start, 1),\n",
    "                    )\n",
    "                for index in xrange(last_months.size)\n",
    "                ],\n",
    "            ],\n",
    "        period = month_period,\n",
    "        parent1 = dict(list(parent1.items()) + list(dict(\n",
    "            contrat_de_travail = 0, # temps plein\n",
    "            ).items())),\n",
    "        enfants=enfants,\n",
    "        )\n",
    "    simulation_over_smic = scenario_over_smic.new_simulation()\n",
    "    salaire_de_base_over_smic = simulation_over_smic.calculate('salaire_de_base', month_period)\n",
    "    variable_over_smic = simulation_over_smic.calculate(variable_name, month_period)\n",
    "\n",
    "    salaire_de_base = np.concatenate([salaire_de_base_under_smic, salaire_de_base_over_smic])\n",
    "    variable = np.concatenate([variable_under_smic, variable_over_smic])\n",
    "    return salaire_de_base, variable"
   ]
  },
  {
   "cell_type": "markdown",
   "metadata": {},
   "source": [
    "### allegement_fillon"
   ]
  },
  {
   "cell_type": "code",
   "execution_count": 117,
   "metadata": {
    "collapsed": false,
    "scrolled": false
   },
   "outputs": [],
   "source": [
    "salaire_de_base, allegement_fillon = calculate_under_and_over_smic(\n",
    "    tax_benefit_system=tax_benefit_system,\n",
    "    variable_name='allegement_fillon',\n",
    "    month_period=simulation_first_month,\n",
    "    parent1=dict(\n",
    "        date_naissance = date(1980, 1, 1),\n",
    "        allegement_fillon_mode_recouvrement = 1, # anticipe_regularisation_fin_de_periode\n",
    "        ),\n",
    "    enfants=[\n",
    "        dict(\n",
    "            date_naissance = date(2005, 1, 1),\n",
    "            ),\n",
    "        ],\n",
    "    salaire_de_base_max=5000,\n",
    "    )\n",
    "#print(salaire_de_base[::2])\n",
    "#print(allegement_fillon[::2])"
   ]
  },
  {
   "cell_type": "code",
   "execution_count": 118,
   "metadata": {
    "collapsed": false,
    "scrolled": true
   },
   "outputs": [
    {
     "data": {
      "image/png": "[encoded data removed]",
      "text/plain": [
       "<matplotlib.figure.Figure at 0x7f079a06fa10>"
      ]
     },
     "metadata": {},
     "output_type": "display_data"
    }
   ],
   "source": [
    "# Crade, il faudrait disposer d'une fonction qui renvoie les résultats par rôle\n",
    "salaire_de_base_parent1 = salaire_de_base[::2]\n",
    "allegement_fillon_parent1 = allegement_fillon[::2]\n",
    "\n",
    "plt.plot(salaire_de_base_parent1, allegement_fillon_parent1)\n",
    "plt.xlabel(u'Salaire de base (€/mois)')\n",
    "plt.ylabel(u'Allègement Fillon (€/mois)')\n",
    "plt.title(u'Allègements de cotisations patronales (dits \"Fillon\") en fonction du salaire brut')\n",
    "plt.grid(True)\n",
    "plt.axvline(x=smic_mensuel, color='r', label='SMIC')\n",
    "plt.legend()\n",
    "plt.show()"
   ]
  },
  {
   "cell_type": "markdown",
   "metadata": {},
   "source": [
    "### Allocations familiales"
   ]
  },
  {
   "cell_type": "code",
   "execution_count": 130,
   "metadata": {
    "collapsed": false
   },
   "outputs": [
    {
     "ename": "AttributeError",
     "evalue": "'tuple' object has no attribute 'get_compact_legislation'",
     "output_type": "error",
     "traceback": [
      "\u001b[0;31m\u001b[0m",
      "\u001b[0;31mAttributeError\u001b[0mTraceback (most recent call last)",
      "\u001b[0;32m<ipython-input-130-2503b7b16135>\u001b[0m in \u001b[0;36m<module>\u001b[0;34m()\u001b[0m\n\u001b[1;32m     11\u001b[0m             ),\n\u001b[1;32m     12\u001b[0m         ] * 3,\n\u001b[0;32m---> 13\u001b[0;31m     \u001b[0msalaire_de_base_max\u001b[0m\u001b[0;34m=\u001b[0m\u001b[0;36m10000\u001b[0m\u001b[0;34m,\u001b[0m\u001b[0;34m\u001b[0m\u001b[0m\n\u001b[0m\u001b[1;32m     14\u001b[0m     )\n\u001b[1;32m     15\u001b[0m \u001b[0mplt\u001b[0m\u001b[0;34m.\u001b[0m\u001b[0mplot\u001b[0m\u001b[0;34m(\u001b[0m\u001b[0msalaire_de_base\u001b[0m\u001b[0;34m[\u001b[0m\u001b[0;34m:\u001b[0m\u001b[0;34m:\u001b[0m\u001b[0;36m4\u001b[0m\u001b[0;34m]\u001b[0m\u001b[0;34m,\u001b[0m \u001b[0maf\u001b[0m\u001b[0;34m)\u001b[0m\u001b[0;34m\u001b[0m\u001b[0m\n",
      "\u001b[0;32m<ipython-input-116-1a939587420d>\u001b[0m in \u001b[0;36mcalculate_under_and_over_smic\u001b[0;34m(tax_benefit_system, variable_name, month_period, parent1, salaire_de_base_max, enfants, nb_steps_under_smic, nb_steps_over_smic)\u001b[0m\n\u001b[1;32m      7\u001b[0m     \u001b[0;31m# Cette précaution est nécessaire du fait d'irrégularités dans les cotisations et les exonérations de cotisation\u001b[0m\u001b[0;34m\u001b[0m\u001b[0;34m\u001b[0m\u001b[0m\n\u001b[1;32m      8\u001b[0m \u001b[0;34m\u001b[0m\u001b[0m\n\u001b[0;32m----> 9\u001b[0;31m     \u001b[0mlegislation_2016\u001b[0m \u001b[0;34m=\u001b[0m \u001b[0mtax_benefit_system\u001b[0m\u001b[0;34m.\u001b[0m\u001b[0mget_compact_legislation\u001b[0m\u001b[0;34m(\u001b[0m\u001b[0minstant\u001b[0m\u001b[0;34m=\u001b[0m\u001b[0mmonth_period\u001b[0m\u001b[0;34m.\u001b[0m\u001b[0mstart\u001b[0m\u001b[0;34m)\u001b[0m\u001b[0;34m\u001b[0m\u001b[0m\n\u001b[0m\u001b[1;32m     10\u001b[0m \u001b[0;34m\u001b[0m\u001b[0m\n\u001b[1;32m     11\u001b[0m     \u001b[0mlast_months\u001b[0m \u001b[0;34m=\u001b[0m \u001b[0mperiods\u001b[0m\u001b[0;34m.\u001b[0m\u001b[0mperiod\u001b[0m\u001b[0;34m(\u001b[0m\u001b[0;34m'month'\u001b[0m\u001b[0;34m,\u001b[0m \u001b[0mmonth_period\u001b[0m\u001b[0;34m.\u001b[0m\u001b[0moffset\u001b[0m\u001b[0;34m(\u001b[0m\u001b[0;34m-\u001b[0m\u001b[0;36m5\u001b[0m\u001b[0;34m)\u001b[0m\u001b[0;34m.\u001b[0m\u001b[0mstart\u001b[0m\u001b[0;34m,\u001b[0m \u001b[0;36m6\u001b[0m\u001b[0;34m)\u001b[0m\u001b[0;34m\u001b[0m\u001b[0m\n",
      "\u001b[0;31mAttributeError\u001b[0m: 'tuple' object has no attribute 'get_compact_legislation'"
     ]
    }
   ],
   "source": [
    "salaire_de_base, af = calculate_under_and_over_smic(\n",
    "    tax_benefit_system=tax_benefit_system,\n",
    "    variable_name='af',\n",
    "    month_period=simulation_first_month,\n",
    "    parent1=dict(\n",
    "        date_naissance = date(1980, 1, 1),\n",
    "        ),\n",
    "    enfants=[\n",
    "        dict(\n",
    "            date_naissance = date(2005, 1, 1),\n",
    "            ),\n",
    "        ] * 3,\n",
    "    salaire_de_base_max=10000,\n",
    "    )\n",
    "plt.plot(salaire_de_base[::4], af)\n",
    "plt.xlabel(u'Salaire de base (€/mois)')\n",
    "plt.ylabel(u'Allocations Familiales (€/mois)')\n",
    "plt.title(u'Allocations Familiales en fonction du salaire brut pour une famille avec 3 enfants')\n",
    "plt.grid(True)\n",
    "plt.axvline(x=smic_mensuel, color='r', label='SMIC')\n",
    "plt.legend()\n",
    "plt.show()"
   ]
  },
  {
   "cell_type": "markdown",
   "metadata": {},
   "source": [
    "RSA + PPA"
   ]
  },
  {
   "cell_type": "code",
   "execution_count": 121,
   "metadata": {
    "collapsed": false
   },
   "outputs": [],
   "source": [
    "salaire_de_base, rsa = calculate_under_and_over_smic(\n",
    "    tax_benefit_system=tax_benefit_system,\n",
    "    variable_name='rsa',\n",
    "    month_period=simulation_first_month,\n",
    "    parent1=dict(\n",
    "        date_naissance = date(1980, 1, 1),\n",
    "        ),\n",
    "    salaire_de_base_max=5000,\n",
    "    )\n",
    "_, ppa = calculate_under_and_over_smic(\n",
    "    tax_benefit_system=tax_benefit_system,\n",
    "    variable_name='ppa',\n",
    "    month_period=simulation_first_month,\n",
    "    parent1=dict(\n",
    "        date_naissance = date(1980, 1, 1),\n",
    "        ),\n",
    "    salaire_de_base_max=5000,\n",
    "    )"
   ]
  },
  {
   "cell_type": "code",
   "execution_count": 122,
   "metadata": {
    "collapsed": false
   },
   "outputs": [
    {
     "data": {
      "image/png": "[encoded data removed]",
      "text/plain": [
       "<matplotlib.figure.Figure at 0x7f079a06f890>"
      ]
     },
     "metadata": {},
     "output_type": "display_data"
    }
   ],
   "source": [
    "plt.plot(salaire_de_base, rsa + ppa)\n",
    "plt.xlabel(u'Salaire de base (€/mois)')\n",
    "plt.ylabel(u'rsa + ppa')\n",
    "plt.grid(True)\n",
    "plt.axvline(x=smic_mensuel, color='r', label='SMIC')\n",
    "plt.legend()\n",
    "plt.show()"
   ]
  },
  {
   "cell_type": "markdown",
   "metadata": {},
   "source": [
    "Courbes agrégées PPA + RSA_socle"
   ]
  },
  {
   "cell_type": "markdown",
   "metadata": {},
   "source": [
    "Générer plusieurs graphiques dans une boucle \"for\""
   ]
  },
  {
   "cell_type": "code",
   "execution_count": 127,
   "metadata": {
    "collapsed": true
   },
   "outputs": [],
   "source": [
    "def plot_under_and_over_smic(tax_benefit_system, variable_name, month_period, parent1, salaire_de_base_max,\n",
    "                             enfants=None, nb_steps_under_smic=10, nb_steps_over_smic=50):\n",
    "    salaire_de_base, variable = calculate_under_and_over_smic(\n",
    "        tax_benefit_system, variable_name, month_period, parent1,\n",
    "        salaire_de_base_max, enfants, nb_steps_under_smic, nb_steps_over_smic)\n",
    "    plt.plot(salaire_de_base, variable)\n",
    "    plt.xlabel(u'Salaire de base (€/mois)')\n",
    "    plt.ylabel(variable_name)\n",
    "    plt.grid(True)\n",
    "\n",
    "    # Draw vertical line for SMIC\n",
    "    legislation_2016 = tax_benefit_system.get_compact_legislation(instant=month_period.start)\n",
    "    smic_horaire = legislation_2016.cotsoc.gen.smic_h_b\n",
    "    nb_heures_par_an_temps_plein = legislation_2016.ir.credits_impot.ppe.TP_nbh\n",
    "    nb_heures_par_mois_temps_plein = nb_heures_par_an_temps_plein / 12.0\n",
    "    smic_mensuel = nb_heures_par_mois_temps_plein * smic_horaire\n",
    "    plt.axvline(x=smic_mensuel, color='r', label='SMIC')\n",
    "    plt.legend()\n",
    "\n",
    "    plt.show()"
   ]
  },
  {
   "cell_type": "code",
   "execution_count": 129,
   "metadata": {
    "collapsed": false
   },
   "outputs": [
    {
     "ename": "AttributeError",
     "evalue": "'tuple' object has no attribute 'get_compact_legislation'",
     "output_type": "error",
     "traceback": [
      "\u001b[0;31m\u001b[0m",
      "\u001b[0;31mAttributeError\u001b[0mTraceback (most recent call last)",
      "\u001b[0;32m<ipython-input-129-b44096e9e056>\u001b[0m in \u001b[0;36m<module>\u001b[0;34m()\u001b[0m\n\u001b[1;32m     12\u001b[0m             ),\n\u001b[1;32m     13\u001b[0m         ],\n\u001b[0;32m---> 14\u001b[0;31m     \u001b[0msalaire_de_base_max\u001b[0m\u001b[0;34m=\u001b[0m\u001b[0;36m5000\u001b[0m\u001b[0;34m,\u001b[0m\u001b[0;34m\u001b[0m\u001b[0m\n\u001b[0m\u001b[1;32m     15\u001b[0m     )\n",
      "\u001b[0;32m<ipython-input-116-1a939587420d>\u001b[0m in \u001b[0;36mcalculate_under_and_over_smic\u001b[0;34m(tax_benefit_system, variable_name, month_period, parent1, salaire_de_base_max, enfants, nb_steps_under_smic, nb_steps_over_smic)\u001b[0m\n\u001b[1;32m      7\u001b[0m     \u001b[0;31m# Cette précaution est nécessaire du fait d'irrégularités dans les cotisations et les exonérations de cotisation\u001b[0m\u001b[0;34m\u001b[0m\u001b[0;34m\u001b[0m\u001b[0m\n\u001b[1;32m      8\u001b[0m \u001b[0;34m\u001b[0m\u001b[0m\n\u001b[0;32m----> 9\u001b[0;31m     \u001b[0mlegislation_2016\u001b[0m \u001b[0;34m=\u001b[0m \u001b[0mtax_benefit_system\u001b[0m\u001b[0;34m.\u001b[0m\u001b[0mget_compact_legislation\u001b[0m\u001b[0;34m(\u001b[0m\u001b[0minstant\u001b[0m\u001b[0;34m=\u001b[0m\u001b[0mmonth_period\u001b[0m\u001b[0;34m.\u001b[0m\u001b[0mstart\u001b[0m\u001b[0;34m)\u001b[0m\u001b[0;34m\u001b[0m\u001b[0m\n\u001b[0m\u001b[1;32m     10\u001b[0m \u001b[0;34m\u001b[0m\u001b[0m\n\u001b[1;32m     11\u001b[0m     \u001b[0mlast_months\u001b[0m \u001b[0;34m=\u001b[0m \u001b[0mperiods\u001b[0m\u001b[0;34m.\u001b[0m\u001b[0mperiod\u001b[0m\u001b[0;34m(\u001b[0m\u001b[0;34m'month'\u001b[0m\u001b[0;34m,\u001b[0m \u001b[0mmonth_period\u001b[0m\u001b[0;34m.\u001b[0m\u001b[0moffset\u001b[0m\u001b[0;34m(\u001b[0m\u001b[0;34m-\u001b[0m\u001b[0;36m5\u001b[0m\u001b[0;34m)\u001b[0m\u001b[0;34m.\u001b[0m\u001b[0mstart\u001b[0m\u001b[0;34m,\u001b[0m \u001b[0;36m6\u001b[0m\u001b[0;34m)\u001b[0m\u001b[0;34m\u001b[0m\u001b[0m\n",
      "\u001b[0;31mAttributeError\u001b[0m: 'tuple' object has no attribute 'get_compact_legislation'"
     ]
    }
   ],
   "source": [
    "salaire_de_base, af = calculate_under_and_over_smic(\n",
    "    tax_benefit_system=tax_benefit_system,\n",
    "    variable_name='af',\n",
    "    month_period=simulation_first_month,\n",
    "    parent1=dict(\n",
    "        date_naissance = date(1980, 1, 1),\n",
    "        allegement_fillon_mode_recouvrement = 1, # anticipe_regularisation_fin_de_periode\n",
    "        ),\n",
    "    enfants=[\n",
    "        dict(\n",
    "            date_naissance = date(2005, 1, 1),\n",
    "            ),\n",
    "        ],\n",
    "    salaire_de_base_max=5000,\n",
    "    )"
   ]
  },
  {
   "cell_type": "code",
   "execution_count": 124,
   "metadata": {
    "collapsed": false
   },
   "outputs": [],
   "source": [
    "tax_benefit_system=tax_benefit_system\n",
    "variable_name='af'\n",
    "month_period=simulation_first_month\n",
    "parent1=dict(\n",
    "    date_naissance = date(1980, 1, 1),\n",
    "    allegement_fillon_mode_recouvrement = 1, # anticipe_regularisation_fin_de_periode\n",
    "    ),\n",
    "enfants=[\n",
    "    dict(\n",
    "        date_naissance = date(2005, 1, 1),\n",
    "        ),\n",
    "    ]\n",
    "salaire_de_base_max=5000\n",
    "nb_steps_under_smic=10\n",
    "nb_steps_over_smic=50"
   ]
  },
  {
   "cell_type": "code",
   "execution_count": 125,
   "metadata": {
    "collapsed": false
   },
   "outputs": [
    {
     "ename": "AttributeError",
     "evalue": "'tuple' object has no attribute 'get_compact_legislation'",
     "output_type": "error",
     "traceback": [
      "\u001b[0;31m\u001b[0m",
      "\u001b[0;31mAttributeError\u001b[0mTraceback (most recent call last)",
      "\u001b[0;32m<ipython-input-125-3daa2ee57957>\u001b[0m in \u001b[0;36m<module>\u001b[0;34m()\u001b[0m\n\u001b[1;32m      1\u001b[0m salaire_de_base, variable = calculate_under_and_over_smic(\n\u001b[1;32m      2\u001b[0m         \u001b[0mtax_benefit_system\u001b[0m\u001b[0;34m,\u001b[0m \u001b[0mvariable_name\u001b[0m\u001b[0;34m,\u001b[0m \u001b[0mmonth_period\u001b[0m\u001b[0;34m,\u001b[0m \u001b[0mparent1\u001b[0m\u001b[0;34m,\u001b[0m\u001b[0;34m\u001b[0m\u001b[0m\n\u001b[0;32m----> 3\u001b[0;31m         salaire_de_base_max, enfants, nb_steps_under_smic, nb_steps_over_smic)\n\u001b[0m",
      "\u001b[0;32m<ipython-input-116-1a939587420d>\u001b[0m in \u001b[0;36mcalculate_under_and_over_smic\u001b[0;34m(tax_benefit_system, variable_name, month_period, parent1, salaire_de_base_max, enfants, nb_steps_under_smic, nb_steps_over_smic)\u001b[0m\n\u001b[1;32m      7\u001b[0m     \u001b[0;31m# Cette précaution est nécessaire du fait d'irrégularités dans les cotisations et les exonérations de cotisation\u001b[0m\u001b[0;34m\u001b[0m\u001b[0;34m\u001b[0m\u001b[0m\n\u001b[1;32m      8\u001b[0m \u001b[0;34m\u001b[0m\u001b[0m\n\u001b[0;32m----> 9\u001b[0;31m     \u001b[0mlegislation_2016\u001b[0m \u001b[0;34m=\u001b[0m \u001b[0mtax_benefit_system\u001b[0m\u001b[0;34m.\u001b[0m\u001b[0mget_compact_legislation\u001b[0m\u001b[0;34m(\u001b[0m\u001b[0minstant\u001b[0m\u001b[0;34m=\u001b[0m\u001b[0mmonth_period\u001b[0m\u001b[0;34m.\u001b[0m\u001b[0mstart\u001b[0m\u001b[0;34m)\u001b[0m\u001b[0;34m\u001b[0m\u001b[0m\n\u001b[0m\u001b[1;32m     10\u001b[0m \u001b[0;34m\u001b[0m\u001b[0m\n\u001b[1;32m     11\u001b[0m     \u001b[0mlast_months\u001b[0m \u001b[0;34m=\u001b[0m \u001b[0mperiods\u001b[0m\u001b[0;34m.\u001b[0m\u001b[0mperiod\u001b[0m\u001b[0;34m(\u001b[0m\u001b[0;34m'month'\u001b[0m\u001b[0;34m,\u001b[0m \u001b[0mmonth_period\u001b[0m\u001b[0;34m.\u001b[0m\u001b[0moffset\u001b[0m\u001b[0;34m(\u001b[0m\u001b[0;34m-\u001b[0m\u001b[0;36m5\u001b[0m\u001b[0;34m)\u001b[0m\u001b[0;34m.\u001b[0m\u001b[0mstart\u001b[0m\u001b[0;34m,\u001b[0m \u001b[0;36m6\u001b[0m\u001b[0;34m)\u001b[0m\u001b[0;34m\u001b[0m\u001b[0m\n",
      "\u001b[0;31mAttributeError\u001b[0m: 'tuple' object has no attribute 'get_compact_legislation'"
     ]
    }
   ],
   "source": [
    "salaire_de_base, variable = calculate_under_and_over_smic(\n",
    "        tax_benefit_system, variable_name, month_period, parent1,\n",
    "        salaire_de_base_max, enfants, nb_steps_under_smic, nb_steps_over_smic)"
   ]
  },
  {
   "cell_type": "code",
   "execution_count": 72,
   "metadata": {
    "collapsed": false
   },
   "outputs": [
    {
     "ename": "ValueError",
     "evalue": "x and y must have same first dimension",
     "output_type": "error",
     "traceback": [
      "\u001b[0;31m\u001b[0m",
      "\u001b[0;31mValueError\u001b[0mTraceback (most recent call last)",
      "\u001b[0;32m<ipython-input-72-8d16634f4da7>\u001b[0m in \u001b[0;36m<module>\u001b[0;34m()\u001b[0m\n\u001b[1;32m     12\u001b[0m             ),\n\u001b[1;32m     13\u001b[0m         ],\n\u001b[0;32m---> 14\u001b[0;31m     \u001b[0msalaire_de_base_max\u001b[0m\u001b[0;34m=\u001b[0m\u001b[0;36m5000\u001b[0m\u001b[0;34m,\u001b[0m\u001b[0;34m\u001b[0m\u001b[0m\n\u001b[0m\u001b[1;32m     15\u001b[0m     )\n",
      "\u001b[0;32m<ipython-input-71-782d7c7c032b>\u001b[0m in \u001b[0;36mplot_under_and_over_smic\u001b[0;34m(tax_benefit_system, variable_name, month_period, parent1, salaire_de_base_max, enfants, nb_steps_under_smic, nb_steps_over_smic)\u001b[0m\n\u001b[1;32m      4\u001b[0m         \u001b[0mtax_benefit_system\u001b[0m\u001b[0;34m,\u001b[0m \u001b[0mvariable_name\u001b[0m\u001b[0;34m,\u001b[0m \u001b[0mmonth_period\u001b[0m\u001b[0;34m,\u001b[0m \u001b[0mparent1\u001b[0m\u001b[0;34m,\u001b[0m\u001b[0;34m\u001b[0m\u001b[0m\n\u001b[1;32m      5\u001b[0m         salaire_de_base_max, enfants, nb_steps_under_smic, nb_steps_over_smic)\n\u001b[0;32m----> 6\u001b[0;31m     \u001b[0mplt\u001b[0m\u001b[0;34m.\u001b[0m\u001b[0mplot\u001b[0m\u001b[0;34m(\u001b[0m\u001b[0msalaire_de_base\u001b[0m\u001b[0;34m,\u001b[0m \u001b[0mvariable\u001b[0m\u001b[0;34m)\u001b[0m\u001b[0;34m\u001b[0m\u001b[0m\n\u001b[0m\u001b[1;32m      7\u001b[0m     \u001b[0mplt\u001b[0m\u001b[0;34m.\u001b[0m\u001b[0mxlabel\u001b[0m\u001b[0;34m(\u001b[0m\u001b[0;34mu'Salaire de base (€/mois)'\u001b[0m\u001b[0;34m)\u001b[0m\u001b[0;34m\u001b[0m\u001b[0m\n\u001b[1;32m      8\u001b[0m     \u001b[0mplt\u001b[0m\u001b[0;34m.\u001b[0m\u001b[0mylabel\u001b[0m\u001b[0;34m(\u001b[0m\u001b[0mvariable_name\u001b[0m\u001b[0;34m)\u001b[0m\u001b[0;34m\u001b[0m\u001b[0m\n",
      "\u001b[0;32m/home/notebook/virtualenvs/openfisca/local/lib/python2.7/site-packages/matplotlib/pyplot.pyc\u001b[0m in \u001b[0;36mplot\u001b[0;34m(*args, **kwargs)\u001b[0m\n\u001b[1;32m   3159\u001b[0m         \u001b[0max\u001b[0m\u001b[0;34m.\u001b[0m\u001b[0mhold\u001b[0m\u001b[0;34m(\u001b[0m\u001b[0mhold\u001b[0m\u001b[0;34m)\u001b[0m\u001b[0;34m\u001b[0m\u001b[0m\n\u001b[1;32m   3160\u001b[0m     \u001b[0;32mtry\u001b[0m\u001b[0;34m:\u001b[0m\u001b[0;34m\u001b[0m\u001b[0m\n\u001b[0;32m-> 3161\u001b[0;31m         \u001b[0mret\u001b[0m \u001b[0;34m=\u001b[0m \u001b[0max\u001b[0m\u001b[0;34m.\u001b[0m\u001b[0mplot\u001b[0m\u001b[0;34m(\u001b[0m\u001b[0;34m*\u001b[0m\u001b[0margs\u001b[0m\u001b[0;34m,\u001b[0m \u001b[0;34m**\u001b[0m\u001b[0mkwargs\u001b[0m\u001b[0;34m)\u001b[0m\u001b[0;34m\u001b[0m\u001b[0m\n\u001b[0m\u001b[1;32m   3162\u001b[0m     \u001b[0;32mfinally\u001b[0m\u001b[0;34m:\u001b[0m\u001b[0;34m\u001b[0m\u001b[0m\n\u001b[1;32m   3163\u001b[0m         \u001b[0max\u001b[0m\u001b[0;34m.\u001b[0m\u001b[0mhold\u001b[0m\u001b[0;34m(\u001b[0m\u001b[0mwashold\u001b[0m\u001b[0;34m)\u001b[0m\u001b[0;34m\u001b[0m\u001b[0m\n",
      "\u001b[0;32m/home/notebook/virtualenvs/openfisca/local/lib/python2.7/site-packages/matplotlib/__init__.pyc\u001b[0m in \u001b[0;36minner\u001b[0;34m(ax, *args, **kwargs)\u001b[0m\n\u001b[1;32m   1817\u001b[0m                     warnings.warn(msg % (label_namer, func.__name__),\n\u001b[1;32m   1818\u001b[0m                                   RuntimeWarning, stacklevel=2)\n\u001b[0;32m-> 1819\u001b[0;31m             \u001b[0;32mreturn\u001b[0m \u001b[0mfunc\u001b[0m\u001b[0;34m(\u001b[0m\u001b[0max\u001b[0m\u001b[0;34m,\u001b[0m \u001b[0;34m*\u001b[0m\u001b[0margs\u001b[0m\u001b[0;34m,\u001b[0m \u001b[0;34m**\u001b[0m\u001b[0mkwargs\u001b[0m\u001b[0;34m)\u001b[0m\u001b[0;34m\u001b[0m\u001b[0m\n\u001b[0m\u001b[1;32m   1820\u001b[0m         \u001b[0mpre_doc\u001b[0m \u001b[0;34m=\u001b[0m \u001b[0minner\u001b[0m\u001b[0;34m.\u001b[0m\u001b[0m__doc__\u001b[0m\u001b[0;34m\u001b[0m\u001b[0m\n\u001b[1;32m   1821\u001b[0m         \u001b[0;32mif\u001b[0m \u001b[0mpre_doc\u001b[0m \u001b[0;32mis\u001b[0m \u001b[0mNone\u001b[0m\u001b[0;34m:\u001b[0m\u001b[0;34m\u001b[0m\u001b[0m\n",
      "\u001b[0;32m/home/notebook/virtualenvs/openfisca/local/lib/python2.7/site-packages/matplotlib/axes/_axes.pyc\u001b[0m in \u001b[0;36mplot\u001b[0;34m(self, *args, **kwargs)\u001b[0m\n\u001b[1;32m   1380\u001b[0m         \u001b[0mkwargs\u001b[0m \u001b[0;34m=\u001b[0m \u001b[0mcbook\u001b[0m\u001b[0;34m.\u001b[0m\u001b[0mnormalize_kwargs\u001b[0m\u001b[0;34m(\u001b[0m\u001b[0mkwargs\u001b[0m\u001b[0;34m,\u001b[0m \u001b[0m_alias_map\u001b[0m\u001b[0;34m)\u001b[0m\u001b[0;34m\u001b[0m\u001b[0m\n\u001b[1;32m   1381\u001b[0m \u001b[0;34m\u001b[0m\u001b[0m\n\u001b[0;32m-> 1382\u001b[0;31m         \u001b[0;32mfor\u001b[0m \u001b[0mline\u001b[0m \u001b[0;32min\u001b[0m \u001b[0mself\u001b[0m\u001b[0;34m.\u001b[0m\u001b[0m_get_lines\u001b[0m\u001b[0;34m(\u001b[0m\u001b[0;34m*\u001b[0m\u001b[0margs\u001b[0m\u001b[0;34m,\u001b[0m \u001b[0;34m**\u001b[0m\u001b[0mkwargs\u001b[0m\u001b[0;34m)\u001b[0m\u001b[0;34m:\u001b[0m\u001b[0;34m\u001b[0m\u001b[0m\n\u001b[0m\u001b[1;32m   1383\u001b[0m             \u001b[0mself\u001b[0m\u001b[0;34m.\u001b[0m\u001b[0madd_line\u001b[0m\u001b[0;34m(\u001b[0m\u001b[0mline\u001b[0m\u001b[0;34m)\u001b[0m\u001b[0;34m\u001b[0m\u001b[0m\n\u001b[1;32m   1384\u001b[0m             \u001b[0mlines\u001b[0m\u001b[0;34m.\u001b[0m\u001b[0mappend\u001b[0m\u001b[0;34m(\u001b[0m\u001b[0mline\u001b[0m\u001b[0;34m)\u001b[0m\u001b[0;34m\u001b[0m\u001b[0m\n",
      "\u001b[0;32m/home/notebook/virtualenvs/openfisca/local/lib/python2.7/site-packages/matplotlib/axes/_base.pyc\u001b[0m in \u001b[0;36m_grab_next_args\u001b[0;34m(self, *args, **kwargs)\u001b[0m\n\u001b[1;32m    379\u001b[0m                 \u001b[0;32mreturn\u001b[0m\u001b[0;34m\u001b[0m\u001b[0m\n\u001b[1;32m    380\u001b[0m             \u001b[0;32mif\u001b[0m \u001b[0mlen\u001b[0m\u001b[0;34m(\u001b[0m\u001b[0mremaining\u001b[0m\u001b[0;34m)\u001b[0m \u001b[0;34m<=\u001b[0m \u001b[0;36m3\u001b[0m\u001b[0;34m:\u001b[0m\u001b[0;34m\u001b[0m\u001b[0m\n\u001b[0;32m--> 381\u001b[0;31m                 \u001b[0;32mfor\u001b[0m \u001b[0mseg\u001b[0m \u001b[0;32min\u001b[0m \u001b[0mself\u001b[0m\u001b[0;34m.\u001b[0m\u001b[0m_plot_args\u001b[0m\u001b[0;34m(\u001b[0m\u001b[0mremaining\u001b[0m\u001b[0;34m,\u001b[0m \u001b[0mkwargs\u001b[0m\u001b[0;34m)\u001b[0m\u001b[0;34m:\u001b[0m\u001b[0;34m\u001b[0m\u001b[0m\n\u001b[0m\u001b[1;32m    382\u001b[0m                     \u001b[0;32myield\u001b[0m \u001b[0mseg\u001b[0m\u001b[0;34m\u001b[0m\u001b[0m\n\u001b[1;32m    383\u001b[0m                 \u001b[0;32mreturn\u001b[0m\u001b[0;34m\u001b[0m\u001b[0m\n",
      "\u001b[0;32m/home/notebook/virtualenvs/openfisca/local/lib/python2.7/site-packages/matplotlib/axes/_base.pyc\u001b[0m in \u001b[0;36m_plot_args\u001b[0;34m(self, tup, kwargs)\u001b[0m\n\u001b[1;32m    357\u001b[0m             \u001b[0mx\u001b[0m\u001b[0;34m,\u001b[0m \u001b[0my\u001b[0m \u001b[0;34m=\u001b[0m \u001b[0mindex_of\u001b[0m\u001b[0;34m(\u001b[0m\u001b[0mtup\u001b[0m\u001b[0;34m[\u001b[0m\u001b[0;34m-\u001b[0m\u001b[0;36m1\u001b[0m\u001b[0;34m]\u001b[0m\u001b[0;34m)\u001b[0m\u001b[0;34m\u001b[0m\u001b[0m\n\u001b[1;32m    358\u001b[0m \u001b[0;34m\u001b[0m\u001b[0m\n\u001b[0;32m--> 359\u001b[0;31m         \u001b[0mx\u001b[0m\u001b[0;34m,\u001b[0m \u001b[0my\u001b[0m \u001b[0;34m=\u001b[0m \u001b[0mself\u001b[0m\u001b[0;34m.\u001b[0m\u001b[0m_xy_from_xy\u001b[0m\u001b[0;34m(\u001b[0m\u001b[0mx\u001b[0m\u001b[0;34m,\u001b[0m \u001b[0my\u001b[0m\u001b[0;34m)\u001b[0m\u001b[0;34m\u001b[0m\u001b[0m\n\u001b[0m\u001b[1;32m    360\u001b[0m \u001b[0;34m\u001b[0m\u001b[0m\n\u001b[1;32m    361\u001b[0m         \u001b[0;32mif\u001b[0m \u001b[0mself\u001b[0m\u001b[0;34m.\u001b[0m\u001b[0mcommand\u001b[0m \u001b[0;34m==\u001b[0m \u001b[0;34m'plot'\u001b[0m\u001b[0;34m:\u001b[0m\u001b[0;34m\u001b[0m\u001b[0m\n",
      "\u001b[0;32m/home/notebook/virtualenvs/openfisca/local/lib/python2.7/site-packages/matplotlib/axes/_base.pyc\u001b[0m in \u001b[0;36m_xy_from_xy\u001b[0;34m(self, x, y)\u001b[0m\n\u001b[1;32m    217\u001b[0m         \u001b[0my\u001b[0m \u001b[0;34m=\u001b[0m \u001b[0m_check_1d\u001b[0m\u001b[0;34m(\u001b[0m\u001b[0my\u001b[0m\u001b[0;34m)\u001b[0m\u001b[0;34m\u001b[0m\u001b[0m\n\u001b[1;32m    218\u001b[0m         \u001b[0;32mif\u001b[0m \u001b[0mx\u001b[0m\u001b[0;34m.\u001b[0m\u001b[0mshape\u001b[0m\u001b[0;34m[\u001b[0m\u001b[0;36m0\u001b[0m\u001b[0;34m]\u001b[0m \u001b[0;34m!=\u001b[0m \u001b[0my\u001b[0m\u001b[0;34m.\u001b[0m\u001b[0mshape\u001b[0m\u001b[0;34m[\u001b[0m\u001b[0;36m0\u001b[0m\u001b[0;34m]\u001b[0m\u001b[0;34m:\u001b[0m\u001b[0;34m\u001b[0m\u001b[0m\n\u001b[0;32m--> 219\u001b[0;31m             \u001b[0;32mraise\u001b[0m \u001b[0mValueError\u001b[0m\u001b[0;34m(\u001b[0m\u001b[0;34m\"x and y must have same first dimension\"\u001b[0m\u001b[0;34m)\u001b[0m\u001b[0;34m\u001b[0m\u001b[0m\n\u001b[0m\u001b[1;32m    220\u001b[0m         \u001b[0;32mif\u001b[0m \u001b[0mx\u001b[0m\u001b[0;34m.\u001b[0m\u001b[0mndim\u001b[0m \u001b[0;34m>\u001b[0m \u001b[0;36m2\u001b[0m \u001b[0;32mor\u001b[0m \u001b[0my\u001b[0m\u001b[0;34m.\u001b[0m\u001b[0mndim\u001b[0m \u001b[0;34m>\u001b[0m \u001b[0;36m2\u001b[0m\u001b[0;34m:\u001b[0m\u001b[0;34m\u001b[0m\u001b[0m\n\u001b[1;32m    221\u001b[0m             \u001b[0;32mraise\u001b[0m \u001b[0mValueError\u001b[0m\u001b[0;34m(\u001b[0m\u001b[0;34m\"x and y can be no greater than 2-D\"\u001b[0m\u001b[0;34m)\u001b[0m\u001b[0;34m\u001b[0m\u001b[0m\n",
      "\u001b[0;31mValueError\u001b[0m: x and y must have same first dimension"
     ]
    },
    {
     "data": {
      "image/png": "[encoded data removed]",
      "text/plain": [
       "<matplotlib.figure.Figure at 0x7f0796c19e10>"
      ]
     },
     "metadata": {},
     "output_type": "display_data"
    }
   ],
   "source": [
    "plot_under_and_over_smic(\n",
    "    tax_benefit_system=tax_benefit_system,\n",
    "    variable_name='af',\n",
    "    month_period=simulation_first_month,\n",
    "    parent1=dict(\n",
    "        date_naissance = date(1980, 1, 1),\n",
    "        allegement_fillon_mode_recouvrement = 1, # anticipe_regularisation_fin_de_periode\n",
    "        ),\n",
    "    enfants=[\n",
    "        dict(\n",
    "            date_naissance = date(2005, 1, 1),\n",
    "            ),\n",
    "        ],\n",
    "    salaire_de_base_max=5000,\n",
    "    )"
   ]
  },
  {
   "cell_type": "code",
   "execution_count": 128,
   "metadata": {
    "collapsed": false,
    "scrolled": false
   },
   "outputs": [
    {
     "ename": "AttributeError",
     "evalue": "'tuple' object has no attribute 'get_compact_legislation'",
     "output_type": "error",
     "traceback": [
      "\u001b[0;31m\u001b[0m",
      "\u001b[0;31mAttributeError\u001b[0mTraceback (most recent call last)",
      "\u001b[0;32m<ipython-input-128-357f7677ebdb>\u001b[0m in \u001b[0;36m<module>\u001b[0;34m()\u001b[0m\n\u001b[1;32m      8\u001b[0m             \u001b[0mallegement_fillon_mode_recouvrement\u001b[0m \u001b[0;34m=\u001b[0m \u001b[0;36m1\u001b[0m\u001b[0;34m,\u001b[0m \u001b[0;31m# anticipe_regularisation_fin_de_periode\u001b[0m\u001b[0;34m\u001b[0m\u001b[0m\n\u001b[1;32m      9\u001b[0m             ),\n\u001b[0;32m---> 10\u001b[0;31m         \u001b[0msalaire_de_base_max\u001b[0m\u001b[0;34m=\u001b[0m\u001b[0;36m5000\u001b[0m\u001b[0;34m,\u001b[0m\u001b[0;34m\u001b[0m\u001b[0m\n\u001b[0m\u001b[1;32m     11\u001b[0m         )\n",
      "\u001b[0;32m<ipython-input-127-782d7c7c032b>\u001b[0m in \u001b[0;36mplot_under_and_over_smic\u001b[0;34m(tax_benefit_system, variable_name, month_period, parent1, salaire_de_base_max, enfants, nb_steps_under_smic, nb_steps_over_smic)\u001b[0m\n\u001b[1;32m      3\u001b[0m     salaire_de_base, variable = calculate_under_and_over_smic(\n\u001b[1;32m      4\u001b[0m         \u001b[0mtax_benefit_system\u001b[0m\u001b[0;34m,\u001b[0m \u001b[0mvariable_name\u001b[0m\u001b[0;34m,\u001b[0m \u001b[0mmonth_period\u001b[0m\u001b[0;34m,\u001b[0m \u001b[0mparent1\u001b[0m\u001b[0;34m,\u001b[0m\u001b[0;34m\u001b[0m\u001b[0m\n\u001b[0;32m----> 5\u001b[0;31m         salaire_de_base_max, enfants, nb_steps_under_smic, nb_steps_over_smic)\n\u001b[0m\u001b[1;32m      6\u001b[0m     \u001b[0mplt\u001b[0m\u001b[0;34m.\u001b[0m\u001b[0mplot\u001b[0m\u001b[0;34m(\u001b[0m\u001b[0msalaire_de_base\u001b[0m\u001b[0;34m,\u001b[0m \u001b[0mvariable\u001b[0m\u001b[0;34m)\u001b[0m\u001b[0;34m\u001b[0m\u001b[0m\n\u001b[1;32m      7\u001b[0m     \u001b[0mplt\u001b[0m\u001b[0;34m.\u001b[0m\u001b[0mxlabel\u001b[0m\u001b[0;34m(\u001b[0m\u001b[0;34mu'Salaire de base (€/mois)'\u001b[0m\u001b[0;34m)\u001b[0m\u001b[0;34m\u001b[0m\u001b[0m\n",
      "\u001b[0;32m<ipython-input-116-1a939587420d>\u001b[0m in \u001b[0;36mcalculate_under_and_over_smic\u001b[0;34m(tax_benefit_system, variable_name, month_period, parent1, salaire_de_base_max, enfants, nb_steps_under_smic, nb_steps_over_smic)\u001b[0m\n\u001b[1;32m      7\u001b[0m     \u001b[0;31m# Cette précaution est nécessaire du fait d'irrégularités dans les cotisations et les exonérations de cotisation\u001b[0m\u001b[0;34m\u001b[0m\u001b[0;34m\u001b[0m\u001b[0m\n\u001b[1;32m      8\u001b[0m \u001b[0;34m\u001b[0m\u001b[0m\n\u001b[0;32m----> 9\u001b[0;31m     \u001b[0mlegislation_2016\u001b[0m \u001b[0;34m=\u001b[0m \u001b[0mtax_benefit_system\u001b[0m\u001b[0;34m.\u001b[0m\u001b[0mget_compact_legislation\u001b[0m\u001b[0;34m(\u001b[0m\u001b[0minstant\u001b[0m\u001b[0;34m=\u001b[0m\u001b[0mmonth_period\u001b[0m\u001b[0;34m.\u001b[0m\u001b[0mstart\u001b[0m\u001b[0;34m)\u001b[0m\u001b[0;34m\u001b[0m\u001b[0m\n\u001b[0m\u001b[1;32m     10\u001b[0m \u001b[0;34m\u001b[0m\u001b[0m\n\u001b[1;32m     11\u001b[0m     \u001b[0mlast_months\u001b[0m \u001b[0;34m=\u001b[0m \u001b[0mperiods\u001b[0m\u001b[0;34m.\u001b[0m\u001b[0mperiod\u001b[0m\u001b[0;34m(\u001b[0m\u001b[0;34m'month'\u001b[0m\u001b[0;34m,\u001b[0m \u001b[0mmonth_period\u001b[0m\u001b[0;34m.\u001b[0m\u001b[0moffset\u001b[0m\u001b[0;34m(\u001b[0m\u001b[0;34m-\u001b[0m\u001b[0;36m5\u001b[0m\u001b[0;34m)\u001b[0m\u001b[0;34m.\u001b[0m\u001b[0mstart\u001b[0m\u001b[0;34m,\u001b[0m \u001b[0;36m6\u001b[0m\u001b[0;34m)\u001b[0m\u001b[0;34m\u001b[0m\u001b[0m\n",
      "\u001b[0;31mAttributeError\u001b[0m: 'tuple' object has no attribute 'get_compact_legislation'"
     ]
    }
   ],
   "source": [
    "for variable_name in ('rsa', 'ppa', 'allegement_fillon', 'af'):\n",
    "    plot_under_and_over_smic(\n",
    "        tax_benefit_system=tax_benefit_system,\n",
    "        variable_name=variable_name,\n",
    "        month_period=simulation_first_month,\n",
    "        parent1=dict(\n",
    "            date_naissance = date(1980, 1, 1),\n",
    "            allegement_fillon_mode_recouvrement = 1, # anticipe_regularisation_fin_de_periode\n",
    "            ),\n",
    "        salaire_de_base_max=5000,\n",
    "        )"
   ]
  },
  {
   "cell_type": "markdown",
   "metadata": {},
   "source": [
    "## Ancienne version, manuelle (sans fonction pour factoriser le code)"
   ]
  },
  {
   "cell_type": "code",
   "execution_count": 49,
   "metadata": {
    "collapsed": true
   },
   "outputs": [],
   "source": [
    "# On commence par simuler la variation de salaire entre 0 € et le SMIC mensuel\n",
    "# Entre 0 € et le SMIC mensuel, quand le salaire de base augmente, c'est le volume horaire qui augmente (de 0 à 35 heures hendomadaires)\n",
    "# Le salaire horaire quant à lui reste fixé au SMIC horaire\n",
    "# On divise donc le segment [0 € - SMIC mensuel] en 10 paliers, en faisant augmenter parallèlement à chaque palier les variables nb_heures_par_mois_temps_plein et salaire_de_base \n",
    "\n",
    "scenario_under_smic = tax_benefit_system.new_scenario().init_single_entity(\n",
    "    axes = [\n",
    "        [\n",
    "            dict(\n",
    "                count = 10,\n",
    "                min = 0,\n",
    "                max = nb_heures_par_mois_temps_plein,\n",
    "                name = 'heures_remunerees_volume',\n",
    "                ),\n",
    "            dict(\n",
    "                count = 10,\n",
    "                min = 0,\n",
    "                max = nb_heures_par_mois_temps_plein * smic_horaire,\n",
    "                name = 'salaire_de_base',\n",
    "                ),\n",
    "            ],\n",
    "        ],\n",
    "    period = simulation_first_month,\n",
    "    parent1 = dict(\n",
    "        date_naissance = date_naissance_parent1,\n",
    "        contrat_de_travail = 1, # temps partiel\n",
    "        allegement_fillon_mode_recouvrement = 1, # anticipe_regularisation_fin_de_periode\n",
    "        ),\n",
    "    )"
   ]
  },
  {
   "cell_type": "code",
   "execution_count": 50,
   "metadata": {
    "collapsed": true
   },
   "outputs": [],
   "source": [
    "simulation_under_smic = scenario_under_smic.new_simulation()"
   ]
  },
  {
   "cell_type": "code",
   "execution_count": 51,
   "metadata": {
    "collapsed": false
   },
   "outputs": [
    {
     "data": {
      "text/plain": [
       "array([    0.        ,   162.95741272,   325.91482544,   488.8722229 ,\n",
       "         651.82965088,   814.78704834,   977.7444458 ,  1140.7019043 ,\n",
       "        1303.65930176,  1466.61669922], dtype=float32)"
      ]
     },
     "execution_count": 51,
     "metadata": {},
     "output_type": "execute_result"
    }
   ],
   "source": [
    "salaire_de_base_under_smic = simulation_under_smic.calculate('salaire_de_base', simulation_first_month)\n",
    "salaire_de_base_under_smic"
   ]
  },
  {
   "cell_type": "code",
   "execution_count": 52,
   "metadata": {
    "collapsed": false
   },
   "outputs": [
    {
     "data": {
      "text/plain": [
       "array([   0.        ,   45.66066742,   91.32133484,  136.98199463,\n",
       "        182.64266968,  228.30332947,  273.96398926,  319.62466431,\n",
       "        365.28533936,  410.94598389], dtype=float32)"
      ]
     },
     "execution_count": 52,
     "metadata": {},
     "output_type": "execute_result"
    }
   ],
   "source": [
    "# On simule l'évolution des allègements Fillon sur ce segment\n",
    "\n",
    "allegement_fillon_under_smic = simulation_under_smic.calculate('allegement_fillon', simulation_first_month)\n",
    "allegement_fillon_under_smic"
   ]
  },
  {
   "cell_type": "code",
   "execution_count": 53,
   "metadata": {
    "collapsed": false
   },
   "outputs": [
    {
     "data": {
      "image/png": "[encoded data removed]",
      "text/plain": [
       "<matplotlib.figure.Figure at 0x7f7ce08fad90>"
      ]
     },
     "metadata": {},
     "output_type": "display_data"
    }
   ],
   "source": [
    "plt.plot(salaire_de_base_under_smic, allegement_fillon_under_smic)\n",
    "plt.xlabel(u'Salaire de base (€/mois)')\n",
    "plt.ylabel(u'Allègement Fillon (€/mois)')\n",
    "plt.title(u'Au-dessous du SMIC')\n",
    "plt.grid(True)\n",
    "plt.show()"
   ]
  },
  {
   "cell_type": "code",
   "execution_count": 54,
   "metadata": {
    "collapsed": false
   },
   "outputs": [
    {
     "data": {
      "text/plain": [
       "1466.6166666666666"
      ]
     },
     "execution_count": 54,
     "metadata": {},
     "output_type": "execute_result"
    }
   ],
   "source": [
    "smic_mensuel = nb_heures_par_mois_temps_plein * smic_horaire\n",
    "smic_mensuel"
   ]
  },
  {
   "cell_type": "code",
   "execution_count": 55,
   "metadata": {
    "collapsed": true
   },
   "outputs": [],
   "source": [
    "# Au-delà du SMIC mensuel, on suppose que le volume horaire reste fixé à 35 heures,\n",
    "# et que c'est le salaire horaire qui augmente\n",
    "\n",
    "scenario_over_smic = tax_benefit_system.new_scenario().init_single_entity(\n",
    "    axes = [\n",
    "        dict(\n",
    "            count = 50,\n",
    "            min = smic_mensuel,\n",
    "            max = 5000,\n",
    "            name = 'salaire_de_base',\n",
    "            ),\n",
    "        ],\n",
    "    period = simulation_first_month,\n",
    "    parent1 = dict(\n",
    "        date_naissance = date_naissance_parent1,\n",
    "        contrat_de_travail = 0, # temps plein\n",
    "        allegement_fillon_mode_recouvrement = 1, # anticipe_regularisation_fin_de_periode\n",
    "        ),\n",
    "    )"
   ]
  },
  {
   "cell_type": "code",
   "execution_count": 56,
   "metadata": {
    "collapsed": true
   },
   "outputs": [],
   "source": [
    "simulation_over_smic = scenario_over_smic.new_simulation()"
   ]
  },
  {
   "cell_type": "code",
   "execution_count": 57,
   "metadata": {
    "collapsed": false
   },
   "outputs": [
    {
     "data": {
      "text/plain": [
       "array([ 1466.61669922,  1538.7265625 ,  1610.83642578,  1682.94628906,\n",
       "        1755.05615234,  1827.16601562,  1899.27587891,  1971.38574219,\n",
       "        2043.49560547,  2115.60546875,  2187.71533203,  2259.82519531,\n",
       "        2331.93505859,  2404.04492188,  2476.15478516,  2548.26464844,\n",
       "        2620.37451172,  2692.484375  ,  2764.59423828,  2836.70410156,\n",
       "        2908.81396484,  2980.92382812,  3053.03369141,  3125.14355469,\n",
       "        3197.25341797,  3269.36328125,  3341.47314453,  3413.58300781,\n",
       "        3485.69287109,  3557.80273438,  3629.91259766,  3702.02246094,\n",
       "        3774.13232422,  3846.2421875 ,  3918.35205078,  3990.46191406,\n",
       "        4062.57177734,  4134.68164062,  4206.79150391,  4278.90136719,\n",
       "        4351.01123047,  4423.12109375,  4495.23095703,  4567.34082031,\n",
       "        4639.45068359,  4711.56054688,  4783.67041016,  4855.78027344,\n",
       "        4927.89013672,  5000.        ], dtype=float32)"
      ]
     },
     "execution_count": 57,
     "metadata": {},
     "output_type": "execute_result"
    }
   ],
   "source": [
    "salaire_de_base_over_smic = simulation_over_smic.calculate('salaire_de_base', simulation_first_month)\n",
    "salaire_de_base_over_smic"
   ]
  },
  {
   "cell_type": "code",
   "execution_count": 58,
   "metadata": {
    "collapsed": false
   },
   "outputs": [
    {
     "data": {
      "text/plain": [
       "array([ 410.94598389,  377.29574585,  343.59140015,  309.99871826,\n",
       "        276.24584961,  242.64764404,  208.92034912,  175.25619507,\n",
       "        141.61424255,  107.89588165,   74.16355133,   40.45087051,\n",
       "          6.76261187,    0.        ,    0.        ,    0.        ,\n",
       "          0.        ,    0.        ,    0.        ,    0.        ,\n",
       "          0.        ,    0.        ,    0.        ,    0.        ,\n",
       "          0.        ,    0.        ,    0.        ,    0.        ,\n",
       "          0.        ,    0.        ,    0.        ,    0.        ,\n",
       "          0.        ,    0.        ,    0.        ,    0.        ,\n",
       "          0.        ,    0.        ,    0.        ,    0.        ,\n",
       "          0.        ,    0.        ,    0.        ,    0.        ,\n",
       "          0.        ,    0.        ,    0.        ,    0.        ,\n",
       "          0.        ,    0.        ], dtype=float32)"
      ]
     },
     "execution_count": 58,
     "metadata": {},
     "output_type": "execute_result"
    }
   ],
   "source": [
    "allegement_fillon_over_smic = simulation_over_smic.calculate('allegement_fillon', simulation_first_month)\n",
    "allegement_fillon_over_smic"
   ]
  },
  {
   "cell_type": "code",
   "execution_count": 59,
   "metadata": {
    "collapsed": false
   },
   "outputs": [
    {
     "data": {
      "image/png": "[encoded data removed]",
      "text/plain": [
       "<matplotlib.figure.Figure at 0x7f7ce02faa90>"
      ]
     },
     "metadata": {},
     "output_type": "display_data"
    }
   ],
   "source": [
    "plt.plot(salaire_de_base_over_smic, allegement_fillon_over_smic)\n",
    "plt.xlabel(u'Salaire de base (€/mois)')\n",
    "plt.ylabel(u'Allègement Fillon (€/mois)')\n",
    "plt.title(u'Au-dessus du SMIC')\n",
    "plt.grid(True)\n",
    "plt.show()"
   ]
  },
  {
   "cell_type": "code",
   "execution_count": 60,
   "metadata": {
    "collapsed": true
   },
   "outputs": [],
   "source": [
    "# On crée ici la variable \"salaire_de_base\" qui est l'enchainement du segment : 0 €- SMIC mensuel et du segment SMIC mensuel - au-delà\n",
    "# le crochet [:-1] permet d'éviter que l'on ait l'observation \"SMIC mensuel\" en doublon\n",
    "\n",
    "salaire_de_base = np.concatenate([salaire_de_base_under_smic[:-1], salaire_de_base_over_smic])"
   ]
  },
  {
   "cell_type": "code",
   "execution_count": 61,
   "metadata": {
    "collapsed": true
   },
   "outputs": [],
   "source": [
    "allegement_fillon = np.concatenate([allegement_fillon_under_smic[:-1], allegement_fillon_over_smic])"
   ]
  },
  {
   "cell_type": "code",
   "execution_count": 62,
   "metadata": {
    "collapsed": false,
    "scrolled": true
   },
   "outputs": [
    {
     "data": {
      "image/png": "[encoded data removed]",
      "text/plain": [
       "<matplotlib.figure.Figure at 0x7f7ce02fa450>"
      ]
     },
     "metadata": {},
     "output_type": "display_data"
    }
   ],
   "source": [
    "plt.plot(salaire_de_base, allegement_fillon)\n",
    "# plt.plot(salaire_de_base_under_smic, allegement_fillon_under_smic, label=u'Temps partiel de 0 à 35h/mois')\n",
    "# plt.plot(salaire_de_base_over_smic, allegement_fillon_over_smic, label=u'Temps plein')\n",
    "plt.xlabel(u'Salaire de base (€/mois)')\n",
    "plt.ylabel(u'Allègement Fillon (€/mois)')\n",
    "plt.title(u'Allègements de cotsations patronales (dits \"Fillon\") en fonction du salaire brut')\n",
    "plt.grid(True)\n",
    "plt.axvline(x=smic_mensuel, color='r', label='SMIC')\n",
    "plt.legend()\n",
    "plt.show()"
   ]
  },
  {
   "cell_type": "markdown",
   "metadata": {},
   "source": [
    "Définitin du salaire mensuel"
   ]
  },
  {
   "cell_type": "code",
   "execution_count": 63,
   "metadata": {
    "collapsed": false
   },
   "outputs": [
    {
     "data": {
      "text/plain": [
       "1466.6166666666666"
      ]
     },
     "execution_count": 63,
     "metadata": {},
     "output_type": "execute_result"
    }
   ],
   "source": [
    "legislation_2016 = tax_benefit_system.get_compact_legislation(instant=simulation_first_month.start)\n",
    "smic_horaire = legislation_2016.cotsoc.gen.smic_h_b\n",
    "nb_heures_par_an_temps_plein = legislation_2016.ir.credits_impot.ppe.TP_nbh\n",
    "nb_heures_par_mois_temps_plein = nb_heures_par_an_temps_plein / 12.0\n",
    "smic_mensuel = nb_heures_par_mois_temps_plein * smic_horaire\n",
    "smic_mensuel"
   ]
  },
  {
   "cell_type": "markdown",
   "metadata": {},
   "source": [
    "Graph de l'évolution su salaire super-brut en fonction du salaire brut"
   ]
  },
  {
   "cell_type": "code",
   "execution_count": 64,
   "metadata": {
    "collapsed": false
   },
   "outputs": [
    {
     "name": "stderr",
     "output_type": "stream",
     "text": [
      "/home/notebook/virtualenvs/openfisca/local/lib/python2.7/site-packages/numpy/core/numeric.py:1093: RuntimeWarning: invalid value encountered in multiply\n",
      "  return multiply(a.ravel()[:, newaxis], b.ravel()[newaxis,:], out)\n",
      "/home/notebook/virtualenvs/openfisca/local/lib/python2.7/site-packages/openfisca_france/model/prelevements_obligatoires/prelevements_sociaux/cotisations_sociales/allegements.py:377: RuntimeWarning: invalid value encountered in true_divide\n",
      "  ratio_smic_salaire = assiette / smic_proratise\n",
      "/home/notebook/virtualenvs/openfisca/local/lib/python2.7/site-packages/openfisca_france/model/prelevements_obligatoires/prelevements_sociaux/cotisations_sociales/allegements.py:380: RuntimeWarning: invalid value encountered in less\n",
      "  return (ratio_smic_salaire < law.seuil) * law.taux * assiette\n"
     ]
    },
    {
     "data": {
      "image/png": "[encoded data removed]",
      "text/plain": [
       "<matplotlib.figure.Figure at 0x7f7ce0690c90>"
      ]
     },
     "metadata": {},
     "output_type": "display_data"
    }
   ],
   "source": [
    "salaire_super_brut_under_smic = simulation_under_smic.calculate('salaire_super_brut', simulation_first_month)\n",
    "salaire_super_brut_over_smic = simulation_over_smic.calculate('salaire_super_brut', simulation_first_month)\n",
    "\n",
    "salaire_super_brut = np.concatenate([salaire_super_brut_under_smic[:-1], salaire_super_brut_over_smic])\n",
    "\n",
    "plt.plot(salaire_de_base, salaire_super_brut)\n",
    "plt.xlabel(u'Salaire de base (€/mois)')\n",
    "plt.ylabel(u'Salaire super-brut (€/mois)')\n",
    "plt.title(u'Salaire super-brut en fonction du salaire brut (compte-tenu des allègements de cotisations dits \"Fillon\")')\n",
    "plt.grid(True)\n",
    "plt.axvline(x=smic_mensuel, color='r', label='SMIC')\n",
    "plt.legend()\n",
    "plt.show()"
   ]
  },
  {
   "cell_type": "code",
   "execution_count": null,
   "metadata": {
    "collapsed": true
   },
   "outputs": [],
   "source": []
  },
  {
   "cell_type": "code",
   "execution_count": null,
   "metadata": {
    "collapsed": true
   },
   "outputs": [],
   "source": []
  },
  {
   "cell_type": "code",
   "execution_count": null,
   "metadata": {
    "collapsed": true
   },
   "outputs": [],
   "source": []
  },
  {
   "cell_type": "code",
   "execution_count": null,
   "metadata": {
    "collapsed": true
   },
   "outputs": [],
   "source": [
    "min_salaire_de_base = 0\n",
    "max_salaire_de_base = 120000\n",
    "pas = 5000\n",
    "nb_palier = max_salaire_de_base / pas"
   ]
  },
  {
   "cell_type": "code",
   "execution_count": null,
   "metadata": {
    "collapsed": false
   },
   "outputs": [],
   "source": [
    "def make_two_parents_scenario(nombre_enfants = 1, year = None, tax_benefit_system = tax_benefit_system):\n",
    "    enfant = [dict(\n",
    "        date_naissance = date(2005, 1, 1),\n",
    "        )]\n",
    "    enfants = enfant * nombre_enfants\n",
    "    scenario = tax_benefit_system.new_scenario().init_single_entity(\n",
    "        axes = [[\n",
    "            dict(\n",
    "                count = nb_palier,\n",
    "                min = min_salaire_de_base,\n",
    "                max = max_salaire_de_base,\n",
    "                name = 'salaire_de_base',\n",
    "                period = year,            \n",
    "                ),\n",
    "            dict(\n",
    "                count = nb_palier,\n",
    "                min = min_salaire_de_base,\n",
    "                max = max_salaire_de_base,\n",
    "                name = 'salaire_de_base',\n",
    "                period = year-1,            \n",
    "                ),\n",
    "            dict(\n",
    "                count = nb_palier,\n",
    "                min = min_salaire_de_base,\n",
    "                max = max_salaire_de_base,\n",
    "                name = 'salaire_de_base',\n",
    "                period = year-2,            \n",
    "                )\n",
    "            ]],\n",
    "        period = year,\n",
    "        parent1 = dict(\n",
    "            date_naissance = date(1980, 1, 1),\n",
    "            ),\n",
    "        parent2 = dict(\n",
    "            date_naissance = date(1980, 1, 1),\n",
    "            ),\n",
    "        enfants = enfants,\n",
    "        menage = dict(\n",
    "            loyer = 5000,\n",
    "            statut_occupation_logement = 4,\n",
    "            ),\n",
    "        )\n",
    "    return scenario"
   ]
  },
  {
   "cell_type": "code",
   "execution_count": null,
   "metadata": {
    "collapsed": false
   },
   "outputs": [],
   "source": [
    "def make_one_parent_scenario(nombre_enfants = 0, year = None, tax_benefit_system = tax_benefit_system):\n",
    "    enfant = [dict(\n",
    "        date_naissance = date(2005, 1, 1),\n",
    "        )]\n",
    "    enfants = enfant * nombre_enfants\n",
    "    scenario = tax_benefit_system.new_scenario().init_single_entity(\n",
    "        axes = [[\n",
    "            dict(\n",
    "                count = nb_palier,\n",
    "                min = min_salaire_de_base,\n",
    "                max = max_salaire_de_base,\n",
    "                name = 'salaire_de_base',\n",
    "                period = year,            \n",
    "                ),\n",
    "            dict(\n",
    "                count = nb_palier,\n",
    "                min = min_salaire_de_base,\n",
    "                max = max_salaire_de_base,\n",
    "                name = 'salaire_de_base',\n",
    "                period = year-1,            \n",
    "                ),\n",
    "            dict(\n",
    "                count = nb_palier,\n",
    "                min = min_salaire_de_base,\n",
    "                max = max_salaire_de_base,\n",
    "                name = 'salaire_de_base',\n",
    "                period = year-2,            \n",
    "                )\n",
    "            ]],\n",
    "        period = year,\n",
    "        parent1 = dict(\n",
    "            date_naissance = date(1980, 1, 1),\n",
    "            ),\n",
    "        enfants = enfants,\n",
    "        menage = dict(\n",
    "            loyer = 5000,\n",
    "            statut_occupation_logement = 4,\n",
    "            ),\n",
    "        )\n",
    "    return scenario"
   ]
  },
  {
   "cell_type": "code",
   "execution_count": null,
   "metadata": {
    "collapsed": false
   },
   "outputs": [],
   "source": [
    "scenario_p2_e0_ref = make_two_parents_scenario(0, simulation_period)\n",
    "simulation_p2_e0_ref = scenario_p2_e0_ref.new_simulation()"
   ]
  },
  {
   "cell_type": "code",
   "execution_count": null,
   "metadata": {
    "collapsed": false
   },
   "outputs": [],
   "source": [
    "scenario_p2_e0_rdb = make_two_parents_scenario(0, simulation_period, reform)\n",
    "simulation_p2_e0_rdb = scenario_p2_e0_rdb.new_simulation()"
   ]
  },
  {
   "cell_type": "code",
   "execution_count": null,
   "metadata": {
    "collapsed": false
   },
   "outputs": [],
   "source": [
    "# comparaison du revenu disponible entre Reference et RDB\n",
    "revenu_disponible_p2_e0_ref = simulation_p2_e0_ref.calculate_add(\"revdisp\") / 12\n",
    "revenu_disponible_p2_e0_rdb = simulation_p2_e0_rdb.calculate_add(\"revdisp\") / 12\n",
    "\n",
    "salaire_de_base_p2_e0_ref = simulation_p2_e0_ref.calculate(\"salaire_de_base\") / 12\n",
    "salaire_de_base_p2_e0_rdb = simulation_p2_e0_rdb.calculate(\"salaire_de_base\") / 12\n",
    "\n",
    "# Attention à ne pas mettre d'accent (ex: \"é\") dans la légende\n",
    "plt.plot(salaire_de_base_p2_e0_ref[::2], revenu_disponible_p2_e0_ref, 'r', label='redistribution actuelle')\n",
    "plt.plot(salaire_de_base_p2_e0_rdb[::2], revenu_disponible_p2_e0_rdb, label='avec revenu de base')\n",
    "plt.xlabel(\"salaire brut mensuel\")\n",
    "plt.ylabel(\"revenu disponible\")\n",
    "plt.title(\"Comparaison avant/apres reforme pour un couple de salaries sans enfant, {}\".format(simulation_year))\n",
    "plt.grid()\n",
    "plt.legend(loc=2)"
   ]
  },
  {
   "cell_type": "code",
   "execution_count": null,
   "metadata": {
    "collapsed": false,
    "scrolled": true
   },
   "outputs": [],
   "source": [
    "scenario_p2_e1_ref = make_two_parents_scenario(1, simulation_period)\n",
    "simulation_p2_e1_ref = scenario_p2_e1_ref.new_simulation()\n",
    "scenario_p2_e1_rdb = make_two_parents_scenario(1, simulation_period, reform)\n",
    "simulation_p2_e1_rdb = scenario_p2_e1_rdb.new_simulation()\n",
    "# comparaison du revenu disponible entre Reference et RDB\n",
    "revenu_disponible_p2_e1_ref = simulation_p2_e1_ref.calculate_add(\"revdisp\") / 12\n",
    "revenu_disponible_p2_e1_rdb = simulation_p2_e1_rdb.calculate_add(\"revdisp\") / 12\n",
    "\n",
    "salaire_de_base_p2_e1_ref = simulation_p2_e1_ref.calculate(\"salaire_de_base\") / 12\n",
    "salaire_de_base_p2_e1_rdb = simulation_p2_e1_rdb.calculate(\"salaire_de_base\") / 12\n",
    "\n",
    "# Attention à ne pas mettre d'accent (ex: \"é\") dans la légende\n",
    "plt.plot(salaire_de_base_p2_e1_ref[::3], revenu_disponible_p2_e1_ref, 'r', label='redistribution actuelle')\n",
    "plt.plot(salaire_de_base_p2_e1_rdb[::3], revenu_disponible_p2_e1_rdb, label='avec revenu de base')\n",
    "plt.xlabel(\"salaire brut mensuel\")\n",
    "plt.ylabel(\"revenu disponible\")\n",
    "plt.title(\"Comparaison avant/apres reforme pour un couple de salaries avec 1 enfant, {}\".format(simulation_year))\n",
    "plt.grid()\n",
    "plt.legend(loc=2)"
   ]
  },
  {
   "cell_type": "code",
   "execution_count": null,
   "metadata": {
    "collapsed": false
   },
   "outputs": [],
   "source": [
    "scenario_p2_e2_ref = make_two_parents_scenario(2, simulation_period)\n",
    "simulation_p2_e2_ref = scenario_p2_e2_ref.new_simulation()\n",
    "scenario_p2_e2_rdb = make_two_parents_scenario(2, simulation_period, reform)\n",
    "simulation_p2_e2_rdb = scenario_p2_e2_rdb.new_simulation()\n",
    "# comparaison du revenu disponible entre Reference et RDB\n",
    "revenu_disponible_p2_e2_ref = simulation_p2_e2_ref.calculate_add(\"revdisp\") / 12\n",
    "revenu_disponible_p2_e2_rdb = simulation_p2_e2_rdb.calculate_add(\"revdisp\") / 12\n",
    "\n",
    "salaire_de_base_p2_e2_ref = simulation_p2_e2_ref.calculate(\"salaire_de_base\") / 12\n",
    "salaire_de_base_p2_e2_rdb = simulation_p2_e2_rdb.calculate(\"salaire_de_base\") / 12\n",
    "\n",
    "# Attention à ne pas mettre d'accent (ex: \"é\") dans la légende\n",
    "plt.plot(salaire_de_base_p2_e2_ref[::4], revenu_disponible_p2_e2_ref, 'r', label='redistribution actuelle')\n",
    "plt.plot(salaire_de_base_p2_e2_rdb[::4], revenu_disponible_p2_e2_rdb, label='avec revenu de base')\n",
    "plt.xlabel(\"salaire brut mensuel\")\n",
    "plt.ylabel(\"revenu disponible\")\n",
    "plt.title(\"Comparaison avant/apres reforme pour un couple de salaries avec 2 enfants, {}\".format(simulation_year))\n",
    "plt.grid()\n",
    "plt.legend(loc=2)"
   ]
  },
  {
   "cell_type": "code",
   "execution_count": null,
   "metadata": {
    "collapsed": false
   },
   "outputs": [],
   "source": [
    "scenario_p2_e3_ref = make_two_parents_scenario(3, simulation_period)\n",
    "simulation_p2_e3_ref = scenario_p2_e3_ref.new_simulation()\n",
    "scenario_p2_e3_rdb = make_two_parents_scenario(3, simulation_period, reform)\n",
    "simulation_p2_e3_rdb = scenario_p2_e3_rdb.new_simulation()\n",
    "# comparaison du revenu disponible entre Reference et RDB\n",
    "revenu_disponible_p2_e3_ref = simulation_p2_e3_ref.calculate_add(\"revdisp\") / 12\n",
    "revenu_disponible_p2_e3_rdb = simulation_p2_e3_rdb.calculate_add(\"revdisp\") / 12\n",
    "\n",
    "salaire_de_base_p2_e3_ref = simulation_p2_e3_ref.calculate(\"salaire_de_base\") / 12\n",
    "salaire_de_base_p2_e3_rdb = simulation_p2_e3_rdb.calculate(\"salaire_de_base\") / 12\n",
    "\n",
    "# Attention à ne pas mettre d'accent (ex: \"é\") dans la légende\n",
    "plt.plot(salaire_de_base_p2_e3_ref[::5], revenu_disponible_p2_e3_ref, 'r', label='redistribution actuelle')\n",
    "plt.plot(salaire_de_base_p2_e3_rdb[::5], revenu_disponible_p2_e3_rdb, label='avec revenu de base')\n",
    "plt.xlabel(\"salaire brut mensuel\")\n",
    "plt.ylabel(\"revenu disponible\")\n",
    "plt.title(\"Comparaison avant/apres reforme pour un couple de salaries avec 2 enfants, {}\".format(simulation_year))\n",
    "plt.grid()\n",
    "plt.legend(loc=2)"
   ]
  },
  {
   "cell_type": "code",
   "execution_count": null,
   "metadata": {
    "collapsed": false
   },
   "outputs": [],
   "source": [
    "scenario_p1_e0_ref = make_one_parent_scenario(0, 2015)\n",
    "simulation_p1_e0_ref = scenario_p1_e0_ref.new_simulation()\n",
    "scenario_p1_e0_rdb = make_one_parent_scenario(0, 2015, reform)\n",
    "simulation_p1_e0_rdb = scenario_p1_e0_rdb.new_simulation()\n",
    "# comparaison du revenu disponible entre Reference et RDB\n",
    "revenu_disponible_p1_e0_ref = simulation_p1_e0_ref.calculate_add(\"revdisp\") / 12\n",
    "revenu_disponible_p1_e0_rdb = simulation_p1_e0_rdb.calculate_add(\"revdisp\") / 12\n",
    "\n",
    "salaire_de_base_p1_e0_ref = simulation_p1_e0_ref.calculate(\"salaire_de_base\") / 12\n",
    "salaire_de_base_p1_e0_rdb = simulation_p1_e0_rdb.calculate(\"salaire_de_base\") / 12\n",
    "\n",
    "# Attention à ne pas mettre d'accent (ex: \"é\") dans la légende\n",
    "plt.plot(salaire_de_base_p1_e0_ref, revenu_disponible_p1_e0_ref, 'r', label='redistribution actuelle')\n",
    "plt.plot(salaire_de_base_p1_e0_rdb, revenu_disponible_p1_e0_rdb, label='avec revenu de base')\n",
    "plt.xlabel(\"salaire brut mensuel\")\n",
    "plt.ylabel(\"revenu disponible\")\n",
    "plt.title(\"Comparaison avant/apres reforme pour un salarie sans enfant, 2015\")\n",
    "plt.grid()\n",
    "plt.legend(loc=2)"
   ]
  },
  {
   "cell_type": "code",
   "execution_count": null,
   "metadata": {
    "collapsed": false
   },
   "outputs": [],
   "source": [
    "scenario_p1_e1_ref = make_one_parent_scenario(1, 2015)\n",
    "simulation_p1_e1_ref = scenario_p1_e1_ref.new_simulation()\n",
    "scenario_p1_e1_rdb = make_one_parent_scenario(1, 2015, reform)\n",
    "simulation_p1_e1_rdb = scenario_p1_e1_rdb.new_simulation()\n",
    "# comparaison du revenu disponible entre Reference et RDB\n",
    "revenu_disponible_p1_e1_ref = simulation_p1_e1_ref.calculate_add(\"revdisp\") / 12\n",
    "revenu_disponible_p1_e1_rdb = simulation_p1_e1_rdb.calculate_add(\"revdisp\") / 12\n",
    "\n",
    "salaire_de_base_p1_e1_ref = simulation_p1_e1_ref.calculate(\"salaire_de_base\") / 12\n",
    "salaire_de_base_p1_e1_rdb = simulation_p1_e1_rdb.calculate(\"salaire_de_base\") / 12\n",
    "\n",
    "# Attention à ne pas mettre d'accent (ex: \"é\") dans la légende\n",
    "plt.plot(salaire_de_base_p1_e1_ref[::2], revenu_disponible_p1_e1_ref, 'r', label='redistribution actuelle')\n",
    "plt.plot(salaire_de_base_p1_e1_rdb[::2], revenu_disponible_p1_e1_rdb, label='avec revenu de base')\n",
    "plt.xlabel(\"salaire brut mensuel\")\n",
    "plt.ylabel(\"revenu disponible\")\n",
    "plt.title(\"Comparaison avant/apres reforme pour un salarie avec 1 enfant, 2015\")\n",
    "plt.grid()\n",
    "plt.legend(loc=2)"
   ]
  },
  {
   "cell_type": "code",
   "execution_count": null,
   "metadata": {
    "collapsed": false
   },
   "outputs": [],
   "source": [
    "scenario_p1_e2_ref = make_one_parent_scenario(2, 2015)\n",
    "simulation_p1_e2_ref = scenario_p1_e2_ref.new_simulation()\n",
    "scenario_p1_e2_rdb = make_one_parent_scenario(2, 2015, reform)\n",
    "simulation_p1_e2_rdb = scenario_p1_e2_rdb.new_simulation()\n",
    "# comparaison du revenu disponible entre Reference et RDB\n",
    "revenu_disponible_p1_e2_ref = simulation_p1_e2_ref.calculate_add(\"revdisp\") / 12\n",
    "revenu_disponible_p1_e2_rdb = simulation_p1_e2_rdb.calculate_add(\"revdisp\") / 12\n",
    "\n",
    "salaire_de_base_p1_e2_ref = simulation_p1_e2_ref.calculate(\"salaire_de_base\") / 12\n",
    "salaire_de_base_p1_e2_rdb = simulation_p1_e2_rdb.calculate(\"salaire_de_base\") / 12\n",
    "\n",
    "# Attention à ne pas mettre d'accent (ex: \"é\") dans la légende\n",
    "# pour linestyle, cf. http://matplotlib.org/api/pyplot_api.html\n",
    "plt.plot(salaire_de_base_p1_e2_ref[::3], revenu_disponible_p1_e2_ref, 'k', linestyle='--', label='redistribution actuelle')\n",
    "plt.plot(salaire_de_base_p1_e2_rdb[::3], revenu_disponible_p1_e2_rdb, 'k', label='avec revenu de base')\n",
    "plt.xlabel(\"salaire brut mensuel\")\n",
    "plt.ylabel(\"revenu disponible\")\n",
    "plt.title(\"Comparaison avant/apres reforme pour un salarie avec 2 enfants, 2015\")\n",
    "plt.grid()\n",
    "plt.legend(loc=2)"
   ]
  },
  {
   "cell_type": "code",
   "execution_count": null,
   "metadata": {
    "collapsed": false
   },
   "outputs": [],
   "source": [
    "plt.plot(salaire_de_base_p2_e0_rdb[::2], revenu_disponible_p2_e0_rdb - revenu_disponible_p2_e0_ref)\n",
    "plt.xlabel(\"salaire brut mensuel\")\n",
    "plt.ylabel(\"revenu disponible additionnel\")\n",
    "plt.title(\"Difference de revenu mensuel avant/apres reforme pour un couple de salaries sans enfant, 2015\")\n",
    "plt.grid()\n",
    "plt.legend(loc=2)"
   ]
  },
  {
   "cell_type": "code",
   "execution_count": null,
   "metadata": {
    "collapsed": false
   },
   "outputs": [],
   "source": [
    "plt.plot(salaire_de_base_p2_e1_rdb[::3], revenu_disponible_p2_e1_rdb - revenu_disponible_p2_e1_ref)\n",
    "plt.xlabel(\"salaire brut mensuel\")\n",
    "plt.ylabel(\"revenu disponible additionnel\")\n",
    "plt.title(\"Difference avant/apres reforme pour un couple de salaries avec 1 enfant, 2015\")\n",
    "plt.grid()\n",
    "plt.legend(loc=2)"
   ]
  },
  {
   "cell_type": "code",
   "execution_count": null,
   "metadata": {
    "collapsed": false
   },
   "outputs": [],
   "source": [
    "plt.plot(salaire_de_base_p2_e2_rdb[::4], revenu_disponible_p2_e2_rdb - revenu_disponible_p2_e2_ref)\n",
    "plt.xlabel(\"salaire brut mensuel\")\n",
    "plt.ylabel(\"revenu disponible additionnel\")\n",
    "plt.title(\"Difference avant/apres reforme pour un couple de salaries avec 2 enfants, 2015\")\n",
    "plt.grid()\n",
    "plt.legend(loc=2)"
   ]
  },
  {
   "cell_type": "code",
   "execution_count": null,
   "metadata": {
    "collapsed": false
   },
   "outputs": [],
   "source": [
    "plt.plot(salaire_de_base_p1_e0_rdb, revenu_disponible_p1_e0_rdb - revenu_disponible_p1_e0_ref)\n",
    "plt.xlabel(\"salaire brut mensuel\")\n",
    "plt.ylabel(\"revenu disponible additionnel\")\n",
    "plt.title(\"Difference avant/apres reforme pour un salarie sans enfant, 2015\")\n",
    "plt.grid()\n",
    "plt.legend(loc=2)"
   ]
  },
  {
   "cell_type": "code",
   "execution_count": null,
   "metadata": {
    "collapsed": false
   },
   "outputs": [],
   "source": [
    "plt.plot(salaire_de_base_p1_e1_rdb[::2], revenu_disponible_p1_e1_rdb - revenu_disponible_p1_e1_ref)\n",
    "plt.xlabel(\"salaire brut mensuel\")\n",
    "plt.ylabel(\"revenu disponible additionnel\")\n",
    "plt.title(\"Difference avant/apres reforme pour un salarie avec 1 enfant, 2015\")\n",
    "plt.grid()\n",
    "plt.legend(loc=2)"
   ]
  },
  {
   "cell_type": "code",
   "execution_count": null,
   "metadata": {
    "collapsed": false
   },
   "outputs": [],
   "source": [
    "plt.plot(salaire_de_base_p1_e2_rdb[::3], (revenu_disponible_p1_e2_rdb - revenu_disponible_p1_e2_ref) / revenu_disponible_p1_e2_ref ) \n",
    "plt.xlabel(\"salaire brut mensuel\")\n",
    "plt.ylabel(\"revenu disponible additionnel (en %)\")\n",
    "plt.title(\"Difference avant/apres reforme pour un salarie avec 2 enfant, 2015\")\n",
    "plt.grid()\n",
    "plt.legend(loc=2)"
   ]
  },
  {
   "cell_type": "code",
   "execution_count": null,
   "metadata": {
    "collapsed": false
   },
   "outputs": [],
   "source": [
    "# Différentes activités possibles :\n",
    "# Salarié.e: 'salaire_de_base' (par défaut)\n",
    "# Retraité.e: 'retraite_brute'\n",
    "# Chômeur/se: 'chomage_brut'\n",
    "# Indépendant.e: 'tns_auto_entrepreneur_benefice'\n",
    "\n",
    "def make_one_scenario(activite = 'salaire_de_base', nombre_enfants = 0, year = None, tax_benefit_system = tax_benefit_system):\n",
    "    enfant = [dict(\n",
    "        date_naissance = date(2005, 1, 1),\n",
    "        )]\n",
    "    enfants = enfant * nombre_enfants\n",
    "    scenario = tax_benefit_system.new_scenario().init_single_entity(\n",
    "        axes = [[\n",
    "            dict(\n",
    "                count = nb_palier,\n",
    "                min = min_salaire_de_base,\n",
    "                max = max_salaire_de_base,\n",
    "                name = activite,\n",
    "                period = year,            \n",
    "                ),\n",
    "            dict(\n",
    "                count = nb_palier,\n",
    "                min = min_salaire_de_base,\n",
    "                max = max_salaire_de_base,\n",
    "                name = activite,\n",
    "                period = year-1,            \n",
    "                ),\n",
    "            dict(\n",
    "                count = nb_palier,\n",
    "                min = min_salaire_de_base,\n",
    "                max = max_salaire_de_base,\n",
    "                name = activite,\n",
    "                period = year-2,            \n",
    "                )\n",
    "            ]],\n",
    "        period = year,\n",
    "        parent1 = dict(\n",
    "            date_naissance = date(1980, 1, 1),\n",
    "            ),\n",
    "        enfants = enfants,\n",
    "        menage = dict(\n",
    "            loyer = 5000,\n",
    "            statut_occupation_logement = 4,\n",
    "            ),\n",
    "        )\n",
    "    return scenario"
   ]
  },
  {
   "cell_type": "code",
   "execution_count": null,
   "metadata": {
    "collapsed": false
   },
   "outputs": [],
   "source": [
    "# Retraité.e: 'retraite_brute'\n",
    "scenario_retraite_ref = make_one_scenario('retraite_brute', 0, 2015)\n",
    "simulation_retraite_ref = scenario_retraite_ref.new_simulation()\n",
    "scenario_retraite_rdb = make_one_scenario('retraite_brute', 0, 2015, reform)\n",
    "simulation_retraite_rdb = scenario_retraite_rdb.new_simulation()\n",
    "# comparaison du revenu disponible entre Reference et RDB\n",
    "revenu_disponible_retraite_ref = simulation_p1_e2_ref.calculate_add(\"revdisp\") / 12\n",
    "revenu_disponible_retraite_rdb = simulation_p1_e2_rdb.calculate_add(\"revdisp\") / 12\n",
    "\n",
    "retraite = simulation_retraite_rdb.calculate(\"retraite_brute\") / 12\n",
    "\n",
    "plt.plot(retraite, revenu_disponible_retraite_rdb - revenu_disponible_retraite_ref ) \n",
    "plt.xlabel(\"retraite brute mensuelle\")\n",
    "plt.ylabel(\"revenu disponible additionnel\")\n",
    "plt.title(\"Difference avant/apres reforme pour un retraite sans enfant, 2015\")\n",
    "plt.grid()\n",
    "plt.legend(loc=2)"
   ]
  },
  {
   "cell_type": "code",
   "execution_count": null,
   "metadata": {
    "collapsed": false
   },
   "outputs": [],
   "source": [
    "# Chômeur/se: 'chomage_brut'\n",
    "scenario_chomage_ref = make_one_scenario('chomage_brut', 0, 2015)\n",
    "simulation_chomage_ref = scenario_chomage_ref.new_simulation()\n",
    "scenario_chomage_rdb = make_one_scenario('chomage_brut', 0, 2015, reform)\n",
    "simulation_chomage_rdb = scenario_chomage_rdb.new_simulation()\n",
    "# comparaison du revenu disponible entre Reference et RDB\n",
    "revenu_disponible_chomage_ref = simulation_chomage_ref.calculate_add(\"revdisp\") / 12\n",
    "revenu_disponible_chomage_rdb = simulation_chomage_rdb.calculate_add(\"revdisp\") / 12\n",
    "\n",
    "chomage = simulation_chomage_rdb.calculate(\"chomage_brut\") / 12\n",
    "\n",
    "plt.plot(chomage, revenu_disponible_chomage_rdb - revenu_disponible_chomage_ref ) \n",
    "plt.xlabel(\"chomage brut mensuel\")\n",
    "plt.ylabel(\"revenu disponible additionnel\")\n",
    "plt.title(\"Difference avant/apres reforme pour un chomeur sans enfant, 2015\")\n",
    "plt.grid()\n",
    "plt.xlim(xmax = 6000)\n",
    "plt.legend(loc=2)"
   ]
  },
  {
   "cell_type": "code",
   "execution_count": null,
   "metadata": {
    "collapsed": false
   },
   "outputs": [],
   "source": [
    "# Indépendant.e: 'tns_auto_entrepreneur_benefice'\n",
    "scenario_tns_ref = make_one_scenario('tns_auto_entrepreneur_benefice', 0, 2015)\n",
    "simulation_tns_ref = scenario_tns_ref.new_simulation()\n",
    "scenario_tns_rdb = make_one_scenario('tns_auto_entrepreneur_benefice', 0, 2015, reform)\n",
    "simulation_tns_rdb = scenario_tns_rdb.new_simulation()\n",
    "# comparaison du revenu disponible entre Reference et RDB\n",
    "revenu_disponible_tns_ref = simulation_tns_ref.calculate_add(\"revdisp\") / 12\n",
    "revenu_disponible_tns_rdb = simulation_tns_rdb.calculate_add(\"revdisp\") / 12\n",
    "\n",
    "tns = simulation_tns_rdb.calculate(\"tns_auto_entrepreneur_benefice\") / 12\n",
    "\n",
    "plt.plot(tns, revenu_disponible_tns_rdb - revenu_disponible_tns_ref ) \n",
    "plt.xlabel(\"benefice brut mensuel\")\n",
    "plt.ylabel(\"revenu disponible additionnel\")\n",
    "plt.title(\"Difference avant/apres reforme pour un independant sans enfant, 2015\")\n",
    "plt.grid()\n",
    "plt.legend(loc=2)"
   ]
  },
  {
   "cell_type": "code",
   "execution_count": null,
   "metadata": {
    "collapsed": false
   },
   "outputs": [],
   "source": [
    "# Taux marginaux\n",
    "\n",
    "min_salaire_de_base = 0\n",
    "max_salaire_de_base = 120000\n",
    "pas = 600\n",
    "nb_palier = max_salaire_de_base / pas\n",
    "\n",
    "def make_precise_scenario(nombre_enfants = 0, year = None, tax_benefit_system = tax_benefit_system):\n",
    "    enfant = [dict(\n",
    "        date_naissance = date(2005, 1, 1),\n",
    "        )]\n",
    "    enfants = enfant * nombre_enfants\n",
    "    scenario = tax_benefit_system.new_scenario().init_single_entity(\n",
    "        axes = [[\n",
    "            dict(\n",
    "                count = nb_palier,\n",
    "                min = min_salaire_de_base,\n",
    "                max = max_salaire_de_base,\n",
    "                name = 'salaire_imposable',\n",
    "                period = year,            \n",
    "                ),\n",
    "            dict(\n",
    "                count = nb_palier,\n",
    "                min = min_salaire_de_base,\n",
    "                max = max_salaire_de_base,\n",
    "                name = 'salaire_imposable',\n",
    "                period = year-1,            \n",
    "                ),\n",
    "            dict(\n",
    "                count = nb_palier,\n",
    "                min = min_salaire_de_base,\n",
    "                max = max_salaire_de_base,\n",
    "                name = 'salaire_imposable',\n",
    "                period = year-2,            \n",
    "                )\n",
    "            ]],\n",
    "        period = year,\n",
    "        parent1 = dict(\n",
    "            date_naissance = date(1980, 1, 1),\n",
    "            ),\n",
    "        enfants = enfants,\n",
    "        menage = dict(\n",
    "            loyer = 5000,\n",
    "            statut_occupation_logement = 4,\n",
    "            ),\n",
    "        )\n",
    "    return scenario\n",
    "\n",
    "scenario_precise_ref = make_precise_scenario(0, 2015)\n",
    "simulation_precise_ref = scenario_precise_ref.new_simulation()\n",
    "scenario_precise_rdb = make_precise_scenario(0, 2015, reform)\n",
    "simulation_precise_rdb = scenario_precise_rdb.new_simulation()\n",
    "\n",
    "revenu_disponible_precise_ref = simulation_precise_ref.calculate_add(\"revdisp\") / 12\n",
    "revenu_disponible_precise_rdb = simulation_precise_rdb.calculate_add(\"revdisp\") / 12\n",
    "salaire_de_base_precise_ref = simulation_precise_ref.calculate(\"salaire_imposable\") / 12\n",
    "salaire_de_base_precise_rdb = simulation_precise_rdb.calculate(\"salaire_imposable\") / 12\n",
    "\n",
    "plt.plot(salaire_de_base_precise_ref[1:] + pas / 24, 1 - (revenu_disponible_precise_ref[1:] - revenu_disponible_precise_ref[:nb_palier-1]) / (pas / 12), 'r', label='redistribution actuelle')\n",
    "plt.plot(salaire_de_base_precise_rdb[1:] + pas / 24, 1 - (revenu_disponible_precise_rdb[1:] - revenu_disponible_precise_rdb[:nb_palier-1]) / (pas / 12), label='avec revenu de base')\n",
    "plt.xlabel(\"salaire imposable mensuel\")\n",
    "plt.ylabel(\"taux d'imposition marginal implicite\")\n",
    "plt.title(\"Comparaison avant/apres reforme pour un salarie sans enfant, 2015\")\n",
    "#plt.ylim((0,1))\n",
    "plt.xlim(xmax=4000)\n",
    "plt.grid()\n",
    "plt.legend(loc='lower right')"
   ]
  },
  {
   "cell_type": "code",
   "execution_count": null,
   "metadata": {
    "collapsed": false
   },
   "outputs": [],
   "source": [
    "# Taux marginaux\n",
    "\n",
    "min_salaire_de_base = 50\n",
    "max_salaire_de_base = 120000\n",
    "pas = 600\n",
    "nb_palier = max_salaire_de_base / pas\n",
    "\n",
    "def make_precise_scenario(nombre_enfants = 0, year = None, tax_benefit_system = tax_benefit_system):\n",
    "    enfant = [dict(\n",
    "        date_naissance = date(2005, 1, 1),\n",
    "        )]\n",
    "    enfants = enfant * nombre_enfants\n",
    "    scenario = tax_benefit_system.new_scenario().init_single_entity(\n",
    "        axes = [[\n",
    "            dict(\n",
    "                count = nb_palier,\n",
    "                min = min_salaire_de_base,\n",
    "                max = max_salaire_de_base,\n",
    "                name = 'salaire_de_base',\n",
    "                period = year,            \n",
    "                ),\n",
    "            dict(\n",
    "                count = nb_palier,\n",
    "                min = min_salaire_de_base,\n",
    "                max = max_salaire_de_base,\n",
    "                name = 'salaire_de_base',\n",
    "                period = year-1,            \n",
    "                ),\n",
    "            dict(\n",
    "                count = nb_palier,\n",
    "                min = min_salaire_de_base,\n",
    "                max = max_salaire_de_base,\n",
    "                name = 'salaire_de_base',\n",
    "                period = year-2,            \n",
    "                )\n",
    "            ]],\n",
    "        period = year,\n",
    "        parent1 = dict(\n",
    "            date_naissance = date(1980, 1, 1),\n",
    "            ),\n",
    "        enfants = enfants,\n",
    "        menage = dict(\n",
    "            loyer = 5000,\n",
    "            statut_occupation_logement = 4,\n",
    "            ),\n",
    "        )\n",
    "    return scenario\n",
    "\n",
    "scenario_precise_ref = make_precise_scenario(0, 2015)\n",
    "simulation_precise_ref = scenario_precise_ref.new_simulation()\n",
    "scenario_precise_rdb = make_precise_scenario(0, 2015, reform)\n",
    "simulation_precise_rdb = scenario_precise_rdb.new_simulation()\n",
    "\n",
    "revenu_disponible_precise_ref = simulation_precise_ref.calculate_add(\"revdisp\") / 12\n",
    "revenu_disponible_precise_rdb = simulation_precise_rdb.calculate_add(\"revdisp\") / 12\n",
    "salaire_de_base_precise_ref = simulation_precise_ref.calculate(\"salaire_de_base\") / 12\n",
    "salaire_de_base_precise_rdb = simulation_precise_rdb.calculate(\"salaire_de_base\") / 12\n",
    "\n",
    "plt.plot(salaire_de_base_precise_ref[1:] + pas / 24, 1 - (revenu_disponible_precise_ref[1:] - revenu_disponible_precise_ref[:nb_palier-1]) / (pas / 12), 'r', label='redistribution actuelle')\n",
    "plt.plot(salaire_de_base_precise_rdb[1:] + pas / 24, 1 - (revenu_disponible_precise_rdb[1:] - revenu_disponible_precise_rdb[:nb_palier-1]) / (pas / 12), label='avec revenu de base')\n",
    "plt.xlabel(\"salaire brut mensuel\")\n",
    "plt.ylabel(\"taux d'imposition marginal implicite\")\n",
    "plt.title(\"Comparaison avant/apres reforme pour un salarie sans enfant, 2015\")\n",
    "plt.ylim((0,1))\n",
    "plt.xlim(xmax=4000)\n",
    "plt.grid()\n",
    "plt.legend(loc='lower right')"
   ]
  },
  {
   "cell_type": "code",
   "execution_count": null,
   "metadata": {
    "collapsed": false
   },
   "outputs": [],
   "source": [
    "# Taux moyens\n",
    "plt.plot(salaire_de_base_precise_ref, 1 - (revenu_disponible_precise_ref - revenu_disponible_precise_ref[0]) / salaire_de_base_precise_ref, 'r', label='redistribution actuelle')\n",
    "plt.plot(salaire_de_base_precise_rdb, 1 - (revenu_disponible_precise_rdb - revenu_disponible_precise_rdb[0]) / salaire_de_base_precise_rdb, label='avec revenu de base')\n",
    "plt.xlabel(\"salaire brut mensuel\")\n",
    "plt.ylabel(\"taux d'imposition moyen implicite\")\n",
    "plt.title(\"Comparaison avant/apres reforme pour un salarie sans enfant, 2015\")\n",
    "#plt.ylim((-1,0.5))\n",
    "plt.xlim(xmax=5000)\n",
    "plt.grid()\n",
    "plt.legend(loc='lower right')"
   ]
  },
  {
   "cell_type": "code",
   "execution_count": null,
   "metadata": {
    "collapsed": false
   },
   "outputs": [],
   "source": [
    "plt.plot(salaire_de_base_precise_rdb, revenu_disponible_precise_rdb)"
   ]
  },
  {
   "cell_type": "code",
   "execution_count": null,
   "metadata": {
    "collapsed": false
   },
   "outputs": [],
   "source": [
    "revenu_disponible_precise_ref"
   ]
  },
  {
   "cell_type": "code",
   "execution_count": null,
   "metadata": {
    "collapsed": false
   },
   "outputs": [],
   "source": [
    "revenu_disponible_precise_rdb"
   ]
  },
  {
   "cell_type": "code",
   "execution_count": null,
   "metadata": {
    "collapsed": false
   },
   "outputs": [],
   "source": [
    "    reref= simulation_precise_ref.calculate(\"agff_salarie\", simulation_first_month) \n",
    "\n",
    "    rerdb= simulation_precise_ref.calculate(\"arrco_salarie\", simulation_first_month) \n",
    "    r= simulation_precise_ref.calculate(\"vieillesse_deplafonnee_salarie\", simulation_first_month)\n",
    "    rev= simulation_precise_ref.calculate(\"vieillesse_plafonnee_salarie\", simulation_first_month)\n"
   ]
  },
  {
   "cell_type": "code",
   "execution_count": null,
   "metadata": {
    "collapsed": false
   },
   "outputs": [],
   "source": [
    "arrco1=simulation_precise_ref.calculate(\"assiette_cotisations_sociales\", simulation_first_month) \n",
    "\n",
    "arrco3=simulation_precise_ref.calculate(\"assiette_cotisations_sociales_prive\", simulation_first_month) \n",
    "arrco4=simulation_precise_ref.calculate(\"assiette_cotisations_sociales_public\", simulation_first_month) \n",
    "arrco5=simulation_precise_ref.calculate(\"stage_gratification_reintegration\", simulation_first_month) \n",
    "\n",
    "\n"
   ]
  },
  {
   "cell_type": "code",
   "execution_count": null,
   "metadata": {
    "collapsed": false
   },
   "outputs": [],
   "source": [
    "arrco1"
   ]
  }
 ],
 "metadata": {
  "kernelspec": {
   "display_name": "Python 2",
   "language": "python",
   "name": "python2"
  },
  "language_info": {
   "codemirror_mode": {
    "name": "ipython",
    "version": 2
   },
   "file_extension": ".py",
   "mimetype": "text/x-python",
   "name": "python",
   "nbconvert_exporter": "python",
   "pygments_lexer": "ipython2",
   "version": "2.7.9"
  }
 },
 "nbformat": 4,
 "nbformat_minor": 0
}
