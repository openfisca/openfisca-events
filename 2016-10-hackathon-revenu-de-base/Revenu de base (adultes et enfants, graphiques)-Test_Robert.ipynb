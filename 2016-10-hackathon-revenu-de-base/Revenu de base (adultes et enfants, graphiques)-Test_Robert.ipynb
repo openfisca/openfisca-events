{
 "cells": [
  {
   "cell_type": "code",
   "execution_count": 1,
   "metadata": {
    "collapsed": false
   },
   "outputs": [
    {
     "ename": "ImportError",
     "evalue": "cannot import name web_tools",
     "output_type": "error",
     "traceback": [
      "\u001b[1;31m---------------------------------------------------------------------------\u001b[0m",
      "\u001b[1;31mImportError\u001b[0m                               Traceback (most recent call last)",
      "\u001b[1;32m<ipython-input-1-ad79f5055afd>\u001b[0m in \u001b[0;36m<module>\u001b[1;34m()\u001b[0m\n\u001b[0;32m      7\u001b[0m \u001b[1;33m\u001b[0m\u001b[0m\n\u001b[0;32m      8\u001b[0m \u001b[1;31m# to debug / trace\u001b[0m\u001b[1;33m\u001b[0m\u001b[1;33m\u001b[0m\u001b[0m\n\u001b[1;32m----> 9\u001b[1;33m \u001b[1;32mfrom\u001b[0m \u001b[0mopenfisca_core\u001b[0m \u001b[1;32mimport\u001b[0m \u001b[0mweb_tools\u001b[0m\u001b[1;33m\u001b[0m\u001b[0m\n\u001b[0m\u001b[0;32m     10\u001b[0m \u001b[1;33m\u001b[0m\u001b[0m\n",
      "\u001b[1;31mImportError\u001b[0m: cannot import name web_tools"
     ]
    }
   ],
   "source": [
    "from datetime import date\n",
    "\n",
    "\n",
    "import openfisca_france\n",
    "from openfisca_france.model.base import *\n",
    "\n",
    "\n",
    "# to debug / trace\n",
    "from openfisca_core import web_tools\n",
    "\n"
   ]
  },
  {
   "cell_type": "markdown",
   "metadata": {},
   "source": [
    "## Adaptation pour faciliter l'usage de ce notebook"
   ]
  },
  {
   "cell_type": "markdown",
   "metadata": {},
   "source": [
    "_Ce correctif permet de redéfinir plusieurs fois la même variable sans provoquer d'erreur._"
   ]
  },
  {
   "cell_type": "code",
   "execution_count": 2,
   "metadata": {
    "collapsed": false
   },
   "outputs": [
    {
     "ename": "ImportError",
     "evalue": "cannot import name entity_class_by_symbol",
     "output_type": "error",
     "traceback": [
      "\u001b[1;31m---------------------------------------------------------------------------\u001b[0m",
      "\u001b[1;31mImportError\u001b[0m                               Traceback (most recent call last)",
      "\u001b[1;32m<ipython-input-2-f38014ebc981>\u001b[0m in \u001b[0;36m<module>\u001b[1;34m()\u001b[0m\n\u001b[0;32m      1\u001b[0m \u001b[1;32mimport\u001b[0m \u001b[0mfunctools\u001b[0m\u001b[1;33m\u001b[0m\u001b[0m\n\u001b[0;32m      2\u001b[0m \u001b[1;33m\u001b[0m\u001b[0m\n\u001b[1;32m----> 3\u001b[1;33m \u001b[1;32mfrom\u001b[0m \u001b[0mopenfisca_france\u001b[0m\u001b[1;33m.\u001b[0m\u001b[0mentities\u001b[0m \u001b[1;32mimport\u001b[0m \u001b[0mentity_class_by_symbol\u001b[0m\u001b[1;33m\u001b[0m\u001b[0m\n\u001b[0m\u001b[0;32m      4\u001b[0m \u001b[1;33m\u001b[0m\u001b[0m\n",
      "\u001b[1;31mImportError\u001b[0m: cannot import name entity_class_by_symbol"
     ]
    }
   ],
   "source": [
    "import functools\n",
    "\n",
    "from openfisca_france.entities import entity_class_by_symbol\n",
    "\n"
   ]
  },
  {
   "cell_type": "markdown",
   "metadata": {},
   "source": [
    "# Système socio-fiscal"
   ]
  },
  {
   "cell_type": "code",
   "execution_count": 3,
   "metadata": {
    "collapsed": false
   },
   "outputs": [],
   "source": [
    "#- Hausse de la CSG déductible au taux de 20%\n",
    "#montant_csg_crds calcul à partir csg.activite.deductible.taux\n",
    "\n",
    "\n",
    "\n",
    "\n",
    "import json\n",
    "\n",
    "# import pdb; pdb.set_trace() \n",
    "\n",
    "def modify_legislation_json(reference_legislation_json_copy): \n",
    "   \n",
    "    for value_json in reference_legislation_json_copy['children']['csg']['children']['activite']['children']['deductible']['children']['taux']['values']:\n",
    "        value_json['value'] = 0.23\n",
    "    return reference_legislation_json_copy\n",
    " \n",
    "\n",
    "\n"
   ]
  },
  {
   "cell_type": "code",
   "execution_count": 4,
   "metadata": {
    "collapsed": false
   },
   "outputs": [
    {
     "ename": "AttributeError",
     "evalue": "'module' object has no attribute 'init_tax_benefit_system'",
     "output_type": "error",
     "traceback": [
      "\u001b[1;31m---------------------------------------------------------------------------\u001b[0m",
      "\u001b[1;31mAttributeError\u001b[0m                            Traceback (most recent call last)",
      "\u001b[1;32m<ipython-input-4-c29d13c4c3d4>\u001b[0m in \u001b[0;36m<module>\u001b[1;34m()\u001b[0m\n\u001b[1;32m----> 1\u001b[1;33m \u001b[0mtax_benefit_system\u001b[0m \u001b[1;33m=\u001b[0m \u001b[0mopenfisca_france\u001b[0m\u001b[1;33m.\u001b[0m\u001b[0minit_tax_benefit_system\u001b[0m\u001b[1;33m(\u001b[0m\u001b[1;33m)\u001b[0m\u001b[1;33m\u001b[0m\u001b[0m\n\u001b[0m",
      "\u001b[1;31mAttributeError\u001b[0m: 'module' object has no attribute 'init_tax_benefit_system'"
     ]
    }
   ],
   "source": [
    "tax_benefit_system = openfisca_france.init_tax_benefit_system()"
   ]
  },
  {
   "cell_type": "code",
   "execution_count": 5,
   "metadata": {
    "collapsed": false
   },
   "outputs": [],
   "source": [
    "from openfisca_core import reforms\n"
   ]
  },
  {
   "cell_type": "code",
   "execution_count": null,
   "metadata": {
    "collapsed": false
   },
   "outputs": [],
   "source": [
    "ReformeRevenuDeBase = reforms.make_reform(\n",
    "    key = 'reforme_rdb',\n",
    "    name = u\"Réforme Revenu de base\",\n",
    "    reference = tax_benefit_system,\n",
    "    )\n"
   ]
  },
  {
   "cell_type": "markdown",
   "metadata": {},
   "source": [
    "# Réforme : 1. Revenu de base"
   ]
  },
  {
   "cell_type": "code",
   "execution_count": null,
   "metadata": {
    "collapsed": true
   },
   "outputs": [],
   "source": [
    "# Suppression des allocations familiales\n",
    "\n",
    "class af(ReformeRevenuDeBase.Variable):\n",
    "    reference = Familles.column_by_name['af']\n",
    "\n",
    "    def function(self, simulation, period):\n",
    "        period = period.this_month\n",
    "        af_base = simulation.calculate('af_base', period)\n",
    "        af_majo = simulation.calculate('af_majo', period)\n",
    "        af_forf = simulation.calculate('af_forf', period)\n",
    "\n",
    "        #return period, af_base + af_majo + af_forf\n",
    "        return period, af_base * 0"
   ]
  },
  {
   "cell_type": "code",
   "execution_count": null,
   "metadata": {
    "collapsed": false
   },
   "outputs": [],
   "source": [
    "from numpy import logical_not as not_, minimum as min_, maximum as max_, logical_and as and_, logical_or as or_\n",
    "#- Hausse de la CSG déductible au taux de 25%\n",
    "#- Mise en place d'un revenu de base adulte égal à RSA socle célibataire - forfait logement célibataire\n",
    "#- Intégrer le revenu de base au revenu disponible\n",
    "#- Mise en place d'un crédit d'impot familles monoparentales montant ??? (50€)\n",
    "#- Supprimer le RSA\n",
    "\n",
    "\n",
    "#-Visualisation graphique en abscisse salaire brut et en ordonnée variation du revenu disponible \n",
    "# pour un célibataire sans enfant\n",
    "# pour un couple sans enfant\n",
    "# une famille monoparentale\n",
    "\n",
    "\n",
    "#(- Nouveau calcul de l'IRPP)\n"
   ]
  },
  {
   "cell_type": "code",
   "execution_count": null,
   "metadata": {
    "collapsed": false
   },
   "outputs": [],
   "source": [
    "#- Mise en place d'un revenu de base adulte égal à RSA socle célibataire - forfait logement célibataire\n",
    "\n",
    "class rdb(ReformeRevenuDeBase.Variable):\n",
    "    column = FloatCol\n",
    "    entity_class = Individus\n",
    "    label = u\"Revenu de base\"\n",
    "\n",
    "    def function(self, simulation, period):\n",
    "        period = period.start.offset('first-of', 'month').period('month')\n",
    "        age = simulation.calculate('age') \n",
    "        rmi = simulation.legislation_at(period.start).minim.rmi\n",
    "        \n",
    "        return period, ((age >= 18) * rmi.rmi * ( 1 -rmi.forfait_logement.taux1) + not_(age >= 18) * 0)\n",
    "\n"
   ]
  },
  {
   "cell_type": "code",
   "execution_count": null,
   "metadata": {
    "collapsed": false
   },
   "outputs": [],
   "source": [
    "    # On enlève les enfants du calcul du nbptr (quotient_familial.enf*)\n",
    "class nbptr(ReformeRevenuDeBase.Variable):\n",
    "        reference = FoyersFiscaux.column_by_name['nbptr']\n",
    "\n",
    "    \n",
    "    \n",
    "    def function(self, simulation, period):\n",
    "        '''\n",
    "        Nombre de parts du foyer\n",
    "        'foy'\n",
    "        note 1 enfants et résidence alternée (formulaire 2041 GV page 10)\n",
    "\n",
    "        quotient_familial.conj : nb part associées au conjoint d'un couple marié ou pacsé\n",
    "        quotient_familial.enf1 : nb part 2 premiers enfants\n",
    "        quotient_familial.enf2 : nb part enfants de rang 3 ou plus\n",
    "        quotient_familial.inv1 : nb part supp enfants invalides (I, G)\n",
    "        quotient_familial.inv2 : nb part supp adultes invalides (R)\n",
    "        quotient_familial.not31 : nb part supp note 3 : cases W ou G pour veuf, celib ou div\n",
    "        quotient_familial.not32 : nb part supp note 3 : personne seule ayant élevé des enfants\n",
    "        quotient_familial.not41 : nb part supp adultes invalides (vous et/ou conjoint) note 4\n",
    "        quotient_familial.not42 : nb part supp adultes anciens combattants (vous et/ou conjoint) note 4\n",
    "        quotient_familial.not6 : nb part supp note 6\n",
    "        quotient_familial.isol : demi-part parent isolé (T)\n",
    "        quotient_familial.edcd : enfant issu du mariage avec conjoint décédé;\n",
    "        '''\n",
    "        period = period.start.offset('first-of', 'month').period('year')\n",
    "        nb_pac = simulation.calculate('nb_pac', period)\n",
    "        marpac = simulation.calculate('marpac', period)\n",
    "        celdiv = simulation.calculate('celdiv', period)\n",
    "        veuf = simulation.calculate('veuf', period)\n",
    "        jveuf = simulation.calculate('jveuf', period)\n",
    "        nbF = simulation.calculate('nbF', period)\n",
    "        nbG = simulation.calculate('nbG', period)\n",
    "        nbH = simulation.calculate('nbH', period)\n",
    "        nbI = simulation.calculate('nbI', period)\n",
    "        nbR = simulation.calculate('nbR', period)\n",
    "        nbJ = simulation.calculate('nbJ', period)\n",
    "        caseP = simulation.calculate('caseP', period)\n",
    "        caseW = simulation.calculate('caseW', period)\n",
    "        caseG = simulation.calculate('caseG', period)\n",
    "        caseE = simulation.calculate('caseE', period)\n",
    "        caseK = simulation.calculate('caseK', period)\n",
    "        caseN = simulation.calculate('caseN', period)\n",
    "        caseF = simulation.calculate('caseF', period)\n",
    "        caseS = simulation.calculate('caseS', period)\n",
    "        caseL = simulation.calculate('caseL', period)\n",
    "        caseT = simulation.calculate('caseT', period)\n",
    "        quotient_familial = simulation.legislation_at(period.start).ir.quotient_familial\n",
    "\n",
    "        no_pac = nb_pac == 0  # Aucune personne à charge en garde exclusive\n",
    "        has_pac = not_(no_pac)\n",
    "        no_alt = nbH == 0  # Aucun enfant à charge en garde alternée\n",
    "        has_alt = not_(no_alt)\n",
    "\n",
    "        # # nombre de parts liées aux enfants à charge\n",
    "        # que des enfants en résidence alternée\n",
    "        enf1 = (no_pac & has_alt) * (quotient_familial.enf1 * min_(nbH, 2) * 0.5\n",
    "                                     + quotient_familial.enf2 * max_(nbH - 2, 0) * 0.5)\n",
    "        # pas que des enfants en résidence alternée\n",
    "        enf2 = (has_pac & has_alt) * ((nb_pac == 1) * (quotient_familial.enf1 * min_(nbH, 1) * 0.5\n",
    "            + quotient_familial.enf2 * max_(nbH - 1, 0) * 0.5) + (nb_pac > 1) * (quotient_familial.enf2 * nbH * 0.5))\n",
    "        # pas d'enfant en résidence alternée\n",
    "        enf3 = quotient_familial.enf1 * min_(nb_pac, 2) + quotient_familial.enf2 * max_((nb_pac - 2), 0)\n",
    "\n",
    "        enf = enf1 + enf2 + enf3\n",
    "        # # note 2 : nombre de parts liées aux invalides (enfant + adulte)\n",
    "        n2 = quotient_familial.inv1 * (nbG + nbI / 2) + quotient_familial.inv2 * nbR\n",
    "\n",
    "        # # note 3 : Pas de personne à charge\n",
    "        # - invalide\n",
    "\n",
    "        n31a = quotient_familial.not31a * (no_pac & no_alt & caseP)\n",
    "        # - ancien combatant\n",
    "        n31b = quotient_familial.not31b * (no_pac & no_alt & (caseW | caseG))\n",
    "        n31 = max_(n31a, n31b)\n",
    "        # - personne seule ayant élevé des enfants\n",
    "        n32 = quotient_familial.not32 * (no_pac & no_alt & ((caseE | caseK) & not_(caseN)))\n",
    "        n3 = max_(n31, n32)\n",
    "        # # note 4 Invalidité de la personne ou du conjoint pour les mariés ou\n",
    "        # # jeunes veuf(ve)s\n",
    "        n4 = max_(quotient_familial.not41 * (1 * caseP + 1 * caseF), quotient_familial.not42 * (caseW | caseS))\n",
    "\n",
    "        # # note 5\n",
    "        #  - enfant du conjoint décédé\n",
    "        n51 = quotient_familial.cdcd * (caseL & ((nbF + nbJ) > 0))\n",
    "        #  - enfant autre et parent isolé\n",
    "        n52 = quotient_familial.isol * caseT * (((no_pac & has_alt) * ((nbH == 1) * 0.5 + (nbH >= 2))) + 1 * has_pac)\n",
    "        n5 = max_(n51, n52)\n",
    "\n",
    "        # # note 6 invalide avec personne à charge\n",
    "        n6 = quotient_familial.not6 * (caseP & (has_pac | has_alt))\n",
    "\n",
    "        # # note 7 Parent isolé\n",
    "        n7 = quotient_familial.isol * caseT * ((no_pac & has_alt) * ((nbH == 1) * 0.5 + (nbH >= 2)) + 1 * has_pac)\n",
    "\n",
    "        # # Régime des mariés ou pacsés\n",
    "        #m = 1 + quotient_familial.conj + enf + n2 + n4\n",
    "        m = 1 + quotient_familial.conj + n2 + n4\n",
    "        \n",
    "        # # veufs  hors jveuf\n",
    "     # v = 1 + enf + n2 + n3 + n5 + n6\n",
    "        v = 1 + n2 + n3 + n5 + n6\n",
    "        \n",
    "        # # celib div\n",
    "        #c = 1 + enf + n2 + n3 + n6 + n7\n",
    "        c = 1 + n2 + n3 + n6 + n7\n",
    "\n",
    "        return period, (marpac | jveuf) * m + (veuf & not_(jveuf)) * v + celdiv * c\n"
   ]
  },
  {
   "cell_type": "code",
   "execution_count": null,
   "metadata": {
    "collapsed": true
   },
   "outputs": [],
   "source": [
    "from numpy import round\n",
    "\n",
    "# Suppression du complément familial\n",
    "\n",
    "class cf(ReformeRevenuDeBase.Variable):\n",
    "    reference = Familles.column_by_name['cf']\n",
    "\n",
    "    def function(self, simulation, period):\n",
    "        '''\n",
    "        L'allocation de base de la paje n'est pas cumulable avec le complément familial\n",
    "        '''\n",
    "        period = period.this_month\n",
    "        paje_base = simulation.calculate('paje_base', period)\n",
    "        apje_temp = simulation.calculate('apje_temp', period)\n",
    "        ape_temp = simulation.calculate('ape_temp', period)\n",
    "        cf_montant = simulation.calculate('cf_montant', period)\n",
    "        residence_mayotte = simulation.calculate('residence_mayotte', period)\n",
    "\n",
    "        cf_brut = not_(paje_base) * (apje_temp <= cf_montant) * (ape_temp <= cf_montant) * cf_montant\n",
    "        # return period, not_(residence_mayotte) * round(cf_brut, 2)\n",
    "        return period, not_(residence_mayotte) * round(cf_brut, 2) * 0"
   ]
  },
  {
   "cell_type": "code",
   "execution_count": null,
   "metadata": {
    "collapsed": true
   },
   "outputs": [],
   "source": [
    "\n",
    "# Suppression de l'allocation de rentrée scolaire\n",
    "\n",
    "class ars(ReformeRevenuDeBase.Variable):\n",
    "    reference = Familles.column_by_name['ars']\n",
    "\n",
    "    def function(self, simulation, period):\n",
    "        '''\n",
    "        Allocation de rentrée scolaire brute de CRDS\n",
    "        '''\n",
    "        period_br = period.this_year\n",
    "        return period_br, self.zeros()"
   ]
  },
  {
   "cell_type": "code",
   "execution_count": null,
   "metadata": {
    "collapsed": true
   },
   "outputs": [],
   "source": [
    "# Suppression de la cotisation patronale famille \n",
    "\n",
    "class famille(ReformeRevenuDeBase.Variable):\n",
    "    reference = Individus.column_by_name['famille']\n",
    "\n",
    "    def function(self, simulation, period):\n",
    "        # cotisation = apply_bareme(\n",
    "        #    simulation,\n",
    "        #    period,\n",
    "        #    cotisation_type = 'employeur',\n",
    "        #    bareme_name = 'famille',\n",
    "        #    variable_name = self.__class__.__name__,\n",
    "        #    )\n",
    "        #return period, cotisation        \n",
    "        return period, self.zeros()"
   ]
  },
  {
   "cell_type": "code",
   "execution_count": null,
   "metadata": {
    "collapsed": true
   },
   "outputs": [],
   "source": [
    "# Création d'un revenu de base enfant - Version individus au niveau des allocations familliales actuelles\n",
    "\n",
    "class rdb_enf(ReformeRevenuDeBase.Variable):\n",
    "    column = FloatCol\n",
    "    entity_class = Individus\n",
    "    label = u\"Revenu de base enfant\"\n",
    "\n",
    "    def function(self, simulation, period):\n",
    "        period = period.start.offset('first-of', 'month').period('month')\n",
    "        age = simulation.calculate('age')\n",
    "        P = simulation.legislation_at(period.start).fam.af        \n",
    "        bmaf = P.bmaf\n",
    "        \n",
    "        return period, ((age < 14) * 0.41 + not_(age < 14) * 0.57) * bmaf * (age <= 18)"
   ]
  },
  {
   "cell_type": "code",
   "execution_count": null,
   "metadata": {
    "collapsed": false
   },
   "outputs": [],
   "source": [
    "#- Mise en place d'un crédit d'impot familles monoparentales montant (150€)\n",
    "class credit_impot_monoparentales(ReformeRevenuDeBase.Variable):\n",
    "    column = FloatCol\n",
    "    entity_class = Menages\n",
    "    label = u\"credit_impot_monoparentales\"\n",
    "\n",
    "    def function(self, simulation, period):\n",
    "        period = period.start.offset('first-of', 'month').period('month')\n",
    "        nb_enf_a_charge = simulation.calculate('nombre_enfants_a_charge_menage',period)\n",
    "        caseT = simulation.calculate('caseT',period) #Egal True si le parent est isolé\n",
    "      \n",
    "        \n",
    "        #return period, or_(and_(age_holder >= 18, nb_enf_a_charge > 0, caseT), or_(age_holder < 18, nb_enf_a_charge <= 0, not_(caseT)) * 0) * 100\n",
    "        return period, (nb_enf_a_charge > 0) * (caseT) * 150\n",
    "    #Si le parent est isolé, avec au moins un enfant, et qu'il est majeur il reçoit la pension"
   ]
  },
  {
   "cell_type": "code",
   "execution_count": null,
   "metadata": {
    "collapsed": false
   },
   "outputs": [],
   "source": [
    "#- Supprimer le RSA\n",
    "class rsa_socle(ReformeRevenuDeBase.Variable):\n",
    "    reference = Familles.column_by_name['rsa_socle']\n",
    "\n",
    "    def function(self, simulation, period):\n",
    "        period = period.this_month\n",
    "        nb_par = simulation.calculate('nb_par', period)\n",
    "        eligib = simulation.calculate('rsa_eligibilite', period)\n",
    "        nb_enfant_rsa = simulation.calculate('nb_enfant_rsa', period)\n",
    "        rmi = simulation.legislation_at(period.start).minim.rmi\n",
    "\n",
    "        nbp = nb_par + nb_enfant_rsa\n",
    "\n",
    "        taux = (\n",
    "            1 +\n",
    "            (nbp >= 2) * rmi.txp2 +\n",
    "            (nbp >= 3) * rmi.txp3 +\n",
    "            (nbp >= 4) * ((nb_par == 1) * rmi.txps + (nb_par != 1) * rmi.txp3) +\n",
    "            max_(nbp - 4, 0) * rmi.txps\n",
    "        )\n",
    "        #on met à zéro\n",
    "        return period, eligib * rmi.rmi * taux * 0"
   ]
  },
  {
   "cell_type": "code",
   "execution_count": null,
   "metadata": {
    "collapsed": true
   },
   "outputs": [],
   "source": [
    "#- Intégrer le revenu de base au revenu disponible\n",
    "class revdisp(ReformeRevenuDeBase.Variable):\n",
    "    reference = Menages.column_by_name['revdisp']\n",
    "\n",
    "    def function(self, simulation, period):\n",
    "        '''\n",
    "        Revenu disponible - ménage\n",
    "        'men'\n",
    "        '''\n",
    "        period = period.start.period('year').offset('first-of')\n",
    "        rev_trav_holder = simulation.compute('rev_trav', period)\n",
    "        pen_holder = simulation.compute('pen', period)\n",
    "        rev_cap_holder = simulation.compute('rev_cap', period)\n",
    "        psoc_holder = simulation.compute('psoc', period)\n",
    "        ppe_holder = simulation.compute('ppe', period)\n",
    "        impo = simulation.calculate('impo', period)\n",
    "        rdb_holder = simulation.calculate_add('rdb', period)\n",
    "        credit_impot_familles_holder = simulation.calculate_add('credit_impot_monoparentales', period)\n",
    "        rdb_enf_holder = simulation.calculate_add('rdb_enf', period)\n",
    "\n",
    "        pen = self.sum_by_entity(pen_holder)\n",
    "        ppe = self.cast_from_entity_to_role(ppe_holder, role = VOUS)\n",
    "        ppe = self.sum_by_entity(ppe)\n",
    "        psoc = self.cast_from_entity_to_role(psoc_holder, role = CHEF)\n",
    "        psoc = self.sum_by_entity(psoc)\n",
    "        rev_cap = self.sum_by_entity(rev_cap_holder)\n",
    "        rev_trav = self.sum_by_entity(rev_trav_holder)\n",
    "        rdb = self.sum_by_entity(rdb_holder)\n",
    "        rdb_enf = self.sum_by_entity(rdb_enf_holder)\n",
    "        \n",
    "        return period, rev_trav + pen + rev_cap + psoc + ppe + impo + rdb + credit_impot_familles_holder + rdb_enf"
   ]
  },
  {
   "cell_type": "markdown",
   "metadata": {},
   "source": [
    "# Tests"
   ]
  },
  {
   "cell_type": "code",
   "execution_count": null,
   "metadata": {
    "collapsed": false
   },
   "outputs": [],
   "source": [
    "reform = ReformeRevenuDeBase()\n",
    "reform.modify_legislation_json(modifier_function = modify_legislation_json)"
   ]
  },
  {
   "cell_type": "code",
   "execution_count": null,
   "metadata": {
    "collapsed": true
   },
   "outputs": [],
   "source": [
    "parent1_salaire_de_base = 60000"
   ]
  },
  {
   "cell_type": "code",
   "execution_count": null,
   "metadata": {
    "collapsed": false
   },
   "outputs": [],
   "source": [
    "scenario_ref_individu_seul = tax_benefit_system.new_scenario().init_single_entity(\n",
    "    period = 2014,\n",
    "    parent1 = dict(\n",
    "        birth = date(1980, 1, 1),\n",
    "        salaire_de_base = parent1_salaire_de_base,\n",
    "        statmarit = u'Célibataire',\n",
    "    ),\n",
    "    foyer_fiscal = dict(\n",
    "        caseT = True,\n",
    "    ),\n",
    "    enfants = [\n",
    "        dict(\n",
    "            birth = date(2010, 1, 1),\n",
    "        ),\n",
    "    ],\n",
    "    )\n",
    "simulation_ref_individu_seul = scenario_ref_individu_seul.new_simulation(debug = True)\n",
    "\n"
   ]
  },
  {
   "cell_type": "code",
   "execution_count": null,
   "metadata": {
    "collapsed": false
   },
   "outputs": [],
   "source": [
    "scenario_rdb_individu_seul = reform.new_scenario().init_single_entity(\n",
    "    period = 2014,\n",
    "    parent1 = dict(\n",
    "        birth = date(1980, 1, 1),\n",
    "        salaire_de_base = parent1_salaire_de_base,\n",
    "        statmarit = u'Célibataire',\n",
    "    ),\n",
    "    foyer_fiscal = dict(\n",
    "        caseT = True,\n",
    "    ),\n",
    "    enfants = [\n",
    "        dict(\n",
    "            birth = date(2010, 1, 1),\n",
    "        ),\n",
    "    ],\n",
    "    )\n",
    "simulation_rdb_individu_seul = scenario_rdb_individu_seul.new_simulation(debug = True)"
   ]
  },
  {
   "cell_type": "markdown",
   "metadata": {},
   "source": [
    "Calculs de référence (revenu disponible, IR, RSA, CSG imposable/deductible, impot total) "
   ]
  },
  {
   "cell_type": "code",
   "execution_count": null,
   "metadata": {
    "collapsed": false
   },
   "outputs": [],
   "source": [
    "simulation_ref_individu_seul.calculate('revdisp')"
   ]
  },
  {
   "cell_type": "code",
   "execution_count": null,
   "metadata": {
    "collapsed": false
   },
   "outputs": [],
   "source": [
    "simulation_rdb_individu_seul.calculate_add('rdb_enf')"
   ]
  },
  {
   "cell_type": "code",
   "execution_count": null,
   "metadata": {
    "collapsed": false
   },
   "outputs": [],
   "source": [
    "simulation_ref_individu_seul.calculate_add('rsa')"
   ]
  },
  {
   "cell_type": "code",
   "execution_count": null,
   "metadata": {
    "collapsed": false
   },
   "outputs": [],
   "source": [
    "simulation_ref_individu_seul.calculate('csg_imposable_salaire')"
   ]
  },
  {
   "cell_type": "code",
   "execution_count": null,
   "metadata": {
    "collapsed": false
   },
   "outputs": [],
   "source": [
    "simulation_ref_individu_seul.calculate('csg_deductible_salaire')"
   ]
  },
  {
   "cell_type": "code",
   "execution_count": null,
   "metadata": {
    "collapsed": false
   },
   "outputs": [],
   "source": [
    "simulation_ref_individu_seul.calculate('tot_impot')"
   ]
  },
  {
   "cell_type": "markdown",
   "metadata": {},
   "source": [
    "Calculs avec réforme RDB (revenu disponible, IR, RSA, CSG imposable/deductible, impot total) "
   ]
  },
  {
   "cell_type": "code",
   "execution_count": null,
   "metadata": {
    "collapsed": false
   },
   "outputs": [],
   "source": [
    "simulation_rdb_individu_seul.calculate('revdisp')"
   ]
  },
  {
   "cell_type": "code",
   "execution_count": null,
   "metadata": {
    "collapsed": false
   },
   "outputs": [],
   "source": [
    "simulation_rdb_individu_seul.calculate('irpp')"
   ]
  },
  {
   "cell_type": "code",
   "execution_count": null,
   "metadata": {
    "collapsed": false
   },
   "outputs": [],
   "source": [
    "simulation_rdb_individu_seul.calculate('csg_deductible_salaire')"
   ]
  },
  {
   "cell_type": "code",
   "execution_count": null,
   "metadata": {
    "collapsed": false
   },
   "outputs": [],
   "source": [
    "simulation_rdb_individu_seul.calculate('tot_impot')"
   ]
  },
  {
   "cell_type": "code",
   "execution_count": null,
   "metadata": {
    "collapsed": false
   },
   "outputs": [],
   "source": [
    "# trace\n",
    "simulation_rdb_individu_seul.calculate('tot_impot')\n",
    "#print web_tools.get_trace_tool_link(scenario, ['tot_impot'])"
   ]
  },
  {
   "cell_type": "markdown",
   "metadata": {},
   "source": [
    "## Graphiques: scenario variant selon salaire_de_base (0 => 60k par palier de 5k)\n",
    "nb_pla = 5000\n",
    "min_salaire_de_base = 0\n",
    "max_salaire_de_base = 60000"
   ]
  },
  {
   "cell_type": "code",
   "execution_count": null,
   "metadata": {
    "collapsed": true
   },
   "outputs": [],
   "source": [
    "min_salaire_de_base = 0\n",
    "max_salaire_de_base = 120000\n",
    "pas = 5000\n",
    "nb_palier = max_salaire_de_base / pas"
   ]
  },
  {
   "cell_type": "code",
   "execution_count": null,
   "metadata": {
    "collapsed": false
   },
   "outputs": [],
   "source": [
    "import matplotlib\n",
    "import matplotlib.pyplot as plt\n",
    "%matplotlib inline"
   ]
  },
  {
   "cell_type": "code",
   "execution_count": null,
   "metadata": {
    "collapsed": false
   },
   "outputs": [],
   "source": [
    "def make_two_parents_scenario(nombre_enfants = 1, year = None, tax_benefit_system = tax_benefit_system):\n",
    "    enfant = [dict(\n",
    "        birth = date(2005, 1, 1),\n",
    "        )]\n",
    "    enfants = enfant * nombre_enfants\n",
    "    scenario = tax_benefit_system.new_scenario().init_single_entity(\n",
    "        axes = [[\n",
    "            dict(\n",
    "                count = nb_palier,\n",
    "                min = min_salaire_de_base,\n",
    "                max = max_salaire_de_base,\n",
    "                name = 'salaire_de_base',\n",
    "                period = year,            \n",
    "                ),\n",
    "            dict(\n",
    "                count = nb_palier,\n",
    "                min = min_salaire_de_base,\n",
    "                max = max_salaire_de_base,\n",
    "                name = 'salaire_de_base',\n",
    "                period = year-1,            \n",
    "                ),\n",
    "            dict(\n",
    "                count = nb_palier,\n",
    "                min = min_salaire_de_base,\n",
    "                max = max_salaire_de_base,\n",
    "                name = 'salaire_de_base',\n",
    "                period = year-2,            \n",
    "                )\n",
    "            ]],\n",
    "        period = year,\n",
    "        parent1 = dict(\n",
    "            birth = date(1980, 1, 1),\n",
    "            ),\n",
    "        parent2 = dict(\n",
    "            birth = date(1980, 1, 1),\n",
    "            ),\n",
    "        enfants = enfants,\n",
    "        menage = dict(\n",
    "            loyer = 5000,\n",
    "            statut_occupation = 4,\n",
    "            ),\n",
    "        )\n",
    "    return scenario\n",
    "\n"
   ]
  },
  {
   "cell_type": "code",
   "execution_count": null,
   "metadata": {
    "collapsed": false
   },
   "outputs": [],
   "source": [
    "def make_one_parent_scenario(nombre_enfants = 0, year = None, tax_benefit_system = tax_benefit_system):\n",
    "    enfant = [dict(\n",
    "        birth = date(2005, 1, 1),\n",
    "        )]\n",
    "    enfants = enfant * nombre_enfants\n",
    "    scenario = tax_benefit_system.new_scenario().init_single_entity(\n",
    "        axes = [[\n",
    "            dict(\n",
    "                count = nb_palier,\n",
    "                min = min_salaire_de_base,\n",
    "                max = max_salaire_de_base,\n",
    "                name = 'salaire_de_base',\n",
    "                period = year,            \n",
    "                ),\n",
    "            dict(\n",
    "                count = nb_palier,\n",
    "                min = min_salaire_de_base,\n",
    "                max = max_salaire_de_base,\n",
    "                name = 'salaire_de_base',\n",
    "                period = year-1,            \n",
    "                ),\n",
    "            dict(\n",
    "                count = nb_palier,\n",
    "                min = min_salaire_de_base,\n",
    "                max = max_salaire_de_base,\n",
    "                name = 'salaire_de_base',\n",
    "                period = year-2,            \n",
    "                )\n",
    "            ]],\n",
    "        period = year,\n",
    "        parent1 = dict(\n",
    "            birth = date(1980, 1, 1),\n",
    "            ),\n",
    "        enfants = enfants,\n",
    "        menage = dict(\n",
    "            loyer = 5000,\n",
    "            statut_occupation = 4,\n",
    "            ),\n",
    "        )\n",
    "    return scenario"
   ]
  },
  {
   "cell_type": "code",
   "execution_count": null,
   "metadata": {
    "collapsed": false
   },
   "outputs": [],
   "source": [
    "scenario_p2_e0_ref = make_two_parents_scenario(0, 2015)\n",
    "simulation_p2_e0_ref = scenario_p2_e0_ref.new_simulation()"
   ]
  },
  {
   "cell_type": "code",
   "execution_count": null,
   "metadata": {
    "collapsed": false
   },
   "outputs": [],
   "source": [
    "scenario_p2_e0_rdb = make_two_parents_scenario(0, 2015, reform)\n",
    "simulation_p2_e0_rdb = scenario_p2_e0_rdb.new_simulation()"
   ]
  },
  {
   "cell_type": "code",
   "execution_count": null,
   "metadata": {
    "collapsed": false
   },
   "outputs": [],
   "source": [
    "# comparaison du revenu disponible entre Reference et RDB\n",
    "revenu_disponible_p2_e0_ref = simulation_p2_e0_ref.calculate_add(\"revdisp\") / 12\n",
    "revenu_disponible_p2_e0_rdb = simulation_p2_e0_rdb.calculate_add(\"revdisp\") / 12\n",
    "\n",
    "salaire_de_base_p2_e0_ref = simulation_p2_e0_ref.calculate(\"salaire_de_base\") / 12\n",
    "salaire_de_base_p2_e0_rdb = simulation_p2_e0_rdb.calculate(\"salaire_de_base\") / 12\n",
    "\n",
    "# Attention à ne pas mettre d'accent (ex: \"é\") dans la légende\n",
    "plt.plot(salaire_de_base_p2_e0_ref[::2], revenu_disponible_p2_e0_ref, 'r', label='redistribution actuelle')\n",
    "plt.plot(salaire_de_base_p2_e0_rdb[::2], revenu_disponible_p2_e0_rdb, label='avec revenu de base')\n",
    "plt.xlabel(\"salaire brut mensuel\")\n",
    "plt.ylabel(\"revenu disponible\")\n",
    "plt.title(\"Comparaison avant/apres reforme pour un couple de salaries sans enfant, 2015\")\n",
    "plt.grid()\n",
    "plt.legend(loc=2)"
   ]
  },
  {
   "cell_type": "code",
   "execution_count": null,
   "metadata": {
    "collapsed": false
   },
   "outputs": [],
   "source": [
    "scenario_p2_e1_ref = make_two_parents_scenario(1, 2015)\n",
    "simulation_p2_e1_ref = scenario_p2_e1_ref.new_simulation()\n",
    "scenario_p2_e1_rdb = make_two_parents_scenario(1, 2015, reform)\n",
    "simulation_p2_e1_rdb = scenario_p2_e1_rdb.new_simulation()\n",
    "# comparaison du revenu disponible entre Reference et RDB\n",
    "revenu_disponible_p2_e1_ref = simulation_p2_e1_ref.calculate_add(\"revdisp\") / 12\n",
    "revenu_disponible_p2_e1_rdb = simulation_p2_e1_rdb.calculate_add(\"revdisp\") / 12\n",
    "\n",
    "salaire_de_base_p2_e1_ref = simulation_p2_e1_ref.calculate(\"salaire_de_base\") / 12\n",
    "salaire_de_base_p2_e1_rdb = simulation_p2_e1_rdb.calculate(\"salaire_de_base\") / 12\n",
    "\n",
    "# Attention à ne pas mettre d'accent (ex: \"é\") dans la légende\n",
    "plt.plot(salaire_de_base_p2_e1_ref[::3], revenu_disponible_p2_e1_ref, 'r', label='redistribution actuelle')\n",
    "plt.plot(salaire_de_base_p2_e1_rdb[::3], revenu_disponible_p2_e1_rdb, label='avec revenu de base')\n",
    "plt.xlabel(\"salaire brut mensuel\")\n",
    "plt.ylabel(\"revenu disponible\")\n",
    "plt.title(\"Comparaison avant/apres reforme pour un couple de salaries avec 1 enfant, 2015\")\n",
    "plt.grid()\n",
    "plt.legend(loc=2)"
   ]
  },
  {
   "cell_type": "code",
   "execution_count": null,
   "metadata": {
    "collapsed": false
   },
   "outputs": [],
   "source": [
    "scenario_p2_e2_ref = make_two_parents_scenario(2, 2015)\n",
    "simulation_p2_e2_ref = scenario_p2_e2_ref.new_simulation()\n",
    "scenario_p2_e2_rdb = make_two_parents_scenario(2, 2015, reform)\n",
    "simulation_p2_e2_rdb = scenario_p2_e2_rdb.new_simulation()\n",
    "# comparaison du revenu disponible entre Reference et RDB\n",
    "revenu_disponible_p2_e2_ref = simulation_p2_e2_ref.calculate_add(\"revdisp\") / 12\n",
    "revenu_disponible_p2_e2_rdb = simulation_p2_e2_rdb.calculate_add(\"revdisp\") / 12\n",
    "\n",
    "salaire_de_base_p2_e2_ref = simulation_p2_e2_ref.calculate(\"salaire_de_base\") / 12\n",
    "salaire_de_base_p2_e2_rdb = simulation_p2_e2_rdb.calculate(\"salaire_de_base\") / 12\n",
    "\n",
    "# Attention à ne pas mettre d'accent (ex: \"é\") dans la légende\n",
    "plt.plot(salaire_de_base_p2_e2_ref[::4], revenu_disponible_p2_e2_ref, 'r', label='redistribution actuelle')\n",
    "plt.plot(salaire_de_base_p2_e2_rdb[::4], revenu_disponible_p2_e2_rdb, label='avec revenu de base')\n",
    "plt.xlabel(\"salaire brut mensuel\")\n",
    "plt.ylabel(\"revenu disponible\")\n",
    "plt.title(\"Comparaison avant/apres reforme pour un couple de salaries avec 2 enfants, 2015\")\n",
    "plt.grid()\n",
    "plt.legend(loc=2)"
   ]
  },
  {
   "cell_type": "code",
   "execution_count": null,
   "metadata": {
    "collapsed": false
   },
   "outputs": [],
   "source": [
    "scenario_p2_e3_ref = make_two_parents_scenario(3, 2015)\n",
    "simulation_p2_e3_ref = scenario_p2_e3_ref.new_simulation()\n",
    "scenario_p2_e3_rdb = make_two_parents_scenario(3, 2015, reform)\n",
    "simulation_p2_e3_rdb = scenario_p2_e3_rdb.new_simulation()\n",
    "# comparaison du revenu disponible entre Reference et RDB\n",
    "revenu_disponible_p2_e3_ref = simulation_p2_e3_ref.calculate_add(\"revdisp\") / 12\n",
    "revenu_disponible_p2_e3_rdb = simulation_p2_e3_rdb.calculate_add(\"revdisp\") / 12\n",
    "\n",
    "salaire_de_base_p2_e3_ref = simulation_p2_e3_ref.calculate(\"salaire_de_base\") / 12\n",
    "salaire_de_base_p2_e3_rdb = simulation_p2_e3_rdb.calculate(\"salaire_de_base\") / 12\n",
    "\n",
    "# Attention à ne pas mettre d'accent (ex: \"é\") dans la légende\n",
    "plt.plot(salaire_de_base_p2_e3_ref[::5], revenu_disponible_p2_e3_ref, 'r', label='redistribution actuelle')\n",
    "plt.plot(salaire_de_base_p2_e3_rdb[::5], revenu_disponible_p2_e3_rdb, label='avec revenu de base')\n",
    "plt.xlabel(\"salaire brut mensuel\")\n",
    "plt.ylabel(\"revenu disponible\")\n",
    "plt.title(\"Comparaison avant/apres reforme pour un couple de salaries avec 2 enfants, 2015\")\n",
    "plt.grid()\n",
    "plt.legend(loc=2)"
   ]
  },
  {
   "cell_type": "code",
   "execution_count": null,
   "metadata": {
    "collapsed": false
   },
   "outputs": [],
   "source": [
    "scenario_p1_e0_ref = make_one_parent_scenario(0, 2015)\n",
    "simulation_p1_e0_ref = scenario_p1_e0_ref.new_simulation()\n",
    "scenario_p1_e0_rdb = make_one_parent_scenario(0, 2015, reform)\n",
    "simulation_p1_e0_rdb = scenario_p1_e0_rdb.new_simulation()\n",
    "# comparaison du revenu disponible entre Reference et RDB\n",
    "revenu_disponible_p1_e0_ref = simulation_p1_e0_ref.calculate_add(\"revdisp\") / 12\n",
    "revenu_disponible_p1_e0_rdb = simulation_p1_e0_rdb.calculate_add(\"revdisp\") / 12\n",
    "\n",
    "salaire_de_base_p1_e0_ref = simulation_p1_e0_ref.calculate(\"salaire_de_base\") / 12\n",
    "salaire_de_base_p1_e0_rdb = simulation_p1_e0_rdb.calculate(\"salaire_de_base\") / 12\n",
    "\n",
    "# Attention à ne pas mettre d'accent (ex: \"é\") dans la légende\n",
    "plt.plot(salaire_de_base_p1_e0_ref, revenu_disponible_p1_e0_ref, 'r', label='redistribution actuelle')\n",
    "plt.plot(salaire_de_base_p1_e0_rdb, revenu_disponible_p1_e0_rdb, label='avec revenu de base')\n",
    "plt.xlabel(\"salaire brut mensuel\")\n",
    "plt.ylabel(\"revenu disponible\")\n",
    "plt.title(\"Comparaison avant/apres reforme pour un salarie sans enfant, 2015\")\n",
    "plt.grid()\n",
    "plt.legend(loc=2)"
   ]
  },
  {
   "cell_type": "code",
   "execution_count": null,
   "metadata": {
    "collapsed": false
   },
   "outputs": [],
   "source": [
    "scenario_p1_e1_ref = make_one_parent_scenario(1, 2015)\n",
    "simulation_p1_e1_ref = scenario_p1_e1_ref.new_simulation()\n",
    "scenario_p1_e1_rdb = make_one_parent_scenario(1, 2015, reform)\n",
    "simulation_p1_e1_rdb = scenario_p1_e1_rdb.new_simulation()\n",
    "# comparaison du revenu disponible entre Reference et RDB\n",
    "revenu_disponible_p1_e1_ref = simulation_p1_e1_ref.calculate_add(\"revdisp\") / 12\n",
    "revenu_disponible_p1_e1_rdb = simulation_p1_e1_rdb.calculate_add(\"revdisp\") / 12\n",
    "\n",
    "salaire_de_base_p1_e1_ref = simulation_p1_e1_ref.calculate(\"salaire_de_base\") / 12\n",
    "salaire_de_base_p1_e1_rdb = simulation_p1_e1_rdb.calculate(\"salaire_de_base\") / 12\n",
    "\n",
    "# Attention à ne pas mettre d'accent (ex: \"é\") dans la légende\n",
    "plt.plot(salaire_de_base_p1_e1_ref[::2], revenu_disponible_p1_e1_ref, 'r', label='redistribution actuelle')\n",
    "plt.plot(salaire_de_base_p1_e1_rdb[::2], revenu_disponible_p1_e1_rdb, label='avec revenu de base')\n",
    "plt.xlabel(\"salaire brut mensuel\")\n",
    "plt.ylabel(\"revenu disponible\")\n",
    "plt.title(\"Comparaison avant/apres reforme pour un salarie avec 1 enfant, 2015\")\n",
    "plt.grid()\n",
    "plt.legend(loc=2)"
   ]
  },
  {
   "cell_type": "code",
   "execution_count": null,
   "metadata": {
    "collapsed": false
   },
   "outputs": [],
   "source": [
    "scenario_p1_e2_ref = make_one_parent_scenario(2, 2015)\n",
    "simulation_p1_e2_ref = scenario_p1_e2_ref.new_simulation()\n",
    "scenario_p1_e2_rdb = make_one_parent_scenario(2, 2015, reform)\n",
    "simulation_p1_e2_rdb = scenario_p1_e2_rdb.new_simulation()\n",
    "# comparaison du revenu disponible entre Reference et RDB\n",
    "revenu_disponible_p1_e2_ref = simulation_p1_e2_ref.calculate_add(\"revdisp\") / 12\n",
    "revenu_disponible_p1_e2_rdb = simulation_p1_e2_rdb.calculate_add(\"revdisp\") / 12\n",
    "\n",
    "salaire_de_base_p1_e2_ref = simulation_p1_e2_ref.calculate(\"salaire_de_base\") / 12\n",
    "salaire_de_base_p1_e2_rdb = simulation_p1_e2_rdb.calculate(\"salaire_de_base\") / 12\n",
    "\n",
    "# Attention à ne pas mettre d'accent (ex: \"é\") dans la légende\n",
    "# pour linestyle, cf. http://matplotlib.org/api/pyplot_api.html\n",
    "plt.plot(salaire_de_base_p1_e2_ref[::3], revenu_disponible_p1_e2_ref, 'k', linestyle='--', label='redistribution actuelle')\n",
    "plt.plot(salaire_de_base_p1_e2_rdb[::3], revenu_disponible_p1_e2_rdb, 'k', label='avec revenu de base')\n",
    "plt.xlabel(\"salaire brut mensuel\")\n",
    "plt.ylabel(\"revenu disponible\")\n",
    "plt.title(\"Comparaison avant/apres reforme pour un salarie avec 2 enfants, 2015\")\n",
    "plt.grid()\n",
    "plt.legend(loc=2)"
   ]
  },
  {
   "cell_type": "code",
   "execution_count": null,
   "metadata": {
    "collapsed": false
   },
   "outputs": [],
   "source": [
    "plt.plot(salaire_de_base_p2_e0_rdb[::2], revenu_disponible_p2_e0_rdb - revenu_disponible_p2_e0_ref)\n",
    "plt.xlabel(\"salaire brut mensuel\")\n",
    "plt.ylabel(\"revenu disponible additionnel\")\n",
    "plt.title(\"Difference avant/apres reforme pour un couple de salaries sans enfant, 2015\")\n",
    "plt.grid()\n",
    "plt.legend(loc=2)"
   ]
  },
  {
   "cell_type": "code",
   "execution_count": null,
   "metadata": {
    "collapsed": false
   },
   "outputs": [],
   "source": [
    "plt.plot(salaire_de_base_p2_e1_rdb[::3], revenu_disponible_p2_e1_rdb - revenu_disponible_p2_e1_ref)\n",
    "plt.xlabel(\"salaire brut mensuel\")\n",
    "plt.ylabel(\"revenu disponible additionnel\")\n",
    "plt.title(\"Difference avant/apres reforme pour un couple de salaries avec 1 enfant, 2015\")\n",
    "plt.grid()\n",
    "plt.legend(loc=2)"
   ]
  },
  {
   "cell_type": "code",
   "execution_count": null,
   "metadata": {
    "collapsed": false
   },
   "outputs": [],
   "source": [
    "plt.plot(salaire_de_base_p2_e2_rdb[::4], revenu_disponible_p2_e2_rdb - revenu_disponible_p2_e2_ref)\n",
    "plt.xlabel(\"salaire brut mensuel\")\n",
    "plt.ylabel(\"revenu disponible additionnel\")\n",
    "plt.title(\"Difference avant/apres reforme pour un couple de salaries avec 2 enfants, 2015\")\n",
    "plt.grid()\n",
    "plt.legend(loc=2)"
   ]
  },
  {
   "cell_type": "code",
   "execution_count": null,
   "metadata": {
    "collapsed": false
   },
   "outputs": [],
   "source": [
    "plt.plot(salaire_de_base_p1_e0_rdb, revenu_disponible_p1_e0_rdb - revenu_disponible_p1_e0_ref)\n",
    "plt.xlabel(\"salaire brut mensuel\")\n",
    "plt.ylabel(\"revenu disponible additionnel\")\n",
    "plt.title(\"Difference avant/apres reforme pour un salarie sans enfant, 2015\")\n",
    "plt.grid()\n",
    "plt.legend(loc=2)"
   ]
  },
  {
   "cell_type": "code",
   "execution_count": null,
   "metadata": {
    "collapsed": false
   },
   "outputs": [],
   "source": [
    "plt.plot(salaire_de_base_p1_e1_rdb[::2], revenu_disponible_p1_e1_rdb - revenu_disponible_p1_e1_ref)\n",
    "plt.xlabel(\"salaire brut mensuel\")\n",
    "plt.ylabel(\"revenu disponible additionnel\")\n",
    "plt.title(\"Difference avant/apres reforme pour un salarie avec 1 enfant, 2015\")\n",
    "plt.grid()\n",
    "plt.legend(loc=2)"
   ]
  },
  {
   "cell_type": "code",
   "execution_count": null,
   "metadata": {
    "collapsed": false
   },
   "outputs": [],
   "source": [
    "plt.plot(salaire_de_base_p1_e2_rdb[::3], (revenu_disponible_p1_e2_rdb - revenu_disponible_p1_e2_ref) / revenu_disponible_p1_e2_ref ) \n",
    "plt.xlabel(\"salaire brut mensuel\")\n",
    "plt.ylabel(\"revenu disponible additionnel (en %)\")\n",
    "plt.title(\"Difference avant/apres reforme pour un salarie avec 2 enfant, 2015\")\n",
    "plt.grid()\n",
    "plt.legend(loc=2)"
   ]
  },
  {
   "cell_type": "code",
   "execution_count": null,
   "metadata": {
    "collapsed": false
   },
   "outputs": [],
   "source": [
    "# Différentes activités possibles :\n",
    "# Salarié.e: 'salaire_de_base' (par défaut)\n",
    "# Retraité.e: 'retraite_brute'\n",
    "# Chômeur/se: 'chomage_brut'\n",
    "# Indépendant.e: 'tns_auto_entrepreneur_benefice'\n",
    "\n",
    "def make_one_scenario(activite = 'salaire_de_base', nombre_enfants = 0, year = None, tax_benefit_system = tax_benefit_system):\n",
    "    enfant = [dict(\n",
    "        birth = date(2005, 1, 1),\n",
    "        )]\n",
    "    enfants = enfant * nombre_enfants\n",
    "    scenario = tax_benefit_system.new_scenario().init_single_entity(\n",
    "        axes = [[\n",
    "            dict(\n",
    "                count = nb_palier,\n",
    "                min = min_salaire_de_base,\n",
    "                max = max_salaire_de_base,\n",
    "                name = activite,\n",
    "                period = year,            \n",
    "                ),\n",
    "            dict(\n",
    "                count = nb_palier,\n",
    "                min = min_salaire_de_base,\n",
    "                max = max_salaire_de_base,\n",
    "                name = activite,\n",
    "                period = year-1,            \n",
    "                ),\n",
    "            dict(\n",
    "                count = nb_palier,\n",
    "                min = min_salaire_de_base,\n",
    "                max = max_salaire_de_base,\n",
    "                name = activite,\n",
    "                period = year-2,            \n",
    "                )\n",
    "            ]],\n",
    "        period = year,\n",
    "        parent1 = dict(\n",
    "            birth = date(1980, 1, 1),\n",
    "            ),\n",
    "        enfants = enfants,\n",
    "        menage = dict(\n",
    "            loyer = 5000,\n",
    "            statut_occupation = 4,\n",
    "            ),\n",
    "        )\n",
    "    return scenario"
   ]
  },
  {
   "cell_type": "code",
   "execution_count": null,
   "metadata": {
    "collapsed": false
   },
   "outputs": [],
   "source": [
    "# Retraité.e: 'retraite_brute'\n",
    "scenario_retraite_ref = make_one_scenario('retraite_brute', 0, 2015)\n",
    "simulation_retraite_ref = scenario_retraite_ref.new_simulation()\n",
    "scenario_retraite_rdb = make_one_scenario('retraite_brute', 0, 2015, reform)\n",
    "simulation_retraite_rdb = scenario_retraite_rdb.new_simulation()\n",
    "# comparaison du revenu disponible entre Reference et RDB\n",
    "revenu_disponible_retraite_ref = simulation_p1_e2_ref.calculate_add(\"revdisp\") / 12\n",
    "revenu_disponible_retraite_rdb = simulation_p1_e2_rdb.calculate_add(\"revdisp\") / 12\n",
    "\n",
    "retraite = simulation_retraite_rdb.calculate(\"retraite_brute\") / 12\n",
    "\n",
    "plt.plot(retraite, revenu_disponible_retraite_rdb - revenu_disponible_retraite_ref ) \n",
    "plt.xlabel(\"retraite brute mensuelle\")\n",
    "plt.ylabel(\"revenu disponible additionnel\")\n",
    "plt.title(\"Difference avant/apres reforme pour un retraite sans enfant, 2015\")\n",
    "plt.grid()\n",
    "plt.legend(loc=2)"
   ]
  },
  {
   "cell_type": "code",
   "execution_count": null,
   "metadata": {
    "collapsed": false
   },
   "outputs": [],
   "source": [
    "# Chômeur/se: 'chomage_brut'\n",
    "scenario_chomage_ref = make_one_scenario('chomage_brut', 0, 2015)\n",
    "simulation_chomage_ref = scenario_chomage_ref.new_simulation()\n",
    "scenario_chomage_rdb = make_one_scenario('chomage_brut', 0, 2015, reform)\n",
    "simulation_chomage_rdb = scenario_chomage_rdb.new_simulation()\n",
    "# comparaison du revenu disponible entre Reference et RDB\n",
    "revenu_disponible_chomage_ref = simulation_chomage_ref.calculate_add(\"revdisp\") / 12\n",
    "revenu_disponible_chomage_rdb = simulation_chomage_rdb.calculate_add(\"revdisp\") / 12\n",
    "\n",
    "chomage = simulation_chomage_rdb.calculate(\"chomage_brut\") / 12\n",
    "\n",
    "plt.plot(chomage, revenu_disponible_chomage_rdb - revenu_disponible_chomage_ref ) \n",
    "plt.xlabel(\"chomage brut mensuel\")\n",
    "plt.ylabel(\"revenu disponible additionnel\")\n",
    "plt.title(\"Difference avant/apres reforme pour un chomeur sans enfant, 2015\")\n",
    "plt.grid()\n",
    "plt.xlim(xmax = 6000)\n",
    "plt.legend(loc=2)"
   ]
  },
  {
   "cell_type": "code",
   "execution_count": null,
   "metadata": {
    "collapsed": false
   },
   "outputs": [],
   "source": [
    "# Indépendant.e: 'tns_auto_entrepreneur_benefice'\n",
    "scenario_tns_ref = make_one_scenario('tns_auto_entrepreneur_benefice', 0, 2015)\n",
    "simulation_tns_ref = scenario_tns_ref.new_simulation()\n",
    "scenario_tns_rdb = make_one_scenario('tns_auto_entrepreneur_benefice', 0, 2015, reform)\n",
    "simulation_tns_rdb = scenario_tns_rdb.new_simulation()\n",
    "# comparaison du revenu disponible entre Reference et RDB\n",
    "revenu_disponible_tns_ref = simulation_tns_ref.calculate_add(\"revdisp\") / 12\n",
    "revenu_disponible_tns_rdb = simulation_tns_rdb.calculate_add(\"revdisp\") / 12\n",
    "\n",
    "tns = simulation_tns_rdb.calculate(\"tns_auto_entrepreneur_benefice\") / 12\n",
    "\n",
    "plt.plot(tns, revenu_disponible_tns_rdb - revenu_disponible_tns_ref ) \n",
    "plt.xlabel(\"benefice brut mensuel\")\n",
    "plt.ylabel(\"revenu disponible additionnel\")\n",
    "plt.title(\"Difference avant/apres reforme pour un independant sans enfant, 2015\")\n",
    "plt.grid()\n",
    "plt.legend(loc=2)"
   ]
  },
  {
   "cell_type": "code",
   "execution_count": null,
   "metadata": {
    "collapsed": false
   },
   "outputs": [],
   "source": [
    "# Taux marginaux\n",
    "\n",
    "min_salaire_de_base = 0\n",
    "max_salaire_de_base = 120000\n",
    "pas = 600\n",
    "nb_palier = max_salaire_de_base / pas\n",
    "\n",
    "def make_precise_scenario(nombre_enfants = 0, year = None, tax_benefit_system = tax_benefit_system):\n",
    "    enfant = [dict(\n",
    "        birth = date(2005, 1, 1),\n",
    "        )]\n",
    "    enfants = enfant * nombre_enfants\n",
    "    scenario = tax_benefit_system.new_scenario().init_single_entity(\n",
    "        axes = [[\n",
    "            dict(\n",
    "                count = nb_palier,\n",
    "                min = min_salaire_de_base,\n",
    "                max = max_salaire_de_base,\n",
    "                name = 'salaire_imposable',\n",
    "                period = year,            \n",
    "                ),\n",
    "            dict(\n",
    "                count = nb_palier,\n",
    "                min = min_salaire_de_base,\n",
    "                max = max_salaire_de_base,\n",
    "                name = 'salaire_imposable',\n",
    "                period = year-1,            \n",
    "                ),\n",
    "            dict(\n",
    "                count = nb_palier,\n",
    "                min = min_salaire_de_base,\n",
    "                max = max_salaire_de_base,\n",
    "                name = 'salaire_imposable',\n",
    "                period = year-2,            \n",
    "                )\n",
    "            ]],\n",
    "        period = year,\n",
    "        parent1 = dict(\n",
    "            birth = date(1980, 1, 1),\n",
    "            ),\n",
    "        enfants = enfants,\n",
    "        menage = dict(\n",
    "            loyer = 5000,\n",
    "            statut_occupation = 4,\n",
    "            ),\n",
    "        )\n",
    "    return scenario\n",
    "\n",
    "scenario_precise_ref = make_precise_scenario(0, 2015)\n",
    "simulation_precise_ref = scenario_precise_ref.new_simulation()\n",
    "scenario_precise_rdb = make_precise_scenario(0, 2015, reform)\n",
    "simulation_precise_rdb = scenario_precise_rdb.new_simulation()\n",
    "\n",
    "revenu_disponible_precise_ref = simulation_precise_ref.calculate_add(\"revdisp\") / 12\n",
    "revenu_disponible_precise_rdb = simulation_precise_rdb.calculate_add(\"revdisp\") / 12\n",
    "salaire_de_base_precise_ref = simulation_precise_ref.calculate(\"salaire_imposable\") / 12\n",
    "salaire_de_base_precise_rdb = simulation_precise_rdb.calculate(\"salaire_imposable\") / 12\n",
    "\n",
    "plt.plot(salaire_de_base_precise_ref[1:] + pas / 24, 1 - (revenu_disponible_precise_ref[1:] - revenu_disponible_precise_ref[:nb_palier-1]) / (pas / 12), 'r', label='redistribution actuelle')\n",
    "plt.plot(salaire_de_base_precise_rdb[1:] + pas / 24, 1 - (revenu_disponible_precise_rdb[1:] - revenu_disponible_precise_rdb[:nb_palier-1]) / (pas / 12), label='avec revenu de base')\n",
    "plt.xlabel(\"salaire imposable mensuel\")\n",
    "plt.ylabel(\"taux d'imposition marginal implicite\")\n",
    "plt.title(\"Comparaison avant/apres reforme pour un salarie sans enfant, 2015\")\n",
    "#plt.ylim((0,1))\n",
    "plt.xlim(xmax=4000)\n",
    "plt.grid()\n",
    "plt.legend(loc='lower right')"
   ]
  },
  {
   "cell_type": "code",
   "execution_count": null,
   "metadata": {
    "collapsed": false
   },
   "outputs": [],
   "source": [
    "# Taux marginaux\n",
    "\n",
    "min_salaire_de_base = 50\n",
    "max_salaire_de_base = 120000\n",
    "pas = 600\n",
    "nb_palier = max_salaire_de_base / pas\n",
    "\n",
    "def make_precise_scenario(nombre_enfants = 0, year = None, tax_benefit_system = tax_benefit_system):\n",
    "    enfant = [dict(\n",
    "        birth = date(2005, 1, 1),\n",
    "        )]\n",
    "    enfants = enfant * nombre_enfants\n",
    "    scenario = tax_benefit_system.new_scenario().init_single_entity(\n",
    "        axes = [[\n",
    "            dict(\n",
    "                count = nb_palier,\n",
    "                min = min_salaire_de_base,\n",
    "                max = max_salaire_de_base,\n",
    "                name = 'salaire_de_base',\n",
    "                period = year,            \n",
    "                ),\n",
    "            dict(\n",
    "                count = nb_palier,\n",
    "                min = min_salaire_de_base,\n",
    "                max = max_salaire_de_base,\n",
    "                name = 'salaire_de_base',\n",
    "                period = year-1,            \n",
    "                ),\n",
    "            dict(\n",
    "                count = nb_palier,\n",
    "                min = min_salaire_de_base,\n",
    "                max = max_salaire_de_base,\n",
    "                name = 'salaire_de_base',\n",
    "                period = year-2,            \n",
    "                )\n",
    "            ]],\n",
    "        period = year,\n",
    "        parent1 = dict(\n",
    "            birth = date(1980, 1, 1),\n",
    "            ),\n",
    "        enfants = enfants,\n",
    "        menage = dict(\n",
    "            loyer = 5000,\n",
    "            statut_occupation = 4,\n",
    "            ),\n",
    "        )\n",
    "    return scenario\n",
    "\n",
    "scenario_precise_ref = make_precise_scenario(0, 2015)\n",
    "simulation_precise_ref = scenario_precise_ref.new_simulation()\n",
    "scenario_precise_rdb = make_precise_scenario(0, 2015, reform)\n",
    "simulation_precise_rdb = scenario_precise_rdb.new_simulation()\n",
    "\n",
    "revenu_disponible_precise_ref = simulation_precise_ref.calculate_add(\"revdisp\") / 12\n",
    "revenu_disponible_precise_rdb = simulation_precise_rdb.calculate_add(\"revdisp\") / 12\n",
    "salaire_de_base_precise_ref = simulation_precise_ref.calculate(\"salaire_de_base\") / 12\n",
    "salaire_de_base_precise_rdb = simulation_precise_rdb.calculate(\"salaire_de_base\") / 12\n",
    "\n",
    "plt.plot(salaire_de_base_precise_ref[1:] + pas / 24, 1 - (revenu_disponible_precise_ref[1:] - revenu_disponible_precise_ref[:nb_palier-1]) / (pas / 12), 'r', label='redistribution actuelle')\n",
    "plt.plot(salaire_de_base_precise_rdb[1:] + pas / 24, 1 - (revenu_disponible_precise_rdb[1:] - revenu_disponible_precise_rdb[:nb_palier-1]) / (pas / 12), label='avec revenu de base')\n",
    "plt.xlabel(\"salaire brut mensuel\")\n",
    "plt.ylabel(\"taux d'imposition marginal implicite\")\n",
    "plt.title(\"Comparaison avant/apres reforme pour un salarie sans enfant, 2015\")\n",
    "plt.ylim((0,1))\n",
    "plt.xlim(xmax=4000)\n",
    "plt.grid()\n",
    "plt.legend(loc='lower right')"
   ]
  },
  {
   "cell_type": "code",
   "execution_count": null,
   "metadata": {
    "collapsed": false
   },
   "outputs": [],
   "source": [
    "# Taux moyens\n",
    "plt.plot(salaire_de_base_precise_ref, 1 - (revenu_disponible_precise_ref - revenu_disponible_precise_ref[0]) / salaire_de_base_precise_ref, 'r', label='redistribution actuelle')\n",
    "plt.plot(salaire_de_base_precise_rdb, 1 - (revenu_disponible_precise_rdb - revenu_disponible_precise_rdb[0]) / salaire_de_base_precise_rdb, label='avec revenu de base')\n",
    "plt.xlabel(\"salaire brut mensuel\")\n",
    "plt.ylabel(\"taux d'imposition moyen implicite\")\n",
    "plt.title(\"Comparaison avant/apres reforme pour un salarie sans enfant, 2015\")\n",
    "#plt.ylim((-1,0.5))\n",
    "plt.xlim(xmax=5000)\n",
    "plt.grid()\n",
    "plt.legend(loc='lower right')"
   ]
  },
  {
   "cell_type": "code",
   "execution_count": null,
   "metadata": {
    "collapsed": false
   },
   "outputs": [],
   "source": [
    "plt.plot(salaire_de_base_precise_rdb, revenu_disponible_precise_rdb)"
   ]
  },
  {
   "cell_type": "code",
   "execution_count": null,
   "metadata": {
    "collapsed": false
   },
   "outputs": [],
   "source": [
    "revenu_disponible_precise_ref"
   ]
  },
  {
   "cell_type": "code",
   "execution_count": null,
   "metadata": {
    "collapsed": false
   },
   "outputs": [],
   "source": [
    "revenu_disponible_precise_rdb"
   ]
  },
  {
   "cell_type": "code",
   "execution_count": null,
   "metadata": {
    "collapsed": false
   },
   "outputs": [],
   "source": [
    "    reref= simulation_precise_ref.calculate(\"agff_salarie\", '2015-01') \n",
    "\n",
    "    rerdb= simulation_precise_ref.calculate(\"arrco_salarie\", '2015-01') \n",
    "    r= simulation_precise_ref.calculate(\"vieillesse_deplafonnee_salarie\", '2015-01')\n",
    "    rev= simulation_precise_ref.calculate(\"vieillesse_plafonnee_salarie\", '2015-01')\n"
   ]
  },
  {
   "cell_type": "code",
   "execution_count": null,
   "metadata": {
    "collapsed": false
   },
   "outputs": [],
   "source": [
    "arrco1=simulation_precise_ref.calculate(\"assiette_cotisations_sociales\", '2015-01') \n",
    "\n",
    "arrco3=simulation_precise_ref.calculate(\"assiette_cotisations_sociales_prive\", '2015-01') \n",
    "arrco4=simulation_precise_ref.calculate(\"assiette_cotisations_sociales_public\", '2015-01') \n",
    "arrco5=simulation_precise_ref.calculate(\"stage_gratification_reintegration\", '2015-01') \n",
    "\n",
    "\n"
   ]
  },
  {
   "cell_type": "code",
   "execution_count": null,
   "metadata": {
    "collapsed": false
   },
   "outputs": [],
   "source": [
    "arrco1"
   ]
  },
  {
   "cell_type": "code",
   "execution_count": null,
   "metadata": {
    "collapsed": true
   },
   "outputs": [],
   "source": []
  },
  {
   "cell_type": "code",
   "execution_count": null,
   "metadata": {
    "collapsed": true
   },
   "outputs": [],
   "source": []
  },
  {
   "cell_type": "code",
   "execution_count": null,
   "metadata": {
    "collapsed": true
   },
   "outputs": [],
   "source": []
  },
  {
   "cell_type": "code",
   "execution_count": null,
   "metadata": {
    "collapsed": true
   },
   "outputs": [],
   "source": []
  },
  {
   "cell_type": "code",
   "execution_count": null,
   "metadata": {
    "collapsed": true
   },
   "outputs": [],
   "source": []
  },
  {
   "cell_type": "code",
   "execution_count": null,
   "metadata": {
    "collapsed": true
   },
   "outputs": [],
   "source": []
  },
  {
   "cell_type": "code",
   "execution_count": null,
   "metadata": {
    "collapsed": true
   },
   "outputs": [],
   "source": []
  }
 ],
 "metadata": {
  "kernelspec": {
   "display_name": "Python 2",
   "language": "python",
   "name": "python2"
  },
  "language_info": {
   "codemirror_mode": {
    "name": "ipython",
    "version": 2
   },
   "file_extension": ".py",
   "mimetype": "text/x-python",
   "name": "python",
   "nbconvert_exporter": "python",
   "pygments_lexer": "ipython2",
   "version": "2.7.12"
  }
 },
 "nbformat": 4,
 "nbformat_minor": 0
}
